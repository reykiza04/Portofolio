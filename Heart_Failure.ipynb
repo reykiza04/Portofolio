{
 "cells": [
  {
   "cell_type": "markdown",
   "metadata": {},
   "source": [
    "# 1. Perkenalan\n",
    "> Bab pengenalan harus diisi dengan identitas, gambaran besar dataset yang digunakan, dan *objective* yang ingin dicapai.\n",
    "\n",
    "      > Nama : Reyki seprianza\n",
    "\n",
    "      > Batch :009\n",
    "## Dataset Description\n",
    "[download_dataset](https://www.kaggle.com/andrewmvd/heart-failure-clinical-data). \n",
    "\n",
    "### Tentang Data\n",
    "\n",
    "Dataset from Davide Chicco, Giuseppe Jurman: â€œMachine learning can predict survival of patients with heart failure from serum creatinine and ejection fraction alone. BMC Medical Informatics and Decision Making 20, 16 (2020)\n",
    "\n",
    "Attribute Information:\n",
    "\n",
    "1. age = Age\n",
    "\n",
    "2. anaemia = Decrease of red blood cells or hemoglobin (boolean)\n",
    "\n",
    "3. creatinine_phosphokinase = Level of the CPK enzyme in the blood (mcg/L)\n",
    "\n",
    "4. diabetes = If the patient has diabetes (boolean)\n",
    "\n",
    "5. ejection_fraction = Percentage of blood leaving the heart at each contraction (percentage)\n",
    "\n",
    "6. high_blood_pressure =I f the patient has hypertension (boolean)\n",
    "\n",
    "7. platelets = Platelets in the blood (kiloplatelets/mL)\n",
    "\n",
    "8. serum_creatinine = Level of serum creatinine in the blood (mg/dL)\n",
    "\n",
    "9. serum_sodium = Level of serum sodium in the blood (mEq/L)\n",
    "\n",
    "10. sex = Woman or man (binary)\n",
    "\n",
    "11. smoking = If the patient smokes or not (boolean)\n",
    "\n",
    "12. time = Follow-up period (days)\n",
    "\n",
    "#### Target \n",
    "\n",
    "13. DEATH_EVENT = If the patient deceased during the follow-up period (boolean)"
   ]
  },
  {
   "cell_type": "markdown",
   "metadata": {},
   "source": [
    "# 2. Judul/Penanda Soal\n",
    "   > Sediakan cell markdown sebelum cell import pustaka yang berisi nomor soal dan judul problem yang dikerjakan disetiap soalnya. Setiap soal mengikuti format nomor 3-11.\n",
    "   ## Assignment Objectives \n",
    "   \n",
    "*Graded Challenge 3* ini dibuat guna mengevaluasi konsep Ensemble sebagai berikut:\n",
    "\n",
    "- Mampu memahami konsep Classification dengan Ensemble Model.\n",
    "- Mampu mempersiapkan data untuk digunakan dalam Ensemble Model.\n",
    "- Mampu mengimplementasikan Ensemble Model untuk membuat prediksi."
   ]
  },
  {
   "cell_type": "markdown",
   "metadata": {},
   "source": [
    "# 3. Import Pustaka\n",
    "   > Cell pertama pada *notebook* **harus berisi dan hanya berisi** semua *library* yang digunakan dalam *project*."
   ]
  },
  {
   "cell_type": "code",
   "execution_count": 75,
   "metadata": {},
   "outputs": [],
   "source": [
    "import numpy as np \n",
    "import pandas as pd\n",
    "import matplotlib.pyplot as plt\n",
    "import seaborn as sns\n",
    "import warnings\n",
    "import missingno as msno\n",
    "warnings.filterwarnings('ignore')\n",
    "import plotly.figure_factory as ff\n",
    "import plotly.express as px\n",
    "\n",
    "#preprocessing\n",
    "from sklearn.model_selection import train_test_split\n",
    "from sklearn.metrics import classification_report, confusion_matrix, roc_auc_score, roc_curve,accuracy_score, plot_roc_curve\n",
    "from sklearn.preprocessing import StandardScaler, OneHotEncoder, OrdinalEncoder\n",
    "from sklearn.pipeline import Pipeline\n",
    "from sklearn.compose import ColumnTransformer\n",
    "from feature_engine.outliers import Winsorizer,OutlierTrimmer\n",
    "\n",
    "\n",
    "#models\n",
    "#ensembles\n",
    "from sklearn.model_selection import GridSearchCV\n",
    "from sklearn.ensemble import RandomForestClassifier\n",
    "import xgboost as xgb\n",
    "from xgboost import XGBClassifier\n",
    "\n",
    "#evaluation\n",
    "from sklearn.model_selection import StratifiedKFold\n",
    "from sklearn.metrics import mean_absolute_error\n",
    "\n",
    "\n"
   ]
  },
  {
   "cell_type": "markdown",
   "metadata": {},
   "source": [
    "# 4. Data Loading\n",
    "   > Bagian ini berisi proses penyiapan data sebelum dilakukan eksplorasi data lebih lanjut. Proses Data Loading dapat berupa memberi nama baru untuk setiap kolom, mengecek ukuran dataset, dll.\n",
    "   "
   ]
  },
  {
   "cell_type": "code",
   "execution_count": 2,
   "metadata": {},
   "outputs": [],
   "source": [
    "#definisi randomstate agar tidak berubah kemudian dan set display menampilkan seluruh kolom\n",
    "np.random.seed(13)\n",
    "random_state = 14\n",
    "pd.set_option('display.max_columns', None)"
   ]
  },
  {
   "cell_type": "code",
   "execution_count": 3,
   "metadata": {},
   "outputs": [
    {
     "data": {
      "text/plain": [
       "(299, 13)"
      ]
     },
     "execution_count": 3,
     "metadata": {},
     "output_type": "execute_result"
    }
   ],
   "source": [
    "df0 = pd.read_csv('heart_failure_clinical_records_dataset.csv')\n",
    "df = df0.copy()\n",
    "df.shape"
   ]
  },
  {
   "cell_type": "code",
   "execution_count": 4,
   "metadata": {},
   "outputs": [
    {
     "data": {
      "text/html": [
       "<div>\n",
       "<style scoped>\n",
       "    .dataframe tbody tr th:only-of-type {\n",
       "        vertical-align: middle;\n",
       "    }\n",
       "\n",
       "    .dataframe tbody tr th {\n",
       "        vertical-align: top;\n",
       "    }\n",
       "\n",
       "    .dataframe thead th {\n",
       "        text-align: right;\n",
       "    }\n",
       "</style>\n",
       "<table border=\"1\" class=\"dataframe\">\n",
       "  <thead>\n",
       "    <tr style=\"text-align: right;\">\n",
       "      <th></th>\n",
       "      <th>0</th>\n",
       "      <th>1</th>\n",
       "      <th>2</th>\n",
       "      <th>3</th>\n",
       "      <th>4</th>\n",
       "    </tr>\n",
       "  </thead>\n",
       "  <tbody>\n",
       "    <tr>\n",
       "      <th>age</th>\n",
       "      <td>75.0</td>\n",
       "      <td>55.00</td>\n",
       "      <td>65.0</td>\n",
       "      <td>50.0</td>\n",
       "      <td>65.0</td>\n",
       "    </tr>\n",
       "    <tr>\n",
       "      <th>anaemia</th>\n",
       "      <td>0.0</td>\n",
       "      <td>0.00</td>\n",
       "      <td>0.0</td>\n",
       "      <td>1.0</td>\n",
       "      <td>1.0</td>\n",
       "    </tr>\n",
       "    <tr>\n",
       "      <th>creatinine_phosphokinase</th>\n",
       "      <td>582.0</td>\n",
       "      <td>7861.00</td>\n",
       "      <td>146.0</td>\n",
       "      <td>111.0</td>\n",
       "      <td>160.0</td>\n",
       "    </tr>\n",
       "    <tr>\n",
       "      <th>diabetes</th>\n",
       "      <td>0.0</td>\n",
       "      <td>0.00</td>\n",
       "      <td>0.0</td>\n",
       "      <td>0.0</td>\n",
       "      <td>1.0</td>\n",
       "    </tr>\n",
       "    <tr>\n",
       "      <th>ejection_fraction</th>\n",
       "      <td>20.0</td>\n",
       "      <td>38.00</td>\n",
       "      <td>20.0</td>\n",
       "      <td>20.0</td>\n",
       "      <td>20.0</td>\n",
       "    </tr>\n",
       "    <tr>\n",
       "      <th>high_blood_pressure</th>\n",
       "      <td>1.0</td>\n",
       "      <td>0.00</td>\n",
       "      <td>0.0</td>\n",
       "      <td>0.0</td>\n",
       "      <td>0.0</td>\n",
       "    </tr>\n",
       "    <tr>\n",
       "      <th>platelets</th>\n",
       "      <td>265000.0</td>\n",
       "      <td>263358.03</td>\n",
       "      <td>162000.0</td>\n",
       "      <td>210000.0</td>\n",
       "      <td>327000.0</td>\n",
       "    </tr>\n",
       "    <tr>\n",
       "      <th>serum_creatinine</th>\n",
       "      <td>1.9</td>\n",
       "      <td>1.10</td>\n",
       "      <td>1.3</td>\n",
       "      <td>1.9</td>\n",
       "      <td>2.7</td>\n",
       "    </tr>\n",
       "    <tr>\n",
       "      <th>serum_sodium</th>\n",
       "      <td>130.0</td>\n",
       "      <td>136.00</td>\n",
       "      <td>129.0</td>\n",
       "      <td>137.0</td>\n",
       "      <td>116.0</td>\n",
       "    </tr>\n",
       "    <tr>\n",
       "      <th>sex</th>\n",
       "      <td>1.0</td>\n",
       "      <td>1.00</td>\n",
       "      <td>1.0</td>\n",
       "      <td>1.0</td>\n",
       "      <td>0.0</td>\n",
       "    </tr>\n",
       "    <tr>\n",
       "      <th>smoking</th>\n",
       "      <td>0.0</td>\n",
       "      <td>0.00</td>\n",
       "      <td>1.0</td>\n",
       "      <td>0.0</td>\n",
       "      <td>0.0</td>\n",
       "    </tr>\n",
       "    <tr>\n",
       "      <th>time</th>\n",
       "      <td>4.0</td>\n",
       "      <td>6.00</td>\n",
       "      <td>7.0</td>\n",
       "      <td>7.0</td>\n",
       "      <td>8.0</td>\n",
       "    </tr>\n",
       "    <tr>\n",
       "      <th>DEATH_EVENT</th>\n",
       "      <td>1.0</td>\n",
       "      <td>1.00</td>\n",
       "      <td>1.0</td>\n",
       "      <td>1.0</td>\n",
       "      <td>1.0</td>\n",
       "    </tr>\n",
       "  </tbody>\n",
       "</table>\n",
       "</div>"
      ],
      "text/plain": [
       "                                 0          1         2         3         4\n",
       "age                           75.0      55.00      65.0      50.0      65.0\n",
       "anaemia                        0.0       0.00       0.0       1.0       1.0\n",
       "creatinine_phosphokinase     582.0    7861.00     146.0     111.0     160.0\n",
       "diabetes                       0.0       0.00       0.0       0.0       1.0\n",
       "ejection_fraction             20.0      38.00      20.0      20.0      20.0\n",
       "high_blood_pressure            1.0       0.00       0.0       0.0       0.0\n",
       "platelets                 265000.0  263358.03  162000.0  210000.0  327000.0\n",
       "serum_creatinine               1.9       1.10       1.3       1.9       2.7\n",
       "serum_sodium                 130.0     136.00     129.0     137.0     116.0\n",
       "sex                            1.0       1.00       1.0       1.0       0.0\n",
       "smoking                        0.0       0.00       1.0       0.0       0.0\n",
       "time                           4.0       6.00       7.0       7.0       8.0\n",
       "DEATH_EVENT                    1.0       1.00       1.0       1.0       1.0"
      ]
     },
     "execution_count": 4,
     "metadata": {},
     "output_type": "execute_result"
    }
   ],
   "source": [
    "df.head(5).T"
   ]
  },
  {
   "cell_type": "code",
   "execution_count": 5,
   "metadata": {},
   "outputs": [
    {
     "data": {
      "text/html": [
       "<div>\n",
       "<style scoped>\n",
       "    .dataframe tbody tr th:only-of-type {\n",
       "        vertical-align: middle;\n",
       "    }\n",
       "\n",
       "    .dataframe tbody tr th {\n",
       "        vertical-align: top;\n",
       "    }\n",
       "\n",
       "    .dataframe thead th {\n",
       "        text-align: right;\n",
       "    }\n",
       "</style>\n",
       "<table border=\"1\" class=\"dataframe\">\n",
       "  <thead>\n",
       "    <tr style=\"text-align: right;\">\n",
       "      <th></th>\n",
       "      <th>age</th>\n",
       "      <th>anaemia</th>\n",
       "      <th>creatinine_phosphokinase</th>\n",
       "      <th>diabetes</th>\n",
       "      <th>ejection_fraction</th>\n",
       "      <th>high_blood_pressure</th>\n",
       "      <th>platelets</th>\n",
       "      <th>serum_creatinine</th>\n",
       "      <th>serum_sodium</th>\n",
       "      <th>sex</th>\n",
       "      <th>smoking</th>\n",
       "      <th>time</th>\n",
       "      <th>DEATH_EVENT</th>\n",
       "    </tr>\n",
       "  </thead>\n",
       "  <tbody>\n",
       "    <tr>\n",
       "      <th>count</th>\n",
       "      <td>299.000000</td>\n",
       "      <td>299.000000</td>\n",
       "      <td>299.000000</td>\n",
       "      <td>299.000000</td>\n",
       "      <td>299.000000</td>\n",
       "      <td>299.000000</td>\n",
       "      <td>299.000000</td>\n",
       "      <td>299.00000</td>\n",
       "      <td>299.000000</td>\n",
       "      <td>299.000000</td>\n",
       "      <td>299.00000</td>\n",
       "      <td>299.000000</td>\n",
       "      <td>299.00000</td>\n",
       "    </tr>\n",
       "    <tr>\n",
       "      <th>mean</th>\n",
       "      <td>60.833893</td>\n",
       "      <td>0.431438</td>\n",
       "      <td>581.839465</td>\n",
       "      <td>0.418060</td>\n",
       "      <td>38.083612</td>\n",
       "      <td>0.351171</td>\n",
       "      <td>263358.029264</td>\n",
       "      <td>1.39388</td>\n",
       "      <td>136.625418</td>\n",
       "      <td>0.648829</td>\n",
       "      <td>0.32107</td>\n",
       "      <td>130.260870</td>\n",
       "      <td>0.32107</td>\n",
       "    </tr>\n",
       "    <tr>\n",
       "      <th>std</th>\n",
       "      <td>11.894809</td>\n",
       "      <td>0.496107</td>\n",
       "      <td>970.287881</td>\n",
       "      <td>0.494067</td>\n",
       "      <td>11.834841</td>\n",
       "      <td>0.478136</td>\n",
       "      <td>97804.236869</td>\n",
       "      <td>1.03451</td>\n",
       "      <td>4.412477</td>\n",
       "      <td>0.478136</td>\n",
       "      <td>0.46767</td>\n",
       "      <td>77.614208</td>\n",
       "      <td>0.46767</td>\n",
       "    </tr>\n",
       "    <tr>\n",
       "      <th>min</th>\n",
       "      <td>40.000000</td>\n",
       "      <td>0.000000</td>\n",
       "      <td>23.000000</td>\n",
       "      <td>0.000000</td>\n",
       "      <td>14.000000</td>\n",
       "      <td>0.000000</td>\n",
       "      <td>25100.000000</td>\n",
       "      <td>0.50000</td>\n",
       "      <td>113.000000</td>\n",
       "      <td>0.000000</td>\n",
       "      <td>0.00000</td>\n",
       "      <td>4.000000</td>\n",
       "      <td>0.00000</td>\n",
       "    </tr>\n",
       "    <tr>\n",
       "      <th>25%</th>\n",
       "      <td>51.000000</td>\n",
       "      <td>0.000000</td>\n",
       "      <td>116.500000</td>\n",
       "      <td>0.000000</td>\n",
       "      <td>30.000000</td>\n",
       "      <td>0.000000</td>\n",
       "      <td>212500.000000</td>\n",
       "      <td>0.90000</td>\n",
       "      <td>134.000000</td>\n",
       "      <td>0.000000</td>\n",
       "      <td>0.00000</td>\n",
       "      <td>73.000000</td>\n",
       "      <td>0.00000</td>\n",
       "    </tr>\n",
       "    <tr>\n",
       "      <th>50%</th>\n",
       "      <td>60.000000</td>\n",
       "      <td>0.000000</td>\n",
       "      <td>250.000000</td>\n",
       "      <td>0.000000</td>\n",
       "      <td>38.000000</td>\n",
       "      <td>0.000000</td>\n",
       "      <td>262000.000000</td>\n",
       "      <td>1.10000</td>\n",
       "      <td>137.000000</td>\n",
       "      <td>1.000000</td>\n",
       "      <td>0.00000</td>\n",
       "      <td>115.000000</td>\n",
       "      <td>0.00000</td>\n",
       "    </tr>\n",
       "    <tr>\n",
       "      <th>75%</th>\n",
       "      <td>70.000000</td>\n",
       "      <td>1.000000</td>\n",
       "      <td>582.000000</td>\n",
       "      <td>1.000000</td>\n",
       "      <td>45.000000</td>\n",
       "      <td>1.000000</td>\n",
       "      <td>303500.000000</td>\n",
       "      <td>1.40000</td>\n",
       "      <td>140.000000</td>\n",
       "      <td>1.000000</td>\n",
       "      <td>1.00000</td>\n",
       "      <td>203.000000</td>\n",
       "      <td>1.00000</td>\n",
       "    </tr>\n",
       "    <tr>\n",
       "      <th>max</th>\n",
       "      <td>95.000000</td>\n",
       "      <td>1.000000</td>\n",
       "      <td>7861.000000</td>\n",
       "      <td>1.000000</td>\n",
       "      <td>80.000000</td>\n",
       "      <td>1.000000</td>\n",
       "      <td>850000.000000</td>\n",
       "      <td>9.40000</td>\n",
       "      <td>148.000000</td>\n",
       "      <td>1.000000</td>\n",
       "      <td>1.00000</td>\n",
       "      <td>285.000000</td>\n",
       "      <td>1.00000</td>\n",
       "    </tr>\n",
       "  </tbody>\n",
       "</table>\n",
       "</div>"
      ],
      "text/plain": [
       "              age     anaemia  creatinine_phosphokinase    diabetes  \\\n",
       "count  299.000000  299.000000                299.000000  299.000000   \n",
       "mean    60.833893    0.431438                581.839465    0.418060   \n",
       "std     11.894809    0.496107                970.287881    0.494067   \n",
       "min     40.000000    0.000000                 23.000000    0.000000   \n",
       "25%     51.000000    0.000000                116.500000    0.000000   \n",
       "50%     60.000000    0.000000                250.000000    0.000000   \n",
       "75%     70.000000    1.000000                582.000000    1.000000   \n",
       "max     95.000000    1.000000               7861.000000    1.000000   \n",
       "\n",
       "       ejection_fraction  high_blood_pressure      platelets  \\\n",
       "count         299.000000           299.000000     299.000000   \n",
       "mean           38.083612             0.351171  263358.029264   \n",
       "std            11.834841             0.478136   97804.236869   \n",
       "min            14.000000             0.000000   25100.000000   \n",
       "25%            30.000000             0.000000  212500.000000   \n",
       "50%            38.000000             0.000000  262000.000000   \n",
       "75%            45.000000             1.000000  303500.000000   \n",
       "max            80.000000             1.000000  850000.000000   \n",
       "\n",
       "       serum_creatinine  serum_sodium         sex    smoking        time  \\\n",
       "count         299.00000    299.000000  299.000000  299.00000  299.000000   \n",
       "mean            1.39388    136.625418    0.648829    0.32107  130.260870   \n",
       "std             1.03451      4.412477    0.478136    0.46767   77.614208   \n",
       "min             0.50000    113.000000    0.000000    0.00000    4.000000   \n",
       "25%             0.90000    134.000000    0.000000    0.00000   73.000000   \n",
       "50%             1.10000    137.000000    1.000000    0.00000  115.000000   \n",
       "75%             1.40000    140.000000    1.000000    1.00000  203.000000   \n",
       "max             9.40000    148.000000    1.000000    1.00000  285.000000   \n",
       "\n",
       "       DEATH_EVENT  \n",
       "count    299.00000  \n",
       "mean       0.32107  \n",
       "std        0.46767  \n",
       "min        0.00000  \n",
       "25%        0.00000  \n",
       "50%        0.00000  \n",
       "75%        1.00000  \n",
       "max        1.00000  "
      ]
     },
     "execution_count": 5,
     "metadata": {},
     "output_type": "execute_result"
    }
   ],
   "source": [
    "df.describe()"
   ]
  },
  {
   "cell_type": "code",
   "execution_count": 6,
   "metadata": {},
   "outputs": [
    {
     "name": "stdout",
     "output_type": "stream",
     "text": [
      "<class 'pandas.core.frame.DataFrame'>\n",
      "RangeIndex: 299 entries, 0 to 298\n",
      "Data columns (total 13 columns):\n",
      " #   Column                    Non-Null Count  Dtype  \n",
      "---  ------                    --------------  -----  \n",
      " 0   age                       299 non-null    float64\n",
      " 1   anaemia                   299 non-null    int64  \n",
      " 2   creatinine_phosphokinase  299 non-null    int64  \n",
      " 3   diabetes                  299 non-null    int64  \n",
      " 4   ejection_fraction         299 non-null    int64  \n",
      " 5   high_blood_pressure       299 non-null    int64  \n",
      " 6   platelets                 299 non-null    float64\n",
      " 7   serum_creatinine          299 non-null    float64\n",
      " 8   serum_sodium              299 non-null    int64  \n",
      " 9   sex                       299 non-null    int64  \n",
      " 10  smoking                   299 non-null    int64  \n",
      " 11  time                      299 non-null    int64  \n",
      " 12  DEATH_EVENT               299 non-null    int64  \n",
      "dtypes: float64(3), int64(10)\n",
      "memory usage: 30.5 KB\n"
     ]
    }
   ],
   "source": [
    "df.info()"
   ]
  },
  {
   "cell_type": "code",
   "execution_count": 7,
   "metadata": {},
   "outputs": [
    {
     "data": {
      "text/plain": [
       "age                         0\n",
       "anaemia                     0\n",
       "creatinine_phosphokinase    0\n",
       "diabetes                    0\n",
       "ejection_fraction           0\n",
       "high_blood_pressure         0\n",
       "platelets                   0\n",
       "serum_creatinine            0\n",
       "serum_sodium                0\n",
       "sex                         0\n",
       "smoking                     0\n",
       "time                        0\n",
       "DEATH_EVENT                 0\n",
       "dtype: int64"
      ]
     },
     "execution_count": 7,
     "metadata": {},
     "output_type": "execute_result"
    }
   ],
   "source": [
    "df.isnull().sum()"
   ]
  },
  {
   "cell_type": "markdown",
   "metadata": {},
   "source": [
    "tidak ada missing value di dataset"
   ]
  },
  {
   "cell_type": "markdown",
   "metadata": {},
   "source": [
    "# 5. Exploratory Data Analysis (EDA)\n",
    "   > Bagian ini berisi eksplorasi data pada dataset diatas dengan menggunakan query, grouping, visualisasi sederhana, dan lain sebagainya.\n"
   ]
  },
  {
   "cell_type": "markdown",
   "metadata": {},
   "source": [
    "> Maka di putuskan untuk melihat keterikatan antara value yang sering keluar dengan target kita yaitu y."
   ]
  },
  {
   "cell_type": "code",
   "execution_count": 8,
   "metadata": {},
   "outputs": [
    {
     "data": {
      "text/html": [
       "<div>\n",
       "<style scoped>\n",
       "    .dataframe tbody tr th:only-of-type {\n",
       "        vertical-align: middle;\n",
       "    }\n",
       "\n",
       "    .dataframe tbody tr th {\n",
       "        vertical-align: top;\n",
       "    }\n",
       "\n",
       "    .dataframe thead th {\n",
       "        text-align: right;\n",
       "    }\n",
       "</style>\n",
       "<table border=\"1\" class=\"dataframe\">\n",
       "  <thead>\n",
       "    <tr style=\"text-align: right;\">\n",
       "      <th></th>\n",
       "      <th>age</th>\n",
       "      <th>anaemia</th>\n",
       "      <th>creatinine_phosphokinase</th>\n",
       "      <th>diabetes</th>\n",
       "      <th>ejection_fraction</th>\n",
       "      <th>high_blood_pressure</th>\n",
       "      <th>platelets</th>\n",
       "      <th>serum_creatinine</th>\n",
       "      <th>serum_sodium</th>\n",
       "      <th>sex</th>\n",
       "      <th>smoking</th>\n",
       "      <th>time</th>\n",
       "      <th>DEATH_EVENT</th>\n",
       "    </tr>\n",
       "  </thead>\n",
       "  <tbody>\n",
       "    <tr>\n",
       "      <th>0</th>\n",
       "      <td>75.0</td>\n",
       "      <td>0</td>\n",
       "      <td>582</td>\n",
       "      <td>0</td>\n",
       "      <td>20</td>\n",
       "      <td>1</td>\n",
       "      <td>265000.00</td>\n",
       "      <td>1.9</td>\n",
       "      <td>130</td>\n",
       "      <td>1</td>\n",
       "      <td>0</td>\n",
       "      <td>4</td>\n",
       "      <td>1</td>\n",
       "    </tr>\n",
       "    <tr>\n",
       "      <th>1</th>\n",
       "      <td>55.0</td>\n",
       "      <td>0</td>\n",
       "      <td>7861</td>\n",
       "      <td>0</td>\n",
       "      <td>38</td>\n",
       "      <td>0</td>\n",
       "      <td>263358.03</td>\n",
       "      <td>1.1</td>\n",
       "      <td>136</td>\n",
       "      <td>1</td>\n",
       "      <td>0</td>\n",
       "      <td>6</td>\n",
       "      <td>1</td>\n",
       "    </tr>\n",
       "    <tr>\n",
       "      <th>2</th>\n",
       "      <td>65.0</td>\n",
       "      <td>0</td>\n",
       "      <td>146</td>\n",
       "      <td>0</td>\n",
       "      <td>20</td>\n",
       "      <td>0</td>\n",
       "      <td>162000.00</td>\n",
       "      <td>1.3</td>\n",
       "      <td>129</td>\n",
       "      <td>1</td>\n",
       "      <td>1</td>\n",
       "      <td>7</td>\n",
       "      <td>1</td>\n",
       "    </tr>\n",
       "    <tr>\n",
       "      <th>3</th>\n",
       "      <td>50.0</td>\n",
       "      <td>1</td>\n",
       "      <td>111</td>\n",
       "      <td>0</td>\n",
       "      <td>20</td>\n",
       "      <td>0</td>\n",
       "      <td>210000.00</td>\n",
       "      <td>1.9</td>\n",
       "      <td>137</td>\n",
       "      <td>1</td>\n",
       "      <td>0</td>\n",
       "      <td>7</td>\n",
       "      <td>1</td>\n",
       "    </tr>\n",
       "    <tr>\n",
       "      <th>4</th>\n",
       "      <td>65.0</td>\n",
       "      <td>1</td>\n",
       "      <td>160</td>\n",
       "      <td>1</td>\n",
       "      <td>20</td>\n",
       "      <td>0</td>\n",
       "      <td>327000.00</td>\n",
       "      <td>2.7</td>\n",
       "      <td>116</td>\n",
       "      <td>0</td>\n",
       "      <td>0</td>\n",
       "      <td>8</td>\n",
       "      <td>1</td>\n",
       "    </tr>\n",
       "    <tr>\n",
       "      <th>...</th>\n",
       "      <td>...</td>\n",
       "      <td>...</td>\n",
       "      <td>...</td>\n",
       "      <td>...</td>\n",
       "      <td>...</td>\n",
       "      <td>...</td>\n",
       "      <td>...</td>\n",
       "      <td>...</td>\n",
       "      <td>...</td>\n",
       "      <td>...</td>\n",
       "      <td>...</td>\n",
       "      <td>...</td>\n",
       "      <td>...</td>\n",
       "    </tr>\n",
       "    <tr>\n",
       "      <th>294</th>\n",
       "      <td>62.0</td>\n",
       "      <td>0</td>\n",
       "      <td>61</td>\n",
       "      <td>1</td>\n",
       "      <td>38</td>\n",
       "      <td>1</td>\n",
       "      <td>155000.00</td>\n",
       "      <td>1.1</td>\n",
       "      <td>143</td>\n",
       "      <td>1</td>\n",
       "      <td>1</td>\n",
       "      <td>270</td>\n",
       "      <td>0</td>\n",
       "    </tr>\n",
       "    <tr>\n",
       "      <th>295</th>\n",
       "      <td>55.0</td>\n",
       "      <td>0</td>\n",
       "      <td>1820</td>\n",
       "      <td>0</td>\n",
       "      <td>38</td>\n",
       "      <td>0</td>\n",
       "      <td>270000.00</td>\n",
       "      <td>1.2</td>\n",
       "      <td>139</td>\n",
       "      <td>0</td>\n",
       "      <td>0</td>\n",
       "      <td>271</td>\n",
       "      <td>0</td>\n",
       "    </tr>\n",
       "    <tr>\n",
       "      <th>296</th>\n",
       "      <td>45.0</td>\n",
       "      <td>0</td>\n",
       "      <td>2060</td>\n",
       "      <td>1</td>\n",
       "      <td>60</td>\n",
       "      <td>0</td>\n",
       "      <td>742000.00</td>\n",
       "      <td>0.8</td>\n",
       "      <td>138</td>\n",
       "      <td>0</td>\n",
       "      <td>0</td>\n",
       "      <td>278</td>\n",
       "      <td>0</td>\n",
       "    </tr>\n",
       "    <tr>\n",
       "      <th>297</th>\n",
       "      <td>45.0</td>\n",
       "      <td>0</td>\n",
       "      <td>2413</td>\n",
       "      <td>0</td>\n",
       "      <td>38</td>\n",
       "      <td>0</td>\n",
       "      <td>140000.00</td>\n",
       "      <td>1.4</td>\n",
       "      <td>140</td>\n",
       "      <td>1</td>\n",
       "      <td>1</td>\n",
       "      <td>280</td>\n",
       "      <td>0</td>\n",
       "    </tr>\n",
       "    <tr>\n",
       "      <th>298</th>\n",
       "      <td>50.0</td>\n",
       "      <td>0</td>\n",
       "      <td>196</td>\n",
       "      <td>0</td>\n",
       "      <td>45</td>\n",
       "      <td>0</td>\n",
       "      <td>395000.00</td>\n",
       "      <td>1.6</td>\n",
       "      <td>136</td>\n",
       "      <td>1</td>\n",
       "      <td>1</td>\n",
       "      <td>285</td>\n",
       "      <td>0</td>\n",
       "    </tr>\n",
       "  </tbody>\n",
       "</table>\n",
       "<p>299 rows × 13 columns</p>\n",
       "</div>"
      ],
      "text/plain": [
       "      age  anaemia  creatinine_phosphokinase  diabetes  ejection_fraction  \\\n",
       "0    75.0        0                       582         0                 20   \n",
       "1    55.0        0                      7861         0                 38   \n",
       "2    65.0        0                       146         0                 20   \n",
       "3    50.0        1                       111         0                 20   \n",
       "4    65.0        1                       160         1                 20   \n",
       "..    ...      ...                       ...       ...                ...   \n",
       "294  62.0        0                        61         1                 38   \n",
       "295  55.0        0                      1820         0                 38   \n",
       "296  45.0        0                      2060         1                 60   \n",
       "297  45.0        0                      2413         0                 38   \n",
       "298  50.0        0                       196         0                 45   \n",
       "\n",
       "     high_blood_pressure  platelets  serum_creatinine  serum_sodium  sex  \\\n",
       "0                      1  265000.00               1.9           130    1   \n",
       "1                      0  263358.03               1.1           136    1   \n",
       "2                      0  162000.00               1.3           129    1   \n",
       "3                      0  210000.00               1.9           137    1   \n",
       "4                      0  327000.00               2.7           116    0   \n",
       "..                   ...        ...               ...           ...  ...   \n",
       "294                    1  155000.00               1.1           143    1   \n",
       "295                    0  270000.00               1.2           139    0   \n",
       "296                    0  742000.00               0.8           138    0   \n",
       "297                    0  140000.00               1.4           140    1   \n",
       "298                    0  395000.00               1.6           136    1   \n",
       "\n",
       "     smoking  time  DEATH_EVENT  \n",
       "0          0     4            1  \n",
       "1          0     6            1  \n",
       "2          1     7            1  \n",
       "3          0     7            1  \n",
       "4          0     8            1  \n",
       "..       ...   ...          ...  \n",
       "294        1   270            0  \n",
       "295        0   271            0  \n",
       "296        0   278            0  \n",
       "297        1   280            0  \n",
       "298        1   285            0  \n",
       "\n",
       "[299 rows x 13 columns]"
      ]
     },
     "execution_count": 8,
     "metadata": {},
     "output_type": "execute_result"
    }
   ],
   "source": [
    "df"
   ]
  },
  {
   "cell_type": "code",
   "execution_count": 9,
   "metadata": {},
   "outputs": [
    {
     "data": {
      "text/plain": [
       "age                         float64\n",
       "anaemia                       int64\n",
       "creatinine_phosphokinase      int64\n",
       "diabetes                      int64\n",
       "ejection_fraction             int64\n",
       "high_blood_pressure           int64\n",
       "platelets                   float64\n",
       "serum_creatinine            float64\n",
       "serum_sodium                  int64\n",
       "sex                           int64\n",
       "smoking                       int64\n",
       "time                          int64\n",
       "DEATH_EVENT                   int64\n",
       "dtype: object"
      ]
     },
     "execution_count": 9,
     "metadata": {},
     "output_type": "execute_result"
    }
   ],
   "source": [
    "df.dtypes"
   ]
  },
  {
   "cell_type": "code",
   "execution_count": 10,
   "metadata": {},
   "outputs": [
    {
     "data": {
      "text/plain": [
       "Text(0.5, 1.0, 'Jumlah Data death')"
      ]
     },
     "execution_count": 10,
     "metadata": {},
     "output_type": "execute_result"
    },
    {
     "data": {
      "image/png": "[encoded data removed]",
      "text/plain": [
       "<Figure size 360x360 with 1 Axes>"
      ]
     },
     "metadata": {
      "needs_background": "light"
     },
     "output_type": "display_data"
    }
   ],
   "source": [
    "death = df['DEATH_EVENT'].value_counts().to_dict()\n",
    "\n",
    "plt.figure(figsize=(5,5))\n",
    "plt.bar(['Meninggal','Hidup'], death.values())\n",
    "plt.xlabel('death_event')\n",
    "plt.ylabel('Count')\n",
    "plt.title('Jumlah Data death')"
   ]
  },
  {
   "cell_type": "code",
   "execution_count": 11,
   "metadata": {},
   "outputs": [
    {
     "data": {
      "image/png": "[encoded data removed]",
      "text/plain": [
       "<Figure size 360x360 with 1 Axes>"
      ]
     },
     "metadata": {},
     "output_type": "display_data"
    }
   ],
   "source": [
    "plt.figure(figsize=(5,5),facecolor='white')\n",
    "fig = plt.pie(death.values(), labels=['Hidup','Meninggal'], autopct='%1.1f%%')\n",
    "plt.title('Perbandingan Data death')\n",
    "plt.show()"
   ]
  },
  {
   "cell_type": "markdown",
   "metadata": {},
   "source": [
    "> sample data yang kita miliki sangat jauh perbedaanya data yang Bertahan hidup sebesar 67.9% dan meninggal 32.1%."
   ]
  },
  {
   "cell_type": "code",
   "execution_count": 58,
   "metadata": {},
   "outputs": [
    {
     "data": {
      "application/vnd.plotly.v1+json": {
       "config": {
        "plotlyServerURL": "https://plot.ly"
       },
       "data": [
        {
         "alignmentgroup": "True",
         "bingroup": "x",
         "hovertemplate": "DEATH_EVENT=1<br>AGE=%{x}<br>count=%{y}<extra></extra>",
         "legendgroup": "1",
         "marker": {
          "color": "#636efa",
          "pattern": {
           "shape": ""
          }
         },
         "name": "1",
         "offsetgroup": "1",
         "orientation": "v",
         "showlegend": true,
         "type": "histogram",
         "x": [
          75,
          55,
          65,
          50,
          65,
          90,
          75,
          60,
          65,
          80,
          75,
          62,
          45,
          50,
          82,
          87,
          45,
          70,
          48,
          65,
          68,
          75,
          80,
          95,
          70,
          58,
          82,
          94,
          85,
          50,
          65,
          69,
          90,
          82,
          60,
          70,
          50,
          70,
          60,
          50,
          51,
          60,
          80,
          57,
          68,
          53,
          60,
          70,
          60,
          95,
          49,
          72,
          45,
          50,
          45,
          60,
          42,
          72,
          70,
          65,
          85,
          69,
          60,
          60,
          59,
          60,
          72,
          85,
          70,
          86,
          60,
          46,
          80,
          72,
          75,
          72,
          50,
          45,
          80,
          59,
          59,
          65,
          75,
          58,
          60.667,
          50,
          60,
          45,
          77,
          48,
          54,
          73,
          60,
          55,
          65,
          55
         ],
         "xaxis": "x",
         "yaxis": "y"
        },
        {
         "alignmentgroup": "True",
         "customdata": [
          [
           0,
           582,
           0,
           20,
           1,
           265000,
           1.9,
           130,
           1,
           0,
           4,
           1
          ],
          [
           0,
           7861,
           0,
           38,
           0,
           263358.03,
           1.1,
           136,
           1,
           0,
           6,
           1
          ],
          [
           0,
           146,
           0,
           20,
           0,
           162000,
           1.3,
           129,
           1,
           1,
           7,
           1
          ],
          [
           1,
           111,
           0,
           20,
           0,
           210000,
           1.9,
           137,
           1,
           0,
           7,
           1
          ],
          [
           1,
           160,
           1,
           20,
           0,
           327000,
           2.7,
           116,
           0,
           0,
           8,
           1
          ],
          [
           1,
           47,
           0,
           40,
           1,
           204000,
           2.1,
           132,
           1,
           1,
           8,
           1
          ],
          [
           1,
           246,
           0,
           15,
           0,
           127000,
           1.2,
           137,
           1,
           0,
           10,
           1
          ],
          [
           1,
           315,
           1,
           60,
           0,
           454000,
           1.1,
           131,
           1,
           1,
           10,
           1
          ],
          [
           0,
           157,
           0,
           65,
           0,
           263358.03,
           1.5,
           138,
           0,
           0,
           10,
           1
          ],
          [
           1,
           123,
           0,
           35,
           1,
           388000,
           9.4,
           133,
           1,
           1,
           10,
           1
          ],
          [
           1,
           81,
           0,
           38,
           1,
           368000,
           4,
           131,
           1,
           1,
           10,
           1
          ],
          [
           0,
           231,
           0,
           25,
           1,
           253000,
           0.9,
           140,
           1,
           1,
           10,
           1
          ],
          [
           1,
           981,
           0,
           30,
           0,
           136000,
           1.1,
           137,
           1,
           0,
           11,
           1
          ],
          [
           1,
           168,
           0,
           38,
           1,
           276000,
           1.1,
           137,
           1,
           0,
           11,
           1
          ],
          [
           1,
           379,
           0,
           50,
           0,
           47000,
           1.3,
           136,
           1,
           0,
           13,
           1
          ],
          [
           1,
           149,
           0,
           38,
           0,
           262000,
           0.9,
           140,
           1,
           0,
           14,
           1
          ],
          [
           0,
           582,
           0,
           14,
           0,
           166000,
           0.8,
           127,
           1,
           0,
           14,
           1
          ],
          [
           1,
           125,
           0,
           25,
           1,
           237000,
           1,
           140,
           0,
           0,
           15,
           1
          ],
          [
           1,
           582,
           1,
           55,
           0,
           87000,
           1.9,
           121,
           0,
           0,
           15,
           1
          ],
          [
           1,
           128,
           1,
           30,
           1,
           297000,
           1.6,
           136,
           0,
           0,
           20,
           1
          ],
          [
           1,
           220,
           0,
           35,
           1,
           289000,
           0.9,
           140,
           1,
           1,
           20,
           1
          ],
          [
           0,
           582,
           1,
           30,
           1,
           263358.03,
           1.83,
           134,
           0,
           0,
           23,
           1
          ],
          [
           0,
           148,
           1,
           38,
           0,
           149000,
           1.9,
           144,
           1,
           1,
           23,
           1
          ],
          [
           1,
           112,
           0,
           40,
           1,
           196000,
           1,
           138,
           0,
           0,
           24,
           1
          ],
          [
           0,
           122,
           1,
           45,
           1,
           284000,
           1.3,
           136,
           1,
           1,
           26,
           1
          ],
          [
           1,
           60,
           0,
           38,
           0,
           153000,
           5.8,
           134,
           1,
           0,
           26,
           1
          ],
          [
           0,
           70,
           1,
           30,
           0,
           200000,
           1.2,
           132,
           1,
           1,
           26,
           1
          ],
          [
           0,
           582,
           1,
           38,
           1,
           263358.03,
           1.83,
           134,
           1,
           0,
           27,
           1
          ],
          [
           0,
           23,
           0,
           45,
           0,
           360000,
           3,
           132,
           1,
           0,
           28,
           1
          ],
          [
           1,
           249,
           1,
           35,
           1,
           319000,
           1,
           128,
           0,
           0,
           28,
           1
          ],
          [
           0,
           94,
           1,
           50,
           1,
           188000,
           1,
           140,
           1,
           0,
           29,
           1
          ],
          [
           0,
           582,
           1,
           35,
           0,
           228000,
           3.5,
           134,
           1,
           0,
           30,
           1
          ],
          [
           1,
           60,
           1,
           50,
           0,
           226000,
           1,
           134,
           1,
           0,
           30,
           1
          ],
          [
           1,
           855,
           1,
           50,
           1,
           321000,
           1,
           145,
           0,
           0,
           30,
           1
          ],
          [
           0,
           235,
           1,
           38,
           0,
           329000,
           3,
           142,
           0,
           0,
           30,
           1
          ],
          [
           0,
           582,
           0,
           20,
           1,
           263358.03,
           1.83,
           134,
           1,
           1,
           31,
           1
          ],
          [
           0,
           124,
           1,
           30,
           1,
           153000,
           1.2,
           136,
           0,
           1,
           32,
           1
          ],
          [
           0,
           571,
           1,
           45,
           1,
           185000,
           1.2,
           139,
           1,
           1,
           33,
           1
          ],
          [
           1,
           588,
           1,
           60,
           0,
           194000,
           1.1,
           142,
           0,
           0,
           33,
           1
          ],
          [
           0,
           582,
           1,
           38,
           0,
           310000,
           1.9,
           135,
           1,
           1,
           35,
           1
          ],
          [
           0,
           1380,
           0,
           25,
           1,
           271000,
           0.9,
           130,
           1,
           0,
           38,
           1
          ],
          [
           0,
           582,
           1,
           38,
           1,
           451000,
           0.6,
           138,
           1,
           1,
           40,
           1
          ],
          [
           1,
           553,
           0,
           20,
           1,
           140000,
           4.4,
           133,
           1,
           0,
           41,
           1
          ],
          [
           1,
           129,
           0,
           30,
           0,
           395000,
           1,
           140,
           0,
           0,
           42,
           1
          ],
          [
           1,
           577,
           0,
           25,
           1,
           166000,
           1,
           138,
           1,
           0,
           43,
           1
          ],
          [
           1,
           91,
           0,
           20,
           1,
           418000,
           1.4,
           139,
           0,
           0,
           43,
           1
          ],
          [
           0,
           3964,
           1,
           62,
           0,
           263358.03,
           6.8,
           146,
           0,
           0,
           43,
           1
          ],
          [
           1,
           69,
           1,
           50,
           1,
           351000,
           1,
           134,
           0,
           0,
           44,
           1
          ],
          [
           1,
           260,
           1,
           38,
           0,
           255000,
           2.2,
           132,
           0,
           1,
           45,
           1
          ],
          [
           1,
           371,
           0,
           30,
           0,
           461000,
           2,
           132,
           1,
           0,
           50,
           1
          ],
          [
           0,
           789,
           0,
           20,
           1,
           319000,
           1.1,
           136,
           1,
           1,
           55,
           1
          ],
          [
           0,
           364,
           1,
           20,
           1,
           254000,
           1.3,
           136,
           1,
           1,
           59,
           1
          ],
          [
           0,
           7702,
           1,
           25,
           1,
           390000,
           1,
           139,
           1,
           0,
           60,
           1
          ],
          [
           0,
           318,
           0,
           40,
           1,
           216000,
           2.3,
           131,
           0,
           0,
           60,
           1
          ],
          [
           0,
           582,
           0,
           35,
           0,
           385000,
           1,
           145,
           1,
           0,
           61,
           1
          ],
          [
           0,
           68,
           0,
           20,
           0,
           119000,
           2.9,
           127,
           1,
           1,
           64,
           1
          ],
          [
           1,
           250,
           1,
           15,
           0,
           213000,
           1.3,
           136,
           0,
           0,
           65,
           1
          ],
          [
           1,
           110,
           0,
           25,
           0,
           274000,
           1,
           140,
           1,
           1,
           65,
           1
          ],
          [
           0,
           161,
           0,
           25,
           0,
           244000,
           1.2,
           142,
           0,
           0,
           66,
           1
          ],
          [
           0,
           113,
           1,
           25,
           0,
           497000,
           1.83,
           135,
           1,
           0,
           67,
           1
          ],
          [
           0,
           5882,
           0,
           35,
           0,
           243000,
           1,
           132,
           1,
           1,
           72,
           1
          ],
          [
           0,
           582,
           0,
           20,
           0,
           266000,
           1.2,
           134,
           1,
           1,
           73,
           1
          ],
          [
           1,
           47,
           0,
           20,
           0,
           204000,
           0.7,
           139,
           1,
           1,
           73,
           1
          ],
          [
           1,
           76,
           1,
           25,
           0,
           196000,
           2.5,
           132,
           0,
           0,
           77,
           1
          ],
          [
           1,
           280,
           1,
           25,
           1,
           302000,
           1,
           141,
           0,
           0,
           78,
           1
          ],
          [
           1,
           154,
           0,
           25,
           0,
           210000,
           1.7,
           135,
           1,
           0,
           82,
           1
          ],
          [
           1,
           328,
           0,
           30,
           1,
           621000,
           1.7,
           138,
           0,
           1,
           88,
           1
          ],
          [
           0,
           129,
           0,
           60,
           0,
           306000,
           1.2,
           132,
           1,
           1,
           90,
           1
          ],
          [
           1,
           143,
           0,
           60,
           0,
           351000,
           1.3,
           137,
           0,
           0,
           90,
           1
          ],
          [
           0,
           582,
           0,
           38,
           0,
           263358.03,
           1.83,
           134,
           0,
           0,
           95,
           1
          ],
          [
           0,
           582,
           0,
           40,
           0,
           217000,
           3.7,
           134,
           1,
           0,
           96,
           1
          ],
          [
           0,
           168,
           1,
           17,
           1,
           271000,
           2.1,
           124,
           0,
           0,
           100,
           1
          ],
          [
           0,
           805,
           0,
           38,
           0,
           263358.03,
           1.1,
           134,
           1,
           0,
           109,
           1
          ],
          [
           1,
           943,
           0,
           25,
           1,
           338000,
           1.7,
           139,
           1,
           1,
           111,
           1
          ],
          [
           1,
           582,
           0,
           30,
           0,
           225000,
           1.83,
           134,
           1,
           0,
           113,
           1
          ],
          [
           0,
           233,
           0,
           45,
           1,
           235000,
           2.5,
           135,
           0,
           0,
           115,
           1
          ],
          [
           1,
           2334,
           1,
           35,
           0,
           75000,
           0.9,
           142,
           0,
           0,
           126,
           1
          ],
          [
           0,
           2442,
           1,
           30,
           0,
           334000,
           1.1,
           139,
           1,
           0,
           129,
           1
          ],
          [
           0,
           776,
           1,
           38,
           1,
           192000,
           1.3,
           135,
           0,
           0,
           130,
           1
          ],
          [
           0,
           66,
           1,
           20,
           0,
           70000,
           2.4,
           134,
           1,
           0,
           135,
           1
          ],
          [
           1,
           176,
           1,
           25,
           0,
           221000,
           1,
           136,
           1,
           1,
           150,
           1
          ],
          [
           0,
           395,
           1,
           25,
           0,
           265000,
           1.2,
           136,
           1,
           1,
           154,
           1
          ],
          [
           0,
           99,
           0,
           38,
           1,
           224000,
           2.5,
           134,
           1,
           0,
           162,
           1
          ],
          [
           1,
           145,
           0,
           25,
           0,
           219000,
           1.2,
           137,
           1,
           1,
           170,
           1
          ],
          [
           1,
           104,
           1,
           30,
           0,
           389000,
           1.5,
           136,
           1,
           0,
           171,
           1
          ],
          [
           0,
           582,
           0,
           50,
           0,
           153000,
           0.6,
           134,
           0,
           0,
           172,
           1
          ],
          [
           0,
           1896,
           1,
           25,
           0,
           365000,
           2.1,
           144,
           0,
           0,
           172,
           1
          ],
          [
           0,
           582,
           0,
           20,
           1,
           126000,
           1.6,
           135,
           1,
           0,
           180,
           1
          ],
          [
           1,
           418,
           0,
           45,
           0,
           223000,
           1.8,
           145,
           1,
           0,
           180,
           1
          ],
          [
           1,
           131,
           1,
           30,
           1,
           244000,
           1.6,
           130,
           0,
           0,
           193,
           1
          ],
          [
           1,
           427,
           0,
           70,
           1,
           151000,
           9,
           137,
           0,
           0,
           196,
           1
          ],
          [
           0,
           582,
           0,
           20,
           0,
           263358.03,
           1.83,
           134,
           1,
           0,
           198,
           1
          ],
          [
           0,
           166,
           0,
           30,
           0,
           62000,
           1.7,
           127,
           0,
           0,
           207,
           1
          ],
          [
           0,
           2017,
           0,
           25,
           0,
           314000,
           1.1,
           138,
           1,
           0,
           214,
           1
          ],
          [
           1,
           258,
           1,
           25,
           0,
           198000,
           1.4,
           129,
           1,
           0,
           235,
           1
          ],
          [
           0,
           1199,
           0,
           20,
           0,
           263358.03,
           1.83,
           134,
           1,
           1,
           241,
           1
          ]
         ],
         "hovertemplate": "DEATH_EVENT=%{customdata[11]}<br>AGE=%{x}<br>anaemia=%{customdata[0]}<br>creatinine_phosphokinase=%{customdata[1]}<br>diabetes=%{customdata[2]}<br>ejection_fraction=%{customdata[3]}<br>high_blood_pressure=%{customdata[4]}<br>platelets=%{customdata[5]}<br>serum_creatinine=%{customdata[6]}<br>serum_sodium=%{customdata[7]}<br>sex=%{customdata[8]}<br>smoking=%{customdata[9]}<br>time=%{customdata[10]}<extra></extra>",
         "legendgroup": "1",
         "marker": {
          "color": "#636efa"
         },
         "name": "1",
         "offsetgroup": "1",
         "scalegroup": "x",
         "showlegend": false,
         "type": "violin",
         "x": [
          75,
          55,
          65,
          50,
          65,
          90,
          75,
          60,
          65,
          80,
          75,
          62,
          45,
          50,
          82,
          87,
          45,
          70,
          48,
          65,
          68,
          75,
          80,
          95,
          70,
          58,
          82,
          94,
          85,
          50,
          65,
          69,
          90,
          82,
          60,
          70,
          50,
          70,
          60,
          50,
          51,
          60,
          80,
          57,
          68,
          53,
          60,
          70,
          60,
          95,
          49,
          72,
          45,
          50,
          45,
          60,
          42,
          72,
          70,
          65,
          85,
          69,
          60,
          60,
          59,
          60,
          72,
          85,
          70,
          86,
          60,
          46,
          80,
          72,
          75,
          72,
          50,
          45,
          80,
          59,
          59,
          65,
          75,
          58,
          60.667,
          50,
          60,
          45,
          77,
          48,
          54,
          73,
          60,
          55,
          65,
          55
         ],
         "xaxis": "x2",
         "yaxis": "y2"
        },
        {
         "alignmentgroup": "True",
         "bingroup": "x",
         "hovertemplate": "DEATH_EVENT=0<br>AGE=%{x}<br>count=%{y}<extra></extra>",
         "legendgroup": "0",
         "marker": {
          "color": "#EF553B",
          "pattern": {
           "shape": ""
          }
         },
         "name": "0",
         "offsetgroup": "0",
         "orientation": "v",
         "showlegend": true,
         "type": "histogram",
         "x": [
          49,
          65,
          53,
          50,
          60,
          72,
          70,
          60,
          55,
          45,
          41,
          58,
          65,
          70,
          42,
          75,
          55,
          70,
          67,
          79,
          51,
          55,
          65,
          44,
          57,
          70,
          60,
          42,
          58,
          58,
          63,
          70,
          60,
          63,
          65,
          75,
          80,
          42,
          60,
          55,
          45,
          63,
          45,
          55,
          50,
          60,
          58,
          60,
          85,
          65,
          60,
          66,
          60,
          60,
          43,
          58,
          61,
          53,
          53,
          60,
          46,
          63,
          81,
          75,
          65,
          68,
          62,
          50,
          46,
          50,
          61,
          50,
          52,
          64,
          60,
          62,
          50,
          50,
          65,
          60,
          52,
          50,
          85,
          59,
          66,
          45,
          63,
          53,
          65,
          70,
          51,
          52,
          70,
          50,
          65,
          60,
          69,
          49,
          63,
          55,
          40,
          60.667,
          40,
          80,
          64,
          50,
          73,
          45,
          65,
          50,
          60,
          63,
          45,
          70,
          60,
          78,
          50,
          40,
          85,
          60,
          49,
          70,
          50,
          78,
          65,
          73,
          70,
          68,
          55,
          65,
          42,
          47,
          58,
          75,
          58,
          55,
          65,
          72,
          70,
          40,
          53,
          53,
          77,
          75,
          70,
          65,
          55,
          70,
          65,
          40,
          73,
          54,
          61,
          64,
          40,
          53,
          50,
          55,
          50,
          70,
          53,
          52,
          65,
          58,
          45,
          53,
          55,
          62,
          68,
          61,
          50,
          56,
          45,
          40,
          44,
          51,
          67,
          42,
          60,
          45,
          70,
          70,
          50,
          55,
          70,
          70,
          42,
          65,
          50,
          55,
          60,
          45,
          65,
          90,
          45,
          60,
          52,
          63,
          62,
          55,
          45,
          45,
          50
         ],
         "xaxis": "x",
         "yaxis": "y"
        },
        {
         "alignmentgroup": "True",
         "customdata": [
          [
           1,
           80,
           0,
           30,
           1,
           427000,
           1,
           138,
           0,
           0,
           12,
           0
          ],
          [
           1,
           52,
           0,
           25,
           1,
           276000,
           1.3,
           137,
           0,
           0,
           16,
           0
          ],
          [
           0,
           63,
           1,
           60,
           0,
           368000,
           0.8,
           135,
           1,
           0,
           22,
           0
          ],
          [
           1,
           159,
           1,
           30,
           0,
           302000,
           1.2,
           138,
           0,
           0,
           29,
           0
          ],
          [
           0,
           2656,
           1,
           30,
           0,
           305000,
           2.3,
           137,
           1,
           0,
           30,
           0
          ],
          [
           0,
           127,
           1,
           50,
           1,
           218000,
           1,
           134,
           1,
           0,
           33,
           0
          ],
          [
           1,
           75,
           0,
           35,
           0,
           223000,
           2.7,
           138,
           1,
           1,
           54,
           0
          ],
          [
           1,
           607,
           0,
           40,
           0,
           216000,
           0.6,
           138,
           1,
           1,
           54,
           0
          ],
          [
           0,
           109,
           0,
           35,
           0,
           254000,
           1.1,
           139,
           1,
           1,
           60,
           0
          ],
          [
           0,
           582,
           0,
           80,
           0,
           263358.03,
           1.18,
           137,
           0,
           0,
           63,
           0
          ],
          [
           0,
           148,
           0,
           40,
           0,
           374000,
           0.8,
           140,
           1,
           1,
           68,
           0
          ],
          [
           0,
           582,
           1,
           35,
           0,
           122000,
           0.9,
           139,
           1,
           1,
           71,
           0
          ],
          [
           0,
           224,
           1,
           50,
           0,
           149000,
           1.3,
           137,
           1,
           1,
           72,
           0
          ],
          [
           0,
           92,
           0,
           60,
           1,
           317000,
           0.8,
           140,
           0,
           1,
           74,
           0
          ],
          [
           0,
           102,
           1,
           40,
           0,
           237000,
           1.2,
           140,
           1,
           0,
           74,
           0
          ],
          [
           1,
           203,
           1,
           38,
           1,
           283000,
           0.6,
           131,
           1,
           1,
           74,
           0
          ],
          [
           0,
           336,
           0,
           45,
           1,
           324000,
           0.9,
           140,
           0,
           0,
           74,
           0
          ],
          [
           0,
           69,
           0,
           40,
           0,
           293000,
           1.7,
           136,
           0,
           0,
           75,
           0
          ],
          [
           0,
           582,
           0,
           50,
           0,
           263358.03,
           1.18,
           137,
           1,
           1,
           76,
           0
          ],
          [
           1,
           55,
           0,
           50,
           1,
           172000,
           1.8,
           133,
           1,
           0,
           78,
           0
          ],
          [
           0,
           78,
           0,
           50,
           0,
           406000,
           0.7,
           140,
           1,
           0,
           79,
           0
          ],
          [
           0,
           47,
           0,
           35,
           1,
           173000,
           1.1,
           137,
           1,
           0,
           79,
           0
          ],
          [
           1,
           68,
           1,
           60,
           1,
           304000,
           0.8,
           140,
           1,
           0,
           79,
           0
          ],
          [
           0,
           84,
           1,
           40,
           1,
           235000,
           0.7,
           139,
           1,
           0,
           79,
           0
          ],
          [
           1,
           115,
           0,
           25,
           1,
           181000,
           1.1,
           144,
           1,
           0,
           79,
           0
          ],
          [
           0,
           66,
           1,
           45,
           0,
           249000,
           0.8,
           136,
           1,
           1,
           80,
           0
          ],
          [
           0,
           897,
           1,
           45,
           0,
           297000,
           1,
           133,
           1,
           0,
           80,
           0
          ],
          [
           0,
           582,
           0,
           60,
           0,
           263358.03,
           1.18,
           137,
           0,
           0,
           82,
           0
          ],
          [
           0,
           144,
           1,
           38,
           1,
           327000,
           0.7,
           142,
           0,
           0,
           83,
           0
          ],
          [
           1,
           133,
           0,
           60,
           1,
           219000,
           1,
           141,
           1,
           0,
           83,
           0
          ],
          [
           1,
           514,
           1,
           25,
           1,
           254000,
           1.3,
           134,
           1,
           0,
           83,
           0
          ],
          [
           1,
           59,
           0,
           60,
           0,
           255000,
           1.1,
           136,
           0,
           0,
           85,
           0
          ],
          [
           1,
           156,
           1,
           25,
           1,
           318000,
           1.2,
           137,
           0,
           0,
           85,
           0
          ],
          [
           1,
           61,
           1,
           40,
           0,
           221000,
           1.1,
           140,
           0,
           0,
           86,
           0
          ],
          [
           1,
           305,
           0,
           25,
           0,
           298000,
           1.1,
           141,
           1,
           0,
           87,
           0
          ],
          [
           0,
           582,
           0,
           45,
           1,
           263358.03,
           1.18,
           137,
           1,
           0,
           87,
           0
          ],
          [
           0,
           898,
           0,
           25,
           0,
           149000,
           1.1,
           144,
           1,
           1,
           87,
           0
          ],
          [
           0,
           5209,
           0,
           30,
           0,
           226000,
           1,
           140,
           1,
           1,
           87,
           0
          ],
          [
           0,
           53,
           0,
           50,
           1,
           286000,
           2.3,
           143,
           0,
           0,
           87,
           0
          ],
          [
           0,
           748,
           0,
           45,
           0,
           263000,
           1.3,
           137,
           1,
           0,
           88,
           0
          ],
          [
           1,
           1876,
           1,
           35,
           0,
           226000,
           0.9,
           138,
           1,
           0,
           88,
           0
          ],
          [
           0,
           936,
           0,
           38,
           0,
           304000,
           1.1,
           133,
           1,
           1,
           88,
           0
          ],
          [
           0,
           292,
           1,
           35,
           0,
           850000,
           1.3,
           142,
           1,
           1,
           88,
           0
          ],
          [
           0,
           60,
           0,
           35,
           0,
           228000,
           1.2,
           135,
           1,
           1,
           90,
           0
          ],
          [
           0,
           369,
           1,
           25,
           0,
           252000,
           1.6,
           136,
           1,
           0,
           90,
           0
          ],
          [
           1,
           754,
           1,
           40,
           1,
           328000,
           1.2,
           126,
           1,
           0,
           91,
           0
          ],
          [
           1,
           400,
           0,
           40,
           0,
           164000,
           1,
           139,
           0,
           0,
           91,
           0
          ],
          [
           1,
           96,
           1,
           60,
           1,
           271000,
           0.7,
           136,
           0,
           0,
           94,
           0
          ],
          [
           1,
           102,
           0,
           60,
           0,
           507000,
           3.2,
           138,
           0,
           0,
           94,
           0
          ],
          [
           1,
           113,
           1,
           60,
           1,
           203000,
           0.9,
           140,
           0,
           0,
           94,
           0
          ],
          [
           1,
           737,
           0,
           60,
           1,
           210000,
           1.5,
           135,
           1,
           1,
           95,
           0
          ],
          [
           1,
           68,
           1,
           38,
           1,
           162000,
           1,
           136,
           0,
           0,
           95,
           0
          ],
          [
           0,
           96,
           1,
           38,
           0,
           228000,
           0.75,
           140,
           0,
           0,
           95,
           0
          ],
          [
           1,
           582,
           0,
           30,
           1,
           127000,
           0.9,
           145,
           0,
           0,
           95,
           0
          ],
          [
           1,
           358,
           0,
           50,
           0,
           237000,
           1.3,
           135,
           0,
           0,
           97,
           0
          ],
          [
           1,
           200,
           1,
           60,
           0,
           300000,
           0.8,
           137,
           0,
           0,
           104,
           0
          ],
          [
           0,
           248,
           0,
           30,
           1,
           267000,
           0.7,
           136,
           1,
           1,
           104,
           0
          ],
          [
           1,
           270,
           1,
           35,
           0,
           227000,
           3.4,
           145,
           1,
           0,
           105,
           0
          ],
          [
           1,
           1808,
           0,
           60,
           1,
           249000,
           0.7,
           138,
           1,
           1,
           106,
           0
          ],
          [
           1,
           1082,
           1,
           45,
           0,
           250000,
           6.1,
           131,
           1,
           0,
           107,
           0
          ],
          [
           0,
           719,
           0,
           40,
           1,
           263358.03,
           1.18,
           137,
           0,
           0,
           107,
           0
          ],
          [
           0,
           193,
           0,
           60,
           1,
           295000,
           1.3,
           145,
           1,
           1,
           107,
           0
          ],
          [
           0,
           4540,
           0,
           35,
           0,
           231000,
           1.18,
           137,
           1,
           1,
           107,
           0
          ],
          [
           0,
           582,
           0,
           40,
           0,
           263358.03,
           1.18,
           137,
           1,
           0,
           107,
           0
          ],
          [
           1,
           59,
           1,
           60,
           0,
           172000,
           0.9,
           137,
           0,
           0,
           107,
           0
          ],
          [
           1,
           646,
           0,
           25,
           0,
           305000,
           2.1,
           130,
           1,
           0,
           108,
           0
          ],
          [
           0,
           281,
           1,
           35,
           0,
           221000,
           1,
           136,
           0,
           0,
           108,
           0
          ],
          [
           0,
           1548,
           0,
           30,
           1,
           211000,
           0.8,
           138,
           1,
           0,
           108,
           0
          ],
          [
           1,
           291,
           0,
           35,
           0,
           348000,
           0.9,
           140,
           0,
           0,
           109,
           0
          ],
          [
           0,
           482,
           1,
           30,
           0,
           329000,
           0.9,
           132,
           0,
           0,
           109,
           0
          ],
          [
           1,
           84,
           0,
           40,
           1,
           229000,
           0.9,
           141,
           0,
           0,
           110,
           0
          ],
          [
           0,
           185,
           0,
           30,
           0,
           266000,
           0.7,
           141,
           1,
           1,
           112,
           0
          ],
          [
           0,
           132,
           0,
           30,
           0,
           218000,
           0.7,
           136,
           1,
           1,
           112,
           0
          ],
          [
           0,
           1610,
           0,
           60,
           0,
           242000,
           1,
           137,
           1,
           0,
           113,
           0
          ],
          [
           0,
           2261,
           0,
           35,
           1,
           228000,
           0.9,
           136,
           1,
           0,
           115,
           0
          ],
          [
           0,
           30,
           1,
           60,
           1,
           244000,
           0.9,
           139,
           1,
           0,
           117,
           0
          ],
          [
           0,
           115,
           0,
           45,
           1,
           184000,
           0.9,
           134,
           1,
           1,
           118,
           0
          ],
          [
           0,
           1846,
           1,
           35,
           0,
           263358.03,
           1.18,
           137,
           1,
           1,
           119,
           0
          ],
          [
           1,
           335,
           0,
           35,
           1,
           235000,
           0.8,
           136,
           0,
           0,
           120,
           0
          ],
          [
           1,
           231,
           1,
           25,
           0,
           194000,
           1.7,
           140,
           1,
           0,
           120,
           0
          ],
          [
           1,
           58,
           0,
           35,
           0,
           277000,
           1.4,
           136,
           0,
           0,
           120,
           0
          ],
          [
           0,
           250,
           0,
           25,
           0,
           262000,
           1,
           136,
           1,
           1,
           120,
           0
          ],
          [
           1,
           910,
           0,
           50,
           0,
           235000,
           1.3,
           134,
           1,
           0,
           121,
           0
          ],
          [
           1,
           129,
           0,
           45,
           1,
           362000,
           1.1,
           139,
           1,
           1,
           121,
           0
          ],
          [
           1,
           72,
           0,
           40,
           1,
           242000,
           1.2,
           134,
           1,
           0,
           121,
           0
          ],
          [
           1,
           130,
           0,
           35,
           0,
           174000,
           0.8,
           139,
           1,
           1,
           121,
           0
          ],
          [
           1,
           582,
           0,
           40,
           0,
           448000,
           0.9,
           137,
           1,
           1,
           123,
           0
          ],
          [
           0,
           196,
           0,
           60,
           0,
           220000,
           0.7,
           133,
           1,
           1,
           134,
           0
          ],
          [
           0,
           582,
           1,
           40,
           0,
           270000,
           1,
           138,
           0,
           0,
           140,
           0
          ],
          [
           0,
           835,
           0,
           35,
           1,
           305000,
           0.8,
           133,
           0,
           0,
           145,
           0
          ],
          [
           1,
           582,
           1,
           35,
           0,
           263358.03,
           1.5,
           136,
           1,
           1,
           145,
           0
          ],
          [
           0,
           3966,
           0,
           40,
           0,
           325000,
           0.9,
           140,
           1,
           1,
           146,
           0
          ],
          [
           1,
           171,
           0,
           60,
           1,
           176000,
           1.1,
           145,
           1,
           1,
           146,
           0
          ],
          [
           1,
           115,
           0,
           20,
           0,
           189000,
           0.8,
           139,
           1,
           0,
           146,
           0
          ],
          [
           0,
           198,
           1,
           35,
           1,
           281000,
           0.9,
           137,
           1,
           1,
           146,
           0
          ],
          [
           1,
           95,
           0,
           60,
           0,
           337000,
           1,
           138,
           1,
           1,
           146,
           0
          ],
          [
           0,
           1419,
           0,
           40,
           0,
           105000,
           1,
           135,
           1,
           1,
           147,
           0
          ],
          [
           1,
           69,
           0,
           50,
           0,
           132000,
           1,
           140,
           0,
           0,
           147,
           0
          ],
          [
           1,
           122,
           1,
           60,
           0,
           267000,
           1.2,
           145,
           1,
           0,
           147,
           0
          ],
          [
           0,
           835,
           0,
           40,
           0,
           279000,
           0.7,
           140,
           1,
           1,
           147,
           0
          ],
          [
           0,
           478,
           1,
           30,
           0,
           303000,
           0.9,
           136,
           1,
           0,
           148,
           0
          ],
          [
           1,
           151,
           1,
           40,
           1,
           201000,
           1,
           136,
           0,
           0,
           172,
           0
          ],
          [
           0,
           244,
           0,
           45,
           1,
           275000,
           0.9,
           140,
           0,
           0,
           174,
           0
          ],
          [
           0,
           582,
           1,
           35,
           0,
           350000,
           2.1,
           134,
           1,
           0,
           174,
           0
          ],
          [
           1,
           62,
           0,
           60,
           0,
           309000,
           1.5,
           135,
           0,
           0,
           174,
           0
          ],
          [
           1,
           121,
           1,
           40,
           0,
           260000,
           0.7,
           130,
           1,
           0,
           175,
           0
          ],
          [
           1,
           231,
           1,
           30,
           0,
           160000,
           1.18,
           142,
           1,
           1,
           180,
           0
          ],
          [
           0,
           582,
           1,
           38,
           1,
           263358.03,
           1.18,
           137,
           0,
           0,
           185,
           0
          ],
          [
           0,
           167,
           0,
           30,
           0,
           259000,
           0.8,
           138,
           0,
           0,
           186,
           0
          ],
          [
           1,
           582,
           1,
           20,
           1,
           279000,
           1,
           134,
           0,
           0,
           186,
           0
          ],
          [
           0,
           1211,
           1,
           35,
           0,
           263358.03,
           1.8,
           113,
           1,
           1,
           186,
           0
          ],
          [
           1,
           1767,
           0,
           45,
           0,
           73000,
           0.7,
           137,
           1,
           0,
           186,
           0
          ],
          [
           0,
           308,
           1,
           60,
           1,
           377000,
           1,
           136,
           1,
           0,
           186,
           0
          ],
          [
           0,
           97,
           0,
           60,
           1,
           220000,
           0.9,
           138,
           1,
           0,
           186,
           0
          ],
          [
           0,
           59,
           0,
           25,
           1,
           212000,
           3.5,
           136,
           1,
           1,
           187,
           0
          ],
          [
           1,
           64,
           0,
           40,
           0,
           277000,
           0.7,
           137,
           1,
           1,
           187,
           0
          ],
          [
           1,
           167,
           1,
           45,
           0,
           362000,
           1,
           136,
           0,
           0,
           187,
           0
          ],
          [
           1,
           101,
           0,
           40,
           0,
           226000,
           0.8,
           141,
           0,
           0,
           187,
           0
          ],
          [
           0,
           212,
           0,
           38,
           0,
           186000,
           0.9,
           136,
           1,
           0,
           187,
           0
          ],
          [
           1,
           2281,
           1,
           40,
           0,
           283000,
           1,
           141,
           0,
           0,
           187,
           0
          ],
          [
           0,
           972,
           1,
           35,
           1,
           268000,
           0.8,
           130,
           0,
           0,
           187,
           0
          ],
          [
           0,
           212,
           1,
           17,
           1,
           389000,
           1,
           136,
           1,
           1,
           188,
           0
          ],
          [
           0,
           582,
           0,
           62,
           1,
           147000,
           0.8,
           140,
           1,
           1,
           192,
           0
          ],
          [
           0,
           224,
           0,
           50,
           0,
           481000,
           1.4,
           138,
           1,
           1,
           192,
           0
          ],
          [
           1,
           135,
           0,
           35,
           1,
           290000,
           0.8,
           134,
           1,
           0,
           194,
           0
          ],
          [
           0,
           582,
           0,
           35,
           1,
           203000,
           1.3,
           134,
           1,
           0,
           195,
           0
          ],
          [
           0,
           1202,
           0,
           50,
           1,
           358000,
           0.9,
           141,
           0,
           0,
           196,
           0
          ],
          [
           1,
           1021,
           1,
           35,
           0,
           271000,
           1.1,
           134,
           1,
           0,
           197,
           0
          ],
          [
           0,
           582,
           1,
           35,
           1,
           371000,
           0.7,
           140,
           0,
           0,
           197,
           0
          ],
          [
           0,
           118,
           0,
           50,
           0,
           194000,
           1.1,
           145,
           1,
           1,
           200,
           0
          ],
          [
           1,
           86,
           0,
           35,
           0,
           365000,
           1.1,
           139,
           1,
           1,
           201,
           0
          ],
          [
           0,
           582,
           0,
           25,
           0,
           130000,
           0.8,
           134,
           1,
           0,
           201,
           0
          ],
          [
           0,
           582,
           1,
           25,
           0,
           504000,
           1,
           138,
           1,
           0,
           205,
           0
          ],
          [
           0,
           675,
           1,
           60,
           0,
           265000,
           1.4,
           125,
           0,
           0,
           205,
           0
          ],
          [
           1,
           57,
           0,
           25,
           0,
           189000,
           1.3,
           132,
           1,
           1,
           205,
           0
          ],
          [
           1,
           2794,
           0,
           35,
           1,
           141000,
           1,
           140,
           1,
           0,
           206,
           0
          ],
          [
           0,
           56,
           0,
           25,
           0,
           237000,
           5,
           130,
           0,
           0,
           207,
           0
          ],
          [
           0,
           211,
           0,
           25,
           0,
           274000,
           1.2,
           134,
           0,
           0,
           207,
           0
          ],
          [
           0,
           93,
           0,
           35,
           0,
           185000,
           1.1,
           134,
           1,
           1,
           208,
           0
          ],
          [
           1,
           129,
           0,
           35,
           0,
           255000,
           0.9,
           137,
           1,
           0,
           209,
           0
          ],
          [
           1,
           707,
           0,
           38,
           0,
           330000,
           1.4,
           137,
           1,
           1,
           209,
           0
          ],
          [
           1,
           582,
           0,
           45,
           0,
           305000,
           1.1,
           137,
           1,
           1,
           209,
           0
          ],
          [
           1,
           109,
           0,
           50,
           1,
           406000,
           1.1,
           137,
           1,
           0,
           209,
           0
          ],
          [
           0,
           119,
           0,
           50,
           1,
           248000,
           1.1,
           148,
           1,
           0,
           209,
           0
          ],
          [
           0,
           232,
           0,
           30,
           0,
           173000,
           1.2,
           132,
           1,
           0,
           210,
           0
          ],
          [
           1,
           720,
           1,
           40,
           0,
           257000,
           1,
           136,
           0,
           0,
           210,
           0
          ],
          [
           1,
           180,
           0,
           45,
           0,
           263358.03,
           1.18,
           137,
           1,
           1,
           211,
           0
          ],
          [
           0,
           81,
           1,
           35,
           1,
           533000,
           1.3,
           139,
           0,
           0,
           212,
           0
          ],
          [
           0,
           582,
           1,
           30,
           0,
           249000,
           1.3,
           136,
           1,
           1,
           212,
           0
          ],
          [
           0,
           90,
           0,
           35,
           0,
           255000,
           1.1,
           136,
           1,
           1,
           212,
           0
          ],
          [
           1,
           1185,
           0,
           40,
           1,
           220000,
           0.9,
           141,
           0,
           0,
           213,
           0
          ],
          [
           0,
           582,
           1,
           38,
           0,
           264000,
           1.8,
           134,
           1,
           0,
           213,
           0
          ],
          [
           1,
           80,
           1,
           38,
           0,
           282000,
           1.4,
           137,
           1,
           0,
           213,
           0
          ],
          [
           0,
           143,
           0,
           25,
           0,
           246000,
           2.4,
           135,
           1,
           0,
           214,
           0
          ],
          [
           0,
           624,
           0,
           35,
           0,
           301000,
           1,
           142,
           1,
           1,
           214,
           0
          ],
          [
           0,
           207,
           1,
           40,
           0,
           223000,
           1.2,
           130,
           0,
           0,
           214,
           0
          ],
          [
           0,
           2522,
           0,
           30,
           1,
           404000,
           0.5,
           139,
           0,
           0,
           214,
           0
          ],
          [
           0,
           572,
           1,
           35,
           0,
           231000,
           0.8,
           143,
           0,
           0,
           215,
           0
          ],
          [
           0,
           245,
           0,
           45,
           1,
           274000,
           1,
           133,
           1,
           0,
           215,
           0
          ],
          [
           0,
           88,
           1,
           35,
           1,
           236000,
           1.2,
           132,
           0,
           0,
           215,
           0
          ],
          [
           1,
           446,
           0,
           60,
           1,
           263358.03,
           1,
           139,
           1,
           0,
           215,
           0
          ],
          [
           1,
           191,
           1,
           30,
           1,
           334000,
           1,
           142,
           1,
           1,
           216,
           0
          ],
          [
           0,
           326,
           0,
           38,
           0,
           294000,
           1.7,
           139,
           0,
           0,
           220,
           0
          ],
          [
           0,
           132,
           1,
           38,
           1,
           253000,
           1,
           139,
           1,
           0,
           230,
           0
          ],
          [
           1,
           66,
           1,
           25,
           0,
           233000,
           0.8,
           135,
           1,
           0,
           230,
           0
          ],
          [
           0,
           56,
           0,
           50,
           0,
           308000,
           0.7,
           135,
           1,
           1,
           231,
           0
          ],
          [
           0,
           66,
           0,
           40,
           0,
           203000,
           1,
           138,
           1,
           0,
           233,
           0
          ],
          [
           1,
           655,
           0,
           40,
           0,
           283000,
           0.7,
           133,
           0,
           0,
           233,
           0
          ],
          [
           1,
           157,
           1,
           60,
           0,
           208000,
           1,
           140,
           0,
           0,
           237,
           0
          ],
          [
           0,
           582,
           1,
           38,
           0,
           147000,
           1.2,
           141,
           1,
           0,
           237,
           0
          ],
          [
           1,
           298,
           0,
           35,
           0,
           362000,
           0.9,
           140,
           1,
           1,
           240,
           0
          ],
          [
           1,
           135,
           1,
           38,
           0,
           133000,
           1.7,
           140,
           1,
           0,
           244,
           0
          ],
          [
           0,
           582,
           1,
           38,
           0,
           302000,
           0.9,
           140,
           0,
           0,
           244,
           0
          ],
          [
           0,
           582,
           1,
           35,
           0,
           222000,
           1,
           132,
           1,
           0,
           244,
           0
          ],
          [
           0,
           582,
           1,
           30,
           1,
           263358.03,
           1.6,
           130,
           1,
           1,
           244,
           0
          ],
          [
           0,
           582,
           1,
           40,
           0,
           221000,
           0.9,
           134,
           0,
           0,
           244,
           0
          ],
          [
           0,
           213,
           0,
           38,
           0,
           215000,
           1.2,
           133,
           0,
           0,
           245,
           0
          ],
          [
           0,
           64,
           0,
           40,
           0,
           189000,
           0.7,
           140,
           1,
           0,
           245,
           0
          ],
          [
           1,
           257,
           1,
           30,
           0,
           150000,
           1,
           137,
           1,
           1,
           245,
           0
          ],
          [
           0,
           582,
           0,
           38,
           1,
           422000,
           0.8,
           137,
           0,
           0,
           245,
           0
          ],
          [
           0,
           618,
           0,
           35,
           0,
           327000,
           1.1,
           142,
           0,
           0,
           245,
           0
          ],
          [
           0,
           582,
           1,
           38,
           0,
           25100,
           1.1,
           140,
           1,
           0,
           246,
           0
          ],
          [
           1,
           1051,
           1,
           30,
           0,
           232000,
           0.7,
           136,
           0,
           0,
           246,
           0
          ],
          [
           0,
           84,
           1,
           38,
           0,
           451000,
           1.3,
           136,
           0,
           0,
           246,
           0
          ],
          [
           0,
           2695,
           1,
           40,
           0,
           241000,
           1,
           137,
           1,
           0,
           247,
           0
          ],
          [
           0,
           582,
           0,
           40,
           0,
           51000,
           2.7,
           136,
           1,
           1,
           250,
           0
          ],
          [
           0,
           64,
           0,
           30,
           0,
           215000,
           3.8,
           128,
           1,
           1,
           250,
           0
          ],
          [
           0,
           1688,
           0,
           38,
           0,
           263358.03,
           1.1,
           138,
           1,
           1,
           250,
           0
          ],
          [
           1,
           54,
           0,
           40,
           0,
           279000,
           0.8,
           141,
           1,
           0,
           250,
           0
          ],
          [
           1,
           170,
           1,
           40,
           0,
           336000,
           1.2,
           135,
           1,
           0,
           250,
           0
          ],
          [
           0,
           253,
           0,
           35,
           0,
           279000,
           1.7,
           140,
           1,
           0,
           250,
           0
          ],
          [
           0,
           582,
           1,
           55,
           0,
           543000,
           1,
           132,
           0,
           0,
           250,
           0
          ],
          [
           0,
           892,
           1,
           35,
           0,
           263358.03,
           1.1,
           142,
           0,
           0,
           256,
           0
          ],
          [
           1,
           337,
           0,
           38,
           0,
           390000,
           0.9,
           144,
           0,
           0,
           256,
           0
          ],
          [
           0,
           615,
           1,
           55,
           0,
           222000,
           0.8,
           141,
           0,
           0,
           257,
           0
          ],
          [
           0,
           320,
           0,
           35,
           0,
           133000,
           1.4,
           139,
           1,
           0,
           258,
           0
          ],
          [
           0,
           190,
           1,
           38,
           0,
           382000,
           1,
           140,
           1,
           1,
           258,
           0
          ],
          [
           1,
           103,
           1,
           35,
           0,
           179000,
           0.9,
           136,
           1,
           1,
           270,
           0
          ],
          [
           0,
           61,
           1,
           38,
           1,
           155000,
           1.1,
           143,
           1,
           1,
           270,
           0
          ],
          [
           0,
           1820,
           0,
           38,
           0,
           270000,
           1.2,
           139,
           0,
           0,
           271,
           0
          ],
          [
           0,
           2060,
           1,
           60,
           0,
           742000,
           0.8,
           138,
           0,
           0,
           278,
           0
          ],
          [
           0,
           2413,
           0,
           38,
           0,
           140000,
           1.4,
           140,
           1,
           1,
           280,
           0
          ],
          [
           0,
           196,
           0,
           45,
           0,
           395000,
           1.6,
           136,
           1,
           1,
           285,
           0
          ]
         ],
         "hovertemplate": "DEATH_EVENT=%{customdata[11]}<br>AGE=%{x}<br>anaemia=%{customdata[0]}<br>creatinine_phosphokinase=%{customdata[1]}<br>diabetes=%{customdata[2]}<br>ejection_fraction=%{customdata[3]}<br>high_blood_pressure=%{customdata[4]}<br>platelets=%{customdata[5]}<br>serum_creatinine=%{customdata[6]}<br>serum_sodium=%{customdata[7]}<br>sex=%{customdata[8]}<br>smoking=%{customdata[9]}<br>time=%{customdata[10]}<extra></extra>",
         "legendgroup": "0",
         "marker": {
          "color": "#EF553B"
         },
         "name": "0",
         "offsetgroup": "0",
         "scalegroup": "x",
         "showlegend": false,
         "type": "violin",
         "x": [
          49,
          65,
          53,
          50,
          60,
          72,
          70,
          60,
          55,
          45,
          41,
          58,
          65,
          70,
          42,
          75,
          55,
          70,
          67,
          79,
          51,
          55,
          65,
          44,
          57,
          70,
          60,
          42,
          58,
          58,
          63,
          70,
          60,
          63,
          65,
          75,
          80,
          42,
          60,
          55,
          45,
          63,
          45,
          55,
          50,
          60,
          58,
          60,
          85,
          65,
          60,
          66,
          60,
          60,
          43,
          58,
          61,
          53,
          53,
          60,
          46,
          63,
          81,
          75,
          65,
          68,
          62,
          50,
          46,
          50,
          61,
          50,
          52,
          64,
          60,
          62,
          50,
          50,
          65,
          60,
          52,
          50,
          85,
          59,
          66,
          45,
          63,
          53,
          65,
          70,
          51,
          52,
          70,
          50,
          65,
          60,
          69,
          49,
          63,
          55,
          40,
          60.667,
          40,
          80,
          64,
          50,
          73,
          45,
          65,
          50,
          60,
          63,
          45,
          70,
          60,
          78,
          50,
          40,
          85,
          60,
          49,
          70,
          50,
          78,
          65,
          73,
          70,
          68,
          55,
          65,
          42,
          47,
          58,
          75,
          58,
          55,
          65,
          72,
          70,
          40,
          53,
          53,
          77,
          75,
          70,
          65,
          55,
          70,
          65,
          40,
          73,
          54,
          61,
          64,
          40,
          53,
          50,
          55,
          50,
          70,
          53,
          52,
          65,
          58,
          45,
          53,
          55,
          62,
          68,
          61,
          50,
          56,
          45,
          40,
          44,
          51,
          67,
          42,
          60,
          45,
          70,
          70,
          50,
          55,
          70,
          70,
          42,
          65,
          50,
          55,
          60,
          45,
          65,
          90,
          45,
          60,
          52,
          63,
          62,
          55,
          45,
          45,
          50
         ],
         "xaxis": "x2",
         "yaxis": "y2"
        }
       ],
       "layout": {
        "barmode": "relative",
        "legend": {
         "title": {
          "text": "DEATH_EVENT"
         },
         "tracegroupgap": 0
        },
        "template": {
         "data": {
          "bar": [
           {
            "error_x": {
             "color": "#f2f5fa"
            },
            "error_y": {
             "color": "#f2f5fa"
            },
            "marker": {
             "line": {
              "color": "rgb(17,17,17)",
              "width": 0.5
             },
             "pattern": {
              "fillmode": "overlay",
              "size": 10,
              "solidity": 0.2
             }
            },
            "type": "bar"
           }
          ],
          "barpolar": [
           {
            "marker": {
             "line": {
              "color": "rgb(17,17,17)",
              "width": 0.5
             },
             "pattern": {
              "fillmode": "overlay",
              "size": 10,
              "solidity": 0.2
             }
            },
            "type": "barpolar"
           }
          ],
          "carpet": [
           {
            "aaxis": {
             "endlinecolor": "#A2B1C6",
             "gridcolor": "#506784",
             "linecolor": "#506784",
             "minorgridcolor": "#506784",
             "startlinecolor": "#A2B1C6"
            },
            "baxis": {
             "endlinecolor": "#A2B1C6",
             "gridcolor": "#506784",
             "linecolor": "#506784",
             "minorgridcolor": "#506784",
             "startlinecolor": "#A2B1C6"
            },
            "type": "carpet"
           }
          ],
          "choropleth": [
           {
            "colorbar": {
             "outlinewidth": 0,
             "ticks": ""
            },
            "type": "choropleth"
           }
          ],
          "contour": [
           {
            "colorbar": {
             "outlinewidth": 0,
             "ticks": ""
            },
            "colorscale": [
             [
              0,
              "#0d0887"
             ],
             [
              0.1111111111111111,
              "#46039f"
             ],
             [
              0.2222222222222222,
              "#7201a8"
             ],
             [
              0.3333333333333333,
              "#9c179e"
             ],
             [
              0.4444444444444444,
              "#bd3786"
             ],
             [
              0.5555555555555556,
              "#d8576b"
             ],
             [
              0.6666666666666666,
              "#ed7953"
             ],
             [
              0.7777777777777778,
              "#fb9f3a"
             ],
             [
              0.8888888888888888,
              "#fdca26"
             ],
             [
              1,
              "#f0f921"
             ]
            ],
            "type": "contour"
           }
          ],
          "contourcarpet": [
           {
            "colorbar": {
             "outlinewidth": 0,
             "ticks": ""
            },
            "type": "contourcarpet"
           }
          ],
          "heatmap": [
           {
            "colorbar": {
             "outlinewidth": 0,
             "ticks": ""
            },
            "colorscale": [
             [
              0,
              "#0d0887"
             ],
             [
              0.1111111111111111,
              "#46039f"
             ],
             [
              0.2222222222222222,
              "#7201a8"
             ],
             [
              0.3333333333333333,
              "#9c179e"
             ],
             [
              0.4444444444444444,
              "#bd3786"
             ],
             [
              0.5555555555555556,
              "#d8576b"
             ],
             [
              0.6666666666666666,
              "#ed7953"
             ],
             [
              0.7777777777777778,
              "#fb9f3a"
             ],
             [
              0.8888888888888888,
              "#fdca26"
             ],
             [
              1,
              "#f0f921"
             ]
            ],
            "type": "heatmap"
           }
          ],
          "heatmapgl": [
           {
            "colorbar": {
             "outlinewidth": 0,
             "ticks": ""
            },
            "colorscale": [
             [
              0,
              "#0d0887"
             ],
             [
              0.1111111111111111,
              "#46039f"
             ],
             [
              0.2222222222222222,
              "#7201a8"
             ],
             [
              0.3333333333333333,
              "#9c179e"
             ],
             [
              0.4444444444444444,
              "#bd3786"
             ],
             [
              0.5555555555555556,
              "#d8576b"
             ],
             [
              0.6666666666666666,
              "#ed7953"
             ],
             [
              0.7777777777777778,
              "#fb9f3a"
             ],
             [
              0.8888888888888888,
              "#fdca26"
             ],
             [
              1,
              "#f0f921"
             ]
            ],
            "type": "heatmapgl"
           }
          ],
          "histogram": [
           {
            "marker": {
             "pattern": {
              "fillmode": "overlay",
              "size": 10,
              "solidity": 0.2
             }
            },
            "type": "histogram"
           }
          ],
          "histogram2d": [
           {
            "colorbar": {
             "outlinewidth": 0,
             "ticks": ""
            },
            "colorscale": [
             [
              0,
              "#0d0887"
             ],
             [
              0.1111111111111111,
              "#46039f"
             ],
             [
              0.2222222222222222,
              "#7201a8"
             ],
             [
              0.3333333333333333,
              "#9c179e"
             ],
             [
              0.4444444444444444,
              "#bd3786"
             ],
             [
              0.5555555555555556,
              "#d8576b"
             ],
             [
              0.6666666666666666,
              "#ed7953"
             ],
             [
              0.7777777777777778,
              "#fb9f3a"
             ],
             [
              0.8888888888888888,
              "#fdca26"
             ],
             [
              1,
              "#f0f921"
             ]
            ],
            "type": "histogram2d"
           }
          ],
          "histogram2dcontour": [
           {
            "colorbar": {
             "outlinewidth": 0,
             "ticks": ""
            },
            "colorscale": [
             [
              0,
              "#0d0887"
             ],
             [
              0.1111111111111111,
              "#46039f"
             ],
             [
              0.2222222222222222,
              "#7201a8"
             ],
             [
              0.3333333333333333,
              "#9c179e"
             ],
             [
              0.4444444444444444,
              "#bd3786"
             ],
             [
              0.5555555555555556,
              "#d8576b"
             ],
             [
              0.6666666666666666,
              "#ed7953"
             ],
             [
              0.7777777777777778,
              "#fb9f3a"
             ],
             [
              0.8888888888888888,
              "#fdca26"
             ],
             [
              1,
              "#f0f921"
             ]
            ],
            "type": "histogram2dcontour"
           }
          ],
          "mesh3d": [
           {
            "colorbar": {
             "outlinewidth": 0,
             "ticks": ""
            },
            "type": "mesh3d"
           }
          ],
          "parcoords": [
           {
            "line": {
             "colorbar": {
              "outlinewidth": 0,
              "ticks": ""
             }
            },
            "type": "parcoords"
           }
          ],
          "pie": [
           {
            "automargin": true,
            "type": "pie"
           }
          ],
          "scatter": [
           {
            "marker": {
             "line": {
              "color": "#283442"
             }
            },
            "type": "scatter"
           }
          ],
          "scatter3d": [
           {
            "line": {
             "colorbar": {
              "outlinewidth": 0,
              "ticks": ""
             }
            },
            "marker": {
             "colorbar": {
              "outlinewidth": 0,
              "ticks": ""
             }
            },
            "type": "scatter3d"
           }
          ],
          "scattercarpet": [
           {
            "marker": {
             "colorbar": {
              "outlinewidth": 0,
              "ticks": ""
             }
            },
            "type": "scattercarpet"
           }
          ],
          "scattergeo": [
           {
            "marker": {
             "colorbar": {
              "outlinewidth": 0,
              "ticks": ""
             }
            },
            "type": "scattergeo"
           }
          ],
          "scattergl": [
           {
            "marker": {
             "line": {
              "color": "#283442"
             }
            },
            "type": "scattergl"
           }
          ],
          "scattermapbox": [
           {
            "marker": {
             "colorbar": {
              "outlinewidth": 0,
              "ticks": ""
             }
            },
            "type": "scattermapbox"
           }
          ],
          "scatterpolar": [
           {
            "marker": {
             "colorbar": {
              "outlinewidth": 0,
              "ticks": ""
             }
            },
            "type": "scatterpolar"
           }
          ],
          "scatterpolargl": [
           {
            "marker": {
             "colorbar": {
              "outlinewidth": 0,
              "ticks": ""
             }
            },
            "type": "scatterpolargl"
           }
          ],
          "scatterternary": [
           {
            "marker": {
             "colorbar": {
              "outlinewidth": 0,
              "ticks": ""
             }
            },
            "type": "scatterternary"
           }
          ],
          "surface": [
           {
            "colorbar": {
             "outlinewidth": 0,
             "ticks": ""
            },
            "colorscale": [
             [
              0,
              "#0d0887"
             ],
             [
              0.1111111111111111,
              "#46039f"
             ],
             [
              0.2222222222222222,
              "#7201a8"
             ],
             [
              0.3333333333333333,
              "#9c179e"
             ],
             [
              0.4444444444444444,
              "#bd3786"
             ],
             [
              0.5555555555555556,
              "#d8576b"
             ],
             [
              0.6666666666666666,
              "#ed7953"
             ],
             [
              0.7777777777777778,
              "#fb9f3a"
             ],
             [
              0.8888888888888888,
              "#fdca26"
             ],
             [
              1,
              "#f0f921"
             ]
            ],
            "type": "surface"
           }
          ],
          "table": [
           {
            "cells": {
             "fill": {
              "color": "#506784"
             },
             "line": {
              "color": "rgb(17,17,17)"
             }
            },
            "header": {
             "fill": {
              "color": "#2a3f5f"
             },
             "line": {
              "color": "rgb(17,17,17)"
             }
            },
            "type": "table"
           }
          ]
         },
         "layout": {
          "annotationdefaults": {
           "arrowcolor": "#f2f5fa",
           "arrowhead": 0,
           "arrowwidth": 1
          },
          "autotypenumbers": "strict",
          "coloraxis": {
           "colorbar": {
            "outlinewidth": 0,
            "ticks": ""
           }
          },
          "colorscale": {
           "diverging": [
            [
             0,
             "#8e0152"
            ],
            [
             0.1,
             "#c51b7d"
            ],
            [
             0.2,
             "#de77ae"
            ],
            [
             0.3,
             "#f1b6da"
            ],
            [
             0.4,
             "#fde0ef"
            ],
            [
             0.5,
             "#f7f7f7"
            ],
            [
             0.6,
             "#e6f5d0"
            ],
            [
             0.7,
             "#b8e186"
            ],
            [
             0.8,
             "#7fbc41"
            ],
            [
             0.9,
             "#4d9221"
            ],
            [
             1,
             "#276419"
            ]
           ],
           "sequential": [
            [
             0,
             "#0d0887"
            ],
            [
             0.1111111111111111,
             "#46039f"
            ],
            [
             0.2222222222222222,
             "#7201a8"
            ],
            [
             0.3333333333333333,
             "#9c179e"
            ],
            [
             0.4444444444444444,
             "#bd3786"
            ],
            [
             0.5555555555555556,
             "#d8576b"
            ],
            [
             0.6666666666666666,
             "#ed7953"
            ],
            [
             0.7777777777777778,
             "#fb9f3a"
            ],
            [
             0.8888888888888888,
             "#fdca26"
            ],
            [
             1,
             "#f0f921"
            ]
           ],
           "sequentialminus": [
            [
             0,
             "#0d0887"
            ],
            [
             0.1111111111111111,
             "#46039f"
            ],
            [
             0.2222222222222222,
             "#7201a8"
            ],
            [
             0.3333333333333333,
             "#9c179e"
            ],
            [
             0.4444444444444444,
             "#bd3786"
            ],
            [
             0.5555555555555556,
             "#d8576b"
            ],
            [
             0.6666666666666666,
             "#ed7953"
            ],
            [
             0.7777777777777778,
             "#fb9f3a"
            ],
            [
             0.8888888888888888,
             "#fdca26"
            ],
            [
             1,
             "#f0f921"
            ]
           ]
          },
          "colorway": [
           "#636efa",
           "#EF553B",
           "#00cc96",
           "#ab63fa",
           "#FFA15A",
           "#19d3f3",
           "#FF6692",
           "#B6E880",
           "#FF97FF",
           "#FECB52"
          ],
          "font": {
           "color": "#f2f5fa"
          },
          "geo": {
           "bgcolor": "rgb(17,17,17)",
           "lakecolor": "rgb(17,17,17)",
           "landcolor": "rgb(17,17,17)",
           "showlakes": true,
           "showland": true,
           "subunitcolor": "#506784"
          },
          "hoverlabel": {
           "align": "left"
          },
          "hovermode": "closest",
          "mapbox": {
           "style": "dark"
          },
          "paper_bgcolor": "rgb(17,17,17)",
          "plot_bgcolor": "rgb(17,17,17)",
          "polar": {
           "angularaxis": {
            "gridcolor": "#506784",
            "linecolor": "#506784",
            "ticks": ""
           },
           "bgcolor": "rgb(17,17,17)",
           "radialaxis": {
            "gridcolor": "#506784",
            "linecolor": "#506784",
            "ticks": ""
           }
          },
          "scene": {
           "xaxis": {
            "backgroundcolor": "rgb(17,17,17)",
            "gridcolor": "#506784",
            "gridwidth": 2,
            "linecolor": "#506784",
            "showbackground": true,
            "ticks": "",
            "zerolinecolor": "#C8D4E3"
           },
           "yaxis": {
            "backgroundcolor": "rgb(17,17,17)",
            "gridcolor": "#506784",
            "gridwidth": 2,
            "linecolor": "#506784",
            "showbackground": true,
            "ticks": "",
            "zerolinecolor": "#C8D4E3"
           },
           "zaxis": {
            "backgroundcolor": "rgb(17,17,17)",
            "gridcolor": "#506784",
            "gridwidth": 2,
            "linecolor": "#506784",
            "showbackground": true,
            "ticks": "",
            "zerolinecolor": "#C8D4E3"
           }
          },
          "shapedefaults": {
           "line": {
            "color": "#f2f5fa"
           }
          },
          "sliderdefaults": {
           "bgcolor": "#C8D4E3",
           "bordercolor": "rgb(17,17,17)",
           "borderwidth": 1,
           "tickwidth": 0
          },
          "ternary": {
           "aaxis": {
            "gridcolor": "#506784",
            "linecolor": "#506784",
            "ticks": ""
           },
           "baxis": {
            "gridcolor": "#506784",
            "linecolor": "#506784",
            "ticks": ""
           },
           "bgcolor": "rgb(17,17,17)",
           "caxis": {
            "gridcolor": "#506784",
            "linecolor": "#506784",
            "ticks": ""
           }
          },
          "title": {
           "x": 0.05
          },
          "updatemenudefaults": {
           "bgcolor": "#506784",
           "borderwidth": 0
          },
          "xaxis": {
           "automargin": true,
           "gridcolor": "#283442",
           "linecolor": "#506784",
           "ticks": "",
           "title": {
            "standoff": 15
           },
           "zerolinecolor": "#283442",
           "zerolinewidth": 2
          },
          "yaxis": {
           "automargin": true,
           "gridcolor": "#283442",
           "linecolor": "#506784",
           "ticks": "",
           "title": {
            "standoff": 15
           },
           "zerolinecolor": "#283442",
           "zerolinewidth": 2
          }
         }
        },
        "title": {
         "text": "Distribution  AGE Vs DEATH_EVENT"
        },
        "xaxis": {
         "anchor": "y",
         "domain": [
          0,
          1
         ],
         "title": {
          "text": "AGE"
         }
        },
        "xaxis2": {
         "anchor": "y2",
         "domain": [
          0,
          1
         ],
         "matches": "x",
         "showgrid": true,
         "showticklabels": false
        },
        "yaxis": {
         "anchor": "x",
         "domain": [
          0,
          0.7326
         ],
         "title": {
          "text": "count"
         }
        },
        "yaxis2": {
         "anchor": "x2",
         "domain": [
          0.7426,
          1
         ],
         "matches": "y2",
         "showgrid": false,
         "showline": false,
         "showticklabels": false,
         "ticks": ""
        }
       }
      }
     },
     "metadata": {},
     "output_type": "display_data"
    }
   ],
   "source": [
    "# Now lets categorize the above histogram by DEATH_EVENT\n",
    "\n",
    "import plotly.express as px\n",
    "fig = px.histogram(df, x=\"age\", color=\"DEATH_EVENT\", marginal=\"violin\", hover_data=df.columns, \n",
    "                   title =\"Distribution  AGE Vs DEATH_EVENT\", \n",
    "                   labels={\"age\": \"AGE\"},\n",
    "                   template=\"plotly_dark\"\n",
    "                  )\n",
    "fig.show()"
   ]
  },
  {
   "cell_type": "markdown",
   "metadata": {},
   "source": [
    "> Pesebaran data kematian berbanding dengan usia, bisa di lihat yang paling banyak adalah usia 60"
   ]
  },
  {
   "cell_type": "code",
   "execution_count": 13,
   "metadata": {},
   "outputs": [
    {
     "data": {
      "image/png": "[encoded data removed]",
      "text/plain": [
       "<Figure size 1080x1080 with 16 Axes>"
      ]
     },
     "metadata": {
      "needs_background": "light"
     },
     "output_type": "display_data"
    }
   ],
   "source": [
    "# Histogram plot\n",
    "\n",
    "df.hist()\n",
    "plt.gcf().set_size_inches(15, 15)\n",
    "plt.show()"
   ]
  },
  {
   "cell_type": "code",
   "execution_count": 14,
   "metadata": {},
   "outputs": [
    {
     "data": {
      "image/png": "[encoded data removed]",
      "text/plain": [
       "<Figure size 1080x1080 with 2 Axes>"
      ]
     },
     "metadata": {
      "needs_background": "light"
     },
     "output_type": "display_data"
    }
   ],
   "source": [
    "plt.figure(figsize=(15,15))\n",
    "ax = sns.heatmap(df.corr(),annot=True)\n",
    "\n",
    "for t in ax.texts:\n",
    "    if (float(t.get_text()) > 0.7) | (float(t.get_text()) < -0.7):\n",
    "        t.set_text(t.get_text())\n",
    "    else:\n",
    "        t.set_text('')"
   ]
  },
  {
   "cell_type": "markdown",
   "metadata": {},
   "source": [
    "> Data sudah berkorelasi dengan baik jadi bisa di lanjutkan ke proses berikutnya"
   ]
  },
  {
   "cell_type": "markdown",
   "metadata": {},
   "source": [
    "# 6. Data Preprocessing\n",
    "   > Bagian ini berisi proses penyiapan data untuk proses pelatihan model, seperti pembagian data menjadi train-test-inference, transformasi data (normalisasi, encoding, dll.), dan proses-proses lain yang dibutuhkan.\n"
   ]
  },
  {
   "cell_type": "code",
   "execution_count": 15,
   "metadata": {},
   "outputs": [
    {
     "data": {
      "text/html": [
       "<div>\n",
       "<style scoped>\n",
       "    .dataframe tbody tr th:only-of-type {\n",
       "        vertical-align: middle;\n",
       "    }\n",
       "\n",
       "    .dataframe tbody tr th {\n",
       "        vertical-align: top;\n",
       "    }\n",
       "\n",
       "    .dataframe thead th {\n",
       "        text-align: right;\n",
       "    }\n",
       "</style>\n",
       "<table border=\"1\" class=\"dataframe\">\n",
       "  <thead>\n",
       "    <tr style=\"text-align: right;\">\n",
       "      <th></th>\n",
       "      <th>age</th>\n",
       "      <th>anaemia</th>\n",
       "      <th>creatinine_phosphokinase</th>\n",
       "      <th>diabetes</th>\n",
       "      <th>ejection_fraction</th>\n",
       "      <th>high_blood_pressure</th>\n",
       "      <th>platelets</th>\n",
       "      <th>serum_creatinine</th>\n",
       "      <th>serum_sodium</th>\n",
       "      <th>sex</th>\n",
       "      <th>smoking</th>\n",
       "      <th>time</th>\n",
       "      <th>DEATH_EVENT</th>\n",
       "    </tr>\n",
       "  </thead>\n",
       "  <tbody>\n",
       "    <tr>\n",
       "      <th>0</th>\n",
       "      <td>75.0</td>\n",
       "      <td>0</td>\n",
       "      <td>582</td>\n",
       "      <td>0</td>\n",
       "      <td>20</td>\n",
       "      <td>1</td>\n",
       "      <td>265000.00</td>\n",
       "      <td>1.9</td>\n",
       "      <td>130</td>\n",
       "      <td>1</td>\n",
       "      <td>0</td>\n",
       "      <td>4</td>\n",
       "      <td>1</td>\n",
       "    </tr>\n",
       "    <tr>\n",
       "      <th>1</th>\n",
       "      <td>55.0</td>\n",
       "      <td>0</td>\n",
       "      <td>7861</td>\n",
       "      <td>0</td>\n",
       "      <td>38</td>\n",
       "      <td>0</td>\n",
       "      <td>263358.03</td>\n",
       "      <td>1.1</td>\n",
       "      <td>136</td>\n",
       "      <td>1</td>\n",
       "      <td>0</td>\n",
       "      <td>6</td>\n",
       "      <td>1</td>\n",
       "    </tr>\n",
       "    <tr>\n",
       "      <th>2</th>\n",
       "      <td>65.0</td>\n",
       "      <td>0</td>\n",
       "      <td>146</td>\n",
       "      <td>0</td>\n",
       "      <td>20</td>\n",
       "      <td>0</td>\n",
       "      <td>162000.00</td>\n",
       "      <td>1.3</td>\n",
       "      <td>129</td>\n",
       "      <td>1</td>\n",
       "      <td>1</td>\n",
       "      <td>7</td>\n",
       "      <td>1</td>\n",
       "    </tr>\n",
       "    <tr>\n",
       "      <th>3</th>\n",
       "      <td>50.0</td>\n",
       "      <td>1</td>\n",
       "      <td>111</td>\n",
       "      <td>0</td>\n",
       "      <td>20</td>\n",
       "      <td>0</td>\n",
       "      <td>210000.00</td>\n",
       "      <td>1.9</td>\n",
       "      <td>137</td>\n",
       "      <td>1</td>\n",
       "      <td>0</td>\n",
       "      <td>7</td>\n",
       "      <td>1</td>\n",
       "    </tr>\n",
       "    <tr>\n",
       "      <th>4</th>\n",
       "      <td>65.0</td>\n",
       "      <td>1</td>\n",
       "      <td>160</td>\n",
       "      <td>1</td>\n",
       "      <td>20</td>\n",
       "      <td>0</td>\n",
       "      <td>327000.00</td>\n",
       "      <td>2.7</td>\n",
       "      <td>116</td>\n",
       "      <td>0</td>\n",
       "      <td>0</td>\n",
       "      <td>8</td>\n",
       "      <td>1</td>\n",
       "    </tr>\n",
       "    <tr>\n",
       "      <th>...</th>\n",
       "      <td>...</td>\n",
       "      <td>...</td>\n",
       "      <td>...</td>\n",
       "      <td>...</td>\n",
       "      <td>...</td>\n",
       "      <td>...</td>\n",
       "      <td>...</td>\n",
       "      <td>...</td>\n",
       "      <td>...</td>\n",
       "      <td>...</td>\n",
       "      <td>...</td>\n",
       "      <td>...</td>\n",
       "      <td>...</td>\n",
       "    </tr>\n",
       "    <tr>\n",
       "      <th>294</th>\n",
       "      <td>62.0</td>\n",
       "      <td>0</td>\n",
       "      <td>61</td>\n",
       "      <td>1</td>\n",
       "      <td>38</td>\n",
       "      <td>1</td>\n",
       "      <td>155000.00</td>\n",
       "      <td>1.1</td>\n",
       "      <td>143</td>\n",
       "      <td>1</td>\n",
       "      <td>1</td>\n",
       "      <td>270</td>\n",
       "      <td>0</td>\n",
       "    </tr>\n",
       "    <tr>\n",
       "      <th>295</th>\n",
       "      <td>55.0</td>\n",
       "      <td>0</td>\n",
       "      <td>1820</td>\n",
       "      <td>0</td>\n",
       "      <td>38</td>\n",
       "      <td>0</td>\n",
       "      <td>270000.00</td>\n",
       "      <td>1.2</td>\n",
       "      <td>139</td>\n",
       "      <td>0</td>\n",
       "      <td>0</td>\n",
       "      <td>271</td>\n",
       "      <td>0</td>\n",
       "    </tr>\n",
       "    <tr>\n",
       "      <th>296</th>\n",
       "      <td>45.0</td>\n",
       "      <td>0</td>\n",
       "      <td>2060</td>\n",
       "      <td>1</td>\n",
       "      <td>60</td>\n",
       "      <td>0</td>\n",
       "      <td>742000.00</td>\n",
       "      <td>0.8</td>\n",
       "      <td>138</td>\n",
       "      <td>0</td>\n",
       "      <td>0</td>\n",
       "      <td>278</td>\n",
       "      <td>0</td>\n",
       "    </tr>\n",
       "    <tr>\n",
       "      <th>297</th>\n",
       "      <td>45.0</td>\n",
       "      <td>0</td>\n",
       "      <td>2413</td>\n",
       "      <td>0</td>\n",
       "      <td>38</td>\n",
       "      <td>0</td>\n",
       "      <td>140000.00</td>\n",
       "      <td>1.4</td>\n",
       "      <td>140</td>\n",
       "      <td>1</td>\n",
       "      <td>1</td>\n",
       "      <td>280</td>\n",
       "      <td>0</td>\n",
       "    </tr>\n",
       "    <tr>\n",
       "      <th>298</th>\n",
       "      <td>50.0</td>\n",
       "      <td>0</td>\n",
       "      <td>196</td>\n",
       "      <td>0</td>\n",
       "      <td>45</td>\n",
       "      <td>0</td>\n",
       "      <td>395000.00</td>\n",
       "      <td>1.6</td>\n",
       "      <td>136</td>\n",
       "      <td>1</td>\n",
       "      <td>1</td>\n",
       "      <td>285</td>\n",
       "      <td>0</td>\n",
       "    </tr>\n",
       "  </tbody>\n",
       "</table>\n",
       "<p>299 rows × 13 columns</p>\n",
       "</div>"
      ],
      "text/plain": [
       "      age  anaemia  creatinine_phosphokinase  diabetes  ejection_fraction  \\\n",
       "0    75.0        0                       582         0                 20   \n",
       "1    55.0        0                      7861         0                 38   \n",
       "2    65.0        0                       146         0                 20   \n",
       "3    50.0        1                       111         0                 20   \n",
       "4    65.0        1                       160         1                 20   \n",
       "..    ...      ...                       ...       ...                ...   \n",
       "294  62.0        0                        61         1                 38   \n",
       "295  55.0        0                      1820         0                 38   \n",
       "296  45.0        0                      2060         1                 60   \n",
       "297  45.0        0                      2413         0                 38   \n",
       "298  50.0        0                       196         0                 45   \n",
       "\n",
       "     high_blood_pressure  platelets  serum_creatinine  serum_sodium  sex  \\\n",
       "0                      1  265000.00               1.9           130    1   \n",
       "1                      0  263358.03               1.1           136    1   \n",
       "2                      0  162000.00               1.3           129    1   \n",
       "3                      0  210000.00               1.9           137    1   \n",
       "4                      0  327000.00               2.7           116    0   \n",
       "..                   ...        ...               ...           ...  ...   \n",
       "294                    1  155000.00               1.1           143    1   \n",
       "295                    0  270000.00               1.2           139    0   \n",
       "296                    0  742000.00               0.8           138    0   \n",
       "297                    0  140000.00               1.4           140    1   \n",
       "298                    0  395000.00               1.6           136    1   \n",
       "\n",
       "     smoking  time  DEATH_EVENT  \n",
       "0          0     4            1  \n",
       "1          0     6            1  \n",
       "2          1     7            1  \n",
       "3          0     7            1  \n",
       "4          0     8            1  \n",
       "..       ...   ...          ...  \n",
       "294        1   270            0  \n",
       "295        0   271            0  \n",
       "296        0   278            0  \n",
       "297        1   280            0  \n",
       "298        1   285            0  \n",
       "\n",
       "[299 rows x 13 columns]"
      ]
     },
     "execution_count": 15,
     "metadata": {},
     "output_type": "execute_result"
    }
   ],
   "source": [
    "df"
   ]
  },
  {
   "cell_type": "code",
   "execution_count": 16,
   "metadata": {},
   "outputs": [
    {
     "data": {
      "text/html": [
       "<div>\n",
       "<style scoped>\n",
       "    .dataframe tbody tr th:only-of-type {\n",
       "        vertical-align: middle;\n",
       "    }\n",
       "\n",
       "    .dataframe tbody tr th {\n",
       "        vertical-align: top;\n",
       "    }\n",
       "\n",
       "    .dataframe thead th {\n",
       "        text-align: right;\n",
       "    }\n",
       "</style>\n",
       "<table border=\"1\" class=\"dataframe\">\n",
       "  <thead>\n",
       "    <tr style=\"text-align: right;\">\n",
       "      <th></th>\n",
       "      <th>age</th>\n",
       "      <th>anaemia</th>\n",
       "      <th>creatinine_phosphokinase</th>\n",
       "      <th>diabetes</th>\n",
       "      <th>ejection_fraction</th>\n",
       "      <th>high_blood_pressure</th>\n",
       "      <th>platelets</th>\n",
       "      <th>serum_creatinine</th>\n",
       "      <th>serum_sodium</th>\n",
       "      <th>sex</th>\n",
       "      <th>smoking</th>\n",
       "      <th>time</th>\n",
       "      <th>DEATH_EVENT</th>\n",
       "    </tr>\n",
       "  </thead>\n",
       "  <tbody>\n",
       "    <tr>\n",
       "      <th>0</th>\n",
       "      <td>75.0</td>\n",
       "      <td>0</td>\n",
       "      <td>582</td>\n",
       "      <td>0</td>\n",
       "      <td>20</td>\n",
       "      <td>1</td>\n",
       "      <td>265000.00</td>\n",
       "      <td>1.9</td>\n",
       "      <td>130</td>\n",
       "      <td>1</td>\n",
       "      <td>0</td>\n",
       "      <td>4</td>\n",
       "      <td>1</td>\n",
       "    </tr>\n",
       "    <tr>\n",
       "      <th>1</th>\n",
       "      <td>55.0</td>\n",
       "      <td>0</td>\n",
       "      <td>7861</td>\n",
       "      <td>0</td>\n",
       "      <td>38</td>\n",
       "      <td>0</td>\n",
       "      <td>263358.03</td>\n",
       "      <td>1.1</td>\n",
       "      <td>136</td>\n",
       "      <td>1</td>\n",
       "      <td>0</td>\n",
       "      <td>6</td>\n",
       "      <td>1</td>\n",
       "    </tr>\n",
       "    <tr>\n",
       "      <th>2</th>\n",
       "      <td>65.0</td>\n",
       "      <td>0</td>\n",
       "      <td>146</td>\n",
       "      <td>0</td>\n",
       "      <td>20</td>\n",
       "      <td>0</td>\n",
       "      <td>162000.00</td>\n",
       "      <td>1.3</td>\n",
       "      <td>129</td>\n",
       "      <td>1</td>\n",
       "      <td>1</td>\n",
       "      <td>7</td>\n",
       "      <td>1</td>\n",
       "    </tr>\n",
       "    <tr>\n",
       "      <th>3</th>\n",
       "      <td>50.0</td>\n",
       "      <td>1</td>\n",
       "      <td>111</td>\n",
       "      <td>0</td>\n",
       "      <td>20</td>\n",
       "      <td>0</td>\n",
       "      <td>210000.00</td>\n",
       "      <td>1.9</td>\n",
       "      <td>137</td>\n",
       "      <td>1</td>\n",
       "      <td>0</td>\n",
       "      <td>7</td>\n",
       "      <td>1</td>\n",
       "    </tr>\n",
       "    <tr>\n",
       "      <th>4</th>\n",
       "      <td>65.0</td>\n",
       "      <td>1</td>\n",
       "      <td>160</td>\n",
       "      <td>1</td>\n",
       "      <td>20</td>\n",
       "      <td>0</td>\n",
       "      <td>327000.00</td>\n",
       "      <td>2.7</td>\n",
       "      <td>116</td>\n",
       "      <td>0</td>\n",
       "      <td>0</td>\n",
       "      <td>8</td>\n",
       "      <td>1</td>\n",
       "    </tr>\n",
       "  </tbody>\n",
       "</table>\n",
       "</div>"
      ],
      "text/plain": [
       "    age  anaemia  creatinine_phosphokinase  diabetes  ejection_fraction  \\\n",
       "0  75.0        0                       582         0                 20   \n",
       "1  55.0        0                      7861         0                 38   \n",
       "2  65.0        0                       146         0                 20   \n",
       "3  50.0        1                       111         0                 20   \n",
       "4  65.0        1                       160         1                 20   \n",
       "\n",
       "   high_blood_pressure  platelets  serum_creatinine  serum_sodium  sex  \\\n",
       "0                    1  265000.00               1.9           130    1   \n",
       "1                    0  263358.03               1.1           136    1   \n",
       "2                    0  162000.00               1.3           129    1   \n",
       "3                    0  210000.00               1.9           137    1   \n",
       "4                    0  327000.00               2.7           116    0   \n",
       "\n",
       "   smoking  time  DEATH_EVENT  \n",
       "0        0     4            1  \n",
       "1        0     6            1  \n",
       "2        1     7            1  \n",
       "3        0     7            1  \n",
       "4        0     8            1  "
      ]
     },
     "execution_count": 16,
     "metadata": {},
     "output_type": "execute_result"
    }
   ],
   "source": [
    "df.head()"
   ]
  },
  {
   "cell_type": "code",
   "execution_count": 17,
   "metadata": {},
   "outputs": [
    {
     "data": {
      "image/png": "[encoded data removed]",
      "text/plain": [
       "<Figure size 1728x576 with 1 Axes>"
      ]
     },
     "metadata": {
      "needs_background": "light"
     },
     "output_type": "display_data"
    }
   ],
   "source": [
    "_corr = df.corrwith(df['DEATH_EVENT']).abs().sort_values(ascending=False)\n",
    "plt.figure(figsize=(8 * 3, 8))\n",
    "plt.bar(_corr.index, _corr.values);"
   ]
  },
  {
   "cell_type": "code",
   "execution_count": 18,
   "metadata": {},
   "outputs": [
    {
     "data": {
      "text/plain": [
       "time                       -0.526964\n",
       "ejection_fraction          -0.268603\n",
       "serum_sodium               -0.195204\n",
       "platelets                  -0.049139\n",
       "smoking                    -0.012623\n",
       "sex                        -0.004316\n",
       "diabetes                   -0.001943\n",
       "creatinine_phosphokinase    0.062728\n",
       "anaemia                     0.066270\n",
       "high_blood_pressure         0.079351\n",
       "age                         0.253729\n",
       "serum_creatinine            0.294278\n",
       "DEATH_EVENT                 1.000000\n",
       "Name: DEATH_EVENT, dtype: float64"
      ]
     },
     "execution_count": 18,
     "metadata": {},
     "output_type": "execute_result"
    }
   ],
   "source": [
    "df.corr()['DEATH_EVENT'].sort_values()"
   ]
  },
  {
   "cell_type": "markdown",
   "metadata": {},
   "source": [
    "> Corelation yang ter besar terhadap target kita adalah \n",
    "\n",
    "    - time\n",
    "    - serum_creatinine\n",
    "    - ejection_fraction\n",
    "    - age\n",
    "    - serum_sodium"
   ]
  },
  {
   "cell_type": "code",
   "execution_count": 19,
   "metadata": {},
   "outputs": [
    {
     "data": {
      "text/html": [
       "<div>\n",
       "<style scoped>\n",
       "    .dataframe tbody tr th:only-of-type {\n",
       "        vertical-align: middle;\n",
       "    }\n",
       "\n",
       "    .dataframe tbody tr th {\n",
       "        vertical-align: top;\n",
       "    }\n",
       "\n",
       "    .dataframe thead th {\n",
       "        text-align: right;\n",
       "    }\n",
       "</style>\n",
       "<table border=\"1\" class=\"dataframe\">\n",
       "  <thead>\n",
       "    <tr style=\"text-align: right;\">\n",
       "      <th></th>\n",
       "      <th>DEATH_EVENT</th>\n",
       "      <th>time</th>\n",
       "      <th>serum_creatinine</th>\n",
       "      <th>age</th>\n",
       "      <th>serum_sodium</th>\n",
       "    </tr>\n",
       "  </thead>\n",
       "  <tbody>\n",
       "    <tr>\n",
       "      <th>0</th>\n",
       "      <td>1</td>\n",
       "      <td>4</td>\n",
       "      <td>1.9</td>\n",
       "      <td>75.0</td>\n",
       "      <td>130</td>\n",
       "    </tr>\n",
       "    <tr>\n",
       "      <th>1</th>\n",
       "      <td>1</td>\n",
       "      <td>6</td>\n",
       "      <td>1.1</td>\n",
       "      <td>55.0</td>\n",
       "      <td>136</td>\n",
       "    </tr>\n",
       "    <tr>\n",
       "      <th>2</th>\n",
       "      <td>1</td>\n",
       "      <td>7</td>\n",
       "      <td>1.3</td>\n",
       "      <td>65.0</td>\n",
       "      <td>129</td>\n",
       "    </tr>\n",
       "    <tr>\n",
       "      <th>3</th>\n",
       "      <td>1</td>\n",
       "      <td>7</td>\n",
       "      <td>1.9</td>\n",
       "      <td>50.0</td>\n",
       "      <td>137</td>\n",
       "    </tr>\n",
       "    <tr>\n",
       "      <th>4</th>\n",
       "      <td>1</td>\n",
       "      <td>8</td>\n",
       "      <td>2.7</td>\n",
       "      <td>65.0</td>\n",
       "      <td>116</td>\n",
       "    </tr>\n",
       "  </tbody>\n",
       "</table>\n",
       "</div>"
      ],
      "text/plain": [
       "   DEATH_EVENT  time  serum_creatinine   age  serum_sodium\n",
       "0            1     4               1.9  75.0           130\n",
       "1            1     6               1.1  55.0           136\n",
       "2            1     7               1.3  65.0           129\n",
       "3            1     7               1.9  50.0           137\n",
       "4            1     8               2.7  65.0           116"
      ]
     },
     "execution_count": 19,
     "metadata": {},
     "output_type": "execute_result"
    }
   ],
   "source": [
    "df_ff = df[['DEATH_EVENT','time','serum_creatinine','age','serum_sodium']]\n",
    "df_ff.head()"
   ]
  },
  {
   "cell_type": "code",
   "execution_count": 20,
   "metadata": {},
   "outputs": [
    {
     "name": "stdout",
     "output_type": "stream",
     "text": [
      "DEATH_EVENT  berisi  2  labels\n",
      "time  berisi  148  labels\n",
      "serum_creatinine  berisi  40  labels\n",
      "age  berisi  47  labels\n",
      "serum_sodium  berisi  27  labels\n"
     ]
    }
   ],
   "source": [
    "for var in df_ff.columns:\n",
    "\n",
    "    print(var, ' berisi ', len(df[var].unique()), ' labels')\n"
   ]
  },
  {
   "cell_type": "markdown",
   "metadata": {},
   "source": [
    "## 6.2 Data Splitting\n",
    " > bagian ini berisi proses pembagian data menjadi train-test-inference."
   ]
  },
  {
   "cell_type": "markdown",
   "metadata": {},
   "source": [
    "## Memecah dataset"
   ]
  },
  {
   "cell_type": "code",
   "execution_count": 114,
   "metadata": {},
   "outputs": [
    {
     "data": {
      "text/plain": [
       "((235, 4), (235, 1), (59, 4), (59, 1))"
      ]
     },
     "execution_count": 114,
     "metadata": {},
     "output_type": "execute_result"
    }
   ],
   "source": [
    "#mengambil data inference \n",
    "df_inf = df_ff.sample(5, random_state=random_state) #diambil sebanyak 5 sample\n",
    "df_train_test = df_ff.drop(df_inf.index)\n",
    "#reset index dari data yang di ambil\n",
    "df_train_test = df_train_test.reset_index(drop=True)\n",
    "df_inf = df_inf.reset_index(drop=True)\n",
    "#menghapus target dari data \n",
    "X = df_train_test.drop('DEATH_EVENT', axis=1)\n",
    "y = df_train_test[['DEATH_EVENT']]\n",
    "#memecah data menjadi train dan test, dan data validation untuk keperluas corss validation nantinya\n",
    "X_train, X_test, y_train, y_test = train_test_split(X, y, test_size=0.2, random_state=random_state, stratify=y)\n",
    "# X_train, X_val, y_train, y_val = train_test_split(X_train, y_train, test_size=0.2, random_state=random_state, stratify=y_train)\n",
    "\n",
    "X_train.shape, y_train.shape, X_test.shape, y_test.shape "
   ]
  },
  {
   "cell_type": "markdown",
   "metadata": {},
   "source": [
    "## 6.3 Handling Outlier\n",
    " > bagian ini berisi proses penanganan outliers."
   ]
  },
  {
   "cell_type": "code",
   "execution_count": 115,
   "metadata": {},
   "outputs": [
    {
     "name": "stdout",
     "output_type": "stream",
     "text": [
      "Numerical Columns: ['time', 'serum_creatinine', 'age', 'serum_sodium']\n",
      "Categorical Columns: []\n"
     ]
    }
   ],
   "source": [
    "# memisahkan data numerik dan categorical harus di update karena target sudah di keluarkan\n",
    "\n",
    "num_cols = [col for col in X_train.columns if X_train[col].dtypes != 'O']\n",
    "cat_cols = [col for col in X_train.columns if X_train[col].dtypes == 'O']\n",
    "\n",
    "print('Numerical Columns:', num_cols)\n",
    "print('Categorical Columns:', cat_cols)\n"
   ]
  },
  {
   "cell_type": "code",
   "execution_count": 116,
   "metadata": {},
   "outputs": [],
   "source": [
    "#pisahkan data menjadi feature categori dan numerik\n",
    "X_train_cat = X_train[cat_cols]\n",
    "X_train_num = X_train.drop(columns=cat_cols)\n",
    "\n",
    "X_test_cat = X_test[cat_cols]\n",
    "X_test_num = X_test.drop(columns=cat_cols)"
   ]
  },
  {
   "cell_type": "code",
   "execution_count": 117,
   "metadata": {},
   "outputs": [],
   "source": [
    "#deteksi outlier untuk distribusi normal\n",
    "def find_normal_boundaries(dataframe, variable):\n",
    "    upper_boundary = dataframe[variable].mean() + 3 * dataframe[variable].std()\n",
    "    lower_boundary = dataframe[variable].mean() - 3 * dataframe[variable].std()\n",
    "    return upper_boundary, lower_boundary\n",
    "\n",
    "#deteksi outlier untuk distribusi skewed\n",
    "def find_skewed_boundaries(dataframe, variable):\n",
    "    Q1 = dataframe[variable].quantile(0.25)\n",
    "    Q3 = dataframe[variable].quantile(0.75)\n",
    "    IQR = Q3 - Q1\n",
    "    upper_boundary = Q3 + 1.5 * IQR\n",
    "    lower_boundary = Q1 - 1.5 * IQR\n",
    "    return upper_boundary, lower_boundary\n",
    "\n",
    "#deteksi outlier untuk distribusi skewed extreme\n",
    "def find_extreme_skewed_boundaries(dataframe, variable):\n",
    "    Q1 = dataframe[variable].quantile(0.25)\n",
    "    Q3 = dataframe[variable].quantile(0.75)\n",
    "    IQR = Q3 - Q1\n",
    "    upper_boundary = Q3 + 3 * IQR\n",
    "    lower_boundary = Q1 - 3 * IQR\n",
    "    return upper_boundary, lower_boundary"
   ]
  },
  {
   "cell_type": "code",
   "execution_count": 118,
   "metadata": {},
   "outputs": [
    {
     "data": {
      "text/html": [
       "<div>\n",
       "<style scoped>\n",
       "    .dataframe tbody tr th:only-of-type {\n",
       "        vertical-align: middle;\n",
       "    }\n",
       "\n",
       "    .dataframe tbody tr th {\n",
       "        vertical-align: top;\n",
       "    }\n",
       "\n",
       "    .dataframe thead th {\n",
       "        text-align: right;\n",
       "    }\n",
       "</style>\n",
       "<table border=\"1\" class=\"dataframe\">\n",
       "  <thead>\n",
       "    <tr style=\"text-align: right;\">\n",
       "      <th></th>\n",
       "      <th>distribution_type</th>\n",
       "      <th>skewnewss</th>\n",
       "      <th>upper_limit</th>\n",
       "      <th>lower_limit</th>\n",
       "      <th>max</th>\n",
       "      <th>min</th>\n",
       "      <th>outliers_percent</th>\n",
       "    </tr>\n",
       "  </thead>\n",
       "  <tbody>\n",
       "    <tr>\n",
       "      <th>serum_creatinine</th>\n",
       "      <td>Skewed</td>\n",
       "      <td>4.48</td>\n",
       "      <td>2.15</td>\n",
       "      <td>0.15</td>\n",
       "      <td>9.4</td>\n",
       "      <td>0.5</td>\n",
       "      <td>10.21</td>\n",
       "    </tr>\n",
       "    <tr>\n",
       "      <th>serum_sodium</th>\n",
       "      <td>Skewed</td>\n",
       "      <td>-1.16</td>\n",
       "      <td>149.00</td>\n",
       "      <td>125.00</td>\n",
       "      <td>148.0</td>\n",
       "      <td>113.0</td>\n",
       "      <td>1.70</td>\n",
       "    </tr>\n",
       "  </tbody>\n",
       "</table>\n",
       "</div>"
      ],
      "text/plain": [
       "                 distribution_type  skewnewss  upper_limit  lower_limit  \\\n",
       "serum_creatinine            Skewed       4.48         2.15         0.15   \n",
       "serum_sodium                Skewed      -1.16       149.00       125.00   \n",
       "\n",
       "                    max    min  outliers_percent  \n",
       "serum_creatinine    9.4    0.5             10.21  \n",
       "serum_sodium      148.0  113.0              1.70  "
      ]
     },
     "execution_count": 118,
     "metadata": {},
     "output_type": "execute_result"
    }
   ],
   "source": [
    "#variable untuk summary\n",
    "distribution = []\n",
    "skewness = []\n",
    "upper_limit = []\n",
    "lower_limit = []\n",
    "outliers_percent = []\n",
    "max = []\n",
    "min = []\n",
    "\n",
    "#loop untuk summary outlier\n",
    "for column in X_train_num.columns:\n",
    "    col_skewness = X_train_num[column].skew()\n",
    "\n",
    "    if (col_skewness >= -0.5) & (col_skewness <= 0.5):\n",
    "        col_distribution = 'Normal'\n",
    "        col_upper_limit, col_lower_limit = find_normal_boundaries(X_train_num,column)      \n",
    "\n",
    "    else:\n",
    "        col_distribution = 'Skewed'\n",
    "        col_upper_limit, col_lower_limit = find_skewed_boundaries(X_train_num,column)\n",
    "    \n",
    "    col_max = X_train_num[column].max()\n",
    "    col_min = X_train_num[column].min()\n",
    "    col_outliers_percent = (len(X_train_num[X_train_num[column] > col_upper_limit]) + len(X_train_num[X_train_num[column] < col_lower_limit])) / len(X_train_num) * 100\n",
    "    \n",
    "    distribution.append(col_distribution)\n",
    "    skewness.append(col_skewness)\n",
    "    upper_limit.append(col_upper_limit)\n",
    "    max.append(col_max)\n",
    "    min.append(col_min)\n",
    "    lower_limit.append(col_lower_limit)\n",
    "    outliers_percent.append(col_outliers_percent)\n",
    "\n",
    "#df summary\n",
    "outliers_summary = {'distribution_type':distribution, 'skewnewss':skewness, 'upper_limit':upper_limit, 'lower_limit':lower_limit, 'max':max, 'min':min , 'outliers_percent':outliers_percent}\n",
    "outliers_summary = pd.DataFrame(outliers_summary,index=X_train_num.columns)\n",
    "outliers_summary = outliers_summary[outliers_summary['outliers_percent'] > 0]\n",
    "outliers_summary = round(outliers_summary.sort_values(by='outliers_percent',ascending=False),2)\n",
    "outliers_summary"
   ]
  },
  {
   "cell_type": "markdown",
   "metadata": {},
   "source": [
    "> Setelah di lakukan penelusuran terhadap kolom outlier, saya menganggap hal ini sebagai hal yang wajar dalam medis dan bisa menyebabkan kematian\n",
    "\n",
    "- creatinine_phosphokinase\n",
    "        - Peningkatan dari total kreatin kinase tidak spesifik pada jantung dan dapat ditemukan pada pasien dengan cedera otot skeletal. Secara klinis, tes kreatin kinase dilakukan untuk mencari indikasi serangan jantung, rabdomiolisis, distrofi muskular dan gagal ginjal.\n",
    "\n",
    "- serum_creatinine\n",
    "        - Kreatin, asam amino bentuk awal dari kreatinin, diproduksi di hati kemudian diangkut melalui darah ke otot untuk membantunya berkontraksi. Kreatin yang sudah digunakan tersebut akan rusak dan memasuki aliran darah menuju ginjal.\n",
    "\n",
    "- platelet\n",
    "         - merupakan kepingan darah yang diproduksi oleh sumsum tulang. Trombosit berperan dalam proses pembekuan darah. Ketika terjadi perdarahan, kepingan darah ini bekerja dengan cara saling menempel untuk membentuk gumpalan, sehingga perdarahan tersebut berhenti.\n",
    "\n",
    "\n",
    "- serum_sodium\n",
    "        - Hipernatremia adalah kondisi tingginya natrium atau sodium di dalam darah. Kondisi ini terjadi jika tubuh terlalu banyak melepaskan air - atau pasien terlalu banyak mengonsumsi natrium pada kasus yang jarang terjadi. Hipernatremia dapat disebabkan oleh beberapa faktor, termasuk usia lanjut, dehidrasi, hingga diare yang parah\n",
    "\n",
    "> data yang kita miliki outlier yang ada pada jumlah yang tinggi pada masing - masing kolom, dan ini juga merupakan faktor kematian jadi saya memutuskan untuk tidak melakukan perubahan pada data outlier"
   ]
  },
  {
   "cell_type": "markdown",
   "metadata": {},
   "source": [
    "## 6.4 Handling Missing Values\n",
    "\n",
    "### *Data tidak memiliki missing values*"
   ]
  },
  {
   "cell_type": "markdown",
   "metadata": {},
   "source": [
    "> dataset kita bersih dari missing value"
   ]
  },
  {
   "cell_type": "markdown",
   "metadata": {},
   "source": [
    "## 6.5 Feature Selection\n",
    "> langkah ini saya jadikan sebagai comment karena sudah saya ringkas di bawah sebagai `pipeline`"
   ]
  },
  {
   "cell_type": "markdown",
   "metadata": {},
   "source": [
    "## 6.6 Feature Scalling\n",
    "Lakukan feature scaling dengan standard scaler untuk feature numerik karena model yang digunakan sensitif terhadap variance.\n",
    "\n",
    "\n",
    "> langkah ini saya jadikan sebagai comment karena sudah saya ringkas di bawah sebagai `pipeline`"
   ]
  },
  {
   "cell_type": "markdown",
   "metadata": {},
   "source": [
    "## 6.7 Feature Encoding\n",
    "Lakukan feature encoding dengan onehot encoder karena dari feature kategorik tidak ada tingkatan yang bermakna atau tidak bisa dibandingkan.\n",
    "\n",
    "\n",
    "> langkah ini saya jadikan sebagai comment karena sudah saya ringkas di bawah sebagai `pipeline`"
   ]
  },
  {
   "cell_type": "markdown",
   "metadata": {},
   "source": [
    "## 6.8 Final Features\n",
    "\n",
    "\n",
    "> langkah ini saya jadikan sebagai comment karena sudah saya ringkas di bawah sebagai `pipeline`"
   ]
  },
  {
   "cell_type": "markdown",
   "metadata": {},
   "source": [
    "## 6.9 Preprosesing menggunakan Pipeline"
   ]
  },
  {
   "cell_type": "code",
   "execution_count": 119,
   "metadata": {},
   "outputs": [
    {
     "data": {
      "text/plain": [
       "Index(['time', 'serum_creatinine', 'age', 'serum_sodium'], dtype='object')"
      ]
     },
     "execution_count": 119,
     "metadata": {},
     "output_type": "execute_result"
    }
   ],
   "source": [
    "X_train.columns"
   ]
  },
  {
   "cell_type": "code",
   "execution_count": 120,
   "metadata": {},
   "outputs": [
    {
     "data": {
      "text/html": [
       "<div>\n",
       "<style scoped>\n",
       "    .dataframe tbody tr th:only-of-type {\n",
       "        vertical-align: middle;\n",
       "    }\n",
       "\n",
       "    .dataframe tbody tr th {\n",
       "        vertical-align: top;\n",
       "    }\n",
       "\n",
       "    .dataframe thead th {\n",
       "        text-align: right;\n",
       "    }\n",
       "</style>\n",
       "<table border=\"1\" class=\"dataframe\">\n",
       "  <thead>\n",
       "    <tr style=\"text-align: right;\">\n",
       "      <th></th>\n",
       "      <th>time</th>\n",
       "      <th>serum_creatinine</th>\n",
       "      <th>age</th>\n",
       "      <th>serum_sodium</th>\n",
       "    </tr>\n",
       "  </thead>\n",
       "  <tbody>\n",
       "    <tr>\n",
       "      <th>178</th>\n",
       "      <td>150</td>\n",
       "      <td>1.00</td>\n",
       "      <td>59.0</td>\n",
       "      <td>136</td>\n",
       "    </tr>\n",
       "    <tr>\n",
       "      <th>125</th>\n",
       "      <td>104</td>\n",
       "      <td>0.70</td>\n",
       "      <td>61.0</td>\n",
       "      <td>136</td>\n",
       "    </tr>\n",
       "    <tr>\n",
       "      <th>71</th>\n",
       "      <td>72</td>\n",
       "      <td>1.30</td>\n",
       "      <td>65.0</td>\n",
       "      <td>137</td>\n",
       "    </tr>\n",
       "    <tr>\n",
       "      <th>119</th>\n",
       "      <td>95</td>\n",
       "      <td>0.75</td>\n",
       "      <td>60.0</td>\n",
       "      <td>140</td>\n",
       "    </tr>\n",
       "    <tr>\n",
       "      <th>271</th>\n",
       "      <td>245</td>\n",
       "      <td>0.80</td>\n",
       "      <td>45.0</td>\n",
       "      <td>137</td>\n",
       "    </tr>\n",
       "    <tr>\n",
       "      <th>...</th>\n",
       "      <td>...</td>\n",
       "      <td>...</td>\n",
       "      <td>...</td>\n",
       "      <td>...</td>\n",
       "    </tr>\n",
       "    <tr>\n",
       "      <th>138</th>\n",
       "      <td>109</td>\n",
       "      <td>0.90</td>\n",
       "      <td>46.0</td>\n",
       "      <td>140</td>\n",
       "    </tr>\n",
       "    <tr>\n",
       "      <th>228</th>\n",
       "      <td>209</td>\n",
       "      <td>0.90</td>\n",
       "      <td>40.0</td>\n",
       "      <td>137</td>\n",
       "    </tr>\n",
       "    <tr>\n",
       "      <th>259</th>\n",
       "      <td>237</td>\n",
       "      <td>1.00</td>\n",
       "      <td>68.0</td>\n",
       "      <td>140</td>\n",
       "    </tr>\n",
       "    <tr>\n",
       "      <th>146</th>\n",
       "      <td>115</td>\n",
       "      <td>0.90</td>\n",
       "      <td>60.0</td>\n",
       "      <td>136</td>\n",
       "    </tr>\n",
       "    <tr>\n",
       "      <th>121</th>\n",
       "      <td>96</td>\n",
       "      <td>3.70</td>\n",
       "      <td>60.0</td>\n",
       "      <td>134</td>\n",
       "    </tr>\n",
       "  </tbody>\n",
       "</table>\n",
       "<p>235 rows × 4 columns</p>\n",
       "</div>"
      ],
      "text/plain": [
       "     time  serum_creatinine   age  serum_sodium\n",
       "178   150              1.00  59.0           136\n",
       "125   104              0.70  61.0           136\n",
       "71     72              1.30  65.0           137\n",
       "119    95              0.75  60.0           140\n",
       "271   245              0.80  45.0           137\n",
       "..    ...               ...   ...           ...\n",
       "138   109              0.90  46.0           140\n",
       "228   209              0.90  40.0           137\n",
       "259   237              1.00  68.0           140\n",
       "146   115              0.90  60.0           136\n",
       "121    96              3.70  60.0           134\n",
       "\n",
       "[235 rows x 4 columns]"
      ]
     },
     "execution_count": 120,
     "metadata": {},
     "output_type": "execute_result"
    }
   ],
   "source": [
    "X_train"
   ]
  },
  {
   "cell_type": "code",
   "execution_count": 121,
   "metadata": {},
   "outputs": [],
   "source": [
    "# melakukan encoding terhadap features sesuai dengan tipe nya\n",
    "preprocessing_pipeline = ColumnTransformer([\n",
    "    ('std', StandardScaler(), ['time', 'serum_creatinine', 'age', 'serum_sodium']),\n",
    "    ])"
   ]
  },
  {
   "cell_type": "code",
   "execution_count": 122,
   "metadata": {},
   "outputs": [
    {
     "data": {
      "text/plain": [
       "ColumnTransformer(transformers=[('std', StandardScaler(),\n",
       "                                 ['time', 'serum_creatinine', 'age',\n",
       "                                  'serum_sodium'])])"
      ]
     },
     "execution_count": 122,
     "metadata": {},
     "output_type": "execute_result"
    }
   ],
   "source": [
    "preprocessing_pipeline.fit(X_train)"
   ]
  },
  {
   "cell_type": "markdown",
   "metadata": {},
   "source": [
    "> Features sudah selesai di encoding sesuai dengan categorinya"
   ]
  },
  {
   "cell_type": "markdown",
   "metadata": {},
   "source": [
    "# 7. Model Definition\n",
    "   > Bagian ini berisi cell untuk mendefinisikan model. Jelaskan alasan menggunakan suatu algoritma/model, hyperparameter yang dipakai, jenis penggunaan metrics yang dipakai, dan hal lain yang terkait dengan model.\n",
    "\n",
    "- Random Forest\tMengimplementasikan Random Forest dan menentukan hyperparameter yang tepat dengan Scikit-Learn\t40 pts\n",
    "- Boosting\tMengimplementasikan Boosting dan menentukan hyperparameter yang tepat dengan Scikit-Learn\t40 pts"
   ]
  },
  {
   "cell_type": "code",
   "execution_count": 150,
   "metadata": {},
   "outputs": [],
   "source": [
    "\n",
    "#pipeling random forest\n",
    "rf_pipeline = Pipeline([\n",
    "    ('preprocessing', preprocessing_pipeline),\n",
    "    ('model', RandomForestClassifier(n_estimators=100, criterion='gini', min_samples_leaf=2, min_samples_split=2, max_features='sqrt', max_depth=10, bootstrap=True))\n",
    "])\n",
    "\n",
    "#pipeline MLP Classifier\n",
    "xgb_pipeline = Pipeline([\n",
    "    ('preprocessing', preprocessing_pipeline),\n",
    "    ('model', XGBClassifier(booster='gbtree', nthread=4, eta=0.1))\n",
    "])"
   ]
  },
  {
   "cell_type": "markdown",
   "metadata": {},
   "source": [
    "# 8. Model Training\n",
    "   > Cell pada bagian ini hanya berisi code untuk melatih model dan output yang dihasilkan. Lakukan beberapa kali proses training dengan hyperparameter yang berbeda untuk melihat hasil yang didapatkan. Analisis dan narasikan hasil ini pada bagian Model Evaluation.\n"
   ]
  },
  {
   "cell_type": "code",
   "execution_count": 124,
   "metadata": {},
   "outputs": [
    {
     "name": "stdout",
     "output_type": "stream",
     "text": [
      "[21:13:23] WARNING: C:/Users/Administrator/workspace/xgboost-win64_release_1.5.1/src/learner.cc:576: \n",
      "Parameters: { \"num_pbuffer\", \"silent\" } might not be used.\n",
      "\n",
      "  This could be a false alarm, with some parameters getting used by language bindings but\n",
      "  then being mistakenly passed down to XGBoost core, or some parameter actually being used\n",
      "  but getting flagged wrongly here. Please open an issue if you find any such cases.\n",
      "\n",
      "\n"
     ]
    },
    {
     "data": {
      "text/plain": [
       "Pipeline(steps=[('preprocessing',\n",
       "                 ColumnTransformer(transformers=[('std', StandardScaler(),\n",
       "                                                  ['time', 'serum_creatinine',\n",
       "                                                   'age', 'serum_sodium'])])),\n",
       "                ('model',\n",
       "                 XGBClassifier(base_score=0.5, booster='gbtree',\n",
       "                               colsample_bylevel=1, colsample_bynode=1,\n",
       "                               colsample_bytree=1, enable_categorical=False,\n",
       "                               eta=0.1, eval_metric='auc', gamma=0, gpu_id=-1,\n",
       "                               importance_type=None, interaction_constraints='',\n",
       "                               learning_rate=0.100000001, max_delta_step=0,\n",
       "                               max_depth=10, min_child_weight=1, missing=nan,\n",
       "                               monotone_constraints='()', n_estimators=100,\n",
       "                               n_jobs=4, nthread=4, num_parallel_tree=1,\n",
       "                               num_pbuffer=0, predictor='auto', random_state=0,\n",
       "                               reg_alpha=0, reg_lambda=1, scale_pos_weight=1,\n",
       "                               silent=1, subsample=1, ...))])"
      ]
     },
     "execution_count": 124,
     "metadata": {},
     "output_type": "execute_result"
    }
   ],
   "source": [
    "#Training model\n",
    "rf_pipeline.fit(X_train, y_train)\n",
    "xgb_pipeline.fit(X_train, y_train)"
   ]
  },
  {
   "cell_type": "markdown",
   "metadata": {},
   "source": [
    "# 9. Model Evaluation\n",
    "   > Pada bagian ini, dilakukan evaluasi model yang harus menunjukkan bagaimana performa model berdasarkan metrics yang dipilih. Hal ini harus dibuktikan dengan visualisasi tren performa dan/atau tingkat kesalahan model. **Lakukan analisis terkait dengan hasil pada model dan tuliskan hasil analisisnya**.\n"
   ]
  },
  {
   "cell_type": "markdown",
   "metadata": {},
   "source": [
    "## 9.1. Classification Report"
   ]
  },
  {
   "cell_type": "code",
   "execution_count": 125,
   "metadata": {},
   "outputs": [
    {
     "name": "stdout",
     "output_type": "stream",
     "text": [
      "Random Forest\n",
      "              precision    recall  f1-score   support\n",
      "\n",
      "           0       0.85      0.85      0.85        40\n",
      "           1       0.68      0.68      0.68        19\n",
      "\n",
      "    accuracy                           0.80        59\n",
      "   macro avg       0.77      0.77      0.77        59\n",
      "weighted avg       0.80      0.80      0.80        59\n",
      "\n"
     ]
    }
   ],
   "source": [
    "print('Random Forest')\n",
    "print(classification_report(y_test, rf_pipeline.predict(X_test)))"
   ]
  },
  {
   "cell_type": "code",
   "execution_count": 126,
   "metadata": {},
   "outputs": [
    {
     "name": "stdout",
     "output_type": "stream",
     "text": [
      "XGBoost\n",
      "              precision    recall  f1-score   support\n",
      "\n",
      "           0       0.83      0.88      0.85        40\n",
      "           1       0.71      0.63      0.67        19\n",
      "\n",
      "    accuracy                           0.80        59\n",
      "   macro avg       0.77      0.75      0.76        59\n",
      "weighted avg       0.79      0.80      0.79        59\n",
      "\n"
     ]
    }
   ],
   "source": [
    "print('XGBoost')\n",
    "print(classification_report(y_test, xgb_pipeline.predict(X_test)))"
   ]
  },
  {
   "cell_type": "markdown",
   "metadata": {},
   "source": [
    "> setelah di evaluasi kembali model yang memiliki  terbaik terbaik adalah \n",
    "\n",
    ">- RandomForest \n",
    ">    - accuracy 81%\n",
    ">    - 0 f1 score 86%\n",
    ">    - 1 F1 score 70%\n",
    "\n",
    "\n",
    "\n",
    "maka akan di lanjutkan ke tahap berikutnya adalah `Random Forest` untuk di tunning kembali"
   ]
  },
  {
   "cell_type": "markdown",
   "metadata": {},
   "source": [
    "## 9.2 Model Evaluation Tunning\n",
    "   > Bagian ini berisi proses pengaturan hyperparameter model.\n",
    "\n",
    "- Cross Validation\tMengimplementasikan Cross Validation dengan Scikit-Learn\t40 pts\n",
    "- Grid Search\tMengimplementasikan Grid Search dengan Scikit-Learn\t40 pts"
   ]
  },
  {
   "cell_type": "code",
   "execution_count": 134,
   "metadata": {},
   "outputs": [
    {
     "name": "stdout",
     "output_type": "stream",
     "text": [
      "0.8553191489361701\n"
     ]
    }
   ],
   "source": [
    "#Melakukan GridSearch kepada model randomforest\n",
    "rf_gs = GridSearchCV(estimator=rf_pipeline, \n",
    "param_grid={\"model__n_estimators\": [50, 100,150,500],\n",
    "            \"model__max_depth\" : [5, 10, 15,20],\n",
    "            \"model__min_samples_leaf\" : [10, 2, 3,5],\n",
    "            \"model__min_samples_split\" : [2, 3, 4,10, 15]\n",
    "            },cv=5, n_jobs=-1)\n",
    "\n",
    "rf_gs.fit(X_train, y_train)\n",
    "print(rf_gs.best_score_)"
   ]
  },
  {
   "cell_type": "markdown",
   "metadata": {},
   "source": [
    "- waktu yang di perlukan untuk gridsearch adalah 5m 21s\n",
    "- best score 0.8553191489361701"
   ]
  },
  {
   "cell_type": "code",
   "execution_count": 135,
   "metadata": {},
   "outputs": [
    {
     "name": "stdout",
     "output_type": "stream",
     "text": [
      "0.19148936170212766\n",
      "0.23404255319148937\n",
      "0.10638297872340426\n",
      "0.14893617021276595\n",
      "0.10638297872340426\n"
     ]
    }
   ],
   "source": [
    "#melakukan cross validation menggunakan Kfold dan memberikan hasil Mean absolute error kepada model yang terpilih\n",
    "kf= StratifiedKFold(n_splits=5, shuffle=True, random_state=random_state)\n",
    "result = []\n",
    "for train_index, test_index in kf.split(X_train, y_train):\n",
    "    X_train_fold, X_test_fold = X_train.iloc[train_index], X_train.iloc[test_index]\n",
    "    y_train_fold, y_test_fold = y_train.iloc[train_index], y_train.iloc[test_index]\n",
    "    rf_gs.best_estimator_.fit(X_train_fold, y_train_fold)\n",
    "    print(mean_absolute_error(y_test_fold, rf_gs.best_estimator_.predict(X_test_fold)))\n",
    "    result.append(mean_absolute_error(y_test_fold, rf_gs.best_estimator_.predict(X_test_fold)))"
   ]
  },
  {
   "cell_type": "code",
   "execution_count": 136,
   "metadata": {},
   "outputs": [
    {
     "name": "stdout",
     "output_type": "stream",
     "text": [
      "Cross Validation result : Random Forest\n",
      "Rata-rata 0.1574468085106383\n",
      "Standard Deviasi 0.049625122509321704\n"
     ]
    }
   ],
   "source": [
    "print('Cross Validation result : Random Forest')\n",
    "print('Rata-rata', np.mean(result))\n",
    "print('Standard Deviasi', np.std(result))"
   ]
  },
  {
   "cell_type": "code",
   "execution_count": 137,
   "metadata": {},
   "outputs": [
    {
     "name": "stdout",
     "output_type": "stream",
     "text": [
      "Random Forest - Best estimator\n",
      "              precision    recall  f1-score   support\n",
      "\n",
      "           0       0.85      0.88      0.86        40\n",
      "           1       0.72      0.68      0.70        19\n",
      "\n",
      "    accuracy                           0.81        59\n",
      "   macro avg       0.79      0.78      0.78        59\n",
      "weighted avg       0.81      0.81      0.81        59\n",
      "\n"
     ]
    }
   ],
   "source": [
    "print('Random Forest - Best estimator')\n",
    "print(classification_report(y_test, rf_gs.best_estimator_.predict(X_test)))"
   ]
  },
  {
   "cell_type": "code",
   "execution_count": 138,
   "metadata": {},
   "outputs": [
    {
     "data": {
      "text/plain": [
       "Pipeline(steps=[('preprocessing',\n",
       "                 ColumnTransformer(transformers=[('std', StandardScaler(),\n",
       "                                                  ['time', 'serum_creatinine',\n",
       "                                                   'age', 'serum_sodium'])])),\n",
       "                ('model',\n",
       "                 RandomForestClassifier(max_depth=5, max_features='sqrt',\n",
       "                                        min_samples_leaf=10,\n",
       "                                        n_estimators=150))])"
      ]
     },
     "execution_count": 138,
     "metadata": {},
     "output_type": "execute_result"
    }
   ],
   "source": [
    "rf_gs.best_estimator_"
   ]
  },
  {
   "cell_type": "markdown",
   "metadata": {},
   "source": [
    "Rata-rata hasil evaluasi model dari 5 fold cross validation MAE adalah  0.15744 dan standard deviasi 0.04962"
   ]
  },
  {
   "cell_type": "code",
   "execution_count": 151,
   "metadata": {},
   "outputs": [
    {
     "name": "stdout",
     "output_type": "stream",
     "text": [
      "[21:41:57] WARNING: C:/Users/Administrator/workspace/xgboost-win64_release_1.5.1/src/learner.cc:1115: Starting in XGBoost 1.3.0, the default evaluation metric used with the objective 'binary:logistic' was changed from 'error' to 'logloss'. Explicitly set eval_metric if you'd like to restore the old behavior.\n",
      "0.8297872340425532\n"
     ]
    }
   ],
   "source": [
    "#Melakukan GridSearch kepada model XGBoost\n",
    "xgb_gs = GridSearchCV(estimator=xgb_pipeline, \n",
    "param_grid={\"model__n_estimators\": [50, 100,150,500],\n",
    "            \"model__max_depth\" : [5, 10, 15,20],\n",
    "            \"model__booster\" : ['gbtree','dart'],\n",
    "            \"model__nthread\" : [5, 2, 3,4]\n",
    "            },cv=5, n_jobs=-1)\n",
    "\n",
    "xgb_gs.fit(X_train, y_train)\n",
    "print(xgb_gs.best_score_)"
   ]
  },
  {
   "cell_type": "code",
   "execution_count": 152,
   "metadata": {},
   "outputs": [
    {
     "name": "stdout",
     "output_type": "stream",
     "text": [
      "[21:41:58] WARNING: C:/Users/Administrator/workspace/xgboost-win64_release_1.5.1/src/learner.cc:1115: Starting in XGBoost 1.3.0, the default evaluation metric used with the objective 'binary:logistic' was changed from 'error' to 'logloss'. Explicitly set eval_metric if you'd like to restore the old behavior.\n",
      "0.1702127659574468\n",
      "[21:41:58] WARNING: C:/Users/Administrator/workspace/xgboost-win64_release_1.5.1/src/learner.cc:1115: Starting in XGBoost 1.3.0, the default evaluation metric used with the objective 'binary:logistic' was changed from 'error' to 'logloss'. Explicitly set eval_metric if you'd like to restore the old behavior.\n",
      "0.23404255319148937\n",
      "[21:41:58] WARNING: C:/Users/Administrator/workspace/xgboost-win64_release_1.5.1/src/learner.cc:1115: Starting in XGBoost 1.3.0, the default evaluation metric used with the objective 'binary:logistic' was changed from 'error' to 'logloss'. Explicitly set eval_metric if you'd like to restore the old behavior.\n",
      "0.1276595744680851\n",
      "[21:41:58] WARNING: C:/Users/Administrator/workspace/xgboost-win64_release_1.5.1/src/learner.cc:1115: Starting in XGBoost 1.3.0, the default evaluation metric used with the objective 'binary:logistic' was changed from 'error' to 'logloss'. Explicitly set eval_metric if you'd like to restore the old behavior.\n",
      "0.14893617021276595\n",
      "[21:41:59] WARNING: C:/Users/Administrator/workspace/xgboost-win64_release_1.5.1/src/learner.cc:1115: Starting in XGBoost 1.3.0, the default evaluation metric used with the objective 'binary:logistic' was changed from 'error' to 'logloss'. Explicitly set eval_metric if you'd like to restore the old behavior.\n",
      "0.1276595744680851\n"
     ]
    }
   ],
   "source": [
    "#melakukan cross validation menggunakan Kfold dan memberikan hasil Mean absolute error kepada model yang terpilih\n",
    "kf= StratifiedKFold(n_splits=5, shuffle=True, random_state=random_state)\n",
    "result1 = []\n",
    "for train_index, test_index in kf.split(X_train, y_train):\n",
    "    X_train_fold, X_test_fold = X_train.iloc[train_index], X_train.iloc[test_index]\n",
    "    y_train_fold, y_test_fold = y_train.iloc[train_index], y_train.iloc[test_index]\n",
    "    xgb_gs.best_estimator_.fit(X_train_fold, y_train_fold)\n",
    "    print(mean_absolute_error(y_test_fold, xgb_gs.best_estimator_.predict(X_test_fold)))\n",
    "    result1.append(mean_absolute_error(y_test_fold, xgb_gs.best_estimator_.predict(X_test_fold)))"
   ]
  },
  {
   "cell_type": "code",
   "execution_count": 153,
   "metadata": {},
   "outputs": [
    {
     "name": "stdout",
     "output_type": "stream",
     "text": [
      "Cross Validation result : XGBoost\n",
      "Rata-rata 0.16170212765957445\n",
      "Standard Deviasi 0.03946220636381151\n"
     ]
    }
   ],
   "source": [
    "print('Cross Validation result : XGBoost')\n",
    "print('Rata-rata', np.mean(result1))\n",
    "print('Standard Deviasi', np.std(result1))"
   ]
  },
  {
   "cell_type": "code",
   "execution_count": 158,
   "metadata": {},
   "outputs": [
    {
     "name": "stdout",
     "output_type": "stream",
     "text": [
      "XGBoost - Best estimator\n",
      "              precision    recall  f1-score   support\n",
      "\n",
      "           0       0.86      0.78      0.82        40\n",
      "           1       0.61      0.74      0.67        19\n",
      "\n",
      "    accuracy                           0.76        59\n",
      "   macro avg       0.73      0.76      0.74        59\n",
      "weighted avg       0.78      0.76      0.77        59\n",
      "\n"
     ]
    }
   ],
   "source": [
    "print('XGBoost - Best estimator')\n",
    "print(classification_report(y_test, xgb_gs.best_estimator_.predict(X_test)))"
   ]
  },
  {
   "cell_type": "code",
   "execution_count": 155,
   "metadata": {},
   "outputs": [
    {
     "data": {
      "text/plain": [
       "Pipeline(steps=[('preprocessing',\n",
       "                 ColumnTransformer(transformers=[('std', StandardScaler(),\n",
       "                                                  ['time', 'serum_creatinine',\n",
       "                                                   'age', 'serum_sodium'])])),\n",
       "                ('model',\n",
       "                 XGBClassifier(base_score=0.5, booster='gbtree',\n",
       "                               colsample_bylevel=1, colsample_bynode=1,\n",
       "                               colsample_bytree=1, enable_categorical=False,\n",
       "                               eta=0.1, gamma=0, gpu_id=-1,\n",
       "                               importance_type=None, interaction_constraints='',\n",
       "                               learning_rate=0.100000001, max_delta_step=0,\n",
       "                               max_depth=5, min_child_weight=1, missing=nan,\n",
       "                               monotone_constraints='()', n_estimators=50,\n",
       "                               n_jobs=5, nthread=5, num_parallel_tree=1,\n",
       "                               predictor='auto', random_state=0, reg_alpha=0,\n",
       "                               reg_lambda=1, scale_pos_weight=1, subsample=1,\n",
       "                               tree_method='exact', validate_parameters=1,\n",
       "                               verbosity=None))])"
      ]
     },
     "execution_count": 155,
     "metadata": {},
     "output_type": "execute_result"
    }
   ],
   "source": [
    "xgb_gs.best_estimator_"
   ]
  },
  {
   "cell_type": "markdown",
   "metadata": {},
   "source": [
    "Rata-rata hasil evaluasi model dari 5 fold cross validation MAE adalah 0.16170 dan Standard Deviasi 0.03946"
   ]
  },
  {
   "cell_type": "markdown",
   "metadata": {},
   "source": [
    ">Maka di putuskan untuk menggunakan Random Forest untuk model inference"
   ]
  },
  {
   "cell_type": "markdown",
   "metadata": {},
   "source": [
    "# 10. Model Inference\n",
    "> Model yang sudah dilatih akan dicoba pada data yang bukan termasuk ke dalam train-set ataupun test-set. Data ini harus dalam format yang asli, bukan data yang sudah di-scaled.\n",
    "   "
   ]
  },
  {
   "cell_type": "code",
   "execution_count": 156,
   "metadata": {},
   "outputs": [],
   "source": [
    "df_inf_x = df_inf.drop('DEATH_EVENT', axis=1)"
   ]
  },
  {
   "cell_type": "code",
   "execution_count": 157,
   "metadata": {},
   "outputs": [
    {
     "data": {
      "text/html": [
       "<div>\n",
       "<style scoped>\n",
       "    .dataframe tbody tr th:only-of-type {\n",
       "        vertical-align: middle;\n",
       "    }\n",
       "\n",
       "    .dataframe tbody tr th {\n",
       "        vertical-align: top;\n",
       "    }\n",
       "\n",
       "    .dataframe thead th {\n",
       "        text-align: right;\n",
       "    }\n",
       "</style>\n",
       "<table border=\"1\" class=\"dataframe\">\n",
       "  <thead>\n",
       "    <tr style=\"text-align: right;\">\n",
       "      <th></th>\n",
       "      <th>time</th>\n",
       "      <th>serum_creatinine</th>\n",
       "      <th>age</th>\n",
       "      <th>serum_sodium</th>\n",
       "      <th>prediction</th>\n",
       "    </tr>\n",
       "  </thead>\n",
       "  <tbody>\n",
       "    <tr>\n",
       "      <th>0</th>\n",
       "      <td>63</td>\n",
       "      <td>1.18</td>\n",
       "      <td>45.0</td>\n",
       "      <td>137</td>\n",
       "      <td>1</td>\n",
       "    </tr>\n",
       "    <tr>\n",
       "      <th>1</th>\n",
       "      <td>246</td>\n",
       "      <td>1.10</td>\n",
       "      <td>70.0</td>\n",
       "      <td>140</td>\n",
       "      <td>0</td>\n",
       "    </tr>\n",
       "    <tr>\n",
       "      <th>2</th>\n",
       "      <td>195</td>\n",
       "      <td>1.30</td>\n",
       "      <td>73.0</td>\n",
       "      <td>134</td>\n",
       "      <td>0</td>\n",
       "    </tr>\n",
       "    <tr>\n",
       "      <th>3</th>\n",
       "      <td>8</td>\n",
       "      <td>2.10</td>\n",
       "      <td>90.0</td>\n",
       "      <td>132</td>\n",
       "      <td>1</td>\n",
       "    </tr>\n",
       "    <tr>\n",
       "      <th>4</th>\n",
       "      <td>80</td>\n",
       "      <td>1.00</td>\n",
       "      <td>60.0</td>\n",
       "      <td>133</td>\n",
       "      <td>0</td>\n",
       "    </tr>\n",
       "  </tbody>\n",
       "</table>\n",
       "</div>"
      ],
      "text/plain": [
       "   time  serum_creatinine   age  serum_sodium  prediction\n",
       "0    63              1.18  45.0           137           1\n",
       "1   246              1.10  70.0           140           0\n",
       "2   195              1.30  73.0           134           0\n",
       "3     8              2.10  90.0           132           1\n",
       "4    80              1.00  60.0           133           0"
      ]
     },
     "execution_count": 157,
     "metadata": {},
     "output_type": "execute_result"
    }
   ],
   "source": [
    "df_inf_x [\"prediction\"] = rf_gs.best_estimator_.predict(df_inf_x)\n",
    "df_inf_x.head()"
   ]
  },
  {
   "cell_type": "markdown",
   "metadata": {},
   "source": [
    "# 11. Pengambilan Kesimpulan\n",
    "   > Pada bagian terakhir ini, **harus berisi** kesimpulan yang mencerminkan hasil yang didapat dengan *objective* yang sudah ditulis di bagian pengenalan."
   ]
  },
  {
   "cell_type": "markdown",
   "metadata": {},
   "source": [
    "> ### Dari berbagai percobaan model yang saya lakukan, yang paling bagus di antara xgb dan random forest adalah \n",
    "\n",
    "- RandomForest dengan F1 \n",
    "    - accuracy 80%\n",
    "    - 0 score 85%\n",
    "    - 1 score 68%\n",
    "\n",
    "> ### Setelah di lakukan gridsearch dengan parameter yang tepat di dapatkan hasil hyper parameter sebagai berikut\n",
    "\n",
    "    - max_depth=10\n",
    "    - min_samples_leaf=3\n",
    "    - n_estimators=10\n",
    "    - random_state=14\n",
    "\n",
    "> ### Setelah di lakukan tune up pada  hyper parameter model menjadi sedikit lebih baik\n",
    "- RandomForest dengan F1 \n",
    "    - accuracy 81%\n",
    "    - 0 score 86%\n",
    "    - 1 score 70%\n",
    "\n",
    ">### Dengan cross validation MAE adalah 0.1435277 dan standard deviasi 0.0361666\n",
    "\n",
    "> ### Pada model ini saya bisa mengasumsikan hal yang sangat mempengaruhi Death Event adalah\n",
    "- time                      \n",
    "- ejection_fraction         \n",
    "- serum_sodium              \n",
    "- age                       \n",
    "- serum_creatinine   \n",
    "\n",
    "> ### Setelah di tune up model mengalami kemajuan sebesar 1%"
   ]
  }
 ],
 "metadata": {
  "interpreter": {
   "hash": "8a0314e9a3496969cdc3b628708851b260263268c48c6868778a684e0fdc7ce1"
  },
  "kernelspec": {
   "display_name": "Python 3.9.7 ('base')",
   "language": "python",
   "name": "python3"
  },
  "language_info": {
   "codemirror_mode": {
    "name": "ipython",
    "version": 3
   },
   "file_extension": ".py",
   "mimetype": "text/x-python",
   "name": "python",
   "nbconvert_exporter": "python",
   "pygments_lexer": "ipython3",
   "version": "3.9.7"
  },
  "orig_nbformat": 4
 },
 "nbformat": 4,
 "nbformat_minor": 2
}
