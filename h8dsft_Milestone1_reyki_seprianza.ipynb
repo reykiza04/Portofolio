{
 "cells": [
  {
   "cell_type": "markdown",
   "metadata": {},
   "source": [
    "# Milestones 1\n",
    "\n",
    "Nama : Reyki Seprianza\n",
    "\n",
    "Batch : ftds 09\n",
    "\n",
    "[Link heroku](https://reyki-seprianza-ftds-009-p0m1.herokuapp.com)\n",
    "\n",
    "reyki-seprianza-ftds-009-p0m1.herokuapp.com\n",
    "\n",
    "## ***file ipynb ini adalah master sebelum di pecah untuk di deploy ke heroku***\n",
    "\n",
    "*Milestones ini dibuat guna mengevaluasi pembelajaran pada Hacktiv8 Data Science Fulltime Program khususnya pada Phase 0.*\n",
    "\n",
    "\n",
    "--------------------------------------------------------------------------\n",
    "\n",
    "## Dataset Description\n",
    "Unduh dataset [disini](https://www.kaggle.com/aungpyaeap/supermarket-sales).\n",
    "\n",
    "\n",
    "## Assignment Instructions\n",
    "\n",
    "*Milestones 1* dikerjakan dalam bentuk dashboard Streamlit dengan beberapa **kriteria wajib** di bawah ini:\n",
    "\n",
    "1. *Library* utama yang digunakan adalah **Streamlit**.\n",
    "\n",
    "2. *Project* dinyatakan selesai dan diterima untuk dinilai jika sudah di-deploy ke Heroku.\n",
    "\n",
    "3. Dashboard yang dibuat terdiri dari minimal 2 layout : `Visualisasi` dan `Hypothesis Testing`.\n",
    "\n",
    "4. Untuk layout `Visualisasi` :\n",
    "   1. Minimal ada 4 figure yang ditampilkan dalam halaman.\n",
    "   2. Ada callback untuk interactivity figure yang telah dibuat.\n",
    "\n",
    "5. Untuk layout `Hypothesis Testing` :\n",
    "   1. Buatlah 1 hypothesis testing terhadap dataset yang ada.\n",
    "   2. Tulis proses testing serta hasil analisa dalam bentuk Markdown pada layout hypothesis testing.\n",
    "\n",
    "6. Tetap lakukan cleaning dan preprocessing pada data. Data yang ditampilkan pada dashboard adalah data clean yang telah melalui proses preprocessing.\n",
    "\n",
    "7. Deploy dashboard yang telah dibuat ke heroku dengan format url berupa `nama_student-batch-p0m1.herokuapp.com`, misal `reyki-seprianza-ftds-009-p0m1.herokuapp.com`.\n",
    "\n",
    "8. Presentasikan dashboard yang telah dibuat pada P1W1D4PM.\n",
    "\n",
    "\n",
    "## Assignment Submission\n",
    "\n",
    "1. Simpan assignment pada sesi ini dengan nama `h8dsft_Milestone1_<nama-student>.ipynb`, misal `h8dsft_Milestone1_reyki_seprianza.ipynb`.\n",
    "\n",
    "2. Pada file `.ipynb` poin 1 diatas, tambahkan URL deployment Heroku masing-masing student. Tidak adanya URL Heroku di file `.ipynb` akan menyebabkan tidak dinilainya deployment Streamlit.\n",
    "\n",
    "3. File yang berkaitan dengan Streamlit juga wajib diupload. Akan lebih bagus jika file deployment Streamlit masuk ke dalam folder yang berbeda dengan file `.ipynb`. Contoh hasil commit tugas yang baik : \n",
    "   * `h8dsft_Milestone1_reyki_seprianza.ipynb`\n",
    "   * `/deployment`\n",
    "     - `requirements.txt`\n",
    "     - `Procfile`\n",
    "     - `app.py`\n",
    "     - etc\n",
    "\n",
    "4. Ketidaklengkapan jawaban yang diupload, seperti hanya melampirkan file `ipynb` saja atau hanya melampirkan file deployment Streamlit saja, akan menyebabkan pengurangan nilai yang signifikan pada tugas kali ini.\n",
    "\n",
    "5. Push Assigment yang telah dibuat ke akun Github masing-masing student.\n",
    "\n",
    "## Assignment Objectives\n",
    "\n",
    "*Milestones 1* ini dibuat guna mengevaluasi Pembelajaran Phase 0 sebagai berikut:\n",
    "\n",
    "- Mampu melakukan hypothesis testing terhadap dataset yang diberikan.\n",
    "- Mampu membuat dashboard interaktif terhadap dataset yang diberikan.\n",
    "- Mampu mempresentasikan hasil visualisasi data dan temuan.\n",
    "\n",
    "---\n",
    "\n",
    "## Assignment Rubrics\n",
    "\n",
    "### Code Review\n",
    "\n",
    "| Criteria|Meet Expectations|Points|\n",
    "| --- | --- | --- |\n",
    "| Streamlit Figure | Mampu membuat minimal 4 figure dengan Streamlit | 20 pts each (Max 80) |\n",
    "| Streamlit Callback | Mampu membuat callback dengan Streamlit | 50 pts |\n",
    "| Hypothesis Testing | Mampu melakukan hypothesis testing dan menampilkannya dengan Streamlit | 50 pts |\n",
    "\n",
    "### Readability\n",
    "\n",
    "| Criteria | Meet Expectations | Points|\n",
    "| --- | --- | --- |\n",
    "| Tertata Dengan Baik | Semua baris kode terdokumentasi dengan baik dengan menggunakan Markdown untuk penjelasan kode. | 10 pts |\n",
    "\n",
    "### Analysis\n",
    "\n",
    "| Criteria | Meet Expectations | Points |\n",
    "| --- | --- | --- |\n",
    "| Overall Analysis | Menarik informasi/kesimpulan dari keseluruhan eksplorasi yang dilakukan. | 10 pts |\n",
    "\n",
    "---\n",
    "\n",
    "```\n",
    "Total Points : 200\n",
    "\n",
    "Catatan : Penilaian Milestone  juga dapat dipengaruhi oleh aktivitas student selama Phase 0 berlangsung, baik sesi kelas maupun sesi mentoring dengan buddy-nya masing-masing sehingga terdapat kemungkinan adanya penambahan atau pengurangan nilai diluar rubric yang telah disebutkan diatas.\n",
    "```"
   ]
  },
  {
   "cell_type": "markdown",
   "metadata": {},
   "source": [
    "------------------------------------------------------------------------------------------\n",
    "\n",
    "# Background Story\n",
    "\n",
    "Perkenalkan saya adalah **Reyki Seprianza** seorang data scientist dari perusahaan retail yang cukup ternama di Myanmar.\n",
    "\n",
    "Saya tergabung dalam tim Market Research & Development diberikan sebuah datasheet yang berisikan data penjualan toko perusahaan kami selama 3 bulan (Quartal 1) yang berada di kota Naypytaw, Yangon dan Mandalay.\n",
    "\n",
    "Saya diminta untuk memberikan hasil visualisasi data yang dimiliki teritama mengenai analisa konsumen dan memberikan penjabaran hipotesa untuk mendukung tim Market Research & Development dalam membantu memberikan keputusan kepada perusahaan untuk membuat sebuah food court disalah satu kota yang ditargetkan. Pertimbangan dalam masa pandemi maka tim Market Research & Development mencoba mengalihkan pemakaian uang tunai dan kartu yang paling beresiko terpapar droplet yaitu dengan menggunakan e-wallet. Sehingga food court yang ditargetkan adalah yang berada di kota-kota dengan pengguna e-wallet terbanyak. Berdasarkan hasil analisis data yang dilakukan maka kota yang memiliki populasi penggunaan e-wallet terbanyak adalah kota Yangon.\n",
    "\n",
    "\n",
    "\n",
    "Maka dari itu projek ini dibuat agar tim Market Research & Development dapat mengambil keputusan bagi perkembangan perusahaan kedepannya.\n",
    "\n",
    "Secara sekilas kota Yangon adalah  kota dengan penggunaan Ewallet terbanyak, \n",
    "Objectif kita adalah untuk membuktikan apakah rata-rata pengguna Ewallet di yangon berbeda signifikan dengan kota lainnya.\n",
    "\n",
    "\n",
    "🔍**Objektif kita** \n",
    "\n",
    "\n",
    "    >  untuk membuktikan apakah rata-rata pengguna Ewallet di Yangon berbeda signifikan dengan kota lainnya.\n",
    "\n",
    "    \n",
    "Hipotesa yang akan di buktikan pada kesempatan ini adalah\n",
    "\n",
    ">h0  μ Pengguna Ewallet di kota Yangon = μ Pengguna Ewallet di kota Naypyitaw dan Mandalay\n",
    "\n",
    "\n",
    ">h1  μ Pengguna Ewallet di kota Yangon != μ Pengguna Ewallet di kota Naypyitaw dan Mandalay\n",
    "\n"
   ]
  },
  {
   "cell_type": "markdown",
   "metadata": {},
   "source": [
    "## Work Space"
   ]
  },
  {
   "cell_type": "code",
   "execution_count": 1,
   "metadata": {},
   "outputs": [],
   "source": [
    "#import library yg di butuhkan\n",
    "import pandas as pd\n",
    "import matplotlib.pyplot as plt\n",
    "from scipy import stats\n",
    "import seaborn as sns\n",
    "import numpy as np\n",
    "import plotly.express as px\n",
    "import plotly.graph_objects as go\n",
    "\n",
    "import warnings\n",
    "warnings.filterwarnings('ignore') #abaikan warning"
   ]
  },
  {
   "cell_type": "code",
   "execution_count": 2,
   "metadata": {},
   "outputs": [
    {
     "data": {
      "text/html": [
       "<div>\n",
       "<style scoped>\n",
       "    .dataframe tbody tr th:only-of-type {\n",
       "        vertical-align: middle;\n",
       "    }\n",
       "\n",
       "    .dataframe tbody tr th {\n",
       "        vertical-align: top;\n",
       "    }\n",
       "\n",
       "    .dataframe thead th {\n",
       "        text-align: right;\n",
       "    }\n",
       "</style>\n",
       "<table border=\"1\" class=\"dataframe\">\n",
       "  <thead>\n",
       "    <tr style=\"text-align: right;\">\n",
       "      <th></th>\n",
       "      <th>Invoice ID</th>\n",
       "      <th>Branch</th>\n",
       "      <th>City</th>\n",
       "      <th>Customer type</th>\n",
       "      <th>Gender</th>\n",
       "      <th>Product line</th>\n",
       "      <th>Unit price</th>\n",
       "      <th>Quantity</th>\n",
       "      <th>Tax 5%</th>\n",
       "      <th>Total</th>\n",
       "      <th>Date</th>\n",
       "      <th>Time</th>\n",
       "      <th>Payment</th>\n",
       "      <th>cogs</th>\n",
       "      <th>gross margin percentage</th>\n",
       "      <th>gross income</th>\n",
       "      <th>Rating</th>\n",
       "    </tr>\n",
       "  </thead>\n",
       "  <tbody>\n",
       "    <tr>\n",
       "      <th>0</th>\n",
       "      <td>750-67-8428</td>\n",
       "      <td>A</td>\n",
       "      <td>Yangon</td>\n",
       "      <td>Member</td>\n",
       "      <td>Female</td>\n",
       "      <td>Health and beauty</td>\n",
       "      <td>74.69</td>\n",
       "      <td>7</td>\n",
       "      <td>26.1415</td>\n",
       "      <td>548.9715</td>\n",
       "      <td>1/5/2019</td>\n",
       "      <td>13:08</td>\n",
       "      <td>Ewallet</td>\n",
       "      <td>522.83</td>\n",
       "      <td>4.761905</td>\n",
       "      <td>26.1415</td>\n",
       "      <td>9.1</td>\n",
       "    </tr>\n",
       "    <tr>\n",
       "      <th>1</th>\n",
       "      <td>226-31-3081</td>\n",
       "      <td>C</td>\n",
       "      <td>Naypyitaw</td>\n",
       "      <td>Normal</td>\n",
       "      <td>Female</td>\n",
       "      <td>Electronic accessories</td>\n",
       "      <td>15.28</td>\n",
       "      <td>5</td>\n",
       "      <td>3.8200</td>\n",
       "      <td>80.2200</td>\n",
       "      <td>3/8/2019</td>\n",
       "      <td>10:29</td>\n",
       "      <td>Cash</td>\n",
       "      <td>76.40</td>\n",
       "      <td>4.761905</td>\n",
       "      <td>3.8200</td>\n",
       "      <td>9.6</td>\n",
       "    </tr>\n",
       "    <tr>\n",
       "      <th>2</th>\n",
       "      <td>631-41-3108</td>\n",
       "      <td>A</td>\n",
       "      <td>Yangon</td>\n",
       "      <td>Normal</td>\n",
       "      <td>Male</td>\n",
       "      <td>Home and lifestyle</td>\n",
       "      <td>46.33</td>\n",
       "      <td>7</td>\n",
       "      <td>16.2155</td>\n",
       "      <td>340.5255</td>\n",
       "      <td>3/3/2019</td>\n",
       "      <td>13:23</td>\n",
       "      <td>Credit card</td>\n",
       "      <td>324.31</td>\n",
       "      <td>4.761905</td>\n",
       "      <td>16.2155</td>\n",
       "      <td>7.4</td>\n",
       "    </tr>\n",
       "    <tr>\n",
       "      <th>3</th>\n",
       "      <td>123-19-1176</td>\n",
       "      <td>A</td>\n",
       "      <td>Yangon</td>\n",
       "      <td>Member</td>\n",
       "      <td>Male</td>\n",
       "      <td>Health and beauty</td>\n",
       "      <td>58.22</td>\n",
       "      <td>8</td>\n",
       "      <td>23.2880</td>\n",
       "      <td>489.0480</td>\n",
       "      <td>1/27/2019</td>\n",
       "      <td>20:33</td>\n",
       "      <td>Ewallet</td>\n",
       "      <td>465.76</td>\n",
       "      <td>4.761905</td>\n",
       "      <td>23.2880</td>\n",
       "      <td>8.4</td>\n",
       "    </tr>\n",
       "    <tr>\n",
       "      <th>4</th>\n",
       "      <td>373-73-7910</td>\n",
       "      <td>A</td>\n",
       "      <td>Yangon</td>\n",
       "      <td>Normal</td>\n",
       "      <td>Male</td>\n",
       "      <td>Sports and travel</td>\n",
       "      <td>86.31</td>\n",
       "      <td>7</td>\n",
       "      <td>30.2085</td>\n",
       "      <td>634.3785</td>\n",
       "      <td>2/8/2019</td>\n",
       "      <td>10:37</td>\n",
       "      <td>Ewallet</td>\n",
       "      <td>604.17</td>\n",
       "      <td>4.761905</td>\n",
       "      <td>30.2085</td>\n",
       "      <td>5.3</td>\n",
       "    </tr>\n",
       "  </tbody>\n",
       "</table>\n",
       "</div>"
      ],
      "text/plain": [
       "    Invoice ID Branch       City Customer type  Gender  \\\n",
       "0  750-67-8428      A     Yangon        Member  Female   \n",
       "1  226-31-3081      C  Naypyitaw        Normal  Female   \n",
       "2  631-41-3108      A     Yangon        Normal    Male   \n",
       "3  123-19-1176      A     Yangon        Member    Male   \n",
       "4  373-73-7910      A     Yangon        Normal    Male   \n",
       "\n",
       "             Product line  Unit price  Quantity   Tax 5%     Total       Date  \\\n",
       "0       Health and beauty       74.69         7  26.1415  548.9715   1/5/2019   \n",
       "1  Electronic accessories       15.28         5   3.8200   80.2200   3/8/2019   \n",
       "2      Home and lifestyle       46.33         7  16.2155  340.5255   3/3/2019   \n",
       "3       Health and beauty       58.22         8  23.2880  489.0480  1/27/2019   \n",
       "4       Sports and travel       86.31         7  30.2085  634.3785   2/8/2019   \n",
       "\n",
       "    Time      Payment    cogs  gross margin percentage  gross income  Rating  \n",
       "0  13:08      Ewallet  522.83                 4.761905       26.1415     9.1  \n",
       "1  10:29         Cash   76.40                 4.761905        3.8200     9.6  \n",
       "2  13:23  Credit card  324.31                 4.761905       16.2155     7.4  \n",
       "3  20:33      Ewallet  465.76                 4.761905       23.2880     8.4  \n",
       "4  10:37      Ewallet  604.17                 4.761905       30.2085     5.3  "
      ]
     },
     "execution_count": 2,
     "metadata": {},
     "output_type": "execute_result"
    }
   ],
   "source": [
    "#Data loading\n",
    "df = pd.read_csv('deployment/supermarket_sales.csv')\n",
    "df.head()"
   ]
  },
  {
   "cell_type": "code",
   "execution_count": 3,
   "metadata": {},
   "outputs": [
    {
     "name": "stdout",
     "output_type": "stream",
     "text": [
      "<class 'pandas.core.frame.DataFrame'>\n",
      "RangeIndex: 1000 entries, 0 to 999\n",
      "Data columns (total 17 columns):\n",
      " #   Column                   Non-Null Count  Dtype  \n",
      "---  ------                   --------------  -----  \n",
      " 0   Invoice ID               1000 non-null   object \n",
      " 1   Branch                   1000 non-null   object \n",
      " 2   City                     1000 non-null   object \n",
      " 3   Customer type            1000 non-null   object \n",
      " 4   Gender                   1000 non-null   object \n",
      " 5   Product line             1000 non-null   object \n",
      " 6   Unit price               1000 non-null   float64\n",
      " 7   Quantity                 1000 non-null   int64  \n",
      " 8   Tax 5%                   1000 non-null   float64\n",
      " 9   Total                    1000 non-null   float64\n",
      " 10  Date                     1000 non-null   object \n",
      " 11  Time                     1000 non-null   object \n",
      " 12  Payment                  1000 non-null   object \n",
      " 13  cogs                     1000 non-null   float64\n",
      " 14  gross margin percentage  1000 non-null   float64\n",
      " 15  gross income             1000 non-null   float64\n",
      " 16  Rating                   1000 non-null   float64\n",
      "dtypes: float64(7), int64(1), object(9)\n",
      "memory usage: 132.9+ KB\n"
     ]
    }
   ],
   "source": [
    "df.info()"
   ]
  },
  {
   "cell_type": "markdown",
   "metadata": {},
   "source": [
    "> ### Attribute information\n",
    "\n",
    ">Invoice id: Computer generated sales slip invoice identification number\n",
    "\n",
    ">Branch: Branch of supercenter (3 branches are available identified by A, B and C).\n",
    "\n",
    ">City: Location of supercenters\n",
    "\n",
    ">Customer type: Type of customers, recorded by Members for customers using member card and Normal for without member card.\n",
    "\n",
    ">Gender: Gender type of customer\n",
    "\n",
    ">Product line: General item categorization groups - Electronic accessories, Fashion accessories, Food and beverages, Health and beauty, Home and lifestyle, Sports and travel\n",
    "\n",
    ">Unit price: Price of each product in $\n",
    "\n",
    ">Quantity: Number of products purchased by customer\n",
    "\n",
    ">Tax: 5% tax fee for customer buying\n",
    "\n",
    ">Total: Total price including tax\n",
    "\n",
    ">Date: Date of purchase (Record available from January 2019 to March 2019)\n",
    "\n",
    ">Time: Purchase time (10am to 9pm)\n",
    "\n",
    ">Payment: Payment used by customer for purchase (3 methods are available – Cash, Credit card and Ewallet)\n",
    "\n",
    ">COGS: Cost of goods sold\n",
    "\n",
    ">Gross margin percentage: Gross margin percentage\n",
    "\n",
    ">Gross income: Gross income\n",
    "\n",
    ">Rating: Customer stratification rating on their overall shopping experience (On a scale of 1 to 10)"
   ]
  },
  {
   "cell_type": "code",
   "execution_count": 4,
   "metadata": {},
   "outputs": [
    {
     "data": {
      "text/html": [
       "<div>\n",
       "<style scoped>\n",
       "    .dataframe tbody tr th:only-of-type {\n",
       "        vertical-align: middle;\n",
       "    }\n",
       "\n",
       "    .dataframe tbody tr th {\n",
       "        vertical-align: top;\n",
       "    }\n",
       "\n",
       "    .dataframe thead th {\n",
       "        text-align: right;\n",
       "    }\n",
       "</style>\n",
       "<table border=\"1\" class=\"dataframe\">\n",
       "  <thead>\n",
       "    <tr style=\"text-align: right;\">\n",
       "      <th></th>\n",
       "      <th>count</th>\n",
       "      <th>mean</th>\n",
       "      <th>std</th>\n",
       "      <th>min</th>\n",
       "      <th>25%</th>\n",
       "      <th>50%</th>\n",
       "      <th>75%</th>\n",
       "      <th>max</th>\n",
       "    </tr>\n",
       "  </thead>\n",
       "  <tbody>\n",
       "    <tr>\n",
       "      <th>Unit price</th>\n",
       "      <td>1000.0</td>\n",
       "      <td>55.672130</td>\n",
       "      <td>2.649463e+01</td>\n",
       "      <td>10.080000</td>\n",
       "      <td>32.875000</td>\n",
       "      <td>55.230000</td>\n",
       "      <td>77.935000</td>\n",
       "      <td>99.960000</td>\n",
       "    </tr>\n",
       "    <tr>\n",
       "      <th>Quantity</th>\n",
       "      <td>1000.0</td>\n",
       "      <td>5.510000</td>\n",
       "      <td>2.923431e+00</td>\n",
       "      <td>1.000000</td>\n",
       "      <td>3.000000</td>\n",
       "      <td>5.000000</td>\n",
       "      <td>8.000000</td>\n",
       "      <td>10.000000</td>\n",
       "    </tr>\n",
       "    <tr>\n",
       "      <th>Tax 5%</th>\n",
       "      <td>1000.0</td>\n",
       "      <td>15.379369</td>\n",
       "      <td>1.170883e+01</td>\n",
       "      <td>0.508500</td>\n",
       "      <td>5.924875</td>\n",
       "      <td>12.088000</td>\n",
       "      <td>22.445250</td>\n",
       "      <td>49.650000</td>\n",
       "    </tr>\n",
       "    <tr>\n",
       "      <th>Total</th>\n",
       "      <td>1000.0</td>\n",
       "      <td>322.966749</td>\n",
       "      <td>2.458853e+02</td>\n",
       "      <td>10.678500</td>\n",
       "      <td>124.422375</td>\n",
       "      <td>253.848000</td>\n",
       "      <td>471.350250</td>\n",
       "      <td>1042.650000</td>\n",
       "    </tr>\n",
       "    <tr>\n",
       "      <th>cogs</th>\n",
       "      <td>1000.0</td>\n",
       "      <td>307.587380</td>\n",
       "      <td>2.341765e+02</td>\n",
       "      <td>10.170000</td>\n",
       "      <td>118.497500</td>\n",
       "      <td>241.760000</td>\n",
       "      <td>448.905000</td>\n",
       "      <td>993.000000</td>\n",
       "    </tr>\n",
       "    <tr>\n",
       "      <th>gross margin percentage</th>\n",
       "      <td>1000.0</td>\n",
       "      <td>4.761905</td>\n",
       "      <td>6.131498e-14</td>\n",
       "      <td>4.761905</td>\n",
       "      <td>4.761905</td>\n",
       "      <td>4.761905</td>\n",
       "      <td>4.761905</td>\n",
       "      <td>4.761905</td>\n",
       "    </tr>\n",
       "    <tr>\n",
       "      <th>gross income</th>\n",
       "      <td>1000.0</td>\n",
       "      <td>15.379369</td>\n",
       "      <td>1.170883e+01</td>\n",
       "      <td>0.508500</td>\n",
       "      <td>5.924875</td>\n",
       "      <td>12.088000</td>\n",
       "      <td>22.445250</td>\n",
       "      <td>49.650000</td>\n",
       "    </tr>\n",
       "    <tr>\n",
       "      <th>Rating</th>\n",
       "      <td>1000.0</td>\n",
       "      <td>6.972700</td>\n",
       "      <td>1.718580e+00</td>\n",
       "      <td>4.000000</td>\n",
       "      <td>5.500000</td>\n",
       "      <td>7.000000</td>\n",
       "      <td>8.500000</td>\n",
       "      <td>10.000000</td>\n",
       "    </tr>\n",
       "  </tbody>\n",
       "</table>\n",
       "</div>"
      ],
      "text/plain": [
       "                          count        mean           std        min  \\\n",
       "Unit price               1000.0   55.672130  2.649463e+01  10.080000   \n",
       "Quantity                 1000.0    5.510000  2.923431e+00   1.000000   \n",
       "Tax 5%                   1000.0   15.379369  1.170883e+01   0.508500   \n",
       "Total                    1000.0  322.966749  2.458853e+02  10.678500   \n",
       "cogs                     1000.0  307.587380  2.341765e+02  10.170000   \n",
       "gross margin percentage  1000.0    4.761905  6.131498e-14   4.761905   \n",
       "gross income             1000.0   15.379369  1.170883e+01   0.508500   \n",
       "Rating                   1000.0    6.972700  1.718580e+00   4.000000   \n",
       "\n",
       "                                25%         50%         75%          max  \n",
       "Unit price                32.875000   55.230000   77.935000    99.960000  \n",
       "Quantity                   3.000000    5.000000    8.000000    10.000000  \n",
       "Tax 5%                     5.924875   12.088000   22.445250    49.650000  \n",
       "Total                    124.422375  253.848000  471.350250  1042.650000  \n",
       "cogs                     118.497500  241.760000  448.905000   993.000000  \n",
       "gross margin percentage    4.761905    4.761905    4.761905     4.761905  \n",
       "gross income               5.924875   12.088000   22.445250    49.650000  \n",
       "Rating                     5.500000    7.000000    8.500000    10.000000  "
      ]
     },
     "execution_count": 4,
     "metadata": {},
     "output_type": "execute_result"
    }
   ],
   "source": [
    "df.describe().T"
   ]
  },
  {
   "cell_type": "code",
   "execution_count": 5,
   "metadata": {},
   "outputs": [
    {
     "data": {
      "application/vnd.plotly.v1+json": {
       "config": {
        "plotlyServerURL": "https://plot.ly"
       },
       "data": [
        {
         "alignmentgroup": "True",
         "bingroup": "x",
         "hovertemplate": "Gender=Female<br>Customer type=%{x}<br>count=%{y}<extra></extra>",
         "legendgroup": "Female",
         "marker": {
          "color": "#636efa",
          "pattern": {
           "shape": ""
          }
         },
         "name": "Female",
         "offsetgroup": "Female",
         "orientation": "v",
         "showlegend": true,
         "type": "histogram",
         "x": [
          "Member",
          "Normal",
          "Member",
          "Normal",
          "Member",
          "Member",
          "Member",
          "Normal",
          "Normal",
          "Member",
          "Member",
          "Normal",
          "Member",
          "Normal",
          "Normal",
          "Member",
          "Member",
          "Normal",
          "Normal",
          "Member",
          "Member",
          "Member",
          "Member",
          "Member",
          "Member",
          "Member",
          "Member",
          "Normal",
          "Member",
          "Member",
          "Member",
          "Normal",
          "Member",
          "Member",
          "Member",
          "Normal",
          "Normal",
          "Member",
          "Member",
          "Normal",
          "Normal",
          "Normal",
          "Member",
          "Normal",
          "Normal",
          "Member",
          "Normal",
          "Member",
          "Normal",
          "Normal",
          "Normal",
          "Member",
          "Member",
          "Normal",
          "Member",
          "Normal",
          "Normal",
          "Normal",
          "Member",
          "Normal",
          "Normal",
          "Normal",
          "Member",
          "Normal",
          "Normal",
          "Member",
          "Normal",
          "Normal",
          "Normal",
          "Member",
          "Member",
          "Member",
          "Member",
          "Normal",
          "Normal",
          "Member",
          "Member",
          "Normal",
          "Normal",
          "Normal",
          "Normal",
          "Normal",
          "Member",
          "Normal",
          "Normal",
          "Normal",
          "Normal",
          "Member",
          "Normal",
          "Member",
          "Member",
          "Member",
          "Normal",
          "Member",
          "Member",
          "Normal",
          "Normal",
          "Normal",
          "Member",
          "Normal",
          "Member",
          "Normal",
          "Member",
          "Member",
          "Member",
          "Normal",
          "Normal",
          "Member",
          "Normal",
          "Normal",
          "Member",
          "Member",
          "Member",
          "Normal",
          "Normal",
          "Normal",
          "Member",
          "Member",
          "Member",
          "Member",
          "Member",
          "Normal",
          "Member",
          "Member",
          "Normal",
          "Normal",
          "Member",
          "Normal",
          "Normal",
          "Normal",
          "Member",
          "Normal",
          "Normal",
          "Member",
          "Member",
          "Member",
          "Member",
          "Member",
          "Normal",
          "Normal",
          "Normal",
          "Member",
          "Member",
          "Normal",
          "Member",
          "Member",
          "Member",
          "Member",
          "Member",
          "Normal",
          "Normal",
          "Normal",
          "Member",
          "Normal",
          "Normal",
          "Member",
          "Member",
          "Member",
          "Normal",
          "Normal",
          "Member",
          "Normal",
          "Member",
          "Member",
          "Normal",
          "Member",
          "Normal",
          "Normal",
          "Normal",
          "Normal",
          "Normal",
          "Normal",
          "Normal",
          "Member",
          "Normal",
          "Normal",
          "Normal",
          "Member",
          "Member",
          "Normal",
          "Normal",
          "Normal",
          "Member",
          "Normal",
          "Normal",
          "Member",
          "Member",
          "Normal",
          "Member",
          "Normal",
          "Normal",
          "Normal",
          "Member",
          "Normal",
          "Normal",
          "Member",
          "Member",
          "Normal",
          "Normal",
          "Normal",
          "Normal",
          "Member",
          "Normal",
          "Member",
          "Member",
          "Normal",
          "Member",
          "Member",
          "Member",
          "Normal",
          "Normal",
          "Normal",
          "Member",
          "Member",
          "Normal",
          "Member",
          "Member",
          "Member",
          "Normal",
          "Normal",
          "Member",
          "Member",
          "Member",
          "Member",
          "Normal",
          "Member",
          "Member",
          "Member",
          "Member",
          "Member",
          "Member",
          "Member",
          "Normal",
          "Normal",
          "Member",
          "Member",
          "Normal",
          "Member",
          "Normal",
          "Member",
          "Member",
          "Member",
          "Normal",
          "Normal",
          "Member",
          "Member",
          "Member",
          "Normal",
          "Member",
          "Normal",
          "Member",
          "Member",
          "Normal",
          "Normal",
          "Member",
          "Normal",
          "Member",
          "Member",
          "Member",
          "Member",
          "Normal",
          "Normal",
          "Member",
          "Normal",
          "Member",
          "Member",
          "Normal",
          "Normal",
          "Normal",
          "Normal",
          "Normal",
          "Normal",
          "Member",
          "Member",
          "Member",
          "Normal",
          "Normal",
          "Normal",
          "Normal",
          "Normal",
          "Normal",
          "Member",
          "Normal",
          "Member",
          "Member",
          "Member",
          "Normal",
          "Normal",
          "Member",
          "Member",
          "Member",
          "Normal",
          "Normal",
          "Member",
          "Normal",
          "Normal",
          "Member",
          "Member",
          "Member",
          "Normal",
          "Member",
          "Member",
          "Member",
          "Normal",
          "Member",
          "Member",
          "Normal",
          "Member",
          "Normal",
          "Normal",
          "Member",
          "Member",
          "Member",
          "Member",
          "Member",
          "Normal",
          "Normal",
          "Normal",
          "Member",
          "Member",
          "Normal",
          "Member",
          "Member",
          "Normal",
          "Normal",
          "Normal",
          "Member",
          "Normal",
          "Normal",
          "Normal",
          "Member",
          "Member",
          "Member",
          "Normal",
          "Normal",
          "Member",
          "Member",
          "Member",
          "Normal",
          "Member",
          "Member",
          "Normal",
          "Member",
          "Member",
          "Normal",
          "Member",
          "Member",
          "Normal",
          "Member",
          "Normal",
          "Normal",
          "Normal",
          "Member",
          "Member",
          "Normal",
          "Member",
          "Member",
          "Member",
          "Member",
          "Member",
          "Member",
          "Member",
          "Member",
          "Member",
          "Member",
          "Member",
          "Member",
          "Normal",
          "Member",
          "Member",
          "Normal",
          "Member",
          "Normal",
          "Normal",
          "Member",
          "Member",
          "Member",
          "Normal",
          "Normal",
          "Normal",
          "Normal",
          "Member",
          "Member",
          "Member",
          "Normal",
          "Normal",
          "Normal",
          "Member",
          "Normal",
          "Member",
          "Normal",
          "Normal",
          "Normal",
          "Member",
          "Member",
          "Member",
          "Member",
          "Member",
          "Normal",
          "Normal",
          "Normal",
          "Normal",
          "Normal",
          "Normal",
          "Member",
          "Member",
          "Normal",
          "Normal",
          "Member",
          "Normal",
          "Member",
          "Member",
          "Member",
          "Member",
          "Member",
          "Member",
          "Member",
          "Member",
          "Member",
          "Normal",
          "Member",
          "Normal",
          "Normal",
          "Normal",
          "Member",
          "Normal",
          "Member",
          "Member",
          "Member",
          "Normal",
          "Normal",
          "Member",
          "Member",
          "Member",
          "Normal",
          "Member",
          "Member",
          "Member",
          "Member",
          "Member",
          "Member",
          "Normal",
          "Normal",
          "Normal",
          "Member",
          "Member",
          "Member",
          "Member",
          "Normal",
          "Member",
          "Normal",
          "Member",
          "Normal",
          "Member",
          "Normal",
          "Normal",
          "Member",
          "Normal",
          "Normal",
          "Member",
          "Member",
          "Normal",
          "Member",
          "Normal",
          "Member",
          "Normal",
          "Member",
          "Normal",
          "Member",
          "Normal",
          "Normal",
          "Normal",
          "Normal",
          "Member",
          "Normal",
          "Normal",
          "Normal",
          "Normal",
          "Member",
          "Member",
          "Member",
          "Normal",
          "Normal",
          "Member",
          "Normal",
          "Normal",
          "Normal",
          "Normal",
          "Member",
          "Member",
          "Normal",
          "Normal",
          "Normal",
          "Member",
          "Normal",
          "Normal",
          "Normal",
          "Normal",
          "Member",
          "Normal",
          "Member"
         ],
         "xaxis": "x",
         "yaxis": "y"
        },
        {
         "alignmentgroup": "True",
         "bingroup": "x",
         "hovertemplate": "Gender=Male<br>Customer type=%{x}<br>count=%{y}<extra></extra>",
         "legendgroup": "Male",
         "marker": {
          "color": "#EF553B",
          "pattern": {
           "shape": ""
          }
         },
         "name": "Male",
         "offsetgroup": "Male",
         "orientation": "v",
         "showlegend": true,
         "type": "histogram",
         "x": [
          "Normal",
          "Member",
          "Normal",
          "Normal",
          "Member",
          "Normal",
          "Normal",
          "Normal",
          "Member",
          "Normal",
          "Normal",
          "Normal",
          "Member",
          "Normal",
          "Normal",
          "Normal",
          "Member",
          "Normal",
          "Normal",
          "Member",
          "Member",
          "Member",
          "Member",
          "Member",
          "Member",
          "Member",
          "Member",
          "Normal",
          "Member",
          "Normal",
          "Normal",
          "Normal",
          "Member",
          "Member",
          "Member",
          "Normal",
          "Normal",
          "Normal",
          "Normal",
          "Member",
          "Normal",
          "Member",
          "Normal",
          "Member",
          "Normal",
          "Member",
          "Normal",
          "Normal",
          "Normal",
          "Normal",
          "Normal",
          "Member",
          "Normal",
          "Normal",
          "Normal",
          "Member",
          "Normal",
          "Normal",
          "Member",
          "Member",
          "Member",
          "Member",
          "Normal",
          "Member",
          "Member",
          "Member",
          "Member",
          "Normal",
          "Normal",
          "Normal",
          "Member",
          "Normal",
          "Member",
          "Normal",
          "Member",
          "Normal",
          "Member",
          "Member",
          "Normal",
          "Member",
          "Normal",
          "Normal",
          "Normal",
          "Normal",
          "Normal",
          "Member",
          "Normal",
          "Normal",
          "Normal",
          "Member",
          "Normal",
          "Member",
          "Normal",
          "Member",
          "Normal",
          "Member",
          "Member",
          "Normal",
          "Member",
          "Normal",
          "Member",
          "Member",
          "Normal",
          "Member",
          "Member",
          "Normal",
          "Normal",
          "Normal",
          "Member",
          "Normal",
          "Normal",
          "Member",
          "Member",
          "Normal",
          "Normal",
          "Normal",
          "Normal",
          "Normal",
          "Normal",
          "Normal",
          "Normal",
          "Normal",
          "Member",
          "Member",
          "Member",
          "Member",
          "Normal",
          "Normal",
          "Normal",
          "Normal",
          "Member",
          "Member",
          "Normal",
          "Member",
          "Member",
          "Member",
          "Normal",
          "Member",
          "Member",
          "Normal",
          "Member",
          "Member",
          "Member",
          "Member",
          "Member",
          "Member",
          "Normal",
          "Normal",
          "Member",
          "Normal",
          "Member",
          "Member",
          "Normal",
          "Member",
          "Normal",
          "Member",
          "Member",
          "Normal",
          "Normal",
          "Normal",
          "Member",
          "Member",
          "Normal",
          "Member",
          "Normal",
          "Member",
          "Member",
          "Member",
          "Member",
          "Member",
          "Member",
          "Normal",
          "Normal",
          "Normal",
          "Member",
          "Member",
          "Member",
          "Member",
          "Normal",
          "Normal",
          "Normal",
          "Member",
          "Member",
          "Normal",
          "Member",
          "Normal",
          "Member",
          "Normal",
          "Normal",
          "Member",
          "Normal",
          "Normal",
          "Member",
          "Normal",
          "Normal",
          "Member",
          "Member",
          "Normal",
          "Normal",
          "Member",
          "Member",
          "Member",
          "Normal",
          "Normal",
          "Member",
          "Normal",
          "Member",
          "Normal",
          "Member",
          "Member",
          "Normal",
          "Normal",
          "Member",
          "Normal",
          "Normal",
          "Normal",
          "Member",
          "Normal",
          "Member",
          "Member",
          "Normal",
          "Normal",
          "Normal",
          "Normal",
          "Normal",
          "Member",
          "Normal",
          "Member",
          "Member",
          "Normal",
          "Member",
          "Normal",
          "Normal",
          "Normal",
          "Member",
          "Normal",
          "Normal",
          "Normal",
          "Member",
          "Normal",
          "Normal",
          "Member",
          "Member",
          "Normal",
          "Normal",
          "Normal",
          "Normal",
          "Normal",
          "Normal",
          "Member",
          "Normal",
          "Normal",
          "Normal",
          "Normal",
          "Member",
          "Normal",
          "Normal",
          "Member",
          "Member",
          "Normal",
          "Member",
          "Member",
          "Member",
          "Normal",
          "Member",
          "Normal",
          "Normal",
          "Normal",
          "Member",
          "Normal",
          "Normal",
          "Member",
          "Normal",
          "Normal",
          "Normal",
          "Normal",
          "Member",
          "Member",
          "Member",
          "Normal",
          "Normal",
          "Normal",
          "Member",
          "Normal",
          "Member",
          "Normal",
          "Normal",
          "Member",
          "Normal",
          "Member",
          "Member",
          "Normal",
          "Normal",
          "Member",
          "Normal",
          "Normal",
          "Normal",
          "Normal",
          "Normal",
          "Normal",
          "Normal",
          "Normal",
          "Member",
          "Member",
          "Normal",
          "Normal",
          "Normal",
          "Normal",
          "Normal",
          "Normal",
          "Member",
          "Member",
          "Member",
          "Member",
          "Member",
          "Member",
          "Member",
          "Member",
          "Normal",
          "Member",
          "Member",
          "Normal",
          "Normal",
          "Member",
          "Normal",
          "Member",
          "Member",
          "Normal",
          "Normal",
          "Member",
          "Member",
          "Member",
          "Normal",
          "Member",
          "Normal",
          "Normal",
          "Member",
          "Member",
          "Member",
          "Member",
          "Member",
          "Member",
          "Member",
          "Member",
          "Normal",
          "Member",
          "Normal",
          "Member",
          "Member",
          "Member",
          "Member",
          "Member",
          "Member",
          "Normal",
          "Member",
          "Normal",
          "Normal",
          "Member",
          "Normal",
          "Member",
          "Normal",
          "Normal",
          "Member",
          "Member",
          "Member",
          "Normal",
          "Normal",
          "Member",
          "Member",
          "Normal",
          "Normal",
          "Normal",
          "Member",
          "Normal",
          "Member",
          "Member",
          "Normal",
          "Member",
          "Normal",
          "Normal",
          "Normal",
          "Member",
          "Member",
          "Member",
          "Normal",
          "Member",
          "Normal",
          "Member",
          "Normal",
          "Member",
          "Member",
          "Normal",
          "Member",
          "Member",
          "Normal",
          "Normal",
          "Normal",
          "Member",
          "Normal",
          "Normal",
          "Member",
          "Member",
          "Normal",
          "Normal",
          "Member",
          "Normal",
          "Member",
          "Normal",
          "Normal",
          "Normal",
          "Member",
          "Member",
          "Normal",
          "Member",
          "Member",
          "Normal",
          "Normal",
          "Normal",
          "Member",
          "Normal",
          "Member",
          "Normal",
          "Normal",
          "Normal",
          "Normal",
          "Normal",
          "Member",
          "Member",
          "Normal",
          "Normal",
          "Normal",
          "Normal",
          "Member",
          "Member",
          "Member",
          "Member",
          "Normal",
          "Member",
          "Normal",
          "Member",
          "Member",
          "Normal",
          "Member",
          "Member",
          "Member",
          "Normal",
          "Member",
          "Member",
          "Normal",
          "Member",
          "Normal",
          "Normal",
          "Member",
          "Member",
          "Normal",
          "Normal",
          "Normal",
          "Member",
          "Member",
          "Normal",
          "Member",
          "Normal",
          "Normal",
          "Normal",
          "Member",
          "Normal",
          "Member",
          "Normal",
          "Member",
          "Member",
          "Member",
          "Member",
          "Member",
          "Member",
          "Member",
          "Normal",
          "Member",
          "Member",
          "Member",
          "Normal",
          "Member",
          "Member",
          "Normal",
          "Normal",
          "Normal",
          "Member",
          "Member",
          "Member",
          "Normal",
          "Normal",
          "Normal",
          "Member",
          "Member",
          "Member",
          "Normal",
          "Normal",
          "Normal",
          "Member",
          "Normal"
         ],
         "xaxis": "x",
         "yaxis": "y"
        }
       ],
       "layout": {
        "barmode": "group",
        "legend": {
         "title": {
          "text": "Gender"
         },
         "tracegroupgap": 0
        },
        "template": {
         "data": {
          "bar": [
           {
            "error_x": {
             "color": "#2a3f5f"
            },
            "error_y": {
             "color": "#2a3f5f"
            },
            "marker": {
             "line": {
              "color": "#E5ECF6",
              "width": 0.5
             },
             "pattern": {
              "fillmode": "overlay",
              "size": 10,
              "solidity": 0.2
             }
            },
            "type": "bar"
           }
          ],
          "barpolar": [
           {
            "marker": {
             "line": {
              "color": "#E5ECF6",
              "width": 0.5
             },
             "pattern": {
              "fillmode": "overlay",
              "size": 10,
              "solidity": 0.2
             }
            },
            "type": "barpolar"
           }
          ],
          "carpet": [
           {
            "aaxis": {
             "endlinecolor": "#2a3f5f",
             "gridcolor": "white",
             "linecolor": "white",
             "minorgridcolor": "white",
             "startlinecolor": "#2a3f5f"
            },
            "baxis": {
             "endlinecolor": "#2a3f5f",
             "gridcolor": "white",
             "linecolor": "white",
             "minorgridcolor": "white",
             "startlinecolor": "#2a3f5f"
            },
            "type": "carpet"
           }
          ],
          "choropleth": [
           {
            "colorbar": {
             "outlinewidth": 0,
             "ticks": ""
            },
            "type": "choropleth"
           }
          ],
          "contour": [
           {
            "colorbar": {
             "outlinewidth": 0,
             "ticks": ""
            },
            "colorscale": [
             [
              0,
              "#0d0887"
             ],
             [
              0.1111111111111111,
              "#46039f"
             ],
             [
              0.2222222222222222,
              "#7201a8"
             ],
             [
              0.3333333333333333,
              "#9c179e"
             ],
             [
              0.4444444444444444,
              "#bd3786"
             ],
             [
              0.5555555555555556,
              "#d8576b"
             ],
             [
              0.6666666666666666,
              "#ed7953"
             ],
             [
              0.7777777777777778,
              "#fb9f3a"
             ],
             [
              0.8888888888888888,
              "#fdca26"
             ],
             [
              1,
              "#f0f921"
             ]
            ],
            "type": "contour"
           }
          ],
          "contourcarpet": [
           {
            "colorbar": {
             "outlinewidth": 0,
             "ticks": ""
            },
            "type": "contourcarpet"
           }
          ],
          "heatmap": [
           {
            "colorbar": {
             "outlinewidth": 0,
             "ticks": ""
            },
            "colorscale": [
             [
              0,
              "#0d0887"
             ],
             [
              0.1111111111111111,
              "#46039f"
             ],
             [
              0.2222222222222222,
              "#7201a8"
             ],
             [
              0.3333333333333333,
              "#9c179e"
             ],
             [
              0.4444444444444444,
              "#bd3786"
             ],
             [
              0.5555555555555556,
              "#d8576b"
             ],
             [
              0.6666666666666666,
              "#ed7953"
             ],
             [
              0.7777777777777778,
              "#fb9f3a"
             ],
             [
              0.8888888888888888,
              "#fdca26"
             ],
             [
              1,
              "#f0f921"
             ]
            ],
            "type": "heatmap"
           }
          ],
          "heatmapgl": [
           {
            "colorbar": {
             "outlinewidth": 0,
             "ticks": ""
            },
            "colorscale": [
             [
              0,
              "#0d0887"
             ],
             [
              0.1111111111111111,
              "#46039f"
             ],
             [
              0.2222222222222222,
              "#7201a8"
             ],
             [
              0.3333333333333333,
              "#9c179e"
             ],
             [
              0.4444444444444444,
              "#bd3786"
             ],
             [
              0.5555555555555556,
              "#d8576b"
             ],
             [
              0.6666666666666666,
              "#ed7953"
             ],
             [
              0.7777777777777778,
              "#fb9f3a"
             ],
             [
              0.8888888888888888,
              "#fdca26"
             ],
             [
              1,
              "#f0f921"
             ]
            ],
            "type": "heatmapgl"
           }
          ],
          "histogram": [
           {
            "marker": {
             "pattern": {
              "fillmode": "overlay",
              "size": 10,
              "solidity": 0.2
             }
            },
            "type": "histogram"
           }
          ],
          "histogram2d": [
           {
            "colorbar": {
             "outlinewidth": 0,
             "ticks": ""
            },
            "colorscale": [
             [
              0,
              "#0d0887"
             ],
             [
              0.1111111111111111,
              "#46039f"
             ],
             [
              0.2222222222222222,
              "#7201a8"
             ],
             [
              0.3333333333333333,
              "#9c179e"
             ],
             [
              0.4444444444444444,
              "#bd3786"
             ],
             [
              0.5555555555555556,
              "#d8576b"
             ],
             [
              0.6666666666666666,
              "#ed7953"
             ],
             [
              0.7777777777777778,
              "#fb9f3a"
             ],
             [
              0.8888888888888888,
              "#fdca26"
             ],
             [
              1,
              "#f0f921"
             ]
            ],
            "type": "histogram2d"
           }
          ],
          "histogram2dcontour": [
           {
            "colorbar": {
             "outlinewidth": 0,
             "ticks": ""
            },
            "colorscale": [
             [
              0,
              "#0d0887"
             ],
             [
              0.1111111111111111,
              "#46039f"
             ],
             [
              0.2222222222222222,
              "#7201a8"
             ],
             [
              0.3333333333333333,
              "#9c179e"
             ],
             [
              0.4444444444444444,
              "#bd3786"
             ],
             [
              0.5555555555555556,
              "#d8576b"
             ],
             [
              0.6666666666666666,
              "#ed7953"
             ],
             [
              0.7777777777777778,
              "#fb9f3a"
             ],
             [
              0.8888888888888888,
              "#fdca26"
             ],
             [
              1,
              "#f0f921"
             ]
            ],
            "type": "histogram2dcontour"
           }
          ],
          "mesh3d": [
           {
            "colorbar": {
             "outlinewidth": 0,
             "ticks": ""
            },
            "type": "mesh3d"
           }
          ],
          "parcoords": [
           {
            "line": {
             "colorbar": {
              "outlinewidth": 0,
              "ticks": ""
             }
            },
            "type": "parcoords"
           }
          ],
          "pie": [
           {
            "automargin": true,
            "type": "pie"
           }
          ],
          "scatter": [
           {
            "marker": {
             "colorbar": {
              "outlinewidth": 0,
              "ticks": ""
             }
            },
            "type": "scatter"
           }
          ],
          "scatter3d": [
           {
            "line": {
             "colorbar": {
              "outlinewidth": 0,
              "ticks": ""
             }
            },
            "marker": {
             "colorbar": {
              "outlinewidth": 0,
              "ticks": ""
             }
            },
            "type": "scatter3d"
           }
          ],
          "scattercarpet": [
           {
            "marker": {
             "colorbar": {
              "outlinewidth": 0,
              "ticks": ""
             }
            },
            "type": "scattercarpet"
           }
          ],
          "scattergeo": [
           {
            "marker": {
             "colorbar": {
              "outlinewidth": 0,
              "ticks": ""
             }
            },
            "type": "scattergeo"
           }
          ],
          "scattergl": [
           {
            "marker": {
             "colorbar": {
              "outlinewidth": 0,
              "ticks": ""
             }
            },
            "type": "scattergl"
           }
          ],
          "scattermapbox": [
           {
            "marker": {
             "colorbar": {
              "outlinewidth": 0,
              "ticks": ""
             }
            },
            "type": "scattermapbox"
           }
          ],
          "scatterpolar": [
           {
            "marker": {
             "colorbar": {
              "outlinewidth": 0,
              "ticks": ""
             }
            },
            "type": "scatterpolar"
           }
          ],
          "scatterpolargl": [
           {
            "marker": {
             "colorbar": {
              "outlinewidth": 0,
              "ticks": ""
             }
            },
            "type": "scatterpolargl"
           }
          ],
          "scatterternary": [
           {
            "marker": {
             "colorbar": {
              "outlinewidth": 0,
              "ticks": ""
             }
            },
            "type": "scatterternary"
           }
          ],
          "surface": [
           {
            "colorbar": {
             "outlinewidth": 0,
             "ticks": ""
            },
            "colorscale": [
             [
              0,
              "#0d0887"
             ],
             [
              0.1111111111111111,
              "#46039f"
             ],
             [
              0.2222222222222222,
              "#7201a8"
             ],
             [
              0.3333333333333333,
              "#9c179e"
             ],
             [
              0.4444444444444444,
              "#bd3786"
             ],
             [
              0.5555555555555556,
              "#d8576b"
             ],
             [
              0.6666666666666666,
              "#ed7953"
             ],
             [
              0.7777777777777778,
              "#fb9f3a"
             ],
             [
              0.8888888888888888,
              "#fdca26"
             ],
             [
              1,
              "#f0f921"
             ]
            ],
            "type": "surface"
           }
          ],
          "table": [
           {
            "cells": {
             "fill": {
              "color": "#EBF0F8"
             },
             "line": {
              "color": "white"
             }
            },
            "header": {
             "fill": {
              "color": "#C8D4E3"
             },
             "line": {
              "color": "white"
             }
            },
            "type": "table"
           }
          ]
         },
         "layout": {
          "annotationdefaults": {
           "arrowcolor": "#2a3f5f",
           "arrowhead": 0,
           "arrowwidth": 1
          },
          "autotypenumbers": "strict",
          "coloraxis": {
           "colorbar": {
            "outlinewidth": 0,
            "ticks": ""
           }
          },
          "colorscale": {
           "diverging": [
            [
             0,
             "#8e0152"
            ],
            [
             0.1,
             "#c51b7d"
            ],
            [
             0.2,
             "#de77ae"
            ],
            [
             0.3,
             "#f1b6da"
            ],
            [
             0.4,
             "#fde0ef"
            ],
            [
             0.5,
             "#f7f7f7"
            ],
            [
             0.6,
             "#e6f5d0"
            ],
            [
             0.7,
             "#b8e186"
            ],
            [
             0.8,
             "#7fbc41"
            ],
            [
             0.9,
             "#4d9221"
            ],
            [
             1,
             "#276419"
            ]
           ],
           "sequential": [
            [
             0,
             "#0d0887"
            ],
            [
             0.1111111111111111,
             "#46039f"
            ],
            [
             0.2222222222222222,
             "#7201a8"
            ],
            [
             0.3333333333333333,
             "#9c179e"
            ],
            [
             0.4444444444444444,
             "#bd3786"
            ],
            [
             0.5555555555555556,
             "#d8576b"
            ],
            [
             0.6666666666666666,
             "#ed7953"
            ],
            [
             0.7777777777777778,
             "#fb9f3a"
            ],
            [
             0.8888888888888888,
             "#fdca26"
            ],
            [
             1,
             "#f0f921"
            ]
           ],
           "sequentialminus": [
            [
             0,
             "#0d0887"
            ],
            [
             0.1111111111111111,
             "#46039f"
            ],
            [
             0.2222222222222222,
             "#7201a8"
            ],
            [
             0.3333333333333333,
             "#9c179e"
            ],
            [
             0.4444444444444444,
             "#bd3786"
            ],
            [
             0.5555555555555556,
             "#d8576b"
            ],
            [
             0.6666666666666666,
             "#ed7953"
            ],
            [
             0.7777777777777778,
             "#fb9f3a"
            ],
            [
             0.8888888888888888,
             "#fdca26"
            ],
            [
             1,
             "#f0f921"
            ]
           ]
          },
          "colorway": [
           "#636efa",
           "#EF553B",
           "#00cc96",
           "#ab63fa",
           "#FFA15A",
           "#19d3f3",
           "#FF6692",
           "#B6E880",
           "#FF97FF",
           "#FECB52"
          ],
          "font": {
           "color": "#2a3f5f"
          },
          "geo": {
           "bgcolor": "white",
           "lakecolor": "white",
           "landcolor": "#E5ECF6",
           "showlakes": true,
           "showland": true,
           "subunitcolor": "white"
          },
          "hoverlabel": {
           "align": "left"
          },
          "hovermode": "closest",
          "mapbox": {
           "style": "light"
          },
          "paper_bgcolor": "white",
          "plot_bgcolor": "#E5ECF6",
          "polar": {
           "angularaxis": {
            "gridcolor": "white",
            "linecolor": "white",
            "ticks": ""
           },
           "bgcolor": "#E5ECF6",
           "radialaxis": {
            "gridcolor": "white",
            "linecolor": "white",
            "ticks": ""
           }
          },
          "scene": {
           "xaxis": {
            "backgroundcolor": "#E5ECF6",
            "gridcolor": "white",
            "gridwidth": 2,
            "linecolor": "white",
            "showbackground": true,
            "ticks": "",
            "zerolinecolor": "white"
           },
           "yaxis": {
            "backgroundcolor": "#E5ECF6",
            "gridcolor": "white",
            "gridwidth": 2,
            "linecolor": "white",
            "showbackground": true,
            "ticks": "",
            "zerolinecolor": "white"
           },
           "zaxis": {
            "backgroundcolor": "#E5ECF6",
            "gridcolor": "white",
            "gridwidth": 2,
            "linecolor": "white",
            "showbackground": true,
            "ticks": "",
            "zerolinecolor": "white"
           }
          },
          "shapedefaults": {
           "line": {
            "color": "#2a3f5f"
           }
          },
          "ternary": {
           "aaxis": {
            "gridcolor": "white",
            "linecolor": "white",
            "ticks": ""
           },
           "baxis": {
            "gridcolor": "white",
            "linecolor": "white",
            "ticks": ""
           },
           "bgcolor": "#E5ECF6",
           "caxis": {
            "gridcolor": "white",
            "linecolor": "white",
            "ticks": ""
           }
          },
          "title": {
           "x": 0.05
          },
          "xaxis": {
           "automargin": true,
           "gridcolor": "white",
           "linecolor": "white",
           "ticks": "",
           "title": {
            "standoff": 15
           },
           "zerolinecolor": "white",
           "zerolinewidth": 2
          },
          "yaxis": {
           "automargin": true,
           "gridcolor": "white",
           "linecolor": "white",
           "ticks": "",
           "title": {
            "standoff": 15
           },
           "zerolinecolor": "white",
           "zerolinewidth": 2
          }
         }
        },
        "title": {
         "text": "Total Jumlah Customer Member/Non member"
        },
        "xaxis": {
         "anchor": "y",
         "domain": [
          0,
          1
         ],
         "title": {
          "text": "Customer type"
         }
        },
        "yaxis": {
         "anchor": "x",
         "domain": [
          0,
          1
         ],
         "title": {
          "text": "count"
         }
        }
       }
      }
     },
     "metadata": {},
     "output_type": "display_data"
    }
   ],
   "source": [
    "#Visualisasi data\n",
    "\n",
    "fig = px.histogram(df,x= 'Customer type',color='Gender',barmode='group',\n",
    "                   title='Total Jumlah Customer Member/Non member')\n",
    "fig"
   ]
  },
  {
   "cell_type": "code",
   "execution_count": 6,
   "metadata": {},
   "outputs": [
    {
     "data": {
      "application/vnd.plotly.v1+json": {
       "config": {
        "plotlyServerURL": "https://plot.ly"
       },
       "data": [
        {
         "alignmentgroup": "True",
         "bingroup": "x",
         "hovertemplate": "Gender=Female<br>City=%{x}<br>count=%{y}<extra></extra>",
         "legendgroup": "Female",
         "marker": {
          "color": "#636efa",
          "pattern": {
           "shape": ""
          }
         },
         "name": "Female",
         "offsetgroup": "Female",
         "orientation": "v",
         "showlegend": true,
         "type": "histogram",
         "x": [
          "Yangon",
          "Naypyitaw",
          "Yangon",
          "Naypyitaw",
          "Yangon",
          "Mandalay",
          "Mandalay",
          "Yangon",
          "Yangon",
          "Mandalay",
          "Yangon",
          "Mandalay",
          "Yangon",
          "Yangon",
          "Mandalay",
          "Naypyitaw",
          "Naypyitaw",
          "Yangon",
          "Naypyitaw",
          "Mandalay",
          "Mandalay",
          "Naypyitaw",
          "Mandalay",
          "Mandalay",
          "Naypyitaw",
          "Yangon",
          "Mandalay",
          "Naypyitaw",
          "Yangon",
          "Naypyitaw",
          "Mandalay",
          "Naypyitaw",
          "Mandalay",
          "Yangon",
          "Mandalay",
          "Naypyitaw",
          "Naypyitaw",
          "Yangon",
          "Naypyitaw",
          "Naypyitaw",
          "Naypyitaw",
          "Mandalay",
          "Naypyitaw",
          "Naypyitaw",
          "Mandalay",
          "Naypyitaw",
          "Naypyitaw",
          "Yangon",
          "Naypyitaw",
          "Naypyitaw",
          "Naypyitaw",
          "Mandalay",
          "Naypyitaw",
          "Mandalay",
          "Naypyitaw",
          "Naypyitaw",
          "Yangon",
          "Yangon",
          "Mandalay",
          "Yangon",
          "Yangon",
          "Naypyitaw",
          "Naypyitaw",
          "Mandalay",
          "Mandalay",
          "Yangon",
          "Mandalay",
          "Naypyitaw",
          "Yangon",
          "Yangon",
          "Naypyitaw",
          "Naypyitaw",
          "Naypyitaw",
          "Yangon",
          "Naypyitaw",
          "Yangon",
          "Mandalay",
          "Naypyitaw",
          "Naypyitaw",
          "Naypyitaw",
          "Naypyitaw",
          "Yangon",
          "Mandalay",
          "Naypyitaw",
          "Mandalay",
          "Mandalay",
          "Naypyitaw",
          "Naypyitaw",
          "Yangon",
          "Naypyitaw",
          "Naypyitaw",
          "Mandalay",
          "Yangon",
          "Naypyitaw",
          "Naypyitaw",
          "Mandalay",
          "Mandalay",
          "Naypyitaw",
          "Mandalay",
          "Mandalay",
          "Yangon",
          "Mandalay",
          "Naypyitaw",
          "Naypyitaw",
          "Mandalay",
          "Yangon",
          "Mandalay",
          "Mandalay",
          "Mandalay",
          "Yangon",
          "Naypyitaw",
          "Mandalay",
          "Mandalay",
          "Naypyitaw",
          "Yangon",
          "Naypyitaw",
          "Mandalay",
          "Yangon",
          "Yangon",
          "Mandalay",
          "Yangon",
          "Mandalay",
          "Naypyitaw",
          "Yangon",
          "Yangon",
          "Mandalay",
          "Naypyitaw",
          "Naypyitaw",
          "Yangon",
          "Yangon",
          "Yangon",
          "Naypyitaw",
          "Mandalay",
          "Yangon",
          "Yangon",
          "Yangon",
          "Naypyitaw",
          "Naypyitaw",
          "Yangon",
          "Mandalay",
          "Yangon",
          "Yangon",
          "Yangon",
          "Yangon",
          "Yangon",
          "Yangon",
          "Naypyitaw",
          "Naypyitaw",
          "Naypyitaw",
          "Naypyitaw",
          "Naypyitaw",
          "Yangon",
          "Yangon",
          "Mandalay",
          "Naypyitaw",
          "Mandalay",
          "Mandalay",
          "Mandalay",
          "Naypyitaw",
          "Yangon",
          "Naypyitaw",
          "Mandalay",
          "Naypyitaw",
          "Mandalay",
          "Naypyitaw",
          "Mandalay",
          "Naypyitaw",
          "Naypyitaw",
          "Naypyitaw",
          "Naypyitaw",
          "Naypyitaw",
          "Naypyitaw",
          "Naypyitaw",
          "Mandalay",
          "Mandalay",
          "Naypyitaw",
          "Yangon",
          "Yangon",
          "Mandalay",
          "Mandalay",
          "Naypyitaw",
          "Mandalay",
          "Naypyitaw",
          "Yangon",
          "Yangon",
          "Naypyitaw",
          "Naypyitaw",
          "Mandalay",
          "Yangon",
          "Yangon",
          "Yangon",
          "Yangon",
          "Mandalay",
          "Naypyitaw",
          "Mandalay",
          "Naypyitaw",
          "Mandalay",
          "Yangon",
          "Naypyitaw",
          "Mandalay",
          "Naypyitaw",
          "Naypyitaw",
          "Mandalay",
          "Yangon",
          "Naypyitaw",
          "Naypyitaw",
          "Naypyitaw",
          "Mandalay",
          "Yangon",
          "Yangon",
          "Mandalay",
          "Naypyitaw",
          "Mandalay",
          "Yangon",
          "Yangon",
          "Mandalay",
          "Mandalay",
          "Mandalay",
          "Mandalay",
          "Yangon",
          "Mandalay",
          "Mandalay",
          "Naypyitaw",
          "Mandalay",
          "Naypyitaw",
          "Naypyitaw",
          "Naypyitaw",
          "Naypyitaw",
          "Naypyitaw",
          "Naypyitaw",
          "Yangon",
          "Yangon",
          "Yangon",
          "Naypyitaw",
          "Naypyitaw",
          "Mandalay",
          "Mandalay",
          "Mandalay",
          "Mandalay",
          "Yangon",
          "Mandalay",
          "Naypyitaw",
          "Naypyitaw",
          "Naypyitaw",
          "Mandalay",
          "Yangon",
          "Naypyitaw",
          "Mandalay",
          "Mandalay",
          "Mandalay",
          "Naypyitaw",
          "Mandalay",
          "Yangon",
          "Yangon",
          "Naypyitaw",
          "Mandalay",
          "Naypyitaw",
          "Yangon",
          "Yangon",
          "Mandalay",
          "Naypyitaw",
          "Yangon",
          "Mandalay",
          "Yangon",
          "Naypyitaw",
          "Mandalay",
          "Mandalay",
          "Yangon",
          "Mandalay",
          "Yangon",
          "Mandalay",
          "Mandalay",
          "Mandalay",
          "Naypyitaw",
          "Yangon",
          "Mandalay",
          "Yangon",
          "Naypyitaw",
          "Yangon",
          "Mandalay",
          "Naypyitaw",
          "Mandalay",
          "Yangon",
          "Yangon",
          "Naypyitaw",
          "Mandalay",
          "Yangon",
          "Yangon",
          "Naypyitaw",
          "Yangon",
          "Yangon",
          "Naypyitaw",
          "Naypyitaw",
          "Yangon",
          "Naypyitaw",
          "Mandalay",
          "Naypyitaw",
          "Yangon",
          "Naypyitaw",
          "Yangon",
          "Naypyitaw",
          "Yangon",
          "Naypyitaw",
          "Yangon",
          "Yangon",
          "Mandalay",
          "Mandalay",
          "Mandalay",
          "Yangon",
          "Naypyitaw",
          "Mandalay",
          "Mandalay",
          "Naypyitaw",
          "Naypyitaw",
          "Naypyitaw",
          "Mandalay",
          "Yangon",
          "Naypyitaw",
          "Yangon",
          "Yangon",
          "Mandalay",
          "Mandalay",
          "Naypyitaw",
          "Naypyitaw",
          "Yangon",
          "Mandalay",
          "Naypyitaw",
          "Mandalay",
          "Mandalay",
          "Yangon",
          "Mandalay",
          "Yangon",
          "Mandalay",
          "Mandalay",
          "Naypyitaw",
          "Mandalay",
          "Mandalay",
          "Mandalay",
          "Yangon",
          "Naypyitaw",
          "Naypyitaw",
          "Naypyitaw",
          "Yangon",
          "Yangon",
          "Naypyitaw",
          "Mandalay",
          "Mandalay",
          "Mandalay",
          "Naypyitaw",
          "Naypyitaw",
          "Naypyitaw",
          "Yangon",
          "Yangon",
          "Mandalay",
          "Mandalay",
          "Naypyitaw",
          "Naypyitaw",
          "Naypyitaw",
          "Mandalay",
          "Yangon",
          "Naypyitaw",
          "Yangon",
          "Naypyitaw",
          "Naypyitaw",
          "Naypyitaw",
          "Mandalay",
          "Mandalay",
          "Yangon",
          "Yangon",
          "Naypyitaw",
          "Yangon",
          "Mandalay",
          "Yangon",
          "Yangon",
          "Mandalay",
          "Yangon",
          "Yangon",
          "Mandalay",
          "Naypyitaw",
          "Mandalay",
          "Yangon",
          "Mandalay",
          "Naypyitaw",
          "Naypyitaw",
          "Naypyitaw",
          "Mandalay",
          "Yangon",
          "Yangon",
          "Naypyitaw",
          "Naypyitaw",
          "Naypyitaw",
          "Mandalay",
          "Yangon",
          "Naypyitaw",
          "Yangon",
          "Naypyitaw",
          "Yangon",
          "Mandalay",
          "Yangon",
          "Yangon",
          "Yangon",
          "Mandalay",
          "Naypyitaw",
          "Yangon",
          "Naypyitaw",
          "Yangon",
          "Mandalay",
          "Naypyitaw",
          "Yangon",
          "Yangon",
          "Mandalay",
          "Yangon",
          "Mandalay",
          "Yangon",
          "Mandalay",
          "Mandalay",
          "Naypyitaw",
          "Yangon",
          "Naypyitaw",
          "Naypyitaw",
          "Naypyitaw",
          "Yangon",
          "Yangon",
          "Mandalay",
          "Yangon",
          "Mandalay",
          "Yangon",
          "Yangon",
          "Naypyitaw",
          "Mandalay",
          "Mandalay",
          "Yangon",
          "Naypyitaw",
          "Mandalay",
          "Yangon",
          "Mandalay",
          "Mandalay",
          "Naypyitaw",
          "Yangon",
          "Yangon",
          "Yangon",
          "Naypyitaw",
          "Naypyitaw",
          "Mandalay",
          "Naypyitaw",
          "Naypyitaw",
          "Naypyitaw",
          "Yangon",
          "Naypyitaw",
          "Naypyitaw",
          "Mandalay",
          "Yangon",
          "Mandalay",
          "Mandalay",
          "Naypyitaw",
          "Yangon",
          "Yangon",
          "Naypyitaw",
          "Yangon",
          "Mandalay",
          "Naypyitaw",
          "Mandalay",
          "Naypyitaw",
          "Naypyitaw",
          "Naypyitaw",
          "Mandalay",
          "Yangon",
          "Mandalay",
          "Naypyitaw",
          "Yangon",
          "Mandalay",
          "Naypyitaw",
          "Yangon",
          "Yangon",
          "Naypyitaw",
          "Yangon",
          "Yangon",
          "Mandalay",
          "Mandalay",
          "Mandalay",
          "Naypyitaw",
          "Yangon",
          "Naypyitaw",
          "Yangon",
          "Yangon",
          "Mandalay",
          "Yangon",
          "Yangon",
          "Mandalay",
          "Mandalay",
          "Yangon",
          "Mandalay",
          "Mandalay",
          "Yangon",
          "Mandalay",
          "Mandalay",
          "Yangon",
          "Mandalay",
          "Naypyitaw",
          "Mandalay",
          "Yangon"
         ],
         "xaxis": "x",
         "yaxis": "y"
        },
        {
         "alignmentgroup": "True",
         "bingroup": "x",
         "hovertemplate": "Gender=Male<br>City=%{x}<br>count=%{y}<extra></extra>",
         "legendgroup": "Male",
         "marker": {
          "color": "#EF553B",
          "pattern": {
           "shape": ""
          }
         },
         "name": "Male",
         "offsetgroup": "Male",
         "orientation": "v",
         "showlegend": true,
         "type": "histogram",
         "x": [
          "Yangon",
          "Yangon",
          "Yangon",
          "Naypyitaw",
          "Mandalay",
          "Yangon",
          "Yangon",
          "Yangon",
          "Naypyitaw",
          "Mandalay",
          "Mandalay",
          "Yangon",
          "Yangon",
          "Mandalay",
          "Yangon",
          "Mandalay",
          "Mandalay",
          "Mandalay",
          "Yangon",
          "Yangon",
          "Mandalay",
          "Naypyitaw",
          "Naypyitaw",
          "Mandalay",
          "Mandalay",
          "Naypyitaw",
          "Naypyitaw",
          "Mandalay",
          "Yangon",
          "Yangon",
          "Naypyitaw",
          "Naypyitaw",
          "Yangon",
          "Mandalay",
          "Yangon",
          "Yangon",
          "Naypyitaw",
          "Naypyitaw",
          "Yangon",
          "Naypyitaw",
          "Naypyitaw",
          "Naypyitaw",
          "Naypyitaw",
          "Yangon",
          "Yangon",
          "Mandalay",
          "Naypyitaw",
          "Yangon",
          "Mandalay",
          "Yangon",
          "Mandalay",
          "Naypyitaw",
          "Naypyitaw",
          "Yangon",
          "Mandalay",
          "Yangon",
          "Naypyitaw",
          "Yangon",
          "Naypyitaw",
          "Yangon",
          "Mandalay",
          "Mandalay",
          "Mandalay",
          "Naypyitaw",
          "Mandalay",
          "Naypyitaw",
          "Mandalay",
          "Naypyitaw",
          "Mandalay",
          "Yangon",
          "Naypyitaw",
          "Naypyitaw",
          "Mandalay",
          "Yangon",
          "Naypyitaw",
          "Yangon",
          "Yangon",
          "Mandalay",
          "Mandalay",
          "Mandalay",
          "Mandalay",
          "Yangon",
          "Yangon",
          "Naypyitaw",
          "Mandalay",
          "Mandalay",
          "Naypyitaw",
          "Yangon",
          "Yangon",
          "Yangon",
          "Yangon",
          "Mandalay",
          "Naypyitaw",
          "Mandalay",
          "Mandalay",
          "Yangon",
          "Yangon",
          "Yangon",
          "Naypyitaw",
          "Naypyitaw",
          "Naypyitaw",
          "Yangon",
          "Naypyitaw",
          "Mandalay",
          "Mandalay",
          "Yangon",
          "Mandalay",
          "Yangon",
          "Naypyitaw",
          "Naypyitaw",
          "Naypyitaw",
          "Mandalay",
          "Mandalay",
          "Yangon",
          "Mandalay",
          "Mandalay",
          "Yangon",
          "Mandalay",
          "Mandalay",
          "Mandalay",
          "Naypyitaw",
          "Yangon",
          "Mandalay",
          "Naypyitaw",
          "Mandalay",
          "Yangon",
          "Naypyitaw",
          "Yangon",
          "Yangon",
          "Yangon",
          "Naypyitaw",
          "Yangon",
          "Mandalay",
          "Yangon",
          "Yangon",
          "Yangon",
          "Mandalay",
          "Mandalay",
          "Naypyitaw",
          "Yangon",
          "Yangon",
          "Mandalay",
          "Yangon",
          "Yangon",
          "Yangon",
          "Naypyitaw",
          "Mandalay",
          "Naypyitaw",
          "Yangon",
          "Mandalay",
          "Naypyitaw",
          "Yangon",
          "Naypyitaw",
          "Yangon",
          "Mandalay",
          "Naypyitaw",
          "Mandalay",
          "Naypyitaw",
          "Mandalay",
          "Naypyitaw",
          "Yangon",
          "Yangon",
          "Naypyitaw",
          "Mandalay",
          "Naypyitaw",
          "Yangon",
          "Mandalay",
          "Naypyitaw",
          "Naypyitaw",
          "Naypyitaw",
          "Naypyitaw",
          "Yangon",
          "Yangon",
          "Mandalay",
          "Yangon",
          "Naypyitaw",
          "Mandalay",
          "Yangon",
          "Mandalay",
          "Yangon",
          "Yangon",
          "Yangon",
          "Naypyitaw",
          "Yangon",
          "Mandalay",
          "Yangon",
          "Yangon",
          "Yangon",
          "Yangon",
          "Mandalay",
          "Mandalay",
          "Mandalay",
          "Yangon",
          "Naypyitaw",
          "Yangon",
          "Yangon",
          "Yangon",
          "Naypyitaw",
          "Naypyitaw",
          "Naypyitaw",
          "Yangon",
          "Mandalay",
          "Naypyitaw",
          "Mandalay",
          "Yangon",
          "Mandalay",
          "Mandalay",
          "Naypyitaw",
          "Naypyitaw",
          "Yangon",
          "Yangon",
          "Mandalay",
          "Yangon",
          "Yangon",
          "Yangon",
          "Mandalay",
          "Mandalay",
          "Naypyitaw",
          "Mandalay",
          "Yangon",
          "Mandalay",
          "Mandalay",
          "Naypyitaw",
          "Mandalay",
          "Naypyitaw",
          "Naypyitaw",
          "Yangon",
          "Naypyitaw",
          "Naypyitaw",
          "Naypyitaw",
          "Naypyitaw",
          "Naypyitaw",
          "Mandalay",
          "Yangon",
          "Yangon",
          "Mandalay",
          "Naypyitaw",
          "Naypyitaw",
          "Yangon",
          "Mandalay",
          "Naypyitaw",
          "Yangon",
          "Mandalay",
          "Yangon",
          "Naypyitaw",
          "Mandalay",
          "Yangon",
          "Naypyitaw",
          "Yangon",
          "Mandalay",
          "Yangon",
          "Naypyitaw",
          "Mandalay",
          "Mandalay",
          "Mandalay",
          "Naypyitaw",
          "Mandalay",
          "Yangon",
          "Mandalay",
          "Yangon",
          "Naypyitaw",
          "Mandalay",
          "Naypyitaw",
          "Yangon",
          "Naypyitaw",
          "Naypyitaw",
          "Yangon",
          "Mandalay",
          "Mandalay",
          "Yangon",
          "Yangon",
          "Yangon",
          "Mandalay",
          "Naypyitaw",
          "Yangon",
          "Yangon",
          "Naypyitaw",
          "Naypyitaw",
          "Mandalay",
          "Yangon",
          "Mandalay",
          "Naypyitaw",
          "Yangon",
          "Mandalay",
          "Yangon",
          "Mandalay",
          "Naypyitaw",
          "Yangon",
          "Mandalay",
          "Mandalay",
          "Yangon",
          "Mandalay",
          "Yangon",
          "Mandalay",
          "Mandalay",
          "Naypyitaw",
          "Mandalay",
          "Naypyitaw",
          "Mandalay",
          "Yangon",
          "Naypyitaw",
          "Yangon",
          "Naypyitaw",
          "Mandalay",
          "Mandalay",
          "Yangon",
          "Naypyitaw",
          "Naypyitaw",
          "Mandalay",
          "Yangon",
          "Mandalay",
          "Mandalay",
          "Naypyitaw",
          "Yangon",
          "Mandalay",
          "Naypyitaw",
          "Yangon",
          "Mandalay",
          "Yangon",
          "Mandalay",
          "Yangon",
          "Yangon",
          "Yangon",
          "Yangon",
          "Mandalay",
          "Mandalay",
          "Mandalay",
          "Yangon",
          "Mandalay",
          "Mandalay",
          "Naypyitaw",
          "Yangon",
          "Naypyitaw",
          "Mandalay",
          "Naypyitaw",
          "Mandalay",
          "Yangon",
          "Mandalay",
          "Mandalay",
          "Yangon",
          "Naypyitaw",
          "Mandalay",
          "Yangon",
          "Mandalay",
          "Naypyitaw",
          "Mandalay",
          "Naypyitaw",
          "Yangon",
          "Yangon",
          "Yangon",
          "Naypyitaw",
          "Naypyitaw",
          "Yangon",
          "Mandalay",
          "Yangon",
          "Naypyitaw",
          "Mandalay",
          "Mandalay",
          "Mandalay",
          "Naypyitaw",
          "Naypyitaw",
          "Yangon",
          "Yangon",
          "Naypyitaw",
          "Yangon",
          "Yangon",
          "Mandalay",
          "Mandalay",
          "Naypyitaw",
          "Mandalay",
          "Naypyitaw",
          "Yangon",
          "Yangon",
          "Mandalay",
          "Mandalay",
          "Naypyitaw",
          "Naypyitaw",
          "Mandalay",
          "Yangon",
          "Naypyitaw",
          "Naypyitaw",
          "Yangon",
          "Mandalay",
          "Naypyitaw",
          "Mandalay",
          "Yangon",
          "Mandalay",
          "Yangon",
          "Mandalay",
          "Naypyitaw",
          "Naypyitaw",
          "Mandalay",
          "Naypyitaw",
          "Mandalay",
          "Naypyitaw",
          "Yangon",
          "Naypyitaw",
          "Naypyitaw",
          "Yangon",
          "Yangon",
          "Naypyitaw",
          "Yangon",
          "Mandalay",
          "Mandalay",
          "Naypyitaw",
          "Mandalay",
          "Naypyitaw",
          "Mandalay",
          "Yangon",
          "Yangon",
          "Mandalay",
          "Mandalay",
          "Mandalay",
          "Naypyitaw",
          "Yangon",
          "Naypyitaw",
          "Yangon",
          "Mandalay",
          "Yangon",
          "Yangon",
          "Yangon",
          "Mandalay",
          "Naypyitaw",
          "Yangon",
          "Mandalay",
          "Yangon",
          "Yangon",
          "Yangon",
          "Yangon",
          "Naypyitaw",
          "Mandalay",
          "Mandalay",
          "Yangon",
          "Naypyitaw",
          "Mandalay",
          "Naypyitaw",
          "Yangon",
          "Yangon",
          "Naypyitaw",
          "Yangon",
          "Yangon",
          "Naypyitaw",
          "Naypyitaw",
          "Mandalay",
          "Mandalay",
          "Yangon",
          "Yangon",
          "Yangon",
          "Mandalay",
          "Mandalay",
          "Mandalay",
          "Naypyitaw",
          "Naypyitaw",
          "Yangon",
          "Mandalay",
          "Yangon",
          "Naypyitaw",
          "Yangon",
          "Naypyitaw",
          "Mandalay",
          "Mandalay",
          "Mandalay",
          "Mandalay",
          "Naypyitaw",
          "Naypyitaw",
          "Yangon",
          "Naypyitaw",
          "Yangon",
          "Yangon",
          "Naypyitaw",
          "Mandalay",
          "Naypyitaw",
          "Mandalay",
          "Mandalay",
          "Naypyitaw",
          "Mandalay",
          "Naypyitaw",
          "Yangon",
          "Naypyitaw",
          "Mandalay",
          "Yangon",
          "Mandalay",
          "Mandalay",
          "Yangon",
          "Naypyitaw",
          "Mandalay",
          "Mandalay",
          "Naypyitaw",
          "Yangon",
          "Naypyitaw",
          "Naypyitaw",
          "Mandalay",
          "Naypyitaw",
          "Mandalay",
          "Yangon",
          "Mandalay",
          "Naypyitaw",
          "Yangon",
          "Yangon"
         ],
         "xaxis": "x",
         "yaxis": "y"
        }
       ],
       "layout": {
        "barmode": "group",
        "legend": {
         "title": {
          "text": "Gender"
         },
         "tracegroupgap": 0
        },
        "template": {
         "data": {
          "bar": [
           {
            "error_x": {
             "color": "#2a3f5f"
            },
            "error_y": {
             "color": "#2a3f5f"
            },
            "marker": {
             "line": {
              "color": "#E5ECF6",
              "width": 0.5
             },
             "pattern": {
              "fillmode": "overlay",
              "size": 10,
              "solidity": 0.2
             }
            },
            "type": "bar"
           }
          ],
          "barpolar": [
           {
            "marker": {
             "line": {
              "color": "#E5ECF6",
              "width": 0.5
             },
             "pattern": {
              "fillmode": "overlay",
              "size": 10,
              "solidity": 0.2
             }
            },
            "type": "barpolar"
           }
          ],
          "carpet": [
           {
            "aaxis": {
             "endlinecolor": "#2a3f5f",
             "gridcolor": "white",
             "linecolor": "white",
             "minorgridcolor": "white",
             "startlinecolor": "#2a3f5f"
            },
            "baxis": {
             "endlinecolor": "#2a3f5f",
             "gridcolor": "white",
             "linecolor": "white",
             "minorgridcolor": "white",
             "startlinecolor": "#2a3f5f"
            },
            "type": "carpet"
           }
          ],
          "choropleth": [
           {
            "colorbar": {
             "outlinewidth": 0,
             "ticks": ""
            },
            "type": "choropleth"
           }
          ],
          "contour": [
           {
            "colorbar": {
             "outlinewidth": 0,
             "ticks": ""
            },
            "colorscale": [
             [
              0,
              "#0d0887"
             ],
             [
              0.1111111111111111,
              "#46039f"
             ],
             [
              0.2222222222222222,
              "#7201a8"
             ],
             [
              0.3333333333333333,
              "#9c179e"
             ],
             [
              0.4444444444444444,
              "#bd3786"
             ],
             [
              0.5555555555555556,
              "#d8576b"
             ],
             [
              0.6666666666666666,
              "#ed7953"
             ],
             [
              0.7777777777777778,
              "#fb9f3a"
             ],
             [
              0.8888888888888888,
              "#fdca26"
             ],
             [
              1,
              "#f0f921"
             ]
            ],
            "type": "contour"
           }
          ],
          "contourcarpet": [
           {
            "colorbar": {
             "outlinewidth": 0,
             "ticks": ""
            },
            "type": "contourcarpet"
           }
          ],
          "heatmap": [
           {
            "colorbar": {
             "outlinewidth": 0,
             "ticks": ""
            },
            "colorscale": [
             [
              0,
              "#0d0887"
             ],
             [
              0.1111111111111111,
              "#46039f"
             ],
             [
              0.2222222222222222,
              "#7201a8"
             ],
             [
              0.3333333333333333,
              "#9c179e"
             ],
             [
              0.4444444444444444,
              "#bd3786"
             ],
             [
              0.5555555555555556,
              "#d8576b"
             ],
             [
              0.6666666666666666,
              "#ed7953"
             ],
             [
              0.7777777777777778,
              "#fb9f3a"
             ],
             [
              0.8888888888888888,
              "#fdca26"
             ],
             [
              1,
              "#f0f921"
             ]
            ],
            "type": "heatmap"
           }
          ],
          "heatmapgl": [
           {
            "colorbar": {
             "outlinewidth": 0,
             "ticks": ""
            },
            "colorscale": [
             [
              0,
              "#0d0887"
             ],
             [
              0.1111111111111111,
              "#46039f"
             ],
             [
              0.2222222222222222,
              "#7201a8"
             ],
             [
              0.3333333333333333,
              "#9c179e"
             ],
             [
              0.4444444444444444,
              "#bd3786"
             ],
             [
              0.5555555555555556,
              "#d8576b"
             ],
             [
              0.6666666666666666,
              "#ed7953"
             ],
             [
              0.7777777777777778,
              "#fb9f3a"
             ],
             [
              0.8888888888888888,
              "#fdca26"
             ],
             [
              1,
              "#f0f921"
             ]
            ],
            "type": "heatmapgl"
           }
          ],
          "histogram": [
           {
            "marker": {
             "pattern": {
              "fillmode": "overlay",
              "size": 10,
              "solidity": 0.2
             }
            },
            "type": "histogram"
           }
          ],
          "histogram2d": [
           {
            "colorbar": {
             "outlinewidth": 0,
             "ticks": ""
            },
            "colorscale": [
             [
              0,
              "#0d0887"
             ],
             [
              0.1111111111111111,
              "#46039f"
             ],
             [
              0.2222222222222222,
              "#7201a8"
             ],
             [
              0.3333333333333333,
              "#9c179e"
             ],
             [
              0.4444444444444444,
              "#bd3786"
             ],
             [
              0.5555555555555556,
              "#d8576b"
             ],
             [
              0.6666666666666666,
              "#ed7953"
             ],
             [
              0.7777777777777778,
              "#fb9f3a"
             ],
             [
              0.8888888888888888,
              "#fdca26"
             ],
             [
              1,
              "#f0f921"
             ]
            ],
            "type": "histogram2d"
           }
          ],
          "histogram2dcontour": [
           {
            "colorbar": {
             "outlinewidth": 0,
             "ticks": ""
            },
            "colorscale": [
             [
              0,
              "#0d0887"
             ],
             [
              0.1111111111111111,
              "#46039f"
             ],
             [
              0.2222222222222222,
              "#7201a8"
             ],
             [
              0.3333333333333333,
              "#9c179e"
             ],
             [
              0.4444444444444444,
              "#bd3786"
             ],
             [
              0.5555555555555556,
              "#d8576b"
             ],
             [
              0.6666666666666666,
              "#ed7953"
             ],
             [
              0.7777777777777778,
              "#fb9f3a"
             ],
             [
              0.8888888888888888,
              "#fdca26"
             ],
             [
              1,
              "#f0f921"
             ]
            ],
            "type": "histogram2dcontour"
           }
          ],
          "mesh3d": [
           {
            "colorbar": {
             "outlinewidth": 0,
             "ticks": ""
            },
            "type": "mesh3d"
           }
          ],
          "parcoords": [
           {
            "line": {
             "colorbar": {
              "outlinewidth": 0,
              "ticks": ""
             }
            },
            "type": "parcoords"
           }
          ],
          "pie": [
           {
            "automargin": true,
            "type": "pie"
           }
          ],
          "scatter": [
           {
            "marker": {
             "colorbar": {
              "outlinewidth": 0,
              "ticks": ""
             }
            },
            "type": "scatter"
           }
          ],
          "scatter3d": [
           {
            "line": {
             "colorbar": {
              "outlinewidth": 0,
              "ticks": ""
             }
            },
            "marker": {
             "colorbar": {
              "outlinewidth": 0,
              "ticks": ""
             }
            },
            "type": "scatter3d"
           }
          ],
          "scattercarpet": [
           {
            "marker": {
             "colorbar": {
              "outlinewidth": 0,
              "ticks": ""
             }
            },
            "type": "scattercarpet"
           }
          ],
          "scattergeo": [
           {
            "marker": {
             "colorbar": {
              "outlinewidth": 0,
              "ticks": ""
             }
            },
            "type": "scattergeo"
           }
          ],
          "scattergl": [
           {
            "marker": {
             "colorbar": {
              "outlinewidth": 0,
              "ticks": ""
             }
            },
            "type": "scattergl"
           }
          ],
          "scattermapbox": [
           {
            "marker": {
             "colorbar": {
              "outlinewidth": 0,
              "ticks": ""
             }
            },
            "type": "scattermapbox"
           }
          ],
          "scatterpolar": [
           {
            "marker": {
             "colorbar": {
              "outlinewidth": 0,
              "ticks": ""
             }
            },
            "type": "scatterpolar"
           }
          ],
          "scatterpolargl": [
           {
            "marker": {
             "colorbar": {
              "outlinewidth": 0,
              "ticks": ""
             }
            },
            "type": "scatterpolargl"
           }
          ],
          "scatterternary": [
           {
            "marker": {
             "colorbar": {
              "outlinewidth": 0,
              "ticks": ""
             }
            },
            "type": "scatterternary"
           }
          ],
          "surface": [
           {
            "colorbar": {
             "outlinewidth": 0,
             "ticks": ""
            },
            "colorscale": [
             [
              0,
              "#0d0887"
             ],
             [
              0.1111111111111111,
              "#46039f"
             ],
             [
              0.2222222222222222,
              "#7201a8"
             ],
             [
              0.3333333333333333,
              "#9c179e"
             ],
             [
              0.4444444444444444,
              "#bd3786"
             ],
             [
              0.5555555555555556,
              "#d8576b"
             ],
             [
              0.6666666666666666,
              "#ed7953"
             ],
             [
              0.7777777777777778,
              "#fb9f3a"
             ],
             [
              0.8888888888888888,
              "#fdca26"
             ],
             [
              1,
              "#f0f921"
             ]
            ],
            "type": "surface"
           }
          ],
          "table": [
           {
            "cells": {
             "fill": {
              "color": "#EBF0F8"
             },
             "line": {
              "color": "white"
             }
            },
            "header": {
             "fill": {
              "color": "#C8D4E3"
             },
             "line": {
              "color": "white"
             }
            },
            "type": "table"
           }
          ]
         },
         "layout": {
          "annotationdefaults": {
           "arrowcolor": "#2a3f5f",
           "arrowhead": 0,
           "arrowwidth": 1
          },
          "autotypenumbers": "strict",
          "coloraxis": {
           "colorbar": {
            "outlinewidth": 0,
            "ticks": ""
           }
          },
          "colorscale": {
           "diverging": [
            [
             0,
             "#8e0152"
            ],
            [
             0.1,
             "#c51b7d"
            ],
            [
             0.2,
             "#de77ae"
            ],
            [
             0.3,
             "#f1b6da"
            ],
            [
             0.4,
             "#fde0ef"
            ],
            [
             0.5,
             "#f7f7f7"
            ],
            [
             0.6,
             "#e6f5d0"
            ],
            [
             0.7,
             "#b8e186"
            ],
            [
             0.8,
             "#7fbc41"
            ],
            [
             0.9,
             "#4d9221"
            ],
            [
             1,
             "#276419"
            ]
           ],
           "sequential": [
            [
             0,
             "#0d0887"
            ],
            [
             0.1111111111111111,
             "#46039f"
            ],
            [
             0.2222222222222222,
             "#7201a8"
            ],
            [
             0.3333333333333333,
             "#9c179e"
            ],
            [
             0.4444444444444444,
             "#bd3786"
            ],
            [
             0.5555555555555556,
             "#d8576b"
            ],
            [
             0.6666666666666666,
             "#ed7953"
            ],
            [
             0.7777777777777778,
             "#fb9f3a"
            ],
            [
             0.8888888888888888,
             "#fdca26"
            ],
            [
             1,
             "#f0f921"
            ]
           ],
           "sequentialminus": [
            [
             0,
             "#0d0887"
            ],
            [
             0.1111111111111111,
             "#46039f"
            ],
            [
             0.2222222222222222,
             "#7201a8"
            ],
            [
             0.3333333333333333,
             "#9c179e"
            ],
            [
             0.4444444444444444,
             "#bd3786"
            ],
            [
             0.5555555555555556,
             "#d8576b"
            ],
            [
             0.6666666666666666,
             "#ed7953"
            ],
            [
             0.7777777777777778,
             "#fb9f3a"
            ],
            [
             0.8888888888888888,
             "#fdca26"
            ],
            [
             1,
             "#f0f921"
            ]
           ]
          },
          "colorway": [
           "#636efa",
           "#EF553B",
           "#00cc96",
           "#ab63fa",
           "#FFA15A",
           "#19d3f3",
           "#FF6692",
           "#B6E880",
           "#FF97FF",
           "#FECB52"
          ],
          "font": {
           "color": "#2a3f5f"
          },
          "geo": {
           "bgcolor": "white",
           "lakecolor": "white",
           "landcolor": "#E5ECF6",
           "showlakes": true,
           "showland": true,
           "subunitcolor": "white"
          },
          "hoverlabel": {
           "align": "left"
          },
          "hovermode": "closest",
          "mapbox": {
           "style": "light"
          },
          "paper_bgcolor": "white",
          "plot_bgcolor": "#E5ECF6",
          "polar": {
           "angularaxis": {
            "gridcolor": "white",
            "linecolor": "white",
            "ticks": ""
           },
           "bgcolor": "#E5ECF6",
           "radialaxis": {
            "gridcolor": "white",
            "linecolor": "white",
            "ticks": ""
           }
          },
          "scene": {
           "xaxis": {
            "backgroundcolor": "#E5ECF6",
            "gridcolor": "white",
            "gridwidth": 2,
            "linecolor": "white",
            "showbackground": true,
            "ticks": "",
            "zerolinecolor": "white"
           },
           "yaxis": {
            "backgroundcolor": "#E5ECF6",
            "gridcolor": "white",
            "gridwidth": 2,
            "linecolor": "white",
            "showbackground": true,
            "ticks": "",
            "zerolinecolor": "white"
           },
           "zaxis": {
            "backgroundcolor": "#E5ECF6",
            "gridcolor": "white",
            "gridwidth": 2,
            "linecolor": "white",
            "showbackground": true,
            "ticks": "",
            "zerolinecolor": "white"
           }
          },
          "shapedefaults": {
           "line": {
            "color": "#2a3f5f"
           }
          },
          "ternary": {
           "aaxis": {
            "gridcolor": "white",
            "linecolor": "white",
            "ticks": ""
           },
           "baxis": {
            "gridcolor": "white",
            "linecolor": "white",
            "ticks": ""
           },
           "bgcolor": "#E5ECF6",
           "caxis": {
            "gridcolor": "white",
            "linecolor": "white",
            "ticks": ""
           }
          },
          "title": {
           "x": 0.05
          },
          "xaxis": {
           "automargin": true,
           "gridcolor": "white",
           "linecolor": "white",
           "ticks": "",
           "title": {
            "standoff": 15
           },
           "zerolinecolor": "white",
           "zerolinewidth": 2
          },
          "yaxis": {
           "automargin": true,
           "gridcolor": "white",
           "linecolor": "white",
           "ticks": "",
           "title": {
            "standoff": 15
           },
           "zerolinecolor": "white",
           "zerolinewidth": 2
          }
         }
        },
        "title": {
         "text": "Total Jenis Kelamin Pelanggan Berdasarkan Cabang"
        },
        "xaxis": {
         "anchor": "y",
         "domain": [
          0,
          1
         ],
         "title": {
          "text": "City"
         }
        },
        "yaxis": {
         "anchor": "x",
         "domain": [
          0,
          1
         ],
         "title": {
          "text": "count"
         }
        }
       }
      }
     },
     "metadata": {},
     "output_type": "display_data"
    }
   ],
   "source": [
    "fig = px.histogram(df,x= 'City',color='Gender',barmode='group',\n",
    "                   title='Total Jenis Kelamin Pelanggan Berdasarkan Cabang')\n",
    "fig"
   ]
  },
  {
   "cell_type": "code",
   "execution_count": 7,
   "metadata": {},
   "outputs": [
    {
     "data": {
      "application/vnd.plotly.v1+json": {
       "config": {
        "plotlyServerURL": "https://plot.ly"
       },
       "data": [
        {
         "alignmentgroup": "True",
         "bingroup": "x",
         "hovertemplate": "Gender=Female<br>Payment=%{x}<br>count=%{y}<extra></extra>",
         "legendgroup": "Female",
         "marker": {
          "color": "#636efa",
          "pattern": {
           "shape": ""
          }
         },
         "name": "Female",
         "offsetgroup": "Female",
         "orientation": "v",
         "showlegend": true,
         "type": "histogram",
         "x": [
          "Ewallet",
          "Cash",
          "Ewallet",
          "Ewallet",
          "Credit card",
          "Credit card",
          "Ewallet",
          "Ewallet",
          "Cash",
          "Cash",
          "Credit card",
          "Ewallet",
          "Credit card",
          "Credit card",
          "Cash",
          "Ewallet",
          "Ewallet",
          "Ewallet",
          "Ewallet",
          "Ewallet",
          "Cash",
          "Cash",
          "Cash",
          "Ewallet",
          "Ewallet",
          "Cash",
          "Ewallet",
          "Cash",
          "Cash",
          "Credit card",
          "Ewallet",
          "Ewallet",
          "Ewallet",
          "Cash",
          "Ewallet",
          "Cash",
          "Credit card",
          "Credit card",
          "Ewallet",
          "Cash",
          "Credit card",
          "Ewallet",
          "Credit card",
          "Ewallet",
          "Cash",
          "Cash",
          "Ewallet",
          "Ewallet",
          "Cash",
          "Cash",
          "Cash",
          "Ewallet",
          "Credit card",
          "Cash",
          "Credit card",
          "Credit card",
          "Ewallet",
          "Credit card",
          "Ewallet",
          "Credit card",
          "Cash",
          "Credit card",
          "Ewallet",
          "Ewallet",
          "Cash",
          "Cash",
          "Cash",
          "Ewallet",
          "Credit card",
          "Cash",
          "Credit card",
          "Cash",
          "Credit card",
          "Ewallet",
          "Credit card",
          "Ewallet",
          "Credit card",
          "Ewallet",
          "Cash",
          "Credit card",
          "Credit card",
          "Credit card",
          "Ewallet",
          "Credit card",
          "Credit card",
          "Ewallet",
          "Cash",
          "Cash",
          "Ewallet",
          "Credit card",
          "Credit card",
          "Cash",
          "Ewallet",
          "Credit card",
          "Ewallet",
          "Ewallet",
          "Credit card",
          "Cash",
          "Cash",
          "Cash",
          "Cash",
          "Credit card",
          "Cash",
          "Credit card",
          "Cash",
          "Ewallet",
          "Cash",
          "Credit card",
          "Cash",
          "Ewallet",
          "Credit card",
          "Cash",
          "Cash",
          "Credit card",
          "Ewallet",
          "Ewallet",
          "Cash",
          "Cash",
          "Credit card",
          "Cash",
          "Ewallet",
          "Ewallet",
          "Cash",
          "Credit card",
          "Cash",
          "Ewallet",
          "Cash",
          "Ewallet",
          "Credit card",
          "Cash",
          "Cash",
          "Cash",
          "Credit card",
          "Cash",
          "Cash",
          "Cash",
          "Cash",
          "Cash",
          "Credit card",
          "Cash",
          "Cash",
          "Cash",
          "Ewallet",
          "Cash",
          "Credit card",
          "Cash",
          "Cash",
          "Cash",
          "Credit card",
          "Cash",
          "Cash",
          "Cash",
          "Credit card",
          "Cash",
          "Credit card",
          "Credit card",
          "Ewallet",
          "Cash",
          "Ewallet",
          "Ewallet",
          "Cash",
          "Credit card",
          "Credit card",
          "Credit card",
          "Cash",
          "Credit card",
          "Credit card",
          "Cash",
          "Cash",
          "Cash",
          "Cash",
          "Cash",
          "Cash",
          "Cash",
          "Credit card",
          "Ewallet",
          "Credit card",
          "Ewallet",
          "Credit card",
          "Credit card",
          "Cash",
          "Cash",
          "Ewallet",
          "Ewallet",
          "Credit card",
          "Ewallet",
          "Cash",
          "Cash",
          "Credit card",
          "Ewallet",
          "Ewallet",
          "Ewallet",
          "Credit card",
          "Credit card",
          "Ewallet",
          "Ewallet",
          "Cash",
          "Ewallet",
          "Ewallet",
          "Cash",
          "Credit card",
          "Ewallet",
          "Ewallet",
          "Cash",
          "Ewallet",
          "Cash",
          "Credit card",
          "Credit card",
          "Ewallet",
          "Ewallet",
          "Credit card",
          "Credit card",
          "Credit card",
          "Credit card",
          "Cash",
          "Credit card",
          "Credit card",
          "Credit card",
          "Cash",
          "Ewallet",
          "Cash",
          "Credit card",
          "Cash",
          "Credit card",
          "Cash",
          "Cash",
          "Credit card",
          "Credit card",
          "Cash",
          "Ewallet",
          "Cash",
          "Cash",
          "Credit card",
          "Cash",
          "Credit card",
          "Ewallet",
          "Cash",
          "Ewallet",
          "Ewallet",
          "Credit card",
          "Ewallet",
          "Credit card",
          "Cash",
          "Cash",
          "Cash",
          "Cash",
          "Ewallet",
          "Cash",
          "Cash",
          "Credit card",
          "Credit card",
          "Credit card",
          "Ewallet",
          "Ewallet",
          "Ewallet",
          "Credit card",
          "Cash",
          "Credit card",
          "Ewallet",
          "Credit card",
          "Ewallet",
          "Ewallet",
          "Credit card",
          "Credit card",
          "Ewallet",
          "Credit card",
          "Credit card",
          "Ewallet",
          "Cash",
          "Cash",
          "Cash",
          "Cash",
          "Cash",
          "Ewallet",
          "Ewallet",
          "Ewallet",
          "Credit card",
          "Credit card",
          "Cash",
          "Credit card",
          "Ewallet",
          "Credit card",
          "Cash",
          "Cash",
          "Credit card",
          "Credit card",
          "Cash",
          "Ewallet",
          "Ewallet",
          "Cash",
          "Ewallet",
          "Ewallet",
          "Cash",
          "Ewallet",
          "Credit card",
          "Ewallet",
          "Cash",
          "Ewallet",
          "Credit card",
          "Credit card",
          "Cash",
          "Ewallet",
          "Ewallet",
          "Credit card",
          "Cash",
          "Credit card",
          "Credit card",
          "Cash",
          "Credit card",
          "Cash",
          "Cash",
          "Ewallet",
          "Ewallet",
          "Credit card",
          "Cash",
          "Cash",
          "Credit card",
          "Credit card",
          "Ewallet",
          "Cash",
          "Cash",
          "Credit card",
          "Credit card",
          "Cash",
          "Ewallet",
          "Ewallet",
          "Ewallet",
          "Credit card",
          "Ewallet",
          "Credit card",
          "Credit card",
          "Cash",
          "Cash",
          "Credit card",
          "Ewallet",
          "Ewallet",
          "Credit card",
          "Credit card",
          "Cash",
          "Cash",
          "Cash",
          "Cash",
          "Cash",
          "Ewallet",
          "Ewallet",
          "Credit card",
          "Cash",
          "Ewallet",
          "Ewallet",
          "Ewallet",
          "Ewallet",
          "Credit card",
          "Ewallet",
          "Credit card",
          "Cash",
          "Cash",
          "Cash",
          "Cash",
          "Cash",
          "Credit card",
          "Credit card",
          "Ewallet",
          "Credit card",
          "Cash",
          "Credit card",
          "Credit card",
          "Ewallet",
          "Credit card",
          "Ewallet",
          "Ewallet",
          "Credit card",
          "Ewallet",
          "Cash",
          "Ewallet",
          "Credit card",
          "Ewallet",
          "Ewallet",
          "Ewallet",
          "Credit card",
          "Cash",
          "Cash",
          "Ewallet",
          "Credit card",
          "Ewallet",
          "Credit card",
          "Credit card",
          "Ewallet",
          "Credit card",
          "Cash",
          "Ewallet",
          "Credit card",
          "Credit card",
          "Credit card",
          "Cash",
          "Cash",
          "Ewallet",
          "Cash",
          "Cash",
          "Cash",
          "Credit card",
          "Cash",
          "Cash",
          "Ewallet",
          "Credit card",
          "Credit card",
          "Cash",
          "Ewallet",
          "Cash",
          "Credit card",
          "Cash",
          "Credit card",
          "Credit card",
          "Credit card",
          "Credit card",
          "Cash",
          "Ewallet",
          "Ewallet",
          "Credit card",
          "Credit card",
          "Credit card",
          "Cash",
          "Cash",
          "Ewallet",
          "Ewallet",
          "Ewallet",
          "Cash",
          "Cash",
          "Cash",
          "Ewallet",
          "Credit card",
          "Cash",
          "Cash",
          "Ewallet",
          "Cash",
          "Credit card",
          "Ewallet",
          "Ewallet",
          "Credit card",
          "Ewallet",
          "Cash",
          "Ewallet",
          "Ewallet",
          "Cash",
          "Cash",
          "Credit card",
          "Cash",
          "Credit card",
          "Credit card",
          "Ewallet",
          "Cash",
          "Credit card",
          "Ewallet",
          "Credit card",
          "Credit card",
          "Ewallet",
          "Cash",
          "Cash",
          "Cash",
          "Cash",
          "Ewallet",
          "Credit card",
          "Cash",
          "Credit card",
          "Credit card",
          "Ewallet",
          "Ewallet",
          "Credit card",
          "Credit card",
          "Credit card",
          "Ewallet",
          "Ewallet",
          "Ewallet",
          "Cash",
          "Cash",
          "Ewallet",
          "Ewallet",
          "Credit card",
          "Ewallet",
          "Ewallet",
          "Ewallet",
          "Cash",
          "Cash",
          "Cash",
          "Cash",
          "Credit card",
          "Credit card",
          "Ewallet",
          "Cash",
          "Credit card",
          "Credit card",
          "Cash",
          "Credit card",
          "Credit card",
          "Ewallet",
          "Ewallet",
          "Ewallet",
          "Credit card",
          "Ewallet",
          "Ewallet",
          "Ewallet",
          "Cash"
         ],
         "xaxis": "x",
         "yaxis": "y"
        },
        {
         "alignmentgroup": "True",
         "bingroup": "x",
         "hovertemplate": "Gender=Male<br>Payment=%{x}<br>count=%{y}<extra></extra>",
         "legendgroup": "Male",
         "marker": {
          "color": "#EF553B",
          "pattern": {
           "shape": ""
          }
         },
         "name": "Male",
         "offsetgroup": "Male",
         "orientation": "v",
         "showlegend": true,
         "type": "histogram",
         "x": [
          "Credit card",
          "Ewallet",
          "Ewallet",
          "Ewallet",
          "Cash",
          "Ewallet",
          "Credit card",
          "Credit card",
          "Ewallet",
          "Ewallet",
          "Credit card",
          "Ewallet",
          "Ewallet",
          "Cash",
          "Cash",
          "Credit card",
          "Cash",
          "Cash",
          "Credit card",
          "Ewallet",
          "Cash",
          "Cash",
          "Cash",
          "Credit card",
          "Credit card",
          "Cash",
          "Credit card",
          "Ewallet",
          "Cash",
          "Ewallet",
          "Cash",
          "Ewallet",
          "Credit card",
          "Cash",
          "Cash",
          "Cash",
          "Credit card",
          "Cash",
          "Ewallet",
          "Credit card",
          "Ewallet",
          "Cash",
          "Cash",
          "Credit card",
          "Cash",
          "Credit card",
          "Credit card",
          "Ewallet",
          "Ewallet",
          "Ewallet",
          "Cash",
          "Cash",
          "Cash",
          "Cash",
          "Cash",
          "Ewallet",
          "Credit card",
          "Cash",
          "Cash",
          "Ewallet",
          "Ewallet",
          "Ewallet",
          "Ewallet",
          "Credit card",
          "Credit card",
          "Credit card",
          "Credit card",
          "Cash",
          "Cash",
          "Ewallet",
          "Cash",
          "Credit card",
          "Credit card",
          "Credit card",
          "Credit card",
          "Credit card",
          "Credit card",
          "Cash",
          "Ewallet",
          "Ewallet",
          "Ewallet",
          "Cash",
          "Credit card",
          "Ewallet",
          "Credit card",
          "Ewallet",
          "Cash",
          "Credit card",
          "Cash",
          "Credit card",
          "Ewallet",
          "Credit card",
          "Cash",
          "Credit card",
          "Ewallet",
          "Ewallet",
          "Credit card",
          "Ewallet",
          "Ewallet",
          "Cash",
          "Cash",
          "Ewallet",
          "Ewallet",
          "Ewallet",
          "Cash",
          "Ewallet",
          "Ewallet",
          "Credit card",
          "Cash",
          "Credit card",
          "Cash",
          "Ewallet",
          "Credit card",
          "Ewallet",
          "Ewallet",
          "Credit card",
          "Credit card",
          "Ewallet",
          "Ewallet",
          "Ewallet",
          "Cash",
          "Cash",
          "Ewallet",
          "Ewallet",
          "Cash",
          "Ewallet",
          "Credit card",
          "Ewallet",
          "Credit card",
          "Credit card",
          "Credit card",
          "Cash",
          "Credit card",
          "Cash",
          "Ewallet",
          "Credit card",
          "Credit card",
          "Ewallet",
          "Credit card",
          "Cash",
          "Cash",
          "Cash",
          "Credit card",
          "Ewallet",
          "Ewallet",
          "Credit card",
          "Ewallet",
          "Credit card",
          "Credit card",
          "Cash",
          "Cash",
          "Credit card",
          "Credit card",
          "Ewallet",
          "Cash",
          "Cash",
          "Credit card",
          "Ewallet",
          "Ewallet",
          "Cash",
          "Ewallet",
          "Cash",
          "Credit card",
          "Credit card",
          "Cash",
          "Ewallet",
          "Cash",
          "Ewallet",
          "Cash",
          "Cash",
          "Ewallet",
          "Ewallet",
          "Credit card",
          "Ewallet",
          "Cash",
          "Cash",
          "Credit card",
          "Cash",
          "Cash",
          "Credit card",
          "Cash",
          "Credit card",
          "Ewallet",
          "Ewallet",
          "Credit card",
          "Cash",
          "Cash",
          "Cash",
          "Cash",
          "Cash",
          "Ewallet",
          "Cash",
          "Credit card",
          "Ewallet",
          "Cash",
          "Cash",
          "Credit card",
          "Cash",
          "Ewallet",
          "Ewallet",
          "Credit card",
          "Cash",
          "Cash",
          "Credit card",
          "Ewallet",
          "Cash",
          "Cash",
          "Credit card",
          "Ewallet",
          "Credit card",
          "Credit card",
          "Ewallet",
          "Cash",
          "Ewallet",
          "Ewallet",
          "Ewallet",
          "Credit card",
          "Cash",
          "Cash",
          "Cash",
          "Cash",
          "Credit card",
          "Ewallet",
          "Credit card",
          "Ewallet",
          "Ewallet",
          "Credit card",
          "Ewallet",
          "Cash",
          "Ewallet",
          "Credit card",
          "Credit card",
          "Cash",
          "Ewallet",
          "Cash",
          "Cash",
          "Credit card",
          "Cash",
          "Credit card",
          "Cash",
          "Ewallet",
          "Credit card",
          "Cash",
          "Credit card",
          "Ewallet",
          "Ewallet",
          "Ewallet",
          "Cash",
          "Ewallet",
          "Cash",
          "Ewallet",
          "Cash",
          "Ewallet",
          "Cash",
          "Credit card",
          "Ewallet",
          "Credit card",
          "Ewallet",
          "Cash",
          "Cash",
          "Credit card",
          "Ewallet",
          "Credit card",
          "Ewallet",
          "Credit card",
          "Cash",
          "Credit card",
          "Credit card",
          "Ewallet",
          "Cash",
          "Ewallet",
          "Credit card",
          "Ewallet",
          "Ewallet",
          "Ewallet",
          "Ewallet",
          "Credit card",
          "Credit card",
          "Ewallet",
          "Credit card",
          "Ewallet",
          "Credit card",
          "Cash",
          "Credit card",
          "Ewallet",
          "Cash",
          "Credit card",
          "Ewallet",
          "Cash",
          "Cash",
          "Ewallet",
          "Credit card",
          "Credit card",
          "Ewallet",
          "Cash",
          "Ewallet",
          "Ewallet",
          "Cash",
          "Ewallet",
          "Credit card",
          "Cash",
          "Cash",
          "Credit card",
          "Cash",
          "Credit card",
          "Credit card",
          "Ewallet",
          "Ewallet",
          "Cash",
          "Ewallet",
          "Ewallet",
          "Cash",
          "Credit card",
          "Ewallet",
          "Cash",
          "Ewallet",
          "Credit card",
          "Cash",
          "Ewallet",
          "Cash",
          "Ewallet",
          "Credit card",
          "Ewallet",
          "Credit card",
          "Ewallet",
          "Credit card",
          "Credit card",
          "Credit card",
          "Ewallet",
          "Ewallet",
          "Ewallet",
          "Ewallet",
          "Cash",
          "Cash",
          "Cash",
          "Ewallet",
          "Cash",
          "Ewallet",
          "Credit card",
          "Credit card",
          "Credit card",
          "Ewallet",
          "Ewallet",
          "Cash",
          "Credit card",
          "Cash",
          "Ewallet",
          "Ewallet",
          "Ewallet",
          "Cash",
          "Cash",
          "Ewallet",
          "Cash",
          "Ewallet",
          "Credit card",
          "Ewallet",
          "Credit card",
          "Cash",
          "Cash",
          "Cash",
          "Ewallet",
          "Ewallet",
          "Cash",
          "Ewallet",
          "Credit card",
          "Credit card",
          "Credit card",
          "Ewallet",
          "Credit card",
          "Credit card",
          "Ewallet",
          "Ewallet",
          "Ewallet",
          "Ewallet",
          "Ewallet",
          "Credit card",
          "Ewallet",
          "Ewallet",
          "Cash",
          "Cash",
          "Ewallet",
          "Ewallet",
          "Credit card",
          "Cash",
          "Ewallet",
          "Ewallet",
          "Credit card",
          "Credit card",
          "Cash",
          "Cash",
          "Credit card",
          "Cash",
          "Cash",
          "Ewallet",
          "Cash",
          "Credit card",
          "Ewallet",
          "Credit card",
          "Ewallet",
          "Credit card",
          "Credit card",
          "Credit card",
          "Ewallet",
          "Credit card",
          "Ewallet",
          "Ewallet",
          "Ewallet",
          "Ewallet",
          "Cash",
          "Ewallet",
          "Credit card",
          "Credit card",
          "Ewallet",
          "Cash",
          "Credit card",
          "Cash",
          "Cash",
          "Cash",
          "Ewallet",
          "Cash",
          "Ewallet",
          "Credit card",
          "Cash",
          "Cash",
          "Cash",
          "Cash",
          "Credit card",
          "Ewallet",
          "Cash",
          "Ewallet",
          "Cash",
          "Cash",
          "Ewallet",
          "Ewallet",
          "Credit card",
          "Credit card",
          "Ewallet",
          "Credit card",
          "Ewallet",
          "Cash",
          "Credit card",
          "Ewallet",
          "Cash",
          "Cash",
          "Credit card",
          "Cash",
          "Ewallet",
          "Ewallet",
          "Cash",
          "Credit card",
          "Credit card",
          "Ewallet",
          "Cash",
          "Ewallet",
          "Ewallet",
          "Cash",
          "Credit card",
          "Ewallet",
          "Credit card",
          "Ewallet",
          "Credit card",
          "Ewallet",
          "Ewallet",
          "Ewallet",
          "Ewallet",
          "Ewallet",
          "Cash",
          "Credit card",
          "Cash",
          "Credit card",
          "Ewallet",
          "Ewallet",
          "Ewallet",
          "Cash",
          "Cash",
          "Cash",
          "Cash",
          "Cash",
          "Cash",
          "Credit card",
          "Credit card",
          "Ewallet",
          "Cash",
          "Cash",
          "Cash",
          "Credit card",
          "Ewallet",
          "Cash",
          "Cash",
          "Cash",
          "Cash",
          "Credit card",
          "Ewallet",
          "Credit card",
          "Ewallet",
          "Ewallet",
          "Ewallet",
          "Cash",
          "Cash"
         ],
         "xaxis": "x",
         "yaxis": "y"
        }
       ],
       "layout": {
        "barmode": "group",
        "legend": {
         "title": {
          "text": "Gender"
         },
         "tracegroupgap": 0
        },
        "template": {
         "data": {
          "bar": [
           {
            "error_x": {
             "color": "#2a3f5f"
            },
            "error_y": {
             "color": "#2a3f5f"
            },
            "marker": {
             "line": {
              "color": "#E5ECF6",
              "width": 0.5
             },
             "pattern": {
              "fillmode": "overlay",
              "size": 10,
              "solidity": 0.2
             }
            },
            "type": "bar"
           }
          ],
          "barpolar": [
           {
            "marker": {
             "line": {
              "color": "#E5ECF6",
              "width": 0.5
             },
             "pattern": {
              "fillmode": "overlay",
              "size": 10,
              "solidity": 0.2
             }
            },
            "type": "barpolar"
           }
          ],
          "carpet": [
           {
            "aaxis": {
             "endlinecolor": "#2a3f5f",
             "gridcolor": "white",
             "linecolor": "white",
             "minorgridcolor": "white",
             "startlinecolor": "#2a3f5f"
            },
            "baxis": {
             "endlinecolor": "#2a3f5f",
             "gridcolor": "white",
             "linecolor": "white",
             "minorgridcolor": "white",
             "startlinecolor": "#2a3f5f"
            },
            "type": "carpet"
           }
          ],
          "choropleth": [
           {
            "colorbar": {
             "outlinewidth": 0,
             "ticks": ""
            },
            "type": "choropleth"
           }
          ],
          "contour": [
           {
            "colorbar": {
             "outlinewidth": 0,
             "ticks": ""
            },
            "colorscale": [
             [
              0,
              "#0d0887"
             ],
             [
              0.1111111111111111,
              "#46039f"
             ],
             [
              0.2222222222222222,
              "#7201a8"
             ],
             [
              0.3333333333333333,
              "#9c179e"
             ],
             [
              0.4444444444444444,
              "#bd3786"
             ],
             [
              0.5555555555555556,
              "#d8576b"
             ],
             [
              0.6666666666666666,
              "#ed7953"
             ],
             [
              0.7777777777777778,
              "#fb9f3a"
             ],
             [
              0.8888888888888888,
              "#fdca26"
             ],
             [
              1,
              "#f0f921"
             ]
            ],
            "type": "contour"
           }
          ],
          "contourcarpet": [
           {
            "colorbar": {
             "outlinewidth": 0,
             "ticks": ""
            },
            "type": "contourcarpet"
           }
          ],
          "heatmap": [
           {
            "colorbar": {
             "outlinewidth": 0,
             "ticks": ""
            },
            "colorscale": [
             [
              0,
              "#0d0887"
             ],
             [
              0.1111111111111111,
              "#46039f"
             ],
             [
              0.2222222222222222,
              "#7201a8"
             ],
             [
              0.3333333333333333,
              "#9c179e"
             ],
             [
              0.4444444444444444,
              "#bd3786"
             ],
             [
              0.5555555555555556,
              "#d8576b"
             ],
             [
              0.6666666666666666,
              "#ed7953"
             ],
             [
              0.7777777777777778,
              "#fb9f3a"
             ],
             [
              0.8888888888888888,
              "#fdca26"
             ],
             [
              1,
              "#f0f921"
             ]
            ],
            "type": "heatmap"
           }
          ],
          "heatmapgl": [
           {
            "colorbar": {
             "outlinewidth": 0,
             "ticks": ""
            },
            "colorscale": [
             [
              0,
              "#0d0887"
             ],
             [
              0.1111111111111111,
              "#46039f"
             ],
             [
              0.2222222222222222,
              "#7201a8"
             ],
             [
              0.3333333333333333,
              "#9c179e"
             ],
             [
              0.4444444444444444,
              "#bd3786"
             ],
             [
              0.5555555555555556,
              "#d8576b"
             ],
             [
              0.6666666666666666,
              "#ed7953"
             ],
             [
              0.7777777777777778,
              "#fb9f3a"
             ],
             [
              0.8888888888888888,
              "#fdca26"
             ],
             [
              1,
              "#f0f921"
             ]
            ],
            "type": "heatmapgl"
           }
          ],
          "histogram": [
           {
            "marker": {
             "pattern": {
              "fillmode": "overlay",
              "size": 10,
              "solidity": 0.2
             }
            },
            "type": "histogram"
           }
          ],
          "histogram2d": [
           {
            "colorbar": {
             "outlinewidth": 0,
             "ticks": ""
            },
            "colorscale": [
             [
              0,
              "#0d0887"
             ],
             [
              0.1111111111111111,
              "#46039f"
             ],
             [
              0.2222222222222222,
              "#7201a8"
             ],
             [
              0.3333333333333333,
              "#9c179e"
             ],
             [
              0.4444444444444444,
              "#bd3786"
             ],
             [
              0.5555555555555556,
              "#d8576b"
             ],
             [
              0.6666666666666666,
              "#ed7953"
             ],
             [
              0.7777777777777778,
              "#fb9f3a"
             ],
             [
              0.8888888888888888,
              "#fdca26"
             ],
             [
              1,
              "#f0f921"
             ]
            ],
            "type": "histogram2d"
           }
          ],
          "histogram2dcontour": [
           {
            "colorbar": {
             "outlinewidth": 0,
             "ticks": ""
            },
            "colorscale": [
             [
              0,
              "#0d0887"
             ],
             [
              0.1111111111111111,
              "#46039f"
             ],
             [
              0.2222222222222222,
              "#7201a8"
             ],
             [
              0.3333333333333333,
              "#9c179e"
             ],
             [
              0.4444444444444444,
              "#bd3786"
             ],
             [
              0.5555555555555556,
              "#d8576b"
             ],
             [
              0.6666666666666666,
              "#ed7953"
             ],
             [
              0.7777777777777778,
              "#fb9f3a"
             ],
             [
              0.8888888888888888,
              "#fdca26"
             ],
             [
              1,
              "#f0f921"
             ]
            ],
            "type": "histogram2dcontour"
           }
          ],
          "mesh3d": [
           {
            "colorbar": {
             "outlinewidth": 0,
             "ticks": ""
            },
            "type": "mesh3d"
           }
          ],
          "parcoords": [
           {
            "line": {
             "colorbar": {
              "outlinewidth": 0,
              "ticks": ""
             }
            },
            "type": "parcoords"
           }
          ],
          "pie": [
           {
            "automargin": true,
            "type": "pie"
           }
          ],
          "scatter": [
           {
            "marker": {
             "colorbar": {
              "outlinewidth": 0,
              "ticks": ""
             }
            },
            "type": "scatter"
           }
          ],
          "scatter3d": [
           {
            "line": {
             "colorbar": {
              "outlinewidth": 0,
              "ticks": ""
             }
            },
            "marker": {
             "colorbar": {
              "outlinewidth": 0,
              "ticks": ""
             }
            },
            "type": "scatter3d"
           }
          ],
          "scattercarpet": [
           {
            "marker": {
             "colorbar": {
              "outlinewidth": 0,
              "ticks": ""
             }
            },
            "type": "scattercarpet"
           }
          ],
          "scattergeo": [
           {
            "marker": {
             "colorbar": {
              "outlinewidth": 0,
              "ticks": ""
             }
            },
            "type": "scattergeo"
           }
          ],
          "scattergl": [
           {
            "marker": {
             "colorbar": {
              "outlinewidth": 0,
              "ticks": ""
             }
            },
            "type": "scattergl"
           }
          ],
          "scattermapbox": [
           {
            "marker": {
             "colorbar": {
              "outlinewidth": 0,
              "ticks": ""
             }
            },
            "type": "scattermapbox"
           }
          ],
          "scatterpolar": [
           {
            "marker": {
             "colorbar": {
              "outlinewidth": 0,
              "ticks": ""
             }
            },
            "type": "scatterpolar"
           }
          ],
          "scatterpolargl": [
           {
            "marker": {
             "colorbar": {
              "outlinewidth": 0,
              "ticks": ""
             }
            },
            "type": "scatterpolargl"
           }
          ],
          "scatterternary": [
           {
            "marker": {
             "colorbar": {
              "outlinewidth": 0,
              "ticks": ""
             }
            },
            "type": "scatterternary"
           }
          ],
          "surface": [
           {
            "colorbar": {
             "outlinewidth": 0,
             "ticks": ""
            },
            "colorscale": [
             [
              0,
              "#0d0887"
             ],
             [
              0.1111111111111111,
              "#46039f"
             ],
             [
              0.2222222222222222,
              "#7201a8"
             ],
             [
              0.3333333333333333,
              "#9c179e"
             ],
             [
              0.4444444444444444,
              "#bd3786"
             ],
             [
              0.5555555555555556,
              "#d8576b"
             ],
             [
              0.6666666666666666,
              "#ed7953"
             ],
             [
              0.7777777777777778,
              "#fb9f3a"
             ],
             [
              0.8888888888888888,
              "#fdca26"
             ],
             [
              1,
              "#f0f921"
             ]
            ],
            "type": "surface"
           }
          ],
          "table": [
           {
            "cells": {
             "fill": {
              "color": "#EBF0F8"
             },
             "line": {
              "color": "white"
             }
            },
            "header": {
             "fill": {
              "color": "#C8D4E3"
             },
             "line": {
              "color": "white"
             }
            },
            "type": "table"
           }
          ]
         },
         "layout": {
          "annotationdefaults": {
           "arrowcolor": "#2a3f5f",
           "arrowhead": 0,
           "arrowwidth": 1
          },
          "autotypenumbers": "strict",
          "coloraxis": {
           "colorbar": {
            "outlinewidth": 0,
            "ticks": ""
           }
          },
          "colorscale": {
           "diverging": [
            [
             0,
             "#8e0152"
            ],
            [
             0.1,
             "#c51b7d"
            ],
            [
             0.2,
             "#de77ae"
            ],
            [
             0.3,
             "#f1b6da"
            ],
            [
             0.4,
             "#fde0ef"
            ],
            [
             0.5,
             "#f7f7f7"
            ],
            [
             0.6,
             "#e6f5d0"
            ],
            [
             0.7,
             "#b8e186"
            ],
            [
             0.8,
             "#7fbc41"
            ],
            [
             0.9,
             "#4d9221"
            ],
            [
             1,
             "#276419"
            ]
           ],
           "sequential": [
            [
             0,
             "#0d0887"
            ],
            [
             0.1111111111111111,
             "#46039f"
            ],
            [
             0.2222222222222222,
             "#7201a8"
            ],
            [
             0.3333333333333333,
             "#9c179e"
            ],
            [
             0.4444444444444444,
             "#bd3786"
            ],
            [
             0.5555555555555556,
             "#d8576b"
            ],
            [
             0.6666666666666666,
             "#ed7953"
            ],
            [
             0.7777777777777778,
             "#fb9f3a"
            ],
            [
             0.8888888888888888,
             "#fdca26"
            ],
            [
             1,
             "#f0f921"
            ]
           ],
           "sequentialminus": [
            [
             0,
             "#0d0887"
            ],
            [
             0.1111111111111111,
             "#46039f"
            ],
            [
             0.2222222222222222,
             "#7201a8"
            ],
            [
             0.3333333333333333,
             "#9c179e"
            ],
            [
             0.4444444444444444,
             "#bd3786"
            ],
            [
             0.5555555555555556,
             "#d8576b"
            ],
            [
             0.6666666666666666,
             "#ed7953"
            ],
            [
             0.7777777777777778,
             "#fb9f3a"
            ],
            [
             0.8888888888888888,
             "#fdca26"
            ],
            [
             1,
             "#f0f921"
            ]
           ]
          },
          "colorway": [
           "#636efa",
           "#EF553B",
           "#00cc96",
           "#ab63fa",
           "#FFA15A",
           "#19d3f3",
           "#FF6692",
           "#B6E880",
           "#FF97FF",
           "#FECB52"
          ],
          "font": {
           "color": "#2a3f5f"
          },
          "geo": {
           "bgcolor": "white",
           "lakecolor": "white",
           "landcolor": "#E5ECF6",
           "showlakes": true,
           "showland": true,
           "subunitcolor": "white"
          },
          "hoverlabel": {
           "align": "left"
          },
          "hovermode": "closest",
          "mapbox": {
           "style": "light"
          },
          "paper_bgcolor": "white",
          "plot_bgcolor": "#E5ECF6",
          "polar": {
           "angularaxis": {
            "gridcolor": "white",
            "linecolor": "white",
            "ticks": ""
           },
           "bgcolor": "#E5ECF6",
           "radialaxis": {
            "gridcolor": "white",
            "linecolor": "white",
            "ticks": ""
           }
          },
          "scene": {
           "xaxis": {
            "backgroundcolor": "#E5ECF6",
            "gridcolor": "white",
            "gridwidth": 2,
            "linecolor": "white",
            "showbackground": true,
            "ticks": "",
            "zerolinecolor": "white"
           },
           "yaxis": {
            "backgroundcolor": "#E5ECF6",
            "gridcolor": "white",
            "gridwidth": 2,
            "linecolor": "white",
            "showbackground": true,
            "ticks": "",
            "zerolinecolor": "white"
           },
           "zaxis": {
            "backgroundcolor": "#E5ECF6",
            "gridcolor": "white",
            "gridwidth": 2,
            "linecolor": "white",
            "showbackground": true,
            "ticks": "",
            "zerolinecolor": "white"
           }
          },
          "shapedefaults": {
           "line": {
            "color": "#2a3f5f"
           }
          },
          "ternary": {
           "aaxis": {
            "gridcolor": "white",
            "linecolor": "white",
            "ticks": ""
           },
           "baxis": {
            "gridcolor": "white",
            "linecolor": "white",
            "ticks": ""
           },
           "bgcolor": "#E5ECF6",
           "caxis": {
            "gridcolor": "white",
            "linecolor": "white",
            "ticks": ""
           }
          },
          "title": {
           "x": 0.05
          },
          "xaxis": {
           "automargin": true,
           "gridcolor": "white",
           "linecolor": "white",
           "ticks": "",
           "title": {
            "standoff": 15
           },
           "zerolinecolor": "white",
           "zerolinewidth": 2
          },
          "yaxis": {
           "automargin": true,
           "gridcolor": "white",
           "linecolor": "white",
           "ticks": "",
           "title": {
            "standoff": 15
           },
           "zerolinecolor": "white",
           "zerolinewidth": 2
          }
         }
        },
        "title": {
         "text": "Tipe Payment Berdasarkan Jenis Kelamin "
        },
        "xaxis": {
         "anchor": "y",
         "domain": [
          0,
          1
         ],
         "title": {
          "text": "Payment"
         }
        },
        "yaxis": {
         "anchor": "x",
         "domain": [
          0,
          1
         ],
         "title": {
          "text": "count"
         }
        }
       }
      }
     },
     "metadata": {},
     "output_type": "display_data"
    }
   ],
   "source": [
    "fig = px.histogram(df,x= 'Payment',barmode='group',color='Gender',\n",
    "                   title='Tipe Payment Berdasarkan Jenis Kelamin ')\n",
    "fig"
   ]
  },
  {
   "cell_type": "code",
   "execution_count": 8,
   "metadata": {},
   "outputs": [
    {
     "data": {
      "application/vnd.plotly.v1+json": {
       "config": {
        "plotlyServerURL": "https://plot.ly"
       },
       "data": [
        {
         "alignmentgroup": "True",
         "hovertemplate": "Gender=Female<br>Product line=%{x}<br>Unit price=%{y}<extra></extra>",
         "legendgroup": "Female",
         "marker": {
          "color": "#636efa",
          "pattern": {
           "shape": ""
          }
         },
         "name": "Female",
         "offsetgroup": "Female",
         "orientation": "v",
         "showlegend": true,
         "textposition": "auto",
         "type": "bar",
         "x": [
          "Health and beauty",
          "Electronic accessories",
          "Electronic accessories",
          "Home and lifestyle",
          "Health and beauty",
          "Food and beverages",
          "Fashion accessories",
          "Electronic accessories",
          "Health and beauty",
          "Sports and travel",
          "Health and beauty",
          "Home and lifestyle",
          "Home and lifestyle",
          "Fashion accessories",
          "Food and beverages",
          "Food and beverages",
          "Sports and travel",
          "Electronic accessories",
          "Health and beauty",
          "Home and lifestyle",
          "Sports and travel",
          "Food and beverages",
          "Electronic accessories",
          "Food and beverages",
          "Fashion accessories",
          "Food and beverages",
          "Fashion accessories",
          "Electronic accessories",
          "Home and lifestyle",
          "Sports and travel",
          "Sports and travel",
          "Health and beauty",
          "Fashion accessories",
          "Health and beauty",
          "Food and beverages",
          "Electronic accessories",
          "Electronic accessories",
          "Fashion accessories",
          "Food and beverages",
          "Health and beauty",
          "Health and beauty",
          "Food and beverages",
          "Food and beverages",
          "Sports and travel",
          "Health and beauty",
          "Home and lifestyle",
          "Sports and travel",
          "Sports and travel",
          "Electronic accessories",
          "Electronic accessories",
          "Food and beverages",
          "Sports and travel",
          "Health and beauty",
          "Fashion accessories",
          "Home and lifestyle",
          "Fashion accessories",
          "Food and beverages",
          "Electronic accessories",
          "Fashion accessories",
          "Home and lifestyle",
          "Sports and travel",
          "Fashion accessories",
          "Food and beverages",
          "Sports and travel",
          "Fashion accessories",
          "Sports and travel",
          "Sports and travel",
          "Health and beauty",
          "Electronic accessories",
          "Home and lifestyle",
          "Sports and travel",
          "Health and beauty",
          "Food and beverages",
          "Home and lifestyle",
          "Health and beauty",
          "Fashion accessories",
          "Fashion accessories",
          "Food and beverages",
          "Sports and travel",
          "Food and beverages",
          "Fashion accessories",
          "Sports and travel",
          "Home and lifestyle",
          "Home and lifestyle",
          "Home and lifestyle",
          "Fashion accessories",
          "Food and beverages",
          "Fashion accessories",
          "Home and lifestyle",
          "Food and beverages",
          "Sports and travel",
          "Electronic accessories",
          "Health and beauty",
          "Electronic accessories",
          "Home and lifestyle",
          "Fashion accessories",
          "Electronic accessories",
          "Food and beverages",
          "Sports and travel",
          "Sports and travel",
          "Electronic accessories",
          "Food and beverages",
          "Fashion accessories",
          "Sports and travel",
          "Electronic accessories",
          "Home and lifestyle",
          "Fashion accessories",
          "Electronic accessories",
          "Health and beauty",
          "Sports and travel",
          "Fashion accessories",
          "Electronic accessories",
          "Electronic accessories",
          "Sports and travel",
          "Electronic accessories",
          "Fashion accessories",
          "Fashion accessories",
          "Sports and travel",
          "Sports and travel",
          "Food and beverages",
          "Home and lifestyle",
          "Sports and travel",
          "Health and beauty",
          "Home and lifestyle",
          "Home and lifestyle",
          "Health and beauty",
          "Home and lifestyle",
          "Fashion accessories",
          "Home and lifestyle",
          "Sports and travel",
          "Health and beauty",
          "Sports and travel",
          "Food and beverages",
          "Home and lifestyle",
          "Electronic accessories",
          "Food and beverages",
          "Electronic accessories",
          "Home and lifestyle",
          "Electronic accessories",
          "Electronic accessories",
          "Sports and travel",
          "Home and lifestyle",
          "Electronic accessories",
          "Fashion accessories",
          "Food and beverages",
          "Health and beauty",
          "Electronic accessories",
          "Food and beverages",
          "Health and beauty",
          "Food and beverages",
          "Health and beauty",
          "Fashion accessories",
          "Electronic accessories",
          "Sports and travel",
          "Electronic accessories",
          "Food and beverages",
          "Health and beauty",
          "Health and beauty",
          "Food and beverages",
          "Fashion accessories",
          "Home and lifestyle",
          "Health and beauty",
          "Fashion accessories",
          "Fashion accessories",
          "Electronic accessories",
          "Food and beverages",
          "Fashion accessories",
          "Sports and travel",
          "Food and beverages",
          "Food and beverages",
          "Fashion accessories",
          "Electronic accessories",
          "Sports and travel",
          "Electronic accessories",
          "Fashion accessories",
          "Home and lifestyle",
          "Home and lifestyle",
          "Fashion accessories",
          "Home and lifestyle",
          "Electronic accessories",
          "Electronic accessories",
          "Food and beverages",
          "Food and beverages",
          "Food and beverages",
          "Health and beauty",
          "Fashion accessories",
          "Fashion accessories",
          "Fashion accessories",
          "Sports and travel",
          "Health and beauty",
          "Health and beauty",
          "Food and beverages",
          "Health and beauty",
          "Food and beverages",
          "Fashion accessories",
          "Fashion accessories",
          "Fashion accessories",
          "Home and lifestyle",
          "Fashion accessories",
          "Health and beauty",
          "Home and lifestyle",
          "Health and beauty",
          "Health and beauty",
          "Electronic accessories",
          "Food and beverages",
          "Electronic accessories",
          "Fashion accessories",
          "Food and beverages",
          "Home and lifestyle",
          "Electronic accessories",
          "Fashion accessories",
          "Electronic accessories",
          "Sports and travel",
          "Home and lifestyle",
          "Sports and travel",
          "Health and beauty",
          "Health and beauty",
          "Sports and travel",
          "Electronic accessories",
          "Food and beverages",
          "Fashion accessories",
          "Food and beverages",
          "Electronic accessories",
          "Food and beverages",
          "Sports and travel",
          "Food and beverages",
          "Sports and travel",
          "Health and beauty",
          "Electronic accessories",
          "Home and lifestyle",
          "Sports and travel",
          "Electronic accessories",
          "Sports and travel",
          "Electronic accessories",
          "Sports and travel",
          "Sports and travel",
          "Fashion accessories",
          "Home and lifestyle",
          "Fashion accessories",
          "Fashion accessories",
          "Health and beauty",
          "Home and lifestyle",
          "Electronic accessories",
          "Food and beverages",
          "Sports and travel",
          "Sports and travel",
          "Fashion accessories",
          "Sports and travel",
          "Sports and travel",
          "Food and beverages",
          "Home and lifestyle",
          "Sports and travel",
          "Home and lifestyle",
          "Fashion accessories",
          "Fashion accessories",
          "Electronic accessories",
          "Home and lifestyle",
          "Home and lifestyle",
          "Sports and travel",
          "Food and beverages",
          "Food and beverages",
          "Home and lifestyle",
          "Fashion accessories",
          "Fashion accessories",
          "Food and beverages",
          "Sports and travel",
          "Food and beverages",
          "Fashion accessories",
          "Sports and travel",
          "Electronic accessories",
          "Fashion accessories",
          "Health and beauty",
          "Fashion accessories",
          "Food and beverages",
          "Home and lifestyle",
          "Electronic accessories",
          "Food and beverages",
          "Sports and travel",
          "Fashion accessories",
          "Fashion accessories",
          "Sports and travel",
          "Home and lifestyle",
          "Health and beauty",
          "Health and beauty",
          "Fashion accessories",
          "Fashion accessories",
          "Food and beverages",
          "Sports and travel",
          "Home and lifestyle",
          "Sports and travel",
          "Sports and travel",
          "Sports and travel",
          "Fashion accessories",
          "Home and lifestyle",
          "Fashion accessories",
          "Sports and travel",
          "Fashion accessories",
          "Fashion accessories",
          "Food and beverages",
          "Electronic accessories",
          "Food and beverages",
          "Sports and travel",
          "Fashion accessories",
          "Food and beverages",
          "Food and beverages",
          "Home and lifestyle",
          "Fashion accessories",
          "Food and beverages",
          "Fashion accessories",
          "Electronic accessories",
          "Food and beverages",
          "Food and beverages",
          "Electronic accessories",
          "Food and beverages",
          "Sports and travel",
          "Health and beauty",
          "Electronic accessories",
          "Electronic accessories",
          "Fashion accessories",
          "Sports and travel",
          "Sports and travel",
          "Fashion accessories",
          "Food and beverages",
          "Sports and travel",
          "Fashion accessories",
          "Health and beauty",
          "Health and beauty",
          "Sports and travel",
          "Health and beauty",
          "Electronic accessories",
          "Sports and travel",
          "Food and beverages",
          "Electronic accessories",
          "Sports and travel",
          "Fashion accessories",
          "Sports and travel",
          "Home and lifestyle",
          "Sports and travel",
          "Food and beverages",
          "Sports and travel",
          "Fashion accessories",
          "Food and beverages",
          "Home and lifestyle",
          "Sports and travel",
          "Fashion accessories",
          "Fashion accessories",
          "Home and lifestyle",
          "Electronic accessories",
          "Home and lifestyle",
          "Electronic accessories",
          "Health and beauty",
          "Health and beauty",
          "Fashion accessories",
          "Fashion accessories",
          "Fashion accessories",
          "Sports and travel",
          "Food and beverages",
          "Health and beauty",
          "Home and lifestyle",
          "Fashion accessories",
          "Home and lifestyle",
          "Sports and travel",
          "Sports and travel",
          "Food and beverages",
          "Home and lifestyle",
          "Home and lifestyle",
          "Fashion accessories",
          "Food and beverages",
          "Electronic accessories",
          "Fashion accessories",
          "Fashion accessories",
          "Electronic accessories",
          "Home and lifestyle",
          "Food and beverages",
          "Food and beverages",
          "Fashion accessories",
          "Health and beauty",
          "Home and lifestyle",
          "Fashion accessories",
          "Electronic accessories",
          "Home and lifestyle",
          "Sports and travel",
          "Health and beauty",
          "Sports and travel",
          "Food and beverages",
          "Food and beverages",
          "Sports and travel",
          "Fashion accessories",
          "Home and lifestyle",
          "Health and beauty",
          "Health and beauty",
          "Home and lifestyle",
          "Electronic accessories",
          "Home and lifestyle",
          "Sports and travel",
          "Electronic accessories",
          "Fashion accessories",
          "Electronic accessories",
          "Home and lifestyle",
          "Sports and travel",
          "Electronic accessories",
          "Health and beauty",
          "Fashion accessories",
          "Electronic accessories",
          "Sports and travel",
          "Electronic accessories",
          "Food and beverages",
          "Fashion accessories",
          "Home and lifestyle",
          "Health and beauty",
          "Sports and travel",
          "Sports and travel",
          "Health and beauty",
          "Electronic accessories",
          "Sports and travel",
          "Home and lifestyle",
          "Sports and travel",
          "Sports and travel",
          "Food and beverages",
          "Sports and travel",
          "Food and beverages",
          "Fashion accessories",
          "Fashion accessories",
          "Electronic accessories",
          "Health and beauty",
          "Fashion accessories",
          "Home and lifestyle",
          "Food and beverages",
          "Home and lifestyle",
          "Home and lifestyle",
          "Home and lifestyle",
          "Electronic accessories",
          "Health and beauty",
          "Electronic accessories",
          "Electronic accessories",
          "Electronic accessories",
          "Food and beverages",
          "Fashion accessories",
          "Home and lifestyle",
          "Food and beverages",
          "Electronic accessories",
          "Fashion accessories",
          "Health and beauty",
          "Electronic accessories",
          "Fashion accessories",
          "Food and beverages",
          "Electronic accessories",
          "Health and beauty",
          "Health and beauty",
          "Home and lifestyle",
          "Health and beauty",
          "Food and beverages",
          "Home and lifestyle",
          "Food and beverages",
          "Electronic accessories",
          "Home and lifestyle",
          "Food and beverages",
          "Electronic accessories",
          "Fashion accessories",
          "Electronic accessories",
          "Home and lifestyle",
          "Home and lifestyle",
          "Home and lifestyle",
          "Sports and travel",
          "Sports and travel",
          "Electronic accessories",
          "Health and beauty",
          "Electronic accessories",
          "Fashion accessories",
          "Food and beverages",
          "Home and lifestyle",
          "Health and beauty",
          "Sports and travel",
          "Health and beauty",
          "Food and beverages",
          "Home and lifestyle",
          "Electronic accessories",
          "Food and beverages",
          "Home and lifestyle",
          "Food and beverages",
          "Food and beverages",
          "Fashion accessories",
          "Home and lifestyle",
          "Food and beverages",
          "Fashion accessories",
          "Electronic accessories",
          "Home and lifestyle",
          "Health and beauty",
          "Electronic accessories",
          "Food and beverages",
          "Food and beverages",
          "Electronic accessories",
          "Food and beverages",
          "Sports and travel",
          "Fashion accessories",
          "Health and beauty",
          "Food and beverages",
          "Sports and travel",
          "Electronic accessories",
          "Home and lifestyle",
          "Fashion accessories"
         ],
         "xaxis": "x",
         "y": [
          74.69,
          15.28,
          68.84,
          73.56,
          36.26,
          54.84,
          14.48,
          46.95,
          71.38,
          93.72,
          68.93,
          40.3,
          52.59,
          87.67,
          88.36,
          99.42,
          68.12,
          60.88,
          54.92,
          86.72,
          69.12,
          98.7,
          93.96,
          20.01,
          82.63,
          44.59,
          17.87,
          85.98,
          72.35,
          24.74,
          55.07,
          33.47,
          97.61,
          18.33,
          48.52,
          75.91,
          41.65,
          20.01,
          78.31,
          20.38,
          99.19,
          96.68,
          80.36,
          83.06,
          76.99,
          47.38,
          44.86,
          21.98,
          12.45,
          23.07,
          33.98,
          16.49,
          98.21,
          72.84,
          80.79,
          27.02,
          10.96,
          99.56,
          56.47,
          93.69,
          32.25,
          31.73,
          68.54,
          90.28,
          39.62,
          92.13,
          34.84,
          81.3,
          26.31,
          34.42,
          89.8,
          68.6,
          30.41,
          77.95,
          46.26,
          30.14,
          91.54,
          16.48,
          80.97,
          43.18,
          22.51,
          12.34,
          94.49,
          69.81,
          77.04,
          73.52,
          87.8,
          74.29,
          25.29,
          71.39,
          19.15,
          57.49,
          23.03,
          66.65,
          28.53,
          30.37,
          99.73,
          93.26,
          29.61,
          24.77,
          94.64,
          57.34,
          12.54,
          87.16,
          90.7,
          63.42,
          81.37,
          10.59,
          84.09,
          93.14,
          44.22,
          13.22,
          81.4,
          14.39,
          75.06,
          16.45,
          38.3,
          22.24,
          98.4,
          74.6,
          35.54,
          67.43,
          21.12,
          21.54,
          12.03,
          99.71,
          21.82,
          95.42,
          69.96,
          15.34,
          47.67,
          23.75,
          48.51,
          94.88,
          62.48,
          36.36,
          51.92,
          88.61,
          51.19,
          14.96,
          40.23,
          88.79,
          26.48,
          81.91,
          14.23,
          15.55,
          78.13,
          21.08,
          29.67,
          22.93,
          39.42,
          61.77,
          28.45,
          57.95,
          47.65,
          42.82,
          55.97,
          76.9,
          97.03,
          77.93,
          89.25,
          13.5,
          99.3,
          54.73,
          30.24,
          89.14,
          37.55,
          95.44,
          94.47,
          41.24,
          81.68,
          51.32,
          14.36,
          26.26,
          60.96,
          70.11,
          67.09,
          96.7,
          35.38,
          23.65,
          26.61,
          99.69,
          74.89,
          40.94,
          32.32,
          54.07,
          80.48,
          37.95,
          52.26,
          79.74,
          77.5,
          54.27,
          41.06,
          39.43,
          39.75,
          97.79,
          68.71,
          56.53,
          23.82,
          34.21,
          45.38,
          81.51,
          57.22,
          25.22,
          38.6,
          84.05,
          97.21,
          20.87,
          90.65,
          23.46,
          47.44,
          40.86,
          88.43,
          89.21,
          19.1,
          19.15,
          27.07,
          39.12,
          74.71,
          63.61,
          29.56,
          77.4,
          46.57,
          73.05,
          73.95,
          22.62,
          54.55,
          37.15,
          98.84,
          83.77,
          40.05,
          64.44,
          33.26,
          32.8,
          36.98,
          49.49,
          41.09,
          77.68,
          34.7,
          19.66,
          25.32,
          12.12,
          63.22,
          90.24,
          98.13,
          51.52,
          31.9,
          93.31,
          48.5,
          84.05,
          15.95,
          90.74,
          42.91,
          54.28,
          51.47,
          45.71,
          83.17,
          37.44,
          91.41,
          54.36,
          16.31,
          28.32,
          73.96,
          73.05,
          87.48,
          20.18,
          71.2,
          29.42,
          51.54,
          66.06,
          54.31,
          58.24,
          72.04,
          98.52,
          72.42,
          42.42,
          81.21,
          49.33,
          65.74,
          79.86,
          73.98,
          82.04,
          64.27,
          77.68,
          92.98,
          18.08,
          52.34,
          43.06,
          24.24,
          45.58,
          75.2,
          46.66,
          36.85,
          70.32,
          64.99,
          54.51,
          51.89,
          53.65,
          49.79,
          28.96,
          98.97,
          38.72,
          43.46,
          71.68,
          91.61,
          94.59,
          83.25,
          78.88,
          12.09,
          46.2,
          17.63,
          98.79,
          88.55,
          72.52,
          15.49,
          55.81,
          15.69,
          99.69,
          88.15,
          27.93,
          42.97,
          58.75,
          87.1,
          98.8,
          48.63,
          17.97,
          47.71,
          40.62,
          73.41,
          45.48,
          64.08,
          73.47,
          39.48,
          34.81,
          49.32,
          23.08,
          49.1,
          64.83,
          67.1,
          70.19,
          73.38,
          52.6,
          87.37,
          27.04,
          60.41,
          19.77,
          88.39,
          43,
          75.53,
          77.63,
          13.85,
          35.68,
          71.46,
          17.48,
          25.56,
          90.63,
          36.77,
          28.5,
          52.18,
          22.32,
          81.2,
          71.63,
          31.67,
          38.42,
          10.53,
          12.29,
          22.32,
          27.28,
          17.42,
          84.87,
          97.29,
          35.74,
          96.52,
          55.39,
          77.2,
          63.88,
          10.69,
          95.46,
          76.06,
          95.64,
          11.43,
          95.54,
          85.87,
          67.99,
          52.42,
          28.86,
          94.76,
          30.62,
          44.01,
          10.16,
          10.99,
          97.37,
          46.61,
          60.87,
          24.49,
          30.2,
          48.96,
          75.59,
          77.47,
          93.18,
          50.23,
          17.75,
          62.18,
          40.26,
          64.97,
          48.62,
          53.21,
          45.44,
          47.68,
          68.71,
          60.08,
          22.01,
          72.11,
          74.22,
          11.85,
          40.73,
          29.22,
          39.47,
          14.87,
          22.38,
          72.88,
          99.1,
          98.48,
          52.79,
          95.95,
          36.51,
          28.31,
          47.63,
          86.27,
          11.28,
          51.07,
          79.59,
          62.82,
          21.43,
          90.02,
          12.1,
          33.21,
          10.18,
          34.42,
          83.34,
          73.47,
          12.19,
          83.66,
          57.91,
          92.49,
          47.27,
          44.84,
          27.73,
          58.32,
          78.38,
          82.88,
          79.54,
          49.01,
          29.15,
          56.13,
          93.12,
          99.6,
          35.49,
          94.67,
          26.26,
          35.79,
          16.37,
          12.73,
          83.14,
          35.22,
          13.78,
          39.62,
          88.25,
          83.35,
          74.44,
          63.15,
          78.89,
          89.48,
          92.09,
          57.29,
          45.68,
          93.88,
          26.43,
          21.9,
          62.85,
          21.04,
          42.57,
          15.8,
          98.66,
          15.5,
          38.27,
          33.3,
          15.8,
          34.49,
          84.63,
          74.66,
          25.45,
          67.77,
          97.48,
          63.71,
          14.76,
          56.56,
          76.6,
          60.95,
          97.38,
          88.34
         ],
         "yaxis": "y"
        },
        {
         "alignmentgroup": "True",
         "hovertemplate": "Gender=Male<br>Product line=%{x}<br>Unit price=%{y}<extra></extra>",
         "legendgroup": "Male",
         "marker": {
          "color": "#EF553B",
          "pattern": {
           "shape": ""
          }
         },
         "name": "Male",
         "offsetgroup": "Male",
         "orientation": "v",
         "showlegend": true,
         "textposition": "auto",
         "type": "bar",
         "x": [
          "Home and lifestyle",
          "Health and beauty",
          "Sports and travel",
          "Electronic accessories",
          "Electronic accessories",
          "Food and beverages",
          "Sports and travel",
          "Food and beverages",
          "Electronic accessories",
          "Health and beauty",
          "Home and lifestyle",
          "Electronic accessories",
          "Sports and travel",
          "Fashion accessories",
          "Health and beauty",
          "Fashion accessories",
          "Sports and travel",
          "Sports and travel",
          "Health and beauty",
          "Sports and travel",
          "Home and lifestyle",
          "Home and lifestyle",
          "Health and beauty",
          "Health and beauty",
          "Electronic accessories",
          "Food and beverages",
          "Fashion accessories",
          "Home and lifestyle",
          "Home and lifestyle",
          "Health and beauty",
          "Electronic accessories",
          "Home and lifestyle",
          "Sports and travel",
          "Health and beauty",
          "Health and beauty",
          "Sports and travel",
          "Food and beverages",
          "Fashion accessories",
          "Home and lifestyle",
          "Fashion accessories",
          "Food and beverages",
          "Sports and travel",
          "Fashion accessories",
          "Food and beverages",
          "Sports and travel",
          "Health and beauty",
          "Health and beauty",
          "Electronic accessories",
          "Health and beauty",
          "Food and beverages",
          "Home and lifestyle",
          "Fashion accessories",
          "Fashion accessories",
          "Food and beverages",
          "Health and beauty",
          "Electronic accessories",
          "Fashion accessories",
          "Sports and travel",
          "Electronic accessories",
          "Home and lifestyle",
          "Fashion accessories",
          "Fashion accessories",
          "Home and lifestyle",
          "Sports and travel",
          "Sports and travel",
          "Home and lifestyle",
          "Electronic accessories",
          "Fashion accessories",
          "Sports and travel",
          "Sports and travel",
          "Health and beauty",
          "Health and beauty",
          "Home and lifestyle",
          "Health and beauty",
          "Sports and travel",
          "Fashion accessories",
          "Food and beverages",
          "Electronic accessories",
          "Home and lifestyle",
          "Health and beauty",
          "Sports and travel",
          "Sports and travel",
          "Food and beverages",
          "Sports and travel",
          "Food and beverages",
          "Health and beauty",
          "Home and lifestyle",
          "Fashion accessories",
          "Food and beverages",
          "Sports and travel",
          "Health and beauty",
          "Food and beverages",
          "Electronic accessories",
          "Electronic accessories",
          "Food and beverages",
          "Home and lifestyle",
          "Food and beverages",
          "Food and beverages",
          "Health and beauty",
          "Fashion accessories",
          "Food and beverages",
          "Sports and travel",
          "Health and beauty",
          "Food and beverages",
          "Home and lifestyle",
          "Home and lifestyle",
          "Home and lifestyle",
          "Electronic accessories",
          "Health and beauty",
          "Health and beauty",
          "Electronic accessories",
          "Health and beauty",
          "Home and lifestyle",
          "Electronic accessories",
          "Home and lifestyle",
          "Sports and travel",
          "Home and lifestyle",
          "Fashion accessories",
          "Electronic accessories",
          "Food and beverages",
          "Electronic accessories",
          "Food and beverages",
          "Health and beauty",
          "Electronic accessories",
          "Fashion accessories",
          "Health and beauty",
          "Health and beauty",
          "Fashion accessories",
          "Food and beverages",
          "Health and beauty",
          "Fashion accessories",
          "Home and lifestyle",
          "Home and lifestyle",
          "Home and lifestyle",
          "Fashion accessories",
          "Electronic accessories",
          "Food and beverages",
          "Food and beverages",
          "Fashion accessories",
          "Home and lifestyle",
          "Home and lifestyle",
          "Fashion accessories",
          "Electronic accessories",
          "Home and lifestyle",
          "Electronic accessories",
          "Electronic accessories",
          "Sports and travel",
          "Home and lifestyle",
          "Home and lifestyle",
          "Fashion accessories",
          "Fashion accessories",
          "Sports and travel",
          "Home and lifestyle",
          "Health and beauty",
          "Health and beauty",
          "Home and lifestyle",
          "Electronic accessories",
          "Electronic accessories",
          "Health and beauty",
          "Electronic accessories",
          "Home and lifestyle",
          "Home and lifestyle",
          "Fashion accessories",
          "Health and beauty",
          "Food and beverages",
          "Electronic accessories",
          "Sports and travel",
          "Fashion accessories",
          "Food and beverages",
          "Electronic accessories",
          "Health and beauty",
          "Health and beauty",
          "Home and lifestyle",
          "Sports and travel",
          "Food and beverages",
          "Food and beverages",
          "Health and beauty",
          "Electronic accessories",
          "Home and lifestyle",
          "Food and beverages",
          "Fashion accessories",
          "Food and beverages",
          "Sports and travel",
          "Fashion accessories",
          "Electronic accessories",
          "Sports and travel",
          "Electronic accessories",
          "Electronic accessories",
          "Electronic accessories",
          "Home and lifestyle",
          "Electronic accessories",
          "Sports and travel",
          "Food and beverages",
          "Food and beverages",
          "Home and lifestyle",
          "Home and lifestyle",
          "Electronic accessories",
          "Fashion accessories",
          "Sports and travel",
          "Fashion accessories",
          "Sports and travel",
          "Sports and travel",
          "Food and beverages",
          "Food and beverages",
          "Electronic accessories",
          "Home and lifestyle",
          "Electronic accessories",
          "Home and lifestyle",
          "Home and lifestyle",
          "Sports and travel",
          "Food and beverages",
          "Sports and travel",
          "Health and beauty",
          "Sports and travel",
          "Home and lifestyle",
          "Health and beauty",
          "Fashion accessories",
          "Fashion accessories",
          "Fashion accessories",
          "Health and beauty",
          "Sports and travel",
          "Fashion accessories",
          "Food and beverages",
          "Fashion accessories",
          "Sports and travel",
          "Sports and travel",
          "Home and lifestyle",
          "Food and beverages",
          "Food and beverages",
          "Fashion accessories",
          "Food and beverages",
          "Fashion accessories",
          "Electronic accessories",
          "Health and beauty",
          "Electronic accessories",
          "Electronic accessories",
          "Food and beverages",
          "Food and beverages",
          "Food and beverages",
          "Sports and travel",
          "Food and beverages",
          "Fashion accessories",
          "Health and beauty",
          "Health and beauty",
          "Electronic accessories",
          "Sports and travel",
          "Electronic accessories",
          "Food and beverages",
          "Sports and travel",
          "Home and lifestyle",
          "Fashion accessories",
          "Home and lifestyle",
          "Fashion accessories",
          "Sports and travel",
          "Sports and travel",
          "Home and lifestyle",
          "Sports and travel",
          "Electronic accessories",
          "Health and beauty",
          "Electronic accessories",
          "Sports and travel",
          "Health and beauty",
          "Home and lifestyle",
          "Home and lifestyle",
          "Sports and travel",
          "Health and beauty",
          "Food and beverages",
          "Fashion accessories",
          "Fashion accessories",
          "Sports and travel",
          "Health and beauty",
          "Fashion accessories",
          "Electronic accessories",
          "Home and lifestyle",
          "Home and lifestyle",
          "Home and lifestyle",
          "Health and beauty",
          "Electronic accessories",
          "Home and lifestyle",
          "Sports and travel",
          "Fashion accessories",
          "Electronic accessories",
          "Electronic accessories",
          "Home and lifestyle",
          "Food and beverages",
          "Electronic accessories",
          "Food and beverages",
          "Electronic accessories",
          "Fashion accessories",
          "Sports and travel",
          "Food and beverages",
          "Food and beverages",
          "Sports and travel",
          "Fashion accessories",
          "Food and beverages",
          "Food and beverages",
          "Health and beauty",
          "Food and beverages",
          "Sports and travel",
          "Health and beauty",
          "Fashion accessories",
          "Health and beauty",
          "Health and beauty",
          "Sports and travel",
          "Health and beauty",
          "Food and beverages",
          "Electronic accessories",
          "Food and beverages",
          "Home and lifestyle",
          "Fashion accessories",
          "Food and beverages",
          "Fashion accessories",
          "Sports and travel",
          "Food and beverages",
          "Sports and travel",
          "Electronic accessories",
          "Food and beverages",
          "Fashion accessories",
          "Sports and travel",
          "Health and beauty",
          "Home and lifestyle",
          "Sports and travel",
          "Electronic accessories",
          "Food and beverages",
          "Home and lifestyle",
          "Food and beverages",
          "Health and beauty",
          "Health and beauty",
          "Fashion accessories",
          "Electronic accessories",
          "Electronic accessories",
          "Home and lifestyle",
          "Health and beauty",
          "Fashion accessories",
          "Electronic accessories",
          "Electronic accessories",
          "Home and lifestyle",
          "Sports and travel",
          "Fashion accessories",
          "Fashion accessories",
          "Sports and travel",
          "Food and beverages",
          "Fashion accessories",
          "Food and beverages",
          "Health and beauty",
          "Fashion accessories",
          "Health and beauty",
          "Food and beverages",
          "Fashion accessories",
          "Home and lifestyle",
          "Sports and travel",
          "Food and beverages",
          "Health and beauty",
          "Home and lifestyle",
          "Electronic accessories",
          "Home and lifestyle",
          "Food and beverages",
          "Health and beauty",
          "Health and beauty",
          "Food and beverages",
          "Fashion accessories",
          "Sports and travel",
          "Food and beverages",
          "Fashion accessories",
          "Electronic accessories",
          "Fashion accessories",
          "Home and lifestyle",
          "Food and beverages",
          "Home and lifestyle",
          "Sports and travel",
          "Fashion accessories",
          "Health and beauty",
          "Fashion accessories",
          "Electronic accessories",
          "Food and beverages",
          "Health and beauty",
          "Electronic accessories",
          "Electronic accessories",
          "Home and lifestyle",
          "Home and lifestyle",
          "Food and beverages",
          "Home and lifestyle",
          "Fashion accessories",
          "Health and beauty",
          "Home and lifestyle",
          "Food and beverages",
          "Electronic accessories",
          "Health and beauty",
          "Sports and travel",
          "Food and beverages",
          "Health and beauty",
          "Sports and travel",
          "Sports and travel",
          "Electronic accessories",
          "Health and beauty",
          "Electronic accessories",
          "Electronic accessories",
          "Health and beauty",
          "Sports and travel",
          "Fashion accessories",
          "Health and beauty",
          "Electronic accessories",
          "Fashion accessories",
          "Health and beauty",
          "Home and lifestyle",
          "Sports and travel",
          "Fashion accessories",
          "Health and beauty",
          "Electronic accessories",
          "Food and beverages",
          "Health and beauty",
          "Food and beverages",
          "Electronic accessories",
          "Sports and travel",
          "Fashion accessories",
          "Electronic accessories",
          "Electronic accessories",
          "Health and beauty",
          "Health and beauty",
          "Fashion accessories",
          "Fashion accessories",
          "Sports and travel",
          "Electronic accessories",
          "Fashion accessories",
          "Electronic accessories",
          "Fashion accessories",
          "Electronic accessories",
          "Electronic accessories",
          "Fashion accessories",
          "Health and beauty",
          "Food and beverages",
          "Health and beauty",
          "Sports and travel",
          "Health and beauty",
          "Sports and travel",
          "Food and beverages",
          "Sports and travel",
          "Food and beverages",
          "Fashion accessories",
          "Sports and travel",
          "Home and lifestyle",
          "Home and lifestyle",
          "Fashion accessories",
          "Electronic accessories",
          "Sports and travel",
          "Sports and travel",
          "Food and beverages",
          "Sports and travel",
          "Electronic accessories",
          "Electronic accessories",
          "Health and beauty",
          "Fashion accessories",
          "Health and beauty",
          "Food and beverages",
          "Home and lifestyle",
          "Food and beverages",
          "Health and beauty",
          "Fashion accessories",
          "Sports and travel",
          "Home and lifestyle",
          "Sports and travel",
          "Sports and travel",
          "Home and lifestyle",
          "Health and beauty",
          "Home and lifestyle",
          "Food and beverages",
          "Fashion accessories",
          "Health and beauty",
          "Health and beauty",
          "Electronic accessories",
          "Fashion accessories",
          "Home and lifestyle",
          "Health and beauty",
          "Home and lifestyle",
          "Food and beverages",
          "Electronic accessories",
          "Fashion accessories",
          "Electronic accessories",
          "Electronic accessories",
          "Food and beverages",
          "Home and lifestyle",
          "Home and lifestyle",
          "Electronic accessories",
          "Home and lifestyle",
          "Fashion accessories",
          "Fashion accessories",
          "Food and beverages",
          "Food and beverages",
          "Health and beauty",
          "Health and beauty",
          "Electronic accessories",
          "Health and beauty",
          "Electronic accessories",
          "Health and beauty",
          "Electronic accessories",
          "Fashion accessories",
          "Health and beauty",
          "Food and beverages",
          "Home and lifestyle"
         ],
         "xaxis": "x",
         "y": [
          46.33,
          58.22,
          86.31,
          85.39,
          25.51,
          43.19,
          72.61,
          54.67,
          86.04,
          87.98,
          33.2,
          34.56,
          88.63,
          33.52,
          24.89,
          94.13,
          78.07,
          83.78,
          96.58,
          62.62,
          30.12,
          56.11,
          15.37,
          56.69,
          18.93,
          91.4,
          15.43,
          16.16,
          44.34,
          89.6,
          30.61,
          55.73,
          15.81,
          75.74,
          15.87,
          78.77,
          89.48,
          62.12,
          74.67,
          49.04,
          19.25,
          48.91,
          76.52,
          49.38,
          42.47,
          64.36,
          89.75,
          97.16,
          87.87,
          52.75,
          82.7,
          48.71,
          78.55,
          58.26,
          30.35,
          88.67,
          27.38,
          62.13,
          81.97,
          58.07,
          21.94,
          51.36,
          53.44,
          57.12,
          99.96,
          63.91,
          87.45,
          90.22,
          51.91,
          72.5,
          90.5,
          66.14,
          71.86,
          32.46,
          34.56,
          83.24,
          92.29,
          72.17,
          50.28,
          97.22,
          93.39,
          63.69,
          45.79,
          76.4,
          39.9,
          42.57,
          95.58,
          98.98,
          51.28,
          69.52,
          70.01,
          80.05,
          20.85,
          52.89,
          19.79,
          33.84,
          22.17,
          73.88,
          86.8,
          64.26,
          38.47,
          15.5,
          34.31,
          18.08,
          46.47,
          74.07,
          25.55,
          32.71,
          43.7,
          41.5,
          61.41,
          25.9,
          17.77,
          26.23,
          92.36,
          46.42,
          18.28,
          94.87,
          45.35,
          62.08,
          11.81,
          43.25,
          69.37,
          37.06,
          73.82,
          51.94,
          17.41,
          89.69,
          24.94,
          59.77,
          93.2,
          62.65,
          93.87,
          47.59,
          17.94,
          77.72,
          73.06,
          46.55,
          35.19,
          23.75,
          58.9,
          32.62,
          66.35,
          25.91,
          32.25,
          65.94,
          54.45,
          35.47,
          70.74,
          47.97,
          70.99,
          44.02,
          37,
          99.83,
          66.68,
          74.86,
          40.3,
          27.85,
          18.11,
          28.84,
          78.38,
          60.01,
          99.82,
          39.01,
          48.61,
          72.2,
          79.93,
          69.33,
          99.37,
          74.79,
          44.07,
          15.26,
          21.52,
          97.74,
          99.78,
          94.26,
          51.13,
          36.36,
          22.02,
          32.9,
          77.02,
          23.48,
          14.7,
          76.4,
          48.09,
          44.65,
          71.95,
          26.02,
          51.69,
          27,
          27.5,
          74.97,
          80.96,
          99.79,
          73.22,
          65.94,
          21.5,
          42.08,
          95.49,
          96.98,
          82.33,
          75.82,
          46.77,
          18.22,
          76.82,
          13.59,
          19.24,
          46.22,
          13.98,
          67.26,
          13.79,
          21.87,
          20.97,
          25.84,
          50.93,
          96.11,
          25.42,
          16.28,
          40.61,
          53.17,
          67.27,
          69.08,
          43.27,
          95.54,
          99.24,
          82.93,
          33.99,
          17.04,
          17.44,
          12.78,
          27.66,
          45.74,
          22.01,
          25,
          20.77,
          79.39,
          35.89,
          40.52,
          51.34,
          37.02,
          21.58,
          43.13,
          72.57,
          65.18,
          84.07,
          34.37,
          38.6,
          65.97,
          37.14,
          60.38,
          37.15,
          22.96,
          99.89,
          75.92,
          73.97,
          69.4,
          88.45,
          24.18,
          61.29,
          99.55,
          58.39,
          54.86,
          39.39,
          34.73,
          71.92,
          62.87,
          81.71,
          39.21,
          59.86,
          98.09,
          25.43,
          86.68,
          22.95,
          16.67,
          97.94,
          30.68,
          75.88,
          18.77,
          38.81,
          60.95,
          57.27,
          22.21,
          19.32,
          37.48,
          41.66,
          21.58,
          89.2,
          74.51,
          99.25,
          26.67,
          10.13,
          72.39,
          85.91,
          81.31,
          60.3,
          31.77,
          69.51,
          27.22,
          63.06,
          51.71,
          59.61,
          14.62,
          46.53,
          96.8,
          14.82,
          52.2,
          83.08,
          77.56,
          31.75,
          30.61,
          57.89,
          93.22,
          80.93,
          67.45,
          72.6,
          87.91,
          98.53,
          91.35,
          60.87,
          82.58,
          53.3,
          64.19,
          78.31,
          83.77,
          99.7,
          79.91,
          66.47,
          28.95,
          52.42,
          55.67,
          12.05,
          19.36,
          70.21,
          33.63,
          24.74,
          75.66,
          72.78,
          37.32,
          60.18,
          55.45,
          17.14,
          57.74,
          56.04,
          93.4,
          33.64,
          83.77,
          58.95,
          48.5,
          21.48,
          63.56,
          72.88,
          55.04,
          48.63,
          62.19,
          69.58,
          97.5,
          32.32,
          80.47,
          71.77,
          68.98,
          15.62,
          25.7,
          80.62,
          98.7,
          11.94,
          45.38,
          44.12,
          23.34,
          55.57,
          69.74,
          97.26,
          56,
          19.7,
          75.88,
          53.72,
          81.95,
          58.76,
          91.56,
          93.96,
          55.61,
          84.83,
          37.69,
          65.23,
          81.23,
          73.28,
          18.85,
          72.13,
          55.5,
          13.69,
          65.65,
          65.31,
          93.38,
          25.25,
          87.87,
          21.8,
          74.58,
          71.89,
          60.47,
          58.91,
          46.41,
          68.55,
          92.6,
          27.18,
          92.78,
          86.69,
          23.01,
          67.39,
          10.75,
          95.15,
          33.88,
          96.16,
          47.16,
          52.89,
          10.17,
          41.28,
          64.95,
          10.56,
          62.57,
          91.3,
          52.38,
          38.54,
          44.63,
          55.87,
          51.94,
          60.3,
          21.32,
          93.78,
          73.26,
          74.1,
          53.19,
          21.12,
          57.59,
          12.76,
          33.81,
          90.53,
          24.31,
          64.59,
          24.82,
          56.5,
          89.06,
          23.29,
          65.26,
          52.35,
          39.75,
          31.99,
          45.58,
          87.9,
          76.92,
          28.38,
          50.45,
          99.16,
          60.74,
          85.6,
          35.04,
          45.97,
          11.53,
          84.61,
          51.34,
          42.85,
          68.97,
          88.31,
          25.31,
          99.92,
          64.08,
          85.72,
          66.52,
          99.82,
          50.79,
          10.08,
          84.25,
          53.78,
          35.81,
          39.91,
          65.91,
          50.49,
          46.02,
          91.98,
          20.89,
          96.82,
          33.33,
          81.01,
          36.91,
          87.08,
          80.08,
          86.13,
          49.92,
          26.6,
          59.59,
          58.15,
          99.96,
          96.37,
          62,
          82.34,
          75.37,
          58.03,
          17.49,
          40.35,
          31.84,
          65.82
         ],
         "yaxis": "y"
        }
       ],
       "layout": {
        "barmode": "group",
        "legend": {
         "title": {
          "text": "Gender"
         },
         "tracegroupgap": 0
        },
        "template": {
         "data": {
          "bar": [
           {
            "error_x": {
             "color": "#2a3f5f"
            },
            "error_y": {
             "color": "#2a3f5f"
            },
            "marker": {
             "line": {
              "color": "#E5ECF6",
              "width": 0.5
             },
             "pattern": {
              "fillmode": "overlay",
              "size": 10,
              "solidity": 0.2
             }
            },
            "type": "bar"
           }
          ],
          "barpolar": [
           {
            "marker": {
             "line": {
              "color": "#E5ECF6",
              "width": 0.5
             },
             "pattern": {
              "fillmode": "overlay",
              "size": 10,
              "solidity": 0.2
             }
            },
            "type": "barpolar"
           }
          ],
          "carpet": [
           {
            "aaxis": {
             "endlinecolor": "#2a3f5f",
             "gridcolor": "white",
             "linecolor": "white",
             "minorgridcolor": "white",
             "startlinecolor": "#2a3f5f"
            },
            "baxis": {
             "endlinecolor": "#2a3f5f",
             "gridcolor": "white",
             "linecolor": "white",
             "minorgridcolor": "white",
             "startlinecolor": "#2a3f5f"
            },
            "type": "carpet"
           }
          ],
          "choropleth": [
           {
            "colorbar": {
             "outlinewidth": 0,
             "ticks": ""
            },
            "type": "choropleth"
           }
          ],
          "contour": [
           {
            "colorbar": {
             "outlinewidth": 0,
             "ticks": ""
            },
            "colorscale": [
             [
              0,
              "#0d0887"
             ],
             [
              0.1111111111111111,
              "#46039f"
             ],
             [
              0.2222222222222222,
              "#7201a8"
             ],
             [
              0.3333333333333333,
              "#9c179e"
             ],
             [
              0.4444444444444444,
              "#bd3786"
             ],
             [
              0.5555555555555556,
              "#d8576b"
             ],
             [
              0.6666666666666666,
              "#ed7953"
             ],
             [
              0.7777777777777778,
              "#fb9f3a"
             ],
             [
              0.8888888888888888,
              "#fdca26"
             ],
             [
              1,
              "#f0f921"
             ]
            ],
            "type": "contour"
           }
          ],
          "contourcarpet": [
           {
            "colorbar": {
             "outlinewidth": 0,
             "ticks": ""
            },
            "type": "contourcarpet"
           }
          ],
          "heatmap": [
           {
            "colorbar": {
             "outlinewidth": 0,
             "ticks": ""
            },
            "colorscale": [
             [
              0,
              "#0d0887"
             ],
             [
              0.1111111111111111,
              "#46039f"
             ],
             [
              0.2222222222222222,
              "#7201a8"
             ],
             [
              0.3333333333333333,
              "#9c179e"
             ],
             [
              0.4444444444444444,
              "#bd3786"
             ],
             [
              0.5555555555555556,
              "#d8576b"
             ],
             [
              0.6666666666666666,
              "#ed7953"
             ],
             [
              0.7777777777777778,
              "#fb9f3a"
             ],
             [
              0.8888888888888888,
              "#fdca26"
             ],
             [
              1,
              "#f0f921"
             ]
            ],
            "type": "heatmap"
           }
          ],
          "heatmapgl": [
           {
            "colorbar": {
             "outlinewidth": 0,
             "ticks": ""
            },
            "colorscale": [
             [
              0,
              "#0d0887"
             ],
             [
              0.1111111111111111,
              "#46039f"
             ],
             [
              0.2222222222222222,
              "#7201a8"
             ],
             [
              0.3333333333333333,
              "#9c179e"
             ],
             [
              0.4444444444444444,
              "#bd3786"
             ],
             [
              0.5555555555555556,
              "#d8576b"
             ],
             [
              0.6666666666666666,
              "#ed7953"
             ],
             [
              0.7777777777777778,
              "#fb9f3a"
             ],
             [
              0.8888888888888888,
              "#fdca26"
             ],
             [
              1,
              "#f0f921"
             ]
            ],
            "type": "heatmapgl"
           }
          ],
          "histogram": [
           {
            "marker": {
             "pattern": {
              "fillmode": "overlay",
              "size": 10,
              "solidity": 0.2
             }
            },
            "type": "histogram"
           }
          ],
          "histogram2d": [
           {
            "colorbar": {
             "outlinewidth": 0,
             "ticks": ""
            },
            "colorscale": [
             [
              0,
              "#0d0887"
             ],
             [
              0.1111111111111111,
              "#46039f"
             ],
             [
              0.2222222222222222,
              "#7201a8"
             ],
             [
              0.3333333333333333,
              "#9c179e"
             ],
             [
              0.4444444444444444,
              "#bd3786"
             ],
             [
              0.5555555555555556,
              "#d8576b"
             ],
             [
              0.6666666666666666,
              "#ed7953"
             ],
             [
              0.7777777777777778,
              "#fb9f3a"
             ],
             [
              0.8888888888888888,
              "#fdca26"
             ],
             [
              1,
              "#f0f921"
             ]
            ],
            "type": "histogram2d"
           }
          ],
          "histogram2dcontour": [
           {
            "colorbar": {
             "outlinewidth": 0,
             "ticks": ""
            },
            "colorscale": [
             [
              0,
              "#0d0887"
             ],
             [
              0.1111111111111111,
              "#46039f"
             ],
             [
              0.2222222222222222,
              "#7201a8"
             ],
             [
              0.3333333333333333,
              "#9c179e"
             ],
             [
              0.4444444444444444,
              "#bd3786"
             ],
             [
              0.5555555555555556,
              "#d8576b"
             ],
             [
              0.6666666666666666,
              "#ed7953"
             ],
             [
              0.7777777777777778,
              "#fb9f3a"
             ],
             [
              0.8888888888888888,
              "#fdca26"
             ],
             [
              1,
              "#f0f921"
             ]
            ],
            "type": "histogram2dcontour"
           }
          ],
          "mesh3d": [
           {
            "colorbar": {
             "outlinewidth": 0,
             "ticks": ""
            },
            "type": "mesh3d"
           }
          ],
          "parcoords": [
           {
            "line": {
             "colorbar": {
              "outlinewidth": 0,
              "ticks": ""
             }
            },
            "type": "parcoords"
           }
          ],
          "pie": [
           {
            "automargin": true,
            "type": "pie"
           }
          ],
          "scatter": [
           {
            "marker": {
             "colorbar": {
              "outlinewidth": 0,
              "ticks": ""
             }
            },
            "type": "scatter"
           }
          ],
          "scatter3d": [
           {
            "line": {
             "colorbar": {
              "outlinewidth": 0,
              "ticks": ""
             }
            },
            "marker": {
             "colorbar": {
              "outlinewidth": 0,
              "ticks": ""
             }
            },
            "type": "scatter3d"
           }
          ],
          "scattercarpet": [
           {
            "marker": {
             "colorbar": {
              "outlinewidth": 0,
              "ticks": ""
             }
            },
            "type": "scattercarpet"
           }
          ],
          "scattergeo": [
           {
            "marker": {
             "colorbar": {
              "outlinewidth": 0,
              "ticks": ""
             }
            },
            "type": "scattergeo"
           }
          ],
          "scattergl": [
           {
            "marker": {
             "colorbar": {
              "outlinewidth": 0,
              "ticks": ""
             }
            },
            "type": "scattergl"
           }
          ],
          "scattermapbox": [
           {
            "marker": {
             "colorbar": {
              "outlinewidth": 0,
              "ticks": ""
             }
            },
            "type": "scattermapbox"
           }
          ],
          "scatterpolar": [
           {
            "marker": {
             "colorbar": {
              "outlinewidth": 0,
              "ticks": ""
             }
            },
            "type": "scatterpolar"
           }
          ],
          "scatterpolargl": [
           {
            "marker": {
             "colorbar": {
              "outlinewidth": 0,
              "ticks": ""
             }
            },
            "type": "scatterpolargl"
           }
          ],
          "scatterternary": [
           {
            "marker": {
             "colorbar": {
              "outlinewidth": 0,
              "ticks": ""
             }
            },
            "type": "scatterternary"
           }
          ],
          "surface": [
           {
            "colorbar": {
             "outlinewidth": 0,
             "ticks": ""
            },
            "colorscale": [
             [
              0,
              "#0d0887"
             ],
             [
              0.1111111111111111,
              "#46039f"
             ],
             [
              0.2222222222222222,
              "#7201a8"
             ],
             [
              0.3333333333333333,
              "#9c179e"
             ],
             [
              0.4444444444444444,
              "#bd3786"
             ],
             [
              0.5555555555555556,
              "#d8576b"
             ],
             [
              0.6666666666666666,
              "#ed7953"
             ],
             [
              0.7777777777777778,
              "#fb9f3a"
             ],
             [
              0.8888888888888888,
              "#fdca26"
             ],
             [
              1,
              "#f0f921"
             ]
            ],
            "type": "surface"
           }
          ],
          "table": [
           {
            "cells": {
             "fill": {
              "color": "#EBF0F8"
             },
             "line": {
              "color": "white"
             }
            },
            "header": {
             "fill": {
              "color": "#C8D4E3"
             },
             "line": {
              "color": "white"
             }
            },
            "type": "table"
           }
          ]
         },
         "layout": {
          "annotationdefaults": {
           "arrowcolor": "#2a3f5f",
           "arrowhead": 0,
           "arrowwidth": 1
          },
          "autotypenumbers": "strict",
          "coloraxis": {
           "colorbar": {
            "outlinewidth": 0,
            "ticks": ""
           }
          },
          "colorscale": {
           "diverging": [
            [
             0,
             "#8e0152"
            ],
            [
             0.1,
             "#c51b7d"
            ],
            [
             0.2,
             "#de77ae"
            ],
            [
             0.3,
             "#f1b6da"
            ],
            [
             0.4,
             "#fde0ef"
            ],
            [
             0.5,
             "#f7f7f7"
            ],
            [
             0.6,
             "#e6f5d0"
            ],
            [
             0.7,
             "#b8e186"
            ],
            [
             0.8,
             "#7fbc41"
            ],
            [
             0.9,
             "#4d9221"
            ],
            [
             1,
             "#276419"
            ]
           ],
           "sequential": [
            [
             0,
             "#0d0887"
            ],
            [
             0.1111111111111111,
             "#46039f"
            ],
            [
             0.2222222222222222,
             "#7201a8"
            ],
            [
             0.3333333333333333,
             "#9c179e"
            ],
            [
             0.4444444444444444,
             "#bd3786"
            ],
            [
             0.5555555555555556,
             "#d8576b"
            ],
            [
             0.6666666666666666,
             "#ed7953"
            ],
            [
             0.7777777777777778,
             "#fb9f3a"
            ],
            [
             0.8888888888888888,
             "#fdca26"
            ],
            [
             1,
             "#f0f921"
            ]
           ],
           "sequentialminus": [
            [
             0,
             "#0d0887"
            ],
            [
             0.1111111111111111,
             "#46039f"
            ],
            [
             0.2222222222222222,
             "#7201a8"
            ],
            [
             0.3333333333333333,
             "#9c179e"
            ],
            [
             0.4444444444444444,
             "#bd3786"
            ],
            [
             0.5555555555555556,
             "#d8576b"
            ],
            [
             0.6666666666666666,
             "#ed7953"
            ],
            [
             0.7777777777777778,
             "#fb9f3a"
            ],
            [
             0.8888888888888888,
             "#fdca26"
            ],
            [
             1,
             "#f0f921"
            ]
           ]
          },
          "colorway": [
           "#636efa",
           "#EF553B",
           "#00cc96",
           "#ab63fa",
           "#FFA15A",
           "#19d3f3",
           "#FF6692",
           "#B6E880",
           "#FF97FF",
           "#FECB52"
          ],
          "font": {
           "color": "#2a3f5f"
          },
          "geo": {
           "bgcolor": "white",
           "lakecolor": "white",
           "landcolor": "#E5ECF6",
           "showlakes": true,
           "showland": true,
           "subunitcolor": "white"
          },
          "hoverlabel": {
           "align": "left"
          },
          "hovermode": "closest",
          "mapbox": {
           "style": "light"
          },
          "paper_bgcolor": "white",
          "plot_bgcolor": "#E5ECF6",
          "polar": {
           "angularaxis": {
            "gridcolor": "white",
            "linecolor": "white",
            "ticks": ""
           },
           "bgcolor": "#E5ECF6",
           "radialaxis": {
            "gridcolor": "white",
            "linecolor": "white",
            "ticks": ""
           }
          },
          "scene": {
           "xaxis": {
            "backgroundcolor": "#E5ECF6",
            "gridcolor": "white",
            "gridwidth": 2,
            "linecolor": "white",
            "showbackground": true,
            "ticks": "",
            "zerolinecolor": "white"
           },
           "yaxis": {
            "backgroundcolor": "#E5ECF6",
            "gridcolor": "white",
            "gridwidth": 2,
            "linecolor": "white",
            "showbackground": true,
            "ticks": "",
            "zerolinecolor": "white"
           },
           "zaxis": {
            "backgroundcolor": "#E5ECF6",
            "gridcolor": "white",
            "gridwidth": 2,
            "linecolor": "white",
            "showbackground": true,
            "ticks": "",
            "zerolinecolor": "white"
           }
          },
          "shapedefaults": {
           "line": {
            "color": "#2a3f5f"
           }
          },
          "ternary": {
           "aaxis": {
            "gridcolor": "white",
            "linecolor": "white",
            "ticks": ""
           },
           "baxis": {
            "gridcolor": "white",
            "linecolor": "white",
            "ticks": ""
           },
           "bgcolor": "#E5ECF6",
           "caxis": {
            "gridcolor": "white",
            "linecolor": "white",
            "ticks": ""
           }
          },
          "title": {
           "x": 0.05
          },
          "xaxis": {
           "automargin": true,
           "gridcolor": "white",
           "linecolor": "white",
           "ticks": "",
           "title": {
            "standoff": 15
           },
           "zerolinecolor": "white",
           "zerolinewidth": 2
          },
          "yaxis": {
           "automargin": true,
           "gridcolor": "white",
           "linecolor": "white",
           "ticks": "",
           "title": {
            "standoff": 15
           },
           "zerolinecolor": "white",
           "zerolinewidth": 2
          }
         }
        },
        "title": {
         "text": "Tipe Barang yang dibeli berdasarkan Jenis Kelamin"
        },
        "uniformtext": {
         "minsize": 8
        },
        "xaxis": {
         "anchor": "y",
         "domain": [
          0,
          1
         ],
         "tickangle": -45,
         "title": {
          "text": "Product line"
         }
        },
        "yaxis": {
         "anchor": "x",
         "domain": [
          0,
          1
         ],
         "title": {
          "text": "Unit price"
         }
        }
       }
      }
     },
     "metadata": {},
     "output_type": "display_data"
    }
   ],
   "source": [
    "fig = px.bar(df,x='Product line',y='Unit price',color='Gender',barmode='group',title='Tipe Barang yang dibeli berdasarkan Jenis Kelamin')\n",
    "fig.update_layout(uniformtext_minsize=8 , xaxis_tickangle=-45)"
   ]
  },
  {
   "cell_type": "code",
   "execution_count": 9,
   "metadata": {},
   "outputs": [
    {
     "data": {
      "application/vnd.plotly.v1+json": {
       "config": {
        "plotlyServerURL": "https://plot.ly"
       },
       "data": [
        {
         "alignmentgroup": "True",
         "bingroup": "x",
         "hovertemplate": "Payment=%{x}<br>count=%{y}<extra></extra>",
         "legendgroup": "",
         "marker": {
          "color": "#636efa",
          "pattern": {
           "shape": ""
          }
         },
         "name": "",
         "offsetgroup": "",
         "orientation": "v",
         "showlegend": false,
         "type": "histogram",
         "x": [
          "Ewallet",
          "Cash",
          "Credit card",
          "Ewallet",
          "Ewallet",
          "Ewallet",
          "Ewallet",
          "Ewallet",
          "Credit card",
          "Credit card",
          "Ewallet",
          "Cash",
          "Ewallet",
          "Ewallet",
          "Cash",
          "Cash",
          "Credit card",
          "Credit card",
          "Credit card",
          "Ewallet",
          "Ewallet",
          "Ewallet",
          "Credit card",
          "Ewallet",
          "Ewallet",
          "Credit card",
          "Cash",
          "Credit card",
          "Cash",
          "Cash",
          "Credit card",
          "Cash",
          "Cash",
          "Credit card",
          "Ewallet",
          "Ewallet",
          "Ewallet",
          "Ewallet",
          "Ewallet",
          "Cash",
          "Ewallet",
          "Cash",
          "Cash",
          "Cash",
          "Cash",
          "Cash",
          "Credit card",
          "Ewallet",
          "Credit card",
          "Ewallet",
          "Cash",
          "Cash",
          "Ewallet",
          "Credit card",
          "Ewallet",
          "Cash",
          "Cash",
          "Ewallet",
          "Cash",
          "Cash",
          "Credit card",
          "Ewallet",
          "Ewallet",
          "Credit card",
          "Cash",
          "Cash",
          "Ewallet",
          "Ewallet",
          "Cash",
          "Cash",
          "Credit card",
          "Cash",
          "Ewallet",
          "Cash",
          "Ewallet",
          "Credit card",
          "Credit card",
          "Credit card",
          "Ewallet",
          "Cash",
          "Credit card",
          "Ewallet",
          "Ewallet",
          "Credit card",
          "Cash",
          "Ewallet",
          "Cash",
          "Credit card",
          "Cash",
          "Cash",
          "Cash",
          "Ewallet",
          "Ewallet",
          "Credit card",
          "Credit card",
          "Ewallet",
          "Ewallet",
          "Cash",
          "Ewallet",
          "Cash",
          "Cash",
          "Cash",
          "Cash",
          "Cash",
          "Cash",
          "Ewallet",
          "Credit card",
          "Cash",
          "Cash",
          "Cash",
          "Ewallet",
          "Credit card",
          "Cash",
          "Ewallet",
          "Credit card",
          "Credit card",
          "Ewallet",
          "Ewallet",
          "Ewallet",
          "Ewallet",
          "Credit card",
          "Credit card",
          "Credit card",
          "Credit card",
          "Ewallet",
          "Credit card",
          "Cash",
          "Credit card",
          "Ewallet",
          "Ewallet",
          "Cash",
          "Cash",
          "Cash",
          "Credit card",
          "Ewallet",
          "Cash",
          "Credit card",
          "Cash",
          "Cash",
          "Ewallet",
          "Credit card",
          "Cash",
          "Cash",
          "Credit card",
          "Ewallet",
          "Credit card",
          "Ewallet",
          "Credit card",
          "Credit card",
          "Credit card",
          "Credit card",
          "Credit card",
          "Credit card",
          "Ewallet",
          "Cash",
          "Credit card",
          "Cash",
          "Ewallet",
          "Ewallet",
          "Ewallet",
          "Credit card",
          "Cash",
          "Credit card",
          "Ewallet",
          "Credit card",
          "Ewallet",
          "Cash",
          "Credit card",
          "Cash",
          "Credit card",
          "Ewallet",
          "Credit card",
          "Cash",
          "Credit card",
          "Ewallet",
          "Ewallet",
          "Credit card",
          "Credit card",
          "Ewallet",
          "Ewallet",
          "Cash",
          "Cash",
          "Ewallet",
          "Ewallet",
          "Credit card",
          "Ewallet",
          "Ewallet",
          "Cash",
          "Ewallet",
          "Credit card",
          "Credit card",
          "Ewallet",
          "Cash",
          "Ewallet",
          "Credit card",
          "Cash",
          "Cash",
          "Ewallet",
          "Credit card",
          "Credit card",
          "Credit card",
          "Cash",
          "Cash",
          "Ewallet",
          "Credit card",
          "Ewallet",
          "Credit card",
          "Ewallet",
          "Ewallet",
          "Credit card",
          "Ewallet",
          "Cash",
          "Ewallet",
          "Credit card",
          "Cash",
          "Credit card",
          "Cash",
          "Cash",
          "Ewallet",
          "Credit card",
          "Ewallet",
          "Ewallet",
          "Cash",
          "Cash",
          "Cash",
          "Credit card",
          "Ewallet",
          "Ewallet",
          "Cash",
          "Ewallet",
          "Cash",
          "Credit card",
          "Cash",
          "Cash",
          "Ewallet",
          "Ewallet",
          "Credit card",
          "Credit card",
          "Cash",
          "Ewallet",
          "Credit card",
          "Credit card",
          "Credit card",
          "Cash",
          "Credit card",
          "Cash",
          "Cash",
          "Ewallet",
          "Credit card",
          "Credit card",
          "Ewallet",
          "Credit card",
          "Credit card",
          "Cash",
          "Cash",
          "Cash",
          "Credit card",
          "Ewallet",
          "Ewallet",
          "Credit card",
          "Ewallet",
          "Ewallet",
          "Cash",
          "Cash",
          "Ewallet",
          "Credit card",
          "Credit card",
          "Cash",
          "Credit card",
          "Ewallet",
          "Ewallet",
          "Cash",
          "Credit card",
          "Cash",
          "Ewallet",
          "Cash",
          "Cash",
          "Ewallet",
          "Cash",
          "Credit card",
          "Credit card",
          "Credit card",
          "Cash",
          "Ewallet",
          "Cash",
          "Cash",
          "Cash",
          "Cash",
          "Credit card",
          "Cash",
          "Credit card",
          "Ewallet",
          "Cash",
          "Cash",
          "Ewallet",
          "Cash",
          "Cash",
          "Ewallet",
          "Cash",
          "Cash",
          "Credit card",
          "Credit card",
          "Cash",
          "Credit card",
          "Cash",
          "Ewallet",
          "Cash",
          "Cash",
          "Ewallet",
          "Cash",
          "Cash",
          "Ewallet",
          "Credit card",
          "Cash",
          "Cash",
          "Cash",
          "Cash",
          "Cash",
          "Credit card",
          "Ewallet",
          "Cash",
          "Cash",
          "Ewallet",
          "Cash",
          "Credit card",
          "Ewallet",
          "Cash",
          "Cash",
          "Credit card",
          "Cash",
          "Cash",
          "Credit card",
          "Cash",
          "Credit card",
          "Ewallet",
          "Credit card",
          "Ewallet",
          "Cash",
          "Credit card",
          "Credit card",
          "Credit card",
          "Ewallet",
          "Cash",
          "Ewallet",
          "Cash",
          "Ewallet",
          "Cash",
          "Cash",
          "Cash",
          "Credit card",
          "Credit card",
          "Cash",
          "Credit card",
          "Cash",
          "Cash",
          "Credit card",
          "Credit card",
          "Cash",
          "Ewallet",
          "Cash",
          "Credit card",
          "Cash",
          "Ewallet",
          "Cash",
          "Cash",
          "Cash",
          "Cash",
          "Cash",
          "Cash",
          "Credit card",
          "Cash",
          "Credit card",
          "Ewallet",
          "Cash",
          "Credit card",
          "Ewallet",
          "Credit card",
          "Ewallet",
          "Ewallet",
          "Credit card",
          "Credit card",
          "Cash",
          "Cash",
          "Ewallet",
          "Ewallet",
          "Cash",
          "Cash",
          "Credit card",
          "Ewallet",
          "Credit card",
          "Cash",
          "Cash",
          "Ewallet",
          "Credit card",
          "Ewallet",
          "Ewallet",
          "Ewallet",
          "Cash",
          "Credit card",
          "Cash",
          "Credit card",
          "Credit card",
          "Ewallet",
          "Ewallet",
          "Ewallet",
          "Credit card",
          "Credit card",
          "Cash",
          "Ewallet",
          "Ewallet",
          "Cash",
          "Ewallet",
          "Cash",
          "Ewallet",
          "Ewallet",
          "Ewallet",
          "Credit card",
          "Ewallet",
          "Ewallet",
          "Cash",
          "Ewallet",
          "Cash",
          "Credit card",
          "Credit card",
          "Cash",
          "Cash",
          "Cash",
          "Credit card",
          "Cash",
          "Ewallet",
          "Credit card",
          "Ewallet",
          "Ewallet",
          "Credit card",
          "Credit card",
          "Ewallet",
          "Ewallet",
          "Credit card",
          "Ewallet",
          "Credit card",
          "Cash",
          "Credit card",
          "Credit card",
          "Ewallet",
          "Cash",
          "Credit card",
          "Credit card",
          "Credit card",
          "Credit card",
          "Credit card",
          "Cash",
          "Cash",
          "Ewallet",
          "Ewallet",
          "Cash",
          "Cash",
          "Credit card",
          "Cash",
          "Cash",
          "Credit card",
          "Cash",
          "Credit card",
          "Cash",
          "Cash",
          "Credit card",
          "Credit card",
          "Credit card",
          "Cash",
          "Ewallet",
          "Cash",
          "Ewallet",
          "Cash",
          "Credit card",
          "Cash",
          "Cash",
          "Credit card",
          "Credit card",
          "Ewallet",
          "Ewallet",
          "Ewallet",
          "Cash",
          "Cash",
          "Ewallet",
          "Cash",
          "Credit card",
          "Ewallet",
          "Cash",
          "Ewallet",
          "Cash",
          "Ewallet",
          "Ewallet",
          "Credit card",
          "Ewallet",
          "Credit card",
          "Ewallet",
          "Cash",
          "Cash",
          "Cash",
          "Cash",
          "Cash",
          "Credit card",
          "Ewallet",
          "Ewallet",
          "Cash",
          "Credit card",
          "Ewallet",
          "Cash",
          "Credit card",
          "Cash",
          "Credit card",
          "Credit card",
          "Ewallet",
          "Ewallet",
          "Cash",
          "Credit card",
          "Ewallet",
          "Ewallet",
          "Credit card",
          "Ewallet",
          "Credit card",
          "Credit card",
          "Cash",
          "Credit card",
          "Cash",
          "Credit card",
          "Ewallet",
          "Credit card",
          "Ewallet",
          "Credit card",
          "Cash",
          "Ewallet",
          "Credit card",
          "Ewallet",
          "Ewallet",
          "Ewallet",
          "Ewallet",
          "Credit card",
          "Ewallet",
          "Credit card",
          "Ewallet",
          "Ewallet",
          "Credit card",
          "Credit card",
          "Credit card",
          "Credit card",
          "Ewallet",
          "Ewallet",
          "Credit card",
          "Cash",
          "Cash",
          "Ewallet",
          "Cash",
          "Cash",
          "Credit card",
          "Cash",
          "Credit card",
          "Cash",
          "Ewallet",
          "Ewallet",
          "Ewallet",
          "Cash",
          "Credit card",
          "Ewallet",
          "Ewallet",
          "Cash",
          "Credit card",
          "Credit card",
          "Cash",
          "Credit card",
          "Ewallet",
          "Credit card",
          "Cash",
          "Ewallet",
          "Credit card",
          "Credit card",
          "Ewallet",
          "Cash",
          "Ewallet",
          "Cash",
          "Ewallet",
          "Cash",
          "Cash",
          "Credit card",
          "Credit card",
          "Ewallet",
          "Credit card",
          "Cash",
          "Ewallet",
          "Cash",
          "Cash",
          "Credit card",
          "Ewallet",
          "Cash",
          "Ewallet",
          "Cash",
          "Credit card",
          "Credit card",
          "Ewallet",
          "Cash",
          "Ewallet",
          "Ewallet",
          "Credit card",
          "Ewallet",
          "Ewallet",
          "Cash",
          "Cash",
          "Ewallet",
          "Credit card",
          "Ewallet",
          "Ewallet",
          "Credit card",
          "Cash",
          "Cash",
          "Credit card",
          "Ewallet",
          "Ewallet",
          "Cash",
          "Ewallet",
          "Credit card",
          "Ewallet",
          "Credit card",
          "Cash",
          "Credit card",
          "Credit card",
          "Cash",
          "Cash",
          "Ewallet",
          "Cash",
          "Ewallet",
          "Credit card",
          "Credit card",
          "Ewallet",
          "Credit card",
          "Ewallet",
          "Credit card",
          "Credit card",
          "Credit card",
          "Cash",
          "Cash",
          "Ewallet",
          "Ewallet",
          "Ewallet",
          "Ewallet",
          "Credit card",
          "Ewallet",
          "Ewallet",
          "Cash",
          "Cash",
          "Cash",
          "Cash",
          "Ewallet",
          "Cash",
          "Cash",
          "Ewallet",
          "Credit card",
          "Credit card",
          "Credit card",
          "Ewallet",
          "Cash",
          "Credit card",
          "Cash",
          "Credit card",
          "Credit card",
          "Credit card",
          "Cash",
          "Ewallet",
          "Ewallet",
          "Ewallet",
          "Ewallet",
          "Credit card",
          "Ewallet",
          "Cash",
          "Ewallet",
          "Credit card",
          "Credit card",
          "Cash",
          "Credit card",
          "Cash",
          "Ewallet",
          "Ewallet",
          "Cash",
          "Credit card",
          "Ewallet",
          "Ewallet",
          "Ewallet",
          "Credit card",
          "Credit card",
          "Cash",
          "Cash",
          "Cash",
          "Cash",
          "Ewallet",
          "Cash",
          "Cash",
          "Cash",
          "Cash",
          "Ewallet",
          "Ewallet",
          "Credit card",
          "Ewallet",
          "Ewallet",
          "Credit card",
          "Credit card",
          "Cash",
          "Cash",
          "Cash",
          "Ewallet",
          "Cash",
          "Ewallet",
          "Ewallet",
          "Cash",
          "Ewallet",
          "Ewallet",
          "Ewallet",
          "Ewallet",
          "Credit card",
          "Ewallet",
          "Credit card",
          "Credit card",
          "Credit card",
          "Cash",
          "Cash",
          "Credit card",
          "Cash",
          "Ewallet",
          "Cash",
          "Credit card",
          "Credit card",
          "Ewallet",
          "Cash",
          "Credit card",
          "Ewallet",
          "Ewallet",
          "Ewallet",
          "Ewallet",
          "Credit card",
          "Credit card",
          "Ewallet",
          "Ewallet",
          "Cash",
          "Cash",
          "Ewallet",
          "Ewallet",
          "Ewallet",
          "Credit card",
          "Cash",
          "Credit card",
          "Credit card",
          "Credit card",
          "Cash",
          "Ewallet",
          "Credit card",
          "Ewallet",
          "Ewallet",
          "Ewallet",
          "Credit card",
          "Ewallet",
          "Cash",
          "Ewallet",
          "Ewallet",
          "Credit card",
          "Credit card",
          "Ewallet",
          "Ewallet",
          "Credit card",
          "Ewallet",
          "Credit card",
          "Cash",
          "Cash",
          "Cash",
          "Ewallet",
          "Credit card",
          "Ewallet",
          "Credit card",
          "Cash",
          "Credit card",
          "Credit card",
          "Cash",
          "Cash",
          "Ewallet",
          "Cash",
          "Ewallet",
          "Credit card",
          "Cash",
          "Ewallet",
          "Credit card",
          "Ewallet",
          "Credit card",
          "Credit card",
          "Ewallet",
          "Credit card",
          "Credit card",
          "Credit card",
          "Credit card",
          "Credit card",
          "Ewallet",
          "Cash",
          "Cash",
          "Credit card",
          "Ewallet",
          "Ewallet",
          "Ewallet",
          "Ewallet",
          "Cash",
          "Cash",
          "Cash",
          "Credit card",
          "Cash",
          "Cash",
          "Ewallet",
          "Ewallet",
          "Credit card",
          "Credit card",
          "Cash",
          "Cash",
          "Ewallet",
          "Cash",
          "Ewallet",
          "Credit card",
          "Credit card",
          "Ewallet",
          "Credit card",
          "Cash",
          "Cash",
          "Credit card",
          "Credit card",
          "Credit card",
          "Credit card",
          "Cash",
          "Credit card",
          "Cash",
          "Cash",
          "Cash",
          "Ewallet",
          "Ewallet",
          "Cash",
          "Ewallet",
          "Credit card",
          "Cash",
          "Ewallet",
          "Cash",
          "Cash",
          "Credit card",
          "Credit card",
          "Cash",
          "Credit card",
          "Ewallet",
          "Credit card",
          "Cash",
          "Cash",
          "Cash",
          "Ewallet",
          "Ewallet",
          "Ewallet",
          "Ewallet",
          "Cash",
          "Cash",
          "Cash",
          "Cash",
          "Cash",
          "Ewallet",
          "Ewallet",
          "Credit card",
          "Cash",
          "Cash",
          "Ewallet",
          "Credit card",
          "Ewallet",
          "Credit card",
          "Ewallet",
          "Credit card",
          "Ewallet",
          "Cash",
          "Cash",
          "Credit card",
          "Ewallet",
          "Cash",
          "Cash",
          "Credit card",
          "Ewallet",
          "Ewallet",
          "Credit card",
          "Credit card",
          "Ewallet",
          "Cash",
          "Cash",
          "Ewallet",
          "Ewallet",
          "Ewallet",
          "Ewallet",
          "Cash",
          "Cash",
          "Credit card",
          "Cash",
          "Credit card",
          "Credit card",
          "Ewallet",
          "Cash",
          "Cash",
          "Ewallet",
          "Credit card",
          "Ewallet",
          "Credit card",
          "Cash",
          "Ewallet",
          "Cash",
          "Credit card",
          "Credit card",
          "Ewallet",
          "Credit card",
          "Credit card",
          "Ewallet",
          "Cash",
          "Ewallet",
          "Cash",
          "Cash",
          "Credit card",
          "Cash",
          "Ewallet",
          "Ewallet",
          "Credit card",
          "Cash",
          "Credit card",
          "Credit card",
          "Ewallet",
          "Ewallet",
          "Credit card",
          "Credit card",
          "Credit card",
          "Ewallet",
          "Ewallet",
          "Credit card",
          "Ewallet",
          "Ewallet",
          "Ewallet",
          "Ewallet",
          "Ewallet",
          "Cash",
          "Cash",
          "Ewallet",
          "Ewallet",
          "Cash",
          "Ewallet",
          "Credit card",
          "Cash",
          "Credit card",
          "Credit card",
          "Ewallet",
          "Ewallet",
          "Ewallet",
          "Ewallet",
          "Ewallet",
          "Ewallet",
          "Cash",
          "Cash",
          "Cash",
          "Cash",
          "Cash",
          "Cash",
          "Cash",
          "Cash",
          "Cash",
          "Credit card",
          "Cash",
          "Credit card",
          "Credit card",
          "Ewallet",
          "Credit card",
          "Cash",
          "Credit card",
          "Credit card",
          "Ewallet",
          "Cash",
          "Cash",
          "Cash",
          "Credit card",
          "Cash",
          "Ewallet",
          "Credit card",
          "Credit card",
          "Cash",
          "Cash",
          "Ewallet",
          "Cash",
          "Cash",
          "Ewallet",
          "Ewallet",
          "Credit card",
          "Ewallet",
          "Credit card",
          "Credit card",
          "Ewallet",
          "Ewallet",
          "Ewallet",
          "Ewallet",
          "Ewallet",
          "Ewallet",
          "Cash",
          "Cash",
          "Cash"
         ],
         "xaxis": "x",
         "yaxis": "y"
        }
       ],
       "layout": {
        "barmode": "group",
        "legend": {
         "tracegroupgap": 0
        },
        "template": {
         "data": {
          "bar": [
           {
            "error_x": {
             "color": "#2a3f5f"
            },
            "error_y": {
             "color": "#2a3f5f"
            },
            "marker": {
             "line": {
              "color": "#E5ECF6",
              "width": 0.5
             },
             "pattern": {
              "fillmode": "overlay",
              "size": 10,
              "solidity": 0.2
             }
            },
            "type": "bar"
           }
          ],
          "barpolar": [
           {
            "marker": {
             "line": {
              "color": "#E5ECF6",
              "width": 0.5
             },
             "pattern": {
              "fillmode": "overlay",
              "size": 10,
              "solidity": 0.2
             }
            },
            "type": "barpolar"
           }
          ],
          "carpet": [
           {
            "aaxis": {
             "endlinecolor": "#2a3f5f",
             "gridcolor": "white",
             "linecolor": "white",
             "minorgridcolor": "white",
             "startlinecolor": "#2a3f5f"
            },
            "baxis": {
             "endlinecolor": "#2a3f5f",
             "gridcolor": "white",
             "linecolor": "white",
             "minorgridcolor": "white",
             "startlinecolor": "#2a3f5f"
            },
            "type": "carpet"
           }
          ],
          "choropleth": [
           {
            "colorbar": {
             "outlinewidth": 0,
             "ticks": ""
            },
            "type": "choropleth"
           }
          ],
          "contour": [
           {
            "colorbar": {
             "outlinewidth": 0,
             "ticks": ""
            },
            "colorscale": [
             [
              0,
              "#0d0887"
             ],
             [
              0.1111111111111111,
              "#46039f"
             ],
             [
              0.2222222222222222,
              "#7201a8"
             ],
             [
              0.3333333333333333,
              "#9c179e"
             ],
             [
              0.4444444444444444,
              "#bd3786"
             ],
             [
              0.5555555555555556,
              "#d8576b"
             ],
             [
              0.6666666666666666,
              "#ed7953"
             ],
             [
              0.7777777777777778,
              "#fb9f3a"
             ],
             [
              0.8888888888888888,
              "#fdca26"
             ],
             [
              1,
              "#f0f921"
             ]
            ],
            "type": "contour"
           }
          ],
          "contourcarpet": [
           {
            "colorbar": {
             "outlinewidth": 0,
             "ticks": ""
            },
            "type": "contourcarpet"
           }
          ],
          "heatmap": [
           {
            "colorbar": {
             "outlinewidth": 0,
             "ticks": ""
            },
            "colorscale": [
             [
              0,
              "#0d0887"
             ],
             [
              0.1111111111111111,
              "#46039f"
             ],
             [
              0.2222222222222222,
              "#7201a8"
             ],
             [
              0.3333333333333333,
              "#9c179e"
             ],
             [
              0.4444444444444444,
              "#bd3786"
             ],
             [
              0.5555555555555556,
              "#d8576b"
             ],
             [
              0.6666666666666666,
              "#ed7953"
             ],
             [
              0.7777777777777778,
              "#fb9f3a"
             ],
             [
              0.8888888888888888,
              "#fdca26"
             ],
             [
              1,
              "#f0f921"
             ]
            ],
            "type": "heatmap"
           }
          ],
          "heatmapgl": [
           {
            "colorbar": {
             "outlinewidth": 0,
             "ticks": ""
            },
            "colorscale": [
             [
              0,
              "#0d0887"
             ],
             [
              0.1111111111111111,
              "#46039f"
             ],
             [
              0.2222222222222222,
              "#7201a8"
             ],
             [
              0.3333333333333333,
              "#9c179e"
             ],
             [
              0.4444444444444444,
              "#bd3786"
             ],
             [
              0.5555555555555556,
              "#d8576b"
             ],
             [
              0.6666666666666666,
              "#ed7953"
             ],
             [
              0.7777777777777778,
              "#fb9f3a"
             ],
             [
              0.8888888888888888,
              "#fdca26"
             ],
             [
              1,
              "#f0f921"
             ]
            ],
            "type": "heatmapgl"
           }
          ],
          "histogram": [
           {
            "marker": {
             "pattern": {
              "fillmode": "overlay",
              "size": 10,
              "solidity": 0.2
             }
            },
            "type": "histogram"
           }
          ],
          "histogram2d": [
           {
            "colorbar": {
             "outlinewidth": 0,
             "ticks": ""
            },
            "colorscale": [
             [
              0,
              "#0d0887"
             ],
             [
              0.1111111111111111,
              "#46039f"
             ],
             [
              0.2222222222222222,
              "#7201a8"
             ],
             [
              0.3333333333333333,
              "#9c179e"
             ],
             [
              0.4444444444444444,
              "#bd3786"
             ],
             [
              0.5555555555555556,
              "#d8576b"
             ],
             [
              0.6666666666666666,
              "#ed7953"
             ],
             [
              0.7777777777777778,
              "#fb9f3a"
             ],
             [
              0.8888888888888888,
              "#fdca26"
             ],
             [
              1,
              "#f0f921"
             ]
            ],
            "type": "histogram2d"
           }
          ],
          "histogram2dcontour": [
           {
            "colorbar": {
             "outlinewidth": 0,
             "ticks": ""
            },
            "colorscale": [
             [
              0,
              "#0d0887"
             ],
             [
              0.1111111111111111,
              "#46039f"
             ],
             [
              0.2222222222222222,
              "#7201a8"
             ],
             [
              0.3333333333333333,
              "#9c179e"
             ],
             [
              0.4444444444444444,
              "#bd3786"
             ],
             [
              0.5555555555555556,
              "#d8576b"
             ],
             [
              0.6666666666666666,
              "#ed7953"
             ],
             [
              0.7777777777777778,
              "#fb9f3a"
             ],
             [
              0.8888888888888888,
              "#fdca26"
             ],
             [
              1,
              "#f0f921"
             ]
            ],
            "type": "histogram2dcontour"
           }
          ],
          "mesh3d": [
           {
            "colorbar": {
             "outlinewidth": 0,
             "ticks": ""
            },
            "type": "mesh3d"
           }
          ],
          "parcoords": [
           {
            "line": {
             "colorbar": {
              "outlinewidth": 0,
              "ticks": ""
             }
            },
            "type": "parcoords"
           }
          ],
          "pie": [
           {
            "automargin": true,
            "type": "pie"
           }
          ],
          "scatter": [
           {
            "marker": {
             "colorbar": {
              "outlinewidth": 0,
              "ticks": ""
             }
            },
            "type": "scatter"
           }
          ],
          "scatter3d": [
           {
            "line": {
             "colorbar": {
              "outlinewidth": 0,
              "ticks": ""
             }
            },
            "marker": {
             "colorbar": {
              "outlinewidth": 0,
              "ticks": ""
             }
            },
            "type": "scatter3d"
           }
          ],
          "scattercarpet": [
           {
            "marker": {
             "colorbar": {
              "outlinewidth": 0,
              "ticks": ""
             }
            },
            "type": "scattercarpet"
           }
          ],
          "scattergeo": [
           {
            "marker": {
             "colorbar": {
              "outlinewidth": 0,
              "ticks": ""
             }
            },
            "type": "scattergeo"
           }
          ],
          "scattergl": [
           {
            "marker": {
             "colorbar": {
              "outlinewidth": 0,
              "ticks": ""
             }
            },
            "type": "scattergl"
           }
          ],
          "scattermapbox": [
           {
            "marker": {
             "colorbar": {
              "outlinewidth": 0,
              "ticks": ""
             }
            },
            "type": "scattermapbox"
           }
          ],
          "scatterpolar": [
           {
            "marker": {
             "colorbar": {
              "outlinewidth": 0,
              "ticks": ""
             }
            },
            "type": "scatterpolar"
           }
          ],
          "scatterpolargl": [
           {
            "marker": {
             "colorbar": {
              "outlinewidth": 0,
              "ticks": ""
             }
            },
            "type": "scatterpolargl"
           }
          ],
          "scatterternary": [
           {
            "marker": {
             "colorbar": {
              "outlinewidth": 0,
              "ticks": ""
             }
            },
            "type": "scatterternary"
           }
          ],
          "surface": [
           {
            "colorbar": {
             "outlinewidth": 0,
             "ticks": ""
            },
            "colorscale": [
             [
              0,
              "#0d0887"
             ],
             [
              0.1111111111111111,
              "#46039f"
             ],
             [
              0.2222222222222222,
              "#7201a8"
             ],
             [
              0.3333333333333333,
              "#9c179e"
             ],
             [
              0.4444444444444444,
              "#bd3786"
             ],
             [
              0.5555555555555556,
              "#d8576b"
             ],
             [
              0.6666666666666666,
              "#ed7953"
             ],
             [
              0.7777777777777778,
              "#fb9f3a"
             ],
             [
              0.8888888888888888,
              "#fdca26"
             ],
             [
              1,
              "#f0f921"
             ]
            ],
            "type": "surface"
           }
          ],
          "table": [
           {
            "cells": {
             "fill": {
              "color": "#EBF0F8"
             },
             "line": {
              "color": "white"
             }
            },
            "header": {
             "fill": {
              "color": "#C8D4E3"
             },
             "line": {
              "color": "white"
             }
            },
            "type": "table"
           }
          ]
         },
         "layout": {
          "annotationdefaults": {
           "arrowcolor": "#2a3f5f",
           "arrowhead": 0,
           "arrowwidth": 1
          },
          "autotypenumbers": "strict",
          "coloraxis": {
           "colorbar": {
            "outlinewidth": 0,
            "ticks": ""
           }
          },
          "colorscale": {
           "diverging": [
            [
             0,
             "#8e0152"
            ],
            [
             0.1,
             "#c51b7d"
            ],
            [
             0.2,
             "#de77ae"
            ],
            [
             0.3,
             "#f1b6da"
            ],
            [
             0.4,
             "#fde0ef"
            ],
            [
             0.5,
             "#f7f7f7"
            ],
            [
             0.6,
             "#e6f5d0"
            ],
            [
             0.7,
             "#b8e186"
            ],
            [
             0.8,
             "#7fbc41"
            ],
            [
             0.9,
             "#4d9221"
            ],
            [
             1,
             "#276419"
            ]
           ],
           "sequential": [
            [
             0,
             "#0d0887"
            ],
            [
             0.1111111111111111,
             "#46039f"
            ],
            [
             0.2222222222222222,
             "#7201a8"
            ],
            [
             0.3333333333333333,
             "#9c179e"
            ],
            [
             0.4444444444444444,
             "#bd3786"
            ],
            [
             0.5555555555555556,
             "#d8576b"
            ],
            [
             0.6666666666666666,
             "#ed7953"
            ],
            [
             0.7777777777777778,
             "#fb9f3a"
            ],
            [
             0.8888888888888888,
             "#fdca26"
            ],
            [
             1,
             "#f0f921"
            ]
           ],
           "sequentialminus": [
            [
             0,
             "#0d0887"
            ],
            [
             0.1111111111111111,
             "#46039f"
            ],
            [
             0.2222222222222222,
             "#7201a8"
            ],
            [
             0.3333333333333333,
             "#9c179e"
            ],
            [
             0.4444444444444444,
             "#bd3786"
            ],
            [
             0.5555555555555556,
             "#d8576b"
            ],
            [
             0.6666666666666666,
             "#ed7953"
            ],
            [
             0.7777777777777778,
             "#fb9f3a"
            ],
            [
             0.8888888888888888,
             "#fdca26"
            ],
            [
             1,
             "#f0f921"
            ]
           ]
          },
          "colorway": [
           "#636efa",
           "#EF553B",
           "#00cc96",
           "#ab63fa",
           "#FFA15A",
           "#19d3f3",
           "#FF6692",
           "#B6E880",
           "#FF97FF",
           "#FECB52"
          ],
          "font": {
           "color": "#2a3f5f"
          },
          "geo": {
           "bgcolor": "white",
           "lakecolor": "white",
           "landcolor": "#E5ECF6",
           "showlakes": true,
           "showland": true,
           "subunitcolor": "white"
          },
          "hoverlabel": {
           "align": "left"
          },
          "hovermode": "closest",
          "mapbox": {
           "style": "light"
          },
          "paper_bgcolor": "white",
          "plot_bgcolor": "#E5ECF6",
          "polar": {
           "angularaxis": {
            "gridcolor": "white",
            "linecolor": "white",
            "ticks": ""
           },
           "bgcolor": "#E5ECF6",
           "radialaxis": {
            "gridcolor": "white",
            "linecolor": "white",
            "ticks": ""
           }
          },
          "scene": {
           "xaxis": {
            "backgroundcolor": "#E5ECF6",
            "gridcolor": "white",
            "gridwidth": 2,
            "linecolor": "white",
            "showbackground": true,
            "ticks": "",
            "zerolinecolor": "white"
           },
           "yaxis": {
            "backgroundcolor": "#E5ECF6",
            "gridcolor": "white",
            "gridwidth": 2,
            "linecolor": "white",
            "showbackground": true,
            "ticks": "",
            "zerolinecolor": "white"
           },
           "zaxis": {
            "backgroundcolor": "#E5ECF6",
            "gridcolor": "white",
            "gridwidth": 2,
            "linecolor": "white",
            "showbackground": true,
            "ticks": "",
            "zerolinecolor": "white"
           }
          },
          "shapedefaults": {
           "line": {
            "color": "#2a3f5f"
           }
          },
          "ternary": {
           "aaxis": {
            "gridcolor": "white",
            "linecolor": "white",
            "ticks": ""
           },
           "baxis": {
            "gridcolor": "white",
            "linecolor": "white",
            "ticks": ""
           },
           "bgcolor": "#E5ECF6",
           "caxis": {
            "gridcolor": "white",
            "linecolor": "white",
            "ticks": ""
           }
          },
          "title": {
           "x": 0.05
          },
          "xaxis": {
           "automargin": true,
           "gridcolor": "white",
           "linecolor": "white",
           "ticks": "",
           "title": {
            "standoff": 15
           },
           "zerolinecolor": "white",
           "zerolinewidth": 2
          },
          "yaxis": {
           "automargin": true,
           "gridcolor": "white",
           "linecolor": "white",
           "ticks": "",
           "title": {
            "standoff": 15
           },
           "zerolinecolor": "white",
           "zerolinewidth": 2
          }
         }
        },
        "title": {
         "text": "Total tipe pembayaran "
        },
        "xaxis": {
         "anchor": "y",
         "domain": [
          0,
          1
         ],
         "title": {
          "text": "Payment"
         }
        },
        "yaxis": {
         "anchor": "x",
         "domain": [
          0,
          1
         ],
         "title": {
          "text": "count"
         }
        }
       }
      }
     },
     "metadata": {},
     "output_type": "display_data"
    }
   ],
   "source": [
    "fig = px.histogram(df,x= 'Payment',barmode='group',\n",
    "                   title='Total tipe pembayaran ')\n",
    "fig"
   ]
  },
  {
   "cell_type": "code",
   "execution_count": 10,
   "metadata": {},
   "outputs": [
    {
     "data": {
      "application/vnd.plotly.v1+json": {
       "config": {
        "plotlyServerURL": "https://plot.ly"
       },
       "data": [
        {
         "alignmentgroup": "True",
         "hovertemplate": "City=%{x}<br>Date=1/5/2019<br>Total=%{y}<extra></extra>",
         "ids": [
          "A",
          "A",
          "A",
          "A",
          "A"
         ],
         "legendgroup": "Yangon",
         "marker": {
          "color": "#636efa",
          "pattern": {
           "shape": ""
          }
         },
         "name": "Yangon",
         "offsetgroup": "Yangon",
         "orientation": "v",
         "showlegend": true,
         "textposition": "auto",
         "type": "bar",
         "x": [
          "Yangon",
          "Yangon",
          "Yangon",
          "Yangon",
          "Yangon"
         ],
         "xaxis": "x",
         "y": [
          548.9715,
          263.13,
          297.108,
          225.2775,
          690.018
         ],
         "yaxis": "y"
        },
        {
         "alignmentgroup": "True",
         "hovertemplate": "City=%{x}<br>Date=1/5/2019<br>Total=%{y}<extra></extra>",
         "ids": [
          "C",
          "C",
          "C",
          "C"
         ],
         "legendgroup": "Naypyitaw",
         "marker": {
          "color": "#EF553B",
          "pattern": {
           "shape": ""
          }
         },
         "name": "Naypyitaw",
         "offsetgroup": "Naypyitaw",
         "orientation": "v",
         "showlegend": true,
         "textposition": "auto",
         "type": "bar",
         "x": [
          "Naypyitaw",
          "Naypyitaw",
          "Naypyitaw",
          "Naypyitaw"
         ],
         "xaxis": "x",
         "y": [
          172.494,
          33.495,
          239.589,
          579.8415
         ],
         "yaxis": "y"
        },
        {
         "alignmentgroup": "True",
         "hovertemplate": "City=%{x}<br>Date=1/5/2019<br>Total=%{y}<extra></extra>",
         "ids": [
          "B",
          "B",
          "B"
         ],
         "legendgroup": "Mandalay",
         "marker": {
          "color": "#00cc96",
          "pattern": {
           "shape": ""
          }
         },
         "name": "Mandalay",
         "offsetgroup": "Mandalay",
         "orientation": "v",
         "showlegend": true,
         "textposition": "auto",
         "type": "bar",
         "x": [
          "Mandalay",
          "Mandalay",
          "Mandalay"
         ],
         "xaxis": "x",
         "y": [
          334.341,
          77.658,
          74.76
         ],
         "yaxis": "y"
        }
       ],
       "frames": [
        {
         "data": [
          {
           "alignmentgroup": "True",
           "hovertemplate": "City=%{x}<br>Date=1/5/2019<br>Total=%{y}<extra></extra>",
           "ids": [
            "A",
            "A",
            "A",
            "A",
            "A"
           ],
           "legendgroup": "Yangon",
           "marker": {
            "color": "#636efa",
            "pattern": {
             "shape": ""
            }
           },
           "name": "Yangon",
           "offsetgroup": "Yangon",
           "orientation": "v",
           "showlegend": true,
           "textposition": "auto",
           "type": "bar",
           "x": [
            "Yangon",
            "Yangon",
            "Yangon",
            "Yangon",
            "Yangon"
           ],
           "xaxis": "x",
           "y": [
            548.9715,
            263.13,
            297.108,
            225.2775,
            690.018
           ],
           "yaxis": "y"
          },
          {
           "alignmentgroup": "True",
           "hovertemplate": "City=%{x}<br>Date=1/5/2019<br>Total=%{y}<extra></extra>",
           "ids": [
            "C",
            "C",
            "C",
            "C"
           ],
           "legendgroup": "Naypyitaw",
           "marker": {
            "color": "#EF553B",
            "pattern": {
             "shape": ""
            }
           },
           "name": "Naypyitaw",
           "offsetgroup": "Naypyitaw",
           "orientation": "v",
           "showlegend": true,
           "textposition": "auto",
           "type": "bar",
           "x": [
            "Naypyitaw",
            "Naypyitaw",
            "Naypyitaw",
            "Naypyitaw"
           ],
           "xaxis": "x",
           "y": [
            172.494,
            33.495,
            239.589,
            579.8415
           ],
           "yaxis": "y"
          },
          {
           "alignmentgroup": "True",
           "hovertemplate": "City=%{x}<br>Date=1/5/2019<br>Total=%{y}<extra></extra>",
           "ids": [
            "B",
            "B",
            "B"
           ],
           "legendgroup": "Mandalay",
           "marker": {
            "color": "#00cc96",
            "pattern": {
             "shape": ""
            }
           },
           "name": "Mandalay",
           "offsetgroup": "Mandalay",
           "orientation": "v",
           "showlegend": true,
           "textposition": "auto",
           "type": "bar",
           "x": [
            "Mandalay",
            "Mandalay",
            "Mandalay"
           ],
           "xaxis": "x",
           "y": [
            334.341,
            77.658,
            74.76
           ],
           "yaxis": "y"
          }
         ],
         "name": "1/5/2019"
        },
        {
         "data": [
          {
           "alignmentgroup": "True",
           "hovertemplate": "City=%{x}<br>Date=3/8/2019<br>Total=%{y}<extra></extra>",
           "ids": [
            "A",
            "A",
            "A",
            "A"
           ],
           "legendgroup": "Yangon",
           "marker": {
            "color": "#636efa",
            "pattern": {
             "shape": ""
            }
           },
           "name": "Yangon",
           "offsetgroup": "Yangon",
           "orientation": "v",
           "showlegend": true,
           "textposition": "auto",
           "type": "bar",
           "x": [
            "Yangon",
            "Yangon",
            "Yangon",
            "Yangon"
           ],
           "xaxis": "x",
           "y": [
            102.018,
            324.2925,
            951.825,
            214.137
           ],
           "yaxis": "y"
          },
          {
           "alignmentgroup": "True",
           "hovertemplate": "City=%{x}<br>Date=3/8/2019<br>Total=%{y}<extra></extra>",
           "ids": [
            "C",
            "C",
            "C",
            "C",
            "C",
            "C"
           ],
           "legendgroup": "Naypyitaw",
           "marker": {
            "color": "#EF553B",
            "pattern": {
             "shape": ""
            }
           },
           "name": "Naypyitaw",
           "offsetgroup": "Naypyitaw",
           "orientation": "v",
           "showlegend": true,
           "textposition": "auto",
           "type": "bar",
           "x": [
            "Naypyitaw",
            "Naypyitaw",
            "Naypyitaw",
            "Naypyitaw",
            "Naypyitaw",
            "Naypyitaw"
           ],
           "xaxis": "x",
           "y": [
            80.22,
            512.19,
            291.438,
            394.275,
            90.867,
            71.568
           ],
           "yaxis": "y"
          },
          {
           "alignmentgroup": "True",
           "hovertemplate": "City=%{x}<br>Date=3/8/2019<br>Total=%{y}<extra></extra>",
           "ids": [
            "B"
           ],
           "legendgroup": "Mandalay",
           "marker": {
            "color": "#00cc96",
            "pattern": {
             "shape": ""
            }
           },
           "name": "Mandalay",
           "offsetgroup": "Mandalay",
           "orientation": "v",
           "showlegend": true,
           "textposition": "auto",
           "type": "bar",
           "x": [
            "Mandalay"
           ],
           "xaxis": "x",
           "y": [
            92.5575
           ],
           "yaxis": "y"
          }
         ],
         "name": "3/8/2019"
        },
        {
         "data": [
          {
           "alignmentgroup": "True",
           "hovertemplate": "City=%{x}<br>Date=3/3/2019<br>Total=%{y}<extra></extra>",
           "ids": [
            "A",
            "A",
            "A",
            "A",
            "A"
           ],
           "legendgroup": "Yangon",
           "marker": {
            "color": "#636efa",
            "pattern": {
             "shape": ""
            }
           },
           "name": "Yangon",
           "offsetgroup": "Yangon",
           "orientation": "v",
           "showlegend": true,
           "textposition": "auto",
           "type": "bar",
           "x": [
            "Yangon",
            "Yangon",
            "Yangon",
            "Yangon",
            "Yangon"
           ],
           "xaxis": "x",
           "y": [
            340.5255,
            186.228,
            26.25,
            212.7825,
            48.7305
           ],
           "yaxis": "y"
          },
          {
           "alignmentgroup": "True",
           "hovertemplate": "City=%{x}<br>Date=3/3/2019<br>Total=%{y}<extra></extra>",
           "ids": [
            "C",
            "C",
            "C",
            "C",
            "C",
            "C"
           ],
           "legendgroup": "Naypyitaw",
           "marker": {
            "color": "#EF553B",
            "pattern": {
             "shape": ""
            }
           },
           "name": "Naypyitaw",
           "offsetgroup": "Naypyitaw",
           "orientation": "v",
           "showlegend": true,
           "textposition": "auto",
           "type": "bar",
           "x": [
            "Naypyitaw",
            "Naypyitaw",
            "Naypyitaw",
            "Naypyitaw",
            "Naypyitaw",
            "Naypyitaw"
           ],
           "xaxis": "x",
           "y": [
            860.685,
            175.14,
            272.58,
            293.139,
            369.684,
            253.68
           ],
           "yaxis": "y"
          },
          {
           "alignmentgroup": "True",
           "hovertemplate": "City=%{x}<br>Date=3/3/2019<br>Total=%{y}<extra></extra>",
           "ids": [
            "B",
            "B",
            "B"
           ],
           "legendgroup": "Mandalay",
           "marker": {
            "color": "#00cc96",
            "pattern": {
             "shape": ""
            }
           },
           "name": "Mandalay",
           "offsetgroup": "Mandalay",
           "orientation": "v",
           "showlegend": true,
           "textposition": "auto",
           "type": "bar",
           "x": [
            "Mandalay",
            "Mandalay",
            "Mandalay"
           ],
           "xaxis": "x",
           "y": [
            253.008,
            793.716,
            767.025
           ],
           "yaxis": "y"
          }
         ],
         "name": "3/3/2019"
        },
        {
         "data": [
          {
           "alignmentgroup": "True",
           "hovertemplate": "City=%{x}<br>Date=1/27/2019<br>Total=%{y}<extra></extra>",
           "ids": [
            "A",
            "A",
            "A",
            "A",
            "A",
            "A"
           ],
           "legendgroup": "Yangon",
           "marker": {
            "color": "#636efa",
            "pattern": {
             "shape": ""
            }
           },
           "name": "Yangon",
           "offsetgroup": "Yangon",
           "orientation": "v",
           "showlegend": true,
           "textposition": "auto",
           "type": "bar",
           "x": [
            "Yangon",
            "Yangon",
            "Yangon",
            "Yangon",
            "Yangon",
            "Yangon"
           ],
           "xaxis": "x",
           "y": [
            489.048,
            169.3125,
            25.263,
            398.958,
            514.773,
            76.923
           ],
           "yaxis": "y"
          },
          {
           "alignmentgroup": "True",
           "hovertemplate": "City=%{x}<br>Date=1/27/2019<br>Total=%{y}<extra></extra>",
           "ids": [
            "C",
            "C",
            "C",
            "C",
            "C",
            "C"
           ],
           "legendgroup": "Naypyitaw",
           "marker": {
            "color": "#EF553B",
            "pattern": {
             "shape": ""
            }
           },
           "name": "Naypyitaw",
           "offsetgroup": "Naypyitaw",
           "orientation": "v",
           "showlegend": true,
           "textposition": "auto",
           "type": "bar",
           "x": [
            "Naypyitaw",
            "Naypyitaw",
            "Naypyitaw",
            "Naypyitaw",
            "Naypyitaw",
            "Naypyitaw"
           ],
           "xaxis": "x",
           "y": [
            150.78,
            510.9615,
            488.985,
            568.512,
            145.74,
            178.164
           ],
           "yaxis": "y"
          },
          {
           "alignmentgroup": "True",
           "hovertemplate": "City=%{x}<br>Date=1/27/2019<br>Total=%{y}<extra></extra>",
           "ids": [
            "B",
            "B"
           ],
           "legendgroup": "Mandalay",
           "marker": {
            "color": "#00cc96",
            "pattern": {
             "shape": ""
            }
           },
           "name": "Mandalay",
           "offsetgroup": "Mandalay",
           "orientation": "v",
           "showlegend": true,
           "textposition": "auto",
           "type": "bar",
           "x": [
            "Mandalay",
            "Mandalay"
           ],
           "xaxis": "x",
           "y": [
            403.872,
            514.605
           ],
           "yaxis": "y"
          }
         ],
         "name": "1/27/2019"
        },
        {
         "data": [
          {
           "alignmentgroup": "True",
           "hovertemplate": "City=%{x}<br>Date=2/8/2019<br>Total=%{y}<extra></extra>",
           "ids": [
            "A",
            "A",
            "A"
           ],
           "legendgroup": "Yangon",
           "marker": {
            "color": "#636efa",
            "pattern": {
             "shape": ""
            }
           },
           "name": "Yangon",
           "offsetgroup": "Yangon",
           "orientation": "v",
           "showlegend": true,
           "textposition": "auto",
           "type": "bar",
           "x": [
            "Yangon",
            "Yangon",
            "Yangon"
           ],
           "xaxis": "x",
           "y": [
            634.3785,
            1039.29,
            20.685
           ],
           "yaxis": "y"
          },
          {
           "alignmentgroup": "True",
           "hovertemplate": "City=%{x}<br>Date=2/8/2019<br>Total=%{y}<extra></extra>",
           "ids": [
            "C",
            "C",
            "C"
           ],
           "legendgroup": "Naypyitaw",
           "marker": {
            "color": "#EF553B",
            "pattern": {
             "shape": ""
            }
           },
           "name": "Naypyitaw",
           "offsetgroup": "Naypyitaw",
           "orientation": "v",
           "showlegend": true,
           "textposition": "auto",
           "type": "bar",
           "x": [
            "Naypyitaw",
            "Naypyitaw",
            "Naypyitaw"
           ],
           "xaxis": "x",
           "y": [
            1020.705,
            273.0525,
            341.0925
           ],
           "yaxis": "y"
          },
          {
           "alignmentgroup": "True",
           "hovertemplate": "City=%{x}<br>Date=2/8/2019<br>Total=%{y}<extra></extra>",
           "ids": [
            "B",
            "B",
            "B",
            "B",
            "B",
            "B"
           ],
           "legendgroup": "Mandalay",
           "marker": {
            "color": "#00cc96",
            "pattern": {
             "shape": ""
            }
           },
           "name": "Mandalay",
           "offsetgroup": "Mandalay",
           "orientation": "v",
           "showlegend": true,
           "textposition": "auto",
           "type": "bar",
           "x": [
            "Mandalay",
            "Mandalay",
            "Mandalay",
            "Mandalay",
            "Mandalay",
            "Mandalay"
           ],
           "xaxis": "x",
           "y": [
            35.196,
            435.456,
            853.146,
            195.174,
            133.35,
            103.131
           ],
           "yaxis": "y"
          }
         ],
         "name": "2/8/2019"
        },
        {
         "data": [
          {
           "alignmentgroup": "True",
           "hovertemplate": "City=%{x}<br>Date=3/25/2019<br>Total=%{y}<extra></extra>",
           "ids": [
            "A",
            "A",
            "A",
            "A"
           ],
           "legendgroup": "Yangon",
           "marker": {
            "color": "#636efa",
            "pattern": {
             "shape": ""
            }
           },
           "name": "Yangon",
           "offsetgroup": "Yangon",
           "orientation": "v",
           "showlegend": true,
           "textposition": "auto",
           "type": "bar",
           "x": [
            "Yangon",
            "Yangon",
            "Yangon",
            "Yangon"
           ],
           "xaxis": "x",
           "y": [
            152.712,
            142.002,
            232.638,
            49.77
           ],
           "yaxis": "y"
          },
          {
           "alignmentgroup": "True",
           "hovertemplate": "City=%{x}<br>Date=3/25/2019<br>Total=%{y}<extra></extra>",
           "ids": [
            "C",
            "C",
            "C"
           ],
           "legendgroup": "Naypyitaw",
           "marker": {
            "color": "#EF553B",
            "pattern": {
             "shape": ""
            }
           },
           "name": "Naypyitaw",
           "offsetgroup": "Naypyitaw",
           "orientation": "v",
           "showlegend": true,
           "textposition": "auto",
           "type": "bar",
           "x": [
            "Naypyitaw",
            "Naypyitaw",
            "Naypyitaw"
           ],
           "xaxis": "x",
           "y": [
            627.6165,
            401.73,
            248.409
           ],
           "yaxis": "y"
          },
          {
           "alignmentgroup": "True",
           "hovertemplate": "City=%{x}<br>Date=3/25/2019<br>Total=%{y}<extra></extra>",
           "ids": [
            "B",
            "B"
           ],
           "legendgroup": "Mandalay",
           "marker": {
            "color": "#00cc96",
            "pattern": {
             "shape": ""
            }
           },
           "name": "Mandalay",
           "offsetgroup": "Mandalay",
           "orientation": "v",
           "showlegend": true,
           "textposition": "auto",
           "type": "bar",
           "x": [
            "Mandalay",
            "Mandalay"
           ],
           "xaxis": "x",
           "y": [
            195.951,
            222.138
           ],
           "yaxis": "y"
          }
         ],
         "name": "3/25/2019"
        },
        {
         "data": [
          {
           "alignmentgroup": "True",
           "hovertemplate": "City=%{x}<br>Date=2/25/2019<br>Total=%{y}<extra></extra>",
           "ids": [
            "A",
            "A",
            "A",
            "A",
            "A",
            "A"
           ],
           "legendgroup": "Yangon",
           "marker": {
            "color": "#636efa",
            "pattern": {
             "shape": ""
            }
           },
           "name": "Yangon",
           "offsetgroup": "Yangon",
           "orientation": "v",
           "showlegend": true,
           "textposition": "auto",
           "type": "bar",
           "x": [
            "Yangon",
            "Yangon",
            "Yangon",
            "Yangon",
            "Yangon",
            "Yangon"
           ],
           "xaxis": "x",
           "y": [
            433.692,
            66.8745,
            205.317,
            479.9025,
            306.81,
            313.74
           ],
           "yaxis": "y"
          },
          {
           "alignmentgroup": "True",
           "hovertemplate": "City=%{x}<br>Date=2/25/2019<br>Total=%{y}<extra></extra>",
           "ids": [
            "C",
            "C"
           ],
           "legendgroup": "Naypyitaw",
           "marker": {
            "color": "#EF553B",
            "pattern": {
             "shape": ""
            }
           },
           "name": "Naypyitaw",
           "offsetgroup": "Naypyitaw",
           "orientation": "v",
           "showlegend": true,
           "textposition": "auto",
           "type": "bar",
           "x": [
            "Naypyitaw",
            "Naypyitaw"
           ],
           "xaxis": "x",
           "y": [
            451.71,
            51.0405
           ],
           "yaxis": "y"
          },
          {
           "alignmentgroup": "True",
           "hovertemplate": "City=%{x}<br>Date=2/25/2019<br>Total=%{y}<extra></extra>",
           "ids": [
            "B",
            "B",
            "B",
            "B",
            "B",
            "B",
            "B",
            "B"
           ],
           "legendgroup": "Mandalay",
           "marker": {
            "color": "#00cc96",
            "pattern": {
             "shape": ""
            }
           },
           "name": "Mandalay",
           "offsetgroup": "Mandalay",
           "orientation": "v",
           "showlegend": true,
           "textposition": "auto",
           "type": "bar",
           "x": [
            "Mandalay",
            "Mandalay",
            "Mandalay",
            "Mandalay",
            "Mandalay",
            "Mandalay",
            "Mandalay",
            "Mandalay"
           ],
           "xaxis": "x",
           "y": [
            494.1825,
            357.588,
            92.8725,
            430.71,
            262.794,
            554.295,
            41.7375,
            263.97
           ],
           "yaxis": "y"
          }
         ],
         "name": "2/25/2019"
        },
        {
         "data": [
          {
           "alignmentgroup": "True",
           "hovertemplate": "City=%{x}<br>Date=2/24/2019<br>Total=%{y}<extra></extra>",
           "ids": [
            "A",
            "A"
           ],
           "legendgroup": "Yangon",
           "marker": {
            "color": "#636efa",
            "pattern": {
             "shape": ""
            }
           },
           "name": "Yangon",
           "offsetgroup": "Yangon",
           "orientation": "v",
           "showlegend": true,
           "textposition": "auto",
           "type": "bar",
           "x": [
            "Yangon",
            "Yangon"
           ],
           "xaxis": "x",
           "y": [
            422.73,
            100.128
           ],
           "yaxis": "y"
          },
          {
           "alignmentgroup": "True",
           "hovertemplate": "City=%{x}<br>Date=2/24/2019<br>Total=%{y}<extra></extra>",
           "ids": [
            "C",
            "C",
            "C",
            "C"
           ],
           "legendgroup": "Naypyitaw",
           "marker": {
            "color": "#EF553B",
            "pattern": {
             "shape": ""
            }
           },
           "name": "Naypyitaw",
           "offsetgroup": "Naypyitaw",
           "orientation": "v",
           "showlegend": true,
           "textposition": "auto",
           "type": "bar",
           "x": [
            "Naypyitaw",
            "Naypyitaw",
            "Naypyitaw",
            "Naypyitaw"
           ],
           "xaxis": "x",
           "y": [
            772.38,
            351.099,
            259.77,
            53.34
           ],
           "yaxis": "y"
          },
          {
           "alignmentgroup": "True",
           "hovertemplate": "City=%{x}<br>Date=2/24/2019<br>Total=%{y}<extra></extra>",
           "ids": [
            "B",
            "B",
            "B"
           ],
           "legendgroup": "Mandalay",
           "marker": {
            "color": "#00cc96",
            "pattern": {
             "shape": ""
            }
           },
           "name": "Mandalay",
           "offsetgroup": "Mandalay",
           "orientation": "v",
           "showlegend": true,
           "textposition": "auto",
           "type": "bar",
           "x": [
            "Mandalay",
            "Mandalay",
            "Mandalay"
           ],
           "xaxis": "x",
           "y": [
            365.085,
            175.917,
            222.012
           ],
           "yaxis": "y"
          }
         ],
         "name": "2/24/2019"
        },
        {
         "data": [
          {
           "alignmentgroup": "True",
           "hovertemplate": "City=%{x}<br>Date=1/10/2019<br>Total=%{y}<extra></extra>",
           "ids": [
            "A",
            "A",
            "A"
           ],
           "legendgroup": "Yangon",
           "marker": {
            "color": "#636efa",
            "pattern": {
             "shape": ""
            }
           },
           "name": "Yangon",
           "offsetgroup": "Yangon",
           "orientation": "v",
           "showlegend": true,
           "textposition": "auto",
           "type": "bar",
           "x": [
            "Yangon",
            "Yangon",
            "Yangon"
           ],
           "xaxis": "x",
           "y": [
            76.146,
            161.553,
            493.794
           ],
           "yaxis": "y"
          },
          {
           "alignmentgroup": "True",
           "hovertemplate": "City=%{x}<br>Date=1/10/2019<br>Total=%{y}<extra></extra>",
           "ids": [
            "C",
            "C",
            "C"
           ],
           "legendgroup": "Naypyitaw",
           "marker": {
            "color": "#EF553B",
            "pattern": {
             "shape": ""
            }
           },
           "name": "Naypyitaw",
           "offsetgroup": "Naypyitaw",
           "orientation": "v",
           "showlegend": true,
           "textposition": "auto",
           "type": "bar",
           "x": [
            "Naypyitaw",
            "Naypyitaw",
            "Naypyitaw"
           ],
           "xaxis": "x",
           "y": [
            392.6475,
            611.079,
            477.1305
           ],
           "yaxis": "y"
          },
          {
           "alignmentgroup": "True",
           "hovertemplate": "City=%{x}<br>Date=1/10/2019<br>Total=%{y}<extra></extra>",
           "ids": [
            "B",
            "B",
            "B"
           ],
           "legendgroup": "Mandalay",
           "marker": {
            "color": "#00cc96",
            "pattern": {
             "shape": ""
            }
           },
           "name": "Mandalay",
           "offsetgroup": "Mandalay",
           "orientation": "v",
           "showlegend": true,
           "textposition": "auto",
           "type": "bar",
           "x": [
            "Mandalay",
            "Mandalay",
            "Mandalay"
           ],
           "xaxis": "x",
           "y": [
            703.752,
            586.971,
            57.876
           ],
           "yaxis": "y"
          }
         ],
         "name": "1/10/2019"
        },
        {
         "data": [
          {
           "alignmentgroup": "True",
           "hovertemplate": "City=%{x}<br>Date=2/20/2019<br>Total=%{y}<extra></extra>",
           "ids": [
            "A",
            "A",
            "A"
           ],
           "legendgroup": "Yangon",
           "marker": {
            "color": "#636efa",
            "pattern": {
             "shape": ""
            }
           },
           "name": "Yangon",
           "offsetgroup": "Yangon",
           "orientation": "v",
           "showlegend": true,
           "textposition": "auto",
           "type": "bar",
           "x": [
            "Yangon",
            "Yangon",
            "Yangon"
           ],
           "xaxis": "x",
           "y": [
            484.5225,
            339.36,
            79.149
           ],
           "yaxis": "y"
          },
          {
           "alignmentgroup": "True",
           "hovertemplate": "City=%{x}<br>Date=2/20/2019<br>Total=%{y}<extra></extra>",
           "ids": [
            "C"
           ],
           "legendgroup": "Naypyitaw",
           "marker": {
            "color": "#EF553B",
            "pattern": {
             "shape": ""
            }
           },
           "name": "Naypyitaw",
           "offsetgroup": "Naypyitaw",
           "orientation": "v",
           "showlegend": true,
           "textposition": "auto",
           "type": "bar",
           "x": [
            "Naypyitaw"
           ],
           "xaxis": "x",
           "y": [
            90.5835
           ],
           "yaxis": "y"
          },
          {
           "alignmentgroup": "True",
           "hovertemplate": "City=%{x}<br>Date=2/20/2019<br>Total=%{y}<extra></extra>",
           "ids": [
            "B",
            "B",
            "B",
            "B",
            "B",
            "B"
           ],
           "legendgroup": "Mandalay",
           "marker": {
            "color": "#00cc96",
            "pattern": {
             "shape": ""
            }
           },
           "name": "Mandalay",
           "offsetgroup": "Mandalay",
           "orientation": "v",
           "showlegend": true,
           "textposition": "auto",
           "type": "bar",
           "x": [
            "Mandalay",
            "Mandalay",
            "Mandalay",
            "Mandalay",
            "Mandalay",
            "Mandalay"
           ],
           "xaxis": "x",
           "y": [
            172.746,
            418.95,
            350.07,
            253.26,
            181.881,
            335.895
           ],
           "yaxis": "y"
          }
         ],
         "name": "2/20/2019"
        },
        {
         "data": [
          {
           "alignmentgroup": "True",
           "hovertemplate": "City=%{x}<br>Date=2/6/2019<br>Total=%{y}<extra></extra>",
           "ids": [
            "A",
            "A"
           ],
           "legendgroup": "Yangon",
           "marker": {
            "color": "#636efa",
            "pattern": {
             "shape": ""
            }
           },
           "name": "Yangon",
           "offsetgroup": "Yangon",
           "orientation": "v",
           "showlegend": true,
           "textposition": "auto",
           "type": "bar",
           "x": [
            "Yangon",
            "Yangon"
           ],
           "xaxis": "x",
           "y": [
            235.872,
            187.32
           ],
           "yaxis": "y"
          },
          {
           "alignmentgroup": "True",
           "hovertemplate": "City=%{x}<br>Date=2/6/2019<br>Total=%{y}<extra></extra>",
           "ids": [
            "C",
            "C",
            "C",
            "C",
            "C",
            "C"
           ],
           "legendgroup": "Naypyitaw",
           "marker": {
            "color": "#EF553B",
            "pattern": {
             "shape": ""
            }
           },
           "name": "Naypyitaw",
           "offsetgroup": "Naypyitaw",
           "orientation": "v",
           "showlegend": true,
           "textposition": "auto",
           "type": "bar",
           "x": [
            "Naypyitaw",
            "Naypyitaw",
            "Naypyitaw",
            "Naypyitaw",
            "Naypyitaw",
            "Naypyitaw"
           ],
           "xaxis": "x",
           "y": [
            417.564,
            94.2375,
            407.316,
            239.4,
            55.041,
            188.0025
           ],
           "yaxis": "y"
          },
          {
           "alignmentgroup": "True",
           "hovertemplate": "City=%{x}<br>Date=2/6/2019<br>Total=%{y}<extra></extra>",
           "ids": [
            "B",
            "B",
            "B",
            "B",
            "B"
           ],
           "legendgroup": "Mandalay",
           "marker": {
            "color": "#00cc96",
            "pattern": {
             "shape": ""
            }
           },
           "name": "Mandalay",
           "offsetgroup": "Mandalay",
           "orientation": "v",
           "showlegend": true,
           "textposition": "auto",
           "type": "bar",
           "x": [
            "Mandalay",
            "Mandalay",
            "Mandalay",
            "Mandalay",
            "Mandalay"
           ],
           "xaxis": "x",
           "y": [
            60.816,
            189.0945,
            271.95,
            240.975,
            317.835
           ],
           "yaxis": "y"
          }
         ],
         "name": "2/6/2019"
        },
        {
         "data": [
          {
           "alignmentgroup": "True",
           "hovertemplate": "City=%{x}<br>Date=3/9/2019<br>Total=%{y}<extra></extra>",
           "ids": [
            "A",
            "A",
            "A",
            "A",
            "A",
            "A"
           ],
           "legendgroup": "Yangon",
           "marker": {
            "color": "#636efa",
            "pattern": {
             "shape": ""
            }
           },
           "name": "Yangon",
           "offsetgroup": "Yangon",
           "orientation": "v",
           "showlegend": true,
           "textposition": "auto",
           "type": "bar",
           "x": [
            "Yangon",
            "Yangon",
            "Yangon",
            "Yangon",
            "Yangon",
            "Yangon"
           ],
           "xaxis": "x",
           "y": [
            545.37,
            523.845,
            548.73,
            217.182,
            127.827,
            817.236
           ],
           "yaxis": "y"
          },
          {
           "alignmentgroup": "True",
           "hovertemplate": "City=%{x}<br>Date=3/9/2019<br>Total=%{y}<extra></extra>",
           "ids": [
            "C",
            "C",
            "C",
            "C"
           ],
           "legendgroup": "Naypyitaw",
           "marker": {
            "color": "#EF553B",
            "pattern": {
             "shape": ""
            }
           },
           "name": "Naypyitaw",
           "offsetgroup": "Naypyitaw",
           "orientation": "v",
           "showlegend": true,
           "textposition": "auto",
           "type": "bar",
           "x": [
            "Naypyitaw",
            "Naypyitaw",
            "Naypyitaw",
            "Naypyitaw"
           ],
           "xaxis": "x",
           "y": [
            478.233,
            256.7775,
            17.094,
            935.2665
           ],
           "yaxis": "y"
          },
          {
           "alignmentgroup": "True",
           "hovertemplate": "City=%{x}<br>Date=3/9/2019<br>Total=%{y}<extra></extra>",
           "ids": [
            "B",
            "B",
            "B",
            "B",
            "B",
            "B"
           ],
           "legendgroup": "Mandalay",
           "marker": {
            "color": "#00cc96",
            "pattern": {
             "shape": ""
            }
           },
           "name": "Mandalay",
           "offsetgroup": "Mandalay",
           "orientation": "v",
           "showlegend": true,
           "textposition": "auto",
           "type": "bar",
           "x": [
            "Mandalay",
            "Mandalay",
            "Mandalay",
            "Mandalay",
            "Mandalay",
            "Mandalay"
           ],
           "xaxis": "x",
           "y": [
            107.142,
            394.632,
            944.622,
            474.348,
            702.219,
            383.523
           ],
           "yaxis": "y"
          }
         ],
         "name": "3/9/2019"
        },
        {
         "data": [
          {
           "alignmentgroup": "True",
           "hovertemplate": "City=%{x}<br>Date=2/12/2019<br>Total=%{y}<extra></extra>",
           "ids": [
            "A",
            "A",
            "A"
           ],
           "legendgroup": "Yangon",
           "marker": {
            "color": "#636efa",
            "pattern": {
             "shape": ""
            }
           },
           "name": "Yangon",
           "offsetgroup": "Yangon",
           "orientation": "v",
           "showlegend": true,
           "textposition": "auto",
           "type": "bar",
           "x": [
            "Yangon",
            "Yangon",
            "Yangon"
           ],
           "xaxis": "x",
           "y": [
            246.4875,
            160.209,
            150.423
           ],
           "yaxis": "y"
          },
          {
           "alignmentgroup": "True",
           "hovertemplate": "City=%{x}<br>Date=2/12/2019<br>Total=%{y}<extra></extra>",
           "ids": [
            "C",
            "C"
           ],
           "legendgroup": "Naypyitaw",
           "marker": {
            "color": "#EF553B",
            "pattern": {
             "shape": ""
            }
           },
           "name": "Naypyitaw",
           "offsetgroup": "Naypyitaw",
           "orientation": "v",
           "showlegend": true,
           "textposition": "auto",
           "type": "bar",
           "x": [
            "Naypyitaw",
            "Naypyitaw"
           ],
           "xaxis": "x",
           "y": [
            914.55,
            54.9675
           ],
           "yaxis": "y"
          },
          {
           "alignmentgroup": "True",
           "hovertemplate": "City=%{x}<br>Date=2/12/2019<br>Total=%{y}<extra></extra>",
           "ids": [
            "B",
            "B",
            "B"
           ],
           "legendgroup": "Mandalay",
           "marker": {
            "color": "#00cc96",
            "pattern": {
             "shape": ""
            }
           },
           "name": "Mandalay",
           "offsetgroup": "Mandalay",
           "orientation": "v",
           "showlegend": true,
           "textposition": "auto",
           "type": "bar",
           "x": [
            "Mandalay",
            "Mandalay",
            "Mandalay"
           ],
           "xaxis": "x",
           "y": [
            796.908,
            633.99,
            41.454
           ],
           "yaxis": "y"
          }
         ],
         "name": "2/12/2019"
        },
        {
         "data": [
          {
           "alignmentgroup": "True",
           "hovertemplate": "City=%{x}<br>Date=2/7/2019<br>Total=%{y}<extra></extra>",
           "ids": [
            "A",
            "A",
            "A",
            "A",
            "A"
           ],
           "legendgroup": "Yangon",
           "marker": {
            "color": "#636efa",
            "pattern": {
             "shape": ""
            }
           },
           "name": "Yangon",
           "offsetgroup": "Yangon",
           "orientation": "v",
           "showlegend": true,
           "textposition": "auto",
           "type": "bar",
           "x": [
            "Yangon",
            "Yangon",
            "Yangon",
            "Yangon",
            "Yangon"
           ],
           "xaxis": "x",
           "y": [
            453.495,
            752.64,
            47.859,
            30.408,
            782.208
           ],
           "yaxis": "y"
          },
          {
           "alignmentgroup": "True",
           "hovertemplate": "City=%{x}<br>Date=2/7/2019<br>Total=%{y}<extra></extra>",
           "ids": [
            "C",
            "C",
            "C",
            "C",
            "C",
            "C",
            "C",
            "C",
            "C"
           ],
           "legendgroup": "Naypyitaw",
           "marker": {
            "color": "#EF553B",
            "pattern": {
             "shape": ""
            }
           },
           "name": "Naypyitaw",
           "offsetgroup": "Naypyitaw",
           "orientation": "v",
           "showlegend": true,
           "textposition": "auto",
           "type": "bar",
           "x": [
            "Naypyitaw",
            "Naypyitaw",
            "Naypyitaw",
            "Naypyitaw",
            "Naypyitaw",
            "Naypyitaw",
            "Naypyitaw",
            "Naypyitaw",
            "Naypyitaw"
           ],
           "xaxis": "x",
           "y": [
            103.824,
            276.948,
            343.224,
            122.5245,
            273.798,
            618.975,
            507.444,
            10.6785,
            180.873
           ],
           "yaxis": "y"
          },
          {
           "alignmentgroup": "True",
           "hovertemplate": "City=%{x}<br>Date=2/7/2019<br>Total=%{y}<extra></extra>",
           "ids": [
            "B",
            "B",
            "B",
            "B",
            "B",
            "B"
           ],
           "legendgroup": "Mandalay",
           "marker": {
            "color": "#00cc96",
            "pattern": {
             "shape": ""
            }
           },
           "name": "Mandalay",
           "offsetgroup": "Mandalay",
           "orientation": "v",
           "showlegend": true,
           "textposition": "auto",
           "type": "bar",
           "x": [
            "Mandalay",
            "Mandalay",
            "Mandalay",
            "Mandalay",
            "Mandalay",
            "Mandalay"
           ],
           "xaxis": "x",
           "y": [
            208.089,
            833.595,
            570.78,
            486.444,
            289.926,
            334.4775
           ],
           "yaxis": "y"
          }
         ],
         "name": "2/7/2019"
        },
        {
         "data": [
          {
           "alignmentgroup": "True",
           "hovertemplate": "City=%{x}<br>Date=3/29/2019<br>Total=%{y}<extra></extra>",
           "ids": [
            "A",
            "A"
           ],
           "legendgroup": "Yangon",
           "marker": {
            "color": "#636efa",
            "pattern": {
             "shape": ""
            }
           },
           "name": "Yangon",
           "offsetgroup": "Yangon",
           "orientation": "v",
           "showlegend": true,
           "textposition": "auto",
           "type": "bar",
           "x": [
            "Yangon",
            "Yangon"
           ],
           "xaxis": "x",
           "y": [
            749.49,
            228.123
           ],
           "yaxis": "y"
          },
          {
           "alignmentgroup": "True",
           "hovertemplate": "City=%{x}<br>Date=3/29/2019<br>Total=%{y}<extra></extra>",
           "ids": [
            "C",
            "C"
           ],
           "legendgroup": "Naypyitaw",
           "marker": {
            "color": "#EF553B",
            "pattern": {
             "shape": ""
            }
           },
           "name": "Naypyitaw",
           "offsetgroup": "Naypyitaw",
           "orientation": "v",
           "showlegend": true,
           "textposition": "auto",
           "type": "bar",
           "x": [
            "Naypyitaw",
            "Naypyitaw"
           ],
           "xaxis": "x",
           "y": [
            121.128,
            864.57
           ],
           "yaxis": "y"
          },
          {
           "alignmentgroup": "True",
           "hovertemplate": "City=%{x}<br>Date=3/29/2019<br>Total=%{y}<extra></extra>",
           "ids": [
            "B",
            "B",
            "B",
            "B"
           ],
           "legendgroup": "Mandalay",
           "marker": {
            "color": "#00cc96",
            "pattern": {
             "shape": ""
            }
           },
           "name": "Mandalay",
           "offsetgroup": "Mandalay",
           "orientation": "v",
           "showlegend": true,
           "textposition": "auto",
           "type": "bar",
           "x": [
            "Mandalay",
            "Mandalay",
            "Mandalay",
            "Mandalay"
           ],
           "xaxis": "x",
           "y": [
            922.635,
            321.7725,
            288.015,
            527.5095
           ],
           "yaxis": "y"
          }
         ],
         "name": "3/29/2019"
        },
        {
         "data": [
          {
           "alignmentgroup": "True",
           "hovertemplate": "City=%{x}<br>Date=1/15/2019<br>Total=%{y}<extra></extra>",
           "ids": [
            "A",
            "A",
            "A",
            "A",
            "A"
           ],
           "legendgroup": "Yangon",
           "marker": {
            "color": "#636efa",
            "pattern": {
             "shape": ""
            }
           },
           "name": "Yangon",
           "offsetgroup": "Yangon",
           "orientation": "v",
           "showlegend": true,
           "textposition": "auto",
           "type": "bar",
           "x": [
            "Yangon",
            "Yangon",
            "Yangon",
            "Yangon",
            "Yangon"
           ],
           "xaxis": "x",
           "y": [
            575.316,
            843.0345,
            140.385,
            175.917,
            72.009
           ],
           "yaxis": "y"
          },
          {
           "alignmentgroup": "True",
           "hovertemplate": "City=%{x}<br>Date=1/15/2019<br>Total=%{y}<extra></extra>",
           "ids": [
            "C",
            "C",
            "C"
           ],
           "legendgroup": "Naypyitaw",
           "marker": {
            "color": "#EF553B",
            "pattern": {
             "shape": ""
            }
           },
           "name": "Naypyitaw",
           "offsetgroup": "Naypyitaw",
           "orientation": "v",
           "showlegend": true,
           "textposition": "auto",
           "type": "bar",
           "x": [
            "Naypyitaw",
            "Naypyitaw",
            "Naypyitaw"
           ],
           "xaxis": "x",
           "y": [
            91.56,
            597.0405,
            586.635
           ],
           "yaxis": "y"
          },
          {
           "alignmentgroup": "True",
           "hovertemplate": "City=%{x}<br>Date=1/15/2019<br>Total=%{y}<extra></extra>",
           "ids": [
            "B",
            "B",
            "B",
            "B",
            "B"
           ],
           "legendgroup": "Mandalay",
           "marker": {
            "color": "#00cc96",
            "pattern": {
             "shape": ""
            }
           },
           "name": "Mandalay",
           "offsetgroup": "Mandalay",
           "orientation": "v",
           "showlegend": true,
           "textposition": "auto",
           "type": "bar",
           "x": [
            "Mandalay",
            "Mandalay",
            "Mandalay",
            "Mandalay",
            "Mandalay"
           ],
           "xaxis": "x",
           "y": [
            590.436,
            154.392,
            697.935,
            397.215,
            1022.385
           ],
           "yaxis": "y"
          }
         ],
         "name": "1/15/2019"
        },
        {
         "data": [
          {
           "alignmentgroup": "True",
           "hovertemplate": "City=%{x}<br>Date=3/11/2019<br>Total=%{y}<extra></extra>",
           "ids": [
            "A",
            "A",
            "A",
            "A",
            "A"
           ],
           "legendgroup": "Yangon",
           "marker": {
            "color": "#636efa",
            "pattern": {
             "shape": ""
            }
           },
           "name": "Yangon",
           "offsetgroup": "Yangon",
           "orientation": "v",
           "showlegend": true,
           "textposition": "auto",
           "type": "bar",
           "x": [
            "Yangon",
            "Yangon",
            "Yangon",
            "Yangon",
            "Yangon"
           ],
           "xaxis": "x",
           "y": [
            506.6355,
            532.728,
            125.517,
            148.68,
            397.614
           ],
           "yaxis": "y"
          },
          {
           "alignmentgroup": "True",
           "hovertemplate": "City=%{x}<br>Date=3/11/2019<br>Total=%{y}<extra></extra>",
           "ids": [
            "C",
            "C",
            "C"
           ],
           "legendgroup": "Naypyitaw",
           "marker": {
            "color": "#EF553B",
            "pattern": {
             "shape": ""
            }
           },
           "name": "Naypyitaw",
           "offsetgroup": "Naypyitaw",
           "orientation": "v",
           "showlegend": true,
           "textposition": "auto",
           "type": "bar",
           "x": [
            "Naypyitaw",
            "Naypyitaw",
            "Naypyitaw"
           ],
           "xaxis": "x",
           "y": [
            254.016,
            218.0745,
            294.651
           ],
           "yaxis": "y"
          },
          {
           "alignmentgroup": "True",
           "hovertemplate": "City=%{x}<br>Date=3/11/2019<br>Total=%{y}<extra></extra>",
           "ids": [
            "B",
            "B",
            "B"
           ],
           "legendgroup": "Mandalay",
           "marker": {
            "color": "#00cc96",
            "pattern": {
             "shape": ""
            }
           },
           "name": "Mandalay",
           "offsetgroup": "Mandalay",
           "orientation": "v",
           "showlegend": true,
           "textposition": "auto",
           "type": "bar",
           "x": [
            "Mandalay",
            "Mandalay",
            "Mandalay"
           ],
           "xaxis": "x",
           "y": [
            84.63,
            217.6335,
            181.0725
           ],
           "yaxis": "y"
          }
         ],
         "name": "3/11/2019"
        },
        {
         "data": [
          {
           "alignmentgroup": "True",
           "hovertemplate": "City=%{x}<br>Date=1/1/2019<br>Total=%{y}<extra></extra>",
           "ids": [
            "A",
            "A",
            "A",
            "A",
            "A"
           ],
           "legendgroup": "Yangon",
           "marker": {
            "color": "#636efa",
            "pattern": {
             "shape": ""
            }
           },
           "name": "Yangon",
           "offsetgroup": "Yangon",
           "orientation": "v",
           "showlegend": true,
           "textposition": "auto",
           "type": "bar",
           "x": [
            "Yangon",
            "Yangon",
            "Yangon",
            "Yangon",
            "Yangon"
           ],
           "xaxis": "x",
           "y": [
            457.443,
            399.756,
            621.243,
            113.568,
            779.31
           ],
           "yaxis": "y"
          },
          {
           "alignmentgroup": "True",
           "hovertemplate": "City=%{x}<br>Date=1/1/2019<br>Total=%{y}<extra></extra>",
           "ids": [
            "C",
            "C",
            "C",
            "C"
           ],
           "legendgroup": "Naypyitaw",
           "marker": {
            "color": "#EF553B",
            "pattern": {
             "shape": ""
            }
           },
           "name": "Naypyitaw",
           "offsetgroup": "Naypyitaw",
           "orientation": "v",
           "showlegend": true,
           "textposition": "auto",
           "type": "bar",
           "x": [
            "Naypyitaw",
            "Naypyitaw",
            "Naypyitaw",
            "Naypyitaw"
           ],
           "xaxis": "x",
           "y": [
            388.29,
            132.762,
            132.027,
            184.086
           ],
           "yaxis": "y"
          },
          {
           "alignmentgroup": "True",
           "hovertemplate": "City=%{x}<br>Date=1/1/2019<br>Total=%{y}<extra></extra>",
           "ids": [
            "B",
            "B",
            "B"
           ],
           "legendgroup": "Mandalay",
           "marker": {
            "color": "#00cc96",
            "pattern": {
             "shape": ""
            }
           },
           "name": "Mandalay",
           "offsetgroup": "Mandalay",
           "orientation": "v",
           "showlegend": true,
           "textposition": "auto",
           "type": "bar",
           "x": [
            "Mandalay",
            "Mandalay",
            "Mandalay"
           ],
           "xaxis": "x",
           "y": [
            470.673,
            177.408,
            888.615
           ],
           "yaxis": "y"
          }
         ],
         "name": "1/1/2019"
        },
        {
         "data": [
          {
           "alignmentgroup": "True",
           "hovertemplate": "City=%{x}<br>Date=1/21/2019<br>Total=%{y}<extra></extra>",
           "ids": [
            "A",
            "A",
            "A",
            "A",
            "A"
           ],
           "legendgroup": "Yangon",
           "marker": {
            "color": "#636efa",
            "pattern": {
             "shape": ""
            }
           },
           "name": "Yangon",
           "offsetgroup": "Yangon",
           "orientation": "v",
           "showlegend": true,
           "textposition": "auto",
           "type": "bar",
           "x": [
            "Yangon",
            "Yangon",
            "Yangon",
            "Yangon",
            "Yangon"
           ],
           "xaxis": "x",
           "y": [
            172.2105,
            491.085,
            76.356,
            461.286,
            390.7995
           ],
           "yaxis": "y"
          },
          {
           "alignmentgroup": "True",
           "hovertemplate": "City=%{x}<br>Date=1/21/2019<br>Total=%{y}<extra></extra>",
           "ids": [
            "C",
            "C"
           ],
           "legendgroup": "Naypyitaw",
           "marker": {
            "color": "#EF553B",
            "pattern": {
             "shape": ""
            }
           },
           "name": "Naypyitaw",
           "offsetgroup": "Naypyitaw",
           "orientation": "v",
           "showlegend": true,
           "textposition": "auto",
           "type": "bar",
           "x": [
            "Naypyitaw",
            "Naypyitaw"
           ],
           "xaxis": "x",
           "y": [
            624.897,
            72.429
           ],
           "yaxis": "y"
          },
          {
           "alignmentgroup": "True",
           "hovertemplate": "City=%{x}<br>Date=1/21/2019<br>Total=%{y}<extra></extra>",
           "ids": [
            "B"
           ],
           "legendgroup": "Mandalay",
           "marker": {
            "color": "#00cc96",
            "pattern": {
             "shape": ""
            }
           },
           "name": "Mandalay",
           "offsetgroup": "Mandalay",
           "orientation": "v",
           "showlegend": true,
           "textposition": "auto",
           "type": "bar",
           "x": [
            "Mandalay"
           ],
           "xaxis": "x",
           "y": [
            103.0365
           ],
           "yaxis": "y"
          }
         ],
         "name": "1/21/2019"
        },
        {
         "data": [
          {
           "alignmentgroup": "True",
           "hovertemplate": "City=%{x}<br>Date=3/5/2019<br>Total=%{y}<extra></extra>",
           "ids": [
            "A",
            "A"
           ],
           "legendgroup": "Yangon",
           "marker": {
            "color": "#636efa",
            "pattern": {
             "shape": ""
            }
           },
           "name": "Yangon",
           "offsetgroup": "Yangon",
           "orientation": "v",
           "showlegend": true,
           "textposition": "auto",
           "type": "bar",
           "x": [
            "Yangon",
            "Yangon"
           ],
           "xaxis": "x",
           "y": [
            172.011,
            246.6765
           ],
           "yaxis": "y"
          },
          {
           "alignmentgroup": "True",
           "hovertemplate": "City=%{x}<br>Date=3/5/2019<br>Total=%{y}<extra></extra>",
           "ids": [
            "C",
            "C",
            "C",
            "C",
            "C"
           ],
           "legendgroup": "Naypyitaw",
           "marker": {
            "color": "#EF553B",
            "pattern": {
             "shape": ""
            }
           },
           "name": "Naypyitaw",
           "offsetgroup": "Naypyitaw",
           "orientation": "v",
           "showlegend": true,
           "textposition": "auto",
           "type": "bar",
           "x": [
            "Naypyitaw",
            "Naypyitaw",
            "Naypyitaw",
            "Naypyitaw",
            "Naypyitaw"
           ],
           "xaxis": "x",
           "y": [
            822.255,
            610.491,
            232.155,
            127.26,
            480.0285
           ],
           "yaxis": "y"
          },
          {
           "alignmentgroup": "True",
           "hovertemplate": "City=%{x}<br>Date=3/5/2019<br>Total=%{y}<extra></extra>",
           "ids": [
            "B",
            "B",
            "B",
            "B",
            "B",
            "B",
            "B",
            "B",
            "B",
            "B"
           ],
           "legendgroup": "Mandalay",
           "marker": {
            "color": "#00cc96",
            "pattern": {
             "shape": ""
            }
           },
           "name": "Mandalay",
           "offsetgroup": "Mandalay",
           "orientation": "v",
           "showlegend": true,
           "textposition": "auto",
           "type": "bar",
           "x": [
            "Mandalay",
            "Mandalay",
            "Mandalay",
            "Mandalay",
            "Mandalay",
            "Mandalay",
            "Mandalay",
            "Mandalay",
            "Mandalay",
            "Mandalay"
           ],
           "xaxis": "x",
           "y": [
            277.137,
            152.838,
            521.01,
            115.185,
            56.952,
            411.3795,
            258.678,
            212.688,
            732.27,
            801.864
           ],
           "yaxis": "y"
          }
         ],
         "name": "3/5/2019"
        },
        {
         "data": [
          {
           "alignmentgroup": "True",
           "hovertemplate": "City=%{x}<br>Date=3/15/2019<br>Total=%{y}<extra></extra>",
           "ids": [
            "A",
            "A",
            "A"
           ],
           "legendgroup": "Yangon",
           "marker": {
            "color": "#636efa",
            "pattern": {
             "shape": ""
            }
           },
           "name": "Yangon",
           "offsetgroup": "Yangon",
           "orientation": "v",
           "showlegend": true,
           "textposition": "auto",
           "type": "bar",
           "x": [
            "Yangon",
            "Yangon",
            "Yangon"
           ],
           "xaxis": "x",
           "y": [
            235.2105,
            202.818,
            206.43
           ],
           "yaxis": "y"
          },
          {
           "alignmentgroup": "True",
           "hovertemplate": "City=%{x}<br>Date=3/15/2019<br>Total=%{y}<extra></extra>",
           "ids": [
            "C"
           ],
           "legendgroup": "Naypyitaw",
           "marker": {
            "color": "#EF553B",
            "pattern": {
             "shape": ""
            }
           },
           "name": "Naypyitaw",
           "offsetgroup": "Naypyitaw",
           "orientation": "v",
           "showlegend": true,
           "textposition": "auto",
           "type": "bar",
           "x": [
            "Naypyitaw"
           ],
           "xaxis": "x",
           "y": [
            548.184
           ],
           "yaxis": "y"
          },
          {
           "alignmentgroup": "True",
           "hovertemplate": "City=%{x}<br>Date=3/15/2019<br>Total=%{y}<extra></extra>",
           "ids": [
            "B",
            "B",
            "B",
            "B",
            "B",
            "B",
            "B",
            "B"
           ],
           "legendgroup": "Mandalay",
           "marker": {
            "color": "#00cc96",
            "pattern": {
             "shape": ""
            }
           },
           "name": "Mandalay",
           "offsetgroup": "Mandalay",
           "orientation": "v",
           "showlegend": true,
           "textposition": "auto",
           "type": "bar",
           "x": [
            "Mandalay",
            "Mandalay",
            "Mandalay",
            "Mandalay",
            "Mandalay",
            "Mandalay",
            "Mandalay",
            "Mandalay"
           ],
           "xaxis": "x",
           "y": [
            69.72,
            241.458,
            128.4255,
            304.92,
            57.078,
            97.419,
            90.3,
            760.452
           ],
           "yaxis": "y"
          }
         ],
         "name": "3/15/2019"
        },
        {
         "data": [
          {
           "alignmentgroup": "True",
           "hovertemplate": "City=%{x}<br>Date=2/17/2019<br>Total=%{y}<extra></extra>",
           "ids": [
            "A",
            "A",
            "A",
            "A",
            "A",
            "A",
            "A"
           ],
           "legendgroup": "Yangon",
           "marker": {
            "color": "#636efa",
            "pattern": {
             "shape": ""
            }
           },
           "name": "Yangon",
           "offsetgroup": "Yangon",
           "orientation": "v",
           "showlegend": true,
           "textposition": "auto",
           "type": "bar",
           "x": [
            "Yangon",
            "Yangon",
            "Yangon",
            "Yangon",
            "Yangon",
            "Yangon",
            "Yangon"
           ],
           "xaxis": "x",
           "y": [
            181.44,
            745.836,
            103.635,
            680.064,
            926.9505,
            142.947,
            290.0835
           ],
           "yaxis": "y"
          },
          {
           "alignmentgroup": "True",
           "hovertemplate": "City=%{x}<br>Date=2/17/2019<br>Total=%{y}<extra></extra>",
           "ids": [
            "C",
            "C",
            "C",
            "C"
           ],
           "legendgroup": "Naypyitaw",
           "marker": {
            "color": "#EF553B",
            "pattern": {
             "shape": ""
            }
           },
           "name": "Naypyitaw",
           "offsetgroup": "Naypyitaw",
           "orientation": "v",
           "showlegend": true,
           "textposition": "auto",
           "type": "bar",
           "x": [
            "Naypyitaw",
            "Naypyitaw",
            "Naypyitaw",
            "Naypyitaw"
           ],
           "xaxis": "x",
           "y": [
            374.7975,
            62.0025,
            440.937,
            499.7265
           ],
           "yaxis": "y"
          },
          {
           "alignmentgroup": "True",
           "hovertemplate": "City=%{x}<br>Date=2/17/2019<br>Total=%{y}<extra></extra>",
           "ids": [
            "B",
            "B"
           ],
           "legendgroup": "Mandalay",
           "marker": {
            "color": "#00cc96",
            "pattern": {
             "shape": ""
            }
           },
           "name": "Mandalay",
           "offsetgroup": "Mandalay",
           "orientation": "v",
           "showlegend": true,
           "textposition": "auto",
           "type": "bar",
           "x": [
            "Mandalay",
            "Mandalay"
           ],
           "xaxis": "x",
           "y": [
            550.935,
            300.216
           ],
           "yaxis": "y"
          }
         ],
         "name": "2/17/2019"
        },
        {
         "data": [
          {
           "alignmentgroup": "True",
           "hovertemplate": "City=%{x}<br>Date=3/2/2019<br>Total=%{y}<extra></extra>",
           "ids": [
            "A",
            "A",
            "A"
           ],
           "legendgroup": "Yangon",
           "marker": {
            "color": "#636efa",
            "pattern": {
             "shape": ""
            }
           },
           "name": "Yangon",
           "offsetgroup": "Yangon",
           "orientation": "v",
           "showlegend": true,
           "textposition": "auto",
           "type": "bar",
           "x": [
            "Yangon",
            "Yangon",
            "Yangon"
           ],
           "xaxis": "x",
           "y": [
            279.1845,
            82.887,
            279.384
           ],
           "yaxis": "y"
          },
          {
           "alignmentgroup": "True",
           "hovertemplate": "City=%{x}<br>Date=3/2/2019<br>Total=%{y}<extra></extra>",
           "ids": [
            "C",
            "C",
            "C",
            "C",
            "C",
            "C"
           ],
           "legendgroup": "Naypyitaw",
           "marker": {
            "color": "#EF553B",
            "pattern": {
             "shape": ""
            }
           },
           "name": "Naypyitaw",
           "offsetgroup": "Naypyitaw",
           "orientation": "v",
           "showlegend": true,
           "textposition": "auto",
           "type": "bar",
           "x": [
            "Naypyitaw",
            "Naypyitaw",
            "Naypyitaw",
            "Naypyitaw",
            "Naypyitaw",
            "Naypyitaw"
           ],
           "xaxis": "x",
           "y": [
            85.113,
            30.219,
            572.775,
            543.753,
            485.5725,
            629.16
           ],
           "yaxis": "y"
          },
          {
           "alignmentgroup": "True",
           "hovertemplate": "City=%{x}<br>Date=3/2/2019<br>Total=%{y}<extra></extra>",
           "ids": [
            "B",
            "B",
            "B",
            "B",
            "B",
            "B",
            "B",
            "B",
            "B"
           ],
           "legendgroup": "Mandalay",
           "marker": {
            "color": "#00cc96",
            "pattern": {
             "shape": ""
            }
           },
           "name": "Mandalay",
           "offsetgroup": "Mandalay",
           "orientation": "v",
           "showlegend": true,
           "textposition": "auto",
           "type": "bar",
           "x": [
            "Mandalay",
            "Mandalay",
            "Mandalay",
            "Mandalay",
            "Mandalay",
            "Mandalay",
            "Mandalay",
            "Mandalay",
            "Mandalay"
           ],
           "xaxis": "x",
           "y": [
            942.4485,
            69.405,
            255.15,
            231.2415,
            835.2855,
            82.719,
            53.151,
            80.367,
            1022.49
           ],
           "yaxis": "y"
          }
         ],
         "name": "3/2/2019"
        },
        {
         "data": [
          {
           "alignmentgroup": "True",
           "hovertemplate": "City=%{x}<br>Date=3/22/2019<br>Total=%{y}<extra></extra>",
           "ids": [
            "A",
            "A",
            "A",
            "A",
            "A",
            "A",
            "A"
           ],
           "legendgroup": "Yangon",
           "marker": {
            "color": "#636efa",
            "pattern": {
             "shape": ""
            }
           },
           "name": "Yangon",
           "offsetgroup": "Yangon",
           "orientation": "v",
           "showlegend": true,
           "textposition": "auto",
           "type": "bar",
           "x": [
            "Yangon",
            "Yangon",
            "Yangon",
            "Yangon",
            "Yangon",
            "Yangon",
            "Yangon"
           ],
           "xaxis": "x",
           "y": [
            441.756,
            391.419,
            19.194,
            427.812,
            451.0275,
            99.9075,
            296.94
           ],
           "yaxis": "y"
          },
          {
           "alignmentgroup": "True",
           "hovertemplate": "City=%{x}<br>Date=3/22/2019<br>Total=%{y}<extra></extra>",
           "ids": [
            "B",
            "B",
            "B"
           ],
           "legendgroup": "Mandalay",
           "marker": {
            "color": "#00cc96",
            "pattern": {
             "shape": ""
            }
           },
           "name": "Mandalay",
           "offsetgroup": "Mandalay",
           "orientation": "v",
           "showlegend": true,
           "textposition": "auto",
           "type": "bar",
           "x": [
            "Mandalay",
            "Mandalay",
            "Mandalay"
           ],
           "xaxis": "x",
           "y": [
            75.054,
            742.812,
            233.226
           ],
           "yaxis": "y"
          }
         ],
         "name": "3/22/2019"
        },
        {
         "data": [
          {
           "alignmentgroup": "True",
           "hovertemplate": "City=%{x}<br>Date=3/10/2019<br>Total=%{y}<extra></extra>",
           "ids": [
            "A",
            "A",
            "A",
            "A",
            "A",
            "A"
           ],
           "legendgroup": "Yangon",
           "marker": {
            "color": "#636efa",
            "pattern": {
             "shape": ""
            }
           },
           "name": "Yangon",
           "offsetgroup": "Yangon",
           "orientation": "v",
           "showlegend": true,
           "textposition": "auto",
           "type": "bar",
           "x": [
            "Yangon",
            "Yangon",
            "Yangon",
            "Yangon",
            "Yangon",
            "Yangon"
           ],
           "xaxis": "x",
           "y": [
            184.107,
            328.755,
            688.6215,
            81.396,
            74.4555,
            121.863
           ],
           "yaxis": "y"
          },
          {
           "alignmentgroup": "True",
           "hovertemplate": "City=%{x}<br>Date=3/10/2019<br>Total=%{y}<extra></extra>",
           "ids": [
            "C",
            "C",
            "C"
           ],
           "legendgroup": "Naypyitaw",
           "marker": {
            "color": "#EF553B",
            "pattern": {
             "shape": ""
            }
           },
           "name": "Naypyitaw",
           "offsetgroup": "Naypyitaw",
           "orientation": "v",
           "showlegend": true,
           "textposition": "auto",
           "type": "bar",
           "x": [
            "Naypyitaw",
            "Naypyitaw",
            "Naypyitaw"
           ],
           "xaxis": "x",
           "y": [
            144.081,
            860.475,
            338.2155
           ],
           "yaxis": "y"
          },
          {
           "alignmentgroup": "True",
           "hovertemplate": "City=%{x}<br>Date=3/10/2019<br>Total=%{y}<extra></extra>",
           "ids": [
            "B",
            "B",
            "B"
           ],
           "legendgroup": "Mandalay",
           "marker": {
            "color": "#00cc96",
            "pattern": {
             "shape": ""
            }
           },
           "name": "Mandalay",
           "offsetgroup": "Mandalay",
           "orientation": "v",
           "showlegend": true,
           "textposition": "auto",
           "type": "bar",
           "x": [
            "Mandalay",
            "Mandalay",
            "Mandalay"
           ],
           "xaxis": "x",
           "y": [
            180.621,
            133.917,
            26.7225
           ],
           "yaxis": "y"
          }
         ],
         "name": "3/10/2019"
        },
        {
         "data": [
          {
           "alignmentgroup": "True",
           "hovertemplate": "City=%{x}<br>Date=1/25/2019<br>Total=%{y}<extra></extra>",
           "ids": [
            "A",
            "A",
            "A",
            "A",
            "A"
           ],
           "legendgroup": "Yangon",
           "marker": {
            "color": "#636efa",
            "pattern": {
             "shape": ""
            }
           },
           "name": "Yangon",
           "offsetgroup": "Yangon",
           "orientation": "v",
           "showlegend": true,
           "textposition": "auto",
           "type": "bar",
           "x": [
            "Yangon",
            "Yangon",
            "Yangon",
            "Yangon",
            "Yangon"
           ],
           "xaxis": "x",
           "y": [
            247.8735,
            252.042,
            168.21,
            167.895,
            77.805
           ],
           "yaxis": "y"
          },
          {
           "alignmentgroup": "True",
           "hovertemplate": "City=%{x}<br>Date=1/25/2019<br>Total=%{y}<extra></extra>",
           "ids": [
            "C",
            "C",
            "C",
            "C",
            "C"
           ],
           "legendgroup": "Naypyitaw",
           "marker": {
            "color": "#EF553B",
            "pattern": {
             "shape": ""
            }
           },
           "name": "Naypyitaw",
           "offsetgroup": "Naypyitaw",
           "orientation": "v",
           "showlegend": true,
           "textposition": "auto",
           "type": "bar",
           "x": [
            "Naypyitaw",
            "Naypyitaw",
            "Naypyitaw",
            "Naypyitaw",
            "Naypyitaw"
           ],
           "xaxis": "x",
           "y": [
            16.2015,
            950.25,
            288.204,
            663.2955,
            267.3405
           ],
           "yaxis": "y"
          },
          {
           "alignmentgroup": "True",
           "hovertemplate": "City=%{x}<br>Date=1/25/2019<br>Total=%{y}<extra></extra>",
           "ids": [
            "B",
            "B",
            "B",
            "B",
            "B",
            "B",
            "B"
           ],
           "legendgroup": "Mandalay",
           "marker": {
            "color": "#00cc96",
            "pattern": {
             "shape": ""
            }
           },
           "name": "Mandalay",
           "offsetgroup": "Mandalay",
           "orientation": "v",
           "showlegend": true,
           "textposition": "auto",
           "type": "bar",
           "x": [
            "Mandalay",
            "Mandalay",
            "Mandalay",
            "Mandalay",
            "Mandalay",
            "Mandalay",
            "Mandalay"
           ],
           "xaxis": "x",
           "y": [
            463.89,
            291.207,
            356.5485,
            214.746,
            128.016,
            45.927,
            100.9155
           ],
           "yaxis": "y"
          }
         ],
         "name": "1/25/2019"
        },
        {
         "data": [
          {
           "alignmentgroup": "True",
           "hovertemplate": "City=%{x}<br>Date=1/28/2019<br>Total=%{y}<extra></extra>",
           "ids": [
            "A",
            "A"
           ],
           "legendgroup": "Yangon",
           "marker": {
            "color": "#636efa",
            "pattern": {
             "shape": ""
            }
           },
           "name": "Yangon",
           "offsetgroup": "Yangon",
           "orientation": "v",
           "showlegend": true,
           "textposition": "auto",
           "type": "bar",
           "x": [
            "Yangon",
            "Yangon"
           ],
           "xaxis": "x",
           "y": [
            203.112,
            84.7455
           ],
           "yaxis": "y"
          },
          {
           "alignmentgroup": "True",
           "hovertemplate": "City=%{x}<br>Date=1/28/2019<br>Total=%{y}<extra></extra>",
           "ids": [
            "C",
            "C",
            "C",
            "C",
            "C",
            "C"
           ],
           "legendgroup": "Naypyitaw",
           "marker": {
            "color": "#EF553B",
            "pattern": {
             "shape": ""
            }
           },
           "name": "Naypyitaw",
           "offsetgroup": "Naypyitaw",
           "orientation": "v",
           "showlegend": true,
           "textposition": "auto",
           "type": "bar",
           "x": [
            "Naypyitaw",
            "Naypyitaw",
            "Naypyitaw",
            "Naypyitaw",
            "Naypyitaw",
            "Naypyitaw"
           ],
           "xaxis": "x",
           "y": [
            680.148,
            273.42,
            293.202,
            91.4025,
            125.055,
            118.251
           ],
           "yaxis": "y"
          },
          {
           "alignmentgroup": "True",
           "hovertemplate": "City=%{x}<br>Date=1/28/2019<br>Total=%{y}<extra></extra>",
           "ids": [
            "B",
            "B",
            "B",
            "B",
            "B",
            "B"
           ],
           "legendgroup": "Mandalay",
           "marker": {
            "color": "#00cc96",
            "pattern": {
             "shape": ""
            }
           },
           "name": "Mandalay",
           "offsetgroup": "Mandalay",
           "orientation": "v",
           "showlegend": true,
           "textposition": "auto",
           "type": "bar",
           "x": [
            "Mandalay",
            "Mandalay",
            "Mandalay",
            "Mandalay",
            "Mandalay",
            "Mandalay"
           ],
           "xaxis": "x",
           "y": [
            737.7615,
            20.1075,
            681.4395,
            225.015,
            832.944,
            633.108
           ],
           "yaxis": "y"
          }
         ],
         "name": "1/28/2019"
        },
        {
         "data": [
          {
           "alignmentgroup": "True",
           "hovertemplate": "City=%{x}<br>Date=1/7/2019<br>Total=%{y}<extra></extra>",
           "ids": [
            "A",
            "A",
            "A"
           ],
           "legendgroup": "Yangon",
           "marker": {
            "color": "#636efa",
            "pattern": {
             "shape": ""
            }
           },
           "name": "Yangon",
           "offsetgroup": "Yangon",
           "orientation": "v",
           "showlegend": true,
           "textposition": "auto",
           "type": "bar",
           "x": [
            "Yangon",
            "Yangon",
            "Yangon"
           ],
           "xaxis": "x",
           "y": [
            326.424,
            203.553,
            575.9775
           ],
           "yaxis": "y"
          },
          {
           "alignmentgroup": "True",
           "hovertemplate": "City=%{x}<br>Date=1/7/2019<br>Total=%{y}<extra></extra>",
           "ids": [
            "C",
            "C",
            "C"
           ],
           "legendgroup": "Naypyitaw",
           "marker": {
            "color": "#EF553B",
            "pattern": {
             "shape": ""
            }
           },
           "name": "Naypyitaw",
           "offsetgroup": "Naypyitaw",
           "orientation": "v",
           "showlegend": true,
           "textposition": "auto",
           "type": "bar",
           "x": [
            "Naypyitaw",
            "Naypyitaw",
            "Naypyitaw"
           ],
           "xaxis": "x",
           "y": [
            71.526,
            229.11,
            85.743
           ],
           "yaxis": "y"
          },
          {
           "alignmentgroup": "True",
           "hovertemplate": "City=%{x}<br>Date=1/7/2019<br>Total=%{y}<extra></extra>",
           "ids": [
            "B",
            "B",
            "B"
           ],
           "legendgroup": "Mandalay",
           "marker": {
            "color": "#00cc96",
            "pattern": {
             "shape": ""
            }
           },
           "name": "Mandalay",
           "offsetgroup": "Mandalay",
           "orientation": "v",
           "showlegend": true,
           "textposition": "auto",
           "type": "bar",
           "x": [
            "Mandalay",
            "Mandalay",
            "Mandalay"
           ],
           "xaxis": "x",
           "y": [
            614.943,
            352.5795,
            374.388
           ],
           "yaxis": "y"
          }
         ],
         "name": "1/7/2019"
        },
        {
         "data": [
          {
           "alignmentgroup": "True",
           "hovertemplate": "City=%{x}<br>Date=3/23/2019<br>Total=%{y}<extra></extra>",
           "ids": [
            "A",
            "A",
            "A",
            "A",
            "A",
            "A"
           ],
           "legendgroup": "Yangon",
           "marker": {
            "color": "#636efa",
            "pattern": {
             "shape": ""
            }
           },
           "name": "Yangon",
           "offsetgroup": "Yangon",
           "orientation": "v",
           "showlegend": true,
           "textposition": "auto",
           "type": "bar",
           "x": [
            "Yangon",
            "Yangon",
            "Yangon",
            "Yangon",
            "Yangon",
            "Yangon"
           ],
           "xaxis": "x",
           "y": [
            166.1625,
            465.444,
            162.75,
            26.5545,
            156.03,
            771.435
           ],
           "yaxis": "y"
          },
          {
           "alignmentgroup": "True",
           "hovertemplate": "City=%{x}<br>Date=3/23/2019<br>Total=%{y}<extra></extra>",
           "ids": [
            "C",
            "C",
            "C",
            "C"
           ],
           "legendgroup": "Naypyitaw",
           "marker": {
            "color": "#EF553B",
            "pattern": {
             "shape": ""
            }
           },
           "name": "Naypyitaw",
           "offsetgroup": "Naypyitaw",
           "orientation": "v",
           "showlegend": true,
           "textposition": "auto",
           "type": "bar",
           "x": [
            "Naypyitaw",
            "Naypyitaw",
            "Naypyitaw",
            "Naypyitaw"
           ],
           "xaxis": "x",
           "y": [
            461.328,
            596.82,
            408.7335,
            495.3165
           ],
           "yaxis": "y"
          },
          {
           "alignmentgroup": "True",
           "hovertemplate": "City=%{x}<br>Date=3/23/2019<br>Total=%{y}<extra></extra>",
           "ids": [
            "B"
           ],
           "legendgroup": "Mandalay",
           "marker": {
            "color": "#00cc96",
            "pattern": {
             "shape": ""
            }
           },
           "name": "Mandalay",
           "offsetgroup": "Mandalay",
           "orientation": "v",
           "showlegend": true,
           "textposition": "auto",
           "type": "bar",
           "x": [
            "Mandalay"
           ],
           "xaxis": "x",
           "y": [
            384.468
           ],
           "yaxis": "y"
          }
         ],
         "name": "3/23/2019"
        },
        {
         "data": [
          {
           "alignmentgroup": "True",
           "hovertemplate": "City=%{x}<br>Date=1/17/2019<br>Total=%{y}<extra></extra>",
           "ids": [
            "A",
            "A",
            "A",
            "A"
           ],
           "legendgroup": "Yangon",
           "marker": {
            "color": "#636efa",
            "pattern": {
             "shape": ""
            }
           },
           "name": "Yangon",
           "offsetgroup": "Yangon",
           "orientation": "v",
           "showlegend": true,
           "textposition": "auto",
           "type": "bar",
           "x": [
            "Yangon",
            "Yangon",
            "Yangon",
            "Yangon"
           ],
           "xaxis": "x",
           "y": [
            135.576,
            852.705,
            80.955,
            432.9885
           ],
           "yaxis": "y"
          },
          {
           "alignmentgroup": "True",
           "hovertemplate": "City=%{x}<br>Date=1/17/2019<br>Total=%{y}<extra></extra>",
           "ids": [
            "C",
            "C",
            "C"
           ],
           "legendgroup": "Naypyitaw",
           "marker": {
            "color": "#EF553B",
            "pattern": {
             "shape": ""
            }
           },
           "name": "Naypyitaw",
           "offsetgroup": "Naypyitaw",
           "orientation": "v",
           "showlegend": true,
           "textposition": "auto",
           "type": "bar",
           "x": [
            "Naypyitaw",
            "Naypyitaw",
            "Naypyitaw"
           ],
           "xaxis": "x",
           "y": [
            377.58,
            137.865,
            131.922
           ],
           "yaxis": "y"
          },
          {
           "alignmentgroup": "True",
           "hovertemplate": "City=%{x}<br>Date=1/17/2019<br>Total=%{y}<extra></extra>",
           "ids": [
            "B",
            "B",
            "B",
            "B"
           ],
           "legendgroup": "Mandalay",
           "marker": {
            "color": "#00cc96",
            "pattern": {
             "shape": ""
            }
           },
           "name": "Mandalay",
           "offsetgroup": "Mandalay",
           "orientation": "v",
           "showlegend": true,
           "textposition": "auto",
           "type": "bar",
           "x": [
            "Mandalay",
            "Mandalay",
            "Mandalay",
            "Mandalay"
           ],
           "xaxis": "x",
           "y": [
            91.056,
            121.569,
            695.2365,
            85.302
           ],
           "yaxis": "y"
          }
         ],
         "name": "1/17/2019"
        },
        {
         "data": [
          {
           "alignmentgroup": "True",
           "hovertemplate": "City=%{x}<br>Date=2/2/2019<br>Total=%{y}<extra></extra>",
           "ids": [
            "A",
            "A",
            "A",
            "A"
           ],
           "legendgroup": "Yangon",
           "marker": {
            "color": "#636efa",
            "pattern": {
             "shape": ""
            }
           },
           "name": "Yangon",
           "offsetgroup": "Yangon",
           "orientation": "v",
           "showlegend": true,
           "textposition": "auto",
           "type": "bar",
           "x": [
            "Yangon",
            "Yangon",
            "Yangon",
            "Yangon"
           ],
           "xaxis": "x",
           "y": [
            19.2465,
            115.08,
            452.865,
            432.768
           ],
           "yaxis": "y"
          },
          {
           "alignmentgroup": "True",
           "hovertemplate": "City=%{x}<br>Date=2/2/2019<br>Total=%{y}<extra></extra>",
           "ids": [
            "C",
            "C",
            "C",
            "C",
            "C",
            "C"
           ],
           "legendgroup": "Naypyitaw",
           "marker": {
            "color": "#EF553B",
            "pattern": {
             "shape": ""
            }
           },
           "name": "Naypyitaw",
           "offsetgroup": "Naypyitaw",
           "orientation": "v",
           "showlegend": true,
           "textposition": "auto",
           "type": "bar",
           "x": [
            "Naypyitaw",
            "Naypyitaw",
            "Naypyitaw",
            "Naypyitaw",
            "Naypyitaw",
            "Naypyitaw"
           ],
           "xaxis": "x",
           "y": [
            117.831,
            400.764,
            554.148,
            40.341,
            223.587,
            175.035
           ],
           "yaxis": "y"
          },
          {
           "alignmentgroup": "True",
           "hovertemplate": "City=%{x}<br>Date=2/2/2019<br>Total=%{y}<extra></extra>",
           "ids": [
            "B",
            "B",
            "B",
            "B"
           ],
           "legendgroup": "Mandalay",
           "marker": {
            "color": "#00cc96",
            "pattern": {
             "shape": ""
            }
           },
           "name": "Mandalay",
           "offsetgroup": "Mandalay",
           "orientation": "v",
           "showlegend": true,
           "textposition": "auto",
           "type": "bar",
           "x": [
            "Mandalay",
            "Mandalay",
            "Mandalay",
            "Mandalay"
           ],
           "xaxis": "x",
           "y": [
            788.508,
            439.8975,
            193.011,
            187.866
           ],
           "yaxis": "y"
          }
         ],
         "name": "2/2/2019"
        },
        {
         "data": [
          {
           "alignmentgroup": "True",
           "hovertemplate": "City=%{x}<br>Date=3/4/2019<br>Total=%{y}<extra></extra>",
           "ids": [
            "A",
            "A",
            "A",
            "A",
            "A",
            "A",
            "A",
            "A",
            "A"
           ],
           "legendgroup": "Yangon",
           "marker": {
            "color": "#636efa",
            "pattern": {
             "shape": ""
            }
           },
           "name": "Yangon",
           "offsetgroup": "Yangon",
           "orientation": "v",
           "showlegend": true,
           "textposition": "auto",
           "type": "bar",
           "x": [
            "Yangon",
            "Yangon",
            "Yangon",
            "Yangon",
            "Yangon",
            "Yangon",
            "Yangon",
            "Yangon",
            "Yangon"
           ],
           "xaxis": "x",
           "y": [
            90.699,
            628.929,
            237.426,
            76.755,
            510.615,
            462.672,
            216.4365,
            314.685,
            313.572
           ],
           "yaxis": "y"
          },
          {
           "alignmentgroup": "True",
           "hovertemplate": "City=%{x}<br>Date=3/4/2019<br>Total=%{y}<extra></extra>",
           "ids": [
            "C",
            "C"
           ],
           "legendgroup": "Naypyitaw",
           "marker": {
            "color": "#EF553B",
            "pattern": {
             "shape": ""
            }
           },
           "name": "Naypyitaw",
           "offsetgroup": "Naypyitaw",
           "orientation": "v",
           "showlegend": true,
           "textposition": "auto",
           "type": "bar",
           "x": [
            "Naypyitaw",
            "Naypyitaw"
           ],
           "xaxis": "x",
           "y": [
            829.08,
            31.752
           ],
           "yaxis": "y"
          },
          {
           "alignmentgroup": "True",
           "hovertemplate": "City=%{x}<br>Date=3/4/2019<br>Total=%{y}<extra></extra>",
           "ids": [
            "B"
           ],
           "legendgroup": "Mandalay",
           "marker": {
            "color": "#00cc96",
            "pattern": {
             "shape": ""
            }
           },
           "name": "Mandalay",
           "offsetgroup": "Mandalay",
           "orientation": "v",
           "showlegend": true,
           "textposition": "auto",
           "type": "bar",
           "x": [
            "Mandalay"
           ],
           "xaxis": "x",
           "y": [
            181.818
           ],
           "yaxis": "y"
          }
         ],
         "name": "3/4/2019"
        },
        {
         "data": [
          {
           "alignmentgroup": "True",
           "hovertemplate": "City=%{x}<br>Date=3/16/2019<br>Total=%{y}<extra></extra>",
           "ids": [
            "A",
            "A",
            "A"
           ],
           "legendgroup": "Yangon",
           "marker": {
            "color": "#636efa",
            "pattern": {
             "shape": ""
            }
           },
           "name": "Yangon",
           "offsetgroup": "Yangon",
           "orientation": "v",
           "showlegend": true,
           "textposition": "auto",
           "type": "bar",
           "x": [
            "Yangon",
            "Yangon",
            "Yangon"
           ],
           "xaxis": "x",
           "y": [
            609,
            99.75,
            333.9525
           ],
           "yaxis": "y"
          },
          {
           "alignmentgroup": "True",
           "hovertemplate": "City=%{x}<br>Date=3/16/2019<br>Total=%{y}<extra></extra>",
           "ids": [
            "C",
            "C",
            "C"
           ],
           "legendgroup": "Naypyitaw",
           "marker": {
            "color": "#EF553B",
            "pattern": {
             "shape": ""
            }
           },
           "name": "Naypyitaw",
           "offsetgroup": "Naypyitaw",
           "orientation": "v",
           "showlegend": true,
           "textposition": "auto",
           "type": "bar",
           "x": [
            "Naypyitaw",
            "Naypyitaw",
            "Naypyitaw"
           ],
           "xaxis": "x",
           "y": [
            32.277,
            829.71,
            408.492
           ],
           "yaxis": "y"
          },
          {
           "alignmentgroup": "True",
           "hovertemplate": "City=%{x}<br>Date=3/16/2019<br>Total=%{y}<extra></extra>",
           "ids": [
            "B",
            "B",
            "B"
           ],
           "legendgroup": "Mandalay",
           "marker": {
            "color": "#00cc96",
            "pattern": {
             "shape": ""
            }
           },
           "name": "Mandalay",
           "offsetgroup": "Mandalay",
           "orientation": "v",
           "showlegend": true,
           "textposition": "auto",
           "type": "bar",
           "x": [
            "Mandalay",
            "Mandalay",
            "Mandalay"
           ],
           "xaxis": "x",
           "y": [
            78.7185,
            360.885,
            401.688
           ],
           "yaxis": "y"
          }
         ],
         "name": "3/16/2019"
        },
        {
         "data": [
          {
           "alignmentgroup": "True",
           "hovertemplate": "City=%{x}<br>Date=2/27/2019<br>Total=%{y}<extra></extra>",
           "ids": [
            "A",
            "A",
            "A",
            "A",
            "A"
           ],
           "legendgroup": "Yangon",
           "marker": {
            "color": "#636efa",
            "pattern": {
             "shape": ""
            }
           },
           "name": "Yangon",
           "offsetgroup": "Yangon",
           "orientation": "v",
           "showlegend": true,
           "textposition": "auto",
           "type": "bar",
           "x": [
            "Yangon",
            "Yangon",
            "Yangon",
            "Yangon",
            "Yangon"
           ],
           "xaxis": "x",
           "y": [
            736.4385,
            45.108,
            197.925,
            680.61,
            781.62
           ],
           "yaxis": "y"
          },
          {
           "alignmentgroup": "True",
           "hovertemplate": "City=%{x}<br>Date=2/27/2019<br>Total=%{y}<extra></extra>",
           "ids": [
            "C",
            "C",
            "C"
           ],
           "legendgroup": "Naypyitaw",
           "marker": {
            "color": "#EF553B",
            "pattern": {
             "shape": ""
            }
           },
           "name": "Naypyitaw",
           "offsetgroup": "Naypyitaw",
           "orientation": "v",
           "showlegend": true,
           "textposition": "auto",
           "type": "bar",
           "x": [
            "Naypyitaw",
            "Naypyitaw",
            "Naypyitaw"
           ],
           "xaxis": "x",
           "y": [
            793.548,
            104.6745,
            631.1445
           ],
           "yaxis": "y"
          },
          {
           "alignmentgroup": "True",
           "hovertemplate": "City=%{x}<br>Date=2/27/2019<br>Total=%{y}<extra></extra>",
           "ids": [
            "B",
            "B",
            "B",
            "B",
            "B",
            "B"
           ],
           "legendgroup": "Mandalay",
           "marker": {
            "color": "#00cc96",
            "pattern": {
             "shape": ""
            }
           },
           "name": "Mandalay",
           "offsetgroup": "Mandalay",
           "orientation": "v",
           "showlegend": true,
           "textposition": "auto",
           "type": "bar",
           "x": [
            "Mandalay",
            "Mandalay",
            "Mandalay",
            "Mandalay",
            "Mandalay",
            "Mandalay"
           ],
           "xaxis": "x",
           "y": [
            535.7205,
            485.037,
            141.75,
            353.1675,
            165.123,
            207.585
           ],
           "yaxis": "y"
          }
         ],
         "name": "2/27/2019"
        },
        {
         "data": [
          {
           "alignmentgroup": "True",
           "hovertemplate": "City=%{x}<br>Date=2/10/2019<br>Total=%{y}<extra></extra>",
           "ids": [
            "A",
            "A",
            "A",
            "A"
           ],
           "legendgroup": "Yangon",
           "marker": {
            "color": "#636efa",
            "pattern": {
             "shape": ""
            }
           },
           "name": "Yangon",
           "offsetgroup": "Yangon",
           "orientation": "v",
           "showlegend": true,
           "textposition": "auto",
           "type": "bar",
           "x": [
            "Yangon",
            "Yangon",
            "Yangon",
            "Yangon"
           ],
           "xaxis": "x",
           "y": [
            234.0975,
            316.47,
            77.7735,
            394.3275
           ],
           "yaxis": "y"
          },
          {
           "alignmentgroup": "True",
           "hovertemplate": "City=%{x}<br>Date=2/10/2019<br>Total=%{y}<extra></extra>",
           "ids": [
            "C",
            "C",
            "C"
           ],
           "legendgroup": "Naypyitaw",
           "marker": {
            "color": "#EF553B",
            "pattern": {
             "shape": ""
            }
           },
           "name": "Naypyitaw",
           "offsetgroup": "Naypyitaw",
           "orientation": "v",
           "showlegend": true,
           "textposition": "auto",
           "type": "bar",
           "x": [
            "Naypyitaw",
            "Naypyitaw",
            "Naypyitaw"
           ],
           "xaxis": "x",
           "y": [
            70.287,
            820.365,
            539.343
           ],
           "yaxis": "y"
          },
          {
           "alignmentgroup": "True",
           "hovertemplate": "City=%{x}<br>Date=2/10/2019<br>Total=%{y}<extra></extra>",
           "ids": [
            "B",
            "B",
            "B",
            "B"
           ],
           "legendgroup": "Mandalay",
           "marker": {
            "color": "#00cc96",
            "pattern": {
             "shape": ""
            }
           },
           "name": "Mandalay",
           "offsetgroup": "Mandalay",
           "orientation": "v",
           "showlegend": true,
           "textposition": "auto",
           "type": "bar",
           "x": [
            "Mandalay",
            "Mandalay",
            "Mandalay",
            "Mandalay"
           ],
           "xaxis": "x",
           "y": [
            119.259,
            146.328,
            151.4835,
            271.2885
           ],
           "yaxis": "y"
          }
         ],
         "name": "2/10/2019"
        },
        {
         "data": [
          {
           "alignmentgroup": "True",
           "hovertemplate": "City=%{x}<br>Date=3/19/2019<br>Total=%{y}<extra></extra>",
           "ids": [
            "A",
            "A",
            "A",
            "A",
            "A",
            "A"
           ],
           "legendgroup": "Yangon",
           "marker": {
            "color": "#636efa",
            "pattern": {
             "shape": ""
            }
           },
           "name": "Yangon",
           "offsetgroup": "Yangon",
           "orientation": "v",
           "showlegend": true,
           "textposition": "auto",
           "type": "bar",
           "x": [
            "Yangon",
            "Yangon",
            "Yangon",
            "Yangon",
            "Yangon",
            "Yangon"
           ],
           "xaxis": "x",
           "y": [
            171.7275,
            709.317,
            721.98,
            97.818,
            175.014,
            16.275
           ],
           "yaxis": "y"
          },
          {
           "alignmentgroup": "True",
           "hovertemplate": "City=%{x}<br>Date=3/19/2019<br>Total=%{y}<extra></extra>",
           "ids": [
            "C",
            "C",
            "C",
            "C",
            "C",
            "C",
            "C"
           ],
           "legendgroup": "Naypyitaw",
           "marker": {
            "color": "#EF553B",
            "pattern": {
             "shape": ""
            }
           },
           "name": "Naypyitaw",
           "offsetgroup": "Naypyitaw",
           "orientation": "v",
           "showlegend": true,
           "textposition": "auto",
           "type": "bar",
           "x": [
            "Naypyitaw",
            "Naypyitaw",
            "Naypyitaw",
            "Naypyitaw",
            "Naypyitaw",
            "Naypyitaw",
            "Naypyitaw"
           ],
           "xaxis": "x",
           "y": [
            867.615,
            277.788,
            55.881,
            937.818,
            48.51,
            743.82,
            317.226
           ],
           "yaxis": "y"
          },
          {
           "alignmentgroup": "True",
           "hovertemplate": "City=%{x}<br>Date=3/19/2019<br>Total=%{y}<extra></extra>",
           "ids": [
            "B",
            "B",
            "B"
           ],
           "legendgroup": "Mandalay",
           "marker": {
            "color": "#00cc96",
            "pattern": {
             "shape": ""
            }
           },
           "name": "Mandalay",
           "offsetgroup": "Mandalay",
           "orientation": "v",
           "showlegend": true,
           "textposition": "auto",
           "type": "bar",
           "x": [
            "Mandalay",
            "Mandalay",
            "Mandalay"
           ],
           "xaxis": "x",
           "y": [
            223.0725,
            213.528,
            163.002
           ],
           "yaxis": "y"
          }
         ],
         "name": "3/19/2019"
        },
        {
         "data": [
          {
           "alignmentgroup": "True",
           "hovertemplate": "City=%{x}<br>Date=2/3/2019<br>Total=%{y}<extra></extra>",
           "ids": [
            "A",
            "A",
            "A",
            "A",
            "A"
           ],
           "legendgroup": "Yangon",
           "marker": {
            "color": "#636efa",
            "pattern": {
             "shape": ""
            }
           },
           "name": "Yangon",
           "offsetgroup": "Yangon",
           "orientation": "v",
           "showlegend": true,
           "textposition": "auto",
           "type": "bar",
           "x": [
            "Yangon",
            "Yangon",
            "Yangon",
            "Yangon",
            "Yangon"
           ],
           "xaxis": "x",
           "y": [
            697.368,
            404.355,
            708.225,
            764.19,
            143.22
           ],
           "yaxis": "y"
          },
          {
           "alignmentgroup": "True",
           "hovertemplate": "City=%{x}<br>Date=2/3/2019<br>Total=%{y}<extra></extra>",
           "ids": [
            "C",
            "C",
            "C",
            "C"
           ],
           "legendgroup": "Naypyitaw",
           "marker": {
            "color": "#EF553B",
            "pattern": {
             "shape": ""
            }
           },
           "name": "Naypyitaw",
           "offsetgroup": "Naypyitaw",
           "orientation": "v",
           "showlegend": true,
           "textposition": "auto",
           "type": "bar",
           "x": [
            "Naypyitaw",
            "Naypyitaw",
            "Naypyitaw",
            "Naypyitaw"
           ],
           "xaxis": "x",
           "y": [
            671.79,
            212.73,
            310.59,
            517.965
           ],
           "yaxis": "y"
          },
          {
           "alignmentgroup": "True",
           "hovertemplate": "City=%{x}<br>Date=2/3/2019<br>Total=%{y}<extra></extra>",
           "ids": [
            "B",
            "B",
            "B",
            "B",
            "B"
           ],
           "legendgroup": "Mandalay",
           "marker": {
            "color": "#00cc96",
            "pattern": {
             "shape": ""
            }
           },
           "name": "Mandalay",
           "offsetgroup": "Mandalay",
           "orientation": "v",
           "showlegend": true,
           "textposition": "auto",
           "type": "bar",
           "x": [
            "Mandalay",
            "Mandalay",
            "Mandalay",
            "Mandalay",
            "Mandalay"
           ],
           "xaxis": "x",
           "y": [
            520.4115,
            77.6685,
            135.3555,
            247.59,
            56.469
           ],
           "yaxis": "y"
          }
         ],
         "name": "2/3/2019"
        },
        {
         "data": [
          {
           "alignmentgroup": "True",
           "hovertemplate": "City=%{x}<br>Date=3/7/2019<br>Total=%{y}<extra></extra>",
           "ids": [
            "A",
            "A",
            "A"
           ],
           "legendgroup": "Yangon",
           "marker": {
            "color": "#636efa",
            "pattern": {
             "shape": ""
            }
           },
           "name": "Yangon",
           "offsetgroup": "Yangon",
           "orientation": "v",
           "showlegend": true,
           "textposition": "auto",
           "type": "bar",
           "x": [
            "Yangon",
            "Yangon",
            "Yangon"
           ],
           "xaxis": "x",
           "y": [
            146.9475,
            102.837,
            118.902
           ],
           "yaxis": "y"
          },
          {
           "alignmentgroup": "True",
           "hovertemplate": "City=%{x}<br>Date=3/7/2019<br>Total=%{y}<extra></extra>",
           "ids": [
            "C",
            "C",
            "C",
            "C"
           ],
           "legendgroup": "Naypyitaw",
           "marker": {
            "color": "#EF553B",
            "pattern": {
             "shape": ""
            }
           },
           "name": "Naypyitaw",
           "offsetgroup": "Naypyitaw",
           "orientation": "v",
           "showlegend": true,
           "textposition": "auto",
           "type": "bar",
           "x": [
            "Naypyitaw",
            "Naypyitaw",
            "Naypyitaw",
            "Naypyitaw"
           ],
           "xaxis": "x",
           "y": [
            69.09,
            209.559,
            353.094,
            139.923
           ],
           "yaxis": "y"
          },
          {
           "alignmentgroup": "True",
           "hovertemplate": "City=%{x}<br>Date=3/7/2019<br>Total=%{y}<extra></extra>",
           "ids": [
            "B",
            "B"
           ],
           "legendgroup": "Mandalay",
           "marker": {
            "color": "#00cc96",
            "pattern": {
             "shape": ""
            }
           },
           "name": "Mandalay",
           "offsetgroup": "Mandalay",
           "orientation": "v",
           "showlegend": true,
           "textposition": "auto",
           "type": "bar",
           "x": [
            "Mandalay",
            "Mandalay"
           ],
           "xaxis": "x",
           "y": [
            33.936,
            263.97
           ],
           "yaxis": "y"
          }
         ],
         "name": "3/7/2019"
        },
        {
         "data": [
          {
           "alignmentgroup": "True",
           "hovertemplate": "City=%{x}<br>Date=2/28/2019<br>Total=%{y}<extra></extra>",
           "ids": [
            "A",
            "A"
           ],
           "legendgroup": "Yangon",
           "marker": {
            "color": "#636efa",
            "pattern": {
             "shape": ""
            }
           },
           "name": "Yangon",
           "offsetgroup": "Yangon",
           "orientation": "v",
           "showlegend": true,
           "textposition": "auto",
           "type": "bar",
           "x": [
            "Yangon",
            "Yangon"
           ],
           "xaxis": "x",
           "y": [
            507.906,
            176.4
           ],
           "yaxis": "y"
          },
          {
           "alignmentgroup": "True",
           "hovertemplate": "City=%{x}<br>Date=2/28/2019<br>Total=%{y}<extra></extra>",
           "ids": [
            "C",
            "C"
           ],
           "legendgroup": "Naypyitaw",
           "marker": {
            "color": "#EF553B",
            "pattern": {
             "shape": ""
            }
           },
           "name": "Naypyitaw",
           "offsetgroup": "Naypyitaw",
           "orientation": "v",
           "showlegend": true,
           "textposition": "auto",
           "type": "bar",
           "x": [
            "Naypyitaw",
            "Naypyitaw"
           ],
           "xaxis": "x",
           "y": [
            722.232,
            195.72
           ],
           "yaxis": "y"
          },
          {
           "alignmentgroup": "True",
           "hovertemplate": "City=%{x}<br>Date=2/28/2019<br>Total=%{y}<extra></extra>",
           "ids": [
            "B",
            "B"
           ],
           "legendgroup": "Mandalay",
           "marker": {
            "color": "#00cc96",
            "pattern": {
             "shape": ""
            }
           },
           "name": "Mandalay",
           "offsetgroup": "Mandalay",
           "orientation": "v",
           "showlegend": true,
           "textposition": "auto",
           "type": "bar",
           "x": [
            "Mandalay",
            "Mandalay"
           ],
           "xaxis": "x",
           "y": [
            431.445,
            63.315
           ],
           "yaxis": "y"
          }
         ],
         "name": "2/28/2019"
        },
        {
         "data": [
          {
           "alignmentgroup": "True",
           "hovertemplate": "City=%{x}<br>Date=3/27/2019<br>Total=%{y}<extra></extra>",
           "ids": [
            "A",
            "A",
            "A",
            "A",
            "A"
           ],
           "legendgroup": "Yangon",
           "marker": {
            "color": "#636efa",
            "pattern": {
             "shape": ""
            }
           },
           "name": "Yangon",
           "offsetgroup": "Yangon",
           "orientation": "v",
           "showlegend": true,
           "textposition": "auto",
           "type": "bar",
           "x": [
            "Yangon",
            "Yangon",
            "Yangon",
            "Yangon",
            "Yangon"
           ],
           "xaxis": "x",
           "y": [
            93.114,
            362.943,
            272.664,
            164.871,
            167.034
           ],
           "yaxis": "y"
          },
          {
           "alignmentgroup": "True",
           "hovertemplate": "City=%{x}<br>Date=3/27/2019<br>Total=%{y}<extra></extra>",
           "ids": [
            "C"
           ],
           "legendgroup": "Naypyitaw",
           "marker": {
            "color": "#EF553B",
            "pattern": {
             "shape": ""
            }
           },
           "name": "Naypyitaw",
           "offsetgroup": "Naypyitaw",
           "orientation": "v",
           "showlegend": true,
           "textposition": "auto",
           "type": "bar",
           "x": [
            "Naypyitaw"
           ],
           "xaxis": "x",
           "y": [
            943.299
           ],
           "yaxis": "y"
          },
          {
           "alignmentgroup": "True",
           "hovertemplate": "City=%{x}<br>Date=3/27/2019<br>Total=%{y}<extra></extra>",
           "ids": [
            "B",
            "B",
            "B",
            "B"
           ],
           "legendgroup": "Mandalay",
           "marker": {
            "color": "#00cc96",
            "pattern": {
             "shape": ""
            }
           },
           "name": "Mandalay",
           "offsetgroup": "Mandalay",
           "orientation": "v",
           "showlegend": true,
           "textposition": "auto",
           "type": "bar",
           "x": [
            "Mandalay",
            "Mandalay",
            "Mandalay",
            "Mandalay"
           ],
           "xaxis": "x",
           "y": [
            588.357,
            116.907,
            101.808,
            91.8225
           ],
           "yaxis": "y"
          }
         ],
         "name": "3/27/2019"
        },
        {
         "data": [
          {
           "alignmentgroup": "True",
           "hovertemplate": "City=%{x}<br>Date=1/20/2019<br>Total=%{y}<extra></extra>",
           "ids": [
            "A",
            "A",
            "A",
            "A"
           ],
           "legendgroup": "Yangon",
           "marker": {
            "color": "#636efa",
            "pattern": {
             "shape": ""
            }
           },
           "name": "Yangon",
           "offsetgroup": "Yangon",
           "orientation": "v",
           "showlegend": true,
           "textposition": "auto",
           "type": "bar",
           "x": [
            "Yangon",
            "Yangon",
            "Yangon",
            "Yangon"
           ],
           "xaxis": "x",
           "y": [
            759.675,
            195.594,
            536.592,
            233.1
           ],
           "yaxis": "y"
          },
          {
           "alignmentgroup": "True",
           "hovertemplate": "City=%{x}<br>Date=1/20/2019<br>Total=%{y}<extra></extra>",
           "ids": [
            "C",
            "C",
            "C",
            "C"
           ],
           "legendgroup": "Naypyitaw",
           "marker": {
            "color": "#EF553B",
            "pattern": {
             "shape": ""
            }
           },
           "name": "Naypyitaw",
           "offsetgroup": "Naypyitaw",
           "orientation": "v",
           "showlegend": true,
           "textposition": "auto",
           "type": "bar",
           "x": [
            "Naypyitaw",
            "Naypyitaw",
            "Naypyitaw",
            "Naypyitaw"
           ],
           "xaxis": "x",
           "y": [
            749.7,
            348.306,
            131.208,
            470.988
           ],
           "yaxis": "y"
          },
          {
           "alignmentgroup": "True",
           "hovertemplate": "City=%{x}<br>Date=1/20/2019<br>Total=%{y}<extra></extra>",
           "ids": [
            "B",
            "B"
           ],
           "legendgroup": "Mandalay",
           "marker": {
            "color": "#00cc96",
            "pattern": {
             "shape": ""
            }
           },
           "name": "Mandalay",
           "offsetgroup": "Mandalay",
           "orientation": "v",
           "showlegend": true,
           "textposition": "auto",
           "type": "bar",
           "x": [
            "Mandalay",
            "Mandalay"
           ],
           "xaxis": "x",
           "y": [
            112.224,
            118.062
           ],
           "yaxis": "y"
          }
         ],
         "name": "1/20/2019"
        },
        {
         "data": [
          {
           "alignmentgroup": "True",
           "hovertemplate": "City=%{x}<br>Date=3/12/2019<br>Total=%{y}<extra></extra>",
           "ids": [
            "A",
            "A"
           ],
           "legendgroup": "Yangon",
           "marker": {
            "color": "#636efa",
            "pattern": {
             "shape": ""
            }
           },
           "name": "Yangon",
           "offsetgroup": "Yangon",
           "orientation": "v",
           "showlegend": true,
           "textposition": "auto",
           "type": "bar",
           "x": [
            "Yangon",
            "Yangon"
           ],
           "xaxis": "x",
           "y": [
            723.24,
            200.214
           ],
           "yaxis": "y"
          },
          {
           "alignmentgroup": "True",
           "hovertemplate": "City=%{x}<br>Date=3/12/2019<br>Total=%{y}<extra></extra>",
           "ids": [
            "C",
            "C",
            "C",
            "C",
            "C"
           ],
           "legendgroup": "Naypyitaw",
           "marker": {
            "color": "#EF553B",
            "pattern": {
             "shape": ""
            }
           },
           "name": "Naypyitaw",
           "offsetgroup": "Naypyitaw",
           "orientation": "v",
           "showlegend": true,
           "textposition": "auto",
           "type": "bar",
           "x": [
            "Naypyitaw",
            "Naypyitaw",
            "Naypyitaw",
            "Naypyitaw",
            "Naypyitaw"
           ],
           "xaxis": "x",
           "y": [
            192.843,
            174.3,
            395.892,
            194.124,
            404.544
           ],
           "yaxis": "y"
          },
          {
           "alignmentgroup": "True",
           "hovertemplate": "City=%{x}<br>Date=3/12/2019<br>Total=%{y}<extra></extra>",
           "ids": [
            "B",
            "B",
            "B",
            "B",
            "B"
           ],
           "legendgroup": "Mandalay",
           "marker": {
            "color": "#00cc96",
            "pattern": {
             "shape": ""
            }
           },
           "name": "Mandalay",
           "offsetgroup": "Mandalay",
           "orientation": "v",
           "showlegend": true,
           "textposition": "auto",
           "type": "bar",
           "x": [
            "Mandalay",
            "Mandalay",
            "Mandalay",
            "Mandalay",
            "Mandalay"
           ],
           "xaxis": "x",
           "y": [
            608.202,
            33.3585,
            40.9605,
            410.508,
            299.3655
           ],
           "yaxis": "y"
          }
         ],
         "name": "3/12/2019"
        },
        {
         "data": [
          {
           "alignmentgroup": "True",
           "hovertemplate": "City=%{x}<br>Date=2/15/2019<br>Total=%{y}<extra></extra>",
           "ids": [
            "A",
            "A",
            "A",
            "A",
            "A"
           ],
           "legendgroup": "Yangon",
           "marker": {
            "color": "#636efa",
            "pattern": {
             "shape": ""
            }
           },
           "name": "Yangon",
           "offsetgroup": "Yangon",
           "orientation": "v",
           "showlegend": true,
           "textposition": "auto",
           "type": "bar",
           "x": [
            "Yangon",
            "Yangon",
            "Yangon",
            "Yangon",
            "Yangon"
           ],
           "xaxis": "x",
           "y": [
            587.664,
            96.138,
            164.43,
            211.365,
            163.611
           ],
           "yaxis": "y"
          },
          {
           "alignmentgroup": "True",
           "hovertemplate": "City=%{x}<br>Date=2/15/2019<br>Total=%{y}<extra></extra>",
           "ids": [
            "C",
            "C",
            "C",
            "C",
            "C",
            "C",
            "C"
           ],
           "legendgroup": "Naypyitaw",
           "marker": {
            "color": "#EF553B",
            "pattern": {
             "shape": ""
            }
           },
           "name": "Naypyitaw",
           "offsetgroup": "Naypyitaw",
           "orientation": "v",
           "showlegend": true,
           "textposition": "auto",
           "type": "bar",
           "x": [
            "Naypyitaw",
            "Naypyitaw",
            "Naypyitaw",
            "Naypyitaw",
            "Naypyitaw",
            "Naypyitaw",
            "Naypyitaw"
           ],
           "xaxis": "x",
           "y": [
            77.931,
            1042.65,
            253.512,
            103.782,
            344.4,
            282.576,
            287.91
           ],
           "yaxis": "y"
          },
          {
           "alignmentgroup": "True",
           "hovertemplate": "City=%{x}<br>Date=2/15/2019<br>Total=%{y}<extra></extra>",
           "ids": [
            "B",
            "B",
            "B",
            "B",
            "B",
            "B",
            "B"
           ],
           "legendgroup": "Mandalay",
           "marker": {
            "color": "#00cc96",
            "pattern": {
             "shape": ""
            }
           },
           "name": "Mandalay",
           "offsetgroup": "Mandalay",
           "orientation": "v",
           "showlegend": true,
           "textposition": "auto",
           "type": "bar",
           "x": [
            "Mandalay",
            "Mandalay",
            "Mandalay",
            "Mandalay",
            "Mandalay",
            "Mandalay",
            "Mandalay"
           ],
           "xaxis": "x",
           "y": [
            535.374,
            93.2925,
            565.215,
            731.43,
            362.817,
            92.7255,
            833.9625
           ],
           "yaxis": "y"
          }
         ],
         "name": "2/15/2019"
        },
        {
         "data": [
          {
           "alignmentgroup": "True",
           "hovertemplate": "City=%{x}<br>Date=3/6/2019<br>Total=%{y}<extra></extra>",
           "ids": [
            "A",
            "A",
            "A",
            "A"
           ],
           "legendgroup": "Yangon",
           "marker": {
            "color": "#636efa",
            "pattern": {
             "shape": ""
            }
           },
           "name": "Yangon",
           "offsetgroup": "Yangon",
           "orientation": "v",
           "showlegend": true,
           "textposition": "auto",
           "type": "bar",
           "x": [
            "Yangon",
            "Yangon",
            "Yangon",
            "Yangon"
           ],
           "xaxis": "x",
           "y": [
            166.005,
            580.419,
            203.175,
            83.727
           ],
           "yaxis": "y"
          },
          {
           "alignmentgroup": "True",
           "hovertemplate": "City=%{x}<br>Date=3/6/2019<br>Total=%{y}<extra></extra>",
           "ids": [
            "C"
           ],
           "legendgroup": "Naypyitaw",
           "marker": {
            "color": "#EF553B",
            "pattern": {
             "shape": ""
            }
           },
           "name": "Naypyitaw",
           "offsetgroup": "Naypyitaw",
           "orientation": "v",
           "showlegend": true,
           "textposition": "auto",
           "type": "bar",
           "x": [
            "Naypyitaw"
           ],
           "xaxis": "x",
           "y": [
            38.85
           ],
           "yaxis": "y"
          },
          {
           "alignmentgroup": "True",
           "hovertemplate": "City=%{x}<br>Date=3/6/2019<br>Total=%{y}<extra></extra>",
           "ids": [
            "B",
            "B",
            "B",
            "B",
            "B",
            "B"
           ],
           "legendgroup": "Mandalay",
           "marker": {
            "color": "#00cc96",
            "pattern": {
             "shape": ""
            }
           },
           "name": "Mandalay",
           "offsetgroup": "Mandalay",
           "orientation": "v",
           "showlegend": true,
           "textposition": "auto",
           "type": "bar",
           "x": [
            "Mandalay",
            "Mandalay",
            "Mandalay",
            "Mandalay",
            "Mandalay",
            "Mandalay"
           ],
           "xaxis": "x",
           "y": [
            603.624,
            456.288,
            354.0075,
            352.674,
            148.995,
            104.832
           ],
           "yaxis": "y"
          }
         ],
         "name": "3/6/2019"
        },
        {
         "data": [
          {
           "alignmentgroup": "True",
           "hovertemplate": "City=%{x}<br>Date=2/14/2019<br>Total=%{y}<extra></extra>",
           "ids": [
            "A",
            "A",
            "A"
           ],
           "legendgroup": "Yangon",
           "marker": {
            "color": "#636efa",
            "pattern": {
             "shape": ""
            }
           },
           "name": "Yangon",
           "offsetgroup": "Yangon",
           "orientation": "v",
           "showlegend": true,
           "textposition": "auto",
           "type": "bar",
           "x": [
            "Yangon",
            "Yangon",
            "Yangon"
           ],
           "xaxis": "x",
           "y": [
            836.304,
            140.6475,
            95.865
           ],
           "yaxis": "y"
          },
          {
           "alignmentgroup": "True",
           "hovertemplate": "City=%{x}<br>Date=2/14/2019<br>Total=%{y}<extra></extra>",
           "ids": [
            "C",
            "C",
            "C"
           ],
           "legendgroup": "Naypyitaw",
           "marker": {
            "color": "#EF553B",
            "pattern": {
             "shape": ""
            }
           },
           "name": "Naypyitaw",
           "offsetgroup": "Naypyitaw",
           "orientation": "v",
           "showlegend": true,
           "textposition": "auto",
           "type": "bar",
           "x": [
            "Naypyitaw",
            "Naypyitaw",
            "Naypyitaw"
           ],
           "xaxis": "x",
           "y": [
            208.677,
            290.43,
            122.472
           ],
           "yaxis": "y"
          },
          {
           "alignmentgroup": "True",
           "hovertemplate": "City=%{x}<br>Date=2/14/2019<br>Total=%{y}<extra></extra>",
           "ids": [
            "B",
            "B"
           ],
           "legendgroup": "Mandalay",
           "marker": {
            "color": "#00cc96",
            "pattern": {
             "shape": ""
            }
           },
           "name": "Mandalay",
           "offsetgroup": "Mandalay",
           "orientation": "v",
           "showlegend": true,
           "textposition": "auto",
           "type": "bar",
           "x": [
            "Mandalay",
            "Mandalay"
           ],
           "xaxis": "x",
           "y": [
            318.108,
            441.588
           ],
           "yaxis": "y"
          }
         ],
         "name": "2/14/2019"
        },
        {
         "data": [
          {
           "alignmentgroup": "True",
           "hovertemplate": "City=%{x}<br>Date=3/13/2019<br>Total=%{y}<extra></extra>",
           "ids": [
            "A",
            "A",
            "A"
           ],
           "legendgroup": "Yangon",
           "marker": {
            "color": "#636efa",
            "pattern": {
             "shape": ""
            }
           },
           "name": "Yangon",
           "offsetgroup": "Yangon",
           "orientation": "v",
           "showlegend": true,
           "textposition": "auto",
           "type": "bar",
           "x": [
            "Yangon",
            "Yangon",
            "Yangon"
           ],
           "xaxis": "x",
           "y": [
            166.635,
            336.5565,
            284.9175
           ],
           "yaxis": "y"
          },
          {
           "alignmentgroup": "True",
           "hovertemplate": "City=%{x}<br>Date=3/13/2019<br>Total=%{y}<extra></extra>",
           "ids": [
            "C",
            "C",
            "C",
            "C"
           ],
           "legendgroup": "Naypyitaw",
           "marker": {
            "color": "#EF553B",
            "pattern": {
             "shape": ""
            }
           },
           "name": "Naypyitaw",
           "offsetgroup": "Naypyitaw",
           "orientation": "v",
           "showlegend": true,
           "textposition": "auto",
           "type": "bar",
           "x": [
            "Naypyitaw",
            "Naypyitaw",
            "Naypyitaw",
            "Naypyitaw"
           ],
           "xaxis": "x",
           "y": [
            536.844,
            153.048,
            59.325,
            102.396
           ],
           "yaxis": "y"
          },
          {
           "alignmentgroup": "True",
           "hovertemplate": "City=%{x}<br>Date=3/13/2019<br>Total=%{y}<extra></extra>",
           "ids": [
            "B",
            "B",
            "B"
           ],
           "legendgroup": "Mandalay",
           "marker": {
            "color": "#00cc96",
            "pattern": {
             "shape": ""
            }
           },
           "name": "Mandalay",
           "offsetgroup": "Mandalay",
           "orientation": "v",
           "showlegend": true,
           "textposition": "auto",
           "type": "bar",
           "x": [
            "Mandalay",
            "Mandalay",
            "Mandalay"
           ],
           "xaxis": "x",
           "y": [
            160.86,
            190.155,
            72.87
           ],
           "yaxis": "y"
          }
         ],
         "name": "3/13/2019"
        },
        {
         "data": [
          {
           "alignmentgroup": "True",
           "hovertemplate": "City=%{x}<br>Date=1/24/2019<br>Total=%{y}<extra></extra>",
           "ids": [
            "A",
            "A",
            "A",
            "A",
            "A"
           ],
           "legendgroup": "Yangon",
           "marker": {
            "color": "#636efa",
            "pattern": {
             "shape": ""
            }
           },
           "name": "Yangon",
           "offsetgroup": "Yangon",
           "orientation": "v",
           "showlegend": true,
           "textposition": "auto",
           "type": "bar",
           "x": [
            "Yangon",
            "Yangon",
            "Yangon",
            "Yangon",
            "Yangon"
           ],
           "xaxis": "x",
           "y": [
            827.085,
            406.875,
            728.112,
            408.408,
            88.704
           ],
           "yaxis": "y"
          },
          {
           "alignmentgroup": "True",
           "hovertemplate": "City=%{x}<br>Date=1/24/2019<br>Total=%{y}<extra></extra>",
           "ids": [
            "C",
            "C"
           ],
           "legendgroup": "Naypyitaw",
           "marker": {
            "color": "#EF553B",
            "pattern": {
             "shape": ""
            }
           },
           "name": "Naypyitaw",
           "offsetgroup": "Naypyitaw",
           "orientation": "v",
           "showlegend": true,
           "textposition": "auto",
           "type": "bar",
           "x": [
            "Naypyitaw",
            "Naypyitaw"
           ],
           "xaxis": "x",
           "y": [
            63.9135,
            270.018
           ],
           "yaxis": "y"
          },
          {
           "alignmentgroup": "True",
           "hovertemplate": "City=%{x}<br>Date=1/24/2019<br>Total=%{y}<extra></extra>",
           "ids": [
            "B",
            "B",
            "B",
            "B",
            "B",
            "B"
           ],
           "legendgroup": "Mandalay",
           "marker": {
            "color": "#00cc96",
            "pattern": {
             "shape": ""
            }
           },
           "name": "Mandalay",
           "offsetgroup": "Mandalay",
           "orientation": "v",
           "showlegend": true,
           "textposition": "auto",
           "type": "bar",
           "x": [
            "Mandalay",
            "Mandalay",
            "Mandalay",
            "Mandalay",
            "Mandalay",
            "Mandalay"
           ],
           "xaxis": "x",
           "y": [
            423.15,
            293.643,
            145.404,
            557.718,
            384.72,
            804.3
           ],
           "yaxis": "y"
          }
         ],
         "name": "1/24/2019"
        },
        {
         "data": [
          {
           "alignmentgroup": "True",
           "hovertemplate": "City=%{x}<br>Date=1/6/2019<br>Total=%{y}<extra></extra>",
           "ids": [
            "A",
            "A",
            "A",
            "A",
            "A"
           ],
           "legendgroup": "Yangon",
           "marker": {
            "color": "#636efa",
            "pattern": {
             "shape": ""
            }
           },
           "name": "Yangon",
           "offsetgroup": "Yangon",
           "orientation": "v",
           "showlegend": true,
           "textposition": "auto",
           "type": "bar",
           "x": [
            "Yangon",
            "Yangon",
            "Yangon",
            "Yangon",
            "Yangon"
           ],
           "xaxis": "x",
           "y": [
            494.76,
            16.107,
            214.935,
            271.278,
            312.8895
           ],
           "yaxis": "y"
          },
          {
           "alignmentgroup": "True",
           "hovertemplate": "City=%{x}<br>Date=1/6/2019<br>Total=%{y}<extra></extra>",
           "ids": [
            "C",
            "C"
           ],
           "legendgroup": "Naypyitaw",
           "marker": {
            "color": "#EF553B",
            "pattern": {
             "shape": ""
            }
           },
           "name": "Naypyitaw",
           "offsetgroup": "Naypyitaw",
           "orientation": "v",
           "showlegend": true,
           "textposition": "auto",
           "type": "bar",
           "x": [
            "Naypyitaw",
            "Naypyitaw"
           ],
           "xaxis": "x",
           "y": [
            939.54,
            343.056
           ],
           "yaxis": "y"
          },
          {
           "alignmentgroup": "True",
           "hovertemplate": "City=%{x}<br>Date=1/6/2019<br>Total=%{y}<extra></extra>",
           "ids": [
            "B",
            "B"
           ],
           "legendgroup": "Mandalay",
           "marker": {
            "color": "#00cc96",
            "pattern": {
             "shape": ""
            }
           },
           "name": "Mandalay",
           "offsetgroup": "Mandalay",
           "orientation": "v",
           "showlegend": true,
           "textposition": "auto",
           "type": "bar",
           "x": [
            "Mandalay",
            "Mandalay"
           ],
           "xaxis": "x",
           "y": [
            261.198,
            760.4415
           ],
           "yaxis": "y"
          }
         ],
         "name": "1/6/2019"
        },
        {
         "data": [
          {
           "alignmentgroup": "True",
           "hovertemplate": "City=%{x}<br>Date=2/11/2019<br>Total=%{y}<extra></extra>",
           "ids": [
            "A",
            "A"
           ],
           "legendgroup": "Yangon",
           "marker": {
            "color": "#636efa",
            "pattern": {
             "shape": ""
            }
           },
           "name": "Yangon",
           "offsetgroup": "Yangon",
           "orientation": "v",
           "showlegend": true,
           "textposition": "auto",
           "type": "bar",
           "x": [
            "Yangon",
            "Yangon"
           ],
           "xaxis": "x",
           "y": [
            397.992,
            252.252
           ],
           "yaxis": "y"
          },
          {
           "alignmentgroup": "True",
           "hovertemplate": "City=%{x}<br>Date=2/11/2019<br>Total=%{y}<extra></extra>",
           "ids": [
            "C",
            "C",
            "C"
           ],
           "legendgroup": "Naypyitaw",
           "marker": {
            "color": "#EF553B",
            "pattern": {
             "shape": ""
            }
           },
           "name": "Naypyitaw",
           "offsetgroup": "Naypyitaw",
           "orientation": "v",
           "showlegend": true,
           "textposition": "auto",
           "type": "bar",
           "x": [
            "Naypyitaw",
            "Naypyitaw",
            "Naypyitaw"
           ],
           "xaxis": "x",
           "y": [
            652.26,
            936.6,
            455.1225
           ],
           "yaxis": "y"
          },
          {
           "alignmentgroup": "True",
           "hovertemplate": "City=%{x}<br>Date=2/11/2019<br>Total=%{y}<extra></extra>",
           "ids": [
            "B",
            "B",
            "B"
           ],
           "legendgroup": "Mandalay",
           "marker": {
            "color": "#00cc96",
            "pattern": {
             "shape": ""
            }
           },
           "name": "Mandalay",
           "offsetgroup": "Mandalay",
           "orientation": "v",
           "showlegend": true,
           "textposition": "auto",
           "type": "bar",
           "x": [
            "Mandalay",
            "Mandalay",
            "Mandalay"
           ],
           "xaxis": "x",
           "y": [
            242.676,
            794.6505,
            810.6
           ],
           "yaxis": "y"
          }
         ],
         "name": "2/11/2019"
        },
        {
         "data": [
          {
           "alignmentgroup": "True",
           "hovertemplate": "City=%{x}<br>Date=1/22/2019<br>Total=%{y}<extra></extra>",
           "ids": [
            "A",
            "A"
           ],
           "legendgroup": "Yangon",
           "marker": {
            "color": "#636efa",
            "pattern": {
             "shape": ""
            }
           },
           "name": "Yangon",
           "offsetgroup": "Yangon",
           "orientation": "v",
           "showlegend": true,
           "textposition": "auto",
           "type": "bar",
           "x": [
            "Yangon",
            "Yangon"
           ],
           "xaxis": "x",
           "y": [
            705.6315,
            96.642
           ],
           "yaxis": "y"
          },
          {
           "alignmentgroup": "True",
           "hovertemplate": "City=%{x}<br>Date=1/22/2019<br>Total=%{y}<extra></extra>",
           "ids": [
            "C",
            "C",
            "C"
           ],
           "legendgroup": "Naypyitaw",
           "marker": {
            "color": "#EF553B",
            "pattern": {
             "shape": ""
            }
           },
           "name": "Naypyitaw",
           "offsetgroup": "Naypyitaw",
           "orientation": "v",
           "showlegend": true,
           "textposition": "auto",
           "type": "bar",
           "x": [
            "Naypyitaw",
            "Naypyitaw",
            "Naypyitaw"
           ],
           "xaxis": "x",
           "y": [
            106.995,
            85.5855,
            206.7975
           ],
           "yaxis": "y"
          },
          {
           "alignmentgroup": "True",
           "hovertemplate": "City=%{x}<br>Date=1/22/2019<br>Total=%{y}<extra></extra>",
           "ids": [
            "B",
            "B"
           ],
           "legendgroup": "Mandalay",
           "marker": {
            "color": "#00cc96",
            "pattern": {
             "shape": ""
            }
           },
           "name": "Mandalay",
           "offsetgroup": "Mandalay",
           "orientation": "v",
           "showlegend": true,
           "textposition": "auto",
           "type": "bar",
           "x": [
            "Mandalay",
            "Mandalay"
           ],
           "xaxis": "x",
           "y": [
            351.603,
            151.515
           ],
           "yaxis": "y"
          }
         ],
         "name": "1/22/2019"
        },
        {
         "data": [
          {
           "alignmentgroup": "True",
           "hovertemplate": "City=%{x}<br>Date=1/13/2019<br>Total=%{y}<extra></extra>",
           "ids": [
            "A",
            "A",
            "A",
            "A"
           ],
           "legendgroup": "Yangon",
           "marker": {
            "color": "#636efa",
            "pattern": {
             "shape": ""
            }
           },
           "name": "Yangon",
           "offsetgroup": "Yangon",
           "orientation": "v",
           "showlegend": true,
           "textposition": "auto",
           "type": "bar",
           "x": [
            "Yangon",
            "Yangon",
            "Yangon",
            "Yangon"
           ],
           "xaxis": "x",
           "y": [
            147.798,
            335.013,
            374.409,
            255.1815
           ],
           "yaxis": "y"
          },
          {
           "alignmentgroup": "True",
           "hovertemplate": "City=%{x}<br>Date=1/13/2019<br>Total=%{y}<extra></extra>",
           "ids": [
            "C",
            "C",
            "C"
           ],
           "legendgroup": "Naypyitaw",
           "marker": {
            "color": "#EF553B",
            "pattern": {
             "shape": ""
            }
           },
           "name": "Naypyitaw",
           "offsetgroup": "Naypyitaw",
           "orientation": "v",
           "showlegend": true,
           "textposition": "auto",
           "type": "bar",
           "x": [
            "Naypyitaw",
            "Naypyitaw",
            "Naypyitaw"
           ],
           "xaxis": "x",
           "y": [
            437.325,
            78.0045,
            88.368
           ],
           "yaxis": "y"
          },
          {
           "alignmentgroup": "True",
           "hovertemplate": "City=%{x}<br>Date=1/13/2019<br>Total=%{y}<extra></extra>",
           "ids": [
            "B",
            "B",
            "B"
           ],
           "legendgroup": "Mandalay",
           "marker": {
            "color": "#00cc96",
            "pattern": {
             "shape": ""
            }
           },
           "name": "Mandalay",
           "offsetgroup": "Mandalay",
           "orientation": "v",
           "showlegend": true,
           "textposition": "auto",
           "type": "bar",
           "x": [
            "Mandalay",
            "Mandalay",
            "Mandalay"
           ],
           "xaxis": "x",
           "y": [
            125.706,
            152.019,
            457.38
           ],
           "yaxis": "y"
          }
         ],
         "name": "1/13/2019"
        },
        {
         "data": [
          {
           "alignmentgroup": "True",
           "hovertemplate": "City=%{x}<br>Date=1/9/2019<br>Total=%{y}<extra></extra>",
           "ids": [
            "A"
           ],
           "legendgroup": "Yangon",
           "marker": {
            "color": "#636efa",
            "pattern": {
             "shape": ""
            }
           },
           "name": "Yangon",
           "offsetgroup": "Yangon",
           "orientation": "v",
           "showlegend": true,
           "textposition": "auto",
           "type": "bar",
           "x": [
            "Yangon"
           ],
           "xaxis": "x",
           "y": [
            202.335
           ],
           "yaxis": "y"
          },
          {
           "alignmentgroup": "True",
           "hovertemplate": "City=%{x}<br>Date=1/9/2019<br>Total=%{y}<extra></extra>",
           "ids": [
            "C",
            "C",
            "C",
            "C",
            "C"
           ],
           "legendgroup": "Naypyitaw",
           "marker": {
            "color": "#EF553B",
            "pattern": {
             "shape": ""
            }
           },
           "name": "Naypyitaw",
           "offsetgroup": "Naypyitaw",
           "orientation": "v",
           "showlegend": true,
           "textposition": "auto",
           "type": "bar",
           "x": [
            "Naypyitaw",
            "Naypyitaw",
            "Naypyitaw",
            "Naypyitaw",
            "Naypyitaw"
           ],
           "xaxis": "x",
           "y": [
            463.428,
            1002.12,
            310.716,
            165.9,
            708.3195
           ],
           "yaxis": "y"
          },
          {
           "alignmentgroup": "True",
           "hovertemplate": "City=%{x}<br>Date=1/9/2019<br>Total=%{y}<extra></extra>",
           "ids": [
            "B",
            "B"
           ],
           "legendgroup": "Mandalay",
           "marker": {
            "color": "#00cc96",
            "pattern": {
             "shape": ""
            }
           },
           "name": "Mandalay",
           "offsetgroup": "Mandalay",
           "orientation": "v",
           "showlegend": true,
           "textposition": "auto",
           "type": "bar",
           "x": [
            "Mandalay",
            "Mandalay"
           ],
           "xaxis": "x",
           "y": [
            99.54,
            68.985
           ],
           "yaxis": "y"
          }
         ],
         "name": "1/9/2019"
        },
        {
         "data": [
          {
           "alignmentgroup": "True",
           "hovertemplate": "City=%{x}<br>Date=1/12/2019<br>Total=%{y}<extra></extra>",
           "ids": [
            "A",
            "A",
            "A"
           ],
           "legendgroup": "Yangon",
           "marker": {
            "color": "#636efa",
            "pattern": {
             "shape": ""
            }
           },
           "name": "Yangon",
           "offsetgroup": "Yangon",
           "orientation": "v",
           "showlegend": true,
           "textposition": "auto",
           "type": "bar",
           "x": [
            "Yangon",
            "Yangon",
            "Yangon"
           ],
           "xaxis": "x",
           "y": [
            189.0945,
            931.035,
            308.91
           ],
           "yaxis": "y"
          },
          {
           "alignmentgroup": "True",
           "hovertemplate": "City=%{x}<br>Date=1/12/2019<br>Total=%{y}<extra></extra>",
           "ids": [
            "C",
            "C"
           ],
           "legendgroup": "Naypyitaw",
           "marker": {
            "color": "#EF553B",
            "pattern": {
             "shape": ""
            }
           },
           "name": "Naypyitaw",
           "offsetgroup": "Naypyitaw",
           "orientation": "v",
           "showlegend": true,
           "textposition": "auto",
           "type": "bar",
           "x": [
            "Naypyitaw",
            "Naypyitaw"
           ],
           "xaxis": "x",
           "y": [
            419.832,
            1023.75
           ],
           "yaxis": "y"
          },
          {
           "alignmentgroup": "True",
           "hovertemplate": "City=%{x}<br>Date=1/12/2019<br>Total=%{y}<extra></extra>",
           "ids": [
            "B",
            "B",
            "B",
            "B",
            "B",
            "B"
           ],
           "legendgroup": "Mandalay",
           "marker": {
            "color": "#00cc96",
            "pattern": {
             "shape": ""
            }
           },
           "name": "Mandalay",
           "offsetgroup": "Mandalay",
           "orientation": "v",
           "showlegend": true,
           "textposition": "auto",
           "type": "bar",
           "x": [
            "Mandalay",
            "Mandalay",
            "Mandalay",
            "Mandalay",
            "Mandalay",
            "Mandalay"
           ],
           "xaxis": "x",
           "y": [
            120.162,
            28.4235,
            874.125,
            769.104,
            144.963,
            375.3645
           ],
           "yaxis": "y"
          }
         ],
         "name": "1/12/2019"
        },
        {
         "data": [
          {
           "alignmentgroup": "True",
           "hovertemplate": "City=%{x}<br>Date=1/26/2019<br>Total=%{y}<extra></extra>",
           "ids": [
            "A",
            "A",
            "A"
           ],
           "legendgroup": "Yangon",
           "marker": {
            "color": "#636efa",
            "pattern": {
             "shape": ""
            }
           },
           "name": "Yangon",
           "offsetgroup": "Yangon",
           "orientation": "v",
           "showlegend": true,
           "textposition": "auto",
           "type": "bar",
           "x": [
            "Yangon",
            "Yangon",
            "Yangon"
           ],
           "xaxis": "x",
           "y": [
            379.9215,
            12.6945,
            22.386
           ],
           "yaxis": "y"
          },
          {
           "alignmentgroup": "True",
           "hovertemplate": "City=%{x}<br>Date=1/26/2019<br>Total=%{y}<extra></extra>",
           "ids": [
            "C",
            "C",
            "C",
            "C"
           ],
           "legendgroup": "Naypyitaw",
           "marker": {
            "color": "#EF553B",
            "pattern": {
             "shape": ""
            }
           },
           "name": "Naypyitaw",
           "offsetgroup": "Naypyitaw",
           "orientation": "v",
           "showlegend": true,
           "textposition": "auto",
           "type": "bar",
           "x": [
            "Naypyitaw",
            "Naypyitaw",
            "Naypyitaw",
            "Naypyitaw"
           ],
           "xaxis": "x",
           "y": [
            471.03,
            193.4625,
            68.2395,
            106.5015
           ],
           "yaxis": "y"
          },
          {
           "alignmentgroup": "True",
           "hovertemplate": "City=%{x}<br>Date=1/26/2019<br>Total=%{y}<extra></extra>",
           "ids": [
            "B",
            "B",
            "B",
            "B",
            "B",
            "B",
            "B",
            "B",
            "B",
            "B"
           ],
           "legendgroup": "Mandalay",
           "marker": {
            "color": "#00cc96",
            "pattern": {
             "shape": ""
            }
           },
           "name": "Mandalay",
           "offsetgroup": "Mandalay",
           "orientation": "v",
           "showlegend": true,
           "textposition": "auto",
           "type": "bar",
           "x": [
            "Mandalay",
            "Mandalay",
            "Mandalay",
            "Mandalay",
            "Mandalay",
            "Mandalay",
            "Mandalay",
            "Mandalay",
            "Mandalay",
            "Mandalay"
           ],
           "xaxis": "x",
           "y": [
            304.542,
            420.2625,
            107.31,
            655.5465,
            170.877,
            398.475,
            270.585,
            165.648,
            69.993,
            640.038
           ],
           "yaxis": "y"
          }
         ],
         "name": "1/26/2019"
        },
        {
         "data": [
          {
           "alignmentgroup": "True",
           "hovertemplate": "City=%{x}<br>Date=1/23/2019<br>Total=%{y}<extra></extra>",
           "ids": [
            "A",
            "A",
            "A",
            "A",
            "A",
            "A",
            "A"
           ],
           "legendgroup": "Yangon",
           "marker": {
            "color": "#636efa",
            "pattern": {
             "shape": ""
            }
           },
           "name": "Yangon",
           "offsetgroup": "Yangon",
           "orientation": "v",
           "showlegend": true,
           "textposition": "auto",
           "type": "bar",
           "x": [
            "Yangon",
            "Yangon",
            "Yangon",
            "Yangon",
            "Yangon",
            "Yangon",
            "Yangon"
           ],
           "xaxis": "x",
           "y": [
            94.185,
            416.178,
            32.1405,
            620.739,
            503.7375,
            450.1035,
            244.23
           ],
           "yaxis": "y"
          },
          {
           "alignmentgroup": "True",
           "hovertemplate": "City=%{x}<br>Date=1/23/2019<br>Total=%{y}<extra></extra>",
           "ids": [
            "C",
            "C",
            "C",
            "C",
            "C",
            "C",
            "C",
            "C",
            "C",
            "C"
           ],
           "legendgroup": "Naypyitaw",
           "marker": {
            "color": "#EF553B",
            "pattern": {
             "shape": ""
            }
           },
           "name": "Naypyitaw",
           "offsetgroup": "Naypyitaw",
           "orientation": "v",
           "showlegend": true,
           "textposition": "auto",
           "type": "bar",
           "x": [
            "Naypyitaw",
            "Naypyitaw",
            "Naypyitaw",
            "Naypyitaw",
            "Naypyitaw",
            "Naypyitaw",
            "Naypyitaw",
            "Naypyitaw",
            "Naypyitaw",
            "Naypyitaw"
           ],
           "xaxis": "x",
           "y": [
            161.7,
            198.996,
            942.9,
            323.148,
            264.7575,
            527.751,
            87.234,
            57.6975,
            333.984,
            734.706
           ],
           "yaxis": "y"
          }
         ],
         "name": "1/23/2019"
        },
        {
         "data": [
          {
           "alignmentgroup": "True",
           "hovertemplate": "City=%{x}<br>Date=2/23/2019<br>Total=%{y}<extra></extra>",
           "ids": [
            "A"
           ],
           "legendgroup": "Yangon",
           "marker": {
            "color": "#636efa",
            "pattern": {
             "shape": ""
            }
           },
           "name": "Yangon",
           "offsetgroup": "Yangon",
           "orientation": "v",
           "showlegend": true,
           "textposition": "auto",
           "type": "bar",
           "x": [
            "Yangon"
           ],
           "xaxis": "x",
           "y": [
            308.574
           ],
           "yaxis": "y"
          },
          {
           "alignmentgroup": "True",
           "hovertemplate": "City=%{x}<br>Date=2/23/2019<br>Total=%{y}<extra></extra>",
           "ids": [
            "C",
            "C",
            "C"
           ],
           "legendgroup": "Naypyitaw",
           "marker": {
            "color": "#EF553B",
            "pattern": {
             "shape": ""
            }
           },
           "name": "Naypyitaw",
           "offsetgroup": "Naypyitaw",
           "orientation": "v",
           "showlegend": true,
           "textposition": "auto",
           "type": "bar",
           "x": [
            "Naypyitaw",
            "Naypyitaw",
            "Naypyitaw"
           ],
           "xaxis": "x",
           "y": [
            337.512,
            37.6845,
            429.1665
           ],
           "yaxis": "y"
          },
          {
           "alignmentgroup": "True",
           "hovertemplate": "City=%{x}<br>Date=2/23/2019<br>Total=%{y}<extra></extra>",
           "ids": [
            "B",
            "B",
            "B",
            "B"
           ],
           "legendgroup": "Mandalay",
           "marker": {
            "color": "#00cc96",
            "pattern": {
             "shape": ""
            }
           },
           "name": "Mandalay",
           "offsetgroup": "Mandalay",
           "orientation": "v",
           "showlegend": true,
           "textposition": "auto",
           "type": "bar",
           "x": [
            "Mandalay",
            "Mandalay",
            "Mandalay",
            "Mandalay"
           ],
           "xaxis": "x",
           "y": [
            125.664,
            311.1885,
            75.474,
            714.3255
           ],
           "yaxis": "y"
          }
         ],
         "name": "2/23/2019"
        },
        {
         "data": [
          {
           "alignmentgroup": "True",
           "hovertemplate": "City=%{x}<br>Date=1/2/2019<br>Total=%{y}<extra></extra>",
           "ids": [
            "A",
            "A"
           ],
           "legendgroup": "Yangon",
           "marker": {
            "color": "#636efa",
            "pattern": {
             "shape": ""
            }
           },
           "name": "Yangon",
           "offsetgroup": "Yangon",
           "orientation": "v",
           "showlegend": true,
           "textposition": "auto",
           "type": "bar",
           "x": [
            "Yangon",
            "Yangon"
           ],
           "xaxis": "x",
           "y": [
            44.5935,
            262.458
           ],
           "yaxis": "y"
          },
          {
           "alignmentgroup": "True",
           "hovertemplate": "City=%{x}<br>Date=1/2/2019<br>Total=%{y}<extra></extra>",
           "ids": [
            "C",
            "C"
           ],
           "legendgroup": "Naypyitaw",
           "marker": {
            "color": "#EF553B",
            "pattern": {
             "shape": ""
            }
           },
           "name": "Naypyitaw",
           "offsetgroup": "Naypyitaw",
           "orientation": "v",
           "showlegend": true,
           "textposition": "auto",
           "type": "bar",
           "x": [
            "Naypyitaw",
            "Naypyitaw"
           ],
           "xaxis": "x",
           "y": [
            209.622,
            266.028
           ],
           "yaxis": "y"
          },
          {
           "alignmentgroup": "True",
           "hovertemplate": "City=%{x}<br>Date=1/2/2019<br>Total=%{y}<extra></extra>",
           "ids": [
            "B",
            "B",
            "B",
            "B"
           ],
           "legendgroup": "Mandalay",
           "marker": {
            "color": "#00cc96",
            "pattern": {
             "shape": ""
            }
           },
           "name": "Mandalay",
           "offsetgroup": "Mandalay",
           "orientation": "v",
           "showlegend": true,
           "textposition": "auto",
           "type": "bar",
           "x": [
            "Mandalay",
            "Mandalay",
            "Mandalay",
            "Mandalay"
           ],
           "xaxis": "x",
           "y": [
            359.205,
            383.7645,
            138.663,
            281.169
           ],
           "yaxis": "y"
          }
         ],
         "name": "1/2/2019"
        },
        {
         "data": [
          {
           "alignmentgroup": "True",
           "hovertemplate": "City=%{x}<br>Date=2/9/2019<br>Total=%{y}<extra></extra>",
           "ids": [
            "A",
            "A",
            "A"
           ],
           "legendgroup": "Yangon",
           "marker": {
            "color": "#636efa",
            "pattern": {
             "shape": ""
            }
           },
           "name": "Yangon",
           "offsetgroup": "Yangon",
           "orientation": "v",
           "showlegend": true,
           "textposition": "auto",
           "type": "bar",
           "x": [
            "Yangon",
            "Yangon",
            "Yangon"
           ],
           "xaxis": "x",
           "y": [
            233.52,
            331.128,
            33.432
           ],
           "yaxis": "y"
          },
          {
           "alignmentgroup": "True",
           "hovertemplate": "City=%{x}<br>Date=2/9/2019<br>Total=%{y}<extra></extra>",
           "ids": [
            "C",
            "C",
            "C",
            "C",
            "C",
            "C"
           ],
           "legendgroup": "Naypyitaw",
           "marker": {
            "color": "#EF553B",
            "pattern": {
             "shape": ""
            }
           },
           "name": "Naypyitaw",
           "offsetgroup": "Naypyitaw",
           "orientation": "v",
           "showlegend": true,
           "textposition": "auto",
           "type": "bar",
           "x": [
            "Naypyitaw",
            "Naypyitaw",
            "Naypyitaw",
            "Naypyitaw",
            "Naypyitaw",
            "Naypyitaw"
           ],
           "xaxis": "x",
           "y": [
            78.435,
            472.311,
            66.402,
            22.659,
            100.485,
            888.405
           ],
           "yaxis": "y"
          },
          {
           "alignmentgroup": "True",
           "hovertemplate": "City=%{x}<br>Date=2/9/2019<br>Total=%{y}<extra></extra>",
           "ids": [
            "B",
            "B",
            "B",
            "B"
           ],
           "legendgroup": "Mandalay",
           "marker": {
            "color": "#00cc96",
            "pattern": {
             "shape": ""
            }
           },
           "name": "Mandalay",
           "offsetgroup": "Mandalay",
           "orientation": "v",
           "showlegend": true,
           "textposition": "auto",
           "type": "bar",
           "x": [
            "Mandalay",
            "Mandalay",
            "Mandalay",
            "Mandalay"
           ],
           "xaxis": "x",
           "y": [
            256.41,
            180.4005,
            193.074,
            415.233
           ],
           "yaxis": "y"
          }
         ],
         "name": "2/9/2019"
        },
        {
         "data": [
          {
           "alignmentgroup": "True",
           "hovertemplate": "City=%{x}<br>Date=3/26/2019<br>Total=%{y}<extra></extra>",
           "ids": [
            "A",
            "A",
            "A",
            "A",
            "A",
            "A"
           ],
           "legendgroup": "Yangon",
           "marker": {
            "color": "#636efa",
            "pattern": {
             "shape": ""
            }
           },
           "name": "Yangon",
           "offsetgroup": "Yangon",
           "orientation": "v",
           "showlegend": true,
           "textposition": "auto",
           "type": "bar",
           "x": [
            "Yangon",
            "Yangon",
            "Yangon",
            "Yangon",
            "Yangon",
            "Yangon"
           ],
           "xaxis": "x",
           "y": [
            530.67,
            269.934,
            56.1225,
            130.032,
            54.999,
            145.5825
           ],
           "yaxis": "y"
          },
          {
           "alignmentgroup": "True",
           "hovertemplate": "City=%{x}<br>Date=3/26/2019<br>Total=%{y}<extra></extra>",
           "ids": [
            "C",
            "C",
            "C",
            "C"
           ],
           "legendgroup": "Naypyitaw",
           "marker": {
            "color": "#EF553B",
            "pattern": {
             "shape": ""
            }
           },
           "name": "Naypyitaw",
           "offsetgroup": "Naypyitaw",
           "orientation": "v",
           "showlegend": true,
           "textposition": "auto",
           "type": "bar",
           "x": [
            "Naypyitaw",
            "Naypyitaw",
            "Naypyitaw",
            "Naypyitaw"
           ],
           "xaxis": "x",
           "y": [
            51.1455,
            91.77,
            154.1295,
            176.925
           ],
           "yaxis": "y"
          },
          {
           "alignmentgroup": "True",
           "hovertemplate": "City=%{x}<br>Date=3/26/2019<br>Total=%{y}<extra></extra>",
           "ids": [
            "B",
            "B",
            "B"
           ],
           "legendgroup": "Mandalay",
           "marker": {
            "color": "#00cc96",
            "pattern": {
             "shape": ""
            }
           },
           "name": "Mandalay",
           "offsetgroup": "Mandalay",
           "orientation": "v",
           "showlegend": true,
           "textposition": "auto",
           "type": "bar",
           "x": [
            "Mandalay",
            "Mandalay",
            "Mandalay"
           ],
           "xaxis": "x",
           "y": [
            41.076,
            143.9865,
            116.1405
           ],
           "yaxis": "y"
          }
         ],
         "name": "3/26/2019"
        },
        {
         "data": [
          {
           "alignmentgroup": "True",
           "hovertemplate": "City=%{x}<br>Date=3/1/2019<br>Total=%{y}<extra></extra>",
           "ids": [
            "A",
            "A",
            "A"
           ],
           "legendgroup": "Yangon",
           "marker": {
            "color": "#636efa",
            "pattern": {
             "shape": ""
            }
           },
           "name": "Yangon",
           "offsetgroup": "Yangon",
           "orientation": "v",
           "showlegend": true,
           "textposition": "auto",
           "type": "bar",
           "x": [
            "Yangon",
            "Yangon",
            "Yangon"
           ],
           "xaxis": "x",
           "y": [
            72.933,
            477.54,
            93.744
           ],
           "yaxis": "y"
          },
          {
           "alignmentgroup": "True",
           "hovertemplate": "City=%{x}<br>Date=3/1/2019<br>Total=%{y}<extra></extra>",
           "ids": [
            "C",
            "C"
           ],
           "legendgroup": "Naypyitaw",
           "marker": {
            "color": "#EF553B",
            "pattern": {
             "shape": ""
            }
           },
           "name": "Naypyitaw",
           "offsetgroup": "Naypyitaw",
           "orientation": "v",
           "showlegend": true,
           "textposition": "auto",
           "type": "bar",
           "x": [
            "Naypyitaw",
            "Naypyitaw"
           ],
           "xaxis": "x",
           "y": [
            742.2975,
            314.538
           ],
           "yaxis": "y"
          },
          {
           "alignmentgroup": "True",
           "hovertemplate": "City=%{x}<br>Date=3/1/2019<br>Total=%{y}<extra></extra>",
           "ids": [
            "B",
            "B",
            "B",
            "B",
            "B"
           ],
           "legendgroup": "Mandalay",
           "marker": {
            "color": "#00cc96",
            "pattern": {
             "shape": ""
            }
           },
           "name": "Mandalay",
           "offsetgroup": "Mandalay",
           "orientation": "v",
           "showlegend": true,
           "textposition": "auto",
           "type": "bar",
           "x": [
            "Mandalay",
            "Mandalay",
            "Mandalay",
            "Mandalay",
            "Mandalay"
           ],
           "xaxis": "x",
           "y": [
            86.625,
            597.6285,
            145.971,
            46.683,
            56.406
           ],
           "yaxis": "y"
          }
         ],
         "name": "3/1/2019"
        },
        {
         "data": [
          {
           "alignmentgroup": "True",
           "hovertemplate": "City=%{x}<br>Date=2/1/2019<br>Total=%{y}<extra></extra>",
           "ids": [
            "A",
            "A",
            "A"
           ],
           "legendgroup": "Yangon",
           "marker": {
            "color": "#636efa",
            "pattern": {
             "shape": ""
            }
           },
           "name": "Yangon",
           "offsetgroup": "Yangon",
           "orientation": "v",
           "showlegend": true,
           "textposition": "auto",
           "type": "bar",
           "x": [
            "Yangon",
            "Yangon",
            "Yangon"
           ],
           "xaxis": "x",
           "y": [
            510.972,
            74.7075,
            326.256
           ],
           "yaxis": "y"
          },
          {
           "alignmentgroup": "True",
           "hovertemplate": "City=%{x}<br>Date=2/1/2019<br>Total=%{y}<extra></extra>",
           "ids": [
            "C",
            "C",
            "C"
           ],
           "legendgroup": "Naypyitaw",
           "marker": {
            "color": "#EF553B",
            "pattern": {
             "shape": ""
            }
           },
           "name": "Naypyitaw",
           "offsetgroup": "Naypyitaw",
           "orientation": "v",
           "showlegend": true,
           "textposition": "auto",
           "type": "bar",
           "x": [
            "Naypyitaw",
            "Naypyitaw",
            "Naypyitaw"
           ],
           "xaxis": "x",
           "y": [
            218.0115,
            763.4655,
            551.124
           ],
           "yaxis": "y"
          }
         ],
         "name": "2/1/2019"
        },
        {
         "data": [
          {
           "alignmentgroup": "True",
           "hovertemplate": "City=%{x}<br>Date=3/28/2019<br>Total=%{y}<extra></extra>",
           "ids": [
            "A",
            "A",
            "A",
            "A",
            "A",
            "A"
           ],
           "legendgroup": "Yangon",
           "marker": {
            "color": "#636efa",
            "pattern": {
             "shape": ""
            }
           },
           "name": "Yangon",
           "offsetgroup": "Yangon",
           "orientation": "v",
           "showlegend": true,
           "textposition": "auto",
           "type": "bar",
           "x": [
            "Yangon",
            "Yangon",
            "Yangon",
            "Yangon",
            "Yangon",
            "Yangon"
           ],
           "xaxis": "x",
           "y": [
            367.038,
            191.247,
            269.535,
            225.792,
            525.231,
            74.088
           ],
           "yaxis": "y"
          },
          {
           "alignmentgroup": "True",
           "hovertemplate": "City=%{x}<br>Date=3/28/2019<br>Total=%{y}<extra></extra>",
           "ids": [
            "C",
            "C",
            "C"
           ],
           "legendgroup": "Naypyitaw",
           "marker": {
            "color": "#EF553B",
            "pattern": {
             "shape": ""
            }
           },
           "name": "Naypyitaw",
           "offsetgroup": "Naypyitaw",
           "orientation": "v",
           "showlegend": true,
           "textposition": "auto",
           "type": "bar",
           "x": [
            "Naypyitaw",
            "Naypyitaw",
            "Naypyitaw"
           ],
           "xaxis": "x",
           "y": [
            150.0975,
            121.59,
            209.118
           ],
           "yaxis": "y"
          },
          {
           "alignmentgroup": "True",
           "hovertemplate": "City=%{x}<br>Date=3/28/2019<br>Total=%{y}<extra></extra>",
           "ids": [
            "B"
           ],
           "legendgroup": "Mandalay",
           "marker": {
            "color": "#00cc96",
            "pattern": {
             "shape": ""
            }
           },
           "name": "Mandalay",
           "offsetgroup": "Mandalay",
           "orientation": "v",
           "showlegend": true,
           "textposition": "auto",
           "type": "bar",
           "x": [
            "Mandalay"
           ],
           "xaxis": "x",
           "y": [
            95.6655
           ],
           "yaxis": "y"
          }
         ],
         "name": "3/28/2019"
        },
        {
         "data": [
          {
           "alignmentgroup": "True",
           "hovertemplate": "City=%{x}<br>Date=3/24/2019<br>Total=%{y}<extra></extra>",
           "ids": [
            "A",
            "A"
           ],
           "legendgroup": "Yangon",
           "marker": {
            "color": "#636efa",
            "pattern": {
             "shape": ""
            }
           },
           "name": "Yangon",
           "offsetgroup": "Yangon",
           "orientation": "v",
           "showlegend": true,
           "textposition": "auto",
           "type": "bar",
           "x": [
            "Yangon",
            "Yangon"
           ],
           "xaxis": "x",
           "y": [
            276.948,
            147.672
           ],
           "yaxis": "y"
          },
          {
           "alignmentgroup": "True",
           "hovertemplate": "City=%{x}<br>Date=3/24/2019<br>Total=%{y}<extra></extra>",
           "ids": [
            "C",
            "C",
            "C",
            "C",
            "C"
           ],
           "legendgroup": "Naypyitaw",
           "marker": {
            "color": "#EF553B",
            "pattern": {
             "shape": ""
            }
           },
           "name": "Naypyitaw",
           "offsetgroup": "Naypyitaw",
           "orientation": "v",
           "showlegend": true,
           "textposition": "auto",
           "type": "bar",
           "x": [
            "Naypyitaw",
            "Naypyitaw",
            "Naypyitaw",
            "Naypyitaw",
            "Naypyitaw"
           ],
           "xaxis": "x",
           "y": [
            321.111,
            78.603,
            77.175,
            681.975,
            329.196
           ],
           "yaxis": "y"
          },
          {
           "alignmentgroup": "True",
           "hovertemplate": "City=%{x}<br>Date=3/24/2019<br>Total=%{y}<extra></extra>",
           "ids": [
            "B",
            "B",
            "B",
            "B"
           ],
           "legendgroup": "Mandalay",
           "marker": {
            "color": "#00cc96",
            "pattern": {
             "shape": ""
            }
           },
           "name": "Mandalay",
           "offsetgroup": "Mandalay",
           "orientation": "v",
           "showlegend": true,
           "textposition": "auto",
           "type": "bar",
           "x": [
            "Mandalay",
            "Mandalay",
            "Mandalay",
            "Mandalay"
           ],
           "xaxis": "x",
           "y": [
            130.0425,
            370.125,
            435.12,
            629.496
           ],
           "yaxis": "y"
          }
         ],
         "name": "3/24/2019"
        },
        {
         "data": [
          {
           "alignmentgroup": "True",
           "hovertemplate": "City=%{x}<br>Date=2/5/2019<br>Total=%{y}<extra></extra>",
           "ids": [
            "A",
            "A",
            "A",
            "A",
            "A"
           ],
           "legendgroup": "Yangon",
           "marker": {
            "color": "#636efa",
            "pattern": {
             "shape": ""
            }
           },
           "name": "Yangon",
           "offsetgroup": "Yangon",
           "orientation": "v",
           "showlegend": true,
           "textposition": "auto",
           "type": "bar",
           "x": [
            "Yangon",
            "Yangon",
            "Yangon",
            "Yangon",
            "Yangon"
           ],
           "xaxis": "x",
           "y": [
            163.233,
            236.88,
            32.151,
            92.295,
            43.869
           ],
           "yaxis": "y"
          },
          {
           "alignmentgroup": "True",
           "hovertemplate": "City=%{x}<br>Date=2/5/2019<br>Total=%{y}<extra></extra>",
           "ids": [
            "C",
            "C",
            "C",
            "C"
           ],
           "legendgroup": "Naypyitaw",
           "marker": {
            "color": "#EF553B",
            "pattern": {
             "shape": ""
            }
           },
           "name": "Naypyitaw",
           "offsetgroup": "Naypyitaw",
           "orientation": "v",
           "showlegend": true,
           "textposition": "auto",
           "type": "bar",
           "x": [
            "Naypyitaw",
            "Naypyitaw",
            "Naypyitaw",
            "Naypyitaw"
           ],
           "xaxis": "x",
           "y": [
            309.3615,
            720.3,
            145.593,
            297.801
           ],
           "yaxis": "y"
          },
          {
           "alignmentgroup": "True",
           "hovertemplate": "City=%{x}<br>Date=2/5/2019<br>Total=%{y}<extra></extra>",
           "ids": [
            "B",
            "B",
            "B"
           ],
           "legendgroup": "Mandalay",
           "marker": {
            "color": "#00cc96",
            "pattern": {
             "shape": ""
            }
           },
           "name": "Mandalay",
           "offsetgroup": "Mandalay",
           "orientation": "v",
           "showlegend": true,
           "textposition": "auto",
           "type": "bar",
           "x": [
            "Mandalay",
            "Mandalay",
            "Mandalay"
           ],
           "xaxis": "x",
           "y": [
            34.629,
            404.649,
            550.368
           ],
           "yaxis": "y"
          }
         ],
         "name": "2/5/2019"
        },
        {
         "data": [
          {
           "alignmentgroup": "True",
           "hovertemplate": "City=%{x}<br>Date=1/19/2019<br>Total=%{y}<extra></extra>",
           "ids": [
            "A",
            "A",
            "A",
            "A",
            "A",
            "A",
            "A",
            "A"
           ],
           "legendgroup": "Yangon",
           "marker": {
            "color": "#636efa",
            "pattern": {
             "shape": ""
            }
           },
           "name": "Yangon",
           "offsetgroup": "Yangon",
           "orientation": "v",
           "showlegend": true,
           "textposition": "auto",
           "type": "bar",
           "x": [
            "Yangon",
            "Yangon",
            "Yangon",
            "Yangon",
            "Yangon",
            "Yangon",
            "Yangon",
            "Yangon"
           ],
           "xaxis": "x",
           "y": [
            548.7615,
            323.064,
            282.492,
            673.995,
            37.611,
            284.592,
            624.33,
            479.64
           ],
           "yaxis": "y"
          },
          {
           "alignmentgroup": "True",
           "hovertemplate": "City=%{x}<br>Date=1/19/2019<br>Total=%{y}<extra></extra>",
           "ids": [
            "C",
            "C",
            "C",
            "C",
            "C"
           ],
           "legendgroup": "Naypyitaw",
           "marker": {
            "color": "#EF553B",
            "pattern": {
             "shape": ""
            }
           },
           "name": "Naypyitaw",
           "offsetgroup": "Naypyitaw",
           "orientation": "v",
           "showlegend": true,
           "textposition": "auto",
           "type": "bar",
           "x": [
            "Naypyitaw",
            "Naypyitaw",
            "Naypyitaw",
            "Naypyitaw",
            "Naypyitaw"
           ],
           "xaxis": "x",
           "y": [
            362.712,
            93.0405,
            84.9765,
            235.746,
            250.278
           ],
           "yaxis": "y"
          },
          {
           "alignmentgroup": "True",
           "hovertemplate": "City=%{x}<br>Date=1/19/2019<br>Total=%{y}<extra></extra>",
           "ids": [
            "B",
            "B",
            "B"
           ],
           "legendgroup": "Mandalay",
           "marker": {
            "color": "#00cc96",
            "pattern": {
             "shape": ""
            }
           },
           "name": "Mandalay",
           "offsetgroup": "Mandalay",
           "orientation": "v",
           "showlegend": true,
           "textposition": "auto",
           "type": "bar",
           "x": [
            "Mandalay",
            "Mandalay",
            "Mandalay"
           ],
           "xaxis": "x",
           "y": [
            333.207,
            198.639,
            101.64
           ],
           "yaxis": "y"
          }
         ],
         "name": "1/19/2019"
        },
        {
         "data": [
          {
           "alignmentgroup": "True",
           "hovertemplate": "City=%{x}<br>Date=1/16/2019<br>Total=%{y}<extra></extra>",
           "ids": [
            "A",
            "A"
           ],
           "legendgroup": "Yangon",
           "marker": {
            "color": "#636efa",
            "pattern": {
             "shape": ""
            }
           },
           "name": "Yangon",
           "offsetgroup": "Yangon",
           "orientation": "v",
           "showlegend": true,
           "textposition": "auto",
           "type": "bar",
           "x": [
            "Yangon",
            "Yangon"
           ],
           "xaxis": "x",
           "y": [
            667.38,
            195.678
           ],
           "yaxis": "y"
          },
          {
           "alignmentgroup": "True",
           "hovertemplate": "City=%{x}<br>Date=1/16/2019<br>Total=%{y}<extra></extra>",
           "ids": [
            "C",
            "C",
            "C",
            "C",
            "C"
           ],
           "legendgroup": "Naypyitaw",
           "marker": {
            "color": "#EF553B",
            "pattern": {
             "shape": ""
            }
           },
           "name": "Naypyitaw",
           "offsetgroup": "Naypyitaw",
           "orientation": "v",
           "showlegend": true,
           "textposition": "auto",
           "type": "bar",
           "x": [
            "Naypyitaw",
            "Naypyitaw",
            "Naypyitaw",
            "Naypyitaw",
            "Naypyitaw"
           ],
           "xaxis": "x",
           "y": [
            1003.59,
            881.307,
            32.529,
            125.979,
            497.07
           ],
           "yaxis": "y"
          },
          {
           "alignmentgroup": "True",
           "hovertemplate": "City=%{x}<br>Date=1/16/2019<br>Total=%{y}<extra></extra>",
           "ids": [
            "B",
            "B",
            "B"
           ],
           "legendgroup": "Mandalay",
           "marker": {
            "color": "#00cc96",
            "pattern": {
             "shape": ""
            }
           },
           "name": "Mandalay",
           "offsetgroup": "Mandalay",
           "orientation": "v",
           "showlegend": true,
           "textposition": "auto",
           "type": "bar",
           "x": [
            "Mandalay",
            "Mandalay",
            "Mandalay"
           ],
           "xaxis": "x",
           "y": [
            53.928,
            666.939,
            164.682
           ],
           "yaxis": "y"
          }
         ],
         "name": "1/16/2019"
        },
        {
         "data": [
          {
           "alignmentgroup": "True",
           "hovertemplate": "City=%{x}<br>Date=1/8/2019<br>Total=%{y}<extra></extra>",
           "ids": [
            "A",
            "A",
            "A",
            "A"
           ],
           "legendgroup": "Yangon",
           "marker": {
            "color": "#636efa",
            "pattern": {
             "shape": ""
            }
           },
           "name": "Yangon",
           "offsetgroup": "Yangon",
           "orientation": "v",
           "showlegend": true,
           "textposition": "auto",
           "type": "bar",
           "x": [
            "Yangon",
            "Yangon",
            "Yangon",
            "Yangon"
           ],
           "xaxis": "x",
           "y": [
            194.985,
            210.966,
            26.796,
            250.7085
           ],
           "yaxis": "y"
          },
          {
           "alignmentgroup": "True",
           "hovertemplate": "City=%{x}<br>Date=1/8/2019<br>Total=%{y}<extra></extra>",
           "ids": [
            "C",
            "C",
            "C",
            "C",
            "C",
            "C",
            "C",
            "C"
           ],
           "legendgroup": "Naypyitaw",
           "marker": {
            "color": "#EF553B",
            "pattern": {
             "shape": ""
            }
           },
           "name": "Naypyitaw",
           "offsetgroup": "Naypyitaw",
           "orientation": "v",
           "showlegend": true,
           "textposition": "auto",
           "type": "bar",
           "x": [
            "Naypyitaw",
            "Naypyitaw",
            "Naypyitaw",
            "Naypyitaw",
            "Naypyitaw",
            "Naypyitaw",
            "Naypyitaw",
            "Naypyitaw"
           ],
           "xaxis": "x",
           "y": [
            299.8485,
            575.736,
            190.596,
            13.419,
            381.3915,
            175.0455,
            688.716,
            76.5765
           ],
           "yaxis": "y"
          },
          {
           "alignmentgroup": "True",
           "hovertemplate": "City=%{x}<br>Date=1/8/2019<br>Total=%{y}<extra></extra>",
           "ids": [
            "B",
            "B",
            "B",
            "B",
            "B",
            "B"
           ],
           "legendgroup": "Mandalay",
           "marker": {
            "color": "#00cc96",
            "pattern": {
             "shape": ""
            }
           },
           "name": "Mandalay",
           "offsetgroup": "Mandalay",
           "orientation": "v",
           "showlegend": true,
           "textposition": "auto",
           "type": "bar",
           "x": [
            "Mandalay",
            "Mandalay",
            "Mandalay",
            "Mandalay",
            "Mandalay",
            "Mandalay"
           ],
           "xaxis": "x",
           "y": [
            783.3,
            152.775,
            103.11,
            136.143,
            684.915,
            348.705
           ],
           "yaxis": "y"
          }
         ],
         "name": "1/8/2019"
        },
        {
         "data": [
          {
           "alignmentgroup": "True",
           "hovertemplate": "City=%{x}<br>Date=2/18/2019<br>Total=%{y}<extra></extra>",
           "ids": [
            "A",
            "A",
            "A"
           ],
           "legendgroup": "Yangon",
           "marker": {
            "color": "#636efa",
            "pattern": {
             "shape": ""
            }
           },
           "name": "Yangon",
           "offsetgroup": "Yangon",
           "orientation": "v",
           "showlegend": true,
           "textposition": "auto",
           "type": "bar",
           "x": [
            "Yangon",
            "Yangon",
            "Yangon"
           ],
           "xaxis": "x",
           "y": [
            216.846,
            65.604,
            649.299
           ],
           "yaxis": "y"
          },
          {
           "alignmentgroup": "True",
           "hovertemplate": "City=%{x}<br>Date=2/18/2019<br>Total=%{y}<extra></extra>",
           "ids": [
            "C",
            "C",
            "C"
           ],
           "legendgroup": "Naypyitaw",
           "marker": {
            "color": "#EF553B",
            "pattern": {
             "shape": ""
            }
           },
           "name": "Naypyitaw",
           "offsetgroup": "Naypyitaw",
           "orientation": "v",
           "showlegend": true,
           "textposition": "auto",
           "type": "bar",
           "x": [
            "Naypyitaw",
            "Naypyitaw",
            "Naypyitaw"
           ],
           "xaxis": "x",
           "y": [
            284.193,
            185.094,
            63.9975
           ],
           "yaxis": "y"
          },
          {
           "alignmentgroup": "True",
           "hovertemplate": "City=%{x}<br>Date=2/18/2019<br>Total=%{y}<extra></extra>",
           "ids": [
            "B"
           ],
           "legendgroup": "Mandalay",
           "marker": {
            "color": "#00cc96",
            "pattern": {
             "shape": ""
            }
           },
           "name": "Mandalay",
           "offsetgroup": "Mandalay",
           "orientation": "v",
           "showlegend": true,
           "textposition": "auto",
           "type": "bar",
           "x": [
            "Mandalay"
           ],
           "xaxis": "x",
           "y": [
            30.996
           ],
           "yaxis": "y"
          }
         ],
         "name": "2/18/2019"
        },
        {
         "data": [
          {
           "alignmentgroup": "True",
           "hovertemplate": "City=%{x}<br>Date=1/18/2019<br>Total=%{y}<extra></extra>",
           "ids": [
            "A",
            "A",
            "A",
            "A"
           ],
           "legendgroup": "Yangon",
           "marker": {
            "color": "#636efa",
            "pattern": {
             "shape": ""
            }
           },
           "name": "Yangon",
           "offsetgroup": "Yangon",
           "orientation": "v",
           "showlegend": true,
           "textposition": "auto",
           "type": "bar",
           "x": [
            "Yangon",
            "Yangon",
            "Yangon",
            "Yangon"
           ],
           "xaxis": "x",
           "y": [
            138.1275,
            182.952,
            277.6725,
            561.078
           ],
           "yaxis": "y"
          },
          {
           "alignmentgroup": "True",
           "hovertemplate": "City=%{x}<br>Date=1/18/2019<br>Total=%{y}<extra></extra>",
           "ids": [
            "C",
            "C",
            "C"
           ],
           "legendgroup": "Naypyitaw",
           "marker": {
            "color": "#EF553B",
            "pattern": {
             "shape": ""
            }
           },
           "name": "Naypyitaw",
           "offsetgroup": "Naypyitaw",
           "orientation": "v",
           "showlegend": true,
           "textposition": "auto",
           "type": "bar",
           "x": [
            "Naypyitaw",
            "Naypyitaw",
            "Naypyitaw"
           ],
           "xaxis": "x",
           "y": [
            41.391,
            856.4535,
            446.439
           ],
           "yaxis": "y"
          },
          {
           "alignmentgroup": "True",
           "hovertemplate": "City=%{x}<br>Date=1/18/2019<br>Total=%{y}<extra></extra>",
           "ids": [
            "B",
            "B"
           ],
           "legendgroup": "Mandalay",
           "marker": {
            "color": "#00cc96",
            "pattern": {
             "shape": ""
            }
           },
           "name": "Mandalay",
           "offsetgroup": "Mandalay",
           "orientation": "v",
           "showlegend": true,
           "textposition": "auto",
           "type": "bar",
           "x": [
            "Mandalay",
            "Mandalay"
           ],
           "xaxis": "x",
           "y": [
            166.236,
            110.124
           ],
           "yaxis": "y"
          }
         ],
         "name": "1/18/2019"
        },
        {
         "data": [
          {
           "alignmentgroup": "True",
           "hovertemplate": "City=%{x}<br>Date=2/16/2019<br>Total=%{y}<extra></extra>",
           "ids": [
            "A"
           ],
           "legendgroup": "Yangon",
           "marker": {
            "color": "#636efa",
            "pattern": {
             "shape": ""
            }
           },
           "name": "Yangon",
           "offsetgroup": "Yangon",
           "orientation": "v",
           "showlegend": true,
           "textposition": "auto",
           "type": "bar",
           "x": [
            "Yangon"
           ],
           "xaxis": "x",
           "y": [
            182.427
           ],
           "yaxis": "y"
          },
          {
           "alignmentgroup": "True",
           "hovertemplate": "City=%{x}<br>Date=2/16/2019<br>Total=%{y}<extra></extra>",
           "ids": [
            "C",
            "C",
            "C"
           ],
           "legendgroup": "Naypyitaw",
           "marker": {
            "color": "#EF553B",
            "pattern": {
             "shape": ""
            }
           },
           "name": "Naypyitaw",
           "offsetgroup": "Naypyitaw",
           "orientation": "v",
           "showlegend": true,
           "textposition": "auto",
           "type": "bar",
           "x": [
            "Naypyitaw",
            "Naypyitaw",
            "Naypyitaw"
           ],
           "xaxis": "x",
           "y": [
            718.7565,
            63.2625,
            300.573
           ],
           "yaxis": "y"
          },
          {
           "alignmentgroup": "True",
           "hovertemplate": "City=%{x}<br>Date=2/16/2019<br>Total=%{y}<extra></extra>",
           "ids": [
            "B",
            "B",
            "B",
            "B"
           ],
           "legendgroup": "Mandalay",
           "marker": {
            "color": "#00cc96",
            "pattern": {
             "shape": ""
            }
           },
           "name": "Mandalay",
           "offsetgroup": "Mandalay",
           "orientation": "v",
           "showlegend": true,
           "textposition": "auto",
           "type": "bar",
           "x": [
            "Mandalay",
            "Mandalay",
            "Mandalay",
            "Mandalay"
           ],
           "xaxis": "x",
           "y": [
            545.055,
            95.9175,
            252.756,
            345.0195
           ],
           "yaxis": "y"
          }
         ],
         "name": "2/16/2019"
        },
        {
         "data": [
          {
           "alignmentgroup": "True",
           "hovertemplate": "City=%{x}<br>Date=2/22/2019<br>Total=%{y}<extra></extra>",
           "ids": [
            "A",
            "A",
            "A"
           ],
           "legendgroup": "Yangon",
           "marker": {
            "color": "#636efa",
            "pattern": {
             "shape": ""
            }
           },
           "name": "Yangon",
           "offsetgroup": "Yangon",
           "orientation": "v",
           "showlegend": true,
           "textposition": "auto",
           "type": "bar",
           "x": [
            "Yangon",
            "Yangon",
            "Yangon"
           ],
           "xaxis": "x",
           "y": [
            182.91,
            257.145,
            69.111
           ],
           "yaxis": "y"
          },
          {
           "alignmentgroup": "True",
           "hovertemplate": "City=%{x}<br>Date=2/22/2019<br>Total=%{y}<extra></extra>",
           "ids": [
            "C",
            "C",
            "C"
           ],
           "legendgroup": "Naypyitaw",
           "marker": {
            "color": "#EF553B",
            "pattern": {
             "shape": ""
            }
           },
           "name": "Naypyitaw",
           "offsetgroup": "Naypyitaw",
           "orientation": "v",
           "showlegend": true,
           "textposition": "auto",
           "type": "bar",
           "x": [
            "Naypyitaw",
            "Naypyitaw",
            "Naypyitaw"
           ],
           "xaxis": "x",
           "y": [
            31.9305,
            701.8515,
            26.733
           ],
           "yaxis": "y"
          },
          {
           "alignmentgroup": "True",
           "hovertemplate": "City=%{x}<br>Date=2/22/2019<br>Total=%{y}<extra></extra>",
           "ids": [
            "B",
            "B",
            "B",
            "B",
            "B"
           ],
           "legendgroup": "Mandalay",
           "marker": {
            "color": "#00cc96",
            "pattern": {
             "shape": ""
            }
           },
           "name": "Mandalay",
           "offsetgroup": "Mandalay",
           "orientation": "v",
           "showlegend": true,
           "textposition": "auto",
           "type": "bar",
           "x": [
            "Mandalay",
            "Mandalay",
            "Mandalay",
            "Mandalay",
            "Mandalay"
           ],
           "xaxis": "x",
           "y": [
            208.6875,
            49.812,
            513.2295,
            217.2555,
            183.645
           ],
           "yaxis": "y"
          }
         ],
         "name": "2/22/2019"
        },
        {
         "data": [
          {
           "alignmentgroup": "True",
           "hovertemplate": "City=%{x}<br>Date=1/29/2019<br>Total=%{y}<extra></extra>",
           "ids": [
            "A",
            "A",
            "A",
            "A",
            "A"
           ],
           "legendgroup": "Yangon",
           "marker": {
            "color": "#636efa",
            "pattern": {
             "shape": ""
            }
           },
           "name": "Yangon",
           "offsetgroup": "Yangon",
           "orientation": "v",
           "showlegend": true,
           "textposition": "auto",
           "type": "bar",
           "x": [
            "Yangon",
            "Yangon",
            "Yangon",
            "Yangon",
            "Yangon"
           ],
           "xaxis": "x",
           "y": [
            786.618,
            40.53,
            146.6325,
            458.6925,
            92.442
           ],
           "yaxis": "y"
          },
          {
           "alignmentgroup": "True",
           "hovertemplate": "City=%{x}<br>Date=1/29/2019<br>Total=%{y}<extra></extra>",
           "ids": [
            "C",
            "C",
            "C",
            "C"
           ],
           "legendgroup": "Naypyitaw",
           "marker": {
            "color": "#EF553B",
            "pattern": {
             "shape": ""
            }
           },
           "name": "Naypyitaw",
           "offsetgroup": "Naypyitaw",
           "orientation": "v",
           "showlegend": true,
           "textposition": "auto",
           "type": "bar",
           "x": [
            "Naypyitaw",
            "Naypyitaw",
            "Naypyitaw",
            "Naypyitaw"
           ],
           "xaxis": "x",
           "y": [
            120.645,
            265.104,
            616.98,
            42.3675
           ],
           "yaxis": "y"
          },
          {
           "alignmentgroup": "True",
           "hovertemplate": "City=%{x}<br>Date=1/29/2019<br>Total=%{y}<extra></extra>",
           "ids": [
            "B",
            "B",
            "B"
           ],
           "legendgroup": "Mandalay",
           "marker": {
            "color": "#00cc96",
            "pattern": {
             "shape": ""
            }
           },
           "name": "Mandalay",
           "offsetgroup": "Mandalay",
           "orientation": "v",
           "showlegend": true,
           "textposition": "auto",
           "type": "bar",
           "x": [
            "Mandalay",
            "Mandalay",
            "Mandalay"
           ],
           "xaxis": "x",
           "y": [
            137.004,
            529.515,
            280.035
           ],
           "yaxis": "y"
          }
         ],
         "name": "1/29/2019"
        },
        {
         "data": [
          {
           "alignmentgroup": "True",
           "hovertemplate": "City=%{x}<br>Date=1/4/2019<br>Total=%{y}<extra></extra>",
           "ids": [
            "A",
            "A"
           ],
           "legendgroup": "Yangon",
           "marker": {
            "color": "#636efa",
            "pattern": {
             "shape": ""
            }
           },
           "name": "Yangon",
           "offsetgroup": "Yangon",
           "orientation": "v",
           "showlegend": true,
           "textposition": "auto",
           "type": "bar",
           "x": [
            "Yangon",
            "Yangon"
           ],
           "xaxis": "x",
           "y": [
            373.17,
            110.0925
           ],
           "yaxis": "y"
          },
          {
           "alignmentgroup": "True",
           "hovertemplate": "City=%{x}<br>Date=1/4/2019<br>Total=%{y}<extra></extra>",
           "ids": [
            "C"
           ],
           "legendgroup": "Naypyitaw",
           "marker": {
            "color": "#EF553B",
            "pattern": {
             "shape": ""
            }
           },
           "name": "Naypyitaw",
           "offsetgroup": "Naypyitaw",
           "orientation": "v",
           "showlegend": true,
           "textposition": "auto",
           "type": "bar",
           "x": [
            "Naypyitaw"
           ],
           "xaxis": "x",
           "y": [
            629.8425
           ],
           "yaxis": "y"
          },
          {
           "alignmentgroup": "True",
           "hovertemplate": "City=%{x}<br>Date=1/4/2019<br>Total=%{y}<extra></extra>",
           "ids": [
            "B",
            "B",
            "B"
           ],
           "legendgroup": "Mandalay",
           "marker": {
            "color": "#00cc96",
            "pattern": {
             "shape": ""
            }
           },
           "name": "Mandalay",
           "offsetgroup": "Mandalay",
           "orientation": "v",
           "showlegend": true,
           "textposition": "auto",
           "type": "bar",
           "x": [
            "Mandalay",
            "Mandalay",
            "Mandalay"
           ],
           "xaxis": "x",
           "y": [
            75.7785,
            146.223,
            288.582
           ],
           "yaxis": "y"
          }
         ],
         "name": "1/4/2019"
        },
        {
         "data": [
          {
           "alignmentgroup": "True",
           "hovertemplate": "City=%{x}<br>Date=3/30/2019<br>Total=%{y}<extra></extra>",
           "ids": [
            "A",
            "A",
            "A",
            "A"
           ],
           "legendgroup": "Yangon",
           "marker": {
            "color": "#636efa",
            "pattern": {
             "shape": ""
            }
           },
           "name": "Yangon",
           "offsetgroup": "Yangon",
           "orientation": "v",
           "showlegend": true,
           "textposition": "auto",
           "type": "bar",
           "x": [
            "Yangon",
            "Yangon",
            "Yangon",
            "Yangon"
           ],
           "xaxis": "x",
           "y": [
            295.6905,
            338.31,
            216.846,
            469.77
           ],
           "yaxis": "y"
          },
          {
           "alignmentgroup": "True",
           "hovertemplate": "City=%{x}<br>Date=3/30/2019<br>Total=%{y}<extra></extra>",
           "ids": [
            "C",
            "C",
            "C",
            "C"
           ],
           "legendgroup": "Naypyitaw",
           "marker": {
            "color": "#EF553B",
            "pattern": {
             "shape": ""
            }
           },
           "name": "Naypyitaw",
           "offsetgroup": "Naypyitaw",
           "orientation": "v",
           "showlegend": true,
           "textposition": "auto",
           "type": "bar",
           "x": [
            "Naypyitaw",
            "Naypyitaw",
            "Naypyitaw",
            "Naypyitaw"
           ],
           "xaxis": "x",
           "y": [
            609.168,
            442.323,
            85.512,
            304.983
           ],
           "yaxis": "y"
          },
          {
           "alignmentgroup": "True",
           "hovertemplate": "City=%{x}<br>Date=3/30/2019<br>Total=%{y}<extra></extra>",
           "ids": [
            "B",
            "B",
            "B"
           ],
           "legendgroup": "Mandalay",
           "marker": {
            "color": "#00cc96",
            "pattern": {
             "shape": ""
            }
           },
           "name": "Mandalay",
           "offsetgroup": "Mandalay",
           "orientation": "v",
           "showlegend": true,
           "textposition": "auto",
           "type": "bar",
           "x": [
            "Mandalay",
            "Mandalay",
            "Mandalay"
           ],
           "xaxis": "x",
           "y": [
            918.729,
            609.588,
            196.14
           ],
           "yaxis": "y"
          }
         ],
         "name": "3/30/2019"
        },
        {
         "data": [
          {
           "alignmentgroup": "True",
           "hovertemplate": "City=%{x}<br>Date=1/30/2019<br>Total=%{y}<extra></extra>",
           "ids": [
            "A"
           ],
           "legendgroup": "Yangon",
           "marker": {
            "color": "#636efa",
            "pattern": {
             "shape": ""
            }
           },
           "name": "Yangon",
           "offsetgroup": "Yangon",
           "orientation": "v",
           "showlegend": true,
           "textposition": "auto",
           "type": "bar",
           "x": [
            "Yangon"
           ],
           "xaxis": "x",
           "y": [
            295.407
           ],
           "yaxis": "y"
          },
          {
           "alignmentgroup": "True",
           "hovertemplate": "City=%{x}<br>Date=1/30/2019<br>Total=%{y}<extra></extra>",
           "ids": [
            "C",
            "C",
            "C",
            "C",
            "C",
            "C"
           ],
           "legendgroup": "Naypyitaw",
           "marker": {
            "color": "#EF553B",
            "pattern": {
             "shape": ""
            }
           },
           "name": "Naypyitaw",
           "offsetgroup": "Naypyitaw",
           "orientation": "v",
           "showlegend": true,
           "textposition": "auto",
           "type": "bar",
           "x": [
            "Naypyitaw",
            "Naypyitaw",
            "Naypyitaw",
            "Naypyitaw",
            "Naypyitaw",
            "Naypyitaw"
           ],
           "xaxis": "x",
           "y": [
            160.44,
            509.4075,
            24.108,
            1034.46,
            55.2825,
            23.499
           ],
           "yaxis": "y"
          },
          {
           "alignmentgroup": "True",
           "hovertemplate": "City=%{x}<br>Date=1/30/2019<br>Total=%{y}<extra></extra>",
           "ids": [
            "B",
            "B"
           ],
           "legendgroup": "Mandalay",
           "marker": {
            "color": "#00cc96",
            "pattern": {
             "shape": ""
            }
           },
           "name": "Mandalay",
           "offsetgroup": "Mandalay",
           "orientation": "v",
           "showlegend": true,
           "textposition": "auto",
           "type": "bar",
           "x": [
            "Mandalay",
            "Mandalay"
           ],
           "xaxis": "x",
           "y": [
            99.33,
            356.328
           ],
           "yaxis": "y"
          }
         ],
         "name": "1/30/2019"
        },
        {
         "data": [
          {
           "alignmentgroup": "True",
           "hovertemplate": "City=%{x}<br>Date=1/3/2019<br>Total=%{y}<extra></extra>",
           "ids": [
            "A",
            "A",
            "A"
           ],
           "legendgroup": "Yangon",
           "marker": {
            "color": "#636efa",
            "pattern": {
             "shape": ""
            }
           },
           "name": "Yangon",
           "offsetgroup": "Yangon",
           "orientation": "v",
           "showlegend": true,
           "textposition": "auto",
           "type": "bar",
           "x": [
            "Yangon",
            "Yangon",
            "Yangon"
           ],
           "xaxis": "x",
           "y": [
            367.5525,
            217.6335,
            352.2225
           ],
           "yaxis": "y"
          },
          {
           "alignmentgroup": "True",
           "hovertemplate": "City=%{x}<br>Date=1/3/2019<br>Total=%{y}<extra></extra>",
           "ids": [
            "C",
            "C"
           ],
           "legendgroup": "Naypyitaw",
           "marker": {
            "color": "#EF553B",
            "pattern": {
             "shape": ""
            }
           },
           "name": "Naypyitaw",
           "offsetgroup": "Naypyitaw",
           "orientation": "v",
           "showlegend": true,
           "textposition": "auto",
           "type": "bar",
           "x": [
            "Naypyitaw",
            "Naypyitaw"
           ],
           "xaxis": "x",
           "y": [
            44.352,
            79.674
           ],
           "yaxis": "y"
          },
          {
           "alignmentgroup": "True",
           "hovertemplate": "City=%{x}<br>Date=1/3/2019<br>Total=%{y}<extra></extra>",
           "ids": [
            "B",
            "B",
            "B"
           ],
           "legendgroup": "Mandalay",
           "marker": {
            "color": "#00cc96",
            "pattern": {
             "shape": ""
            }
           },
           "name": "Mandalay",
           "offsetgroup": "Mandalay",
           "orientation": "v",
           "showlegend": true,
           "textposition": "auto",
           "type": "bar",
           "x": [
            "Mandalay",
            "Mandalay",
            "Mandalay"
           ],
           "xaxis": "x",
           "y": [
            98.049,
            397.845,
            520.8
           ],
           "yaxis": "y"
          }
         ],
         "name": "1/3/2019"
        },
        {
         "data": [
          {
           "alignmentgroup": "True",
           "hovertemplate": "City=%{x}<br>Date=3/21/2019<br>Total=%{y}<extra></extra>",
           "ids": [
            "A",
            "A",
            "A",
            "A"
           ],
           "legendgroup": "Yangon",
           "marker": {
            "color": "#636efa",
            "pattern": {
             "shape": ""
            }
           },
           "name": "Yangon",
           "offsetgroup": "Yangon",
           "orientation": "v",
           "showlegend": true,
           "textposition": "auto",
           "type": "bar",
           "x": [
            "Yangon",
            "Yangon",
            "Yangon",
            "Yangon"
           ],
           "xaxis": "x",
           "y": [
            319.788,
            83.412,
            149.3625,
            756.168
           ],
           "yaxis": "y"
          },
          {
           "alignmentgroup": "True",
           "hovertemplate": "City=%{x}<br>Date=3/21/2019<br>Total=%{y}<extra></extra>",
           "ids": [
            "C"
           ],
           "legendgroup": "Naypyitaw",
           "marker": {
            "color": "#EF553B",
            "pattern": {
             "shape": ""
            }
           },
           "name": "Naypyitaw",
           "offsetgroup": "Naypyitaw",
           "orientation": "v",
           "showlegend": true,
           "textposition": "auto",
           "type": "bar",
           "x": [
            "Naypyitaw"
           ],
           "xaxis": "x",
           "y": [
            360.927
           ],
           "yaxis": "y"
          },
          {
           "alignmentgroup": "True",
           "hovertemplate": "City=%{x}<br>Date=3/21/2019<br>Total=%{y}<extra></extra>",
           "ids": [
            "B"
           ],
           "legendgroup": "Mandalay",
           "marker": {
            "color": "#00cc96",
            "pattern": {
             "shape": ""
            }
           },
           "name": "Mandalay",
           "offsetgroup": "Mandalay",
           "orientation": "v",
           "showlegend": true,
           "textposition": "auto",
           "type": "bar",
           "x": [
            "Mandalay"
           ],
           "xaxis": "x",
           "y": [
            207.858
           ],
           "yaxis": "y"
          }
         ],
         "name": "3/21/2019"
        },
        {
         "data": [
          {
           "alignmentgroup": "True",
           "hovertemplate": "City=%{x}<br>Date=2/13/2019<br>Total=%{y}<extra></extra>",
           "ids": [
            "A",
            "A"
           ],
           "legendgroup": "Yangon",
           "marker": {
            "color": "#636efa",
            "pattern": {
             "shape": ""
            }
           },
           "name": "Yangon",
           "offsetgroup": "Yangon",
           "orientation": "v",
           "showlegend": true,
           "textposition": "auto",
           "type": "bar",
           "x": [
            "Yangon",
            "Yangon"
           ],
           "xaxis": "x",
           "y": [
            135.45,
            80.661
           ],
           "yaxis": "y"
          },
          {
           "alignmentgroup": "True",
           "hovertemplate": "City=%{x}<br>Date=2/13/2019<br>Total=%{y}<extra></extra>",
           "ids": [
            "C",
            "C",
            "C"
           ],
           "legendgroup": "Naypyitaw",
           "marker": {
            "color": "#EF553B",
            "pattern": {
             "shape": ""
            }
           },
           "name": "Naypyitaw",
           "offsetgroup": "Naypyitaw",
           "orientation": "v",
           "showlegend": true,
           "textposition": "auto",
           "type": "bar",
           "x": [
            "Naypyitaw",
            "Naypyitaw",
            "Naypyitaw"
           ],
           "xaxis": "x",
           "y": [
            165.4485,
            195.258,
            31.227
           ],
           "yaxis": "y"
          },
          {
           "alignmentgroup": "True",
           "hovertemplate": "City=%{x}<br>Date=2/13/2019<br>Total=%{y}<extra></extra>",
           "ids": [
            "B",
            "B",
            "B"
           ],
           "legendgroup": "Mandalay",
           "marker": {
            "color": "#00cc96",
            "pattern": {
             "shape": ""
            }
           },
           "name": "Mandalay",
           "offsetgroup": "Mandalay",
           "orientation": "v",
           "showlegend": true,
           "textposition": "auto",
           "type": "bar",
           "x": [
            "Mandalay",
            "Mandalay",
            "Mandalay"
           ],
           "xaxis": "x",
           "y": [
            155.19,
            84.756,
            86.247
           ],
           "yaxis": "y"
          }
         ],
         "name": "2/13/2019"
        },
        {
         "data": [
          {
           "alignmentgroup": "True",
           "hovertemplate": "City=%{x}<br>Date=1/14/2019<br>Total=%{y}<extra></extra>",
           "ids": [
            "A",
            "A"
           ],
           "legendgroup": "Yangon",
           "marker": {
            "color": "#636efa",
            "pattern": {
             "shape": ""
            }
           },
           "name": "Yangon",
           "offsetgroup": "Yangon",
           "orientation": "v",
           "showlegend": true,
           "textposition": "auto",
           "type": "bar",
           "x": [
            "Yangon",
            "Yangon"
           ],
           "xaxis": "x",
           "y": [
            507.675,
            588.42
           ],
           "yaxis": "y"
          },
          {
           "alignmentgroup": "True",
           "hovertemplate": "City=%{x}<br>Date=1/14/2019<br>Total=%{y}<extra></extra>",
           "ids": [
            "C",
            "C",
            "C",
            "C",
            "C",
            "C"
           ],
           "legendgroup": "Naypyitaw",
           "marker": {
            "color": "#EF553B",
            "pattern": {
             "shape": ""
            }
           },
           "name": "Naypyitaw",
           "offsetgroup": "Naypyitaw",
           "orientation": "v",
           "showlegend": true,
           "textposition": "auto",
           "type": "bar",
           "x": [
            "Naypyitaw",
            "Naypyitaw",
            "Naypyitaw",
            "Naypyitaw",
            "Naypyitaw",
            "Naypyitaw"
           ],
           "xaxis": "x",
           "y": [
            451.3635,
            133.434,
            89.0715,
            190.4805,
            390.9465,
            423.738
           ],
           "yaxis": "y"
          },
          {
           "alignmentgroup": "True",
           "hovertemplate": "City=%{x}<br>Date=1/14/2019<br>Total=%{y}<extra></extra>",
           "ids": [
            "B",
            "B",
            "B",
            "B",
            "B"
           ],
           "legendgroup": "Mandalay",
           "marker": {
            "color": "#00cc96",
            "pattern": {
             "shape": ""
            }
           },
           "name": "Mandalay",
           "offsetgroup": "Mandalay",
           "orientation": "v",
           "showlegend": true,
           "textposition": "auto",
           "type": "bar",
           "x": [
            "Mandalay",
            "Mandalay",
            "Mandalay",
            "Mandalay",
            "Mandalay"
           ],
           "xaxis": "x",
           "y": [
            536.991,
            523.3725,
            75.936,
            36.5505,
            18.6375
           ],
           "yaxis": "y"
          }
         ],
         "name": "1/14/2019"
        },
        {
         "data": [
          {
           "alignmentgroup": "True",
           "hovertemplate": "City=%{x}<br>Date=3/18/2019<br>Total=%{y}<extra></extra>",
           "ids": [
            "A",
            "A"
           ],
           "legendgroup": "Yangon",
           "marker": {
            "color": "#636efa",
            "pattern": {
             "shape": ""
            }
           },
           "name": "Yangon",
           "offsetgroup": "Yangon",
           "orientation": "v",
           "showlegend": true,
           "textposition": "auto",
           "type": "bar",
           "x": [
            "Yangon",
            "Yangon"
           ],
           "xaxis": "x",
           "y": [
            214.998,
            174.615
           ],
           "yaxis": "y"
          },
          {
           "alignmentgroup": "True",
           "hovertemplate": "City=%{x}<br>Date=3/18/2019<br>Total=%{y}<extra></extra>",
           "ids": [
            "C",
            "C",
            "C"
           ],
           "legendgroup": "Naypyitaw",
           "marker": {
            "color": "#EF553B",
            "pattern": {
             "shape": ""
            }
           },
           "name": "Naypyitaw",
           "offsetgroup": "Naypyitaw",
           "orientation": "v",
           "showlegend": true,
           "textposition": "auto",
           "type": "bar",
           "x": [
            "Naypyitaw",
            "Naypyitaw",
            "Naypyitaw"
           ],
           "xaxis": "x",
           "y": [
            299.565,
            54.0435,
            96.579
           ],
           "yaxis": "y"
          },
          {
           "alignmentgroup": "True",
           "hovertemplate": "City=%{x}<br>Date=3/18/2019<br>Total=%{y}<extra></extra>",
           "ids": [
            "B",
            "B"
           ],
           "legendgroup": "Mandalay",
           "marker": {
            "color": "#00cc96",
            "pattern": {
             "shape": ""
            }
           },
           "name": "Mandalay",
           "offsetgroup": "Mandalay",
           "orientation": "v",
           "showlegend": true,
           "textposition": "auto",
           "type": "bar",
           "x": [
            "Mandalay",
            "Mandalay"
           ],
           "xaxis": "x",
           "y": [
            314.055,
            138.978
           ],
           "yaxis": "y"
          }
         ],
         "name": "3/18/2019"
        },
        {
         "data": [
          {
           "alignmentgroup": "True",
           "hovertemplate": "City=%{x}<br>Date=3/20/2019<br>Total=%{y}<extra></extra>",
           "ids": [
            "A",
            "A",
            "A",
            "A",
            "A",
            "A"
           ],
           "legendgroup": "Yangon",
           "marker": {
            "color": "#636efa",
            "pattern": {
             "shape": ""
            }
           },
           "name": "Yangon",
           "offsetgroup": "Yangon",
           "orientation": "v",
           "showlegend": true,
           "textposition": "auto",
           "type": "bar",
           "x": [
            "Yangon",
            "Yangon",
            "Yangon",
            "Yangon",
            "Yangon",
            "Yangon"
           ],
           "xaxis": "x",
           "y": [
            90.825,
            462.21,
            469.413,
            365.904,
            96.1905,
            887.922
           ],
           "yaxis": "y"
          },
          {
           "alignmentgroup": "True",
           "hovertemplate": "City=%{x}<br>Date=3/20/2019<br>Total=%{y}<extra></extra>",
           "ids": [
            "C",
            "C",
            "C"
           ],
           "legendgroup": "Naypyitaw",
           "marker": {
            "color": "#EF553B",
            "pattern": {
             "shape": ""
            }
           },
           "name": "Naypyitaw",
           "offsetgroup": "Naypyitaw",
           "orientation": "v",
           "showlegend": true,
           "textposition": "auto",
           "type": "bar",
           "x": [
            "Naypyitaw",
            "Naypyitaw",
            "Naypyitaw"
           ],
           "xaxis": "x",
           "y": [
            745.395,
            523.971,
            132.5625
           ],
           "yaxis": "y"
          },
          {
           "alignmentgroup": "True",
           "hovertemplate": "City=%{x}<br>Date=3/20/2019<br>Total=%{y}<extra></extra>",
           "ids": [
            "B",
            "B",
            "B",
            "B",
            "B",
            "B"
           ],
           "legendgroup": "Mandalay",
           "marker": {
            "color": "#00cc96",
            "pattern": {
             "shape": ""
            }
           },
           "name": "Mandalay",
           "offsetgroup": "Mandalay",
           "orientation": "v",
           "showlegend": true,
           "textposition": "auto",
           "type": "bar",
           "x": [
            "Mandalay",
            "Mandalay",
            "Mandalay",
            "Mandalay",
            "Mandalay",
            "Mandalay"
           ],
           "xaxis": "x",
           "y": [
            484.89,
            65.7405,
            637.728,
            208.425,
            251.7165,
            35.3115
           ],
           "yaxis": "y"
          }
         ],
         "name": "3/20/2019"
        },
        {
         "data": [
          {
           "alignmentgroup": "True",
           "hovertemplate": "City=%{x}<br>Date=2/21/2019<br>Total=%{y}<extra></extra>",
           "ids": [
            "A"
           ],
           "legendgroup": "Yangon",
           "marker": {
            "color": "#636efa",
            "pattern": {
             "shape": ""
            }
           },
           "name": "Yangon",
           "offsetgroup": "Yangon",
           "orientation": "v",
           "showlegend": true,
           "textposition": "auto",
           "type": "bar",
           "x": [
            "Yangon"
           ],
           "xaxis": "x",
           "y": [
            298.116
           ],
           "yaxis": "y"
          },
          {
           "alignmentgroup": "True",
           "hovertemplate": "City=%{x}<br>Date=2/21/2019<br>Total=%{y}<extra></extra>",
           "ids": [
            "C",
            "C",
            "C"
           ],
           "legendgroup": "Naypyitaw",
           "marker": {
            "color": "#EF553B",
            "pattern": {
             "shape": ""
            }
           },
           "name": "Naypyitaw",
           "offsetgroup": "Naypyitaw",
           "orientation": "v",
           "showlegend": true,
           "textposition": "auto",
           "type": "bar",
           "x": [
            "Naypyitaw",
            "Naypyitaw",
            "Naypyitaw"
           ],
           "xaxis": "x",
           "y": [
            13.167,
            207.48,
            439.215
           ],
           "yaxis": "y"
          },
          {
           "alignmentgroup": "True",
           "hovertemplate": "City=%{x}<br>Date=2/21/2019<br>Total=%{y}<extra></extra>",
           "ids": [
            "B",
            "B"
           ],
           "legendgroup": "Mandalay",
           "marker": {
            "color": "#00cc96",
            "pattern": {
             "shape": ""
            }
           },
           "name": "Mandalay",
           "offsetgroup": "Mandalay",
           "orientation": "v",
           "showlegend": true,
           "textposition": "auto",
           "type": "bar",
           "x": [
            "Mandalay",
            "Mandalay"
           ],
           "xaxis": "x",
           "y": [
            310.044,
            125.7165
           ],
           "yaxis": "y"
          }
         ],
         "name": "2/21/2019"
        },
        {
         "data": [
          {
           "alignmentgroup": "True",
           "hovertemplate": "City=%{x}<br>Date=1/31/2019<br>Total=%{y}<extra></extra>",
           "ids": [
            "A",
            "A",
            "A"
           ],
           "legendgroup": "Yangon",
           "marker": {
            "color": "#636efa",
            "pattern": {
             "shape": ""
            }
           },
           "name": "Yangon",
           "offsetgroup": "Yangon",
           "orientation": "v",
           "showlegend": true,
           "textposition": "auto",
           "type": "bar",
           "x": [
            "Yangon",
            "Yangon",
            "Yangon"
           ],
           "xaxis": "x",
           "y": [
            69.6675,
            87.234,
            431.256
           ],
           "yaxis": "y"
          },
          {
           "alignmentgroup": "True",
           "hovertemplate": "City=%{x}<br>Date=1/31/2019<br>Total=%{y}<extra></extra>",
           "ids": [
            "C",
            "C",
            "C",
            "C"
           ],
           "legendgroup": "Naypyitaw",
           "marker": {
            "color": "#EF553B",
            "pattern": {
             "shape": ""
            }
           },
           "name": "Naypyitaw",
           "offsetgroup": "Naypyitaw",
           "orientation": "v",
           "showlegend": true,
           "textposition": "auto",
           "type": "bar",
           "x": [
            "Naypyitaw",
            "Naypyitaw",
            "Naypyitaw",
            "Naypyitaw"
           ],
           "xaxis": "x",
           "y": [
            155.652,
            224.4375,
            829.08,
            652.89
           ],
           "yaxis": "y"
          },
          {
           "alignmentgroup": "True",
           "hovertemplate": "City=%{x}<br>Date=1/31/2019<br>Total=%{y}<extra></extra>",
           "ids": [
            "B",
            "B",
            "B",
            "B",
            "B",
            "B",
            "B"
           ],
           "legendgroup": "Mandalay",
           "marker": {
            "color": "#00cc96",
            "pattern": {
             "shape": ""
            }
           },
           "name": "Mandalay",
           "offsetgroup": "Mandalay",
           "orientation": "v",
           "showlegend": true,
           "textposition": "auto",
           "type": "bar",
           "x": [
            "Mandalay",
            "Mandalay",
            "Mandalay",
            "Mandalay",
            "Mandalay",
            "Mandalay",
            "Mandalay"
           ],
           "xaxis": "x",
           "y": [
            285.705,
            503.559,
            79.611,
            145.068,
            180.6,
            757.365,
            830.3715
           ],
           "yaxis": "y"
          }
         ],
         "name": "1/31/2019"
        },
        {
         "data": [
          {
           "alignmentgroup": "True",
           "hovertemplate": "City=%{x}<br>Date=1/11/2019<br>Total=%{y}<extra></extra>",
           "ids": [
            "A",
            "A",
            "A",
            "A",
            "A",
            "A"
           ],
           "legendgroup": "Yangon",
           "marker": {
            "color": "#636efa",
            "pattern": {
             "shape": ""
            }
           },
           "name": "Yangon",
           "offsetgroup": "Yangon",
           "orientation": "v",
           "showlegend": true,
           "textposition": "auto",
           "type": "bar",
           "x": [
            "Yangon",
            "Yangon",
            "Yangon",
            "Yangon",
            "Yangon",
            "Yangon"
           ],
           "xaxis": "x",
           "y": [
            94.1745,
            235.683,
            345.786,
            72.3975,
            305.55,
            608.076
           ],
           "yaxis": "y"
          },
          {
           "alignmentgroup": "True",
           "hovertemplate": "City=%{x}<br>Date=1/11/2019<br>Total=%{y}<extra></extra>",
           "ids": [
            "C",
            "C"
           ],
           "legendgroup": "Naypyitaw",
           "marker": {
            "color": "#EF553B",
            "pattern": {
             "shape": ""
            }
           },
           "name": "Naypyitaw",
           "offsetgroup": "Naypyitaw",
           "orientation": "v",
           "showlegend": true,
           "textposition": "auto",
           "type": "bar",
           "x": [
            "Naypyitaw",
            "Naypyitaw"
           ],
           "xaxis": "x",
           "y": [
            183.036,
            270.2595
           ],
           "yaxis": "y"
          }
         ],
         "name": "1/11/2019"
        },
        {
         "data": [
          {
           "alignmentgroup": "True",
           "hovertemplate": "City=%{x}<br>Date=2/26/2019<br>Total=%{y}<extra></extra>",
           "ids": [
            "A",
            "A"
           ],
           "legendgroup": "Yangon",
           "marker": {
            "color": "#636efa",
            "pattern": {
             "shape": ""
            }
           },
           "name": "Yangon",
           "offsetgroup": "Yangon",
           "orientation": "v",
           "showlegend": true,
           "textposition": "auto",
           "type": "bar",
           "x": [
            "Yangon",
            "Yangon"
           ],
           "xaxis": "x",
           "y": [
            58.2225,
            97.881
           ],
           "yaxis": "y"
          },
          {
           "alignmentgroup": "True",
           "hovertemplate": "City=%{x}<br>Date=2/26/2019<br>Total=%{y}<extra></extra>",
           "ids": [
            "C"
           ],
           "legendgroup": "Naypyitaw",
           "marker": {
            "color": "#EF553B",
            "pattern": {
             "shape": ""
            }
           },
           "name": "Naypyitaw",
           "offsetgroup": "Naypyitaw",
           "orientation": "v",
           "showlegend": true,
           "textposition": "auto",
           "type": "bar",
           "x": [
            "Naypyitaw"
           ],
           "xaxis": "x",
           "y": [
            216.6885
           ],
           "yaxis": "y"
          },
          {
           "alignmentgroup": "True",
           "hovertemplate": "City=%{x}<br>Date=2/26/2019<br>Total=%{y}<extra></extra>",
           "ids": [
            "B",
            "B",
            "B",
            "B",
            "B",
            "B"
           ],
           "legendgroup": "Mandalay",
           "marker": {
            "color": "#00cc96",
            "pattern": {
             "shape": ""
            }
           },
           "name": "Mandalay",
           "offsetgroup": "Mandalay",
           "orientation": "v",
           "showlegend": true,
           "textposition": "auto",
           "type": "bar",
           "x": [
            "Mandalay",
            "Mandalay",
            "Mandalay",
            "Mandalay",
            "Mandalay",
            "Mandalay"
           ],
           "xaxis": "x",
           "y": [
            571.41,
            57.1725,
            628.173,
            209.769,
            401.268,
            167.58
           ],
           "yaxis": "y"
          }
         ],
         "name": "2/26/2019"
        },
        {
         "data": [
          {
           "alignmentgroup": "True",
           "hovertemplate": "City=%{x}<br>Date=3/17/2019<br>Total=%{y}<extra></extra>",
           "ids": [
            "A",
            "A"
           ],
           "legendgroup": "Yangon",
           "marker": {
            "color": "#636efa",
            "pattern": {
             "shape": ""
            }
           },
           "name": "Yangon",
           "offsetgroup": "Yangon",
           "orientation": "v",
           "showlegend": true,
           "textposition": "auto",
           "type": "bar",
           "x": [
            "Yangon",
            "Yangon"
           ],
           "xaxis": "x",
           "y": [
            325.374,
            807.66
           ],
           "yaxis": "y"
          },
          {
           "alignmentgroup": "True",
           "hovertemplate": "City=%{x}<br>Date=3/17/2019<br>Total=%{y}<extra></extra>",
           "ids": [
            "C",
            "C"
           ],
           "legendgroup": "Naypyitaw",
           "marker": {
            "color": "#EF553B",
            "pattern": {
             "shape": ""
            }
           },
           "name": "Naypyitaw",
           "offsetgroup": "Naypyitaw",
           "orientation": "v",
           "showlegend": true,
           "textposition": "auto",
           "type": "bar",
           "x": [
            "Naypyitaw",
            "Naypyitaw"
           ],
           "xaxis": "x",
           "y": [
            369.495,
            23.751
           ],
           "yaxis": "y"
          },
          {
           "alignmentgroup": "True",
           "hovertemplate": "City=%{x}<br>Date=3/17/2019<br>Total=%{y}<extra></extra>",
           "ids": [
            "B",
            "B"
           ],
           "legendgroup": "Mandalay",
           "marker": {
            "color": "#00cc96",
            "pattern": {
             "shape": ""
            }
           },
           "name": "Mandalay",
           "offsetgroup": "Mandalay",
           "orientation": "v",
           "showlegend": true,
           "textposition": "auto",
           "type": "bar",
           "x": [
            "Mandalay",
            "Mandalay"
           ],
           "xaxis": "x",
           "y": [
            343.413,
            106.596
           ],
           "yaxis": "y"
          }
         ],
         "name": "3/17/2019"
        },
        {
         "data": [
          {
           "alignmentgroup": "True",
           "hovertemplate": "City=%{x}<br>Date=3/14/2019<br>Total=%{y}<extra></extra>",
           "ids": [
            "A",
            "A",
            "A",
            "A"
           ],
           "legendgroup": "Yangon",
           "marker": {
            "color": "#636efa",
            "pattern": {
             "shape": ""
            }
           },
           "name": "Yangon",
           "offsetgroup": "Yangon",
           "orientation": "v",
           "showlegend": true,
           "textposition": "auto",
           "type": "bar",
           "x": [
            "Yangon",
            "Yangon",
            "Yangon",
            "Yangon"
           ],
           "xaxis": "x",
           "y": [
            49.308,
            731.6925,
            49.4235,
            921.186
           ],
           "yaxis": "y"
          },
          {
           "alignmentgroup": "True",
           "hovertemplate": "City=%{x}<br>Date=3/14/2019<br>Total=%{y}<extra></extra>",
           "ids": [
            "C",
            "C",
            "C",
            "C",
            "C",
            "C",
            "C",
            "C",
            "C"
           ],
           "legendgroup": "Naypyitaw",
           "marker": {
            "color": "#EF553B",
            "pattern": {
             "shape": ""
            }
           },
           "name": "Naypyitaw",
           "offsetgroup": "Naypyitaw",
           "orientation": "v",
           "showlegend": true,
           "textposition": "auto",
           "type": "bar",
           "x": [
            "Naypyitaw",
            "Naypyitaw",
            "Naypyitaw",
            "Naypyitaw",
            "Naypyitaw",
            "Naypyitaw",
            "Naypyitaw",
            "Naypyitaw",
            "Naypyitaw"
           ],
           "xaxis": "x",
           "y": [
            148.974,
            204.6975,
            484.974,
            441.693,
            625.905,
            814.38,
            461.5275,
            44.9925,
            221.886
           ],
           "yaxis": "y"
          },
          {
           "alignmentgroup": "True",
           "hovertemplate": "City=%{x}<br>Date=3/14/2019<br>Total=%{y}<extra></extra>",
           "ids": [
            "B",
            "B",
            "B",
            "B",
            "B"
           ],
           "legendgroup": "Mandalay",
           "marker": {
            "color": "#00cc96",
            "pattern": {
             "shape": ""
            }
           },
           "name": "Mandalay",
           "offsetgroup": "Mandalay",
           "orientation": "v",
           "showlegend": true,
           "textposition": "auto",
           "type": "bar",
           "x": [
            "Mandalay",
            "Mandalay",
            "Mandalay",
            "Mandalay",
            "Mandalay"
           ],
           "xaxis": "x",
           "y": [
            402.2655,
            203.931,
            867.09,
            93.744,
            446.964
           ],
           "yaxis": "y"
          }
         ],
         "name": "3/14/2019"
        },
        {
         "data": [
          {
           "alignmentgroup": "True",
           "hovertemplate": "City=%{x}<br>Date=2/4/2019<br>Total=%{y}<extra></extra>",
           "ids": [
            "A",
            "A",
            "A",
            "A",
            "A"
           ],
           "legendgroup": "Yangon",
           "marker": {
            "color": "#636efa",
            "pattern": {
             "shape": ""
            }
           },
           "name": "Yangon",
           "offsetgroup": "Yangon",
           "orientation": "v",
           "showlegend": true,
           "textposition": "auto",
           "type": "bar",
           "x": [
            "Yangon",
            "Yangon",
            "Yangon",
            "Yangon",
            "Yangon"
           ],
           "xaxis": "x",
           "y": [
            75.5475,
            185.367,
            226.065,
            204.246,
            548.163
           ],
           "yaxis": "y"
          },
          {
           "alignmentgroup": "True",
           "hovertemplate": "City=%{x}<br>Date=2/4/2019<br>Total=%{y}<extra></extra>",
           "ids": [
            "C",
            "C"
           ],
           "legendgroup": "Naypyitaw",
           "marker": {
            "color": "#EF553B",
            "pattern": {
             "shape": ""
            }
           },
           "name": "Naypyitaw",
           "offsetgroup": "Naypyitaw",
           "orientation": "v",
           "showlegend": true,
           "textposition": "auto",
           "type": "bar",
           "x": [
            "Naypyitaw",
            "Naypyitaw"
           ],
           "xaxis": "x",
           "y": [
            14.679,
            130.8825
           ],
           "yaxis": "y"
          },
          {
           "alignmentgroup": "True",
           "hovertemplate": "City=%{x}<br>Date=2/4/2019<br>Total=%{y}<extra></extra>",
           "ids": [
            "B",
            "B",
            "B",
            "B"
           ],
           "legendgroup": "Mandalay",
           "marker": {
            "color": "#00cc96",
            "pattern": {
             "shape": ""
            }
           },
           "name": "Mandalay",
           "offsetgroup": "Mandalay",
           "orientation": "v",
           "showlegend": true,
           "textposition": "auto",
           "type": "bar",
           "x": [
            "Mandalay",
            "Mandalay",
            "Mandalay",
            "Mandalay"
           ],
           "xaxis": "x",
           "y": [
            734.076,
            151.284,
            98.028,
            71.1585
           ],
           "yaxis": "y"
          }
         ],
         "name": "2/4/2019"
        },
        {
         "data": [
          {
           "alignmentgroup": "True",
           "hovertemplate": "City=%{x}<br>Date=2/19/2019<br>Total=%{y}<extra></extra>",
           "ids": [
            "A",
            "A",
            "A",
            "A"
           ],
           "legendgroup": "Yangon",
           "marker": {
            "color": "#636efa",
            "pattern": {
             "shape": ""
            }
           },
           "name": "Yangon",
           "offsetgroup": "Yangon",
           "orientation": "v",
           "showlegend": true,
           "textposition": "auto",
           "type": "bar",
           "x": [
            "Yangon",
            "Yangon",
            "Yangon",
            "Yangon"
           ],
           "xaxis": "x",
           "y": [
            657.531,
            206.808,
            266.6475,
            932.337
           ],
           "yaxis": "y"
          },
          {
           "alignmentgroup": "True",
           "hovertemplate": "City=%{x}<br>Date=2/19/2019<br>Total=%{y}<extra></extra>",
           "ids": [
            "C",
            "C",
            "C",
            "C"
           ],
           "legendgroup": "Naypyitaw",
           "marker": {
            "color": "#EF553B",
            "pattern": {
             "shape": ""
            }
           },
           "name": "Naypyitaw",
           "offsetgroup": "Naypyitaw",
           "orientation": "v",
           "showlegend": true,
           "textposition": "auto",
           "type": "bar",
           "x": [
            "Naypyitaw",
            "Naypyitaw",
            "Naypyitaw",
            "Naypyitaw"
           ],
           "xaxis": "x",
           "y": [
            173.208,
            733.6035,
            183.12,
            603.876
           ],
           "yaxis": "y"
          },
          {
           "alignmentgroup": "True",
           "hovertemplate": "City=%{x}<br>Date=2/19/2019<br>Total=%{y}<extra></extra>",
           "ids": [
            "B"
           ],
           "legendgroup": "Mandalay",
           "marker": {
            "color": "#00cc96",
            "pattern": {
             "shape": ""
            }
           },
           "name": "Mandalay",
           "offsetgroup": "Mandalay",
           "orientation": "v",
           "showlegend": true,
           "textposition": "auto",
           "type": "bar",
           "x": [
            "Mandalay"
           ],
           "xaxis": "x",
           "y": [
            470.988
           ],
           "yaxis": "y"
          }
         ],
         "name": "2/19/2019"
        }
       ],
       "layout": {
        "barmode": "relative",
        "legend": {
         "title": {
          "text": "City"
         },
         "tracegroupgap": 0
        },
        "sliders": [
         {
          "active": 0,
          "currentvalue": {
           "prefix": "Date="
          },
          "len": 0.9,
          "pad": {
           "b": 10,
           "t": 60
          },
          "steps": [
           {
            "args": [
             [
              "1/5/2019"
             ],
             {
              "frame": {
               "duration": 0,
               "redraw": true
              },
              "fromcurrent": true,
              "mode": "immediate",
              "transition": {
               "duration": 0,
               "easing": "linear"
              }
             }
            ],
            "label": "1/5/2019",
            "method": "animate"
           },
           {
            "args": [
             [
              "3/8/2019"
             ],
             {
              "frame": {
               "duration": 0,
               "redraw": true
              },
              "fromcurrent": true,
              "mode": "immediate",
              "transition": {
               "duration": 0,
               "easing": "linear"
              }
             }
            ],
            "label": "3/8/2019",
            "method": "animate"
           },
           {
            "args": [
             [
              "3/3/2019"
             ],
             {
              "frame": {
               "duration": 0,
               "redraw": true
              },
              "fromcurrent": true,
              "mode": "immediate",
              "transition": {
               "duration": 0,
               "easing": "linear"
              }
             }
            ],
            "label": "3/3/2019",
            "method": "animate"
           },
           {
            "args": [
             [
              "1/27/2019"
             ],
             {
              "frame": {
               "duration": 0,
               "redraw": true
              },
              "fromcurrent": true,
              "mode": "immediate",
              "transition": {
               "duration": 0,
               "easing": "linear"
              }
             }
            ],
            "label": "1/27/2019",
            "method": "animate"
           },
           {
            "args": [
             [
              "2/8/2019"
             ],
             {
              "frame": {
               "duration": 0,
               "redraw": true
              },
              "fromcurrent": true,
              "mode": "immediate",
              "transition": {
               "duration": 0,
               "easing": "linear"
              }
             }
            ],
            "label": "2/8/2019",
            "method": "animate"
           },
           {
            "args": [
             [
              "3/25/2019"
             ],
             {
              "frame": {
               "duration": 0,
               "redraw": true
              },
              "fromcurrent": true,
              "mode": "immediate",
              "transition": {
               "duration": 0,
               "easing": "linear"
              }
             }
            ],
            "label": "3/25/2019",
            "method": "animate"
           },
           {
            "args": [
             [
              "2/25/2019"
             ],
             {
              "frame": {
               "duration": 0,
               "redraw": true
              },
              "fromcurrent": true,
              "mode": "immediate",
              "transition": {
               "duration": 0,
               "easing": "linear"
              }
             }
            ],
            "label": "2/25/2019",
            "method": "animate"
           },
           {
            "args": [
             [
              "2/24/2019"
             ],
             {
              "frame": {
               "duration": 0,
               "redraw": true
              },
              "fromcurrent": true,
              "mode": "immediate",
              "transition": {
               "duration": 0,
               "easing": "linear"
              }
             }
            ],
            "label": "2/24/2019",
            "method": "animate"
           },
           {
            "args": [
             [
              "1/10/2019"
             ],
             {
              "frame": {
               "duration": 0,
               "redraw": true
              },
              "fromcurrent": true,
              "mode": "immediate",
              "transition": {
               "duration": 0,
               "easing": "linear"
              }
             }
            ],
            "label": "1/10/2019",
            "method": "animate"
           },
           {
            "args": [
             [
              "2/20/2019"
             ],
             {
              "frame": {
               "duration": 0,
               "redraw": true
              },
              "fromcurrent": true,
              "mode": "immediate",
              "transition": {
               "duration": 0,
               "easing": "linear"
              }
             }
            ],
            "label": "2/20/2019",
            "method": "animate"
           },
           {
            "args": [
             [
              "2/6/2019"
             ],
             {
              "frame": {
               "duration": 0,
               "redraw": true
              },
              "fromcurrent": true,
              "mode": "immediate",
              "transition": {
               "duration": 0,
               "easing": "linear"
              }
             }
            ],
            "label": "2/6/2019",
            "method": "animate"
           },
           {
            "args": [
             [
              "3/9/2019"
             ],
             {
              "frame": {
               "duration": 0,
               "redraw": true
              },
              "fromcurrent": true,
              "mode": "immediate",
              "transition": {
               "duration": 0,
               "easing": "linear"
              }
             }
            ],
            "label": "3/9/2019",
            "method": "animate"
           },
           {
            "args": [
             [
              "2/12/2019"
             ],
             {
              "frame": {
               "duration": 0,
               "redraw": true
              },
              "fromcurrent": true,
              "mode": "immediate",
              "transition": {
               "duration": 0,
               "easing": "linear"
              }
             }
            ],
            "label": "2/12/2019",
            "method": "animate"
           },
           {
            "args": [
             [
              "2/7/2019"
             ],
             {
              "frame": {
               "duration": 0,
               "redraw": true
              },
              "fromcurrent": true,
              "mode": "immediate",
              "transition": {
               "duration": 0,
               "easing": "linear"
              }
             }
            ],
            "label": "2/7/2019",
            "method": "animate"
           },
           {
            "args": [
             [
              "3/29/2019"
             ],
             {
              "frame": {
               "duration": 0,
               "redraw": true
              },
              "fromcurrent": true,
              "mode": "immediate",
              "transition": {
               "duration": 0,
               "easing": "linear"
              }
             }
            ],
            "label": "3/29/2019",
            "method": "animate"
           },
           {
            "args": [
             [
              "1/15/2019"
             ],
             {
              "frame": {
               "duration": 0,
               "redraw": true
              },
              "fromcurrent": true,
              "mode": "immediate",
              "transition": {
               "duration": 0,
               "easing": "linear"
              }
             }
            ],
            "label": "1/15/2019",
            "method": "animate"
           },
           {
            "args": [
             [
              "3/11/2019"
             ],
             {
              "frame": {
               "duration": 0,
               "redraw": true
              },
              "fromcurrent": true,
              "mode": "immediate",
              "transition": {
               "duration": 0,
               "easing": "linear"
              }
             }
            ],
            "label": "3/11/2019",
            "method": "animate"
           },
           {
            "args": [
             [
              "1/1/2019"
             ],
             {
              "frame": {
               "duration": 0,
               "redraw": true
              },
              "fromcurrent": true,
              "mode": "immediate",
              "transition": {
               "duration": 0,
               "easing": "linear"
              }
             }
            ],
            "label": "1/1/2019",
            "method": "animate"
           },
           {
            "args": [
             [
              "1/21/2019"
             ],
             {
              "frame": {
               "duration": 0,
               "redraw": true
              },
              "fromcurrent": true,
              "mode": "immediate",
              "transition": {
               "duration": 0,
               "easing": "linear"
              }
             }
            ],
            "label": "1/21/2019",
            "method": "animate"
           },
           {
            "args": [
             [
              "3/5/2019"
             ],
             {
              "frame": {
               "duration": 0,
               "redraw": true
              },
              "fromcurrent": true,
              "mode": "immediate",
              "transition": {
               "duration": 0,
               "easing": "linear"
              }
             }
            ],
            "label": "3/5/2019",
            "method": "animate"
           },
           {
            "args": [
             [
              "3/15/2019"
             ],
             {
              "frame": {
               "duration": 0,
               "redraw": true
              },
              "fromcurrent": true,
              "mode": "immediate",
              "transition": {
               "duration": 0,
               "easing": "linear"
              }
             }
            ],
            "label": "3/15/2019",
            "method": "animate"
           },
           {
            "args": [
             [
              "2/17/2019"
             ],
             {
              "frame": {
               "duration": 0,
               "redraw": true
              },
              "fromcurrent": true,
              "mode": "immediate",
              "transition": {
               "duration": 0,
               "easing": "linear"
              }
             }
            ],
            "label": "2/17/2019",
            "method": "animate"
           },
           {
            "args": [
             [
              "3/2/2019"
             ],
             {
              "frame": {
               "duration": 0,
               "redraw": true
              },
              "fromcurrent": true,
              "mode": "immediate",
              "transition": {
               "duration": 0,
               "easing": "linear"
              }
             }
            ],
            "label": "3/2/2019",
            "method": "animate"
           },
           {
            "args": [
             [
              "3/22/2019"
             ],
             {
              "frame": {
               "duration": 0,
               "redraw": true
              },
              "fromcurrent": true,
              "mode": "immediate",
              "transition": {
               "duration": 0,
               "easing": "linear"
              }
             }
            ],
            "label": "3/22/2019",
            "method": "animate"
           },
           {
            "args": [
             [
              "3/10/2019"
             ],
             {
              "frame": {
               "duration": 0,
               "redraw": true
              },
              "fromcurrent": true,
              "mode": "immediate",
              "transition": {
               "duration": 0,
               "easing": "linear"
              }
             }
            ],
            "label": "3/10/2019",
            "method": "animate"
           },
           {
            "args": [
             [
              "1/25/2019"
             ],
             {
              "frame": {
               "duration": 0,
               "redraw": true
              },
              "fromcurrent": true,
              "mode": "immediate",
              "transition": {
               "duration": 0,
               "easing": "linear"
              }
             }
            ],
            "label": "1/25/2019",
            "method": "animate"
           },
           {
            "args": [
             [
              "1/28/2019"
             ],
             {
              "frame": {
               "duration": 0,
               "redraw": true
              },
              "fromcurrent": true,
              "mode": "immediate",
              "transition": {
               "duration": 0,
               "easing": "linear"
              }
             }
            ],
            "label": "1/28/2019",
            "method": "animate"
           },
           {
            "args": [
             [
              "1/7/2019"
             ],
             {
              "frame": {
               "duration": 0,
               "redraw": true
              },
              "fromcurrent": true,
              "mode": "immediate",
              "transition": {
               "duration": 0,
               "easing": "linear"
              }
             }
            ],
            "label": "1/7/2019",
            "method": "animate"
           },
           {
            "args": [
             [
              "3/23/2019"
             ],
             {
              "frame": {
               "duration": 0,
               "redraw": true
              },
              "fromcurrent": true,
              "mode": "immediate",
              "transition": {
               "duration": 0,
               "easing": "linear"
              }
             }
            ],
            "label": "3/23/2019",
            "method": "animate"
           },
           {
            "args": [
             [
              "1/17/2019"
             ],
             {
              "frame": {
               "duration": 0,
               "redraw": true
              },
              "fromcurrent": true,
              "mode": "immediate",
              "transition": {
               "duration": 0,
               "easing": "linear"
              }
             }
            ],
            "label": "1/17/2019",
            "method": "animate"
           },
           {
            "args": [
             [
              "2/2/2019"
             ],
             {
              "frame": {
               "duration": 0,
               "redraw": true
              },
              "fromcurrent": true,
              "mode": "immediate",
              "transition": {
               "duration": 0,
               "easing": "linear"
              }
             }
            ],
            "label": "2/2/2019",
            "method": "animate"
           },
           {
            "args": [
             [
              "3/4/2019"
             ],
             {
              "frame": {
               "duration": 0,
               "redraw": true
              },
              "fromcurrent": true,
              "mode": "immediate",
              "transition": {
               "duration": 0,
               "easing": "linear"
              }
             }
            ],
            "label": "3/4/2019",
            "method": "animate"
           },
           {
            "args": [
             [
              "3/16/2019"
             ],
             {
              "frame": {
               "duration": 0,
               "redraw": true
              },
              "fromcurrent": true,
              "mode": "immediate",
              "transition": {
               "duration": 0,
               "easing": "linear"
              }
             }
            ],
            "label": "3/16/2019",
            "method": "animate"
           },
           {
            "args": [
             [
              "2/27/2019"
             ],
             {
              "frame": {
               "duration": 0,
               "redraw": true
              },
              "fromcurrent": true,
              "mode": "immediate",
              "transition": {
               "duration": 0,
               "easing": "linear"
              }
             }
            ],
            "label": "2/27/2019",
            "method": "animate"
           },
           {
            "args": [
             [
              "2/10/2019"
             ],
             {
              "frame": {
               "duration": 0,
               "redraw": true
              },
              "fromcurrent": true,
              "mode": "immediate",
              "transition": {
               "duration": 0,
               "easing": "linear"
              }
             }
            ],
            "label": "2/10/2019",
            "method": "animate"
           },
           {
            "args": [
             [
              "3/19/2019"
             ],
             {
              "frame": {
               "duration": 0,
               "redraw": true
              },
              "fromcurrent": true,
              "mode": "immediate",
              "transition": {
               "duration": 0,
               "easing": "linear"
              }
             }
            ],
            "label": "3/19/2019",
            "method": "animate"
           },
           {
            "args": [
             [
              "2/3/2019"
             ],
             {
              "frame": {
               "duration": 0,
               "redraw": true
              },
              "fromcurrent": true,
              "mode": "immediate",
              "transition": {
               "duration": 0,
               "easing": "linear"
              }
             }
            ],
            "label": "2/3/2019",
            "method": "animate"
           },
           {
            "args": [
             [
              "3/7/2019"
             ],
             {
              "frame": {
               "duration": 0,
               "redraw": true
              },
              "fromcurrent": true,
              "mode": "immediate",
              "transition": {
               "duration": 0,
               "easing": "linear"
              }
             }
            ],
            "label": "3/7/2019",
            "method": "animate"
           },
           {
            "args": [
             [
              "2/28/2019"
             ],
             {
              "frame": {
               "duration": 0,
               "redraw": true
              },
              "fromcurrent": true,
              "mode": "immediate",
              "transition": {
               "duration": 0,
               "easing": "linear"
              }
             }
            ],
            "label": "2/28/2019",
            "method": "animate"
           },
           {
            "args": [
             [
              "3/27/2019"
             ],
             {
              "frame": {
               "duration": 0,
               "redraw": true
              },
              "fromcurrent": true,
              "mode": "immediate",
              "transition": {
               "duration": 0,
               "easing": "linear"
              }
             }
            ],
            "label": "3/27/2019",
            "method": "animate"
           },
           {
            "args": [
             [
              "1/20/2019"
             ],
             {
              "frame": {
               "duration": 0,
               "redraw": true
              },
              "fromcurrent": true,
              "mode": "immediate",
              "transition": {
               "duration": 0,
               "easing": "linear"
              }
             }
            ],
            "label": "1/20/2019",
            "method": "animate"
           },
           {
            "args": [
             [
              "3/12/2019"
             ],
             {
              "frame": {
               "duration": 0,
               "redraw": true
              },
              "fromcurrent": true,
              "mode": "immediate",
              "transition": {
               "duration": 0,
               "easing": "linear"
              }
             }
            ],
            "label": "3/12/2019",
            "method": "animate"
           },
           {
            "args": [
             [
              "2/15/2019"
             ],
             {
              "frame": {
               "duration": 0,
               "redraw": true
              },
              "fromcurrent": true,
              "mode": "immediate",
              "transition": {
               "duration": 0,
               "easing": "linear"
              }
             }
            ],
            "label": "2/15/2019",
            "method": "animate"
           },
           {
            "args": [
             [
              "3/6/2019"
             ],
             {
              "frame": {
               "duration": 0,
               "redraw": true
              },
              "fromcurrent": true,
              "mode": "immediate",
              "transition": {
               "duration": 0,
               "easing": "linear"
              }
             }
            ],
            "label": "3/6/2019",
            "method": "animate"
           },
           {
            "args": [
             [
              "2/14/2019"
             ],
             {
              "frame": {
               "duration": 0,
               "redraw": true
              },
              "fromcurrent": true,
              "mode": "immediate",
              "transition": {
               "duration": 0,
               "easing": "linear"
              }
             }
            ],
            "label": "2/14/2019",
            "method": "animate"
           },
           {
            "args": [
             [
              "3/13/2019"
             ],
             {
              "frame": {
               "duration": 0,
               "redraw": true
              },
              "fromcurrent": true,
              "mode": "immediate",
              "transition": {
               "duration": 0,
               "easing": "linear"
              }
             }
            ],
            "label": "3/13/2019",
            "method": "animate"
           },
           {
            "args": [
             [
              "1/24/2019"
             ],
             {
              "frame": {
               "duration": 0,
               "redraw": true
              },
              "fromcurrent": true,
              "mode": "immediate",
              "transition": {
               "duration": 0,
               "easing": "linear"
              }
             }
            ],
            "label": "1/24/2019",
            "method": "animate"
           },
           {
            "args": [
             [
              "1/6/2019"
             ],
             {
              "frame": {
               "duration": 0,
               "redraw": true
              },
              "fromcurrent": true,
              "mode": "immediate",
              "transition": {
               "duration": 0,
               "easing": "linear"
              }
             }
            ],
            "label": "1/6/2019",
            "method": "animate"
           },
           {
            "args": [
             [
              "2/11/2019"
             ],
             {
              "frame": {
               "duration": 0,
               "redraw": true
              },
              "fromcurrent": true,
              "mode": "immediate",
              "transition": {
               "duration": 0,
               "easing": "linear"
              }
             }
            ],
            "label": "2/11/2019",
            "method": "animate"
           },
           {
            "args": [
             [
              "1/22/2019"
             ],
             {
              "frame": {
               "duration": 0,
               "redraw": true
              },
              "fromcurrent": true,
              "mode": "immediate",
              "transition": {
               "duration": 0,
               "easing": "linear"
              }
             }
            ],
            "label": "1/22/2019",
            "method": "animate"
           },
           {
            "args": [
             [
              "1/13/2019"
             ],
             {
              "frame": {
               "duration": 0,
               "redraw": true
              },
              "fromcurrent": true,
              "mode": "immediate",
              "transition": {
               "duration": 0,
               "easing": "linear"
              }
             }
            ],
            "label": "1/13/2019",
            "method": "animate"
           },
           {
            "args": [
             [
              "1/9/2019"
             ],
             {
              "frame": {
               "duration": 0,
               "redraw": true
              },
              "fromcurrent": true,
              "mode": "immediate",
              "transition": {
               "duration": 0,
               "easing": "linear"
              }
             }
            ],
            "label": "1/9/2019",
            "method": "animate"
           },
           {
            "args": [
             [
              "1/12/2019"
             ],
             {
              "frame": {
               "duration": 0,
               "redraw": true
              },
              "fromcurrent": true,
              "mode": "immediate",
              "transition": {
               "duration": 0,
               "easing": "linear"
              }
             }
            ],
            "label": "1/12/2019",
            "method": "animate"
           },
           {
            "args": [
             [
              "1/26/2019"
             ],
             {
              "frame": {
               "duration": 0,
               "redraw": true
              },
              "fromcurrent": true,
              "mode": "immediate",
              "transition": {
               "duration": 0,
               "easing": "linear"
              }
             }
            ],
            "label": "1/26/2019",
            "method": "animate"
           },
           {
            "args": [
             [
              "1/23/2019"
             ],
             {
              "frame": {
               "duration": 0,
               "redraw": true
              },
              "fromcurrent": true,
              "mode": "immediate",
              "transition": {
               "duration": 0,
               "easing": "linear"
              }
             }
            ],
            "label": "1/23/2019",
            "method": "animate"
           },
           {
            "args": [
             [
              "2/23/2019"
             ],
             {
              "frame": {
               "duration": 0,
               "redraw": true
              },
              "fromcurrent": true,
              "mode": "immediate",
              "transition": {
               "duration": 0,
               "easing": "linear"
              }
             }
            ],
            "label": "2/23/2019",
            "method": "animate"
           },
           {
            "args": [
             [
              "1/2/2019"
             ],
             {
              "frame": {
               "duration": 0,
               "redraw": true
              },
              "fromcurrent": true,
              "mode": "immediate",
              "transition": {
               "duration": 0,
               "easing": "linear"
              }
             }
            ],
            "label": "1/2/2019",
            "method": "animate"
           },
           {
            "args": [
             [
              "2/9/2019"
             ],
             {
              "frame": {
               "duration": 0,
               "redraw": true
              },
              "fromcurrent": true,
              "mode": "immediate",
              "transition": {
               "duration": 0,
               "easing": "linear"
              }
             }
            ],
            "label": "2/9/2019",
            "method": "animate"
           },
           {
            "args": [
             [
              "3/26/2019"
             ],
             {
              "frame": {
               "duration": 0,
               "redraw": true
              },
              "fromcurrent": true,
              "mode": "immediate",
              "transition": {
               "duration": 0,
               "easing": "linear"
              }
             }
            ],
            "label": "3/26/2019",
            "method": "animate"
           },
           {
            "args": [
             [
              "3/1/2019"
             ],
             {
              "frame": {
               "duration": 0,
               "redraw": true
              },
              "fromcurrent": true,
              "mode": "immediate",
              "transition": {
               "duration": 0,
               "easing": "linear"
              }
             }
            ],
            "label": "3/1/2019",
            "method": "animate"
           },
           {
            "args": [
             [
              "2/1/2019"
             ],
             {
              "frame": {
               "duration": 0,
               "redraw": true
              },
              "fromcurrent": true,
              "mode": "immediate",
              "transition": {
               "duration": 0,
               "easing": "linear"
              }
             }
            ],
            "label": "2/1/2019",
            "method": "animate"
           },
           {
            "args": [
             [
              "3/28/2019"
             ],
             {
              "frame": {
               "duration": 0,
               "redraw": true
              },
              "fromcurrent": true,
              "mode": "immediate",
              "transition": {
               "duration": 0,
               "easing": "linear"
              }
             }
            ],
            "label": "3/28/2019",
            "method": "animate"
           },
           {
            "args": [
             [
              "3/24/2019"
             ],
             {
              "frame": {
               "duration": 0,
               "redraw": true
              },
              "fromcurrent": true,
              "mode": "immediate",
              "transition": {
               "duration": 0,
               "easing": "linear"
              }
             }
            ],
            "label": "3/24/2019",
            "method": "animate"
           },
           {
            "args": [
             [
              "2/5/2019"
             ],
             {
              "frame": {
               "duration": 0,
               "redraw": true
              },
              "fromcurrent": true,
              "mode": "immediate",
              "transition": {
               "duration": 0,
               "easing": "linear"
              }
             }
            ],
            "label": "2/5/2019",
            "method": "animate"
           },
           {
            "args": [
             [
              "1/19/2019"
             ],
             {
              "frame": {
               "duration": 0,
               "redraw": true
              },
              "fromcurrent": true,
              "mode": "immediate",
              "transition": {
               "duration": 0,
               "easing": "linear"
              }
             }
            ],
            "label": "1/19/2019",
            "method": "animate"
           },
           {
            "args": [
             [
              "1/16/2019"
             ],
             {
              "frame": {
               "duration": 0,
               "redraw": true
              },
              "fromcurrent": true,
              "mode": "immediate",
              "transition": {
               "duration": 0,
               "easing": "linear"
              }
             }
            ],
            "label": "1/16/2019",
            "method": "animate"
           },
           {
            "args": [
             [
              "1/8/2019"
             ],
             {
              "frame": {
               "duration": 0,
               "redraw": true
              },
              "fromcurrent": true,
              "mode": "immediate",
              "transition": {
               "duration": 0,
               "easing": "linear"
              }
             }
            ],
            "label": "1/8/2019",
            "method": "animate"
           },
           {
            "args": [
             [
              "2/18/2019"
             ],
             {
              "frame": {
               "duration": 0,
               "redraw": true
              },
              "fromcurrent": true,
              "mode": "immediate",
              "transition": {
               "duration": 0,
               "easing": "linear"
              }
             }
            ],
            "label": "2/18/2019",
            "method": "animate"
           },
           {
            "args": [
             [
              "1/18/2019"
             ],
             {
              "frame": {
               "duration": 0,
               "redraw": true
              },
              "fromcurrent": true,
              "mode": "immediate",
              "transition": {
               "duration": 0,
               "easing": "linear"
              }
             }
            ],
            "label": "1/18/2019",
            "method": "animate"
           },
           {
            "args": [
             [
              "2/16/2019"
             ],
             {
              "frame": {
               "duration": 0,
               "redraw": true
              },
              "fromcurrent": true,
              "mode": "immediate",
              "transition": {
               "duration": 0,
               "easing": "linear"
              }
             }
            ],
            "label": "2/16/2019",
            "method": "animate"
           },
           {
            "args": [
             [
              "2/22/2019"
             ],
             {
              "frame": {
               "duration": 0,
               "redraw": true
              },
              "fromcurrent": true,
              "mode": "immediate",
              "transition": {
               "duration": 0,
               "easing": "linear"
              }
             }
            ],
            "label": "2/22/2019",
            "method": "animate"
           },
           {
            "args": [
             [
              "1/29/2019"
             ],
             {
              "frame": {
               "duration": 0,
               "redraw": true
              },
              "fromcurrent": true,
              "mode": "immediate",
              "transition": {
               "duration": 0,
               "easing": "linear"
              }
             }
            ],
            "label": "1/29/2019",
            "method": "animate"
           },
           {
            "args": [
             [
              "1/4/2019"
             ],
             {
              "frame": {
               "duration": 0,
               "redraw": true
              },
              "fromcurrent": true,
              "mode": "immediate",
              "transition": {
               "duration": 0,
               "easing": "linear"
              }
             }
            ],
            "label": "1/4/2019",
            "method": "animate"
           },
           {
            "args": [
             [
              "3/30/2019"
             ],
             {
              "frame": {
               "duration": 0,
               "redraw": true
              },
              "fromcurrent": true,
              "mode": "immediate",
              "transition": {
               "duration": 0,
               "easing": "linear"
              }
             }
            ],
            "label": "3/30/2019",
            "method": "animate"
           },
           {
            "args": [
             [
              "1/30/2019"
             ],
             {
              "frame": {
               "duration": 0,
               "redraw": true
              },
              "fromcurrent": true,
              "mode": "immediate",
              "transition": {
               "duration": 0,
               "easing": "linear"
              }
             }
            ],
            "label": "1/30/2019",
            "method": "animate"
           },
           {
            "args": [
             [
              "1/3/2019"
             ],
             {
              "frame": {
               "duration": 0,
               "redraw": true
              },
              "fromcurrent": true,
              "mode": "immediate",
              "transition": {
               "duration": 0,
               "easing": "linear"
              }
             }
            ],
            "label": "1/3/2019",
            "method": "animate"
           },
           {
            "args": [
             [
              "3/21/2019"
             ],
             {
              "frame": {
               "duration": 0,
               "redraw": true
              },
              "fromcurrent": true,
              "mode": "immediate",
              "transition": {
               "duration": 0,
               "easing": "linear"
              }
             }
            ],
            "label": "3/21/2019",
            "method": "animate"
           },
           {
            "args": [
             [
              "2/13/2019"
             ],
             {
              "frame": {
               "duration": 0,
               "redraw": true
              },
              "fromcurrent": true,
              "mode": "immediate",
              "transition": {
               "duration": 0,
               "easing": "linear"
              }
             }
            ],
            "label": "2/13/2019",
            "method": "animate"
           },
           {
            "args": [
             [
              "1/14/2019"
             ],
             {
              "frame": {
               "duration": 0,
               "redraw": true
              },
              "fromcurrent": true,
              "mode": "immediate",
              "transition": {
               "duration": 0,
               "easing": "linear"
              }
             }
            ],
            "label": "1/14/2019",
            "method": "animate"
           },
           {
            "args": [
             [
              "3/18/2019"
             ],
             {
              "frame": {
               "duration": 0,
               "redraw": true
              },
              "fromcurrent": true,
              "mode": "immediate",
              "transition": {
               "duration": 0,
               "easing": "linear"
              }
             }
            ],
            "label": "3/18/2019",
            "method": "animate"
           },
           {
            "args": [
             [
              "3/20/2019"
             ],
             {
              "frame": {
               "duration": 0,
               "redraw": true
              },
              "fromcurrent": true,
              "mode": "immediate",
              "transition": {
               "duration": 0,
               "easing": "linear"
              }
             }
            ],
            "label": "3/20/2019",
            "method": "animate"
           },
           {
            "args": [
             [
              "2/21/2019"
             ],
             {
              "frame": {
               "duration": 0,
               "redraw": true
              },
              "fromcurrent": true,
              "mode": "immediate",
              "transition": {
               "duration": 0,
               "easing": "linear"
              }
             }
            ],
            "label": "2/21/2019",
            "method": "animate"
           },
           {
            "args": [
             [
              "1/31/2019"
             ],
             {
              "frame": {
               "duration": 0,
               "redraw": true
              },
              "fromcurrent": true,
              "mode": "immediate",
              "transition": {
               "duration": 0,
               "easing": "linear"
              }
             }
            ],
            "label": "1/31/2019",
            "method": "animate"
           },
           {
            "args": [
             [
              "1/11/2019"
             ],
             {
              "frame": {
               "duration": 0,
               "redraw": true
              },
              "fromcurrent": true,
              "mode": "immediate",
              "transition": {
               "duration": 0,
               "easing": "linear"
              }
             }
            ],
            "label": "1/11/2019",
            "method": "animate"
           },
           {
            "args": [
             [
              "2/26/2019"
             ],
             {
              "frame": {
               "duration": 0,
               "redraw": true
              },
              "fromcurrent": true,
              "mode": "immediate",
              "transition": {
               "duration": 0,
               "easing": "linear"
              }
             }
            ],
            "label": "2/26/2019",
            "method": "animate"
           },
           {
            "args": [
             [
              "3/17/2019"
             ],
             {
              "frame": {
               "duration": 0,
               "redraw": true
              },
              "fromcurrent": true,
              "mode": "immediate",
              "transition": {
               "duration": 0,
               "easing": "linear"
              }
             }
            ],
            "label": "3/17/2019",
            "method": "animate"
           },
           {
            "args": [
             [
              "3/14/2019"
             ],
             {
              "frame": {
               "duration": 0,
               "redraw": true
              },
              "fromcurrent": true,
              "mode": "immediate",
              "transition": {
               "duration": 0,
               "easing": "linear"
              }
             }
            ],
            "label": "3/14/2019",
            "method": "animate"
           },
           {
            "args": [
             [
              "2/4/2019"
             ],
             {
              "frame": {
               "duration": 0,
               "redraw": true
              },
              "fromcurrent": true,
              "mode": "immediate",
              "transition": {
               "duration": 0,
               "easing": "linear"
              }
             }
            ],
            "label": "2/4/2019",
            "method": "animate"
           },
           {
            "args": [
             [
              "2/19/2019"
             ],
             {
              "frame": {
               "duration": 0,
               "redraw": true
              },
              "fromcurrent": true,
              "mode": "immediate",
              "transition": {
               "duration": 0,
               "easing": "linear"
              }
             }
            ],
            "label": "2/19/2019",
            "method": "animate"
           }
          ],
          "x": 0.1,
          "xanchor": "left",
          "y": 0,
          "yanchor": "top"
         }
        ],
        "template": {
         "data": {
          "bar": [
           {
            "error_x": {
             "color": "#2a3f5f"
            },
            "error_y": {
             "color": "#2a3f5f"
            },
            "marker": {
             "line": {
              "color": "#E5ECF6",
              "width": 0.5
             },
             "pattern": {
              "fillmode": "overlay",
              "size": 10,
              "solidity": 0.2
             }
            },
            "type": "bar"
           }
          ],
          "barpolar": [
           {
            "marker": {
             "line": {
              "color": "#E5ECF6",
              "width": 0.5
             },
             "pattern": {
              "fillmode": "overlay",
              "size": 10,
              "solidity": 0.2
             }
            },
            "type": "barpolar"
           }
          ],
          "carpet": [
           {
            "aaxis": {
             "endlinecolor": "#2a3f5f",
             "gridcolor": "white",
             "linecolor": "white",
             "minorgridcolor": "white",
             "startlinecolor": "#2a3f5f"
            },
            "baxis": {
             "endlinecolor": "#2a3f5f",
             "gridcolor": "white",
             "linecolor": "white",
             "minorgridcolor": "white",
             "startlinecolor": "#2a3f5f"
            },
            "type": "carpet"
           }
          ],
          "choropleth": [
           {
            "colorbar": {
             "outlinewidth": 0,
             "ticks": ""
            },
            "type": "choropleth"
           }
          ],
          "contour": [
           {
            "colorbar": {
             "outlinewidth": 0,
             "ticks": ""
            },
            "colorscale": [
             [
              0,
              "#0d0887"
             ],
             [
              0.1111111111111111,
              "#46039f"
             ],
             [
              0.2222222222222222,
              "#7201a8"
             ],
             [
              0.3333333333333333,
              "#9c179e"
             ],
             [
              0.4444444444444444,
              "#bd3786"
             ],
             [
              0.5555555555555556,
              "#d8576b"
             ],
             [
              0.6666666666666666,
              "#ed7953"
             ],
             [
              0.7777777777777778,
              "#fb9f3a"
             ],
             [
              0.8888888888888888,
              "#fdca26"
             ],
             [
              1,
              "#f0f921"
             ]
            ],
            "type": "contour"
           }
          ],
          "contourcarpet": [
           {
            "colorbar": {
             "outlinewidth": 0,
             "ticks": ""
            },
            "type": "contourcarpet"
           }
          ],
          "heatmap": [
           {
            "colorbar": {
             "outlinewidth": 0,
             "ticks": ""
            },
            "colorscale": [
             [
              0,
              "#0d0887"
             ],
             [
              0.1111111111111111,
              "#46039f"
             ],
             [
              0.2222222222222222,
              "#7201a8"
             ],
             [
              0.3333333333333333,
              "#9c179e"
             ],
             [
              0.4444444444444444,
              "#bd3786"
             ],
             [
              0.5555555555555556,
              "#d8576b"
             ],
             [
              0.6666666666666666,
              "#ed7953"
             ],
             [
              0.7777777777777778,
              "#fb9f3a"
             ],
             [
              0.8888888888888888,
              "#fdca26"
             ],
             [
              1,
              "#f0f921"
             ]
            ],
            "type": "heatmap"
           }
          ],
          "heatmapgl": [
           {
            "colorbar": {
             "outlinewidth": 0,
             "ticks": ""
            },
            "colorscale": [
             [
              0,
              "#0d0887"
             ],
             [
              0.1111111111111111,
              "#46039f"
             ],
             [
              0.2222222222222222,
              "#7201a8"
             ],
             [
              0.3333333333333333,
              "#9c179e"
             ],
             [
              0.4444444444444444,
              "#bd3786"
             ],
             [
              0.5555555555555556,
              "#d8576b"
             ],
             [
              0.6666666666666666,
              "#ed7953"
             ],
             [
              0.7777777777777778,
              "#fb9f3a"
             ],
             [
              0.8888888888888888,
              "#fdca26"
             ],
             [
              1,
              "#f0f921"
             ]
            ],
            "type": "heatmapgl"
           }
          ],
          "histogram": [
           {
            "marker": {
             "pattern": {
              "fillmode": "overlay",
              "size": 10,
              "solidity": 0.2
             }
            },
            "type": "histogram"
           }
          ],
          "histogram2d": [
           {
            "colorbar": {
             "outlinewidth": 0,
             "ticks": ""
            },
            "colorscale": [
             [
              0,
              "#0d0887"
             ],
             [
              0.1111111111111111,
              "#46039f"
             ],
             [
              0.2222222222222222,
              "#7201a8"
             ],
             [
              0.3333333333333333,
              "#9c179e"
             ],
             [
              0.4444444444444444,
              "#bd3786"
             ],
             [
              0.5555555555555556,
              "#d8576b"
             ],
             [
              0.6666666666666666,
              "#ed7953"
             ],
             [
              0.7777777777777778,
              "#fb9f3a"
             ],
             [
              0.8888888888888888,
              "#fdca26"
             ],
             [
              1,
              "#f0f921"
             ]
            ],
            "type": "histogram2d"
           }
          ],
          "histogram2dcontour": [
           {
            "colorbar": {
             "outlinewidth": 0,
             "ticks": ""
            },
            "colorscale": [
             [
              0,
              "#0d0887"
             ],
             [
              0.1111111111111111,
              "#46039f"
             ],
             [
              0.2222222222222222,
              "#7201a8"
             ],
             [
              0.3333333333333333,
              "#9c179e"
             ],
             [
              0.4444444444444444,
              "#bd3786"
             ],
             [
              0.5555555555555556,
              "#d8576b"
             ],
             [
              0.6666666666666666,
              "#ed7953"
             ],
             [
              0.7777777777777778,
              "#fb9f3a"
             ],
             [
              0.8888888888888888,
              "#fdca26"
             ],
             [
              1,
              "#f0f921"
             ]
            ],
            "type": "histogram2dcontour"
           }
          ],
          "mesh3d": [
           {
            "colorbar": {
             "outlinewidth": 0,
             "ticks": ""
            },
            "type": "mesh3d"
           }
          ],
          "parcoords": [
           {
            "line": {
             "colorbar": {
              "outlinewidth": 0,
              "ticks": ""
             }
            },
            "type": "parcoords"
           }
          ],
          "pie": [
           {
            "automargin": true,
            "type": "pie"
           }
          ],
          "scatter": [
           {
            "marker": {
             "colorbar": {
              "outlinewidth": 0,
              "ticks": ""
             }
            },
            "type": "scatter"
           }
          ],
          "scatter3d": [
           {
            "line": {
             "colorbar": {
              "outlinewidth": 0,
              "ticks": ""
             }
            },
            "marker": {
             "colorbar": {
              "outlinewidth": 0,
              "ticks": ""
             }
            },
            "type": "scatter3d"
           }
          ],
          "scattercarpet": [
           {
            "marker": {
             "colorbar": {
              "outlinewidth": 0,
              "ticks": ""
             }
            },
            "type": "scattercarpet"
           }
          ],
          "scattergeo": [
           {
            "marker": {
             "colorbar": {
              "outlinewidth": 0,
              "ticks": ""
             }
            },
            "type": "scattergeo"
           }
          ],
          "scattergl": [
           {
            "marker": {
             "colorbar": {
              "outlinewidth": 0,
              "ticks": ""
             }
            },
            "type": "scattergl"
           }
          ],
          "scattermapbox": [
           {
            "marker": {
             "colorbar": {
              "outlinewidth": 0,
              "ticks": ""
             }
            },
            "type": "scattermapbox"
           }
          ],
          "scatterpolar": [
           {
            "marker": {
             "colorbar": {
              "outlinewidth": 0,
              "ticks": ""
             }
            },
            "type": "scatterpolar"
           }
          ],
          "scatterpolargl": [
           {
            "marker": {
             "colorbar": {
              "outlinewidth": 0,
              "ticks": ""
             }
            },
            "type": "scatterpolargl"
           }
          ],
          "scatterternary": [
           {
            "marker": {
             "colorbar": {
              "outlinewidth": 0,
              "ticks": ""
             }
            },
            "type": "scatterternary"
           }
          ],
          "surface": [
           {
            "colorbar": {
             "outlinewidth": 0,
             "ticks": ""
            },
            "colorscale": [
             [
              0,
              "#0d0887"
             ],
             [
              0.1111111111111111,
              "#46039f"
             ],
             [
              0.2222222222222222,
              "#7201a8"
             ],
             [
              0.3333333333333333,
              "#9c179e"
             ],
             [
              0.4444444444444444,
              "#bd3786"
             ],
             [
              0.5555555555555556,
              "#d8576b"
             ],
             [
              0.6666666666666666,
              "#ed7953"
             ],
             [
              0.7777777777777778,
              "#fb9f3a"
             ],
             [
              0.8888888888888888,
              "#fdca26"
             ],
             [
              1,
              "#f0f921"
             ]
            ],
            "type": "surface"
           }
          ],
          "table": [
           {
            "cells": {
             "fill": {
              "color": "#EBF0F8"
             },
             "line": {
              "color": "white"
             }
            },
            "header": {
             "fill": {
              "color": "#C8D4E3"
             },
             "line": {
              "color": "white"
             }
            },
            "type": "table"
           }
          ]
         },
         "layout": {
          "annotationdefaults": {
           "arrowcolor": "#2a3f5f",
           "arrowhead": 0,
           "arrowwidth": 1
          },
          "autotypenumbers": "strict",
          "coloraxis": {
           "colorbar": {
            "outlinewidth": 0,
            "ticks": ""
           }
          },
          "colorscale": {
           "diverging": [
            [
             0,
             "#8e0152"
            ],
            [
             0.1,
             "#c51b7d"
            ],
            [
             0.2,
             "#de77ae"
            ],
            [
             0.3,
             "#f1b6da"
            ],
            [
             0.4,
             "#fde0ef"
            ],
            [
             0.5,
             "#f7f7f7"
            ],
            [
             0.6,
             "#e6f5d0"
            ],
            [
             0.7,
             "#b8e186"
            ],
            [
             0.8,
             "#7fbc41"
            ],
            [
             0.9,
             "#4d9221"
            ],
            [
             1,
             "#276419"
            ]
           ],
           "sequential": [
            [
             0,
             "#0d0887"
            ],
            [
             0.1111111111111111,
             "#46039f"
            ],
            [
             0.2222222222222222,
             "#7201a8"
            ],
            [
             0.3333333333333333,
             "#9c179e"
            ],
            [
             0.4444444444444444,
             "#bd3786"
            ],
            [
             0.5555555555555556,
             "#d8576b"
            ],
            [
             0.6666666666666666,
             "#ed7953"
            ],
            [
             0.7777777777777778,
             "#fb9f3a"
            ],
            [
             0.8888888888888888,
             "#fdca26"
            ],
            [
             1,
             "#f0f921"
            ]
           ],
           "sequentialminus": [
            [
             0,
             "#0d0887"
            ],
            [
             0.1111111111111111,
             "#46039f"
            ],
            [
             0.2222222222222222,
             "#7201a8"
            ],
            [
             0.3333333333333333,
             "#9c179e"
            ],
            [
             0.4444444444444444,
             "#bd3786"
            ],
            [
             0.5555555555555556,
             "#d8576b"
            ],
            [
             0.6666666666666666,
             "#ed7953"
            ],
            [
             0.7777777777777778,
             "#fb9f3a"
            ],
            [
             0.8888888888888888,
             "#fdca26"
            ],
            [
             1,
             "#f0f921"
            ]
           ]
          },
          "colorway": [
           "#636efa",
           "#EF553B",
           "#00cc96",
           "#ab63fa",
           "#FFA15A",
           "#19d3f3",
           "#FF6692",
           "#B6E880",
           "#FF97FF",
           "#FECB52"
          ],
          "font": {
           "color": "#2a3f5f"
          },
          "geo": {
           "bgcolor": "white",
           "lakecolor": "white",
           "landcolor": "#E5ECF6",
           "showlakes": true,
           "showland": true,
           "subunitcolor": "white"
          },
          "hoverlabel": {
           "align": "left"
          },
          "hovermode": "closest",
          "mapbox": {
           "style": "light"
          },
          "paper_bgcolor": "white",
          "plot_bgcolor": "#E5ECF6",
          "polar": {
           "angularaxis": {
            "gridcolor": "white",
            "linecolor": "white",
            "ticks": ""
           },
           "bgcolor": "#E5ECF6",
           "radialaxis": {
            "gridcolor": "white",
            "linecolor": "white",
            "ticks": ""
           }
          },
          "scene": {
           "xaxis": {
            "backgroundcolor": "#E5ECF6",
            "gridcolor": "white",
            "gridwidth": 2,
            "linecolor": "white",
            "showbackground": true,
            "ticks": "",
            "zerolinecolor": "white"
           },
           "yaxis": {
            "backgroundcolor": "#E5ECF6",
            "gridcolor": "white",
            "gridwidth": 2,
            "linecolor": "white",
            "showbackground": true,
            "ticks": "",
            "zerolinecolor": "white"
           },
           "zaxis": {
            "backgroundcolor": "#E5ECF6",
            "gridcolor": "white",
            "gridwidth": 2,
            "linecolor": "white",
            "showbackground": true,
            "ticks": "",
            "zerolinecolor": "white"
           }
          },
          "shapedefaults": {
           "line": {
            "color": "#2a3f5f"
           }
          },
          "ternary": {
           "aaxis": {
            "gridcolor": "white",
            "linecolor": "white",
            "ticks": ""
           },
           "baxis": {
            "gridcolor": "white",
            "linecolor": "white",
            "ticks": ""
           },
           "bgcolor": "#E5ECF6",
           "caxis": {
            "gridcolor": "white",
            "linecolor": "white",
            "ticks": ""
           }
          },
          "title": {
           "x": 0.05
          },
          "xaxis": {
           "automargin": true,
           "gridcolor": "white",
           "linecolor": "white",
           "ticks": "",
           "title": {
            "standoff": 15
           },
           "zerolinecolor": "white",
           "zerolinewidth": 2
          },
          "yaxis": {
           "automargin": true,
           "gridcolor": "white",
           "linecolor": "white",
           "ticks": "",
           "title": {
            "standoff": 15
           },
           "zerolinecolor": "white",
           "zerolinewidth": 2
          }
         }
        },
        "title": {
         "text": "Perubahan Total Harga per kota berdasarkan tanggal"
        },
        "updatemenus": [
         {
          "buttons": [
           {
            "args": [
             null,
             {
              "frame": {
               "duration": 500,
               "redraw": true
              },
              "fromcurrent": true,
              "mode": "immediate",
              "transition": {
               "duration": 500,
               "easing": "linear"
              }
             }
            ],
            "label": "&#9654;",
            "method": "animate"
           },
           {
            "args": [
             [
              null
             ],
             {
              "frame": {
               "duration": 0,
               "redraw": true
              },
              "fromcurrent": true,
              "mode": "immediate",
              "transition": {
               "duration": 0,
               "easing": "linear"
              }
             }
            ],
            "label": "&#9724;",
            "method": "animate"
           }
          ],
          "direction": "left",
          "pad": {
           "r": 10,
           "t": 70
          },
          "showactive": false,
          "type": "buttons",
          "x": 0.1,
          "xanchor": "right",
          "y": 0,
          "yanchor": "top"
         }
        ],
        "xaxis": {
         "anchor": "y",
         "categoryarray": [
          "Yangon",
          "Naypyitaw",
          "Mandalay"
         ],
         "categoryorder": "array",
         "domain": [
          0,
          1
         ],
         "title": {
          "text": "City"
         }
        },
        "yaxis": {
         "anchor": "x",
         "domain": [
          0,
          1
         ],
         "range": [
          0,
          1000
         ],
         "title": {
          "text": "Total"
         }
        }
       }
      }
     },
     "metadata": {},
     "output_type": "display_data"
    }
   ],
   "source": [
    "px.bar(df,x='City',y='Total',color='City',animation_frame='Date',title='Perubahan Total Harga per kota berdasarkan tanggal',\n",
    "      animation_group=\"Branch\", range_y=[0,1000])"
   ]
  },
  {
   "cell_type": "markdown",
   "metadata": {},
   "source": [
    "# Data Cleaning & Analysist"
   ]
  },
  {
   "cell_type": "code",
   "execution_count": 11,
   "metadata": {},
   "outputs": [
    {
     "data": {
      "text/plain": [
       "<bound method DataFrame.info of       Invoice ID Branch       City Customer type  Gender  \\\n",
       "0    750-67-8428      A     Yangon        Member  Female   \n",
       "1    226-31-3081      C  Naypyitaw        Normal  Female   \n",
       "2    631-41-3108      A     Yangon        Normal    Male   \n",
       "3    123-19-1176      A     Yangon        Member    Male   \n",
       "4    373-73-7910      A     Yangon        Normal    Male   \n",
       "..           ...    ...        ...           ...     ...   \n",
       "995  233-67-5758      C  Naypyitaw        Normal    Male   \n",
       "996  303-96-2227      B   Mandalay        Normal  Female   \n",
       "997  727-02-1313      A     Yangon        Member    Male   \n",
       "998  347-56-2442      A     Yangon        Normal    Male   \n",
       "999  849-09-3807      A     Yangon        Member  Female   \n",
       "\n",
       "               Product line  Unit price  Quantity   Tax 5%      Total  \\\n",
       "0         Health and beauty       74.69         7  26.1415   548.9715   \n",
       "1    Electronic accessories       15.28         5   3.8200    80.2200   \n",
       "2        Home and lifestyle       46.33         7  16.2155   340.5255   \n",
       "3         Health and beauty       58.22         8  23.2880   489.0480   \n",
       "4         Sports and travel       86.31         7  30.2085   634.3785   \n",
       "..                      ...         ...       ...      ...        ...   \n",
       "995       Health and beauty       40.35         1   2.0175    42.3675   \n",
       "996      Home and lifestyle       97.38        10  48.6900  1022.4900   \n",
       "997      Food and beverages       31.84         1   1.5920    33.4320   \n",
       "998      Home and lifestyle       65.82         1   3.2910    69.1110   \n",
       "999     Fashion accessories       88.34         7  30.9190   649.2990   \n",
       "\n",
       "          Date   Time      Payment    cogs  gross margin percentage  \\\n",
       "0     1/5/2019  13:08      Ewallet  522.83                 4.761905   \n",
       "1     3/8/2019  10:29         Cash   76.40                 4.761905   \n",
       "2     3/3/2019  13:23  Credit card  324.31                 4.761905   \n",
       "3    1/27/2019  20:33      Ewallet  465.76                 4.761905   \n",
       "4     2/8/2019  10:37      Ewallet  604.17                 4.761905   \n",
       "..         ...    ...          ...     ...                      ...   \n",
       "995  1/29/2019  13:46      Ewallet   40.35                 4.761905   \n",
       "996   3/2/2019  17:16      Ewallet  973.80                 4.761905   \n",
       "997   2/9/2019  13:22         Cash   31.84                 4.761905   \n",
       "998  2/22/2019  15:33         Cash   65.82                 4.761905   \n",
       "999  2/18/2019  13:28         Cash  618.38                 4.761905   \n",
       "\n",
       "     gross income  Rating  \n",
       "0         26.1415     9.1  \n",
       "1          3.8200     9.6  \n",
       "2         16.2155     7.4  \n",
       "3         23.2880     8.4  \n",
       "4         30.2085     5.3  \n",
       "..            ...     ...  \n",
       "995        2.0175     6.2  \n",
       "996       48.6900     4.4  \n",
       "997        1.5920     7.7  \n",
       "998        3.2910     4.1  \n",
       "999       30.9190     6.6  \n",
       "\n",
       "[1000 rows x 17 columns]>"
      ]
     },
     "execution_count": 11,
     "metadata": {},
     "output_type": "execute_result"
    }
   ],
   "source": [
    "#Missing values cheking\n",
    "df.info"
   ]
  },
  {
   "cell_type": "code",
   "execution_count": 12,
   "metadata": {},
   "outputs": [
    {
     "name": "stdout",
     "output_type": "stream",
     "text": [
      "False    1000\n",
      "Name: Invoice ID, dtype: int64\n",
      "False    1000\n",
      "Name: Branch, dtype: int64\n",
      "False    1000\n",
      "Name: City, dtype: int64\n",
      "False    1000\n",
      "Name: Customer type, dtype: int64\n",
      "False    1000\n",
      "Name: Gender, dtype: int64\n",
      "False    1000\n",
      "Name: Product line, dtype: int64\n",
      "False    1000\n",
      "Name: Unit price, dtype: int64\n",
      "False    1000\n",
      "Name: Quantity, dtype: int64\n",
      "False    1000\n",
      "Name: Tax 5%, dtype: int64\n",
      "False    1000\n",
      "Name: Total, dtype: int64\n",
      "False    1000\n",
      "Name: Date, dtype: int64\n",
      "False    1000\n",
      "Name: Time, dtype: int64\n",
      "False    1000\n",
      "Name: Payment, dtype: int64\n",
      "False    1000\n",
      "Name: cogs, dtype: int64\n",
      "False    1000\n",
      "Name: gross margin percentage, dtype: int64\n",
      "False    1000\n",
      "Name: gross income, dtype: int64\n",
      "False    1000\n",
      "Name: Rating, dtype: int64\n"
     ]
    }
   ],
   "source": [
    "for col in df.columns:\n",
    "    missing_value = df[col].isnull().value_counts()\n",
    "    print(missing_value)"
   ]
  },
  {
   "cell_type": "markdown",
   "metadata": {},
   "source": [
    "\n",
    "Data yang kita miliki tidak ada missing value"
   ]
  },
  {
   "cell_type": "code",
   "execution_count": 13,
   "metadata": {},
   "outputs": [
    {
     "data": {
      "text/html": [
       "<div>\n",
       "<style scoped>\n",
       "    .dataframe tbody tr th:only-of-type {\n",
       "        vertical-align: middle;\n",
       "    }\n",
       "\n",
       "    .dataframe tbody tr th {\n",
       "        vertical-align: top;\n",
       "    }\n",
       "\n",
       "    .dataframe thead th {\n",
       "        text-align: right;\n",
       "    }\n",
       "</style>\n",
       "<table border=\"1\" class=\"dataframe\">\n",
       "  <thead>\n",
       "    <tr style=\"text-align: right;\">\n",
       "      <th></th>\n",
       "      <th>Invoice ID</th>\n",
       "      <th>Branch</th>\n",
       "      <th>City</th>\n",
       "      <th>Customer type</th>\n",
       "      <th>Gender</th>\n",
       "      <th>Product line</th>\n",
       "      <th>Unit price</th>\n",
       "      <th>Quantity</th>\n",
       "      <th>Tax 5%</th>\n",
       "      <th>Total</th>\n",
       "      <th>Date</th>\n",
       "      <th>Time</th>\n",
       "      <th>Payment</th>\n",
       "      <th>cogs</th>\n",
       "      <th>gross margin percentage</th>\n",
       "      <th>gross income</th>\n",
       "      <th>Rating</th>\n",
       "    </tr>\n",
       "  </thead>\n",
       "  <tbody>\n",
       "    <tr>\n",
       "      <th>0</th>\n",
       "      <td>750-67-8428</td>\n",
       "      <td>A</td>\n",
       "      <td>Yangon</td>\n",
       "      <td>Member</td>\n",
       "      <td>Female</td>\n",
       "      <td>Health and beauty</td>\n",
       "      <td>74.69</td>\n",
       "      <td>7</td>\n",
       "      <td>26.1415</td>\n",
       "      <td>548.9715</td>\n",
       "      <td>1/5/2019</td>\n",
       "      <td>13:08</td>\n",
       "      <td>Ewallet</td>\n",
       "      <td>522.83</td>\n",
       "      <td>4.761905</td>\n",
       "      <td>26.1415</td>\n",
       "      <td>9.1</td>\n",
       "    </tr>\n",
       "    <tr>\n",
       "      <th>1</th>\n",
       "      <td>226-31-3081</td>\n",
       "      <td>C</td>\n",
       "      <td>Naypyitaw</td>\n",
       "      <td>Normal</td>\n",
       "      <td>Female</td>\n",
       "      <td>Electronic accessories</td>\n",
       "      <td>15.28</td>\n",
       "      <td>5</td>\n",
       "      <td>3.8200</td>\n",
       "      <td>80.2200</td>\n",
       "      <td>3/8/2019</td>\n",
       "      <td>10:29</td>\n",
       "      <td>Cash</td>\n",
       "      <td>76.40</td>\n",
       "      <td>4.761905</td>\n",
       "      <td>3.8200</td>\n",
       "      <td>9.6</td>\n",
       "    </tr>\n",
       "    <tr>\n",
       "      <th>2</th>\n",
       "      <td>631-41-3108</td>\n",
       "      <td>A</td>\n",
       "      <td>Yangon</td>\n",
       "      <td>Normal</td>\n",
       "      <td>Male</td>\n",
       "      <td>Home and lifestyle</td>\n",
       "      <td>46.33</td>\n",
       "      <td>7</td>\n",
       "      <td>16.2155</td>\n",
       "      <td>340.5255</td>\n",
       "      <td>3/3/2019</td>\n",
       "      <td>13:23</td>\n",
       "      <td>Credit card</td>\n",
       "      <td>324.31</td>\n",
       "      <td>4.761905</td>\n",
       "      <td>16.2155</td>\n",
       "      <td>7.4</td>\n",
       "    </tr>\n",
       "    <tr>\n",
       "      <th>3</th>\n",
       "      <td>123-19-1176</td>\n",
       "      <td>A</td>\n",
       "      <td>Yangon</td>\n",
       "      <td>Member</td>\n",
       "      <td>Male</td>\n",
       "      <td>Health and beauty</td>\n",
       "      <td>58.22</td>\n",
       "      <td>8</td>\n",
       "      <td>23.2880</td>\n",
       "      <td>489.0480</td>\n",
       "      <td>1/27/2019</td>\n",
       "      <td>20:33</td>\n",
       "      <td>Ewallet</td>\n",
       "      <td>465.76</td>\n",
       "      <td>4.761905</td>\n",
       "      <td>23.2880</td>\n",
       "      <td>8.4</td>\n",
       "    </tr>\n",
       "    <tr>\n",
       "      <th>4</th>\n",
       "      <td>373-73-7910</td>\n",
       "      <td>A</td>\n",
       "      <td>Yangon</td>\n",
       "      <td>Normal</td>\n",
       "      <td>Male</td>\n",
       "      <td>Sports and travel</td>\n",
       "      <td>86.31</td>\n",
       "      <td>7</td>\n",
       "      <td>30.2085</td>\n",
       "      <td>634.3785</td>\n",
       "      <td>2/8/2019</td>\n",
       "      <td>10:37</td>\n",
       "      <td>Ewallet</td>\n",
       "      <td>604.17</td>\n",
       "      <td>4.761905</td>\n",
       "      <td>30.2085</td>\n",
       "      <td>5.3</td>\n",
       "    </tr>\n",
       "  </tbody>\n",
       "</table>\n",
       "</div>"
      ],
      "text/plain": [
       "    Invoice ID Branch       City Customer type  Gender  \\\n",
       "0  750-67-8428      A     Yangon        Member  Female   \n",
       "1  226-31-3081      C  Naypyitaw        Normal  Female   \n",
       "2  631-41-3108      A     Yangon        Normal    Male   \n",
       "3  123-19-1176      A     Yangon        Member    Male   \n",
       "4  373-73-7910      A     Yangon        Normal    Male   \n",
       "\n",
       "             Product line  Unit price  Quantity   Tax 5%     Total       Date  \\\n",
       "0       Health and beauty       74.69         7  26.1415  548.9715   1/5/2019   \n",
       "1  Electronic accessories       15.28         5   3.8200   80.2200   3/8/2019   \n",
       "2      Home and lifestyle       46.33         7  16.2155  340.5255   3/3/2019   \n",
       "3       Health and beauty       58.22         8  23.2880  489.0480  1/27/2019   \n",
       "4       Sports and travel       86.31         7  30.2085  634.3785   2/8/2019   \n",
       "\n",
       "    Time      Payment    cogs  gross margin percentage  gross income  Rating  \n",
       "0  13:08      Ewallet  522.83                 4.761905       26.1415     9.1  \n",
       "1  10:29         Cash   76.40                 4.761905        3.8200     9.6  \n",
       "2  13:23  Credit card  324.31                 4.761905       16.2155     7.4  \n",
       "3  20:33      Ewallet  465.76                 4.761905       23.2880     8.4  \n",
       "4  10:37      Ewallet  604.17                 4.761905       30.2085     5.3  "
      ]
     },
     "execution_count": 13,
     "metadata": {},
     "output_type": "execute_result"
    }
   ],
   "source": [
    "df.head()"
   ]
  },
  {
   "cell_type": "code",
   "execution_count": 14,
   "metadata": {},
   "outputs": [
    {
     "data": {
      "text/html": [
       "<div>\n",
       "<style scoped>\n",
       "    .dataframe tbody tr th:only-of-type {\n",
       "        vertical-align: middle;\n",
       "    }\n",
       "\n",
       "    .dataframe tbody tr th {\n",
       "        vertical-align: top;\n",
       "    }\n",
       "\n",
       "    .dataframe thead th {\n",
       "        text-align: right;\n",
       "    }\n",
       "</style>\n",
       "<table border=\"1\" class=\"dataframe\">\n",
       "  <thead>\n",
       "    <tr style=\"text-align: right;\">\n",
       "      <th></th>\n",
       "      <th>City</th>\n",
       "      <th>Total</th>\n",
       "      <th>Payment</th>\n",
       "    </tr>\n",
       "  </thead>\n",
       "  <tbody>\n",
       "    <tr>\n",
       "      <th>451</th>\n",
       "      <td>Mandalay</td>\n",
       "      <td>138.6630</td>\n",
       "      <td>Cash</td>\n",
       "    </tr>\n",
       "    <tr>\n",
       "      <th>625</th>\n",
       "      <td>Mandalay</td>\n",
       "      <td>165.6480</td>\n",
       "      <td>Cash</td>\n",
       "    </tr>\n",
       "    <tr>\n",
       "      <th>645</th>\n",
       "      <td>Yangon</td>\n",
       "      <td>182.9520</td>\n",
       "      <td>Ewallet</td>\n",
       "    </tr>\n",
       "    <tr>\n",
       "      <th>392</th>\n",
       "      <td>Yangon</td>\n",
       "      <td>80.6610</td>\n",
       "      <td>Ewallet</td>\n",
       "    </tr>\n",
       "    <tr>\n",
       "      <th>558</th>\n",
       "      <td>Yangon</td>\n",
       "      <td>262.4580</td>\n",
       "      <td>Ewallet</td>\n",
       "    </tr>\n",
       "    <tr>\n",
       "      <th>404</th>\n",
       "      <td>Naypyitaw</td>\n",
       "      <td>718.7565</td>\n",
       "      <td>Ewallet</td>\n",
       "    </tr>\n",
       "    <tr>\n",
       "      <th>535</th>\n",
       "      <td>Naypyitaw</td>\n",
       "      <td>122.5245</td>\n",
       "      <td>Ewallet</td>\n",
       "    </tr>\n",
       "    <tr>\n",
       "      <th>108</th>\n",
       "      <td>Naypyitaw</td>\n",
       "      <td>321.1110</td>\n",
       "      <td>Cash</td>\n",
       "    </tr>\n",
       "    <tr>\n",
       "      <th>599</th>\n",
       "      <td>Yangon</td>\n",
       "      <td>147.6720</td>\n",
       "      <td>Ewallet</td>\n",
       "    </tr>\n",
       "    <tr>\n",
       "      <th>407</th>\n",
       "      <td>Mandalay</td>\n",
       "      <td>288.5820</td>\n",
       "      <td>Cash</td>\n",
       "    </tr>\n",
       "  </tbody>\n",
       "</table>\n",
       "</div>"
      ],
      "text/plain": [
       "          City     Total  Payment\n",
       "451   Mandalay  138.6630     Cash\n",
       "625   Mandalay  165.6480     Cash\n",
       "645     Yangon  182.9520  Ewallet\n",
       "392     Yangon   80.6610  Ewallet\n",
       "558     Yangon  262.4580  Ewallet\n",
       "404  Naypyitaw  718.7565  Ewallet\n",
       "535  Naypyitaw  122.5245  Ewallet\n",
       "108  Naypyitaw  321.1110     Cash\n",
       "599     Yangon  147.6720  Ewallet\n",
       "407   Mandalay  288.5820     Cash"
      ]
     },
     "execution_count": 14,
     "metadata": {},
     "output_type": "execute_result"
    }
   ],
   "source": [
    "#Hapus Kolom yang tidak di gunakan\n",
    "df_new= df.drop(['Invoice ID',\t'Branch',\t'Customer type'\t,'Gender',\t'Product line',\t'Unit price',\t'Quantity',\t'Tax 5%',\t'Date',\t'Time',\t'cogs',\t'gross margin percentage',\t'gross income',\t'Rating'], axis=1)\n",
    "df_new.sample(10)"
   ]
  },
  {
   "cell_type": "code",
   "execution_count": 15,
   "metadata": {},
   "outputs": [
    {
     "data": {
      "application/vnd.plotly.v1+json": {
       "config": {
        "plotlyServerURL": "https://plot.ly"
       },
       "data": [
        {
         "alignmentgroup": "True",
         "bingroup": "x",
         "hovertemplate": "Payment=Ewallet<br>City=%{x}<br>count=%{y}<extra></extra>",
         "legendgroup": "Ewallet",
         "marker": {
          "color": "#636efa",
          "pattern": {
           "shape": ""
          }
         },
         "name": "Ewallet",
         "offsetgroup": "Ewallet",
         "orientation": "v",
         "showlegend": true,
         "type": "histogram",
         "x": [
          "Yangon",
          "Yangon",
          "Yangon",
          "Naypyitaw",
          "Yangon",
          "Naypyitaw",
          "Mandalay",
          "Yangon",
          "Yangon",
          "Mandalay",
          "Naypyitaw",
          "Mandalay",
          "Yangon",
          "Yangon",
          "Naypyitaw",
          "Naypyitaw",
          "Yangon",
          "Yangon",
          "Naypyitaw",
          "Mandalay",
          "Mandalay",
          "Naypyitaw",
          "Mandalay",
          "Mandalay",
          "Yangon",
          "Naypyitaw",
          "Mandalay",
          "Naypyitaw",
          "Mandalay",
          "Mandalay",
          "Yangon",
          "Naypyitaw",
          "Mandalay",
          "Naypyitaw",
          "Naypyitaw",
          "Naypyitaw",
          "Yangon",
          "Yangon",
          "Mandalay",
          "Yangon",
          "Yangon",
          "Mandalay",
          "Yangon",
          "Mandalay",
          "Mandalay",
          "Yangon",
          "Mandalay",
          "Mandalay",
          "Naypyitaw",
          "Mandalay",
          "Naypyitaw",
          "Yangon",
          "Yangon",
          "Yangon",
          "Naypyitaw",
          "Mandalay",
          "Mandalay",
          "Mandalay",
          "Naypyitaw",
          "Mandalay",
          "Yangon",
          "Mandalay",
          "Yangon",
          "Yangon",
          "Naypyitaw",
          "Yangon",
          "Naypyitaw",
          "Mandalay",
          "Mandalay",
          "Yangon",
          "Mandalay",
          "Mandalay",
          "Yangon",
          "Mandalay",
          "Yangon",
          "Naypyitaw",
          "Mandalay",
          "Yangon",
          "Mandalay",
          "Mandalay",
          "Mandalay",
          "Mandalay",
          "Mandalay",
          "Naypyitaw",
          "Yangon",
          "Yangon",
          "Yangon",
          "Yangon",
          "Yangon",
          "Mandalay",
          "Yangon",
          "Yangon",
          "Yangon",
          "Naypyitaw",
          "Mandalay",
          "Yangon",
          "Mandalay",
          "Mandalay",
          "Naypyitaw",
          "Yangon",
          "Naypyitaw",
          "Mandalay",
          "Yangon",
          "Yangon",
          "Yangon",
          "Naypyitaw",
          "Naypyitaw",
          "Yangon",
          "Mandalay",
          "Naypyitaw",
          "Yangon",
          "Mandalay",
          "Naypyitaw",
          "Yangon",
          "Mandalay",
          "Naypyitaw",
          "Naypyitaw",
          "Yangon",
          "Naypyitaw",
          "Naypyitaw",
          "Naypyitaw",
          "Yangon",
          "Naypyitaw",
          "Yangon",
          "Yangon",
          "Yangon",
          "Yangon",
          "Naypyitaw",
          "Mandalay",
          "Naypyitaw",
          "Yangon",
          "Naypyitaw",
          "Mandalay",
          "Yangon",
          "Yangon",
          "Mandalay",
          "Naypyitaw",
          "Mandalay",
          "Naypyitaw",
          "Yangon",
          "Naypyitaw",
          "Yangon",
          "Naypyitaw",
          "Naypyitaw",
          "Naypyitaw",
          "Naypyitaw",
          "Yangon",
          "Yangon",
          "Naypyitaw",
          "Naypyitaw",
          "Naypyitaw",
          "Mandalay",
          "Yangon",
          "Yangon",
          "Mandalay",
          "Yangon",
          "Mandalay",
          "Mandalay",
          "Mandalay",
          "Mandalay",
          "Naypyitaw",
          "Naypyitaw",
          "Yangon",
          "Yangon",
          "Yangon",
          "Naypyitaw",
          "Mandalay",
          "Yangon",
          "Yangon",
          "Mandalay",
          "Yangon",
          "Mandalay",
          "Naypyitaw",
          "Yangon",
          "Naypyitaw",
          "Yangon",
          "Naypyitaw",
          "Yangon",
          "Mandalay",
          "Yangon",
          "Mandalay",
          "Naypyitaw",
          "Yangon",
          "Yangon",
          "Mandalay",
          "Yangon",
          "Naypyitaw",
          "Yangon",
          "Mandalay",
          "Naypyitaw",
          "Mandalay",
          "Mandalay",
          "Yangon",
          "Naypyitaw",
          "Yangon",
          "Naypyitaw",
          "Yangon",
          "Naypyitaw",
          "Naypyitaw",
          "Mandalay",
          "Yangon",
          "Yangon",
          "Mandalay",
          "Yangon",
          "Yangon",
          "Naypyitaw",
          "Naypyitaw",
          "Yangon",
          "Yangon",
          "Yangon",
          "Mandalay",
          "Mandalay",
          "Mandalay",
          "Naypyitaw",
          "Mandalay",
          "Naypyitaw",
          "Yangon",
          "Mandalay",
          "Mandalay",
          "Yangon",
          "Yangon",
          "Mandalay",
          "Mandalay",
          "Naypyitaw",
          "Yangon",
          "Mandalay",
          "Naypyitaw",
          "Yangon",
          "Naypyitaw",
          "Yangon",
          "Mandalay",
          "Naypyitaw",
          "Yangon",
          "Mandalay",
          "Naypyitaw",
          "Naypyitaw",
          "Mandalay",
          "Naypyitaw",
          "Yangon",
          "Naypyitaw",
          "Naypyitaw",
          "Naypyitaw",
          "Naypyitaw",
          "Yangon",
          "Mandalay",
          "Naypyitaw",
          "Yangon",
          "Yangon",
          "Mandalay",
          "Mandalay",
          "Naypyitaw",
          "Mandalay",
          "Naypyitaw",
          "Yangon",
          "Yangon",
          "Mandalay",
          "Yangon",
          "Mandalay",
          "Naypyitaw",
          "Mandalay",
          "Yangon",
          "Yangon",
          "Yangon",
          "Yangon",
          "Mandalay",
          "Mandalay",
          "Naypyitaw",
          "Mandalay",
          "Yangon",
          "Naypyitaw",
          "Naypyitaw",
          "Yangon",
          "Mandalay",
          "Naypyitaw",
          "Mandalay",
          "Naypyitaw",
          "Naypyitaw",
          "Naypyitaw",
          "Mandalay",
          "Mandalay",
          "Yangon",
          "Mandalay",
          "Yangon",
          "Mandalay",
          "Yangon",
          "Naypyitaw",
          "Yangon",
          "Yangon",
          "Naypyitaw",
          "Mandalay",
          "Yangon",
          "Naypyitaw",
          "Yangon",
          "Naypyitaw",
          "Naypyitaw",
          "Yangon",
          "Naypyitaw",
          "Naypyitaw",
          "Mandalay",
          "Mandalay",
          "Yangon",
          "Yangon",
          "Yangon",
          "Naypyitaw",
          "Yangon",
          "Naypyitaw",
          "Yangon",
          "Mandalay",
          "Naypyitaw",
          "Yangon",
          "Naypyitaw",
          "Yangon",
          "Mandalay",
          "Mandalay",
          "Naypyitaw",
          "Mandalay",
          "Mandalay",
          "Mandalay",
          "Yangon",
          "Naypyitaw",
          "Mandalay",
          "Naypyitaw",
          "Naypyitaw",
          "Naypyitaw",
          "Yangon",
          "Yangon",
          "Mandalay",
          "Naypyitaw",
          "Mandalay",
          "Mandalay",
          "Mandalay",
          "Mandalay",
          "Yangon",
          "Mandalay",
          "Mandalay",
          "Yangon",
          "Mandalay",
          "Mandalay",
          "Naypyitaw",
          "Mandalay",
          "Yangon",
          "Mandalay",
          "Naypyitaw",
          "Naypyitaw",
          "Mandalay"
         ],
         "xaxis": "x",
         "yaxis": "y"
        },
        {
         "alignmentgroup": "True",
         "bingroup": "x",
         "hovertemplate": "Payment=Cash<br>City=%{x}<br>count=%{y}<extra></extra>",
         "legendgroup": "Cash",
         "marker": {
          "color": "#EF553B",
          "pattern": {
           "shape": ""
          }
         },
         "name": "Cash",
         "offsetgroup": "Cash",
         "orientation": "v",
         "showlegend": true,
         "type": "histogram",
         "x": [
          "Naypyitaw",
          "Mandalay",
          "Yangon",
          "Mandalay",
          "Mandalay",
          "Mandalay",
          "Yangon",
          "Mandalay",
          "Mandalay",
          "Mandalay",
          "Naypyitaw",
          "Mandalay",
          "Naypyitaw",
          "Naypyitaw",
          "Mandalay",
          "Naypyitaw",
          "Yangon",
          "Naypyitaw",
          "Yangon",
          "Yangon",
          "Naypyitaw",
          "Mandalay",
          "Yangon",
          "Yangon",
          "Yangon",
          "Naypyitaw",
          "Naypyitaw",
          "Naypyitaw",
          "Naypyitaw",
          "Naypyitaw",
          "Yangon",
          "Mandalay",
          "Naypyitaw",
          "Naypyitaw",
          "Mandalay",
          "Naypyitaw",
          "Naypyitaw",
          "Naypyitaw",
          "Yangon",
          "Mandalay",
          "Yangon",
          "Naypyitaw",
          "Naypyitaw",
          "Mandalay",
          "Yangon",
          "Mandalay",
          "Yangon",
          "Mandalay",
          "Naypyitaw",
          "Yangon",
          "Mandalay",
          "Naypyitaw",
          "Naypyitaw",
          "Naypyitaw",
          "Mandalay",
          "Yangon",
          "Naypyitaw",
          "Yangon",
          "Naypyitaw",
          "Naypyitaw",
          "Naypyitaw",
          "Mandalay",
          "Naypyitaw",
          "Naypyitaw",
          "Naypyitaw",
          "Mandalay",
          "Naypyitaw",
          "Naypyitaw",
          "Mandalay",
          "Mandalay",
          "Yangon",
          "Naypyitaw",
          "Naypyitaw",
          "Yangon",
          "Mandalay",
          "Mandalay",
          "Mandalay",
          "Mandalay",
          "Mandalay",
          "Yangon",
          "Yangon",
          "Mandalay",
          "Yangon",
          "Yangon",
          "Mandalay",
          "Mandalay",
          "Yangon",
          "Mandalay",
          "Naypyitaw",
          "Yangon",
          "Mandalay",
          "Naypyitaw",
          "Naypyitaw",
          "Yangon",
          "Yangon",
          "Mandalay",
          "Naypyitaw",
          "Naypyitaw",
          "Yangon",
          "Yangon",
          "Yangon",
          "Naypyitaw",
          "Naypyitaw",
          "Yangon",
          "Naypyitaw",
          "Naypyitaw",
          "Mandalay",
          "Yangon",
          "Yangon",
          "Yangon",
          "Mandalay",
          "Yangon",
          "Naypyitaw",
          "Naypyitaw",
          "Naypyitaw",
          "Naypyitaw",
          "Naypyitaw",
          "Naypyitaw",
          "Yangon",
          "Yangon",
          "Naypyitaw",
          "Yangon",
          "Mandalay",
          "Yangon",
          "Mandalay",
          "Mandalay",
          "Yangon",
          "Yangon",
          "Naypyitaw",
          "Yangon",
          "Yangon",
          "Mandalay",
          "Naypyitaw",
          "Naypyitaw",
          "Mandalay",
          "Naypyitaw",
          "Yangon",
          "Naypyitaw",
          "Naypyitaw",
          "Naypyitaw",
          "Yangon",
          "Naypyitaw",
          "Mandalay",
          "Naypyitaw",
          "Naypyitaw",
          "Mandalay",
          "Mandalay",
          "Naypyitaw",
          "Naypyitaw",
          "Mandalay",
          "Mandalay",
          "Mandalay",
          "Mandalay",
          "Mandalay",
          "Yangon",
          "Yangon",
          "Naypyitaw",
          "Naypyitaw",
          "Mandalay",
          "Yangon",
          "Mandalay",
          "Naypyitaw",
          "Yangon",
          "Mandalay",
          "Mandalay",
          "Yangon",
          "Mandalay",
          "Mandalay",
          "Naypyitaw",
          "Naypyitaw",
          "Naypyitaw",
          "Naypyitaw",
          "Mandalay",
          "Naypyitaw",
          "Yangon",
          "Mandalay",
          "Yangon",
          "Naypyitaw",
          "Naypyitaw",
          "Mandalay",
          "Mandalay",
          "Naypyitaw",
          "Mandalay",
          "Naypyitaw",
          "Naypyitaw",
          "Mandalay",
          "Yangon",
          "Mandalay",
          "Mandalay",
          "Mandalay",
          "Yangon",
          "Naypyitaw",
          "Naypyitaw",
          "Yangon",
          "Mandalay",
          "Yangon",
          "Mandalay",
          "Mandalay",
          "Yangon",
          "Mandalay",
          "Mandalay",
          "Mandalay",
          "Yangon",
          "Mandalay",
          "Mandalay",
          "Yangon",
          "Naypyitaw",
          "Yangon",
          "Yangon",
          "Naypyitaw",
          "Yangon",
          "Yangon",
          "Mandalay",
          "Naypyitaw",
          "Naypyitaw",
          "Mandalay",
          "Naypyitaw",
          "Mandalay",
          "Mandalay",
          "Yangon",
          "Mandalay",
          "Mandalay",
          "Mandalay",
          "Naypyitaw",
          "Mandalay",
          "Naypyitaw",
          "Mandalay",
          "Naypyitaw",
          "Naypyitaw",
          "Mandalay",
          "Yangon",
          "Yangon",
          "Mandalay",
          "Naypyitaw",
          "Mandalay",
          "Mandalay",
          "Yangon",
          "Mandalay",
          "Yangon",
          "Naypyitaw",
          "Yangon",
          "Naypyitaw",
          "Yangon",
          "Naypyitaw",
          "Naypyitaw",
          "Yangon",
          "Mandalay",
          "Mandalay",
          "Mandalay",
          "Naypyitaw",
          "Yangon",
          "Mandalay",
          "Naypyitaw",
          "Naypyitaw",
          "Naypyitaw",
          "Mandalay",
          "Yangon",
          "Naypyitaw",
          "Naypyitaw",
          "Naypyitaw",
          "Yangon",
          "Mandalay",
          "Mandalay",
          "Yangon",
          "Naypyitaw",
          "Mandalay",
          "Naypyitaw",
          "Naypyitaw",
          "Naypyitaw",
          "Naypyitaw",
          "Yangon",
          "Yangon",
          "Mandalay",
          "Yangon",
          "Yangon",
          "Mandalay",
          "Yangon",
          "Yangon",
          "Naypyitaw",
          "Naypyitaw",
          "Yangon",
          "Naypyitaw",
          "Yangon",
          "Mandalay",
          "Mandalay",
          "Yangon",
          "Naypyitaw",
          "Yangon",
          "Mandalay",
          "Yangon",
          "Naypyitaw",
          "Yangon",
          "Yangon",
          "Mandalay",
          "Mandalay",
          "Yangon",
          "Mandalay",
          "Yangon",
          "Mandalay",
          "Yangon",
          "Mandalay",
          "Yangon",
          "Naypyitaw",
          "Mandalay",
          "Yangon",
          "Yangon",
          "Naypyitaw",
          "Mandalay",
          "Mandalay",
          "Naypyitaw",
          "Naypyitaw",
          "Yangon",
          "Naypyitaw",
          "Yangon",
          "Yangon",
          "Naypyitaw",
          "Yangon",
          "Mandalay",
          "Yangon",
          "Yangon",
          "Naypyitaw",
          "Yangon",
          "Naypyitaw",
          "Mandalay",
          "Yangon",
          "Naypyitaw",
          "Mandalay",
          "Naypyitaw",
          "Yangon",
          "Naypyitaw",
          "Yangon",
          "Naypyitaw",
          "Yangon",
          "Mandalay",
          "Yangon",
          "Naypyitaw",
          "Yangon",
          "Naypyitaw",
          "Yangon",
          "Naypyitaw",
          "Naypyitaw",
          "Yangon",
          "Yangon",
          "Yangon"
         ],
         "xaxis": "x",
         "yaxis": "y"
        },
        {
         "alignmentgroup": "True",
         "bingroup": "x",
         "hovertemplate": "Payment=Credit card<br>City=%{x}<br>count=%{y}<extra></extra>",
         "legendgroup": "Credit card",
         "marker": {
          "color": "#00cc96",
          "pattern": {
           "shape": ""
          }
         },
         "name": "Credit card",
         "offsetgroup": "Credit card",
         "orientation": "v",
         "showlegend": true,
         "type": "histogram",
         "x": [
          "Yangon",
          "Yangon",
          "Mandalay",
          "Yangon",
          "Yangon",
          "Yangon",
          "Mandalay",
          "Yangon",
          "Yangon",
          "Mandalay",
          "Yangon",
          "Mandalay",
          "Mandalay",
          "Naypyitaw",
          "Naypyitaw",
          "Yangon",
          "Naypyitaw",
          "Naypyitaw",
          "Naypyitaw",
          "Yangon",
          "Naypyitaw",
          "Naypyitaw",
          "Yangon",
          "Mandalay",
          "Naypyitaw",
          "Naypyitaw",
          "Naypyitaw",
          "Naypyitaw",
          "Naypyitaw",
          "Yangon",
          "Naypyitaw",
          "Mandalay",
          "Naypyitaw",
          "Yangon",
          "Naypyitaw",
          "Mandalay",
          "Yangon",
          "Naypyitaw",
          "Naypyitaw",
          "Naypyitaw",
          "Naypyitaw",
          "Mandalay",
          "Yangon",
          "Mandalay",
          "Naypyitaw",
          "Yangon",
          "Yangon",
          "Naypyitaw",
          "Yangon",
          "Mandalay",
          "Yangon",
          "Yangon",
          "Mandalay",
          "Mandalay",
          "Yangon",
          "Naypyitaw",
          "Yangon",
          "Naypyitaw",
          "Mandalay",
          "Yangon",
          "Naypyitaw",
          "Naypyitaw",
          "Naypyitaw",
          "Mandalay",
          "Naypyitaw",
          "Mandalay",
          "Mandalay",
          "Yangon",
          "Mandalay",
          "Naypyitaw",
          "Mandalay",
          "Naypyitaw",
          "Naypyitaw",
          "Yangon",
          "Yangon",
          "Naypyitaw",
          "Mandalay",
          "Yangon",
          "Mandalay",
          "Naypyitaw",
          "Naypyitaw",
          "Yangon",
          "Naypyitaw",
          "Yangon",
          "Naypyitaw",
          "Yangon",
          "Yangon",
          "Yangon",
          "Yangon",
          "Naypyitaw",
          "Mandalay",
          "Mandalay",
          "Naypyitaw",
          "Mandalay",
          "Yangon",
          "Yangon",
          "Naypyitaw",
          "Yangon",
          "Mandalay",
          "Yangon",
          "Yangon",
          "Yangon",
          "Naypyitaw",
          "Mandalay",
          "Mandalay",
          "Mandalay",
          "Naypyitaw",
          "Mandalay",
          "Mandalay",
          "Naypyitaw",
          "Yangon",
          "Yangon",
          "Mandalay",
          "Yangon",
          "Mandalay",
          "Mandalay",
          "Yangon",
          "Yangon",
          "Mandalay",
          "Yangon",
          "Mandalay",
          "Naypyitaw",
          "Naypyitaw",
          "Yangon",
          "Yangon",
          "Naypyitaw",
          "Naypyitaw",
          "Mandalay",
          "Mandalay",
          "Mandalay",
          "Mandalay",
          "Mandalay",
          "Yangon",
          "Naypyitaw",
          "Mandalay",
          "Yangon",
          "Mandalay",
          "Naypyitaw",
          "Naypyitaw",
          "Mandalay",
          "Mandalay",
          "Mandalay",
          "Naypyitaw",
          "Mandalay",
          "Yangon",
          "Naypyitaw",
          "Naypyitaw",
          "Yangon",
          "Yangon",
          "Yangon",
          "Naypyitaw",
          "Yangon",
          "Naypyitaw",
          "Mandalay",
          "Mandalay",
          "Mandalay",
          "Naypyitaw",
          "Mandalay",
          "Naypyitaw",
          "Naypyitaw",
          "Naypyitaw",
          "Mandalay",
          "Yangon",
          "Yangon",
          "Mandalay",
          "Mandalay",
          "Yangon",
          "Mandalay",
          "Yangon",
          "Naypyitaw",
          "Mandalay",
          "Naypyitaw",
          "Mandalay",
          "Yangon",
          "Naypyitaw",
          "Mandalay",
          "Naypyitaw",
          "Yangon",
          "Naypyitaw",
          "Mandalay",
          "Mandalay",
          "Mandalay",
          "Yangon",
          "Naypyitaw",
          "Mandalay",
          "Yangon",
          "Naypyitaw",
          "Mandalay",
          "Yangon",
          "Naypyitaw",
          "Naypyitaw",
          "Yangon",
          "Naypyitaw",
          "Yangon",
          "Yangon",
          "Mandalay",
          "Mandalay",
          "Yangon",
          "Yangon",
          "Yangon",
          "Mandalay",
          "Mandalay",
          "Yangon",
          "Naypyitaw",
          "Mandalay",
          "Yangon",
          "Naypyitaw",
          "Yangon",
          "Naypyitaw",
          "Mandalay",
          "Naypyitaw",
          "Mandalay",
          "Naypyitaw",
          "Yangon",
          "Mandalay",
          "Mandalay",
          "Mandalay",
          "Mandalay",
          "Yangon",
          "Mandalay",
          "Mandalay",
          "Yangon",
          "Yangon",
          "Yangon",
          "Mandalay",
          "Mandalay",
          "Naypyitaw",
          "Mandalay",
          "Yangon",
          "Naypyitaw",
          "Naypyitaw",
          "Naypyitaw",
          "Mandalay",
          "Naypyitaw",
          "Mandalay",
          "Yangon",
          "Yangon",
          "Mandalay",
          "Mandalay",
          "Yangon",
          "Naypyitaw",
          "Naypyitaw",
          "Naypyitaw",
          "Mandalay",
          "Naypyitaw",
          "Yangon",
          "Yangon",
          "Naypyitaw",
          "Naypyitaw",
          "Yangon",
          "Naypyitaw",
          "Mandalay",
          "Yangon",
          "Yangon",
          "Mandalay",
          "Yangon",
          "Yangon",
          "Naypyitaw",
          "Mandalay",
          "Mandalay",
          "Yangon",
          "Mandalay",
          "Yangon",
          "Mandalay",
          "Yangon",
          "Yangon",
          "Mandalay",
          "Yangon",
          "Naypyitaw",
          "Yangon",
          "Naypyitaw",
          "Mandalay",
          "Mandalay",
          "Naypyitaw",
          "Yangon",
          "Yangon",
          "Yangon",
          "Naypyitaw",
          "Mandalay",
          "Naypyitaw",
          "Mandalay",
          "Mandalay",
          "Naypyitaw",
          "Yangon",
          "Naypyitaw",
          "Mandalay",
          "Mandalay",
          "Mandalay",
          "Naypyitaw",
          "Naypyitaw",
          "Naypyitaw",
          "Naypyitaw",
          "Mandalay",
          "Yangon",
          "Mandalay",
          "Naypyitaw",
          "Yangon",
          "Yangon",
          "Naypyitaw",
          "Yangon",
          "Mandalay",
          "Mandalay",
          "Yangon",
          "Mandalay",
          "Mandalay",
          "Mandalay",
          "Mandalay",
          "Mandalay",
          "Mandalay",
          "Mandalay",
          "Yangon"
         ],
         "xaxis": "x",
         "yaxis": "y"
        }
       ],
       "layout": {
        "barmode": "group",
        "legend": {
         "title": {
          "text": "Payment"
         },
         "tracegroupgap": 0
        },
        "template": {
         "data": {
          "bar": [
           {
            "error_x": {
             "color": "#2a3f5f"
            },
            "error_y": {
             "color": "#2a3f5f"
            },
            "marker": {
             "line": {
              "color": "#E5ECF6",
              "width": 0.5
             },
             "pattern": {
              "fillmode": "overlay",
              "size": 10,
              "solidity": 0.2
             }
            },
            "type": "bar"
           }
          ],
          "barpolar": [
           {
            "marker": {
             "line": {
              "color": "#E5ECF6",
              "width": 0.5
             },
             "pattern": {
              "fillmode": "overlay",
              "size": 10,
              "solidity": 0.2
             }
            },
            "type": "barpolar"
           }
          ],
          "carpet": [
           {
            "aaxis": {
             "endlinecolor": "#2a3f5f",
             "gridcolor": "white",
             "linecolor": "white",
             "minorgridcolor": "white",
             "startlinecolor": "#2a3f5f"
            },
            "baxis": {
             "endlinecolor": "#2a3f5f",
             "gridcolor": "white",
             "linecolor": "white",
             "minorgridcolor": "white",
             "startlinecolor": "#2a3f5f"
            },
            "type": "carpet"
           }
          ],
          "choropleth": [
           {
            "colorbar": {
             "outlinewidth": 0,
             "ticks": ""
            },
            "type": "choropleth"
           }
          ],
          "contour": [
           {
            "colorbar": {
             "outlinewidth": 0,
             "ticks": ""
            },
            "colorscale": [
             [
              0,
              "#0d0887"
             ],
             [
              0.1111111111111111,
              "#46039f"
             ],
             [
              0.2222222222222222,
              "#7201a8"
             ],
             [
              0.3333333333333333,
              "#9c179e"
             ],
             [
              0.4444444444444444,
              "#bd3786"
             ],
             [
              0.5555555555555556,
              "#d8576b"
             ],
             [
              0.6666666666666666,
              "#ed7953"
             ],
             [
              0.7777777777777778,
              "#fb9f3a"
             ],
             [
              0.8888888888888888,
              "#fdca26"
             ],
             [
              1,
              "#f0f921"
             ]
            ],
            "type": "contour"
           }
          ],
          "contourcarpet": [
           {
            "colorbar": {
             "outlinewidth": 0,
             "ticks": ""
            },
            "type": "contourcarpet"
           }
          ],
          "heatmap": [
           {
            "colorbar": {
             "outlinewidth": 0,
             "ticks": ""
            },
            "colorscale": [
             [
              0,
              "#0d0887"
             ],
             [
              0.1111111111111111,
              "#46039f"
             ],
             [
              0.2222222222222222,
              "#7201a8"
             ],
             [
              0.3333333333333333,
              "#9c179e"
             ],
             [
              0.4444444444444444,
              "#bd3786"
             ],
             [
              0.5555555555555556,
              "#d8576b"
             ],
             [
              0.6666666666666666,
              "#ed7953"
             ],
             [
              0.7777777777777778,
              "#fb9f3a"
             ],
             [
              0.8888888888888888,
              "#fdca26"
             ],
             [
              1,
              "#f0f921"
             ]
            ],
            "type": "heatmap"
           }
          ],
          "heatmapgl": [
           {
            "colorbar": {
             "outlinewidth": 0,
             "ticks": ""
            },
            "colorscale": [
             [
              0,
              "#0d0887"
             ],
             [
              0.1111111111111111,
              "#46039f"
             ],
             [
              0.2222222222222222,
              "#7201a8"
             ],
             [
              0.3333333333333333,
              "#9c179e"
             ],
             [
              0.4444444444444444,
              "#bd3786"
             ],
             [
              0.5555555555555556,
              "#d8576b"
             ],
             [
              0.6666666666666666,
              "#ed7953"
             ],
             [
              0.7777777777777778,
              "#fb9f3a"
             ],
             [
              0.8888888888888888,
              "#fdca26"
             ],
             [
              1,
              "#f0f921"
             ]
            ],
            "type": "heatmapgl"
           }
          ],
          "histogram": [
           {
            "marker": {
             "pattern": {
              "fillmode": "overlay",
              "size": 10,
              "solidity": 0.2
             }
            },
            "type": "histogram"
           }
          ],
          "histogram2d": [
           {
            "colorbar": {
             "outlinewidth": 0,
             "ticks": ""
            },
            "colorscale": [
             [
              0,
              "#0d0887"
             ],
             [
              0.1111111111111111,
              "#46039f"
             ],
             [
              0.2222222222222222,
              "#7201a8"
             ],
             [
              0.3333333333333333,
              "#9c179e"
             ],
             [
              0.4444444444444444,
              "#bd3786"
             ],
             [
              0.5555555555555556,
              "#d8576b"
             ],
             [
              0.6666666666666666,
              "#ed7953"
             ],
             [
              0.7777777777777778,
              "#fb9f3a"
             ],
             [
              0.8888888888888888,
              "#fdca26"
             ],
             [
              1,
              "#f0f921"
             ]
            ],
            "type": "histogram2d"
           }
          ],
          "histogram2dcontour": [
           {
            "colorbar": {
             "outlinewidth": 0,
             "ticks": ""
            },
            "colorscale": [
             [
              0,
              "#0d0887"
             ],
             [
              0.1111111111111111,
              "#46039f"
             ],
             [
              0.2222222222222222,
              "#7201a8"
             ],
             [
              0.3333333333333333,
              "#9c179e"
             ],
             [
              0.4444444444444444,
              "#bd3786"
             ],
             [
              0.5555555555555556,
              "#d8576b"
             ],
             [
              0.6666666666666666,
              "#ed7953"
             ],
             [
              0.7777777777777778,
              "#fb9f3a"
             ],
             [
              0.8888888888888888,
              "#fdca26"
             ],
             [
              1,
              "#f0f921"
             ]
            ],
            "type": "histogram2dcontour"
           }
          ],
          "mesh3d": [
           {
            "colorbar": {
             "outlinewidth": 0,
             "ticks": ""
            },
            "type": "mesh3d"
           }
          ],
          "parcoords": [
           {
            "line": {
             "colorbar": {
              "outlinewidth": 0,
              "ticks": ""
             }
            },
            "type": "parcoords"
           }
          ],
          "pie": [
           {
            "automargin": true,
            "type": "pie"
           }
          ],
          "scatter": [
           {
            "marker": {
             "colorbar": {
              "outlinewidth": 0,
              "ticks": ""
             }
            },
            "type": "scatter"
           }
          ],
          "scatter3d": [
           {
            "line": {
             "colorbar": {
              "outlinewidth": 0,
              "ticks": ""
             }
            },
            "marker": {
             "colorbar": {
              "outlinewidth": 0,
              "ticks": ""
             }
            },
            "type": "scatter3d"
           }
          ],
          "scattercarpet": [
           {
            "marker": {
             "colorbar": {
              "outlinewidth": 0,
              "ticks": ""
             }
            },
            "type": "scattercarpet"
           }
          ],
          "scattergeo": [
           {
            "marker": {
             "colorbar": {
              "outlinewidth": 0,
              "ticks": ""
             }
            },
            "type": "scattergeo"
           }
          ],
          "scattergl": [
           {
            "marker": {
             "colorbar": {
              "outlinewidth": 0,
              "ticks": ""
             }
            },
            "type": "scattergl"
           }
          ],
          "scattermapbox": [
           {
            "marker": {
             "colorbar": {
              "outlinewidth": 0,
              "ticks": ""
             }
            },
            "type": "scattermapbox"
           }
          ],
          "scatterpolar": [
           {
            "marker": {
             "colorbar": {
              "outlinewidth": 0,
              "ticks": ""
             }
            },
            "type": "scatterpolar"
           }
          ],
          "scatterpolargl": [
           {
            "marker": {
             "colorbar": {
              "outlinewidth": 0,
              "ticks": ""
             }
            },
            "type": "scatterpolargl"
           }
          ],
          "scatterternary": [
           {
            "marker": {
             "colorbar": {
              "outlinewidth": 0,
              "ticks": ""
             }
            },
            "type": "scatterternary"
           }
          ],
          "surface": [
           {
            "colorbar": {
             "outlinewidth": 0,
             "ticks": ""
            },
            "colorscale": [
             [
              0,
              "#0d0887"
             ],
             [
              0.1111111111111111,
              "#46039f"
             ],
             [
              0.2222222222222222,
              "#7201a8"
             ],
             [
              0.3333333333333333,
              "#9c179e"
             ],
             [
              0.4444444444444444,
              "#bd3786"
             ],
             [
              0.5555555555555556,
              "#d8576b"
             ],
             [
              0.6666666666666666,
              "#ed7953"
             ],
             [
              0.7777777777777778,
              "#fb9f3a"
             ],
             [
              0.8888888888888888,
              "#fdca26"
             ],
             [
              1,
              "#f0f921"
             ]
            ],
            "type": "surface"
           }
          ],
          "table": [
           {
            "cells": {
             "fill": {
              "color": "#EBF0F8"
             },
             "line": {
              "color": "white"
             }
            },
            "header": {
             "fill": {
              "color": "#C8D4E3"
             },
             "line": {
              "color": "white"
             }
            },
            "type": "table"
           }
          ]
         },
         "layout": {
          "annotationdefaults": {
           "arrowcolor": "#2a3f5f",
           "arrowhead": 0,
           "arrowwidth": 1
          },
          "autotypenumbers": "strict",
          "coloraxis": {
           "colorbar": {
            "outlinewidth": 0,
            "ticks": ""
           }
          },
          "colorscale": {
           "diverging": [
            [
             0,
             "#8e0152"
            ],
            [
             0.1,
             "#c51b7d"
            ],
            [
             0.2,
             "#de77ae"
            ],
            [
             0.3,
             "#f1b6da"
            ],
            [
             0.4,
             "#fde0ef"
            ],
            [
             0.5,
             "#f7f7f7"
            ],
            [
             0.6,
             "#e6f5d0"
            ],
            [
             0.7,
             "#b8e186"
            ],
            [
             0.8,
             "#7fbc41"
            ],
            [
             0.9,
             "#4d9221"
            ],
            [
             1,
             "#276419"
            ]
           ],
           "sequential": [
            [
             0,
             "#0d0887"
            ],
            [
             0.1111111111111111,
             "#46039f"
            ],
            [
             0.2222222222222222,
             "#7201a8"
            ],
            [
             0.3333333333333333,
             "#9c179e"
            ],
            [
             0.4444444444444444,
             "#bd3786"
            ],
            [
             0.5555555555555556,
             "#d8576b"
            ],
            [
             0.6666666666666666,
             "#ed7953"
            ],
            [
             0.7777777777777778,
             "#fb9f3a"
            ],
            [
             0.8888888888888888,
             "#fdca26"
            ],
            [
             1,
             "#f0f921"
            ]
           ],
           "sequentialminus": [
            [
             0,
             "#0d0887"
            ],
            [
             0.1111111111111111,
             "#46039f"
            ],
            [
             0.2222222222222222,
             "#7201a8"
            ],
            [
             0.3333333333333333,
             "#9c179e"
            ],
            [
             0.4444444444444444,
             "#bd3786"
            ],
            [
             0.5555555555555556,
             "#d8576b"
            ],
            [
             0.6666666666666666,
             "#ed7953"
            ],
            [
             0.7777777777777778,
             "#fb9f3a"
            ],
            [
             0.8888888888888888,
             "#fdca26"
            ],
            [
             1,
             "#f0f921"
            ]
           ]
          },
          "colorway": [
           "#636efa",
           "#EF553B",
           "#00cc96",
           "#ab63fa",
           "#FFA15A",
           "#19d3f3",
           "#FF6692",
           "#B6E880",
           "#FF97FF",
           "#FECB52"
          ],
          "font": {
           "color": "#2a3f5f"
          },
          "geo": {
           "bgcolor": "white",
           "lakecolor": "white",
           "landcolor": "#E5ECF6",
           "showlakes": true,
           "showland": true,
           "subunitcolor": "white"
          },
          "hoverlabel": {
           "align": "left"
          },
          "hovermode": "closest",
          "mapbox": {
           "style": "light"
          },
          "paper_bgcolor": "white",
          "plot_bgcolor": "#E5ECF6",
          "polar": {
           "angularaxis": {
            "gridcolor": "white",
            "linecolor": "white",
            "ticks": ""
           },
           "bgcolor": "#E5ECF6",
           "radialaxis": {
            "gridcolor": "white",
            "linecolor": "white",
            "ticks": ""
           }
          },
          "scene": {
           "xaxis": {
            "backgroundcolor": "#E5ECF6",
            "gridcolor": "white",
            "gridwidth": 2,
            "linecolor": "white",
            "showbackground": true,
            "ticks": "",
            "zerolinecolor": "white"
           },
           "yaxis": {
            "backgroundcolor": "#E5ECF6",
            "gridcolor": "white",
            "gridwidth": 2,
            "linecolor": "white",
            "showbackground": true,
            "ticks": "",
            "zerolinecolor": "white"
           },
           "zaxis": {
            "backgroundcolor": "#E5ECF6",
            "gridcolor": "white",
            "gridwidth": 2,
            "linecolor": "white",
            "showbackground": true,
            "ticks": "",
            "zerolinecolor": "white"
           }
          },
          "shapedefaults": {
           "line": {
            "color": "#2a3f5f"
           }
          },
          "ternary": {
           "aaxis": {
            "gridcolor": "white",
            "linecolor": "white",
            "ticks": ""
           },
           "baxis": {
            "gridcolor": "white",
            "linecolor": "white",
            "ticks": ""
           },
           "bgcolor": "#E5ECF6",
           "caxis": {
            "gridcolor": "white",
            "linecolor": "white",
            "ticks": ""
           }
          },
          "title": {
           "x": 0.05
          },
          "xaxis": {
           "automargin": true,
           "gridcolor": "white",
           "linecolor": "white",
           "ticks": "",
           "title": {
            "standoff": 15
           },
           "zerolinecolor": "white",
           "zerolinewidth": 2
          },
          "yaxis": {
           "automargin": true,
           "gridcolor": "white",
           "linecolor": "white",
           "ticks": "",
           "title": {
            "standoff": 15
           },
           "zerolinecolor": "white",
           "zerolinewidth": 2
          }
         }
        },
        "title": {
         "text": "Total Jenis Kelamin Pelanggan Berdasarkan Cabang"
        },
        "xaxis": {
         "anchor": "y",
         "domain": [
          0,
          1
         ],
         "title": {
          "text": "City"
         }
        },
        "yaxis": {
         "anchor": "x",
         "domain": [
          0,
          1
         ],
         "title": {
          "text": "count"
         }
        }
       }
      }
     },
     "metadata": {},
     "output_type": "display_data"
    }
   ],
   "source": [
    "#Menentukan kota yang akan di bandingkan\n",
    "fig = px.histogram(df,x= 'City',color='Payment',barmode='group',\n",
    "                   title='Total Jenis Kelamin Pelanggan Berdasarkan Cabang')\n",
    "fig"
   ]
  },
  {
   "cell_type": "markdown",
   "metadata": {},
   "source": [
    "Untuk penggunaan e-wallet terbanyak secara sekilah ada di kota Yangon, tapi harus di buktikan dahulu sesuai dengan hipotesis kita\n",
    "\n",
    "\n",
    ">h0  μ Pengguna Ewallet di kota Yangon = μ Pengguna Ewallet di kota Naypyitaw dan Mandalay\n",
    "\n",
    "\n",
    ">h1  μ Pengguna Ewallet di kota Yangon != μ Pengguna Ewallet di kota Naypyitaw dan Mandalay"
   ]
  },
  {
   "cell_type": "code",
   "execution_count": 16,
   "metadata": {},
   "outputs": [
    {
     "name": "stdout",
     "output_type": "stream",
     "text": [
      "Rata - rata penggunaan Ewalet di kota Yangon adalah:  Total    312.098167\n",
      "dtype: float64\n",
      "Rata - rata penggunaan Ewalet di kota Naypyitaw adalah:  Total    350.522491\n",
      "dtype: float64\n",
      "Rata - rata penggunaan Ewalet di kota Mandalay adalah:  Total    296.578354\n",
      "dtype: float64\n"
     ]
    }
   ],
   "source": [
    "#Slicing prepare data setiap kota yang menggunakan pembayaran Ewallet\n",
    "df_y = df_new[df_new.City=='Yangon']\n",
    "df_n = df_new[df_new.City=='Naypyitaw']\n",
    "df_m = df_new[df_new.City=='Mandalay']\n",
    "\n",
    "total_y_e = df_y[df_y.Payment == 'Ewallet']\n",
    "total_n_e = df_n[df_n.Payment == 'Ewallet']\n",
    "total_m_e = df_m[df_m.Payment == 'Ewallet']\n",
    "\n",
    "print('Rata - rata penggunaan Ewalet di kota Yangon adalah: ',total_y_e.mean())\n",
    "print('Rata - rata penggunaan Ewalet di kota Naypyitaw adalah: ',total_n_e.mean())\n",
    "print('Rata - rata penggunaan Ewalet di kota Mandalay adalah: ',total_m_e.mean())"
   ]
  },
  {
   "cell_type": "code",
   "execution_count": 17,
   "metadata": {},
   "outputs": [],
   "source": [
    "# Slicing data\n",
    "total_y_e.drop(['City','Payment'], axis=1, inplace=True)\n",
    "total_n_e.drop(['City','Payment'], axis=1, inplace=True)\n",
    "total_m_e.drop(['City','Payment'], axis=1, inplace=True)\n"
   ]
  },
  {
   "cell_type": "markdown",
   "metadata": {},
   "source": [
    "### Analisa menggunakan ANOVA"
   ]
  },
  {
   "cell_type": "code",
   "execution_count": 18,
   "metadata": {},
   "outputs": [
    {
     "name": "stdout",
     "output_type": "stream",
     "text": [
      "P-value: [0.23092647]\n"
     ]
    }
   ],
   "source": [
    "#Mencari P-Value \n",
    "f_stat,p_value = stats.f_oneway(total_y_e, total_n_e, total_m_e)\n",
    "print('P-value:',p_value)\n"
   ]
  },
  {
   "cell_type": "markdown",
   "metadata": {},
   "source": [
    "P- Value lebih dari 0.005 "
   ]
  },
  {
   "cell_type": "code",
   "execution_count": 19,
   "metadata": {},
   "outputs": [
    {
     "data": {
      "text/html": [
       "<div>\n",
       "<style scoped>\n",
       "    .dataframe tbody tr th:only-of-type {\n",
       "        vertical-align: middle;\n",
       "    }\n",
       "\n",
       "    .dataframe tbody tr th {\n",
       "        vertical-align: top;\n",
       "    }\n",
       "\n",
       "    .dataframe thead th {\n",
       "        text-align: right;\n",
       "    }\n",
       "</style>\n",
       "<table border=\"1\" class=\"dataframe\">\n",
       "  <thead>\n",
       "    <tr style=\"text-align: right;\">\n",
       "      <th></th>\n",
       "      <th>Invoice ID</th>\n",
       "      <th>Branch</th>\n",
       "      <th>City</th>\n",
       "      <th>Customer type</th>\n",
       "      <th>Gender</th>\n",
       "      <th>Product line</th>\n",
       "      <th>Unit price</th>\n",
       "      <th>Quantity</th>\n",
       "      <th>Tax 5%</th>\n",
       "      <th>Total</th>\n",
       "      <th>Date</th>\n",
       "      <th>Time</th>\n",
       "      <th>Payment</th>\n",
       "      <th>cogs</th>\n",
       "      <th>gross margin percentage</th>\n",
       "      <th>gross income</th>\n",
       "      <th>Rating</th>\n",
       "    </tr>\n",
       "  </thead>\n",
       "  <tbody>\n",
       "    <tr>\n",
       "      <th>0</th>\n",
       "      <td>750-67-8428</td>\n",
       "      <td>A</td>\n",
       "      <td>Yangon</td>\n",
       "      <td>Member</td>\n",
       "      <td>Female</td>\n",
       "      <td>Health and beauty</td>\n",
       "      <td>74.69</td>\n",
       "      <td>7</td>\n",
       "      <td>26.1415</td>\n",
       "      <td>548.9715</td>\n",
       "      <td>1/5/2019</td>\n",
       "      <td>13:08</td>\n",
       "      <td>Ewallet</td>\n",
       "      <td>522.83</td>\n",
       "      <td>4.761905</td>\n",
       "      <td>26.1415</td>\n",
       "      <td>9.1</td>\n",
       "    </tr>\n",
       "    <tr>\n",
       "      <th>3</th>\n",
       "      <td>123-19-1176</td>\n",
       "      <td>A</td>\n",
       "      <td>Yangon</td>\n",
       "      <td>Member</td>\n",
       "      <td>Male</td>\n",
       "      <td>Health and beauty</td>\n",
       "      <td>58.22</td>\n",
       "      <td>8</td>\n",
       "      <td>23.2880</td>\n",
       "      <td>489.0480</td>\n",
       "      <td>1/27/2019</td>\n",
       "      <td>20:33</td>\n",
       "      <td>Ewallet</td>\n",
       "      <td>465.76</td>\n",
       "      <td>4.761905</td>\n",
       "      <td>23.2880</td>\n",
       "      <td>8.4</td>\n",
       "    </tr>\n",
       "    <tr>\n",
       "      <th>4</th>\n",
       "      <td>373-73-7910</td>\n",
       "      <td>A</td>\n",
       "      <td>Yangon</td>\n",
       "      <td>Normal</td>\n",
       "      <td>Male</td>\n",
       "      <td>Sports and travel</td>\n",
       "      <td>86.31</td>\n",
       "      <td>7</td>\n",
       "      <td>30.2085</td>\n",
       "      <td>634.3785</td>\n",
       "      <td>2/8/2019</td>\n",
       "      <td>10:37</td>\n",
       "      <td>Ewallet</td>\n",
       "      <td>604.17</td>\n",
       "      <td>4.761905</td>\n",
       "      <td>30.2085</td>\n",
       "      <td>5.3</td>\n",
       "    </tr>\n",
       "    <tr>\n",
       "      <th>5</th>\n",
       "      <td>699-14-3026</td>\n",
       "      <td>C</td>\n",
       "      <td>Naypyitaw</td>\n",
       "      <td>Normal</td>\n",
       "      <td>Male</td>\n",
       "      <td>Electronic accessories</td>\n",
       "      <td>85.39</td>\n",
       "      <td>7</td>\n",
       "      <td>29.8865</td>\n",
       "      <td>627.6165</td>\n",
       "      <td>3/25/2019</td>\n",
       "      <td>18:30</td>\n",
       "      <td>Ewallet</td>\n",
       "      <td>597.73</td>\n",
       "      <td>4.761905</td>\n",
       "      <td>29.8865</td>\n",
       "      <td>4.1</td>\n",
       "    </tr>\n",
       "    <tr>\n",
       "      <th>6</th>\n",
       "      <td>355-53-5943</td>\n",
       "      <td>A</td>\n",
       "      <td>Yangon</td>\n",
       "      <td>Member</td>\n",
       "      <td>Female</td>\n",
       "      <td>Electronic accessories</td>\n",
       "      <td>68.84</td>\n",
       "      <td>6</td>\n",
       "      <td>20.6520</td>\n",
       "      <td>433.6920</td>\n",
       "      <td>2/25/2019</td>\n",
       "      <td>14:36</td>\n",
       "      <td>Ewallet</td>\n",
       "      <td>413.04</td>\n",
       "      <td>4.761905</td>\n",
       "      <td>20.6520</td>\n",
       "      <td>5.8</td>\n",
       "    </tr>\n",
       "    <tr>\n",
       "      <th>...</th>\n",
       "      <td>...</td>\n",
       "      <td>...</td>\n",
       "      <td>...</td>\n",
       "      <td>...</td>\n",
       "      <td>...</td>\n",
       "      <td>...</td>\n",
       "      <td>...</td>\n",
       "      <td>...</td>\n",
       "      <td>...</td>\n",
       "      <td>...</td>\n",
       "      <td>...</td>\n",
       "      <td>...</td>\n",
       "      <td>...</td>\n",
       "      <td>...</td>\n",
       "      <td>...</td>\n",
       "      <td>...</td>\n",
       "      <td>...</td>\n",
       "    </tr>\n",
       "    <tr>\n",
       "      <th>992</th>\n",
       "      <td>745-74-0715</td>\n",
       "      <td>A</td>\n",
       "      <td>Yangon</td>\n",
       "      <td>Normal</td>\n",
       "      <td>Male</td>\n",
       "      <td>Electronic accessories</td>\n",
       "      <td>58.03</td>\n",
       "      <td>2</td>\n",
       "      <td>5.8030</td>\n",
       "      <td>121.8630</td>\n",
       "      <td>3/10/2019</td>\n",
       "      <td>20:46</td>\n",
       "      <td>Ewallet</td>\n",
       "      <td>116.06</td>\n",
       "      <td>4.761905</td>\n",
       "      <td>5.8030</td>\n",
       "      <td>8.8</td>\n",
       "    </tr>\n",
       "    <tr>\n",
       "      <th>993</th>\n",
       "      <td>690-01-6631</td>\n",
       "      <td>B</td>\n",
       "      <td>Mandalay</td>\n",
       "      <td>Normal</td>\n",
       "      <td>Male</td>\n",
       "      <td>Fashion accessories</td>\n",
       "      <td>17.49</td>\n",
       "      <td>10</td>\n",
       "      <td>8.7450</td>\n",
       "      <td>183.6450</td>\n",
       "      <td>2/22/2019</td>\n",
       "      <td>18:35</td>\n",
       "      <td>Ewallet</td>\n",
       "      <td>174.90</td>\n",
       "      <td>4.761905</td>\n",
       "      <td>8.7450</td>\n",
       "      <td>6.6</td>\n",
       "    </tr>\n",
       "    <tr>\n",
       "      <th>994</th>\n",
       "      <td>652-49-6720</td>\n",
       "      <td>C</td>\n",
       "      <td>Naypyitaw</td>\n",
       "      <td>Member</td>\n",
       "      <td>Female</td>\n",
       "      <td>Electronic accessories</td>\n",
       "      <td>60.95</td>\n",
       "      <td>1</td>\n",
       "      <td>3.0475</td>\n",
       "      <td>63.9975</td>\n",
       "      <td>2/18/2019</td>\n",
       "      <td>11:40</td>\n",
       "      <td>Ewallet</td>\n",
       "      <td>60.95</td>\n",
       "      <td>4.761905</td>\n",
       "      <td>3.0475</td>\n",
       "      <td>5.9</td>\n",
       "    </tr>\n",
       "    <tr>\n",
       "      <th>995</th>\n",
       "      <td>233-67-5758</td>\n",
       "      <td>C</td>\n",
       "      <td>Naypyitaw</td>\n",
       "      <td>Normal</td>\n",
       "      <td>Male</td>\n",
       "      <td>Health and beauty</td>\n",
       "      <td>40.35</td>\n",
       "      <td>1</td>\n",
       "      <td>2.0175</td>\n",
       "      <td>42.3675</td>\n",
       "      <td>1/29/2019</td>\n",
       "      <td>13:46</td>\n",
       "      <td>Ewallet</td>\n",
       "      <td>40.35</td>\n",
       "      <td>4.761905</td>\n",
       "      <td>2.0175</td>\n",
       "      <td>6.2</td>\n",
       "    </tr>\n",
       "    <tr>\n",
       "      <th>996</th>\n",
       "      <td>303-96-2227</td>\n",
       "      <td>B</td>\n",
       "      <td>Mandalay</td>\n",
       "      <td>Normal</td>\n",
       "      <td>Female</td>\n",
       "      <td>Home and lifestyle</td>\n",
       "      <td>97.38</td>\n",
       "      <td>10</td>\n",
       "      <td>48.6900</td>\n",
       "      <td>1022.4900</td>\n",
       "      <td>3/2/2019</td>\n",
       "      <td>17:16</td>\n",
       "      <td>Ewallet</td>\n",
       "      <td>973.80</td>\n",
       "      <td>4.761905</td>\n",
       "      <td>48.6900</td>\n",
       "      <td>4.4</td>\n",
       "    </tr>\n",
       "  </tbody>\n",
       "</table>\n",
       "<p>345 rows × 17 columns</p>\n",
       "</div>"
      ],
      "text/plain": [
       "      Invoice ID Branch       City Customer type  Gender  \\\n",
       "0    750-67-8428      A     Yangon        Member  Female   \n",
       "3    123-19-1176      A     Yangon        Member    Male   \n",
       "4    373-73-7910      A     Yangon        Normal    Male   \n",
       "5    699-14-3026      C  Naypyitaw        Normal    Male   \n",
       "6    355-53-5943      A     Yangon        Member  Female   \n",
       "..           ...    ...        ...           ...     ...   \n",
       "992  745-74-0715      A     Yangon        Normal    Male   \n",
       "993  690-01-6631      B   Mandalay        Normal    Male   \n",
       "994  652-49-6720      C  Naypyitaw        Member  Female   \n",
       "995  233-67-5758      C  Naypyitaw        Normal    Male   \n",
       "996  303-96-2227      B   Mandalay        Normal  Female   \n",
       "\n",
       "               Product line  Unit price  Quantity   Tax 5%      Total  \\\n",
       "0         Health and beauty       74.69         7  26.1415   548.9715   \n",
       "3         Health and beauty       58.22         8  23.2880   489.0480   \n",
       "4         Sports and travel       86.31         7  30.2085   634.3785   \n",
       "5    Electronic accessories       85.39         7  29.8865   627.6165   \n",
       "6    Electronic accessories       68.84         6  20.6520   433.6920   \n",
       "..                      ...         ...       ...      ...        ...   \n",
       "992  Electronic accessories       58.03         2   5.8030   121.8630   \n",
       "993     Fashion accessories       17.49        10   8.7450   183.6450   \n",
       "994  Electronic accessories       60.95         1   3.0475    63.9975   \n",
       "995       Health and beauty       40.35         1   2.0175    42.3675   \n",
       "996      Home and lifestyle       97.38        10  48.6900  1022.4900   \n",
       "\n",
       "          Date   Time  Payment    cogs  gross margin percentage  gross income  \\\n",
       "0     1/5/2019  13:08  Ewallet  522.83                 4.761905       26.1415   \n",
       "3    1/27/2019  20:33  Ewallet  465.76                 4.761905       23.2880   \n",
       "4     2/8/2019  10:37  Ewallet  604.17                 4.761905       30.2085   \n",
       "5    3/25/2019  18:30  Ewallet  597.73                 4.761905       29.8865   \n",
       "6    2/25/2019  14:36  Ewallet  413.04                 4.761905       20.6520   \n",
       "..         ...    ...      ...     ...                      ...           ...   \n",
       "992  3/10/2019  20:46  Ewallet  116.06                 4.761905        5.8030   \n",
       "993  2/22/2019  18:35  Ewallet  174.90                 4.761905        8.7450   \n",
       "994  2/18/2019  11:40  Ewallet   60.95                 4.761905        3.0475   \n",
       "995  1/29/2019  13:46  Ewallet   40.35                 4.761905        2.0175   \n",
       "996   3/2/2019  17:16  Ewallet  973.80                 4.761905       48.6900   \n",
       "\n",
       "     Rating  \n",
       "0       9.1  \n",
       "3       8.4  \n",
       "4       5.3  \n",
       "5       4.1  \n",
       "6       5.8  \n",
       "..      ...  \n",
       "992     8.8  \n",
       "993     6.6  \n",
       "994     5.9  \n",
       "995     6.2  \n",
       "996     4.4  \n",
       "\n",
       "[345 rows x 17 columns]"
      ]
     },
     "execution_count": 19,
     "metadata": {},
     "output_type": "execute_result"
    }
   ],
   "source": [
    "#Slicing untuk visualisasi hasil analisa\n",
    "df_v= df\n",
    "gadipake = ['Cash', 'Credit card']\n",
    "df_v = df_v[df_v.Payment.isin(gadipake)== False]\n",
    "df_v"
   ]
  },
  {
   "cell_type": "code",
   "execution_count": 20,
   "metadata": {},
   "outputs": [
    {
     "data": {
      "application/vnd.plotly.v1+json": {
       "config": {
        "plotlyServerURL": "https://plot.ly"
       },
       "data": [
        {
         "box": {
          "visible": true
         },
         "meanline": {
          "visible": true
         },
         "name": "Yangon",
         "type": "violin",
         "x": [
          "Yangon",
          "Yangon",
          "Yangon",
          "Yangon",
          "Yangon",
          "Yangon",
          "Yangon",
          "Yangon",
          "Yangon",
          "Yangon",
          "Yangon",
          "Yangon",
          "Yangon",
          "Yangon",
          "Yangon",
          "Yangon",
          "Yangon",
          "Yangon",
          "Yangon",
          "Yangon",
          "Yangon",
          "Yangon",
          "Yangon",
          "Yangon",
          "Yangon",
          "Yangon",
          "Yangon",
          "Yangon",
          "Yangon",
          "Yangon",
          "Yangon",
          "Yangon",
          "Yangon",
          "Yangon",
          "Yangon",
          "Yangon",
          "Yangon",
          "Yangon",
          "Yangon",
          "Yangon",
          "Yangon",
          "Yangon",
          "Yangon",
          "Yangon",
          "Yangon",
          "Yangon",
          "Yangon",
          "Yangon",
          "Yangon",
          "Yangon",
          "Yangon",
          "Yangon",
          "Yangon",
          "Yangon",
          "Yangon",
          "Yangon",
          "Yangon",
          "Yangon",
          "Yangon",
          "Yangon",
          "Yangon",
          "Yangon",
          "Yangon",
          "Yangon",
          "Yangon",
          "Yangon",
          "Yangon",
          "Yangon",
          "Yangon",
          "Yangon",
          "Yangon",
          "Yangon",
          "Yangon",
          "Yangon",
          "Yangon",
          "Yangon",
          "Yangon",
          "Yangon",
          "Yangon",
          "Yangon",
          "Yangon",
          "Yangon",
          "Yangon",
          "Yangon",
          "Yangon",
          "Yangon",
          "Yangon",
          "Yangon",
          "Yangon",
          "Yangon",
          "Yangon",
          "Yangon",
          "Yangon",
          "Yangon",
          "Yangon",
          "Yangon",
          "Yangon",
          "Yangon",
          "Yangon",
          "Yangon",
          "Yangon",
          "Yangon",
          "Yangon",
          "Yangon",
          "Yangon",
          "Yangon",
          "Yangon",
          "Yangon",
          "Yangon",
          "Yangon",
          "Yangon",
          "Yangon",
          "Yangon",
          "Yangon",
          "Yangon",
          "Yangon",
          "Yangon",
          "Yangon",
          "Yangon",
          "Yangon",
          "Yangon",
          "Yangon",
          "Yangon",
          "Yangon",
          "Yangon",
          "Yangon"
         ],
         "y": [
          548.9715,
          489.048,
          634.3785,
          433.692,
          246.4875,
          453.495,
          181.44,
          279.1845,
          328.755,
          575.316,
          752.64,
          705.6315,
          161.553,
          102.018,
          166.1625,
          931.035,
          548.7615,
          115.08,
          609,
          491.085,
          316.47,
          367.5525,
          319.788,
          465.444,
          162.75,
          77.7735,
          26.5545,
          217.6335,
          247.8735,
          532.728,
          545.37,
          195.594,
          94.1745,
          94.185,
          163.233,
          135.45,
          709.317,
          373.17,
          628.929,
          493.794,
          530.67,
          83.412,
          96.138,
          721.98,
          736.4385,
          507.675,
          214.935,
          80.661,
          83.727,
          406.875,
          284.9175,
          237.426,
          81.396,
          427.812,
          951.825,
          147.798,
          333.9525,
          26.25,
          40.53,
          194.985,
          156.03,
          203.112,
          225.2775,
          398.958,
          72.933,
          479.9025,
          160.209,
          148.68,
          102.837,
          96.642,
          308.91,
          262.458,
          228.123,
          469.413,
          74.4555,
          226.065,
          236.88,
          147.672,
          394.3275,
          32.1405,
          708.225,
          365.904,
          127.827,
          167.895,
          246.6765,
          182.952,
          277.6725,
          204.246,
          588.42,
          305.55,
          45.108,
          113.568,
          80.955,
          525.231,
          176.4,
          20.685,
          150.423,
          79.149,
          182.91,
          197.925,
          232.638,
          536.592,
          56.1225,
          397.992,
          432.9885,
          284.592,
          95.865,
          202.335,
          76.923,
          206.808,
          503.7375,
          26.796,
          271.278,
          216.846,
          92.295,
          771.435,
          807.66,
          331.128,
          167.034,
          431.256,
          781.62,
          279.384,
          479.64,
          314.685,
          921.186,
          121.863
         ]
        },
        {
         "box": {
          "visible": true
         },
         "meanline": {
          "visible": true
         },
         "name": "Naypyitaw",
         "type": "violin",
         "x": [
          "Naypyitaw",
          "Naypyitaw",
          "Naypyitaw",
          "Naypyitaw",
          "Naypyitaw",
          "Naypyitaw",
          "Naypyitaw",
          "Naypyitaw",
          "Naypyitaw",
          "Naypyitaw",
          "Naypyitaw",
          "Naypyitaw",
          "Naypyitaw",
          "Naypyitaw",
          "Naypyitaw",
          "Naypyitaw",
          "Naypyitaw",
          "Naypyitaw",
          "Naypyitaw",
          "Naypyitaw",
          "Naypyitaw",
          "Naypyitaw",
          "Naypyitaw",
          "Naypyitaw",
          "Naypyitaw",
          "Naypyitaw",
          "Naypyitaw",
          "Naypyitaw",
          "Naypyitaw",
          "Naypyitaw",
          "Naypyitaw",
          "Naypyitaw",
          "Naypyitaw",
          "Naypyitaw",
          "Naypyitaw",
          "Naypyitaw",
          "Naypyitaw",
          "Naypyitaw",
          "Naypyitaw",
          "Naypyitaw",
          "Naypyitaw",
          "Naypyitaw",
          "Naypyitaw",
          "Naypyitaw",
          "Naypyitaw",
          "Naypyitaw",
          "Naypyitaw",
          "Naypyitaw",
          "Naypyitaw",
          "Naypyitaw",
          "Naypyitaw",
          "Naypyitaw",
          "Naypyitaw",
          "Naypyitaw",
          "Naypyitaw",
          "Naypyitaw",
          "Naypyitaw",
          "Naypyitaw",
          "Naypyitaw",
          "Naypyitaw",
          "Naypyitaw",
          "Naypyitaw",
          "Naypyitaw",
          "Naypyitaw",
          "Naypyitaw",
          "Naypyitaw",
          "Naypyitaw",
          "Naypyitaw",
          "Naypyitaw",
          "Naypyitaw",
          "Naypyitaw",
          "Naypyitaw",
          "Naypyitaw",
          "Naypyitaw",
          "Naypyitaw",
          "Naypyitaw",
          "Naypyitaw",
          "Naypyitaw",
          "Naypyitaw",
          "Naypyitaw",
          "Naypyitaw",
          "Naypyitaw",
          "Naypyitaw",
          "Naypyitaw",
          "Naypyitaw",
          "Naypyitaw",
          "Naypyitaw",
          "Naypyitaw",
          "Naypyitaw",
          "Naypyitaw",
          "Naypyitaw",
          "Naypyitaw",
          "Naypyitaw",
          "Naypyitaw",
          "Naypyitaw",
          "Naypyitaw",
          "Naypyitaw",
          "Naypyitaw",
          "Naypyitaw",
          "Naypyitaw",
          "Naypyitaw",
          "Naypyitaw",
          "Naypyitaw",
          "Naypyitaw",
          "Naypyitaw",
          "Naypyitaw"
         ],
         "y": [
          627.6165,
          772.38,
          451.71,
          417.564,
          71.526,
          461.328,
          867.615,
          351.099,
          70.287,
          822.255,
          161.7,
          610.491,
          471.03,
          575.736,
          512.19,
          103.824,
          160.44,
          273.42,
          288.204,
          299.565,
          155.652,
          69.09,
          400.764,
          204.6975,
          145.593,
          185.094,
          77.175,
          509.4075,
          209.559,
          441.693,
          701.8515,
          407.316,
          314.538,
          510.9615,
          14.679,
          718.7565,
          125.055,
          85.5855,
          121.59,
          90.867,
          937.818,
          348.306,
          71.568,
          13.419,
          22.659,
          527.751,
          353.094,
          33.495,
          145.74,
          54.0435,
          154.1295,
          122.5245,
          551.124,
          1034.46,
          543.753,
          133.434,
          178.164,
          440.937,
          87.234,
          814.38,
          461.5275,
          273.798,
          743.82,
          63.2625,
          300.573,
          618.975,
          310.716,
          404.544,
          1023.75,
          507.444,
          131.208,
          317.226,
          733.6035,
          130.8825,
          829.08,
          408.492,
          616.98,
          89.0715,
          267.3405,
          499.7265,
          53.34,
          603.876,
          455.1225,
          253.68,
          495.3165,
          652.89,
          184.086,
          390.9465,
          90.5835,
          106.5015,
          131.922,
          59.325,
          548.184,
          102.396,
          446.439,
          122.472,
          235.746,
          221.886,
          470.988,
          270.018,
          579.8415,
          360.927,
          188.0025,
          864.57,
          63.9975,
          42.3675
         ]
        },
        {
         "box": {
          "visible": true
         },
         "meanline": {
          "visible": true
         },
         "name": "Mandalay",
         "type": "violin",
         "x": [
          "Mandalay",
          "Mandalay",
          "Mandalay",
          "Mandalay",
          "Mandalay",
          "Mandalay",
          "Mandalay",
          "Mandalay",
          "Mandalay",
          "Mandalay",
          "Mandalay",
          "Mandalay",
          "Mandalay",
          "Mandalay",
          "Mandalay",
          "Mandalay",
          "Mandalay",
          "Mandalay",
          "Mandalay",
          "Mandalay",
          "Mandalay",
          "Mandalay",
          "Mandalay",
          "Mandalay",
          "Mandalay",
          "Mandalay",
          "Mandalay",
          "Mandalay",
          "Mandalay",
          "Mandalay",
          "Mandalay",
          "Mandalay",
          "Mandalay",
          "Mandalay",
          "Mandalay",
          "Mandalay",
          "Mandalay",
          "Mandalay",
          "Mandalay",
          "Mandalay",
          "Mandalay",
          "Mandalay",
          "Mandalay",
          "Mandalay",
          "Mandalay",
          "Mandalay",
          "Mandalay",
          "Mandalay",
          "Mandalay",
          "Mandalay",
          "Mandalay",
          "Mandalay",
          "Mandalay",
          "Mandalay",
          "Mandalay",
          "Mandalay",
          "Mandalay",
          "Mandalay",
          "Mandalay",
          "Mandalay",
          "Mandalay",
          "Mandalay",
          "Mandalay",
          "Mandalay",
          "Mandalay",
          "Mandalay",
          "Mandalay",
          "Mandalay",
          "Mandalay",
          "Mandalay",
          "Mandalay",
          "Mandalay",
          "Mandalay",
          "Mandalay",
          "Mandalay",
          "Mandalay",
          "Mandalay",
          "Mandalay",
          "Mandalay",
          "Mandalay",
          "Mandalay",
          "Mandalay",
          "Mandalay",
          "Mandalay",
          "Mandalay",
          "Mandalay",
          "Mandalay",
          "Mandalay",
          "Mandalay",
          "Mandalay",
          "Mandalay",
          "Mandalay",
          "Mandalay",
          "Mandalay",
          "Mandalay",
          "Mandalay",
          "Mandalay",
          "Mandalay",
          "Mandalay",
          "Mandalay",
          "Mandalay",
          "Mandalay",
          "Mandalay",
          "Mandalay",
          "Mandalay",
          "Mandalay",
          "Mandalay",
          "Mandalay",
          "Mandalay",
          "Mandalay",
          "Mandalay",
          "Mandalay",
          "Mandalay"
         ],
         "y": [
          60.816,
          84.63,
          277.137,
          91.056,
          189.0945,
          75.054,
          33.936,
          520.4115,
          614.943,
          152.838,
          304.542,
          922.635,
          34.629,
          115.185,
          53.928,
          112.224,
          474.348,
          853.146,
          263.97,
          918.729,
          588.357,
          357.588,
          166.236,
          56.952,
          793.716,
          154.392,
          107.31,
          271.95,
          95.6655,
          484.89,
          796.908,
          285.705,
          456.288,
          655.5465,
          439.8975,
          57.1725,
          354.0075,
          628.173,
          190.155,
          410.508,
          411.3795,
          86.625,
          208.6875,
          45.927,
          100.9155,
          120.162,
          360.885,
          207.858,
          734.076,
          72.87,
          212.688,
          209.769,
          288.015,
          125.706,
          240.975,
          163.002,
          180.4005,
          356.328,
          597.6285,
          145.971,
          198.639,
          343.413,
          121.569,
          314.055,
          165.123,
          311.1885,
          116.907,
          397.215,
          352.674,
          181.881,
          75.474,
          231.2415,
          145.404,
          261.198,
          180.6,
          98.028,
          557.718,
          56.406,
          769.104,
          93.744,
          384.72,
          300.216,
          801.864,
          401.268,
          830.3715,
          57.078,
          144.963,
          90.3,
          446.964,
          222.138,
          299.3655,
          554.295,
          101.64,
          348.705,
          193.074,
          217.2555,
          82.719,
          57.876,
          53.151,
          629.496,
          397.845,
          56.469,
          222.012,
          125.7165,
          68.985,
          263.97,
          271.2885,
          167.58,
          334.4775,
          30.996,
          804.3,
          183.645,
          1022.49
         ]
        }
       ],
       "layout": {
        "template": {
         "data": {
          "bar": [
           {
            "error_x": {
             "color": "#2a3f5f"
            },
            "error_y": {
             "color": "#2a3f5f"
            },
            "marker": {
             "line": {
              "color": "#E5ECF6",
              "width": 0.5
             },
             "pattern": {
              "fillmode": "overlay",
              "size": 10,
              "solidity": 0.2
             }
            },
            "type": "bar"
           }
          ],
          "barpolar": [
           {
            "marker": {
             "line": {
              "color": "#E5ECF6",
              "width": 0.5
             },
             "pattern": {
              "fillmode": "overlay",
              "size": 10,
              "solidity": 0.2
             }
            },
            "type": "barpolar"
           }
          ],
          "carpet": [
           {
            "aaxis": {
             "endlinecolor": "#2a3f5f",
             "gridcolor": "white",
             "linecolor": "white",
             "minorgridcolor": "white",
             "startlinecolor": "#2a3f5f"
            },
            "baxis": {
             "endlinecolor": "#2a3f5f",
             "gridcolor": "white",
             "linecolor": "white",
             "minorgridcolor": "white",
             "startlinecolor": "#2a3f5f"
            },
            "type": "carpet"
           }
          ],
          "choropleth": [
           {
            "colorbar": {
             "outlinewidth": 0,
             "ticks": ""
            },
            "type": "choropleth"
           }
          ],
          "contour": [
           {
            "colorbar": {
             "outlinewidth": 0,
             "ticks": ""
            },
            "colorscale": [
             [
              0,
              "#0d0887"
             ],
             [
              0.1111111111111111,
              "#46039f"
             ],
             [
              0.2222222222222222,
              "#7201a8"
             ],
             [
              0.3333333333333333,
              "#9c179e"
             ],
             [
              0.4444444444444444,
              "#bd3786"
             ],
             [
              0.5555555555555556,
              "#d8576b"
             ],
             [
              0.6666666666666666,
              "#ed7953"
             ],
             [
              0.7777777777777778,
              "#fb9f3a"
             ],
             [
              0.8888888888888888,
              "#fdca26"
             ],
             [
              1,
              "#f0f921"
             ]
            ],
            "type": "contour"
           }
          ],
          "contourcarpet": [
           {
            "colorbar": {
             "outlinewidth": 0,
             "ticks": ""
            },
            "type": "contourcarpet"
           }
          ],
          "heatmap": [
           {
            "colorbar": {
             "outlinewidth": 0,
             "ticks": ""
            },
            "colorscale": [
             [
              0,
              "#0d0887"
             ],
             [
              0.1111111111111111,
              "#46039f"
             ],
             [
              0.2222222222222222,
              "#7201a8"
             ],
             [
              0.3333333333333333,
              "#9c179e"
             ],
             [
              0.4444444444444444,
              "#bd3786"
             ],
             [
              0.5555555555555556,
              "#d8576b"
             ],
             [
              0.6666666666666666,
              "#ed7953"
             ],
             [
              0.7777777777777778,
              "#fb9f3a"
             ],
             [
              0.8888888888888888,
              "#fdca26"
             ],
             [
              1,
              "#f0f921"
             ]
            ],
            "type": "heatmap"
           }
          ],
          "heatmapgl": [
           {
            "colorbar": {
             "outlinewidth": 0,
             "ticks": ""
            },
            "colorscale": [
             [
              0,
              "#0d0887"
             ],
             [
              0.1111111111111111,
              "#46039f"
             ],
             [
              0.2222222222222222,
              "#7201a8"
             ],
             [
              0.3333333333333333,
              "#9c179e"
             ],
             [
              0.4444444444444444,
              "#bd3786"
             ],
             [
              0.5555555555555556,
              "#d8576b"
             ],
             [
              0.6666666666666666,
              "#ed7953"
             ],
             [
              0.7777777777777778,
              "#fb9f3a"
             ],
             [
              0.8888888888888888,
              "#fdca26"
             ],
             [
              1,
              "#f0f921"
             ]
            ],
            "type": "heatmapgl"
           }
          ],
          "histogram": [
           {
            "marker": {
             "pattern": {
              "fillmode": "overlay",
              "size": 10,
              "solidity": 0.2
             }
            },
            "type": "histogram"
           }
          ],
          "histogram2d": [
           {
            "colorbar": {
             "outlinewidth": 0,
             "ticks": ""
            },
            "colorscale": [
             [
              0,
              "#0d0887"
             ],
             [
              0.1111111111111111,
              "#46039f"
             ],
             [
              0.2222222222222222,
              "#7201a8"
             ],
             [
              0.3333333333333333,
              "#9c179e"
             ],
             [
              0.4444444444444444,
              "#bd3786"
             ],
             [
              0.5555555555555556,
              "#d8576b"
             ],
             [
              0.6666666666666666,
              "#ed7953"
             ],
             [
              0.7777777777777778,
              "#fb9f3a"
             ],
             [
              0.8888888888888888,
              "#fdca26"
             ],
             [
              1,
              "#f0f921"
             ]
            ],
            "type": "histogram2d"
           }
          ],
          "histogram2dcontour": [
           {
            "colorbar": {
             "outlinewidth": 0,
             "ticks": ""
            },
            "colorscale": [
             [
              0,
              "#0d0887"
             ],
             [
              0.1111111111111111,
              "#46039f"
             ],
             [
              0.2222222222222222,
              "#7201a8"
             ],
             [
              0.3333333333333333,
              "#9c179e"
             ],
             [
              0.4444444444444444,
              "#bd3786"
             ],
             [
              0.5555555555555556,
              "#d8576b"
             ],
             [
              0.6666666666666666,
              "#ed7953"
             ],
             [
              0.7777777777777778,
              "#fb9f3a"
             ],
             [
              0.8888888888888888,
              "#fdca26"
             ],
             [
              1,
              "#f0f921"
             ]
            ],
            "type": "histogram2dcontour"
           }
          ],
          "mesh3d": [
           {
            "colorbar": {
             "outlinewidth": 0,
             "ticks": ""
            },
            "type": "mesh3d"
           }
          ],
          "parcoords": [
           {
            "line": {
             "colorbar": {
              "outlinewidth": 0,
              "ticks": ""
             }
            },
            "type": "parcoords"
           }
          ],
          "pie": [
           {
            "automargin": true,
            "type": "pie"
           }
          ],
          "scatter": [
           {
            "marker": {
             "colorbar": {
              "outlinewidth": 0,
              "ticks": ""
             }
            },
            "type": "scatter"
           }
          ],
          "scatter3d": [
           {
            "line": {
             "colorbar": {
              "outlinewidth": 0,
              "ticks": ""
             }
            },
            "marker": {
             "colorbar": {
              "outlinewidth": 0,
              "ticks": ""
             }
            },
            "type": "scatter3d"
           }
          ],
          "scattercarpet": [
           {
            "marker": {
             "colorbar": {
              "outlinewidth": 0,
              "ticks": ""
             }
            },
            "type": "scattercarpet"
           }
          ],
          "scattergeo": [
           {
            "marker": {
             "colorbar": {
              "outlinewidth": 0,
              "ticks": ""
             }
            },
            "type": "scattergeo"
           }
          ],
          "scattergl": [
           {
            "marker": {
             "colorbar": {
              "outlinewidth": 0,
              "ticks": ""
             }
            },
            "type": "scattergl"
           }
          ],
          "scattermapbox": [
           {
            "marker": {
             "colorbar": {
              "outlinewidth": 0,
              "ticks": ""
             }
            },
            "type": "scattermapbox"
           }
          ],
          "scatterpolar": [
           {
            "marker": {
             "colorbar": {
              "outlinewidth": 0,
              "ticks": ""
             }
            },
            "type": "scatterpolar"
           }
          ],
          "scatterpolargl": [
           {
            "marker": {
             "colorbar": {
              "outlinewidth": 0,
              "ticks": ""
             }
            },
            "type": "scatterpolargl"
           }
          ],
          "scatterternary": [
           {
            "marker": {
             "colorbar": {
              "outlinewidth": 0,
              "ticks": ""
             }
            },
            "type": "scatterternary"
           }
          ],
          "surface": [
           {
            "colorbar": {
             "outlinewidth": 0,
             "ticks": ""
            },
            "colorscale": [
             [
              0,
              "#0d0887"
             ],
             [
              0.1111111111111111,
              "#46039f"
             ],
             [
              0.2222222222222222,
              "#7201a8"
             ],
             [
              0.3333333333333333,
              "#9c179e"
             ],
             [
              0.4444444444444444,
              "#bd3786"
             ],
             [
              0.5555555555555556,
              "#d8576b"
             ],
             [
              0.6666666666666666,
              "#ed7953"
             ],
             [
              0.7777777777777778,
              "#fb9f3a"
             ],
             [
              0.8888888888888888,
              "#fdca26"
             ],
             [
              1,
              "#f0f921"
             ]
            ],
            "type": "surface"
           }
          ],
          "table": [
           {
            "cells": {
             "fill": {
              "color": "#EBF0F8"
             },
             "line": {
              "color": "white"
             }
            },
            "header": {
             "fill": {
              "color": "#C8D4E3"
             },
             "line": {
              "color": "white"
             }
            },
            "type": "table"
           }
          ]
         },
         "layout": {
          "annotationdefaults": {
           "arrowcolor": "#2a3f5f",
           "arrowhead": 0,
           "arrowwidth": 1
          },
          "autotypenumbers": "strict",
          "coloraxis": {
           "colorbar": {
            "outlinewidth": 0,
            "ticks": ""
           }
          },
          "colorscale": {
           "diverging": [
            [
             0,
             "#8e0152"
            ],
            [
             0.1,
             "#c51b7d"
            ],
            [
             0.2,
             "#de77ae"
            ],
            [
             0.3,
             "#f1b6da"
            ],
            [
             0.4,
             "#fde0ef"
            ],
            [
             0.5,
             "#f7f7f7"
            ],
            [
             0.6,
             "#e6f5d0"
            ],
            [
             0.7,
             "#b8e186"
            ],
            [
             0.8,
             "#7fbc41"
            ],
            [
             0.9,
             "#4d9221"
            ],
            [
             1,
             "#276419"
            ]
           ],
           "sequential": [
            [
             0,
             "#0d0887"
            ],
            [
             0.1111111111111111,
             "#46039f"
            ],
            [
             0.2222222222222222,
             "#7201a8"
            ],
            [
             0.3333333333333333,
             "#9c179e"
            ],
            [
             0.4444444444444444,
             "#bd3786"
            ],
            [
             0.5555555555555556,
             "#d8576b"
            ],
            [
             0.6666666666666666,
             "#ed7953"
            ],
            [
             0.7777777777777778,
             "#fb9f3a"
            ],
            [
             0.8888888888888888,
             "#fdca26"
            ],
            [
             1,
             "#f0f921"
            ]
           ],
           "sequentialminus": [
            [
             0,
             "#0d0887"
            ],
            [
             0.1111111111111111,
             "#46039f"
            ],
            [
             0.2222222222222222,
             "#7201a8"
            ],
            [
             0.3333333333333333,
             "#9c179e"
            ],
            [
             0.4444444444444444,
             "#bd3786"
            ],
            [
             0.5555555555555556,
             "#d8576b"
            ],
            [
             0.6666666666666666,
             "#ed7953"
            ],
            [
             0.7777777777777778,
             "#fb9f3a"
            ],
            [
             0.8888888888888888,
             "#fdca26"
            ],
            [
             1,
             "#f0f921"
            ]
           ]
          },
          "colorway": [
           "#636efa",
           "#EF553B",
           "#00cc96",
           "#ab63fa",
           "#FFA15A",
           "#19d3f3",
           "#FF6692",
           "#B6E880",
           "#FF97FF",
           "#FECB52"
          ],
          "font": {
           "color": "#2a3f5f"
          },
          "geo": {
           "bgcolor": "white",
           "lakecolor": "white",
           "landcolor": "#E5ECF6",
           "showlakes": true,
           "showland": true,
           "subunitcolor": "white"
          },
          "hoverlabel": {
           "align": "left"
          },
          "hovermode": "closest",
          "mapbox": {
           "style": "light"
          },
          "paper_bgcolor": "white",
          "plot_bgcolor": "#E5ECF6",
          "polar": {
           "angularaxis": {
            "gridcolor": "white",
            "linecolor": "white",
            "ticks": ""
           },
           "bgcolor": "#E5ECF6",
           "radialaxis": {
            "gridcolor": "white",
            "linecolor": "white",
            "ticks": ""
           }
          },
          "scene": {
           "xaxis": {
            "backgroundcolor": "#E5ECF6",
            "gridcolor": "white",
            "gridwidth": 2,
            "linecolor": "white",
            "showbackground": true,
            "ticks": "",
            "zerolinecolor": "white"
           },
           "yaxis": {
            "backgroundcolor": "#E5ECF6",
            "gridcolor": "white",
            "gridwidth": 2,
            "linecolor": "white",
            "showbackground": true,
            "ticks": "",
            "zerolinecolor": "white"
           },
           "zaxis": {
            "backgroundcolor": "#E5ECF6",
            "gridcolor": "white",
            "gridwidth": 2,
            "linecolor": "white",
            "showbackground": true,
            "ticks": "",
            "zerolinecolor": "white"
           }
          },
          "shapedefaults": {
           "line": {
            "color": "#2a3f5f"
           }
          },
          "ternary": {
           "aaxis": {
            "gridcolor": "white",
            "linecolor": "white",
            "ticks": ""
           },
           "baxis": {
            "gridcolor": "white",
            "linecolor": "white",
            "ticks": ""
           },
           "bgcolor": "#E5ECF6",
           "caxis": {
            "gridcolor": "white",
            "linecolor": "white",
            "ticks": ""
           }
          },
          "title": {
           "x": 0.05
          },
          "xaxis": {
           "automargin": true,
           "gridcolor": "white",
           "linecolor": "white",
           "ticks": "",
           "title": {
            "standoff": 15
           },
           "zerolinecolor": "white",
           "zerolinewidth": 2
          },
          "yaxis": {
           "automargin": true,
           "gridcolor": "white",
           "linecolor": "white",
           "ticks": "",
           "title": {
            "standoff": 15
           },
           "zerolinecolor": "white",
           "zerolinewidth": 2
          }
         }
        }
       }
      }
     },
     "metadata": {},
     "output_type": "display_data"
    }
   ],
   "source": [
    "fig_violin = go.Figure()\n",
    "\n",
    "Cities = ['Yangon', 'Naypyitaw', 'Mandalay']\n",
    "\n",
    "for City in Cities:\n",
    "    fig_violin.add_trace(go.Violin(x=df_v['City'][df_v['City'] == City],\n",
    "                            y=df_v['Total'][df_v['City'] == City],\n",
    "                            name=City,\n",
    "                            box_visible=True,\n",
    "                            meanline_visible=True,\n",
    "                            ))\n",
    "\n",
    "fig_violin.show()"
   ]
  },
  {
   "cell_type": "code",
   "execution_count": 24,
   "metadata": {},
   "outputs": [
    {
     "ename": "SyntaxError",
     "evalue": "invalid syntax (Temp/ipykernel_32/1676742918.py, line 19)",
     "output_type": "error",
     "traceback": [
      "\u001b[1;36m  File \u001b[1;32m\"C:\\Users\\acer\\AppData\\Local\\Temp/ipykernel_32/1676742918.py\"\u001b[1;36m, line \u001b[1;32m19\u001b[0m\n\u001b[1;33m    plt.axvline (y_pop.mean()+f_stat[0]y_pop.std(), color='black', linestyle='dashed', linewidth=2, label = 'Alternative Hypothesis')\u001b[0m\n\u001b[1;37m                                       ^\u001b[0m\n\u001b[1;31mSyntaxError\u001b[0m\u001b[1;31m:\u001b[0m invalid syntax\n"
     ]
    }
   ],
   "source": [
    "y_pop = np.random.normal(total_y_e.Payment.mean(),total_y_e.Payment.std(),80)\n",
    "n_pop = np.random.normal(total_n_e.Payment.mean(),total_n_e.Payment.std(),80)\n",
    "m_pop = np.random.normal(total_m_e.Payment.mean(),total_m_e.Payment.std(),80)\n",
    "#write(f'{y_pop.std()}, {n_pop.std()}, {m_pop.std()}')\n",
    "\n",
    "ci = stats.norm.interval(0.95, total_y_e.Payment.mean(), total_y_e.Payment.std())\n",
    "fig = plt.figure(figsize=(16,5))\n",
    "sns.distplot(y_pop, label='E wallet Yangon',color='orange')\n",
    "sns.distplot(n_pop, label='E wallet Naypyitaw',color='blue')\n",
    "sns.distplot(m_pop, label='E wallet Mandalay C',color='red')\n",
    "\n",
    "plt.axvline(total_n_e.Payment.mean(), color='blue', linewidth=2, label='Naypyitaw mean')\n",
    "plt.axvline(total_m_e.Payment.mean(), color='red',  linewidth=2, label='Mandalay mean')\n",
    "\n",
    "plt.axvline(ci[1], color='green', linestyle='dashed', linewidth=2, label='confidence threshold of 95%')\n",
    "plt.axvline(ci[0], color='green', linestyle='dashed', linewidth=2)\n",
    "\n",
    "\n",
    "plt.axvline (y_pop.mean()+f_stat[0]y_pop.std(), color='black', linestyle='dashed', linewidth=2, label = 'Alternative Hypothesis')\n",
    "plt.axvline (y_pop.mean()-f_stat[0]y_pop.std(), color='black', linestyle='dashed', linewidth=2)\n",
    "plt.legend()\n",
    "\n",
    "plt.show(fig)"
   ]
  },
  {
   "cell_type": "markdown",
   "metadata": {},
   "source": [
    " ### 👨🏻‍💻 Hasil Analisis✍🏻 \n",
    "        > Di dapatkan angka P-Value = 0.23092647\n",
    "        \n",
    "        > P- Value lebih dari 0.005 maka H0 bisa di buktikan \n",
    "    \n",
    "## Kesmipulan 🔍 \n",
    "   #### Jadi *bisa di buktikan* 👨🏻‍🔬\n",
    "            > Rata-rata pengguna Ewallet di kota Yangon tidak berbeda signifikan dari rata-rata pengguna Ewallet di kota Naypyitaw dan Mandalay\n",
    "    "
   ]
  }
 ],
 "metadata": {
  "interpreter": {
   "hash": "8a0314e9a3496969cdc3b628708851b260263268c48c6868778a684e0fdc7ce1"
  },
  "kernelspec": {
   "display_name": "Python 3.7.3 ('base')",
   "language": "python",
   "name": "python3"
  },
  "language_info": {
   "codemirror_mode": {
    "name": "ipython",
    "version": 3
   },
   "file_extension": ".py",
   "mimetype": "text/x-python",
   "name": "python",
   "nbconvert_exporter": "python",
   "pygments_lexer": "ipython3",
   "version": "3.9.7"
  },
  "orig_nbformat": 4
 },
 "nbformat": 4,
 "nbformat_minor": 2
}
