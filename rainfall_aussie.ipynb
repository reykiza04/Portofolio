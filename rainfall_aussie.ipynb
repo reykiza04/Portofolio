{
 "cells": [
  {
   "cell_type": "markdown",
   "metadata": {},
   "source": [
    "# 1. Perkenalan\n",
    "> Bab pengenalan harus diisi dengan identitas, gambaran besar dataset yang digunakan, dan *objective* yang ingin dicapai.\n",
    "\n",
    "      > Nama : Reyki seprianza\n",
    "\n",
    "      > Batch :009\n",
    "## Dataset Description\n",
    "\n",
    "> Dataset yang di gunakan adalah [weatherAUS](https://www.kaggle.com/datasets/jsphyg/weather-dataset-rattle-package)\n",
    "\n",
    "### Tentang Data\n",
    "\n",
    "> Dataset ini berisi 10 tahun observasi harian cuaca dari Australian weather stations\n",
    "\n",
    "> RainTomorrow adalah target yang akan di prediksi\n",
    "\n",
    "> Untuk menhitung curah hujan itu tersendiri dapat dilihat pada data refrensi ini [Paper_refrensi](http://www.ucarecdn.com/291437ad-340b-4e16-8161-f3493f66357e/)\n",
    "\n",
    "\n",
    "- Date = The date of observation\n",
    "\n",
    "- Location = The common name of the location of the weather station\n",
    "\n",
    "- MinTemp = The minimum temperature in degrees celsius\n",
    "\n",
    "- MaxTemp = The maximum temperature in degrees celsius\n",
    "\n",
    "- Rainfall = The amount of rainfall recorded for the day in mm\n",
    "\n",
    "- Evaporation = The so-called Class A pan evaporation (mm) in the 24 hours to 9am\n",
    "\n",
    "- Sunshine = The number of hours of bright sunshine in the day.\n",
    "\n",
    "- WindGustDir = The direction of the strongest wind gust in the 24 hours to midnight\n",
    "\n",
    "- WindGustSpeed = The speed (km/h) of the strongest wind gust in the 24 hours to midnight\n",
    "\n",
    "- WindDir9am = Direction of the wind at 9am\n",
    "\n",
    "---\n",
    "\n",
    "### Insight !\n",
    ">Curah hujan (Rainfall) \n",
    "- Jumlah air yang jatuh di permukaan tanah dasar selama periode tertentu yang diukur dengan satuan tinggi milimeter di atas permukaan horizontal.\n",
    "\n",
    ">Penguapan (Evaporation)\n",
    "- Proses perubahan molekul di dalam keadaan cair dengan spontan menjadi gas. Proses ini adalah kebalikan dari kondensasi. Umumnya penguapan dapat dilihat dari lenyapnya cairan secara berangsur-angsur ketika terpapar pada gas dengan volume signifikan.\n",
    "\n",
    ">Sinar matahari (Sunshine)\n",
    "- Sinar yang berasal dari Matahari. Tanaman menggunakan cahaya matahari untuk berfotosintesis dan membuat makanan. Tanpa cahaya matahari, takkan ada kehidupan di bumi. Sinar matahari bisa berakibat baik maupun buruk kepada kesehatan seseorang.\n",
    "\n",
    ">Hembusan angin (Wind gust)\n",
    "- Peningkatan singkat dalam kecepatan angin, biasanya kurang dari 20 detik. Ini adalah karakter yang lebih sementara daripada squall, yang berlangsung beberapa menit, dan diikuti oleh jeda atau mengendur dalam kecepatan angin.\n",
    "\n",
    "\n",
    "---\n",
    "\n",
    "\n",
    "## Assignment Objectives\n",
    "\n",
    ">Graded Challenge 2 ini dibuat guna mengevaluasi konsep Logistic Regression dan SVM sebagai berikut:\n",
    "\n",
    "- Mampu memahami konsep Classification dengan Logistic Regression dan SVM\n",
    "- Mampu mempersiapkan data untuk digunakan dalam model Logistic Regression dan SVM\n",
    "- Mampu mengimplementasikan Logistic Regression dan SVM untuk membuat prediksi\n",
    "\n",
    "### Model Insight !\n",
    "\n",
    ">Classification\n",
    "- kita ingin membagi dataset ke dalam beberapa kelompok. Namun yang membuatnya berbeda adalah, dalam klasifikasi kita memberi tahu kepada mesin (algoritma) kita pembagian kelompoknya, atau dengan kata lain kita mengajari mesin cara membagi kelompoknya. Sedangkan pada clustering, kita tidak mengajarkan mesin, namun ia yang akan melakukan pengelompokan dengan sendirinya.\n",
    "[Sumber](https://www.megabagus.id/classification/)\n",
    "\n",
    ">Logistic Regression\n",
    "- regresi logistik merupakan teknik regresi yang fungsinya untuk memisahkan dataset menjadi dua bagian (kelompok). Seperti kasus koin yang dilempar, hasilnya hanya ada dua yaitu depan atau belakang. Begitu pula dengan regresi logistik, maka hasilnya hanyalah ada dua, yaitu YES atau No, atau bisa juga 1 atau 0.\n",
    "[Sumber](https://www.megabagus.id/machine-learning-logistic-regression/)\n",
    "\n",
    ">Support Vector Machines\n",
    "-  SVM merupakan sebuah teknik yang menggunakan 2 titik (2 vektor), yang selanjutnya 2 titik ini akan membentuk garis pembatas (atau sisi pembatas jika 3 dimensi atau lebih). Garis/sisi pembatas yang dibentuk dari dua buah vektor ini disebut dengan hyperplane.\n",
    "[Sumber](https://www.megabagus.id/machine-learning-support-vector-machines/)"
   ]
  },
  {
   "cell_type": "markdown",
   "metadata": {},
   "source": [
    "# 2. Import Libraries\n",
    "> *Cell* pertama pada *notebook* **harus berisi dan hanya berisi** semua *library* yang digunakan dalam *project*."
   ]
  },
  {
   "cell_type": "code",
   "execution_count": 1,
   "metadata": {},
   "outputs": [],
   "source": [
    "import pandas as pd\n",
    "import numpy as np\n",
    "import matplotlib.pyplot as plt\n",
    "import seaborn as sns\n",
    "import missingno as msno\n",
    "%matplotlib inline\n",
    "import warnings\n",
    "warnings.filterwarnings('ignore')\n",
    "from sklearn.model_selection import train_test_split\n",
    "from sklearn.preprocessing import StandardScaler\n",
    "from sklearn.preprocessing import OneHotEncoder\n",
    "from sklearn.svm import  LinearSVC, SVC\n",
    "from sklearn.linear_model import LogisticRegression\n",
    "from sklearn.metrics import classification_report, plot_roc_curve, roc_auc_score,confusion_matrix\n",
    "\n"
   ]
  },
  {
   "cell_type": "markdown",
   "metadata": {},
   "source": [
    "# 3. Data Loading\n",
    " > Bagian ini berisi proses penyiapan data sebelum dilakukan eksplorasi data lebih lanjut. Proses Data Loading dapat berupa memberi nama baru untuk setiap kolom, mengecek ukuran dataset, dll."
   ]
  },
  {
   "cell_type": "code",
   "execution_count": 2,
   "metadata": {},
   "outputs": [],
   "source": [
    "df0 = pd.read_csv('weatherAUS.csv')"
   ]
  },
  {
   "cell_type": "code",
   "execution_count": 3,
   "metadata": {},
   "outputs": [],
   "source": [
    "df = df0.copy()"
   ]
  },
  {
   "cell_type": "markdown",
   "metadata": {},
   "source": [
    "# 4. Exploratory Data Analysis (EDA)\n",
    "> Bagian ini berisi eksplorasi data pada dataset diatas dengan menggunakan query, grouping, visualisasi sederhana, dan lain sebagainya.\n"
   ]
  },
  {
   "cell_type": "code",
   "execution_count": 4,
   "metadata": {},
   "outputs": [
    {
     "data": {
      "text/html": [
       "<div>\n",
       "<style scoped>\n",
       "    .dataframe tbody tr th:only-of-type {\n",
       "        vertical-align: middle;\n",
       "    }\n",
       "\n",
       "    .dataframe tbody tr th {\n",
       "        vertical-align: top;\n",
       "    }\n",
       "\n",
       "    .dataframe thead th {\n",
       "        text-align: right;\n",
       "    }\n",
       "</style>\n",
       "<table border=\"1\" class=\"dataframe\">\n",
       "  <thead>\n",
       "    <tr style=\"text-align: right;\">\n",
       "      <th></th>\n",
       "      <th>count</th>\n",
       "      <th>mean</th>\n",
       "      <th>std</th>\n",
       "      <th>min</th>\n",
       "      <th>25%</th>\n",
       "      <th>50%</th>\n",
       "      <th>75%</th>\n",
       "      <th>max</th>\n",
       "    </tr>\n",
       "  </thead>\n",
       "  <tbody>\n",
       "    <tr>\n",
       "      <th>MinTemp</th>\n",
       "      <td>143975.0</td>\n",
       "      <td>12.194034</td>\n",
       "      <td>6.398495</td>\n",
       "      <td>-8.5</td>\n",
       "      <td>7.6</td>\n",
       "      <td>12.0</td>\n",
       "      <td>16.9</td>\n",
       "      <td>33.9</td>\n",
       "    </tr>\n",
       "    <tr>\n",
       "      <th>MaxTemp</th>\n",
       "      <td>144199.0</td>\n",
       "      <td>23.221348</td>\n",
       "      <td>7.119049</td>\n",
       "      <td>-4.8</td>\n",
       "      <td>17.9</td>\n",
       "      <td>22.6</td>\n",
       "      <td>28.2</td>\n",
       "      <td>48.1</td>\n",
       "    </tr>\n",
       "    <tr>\n",
       "      <th>Rainfall</th>\n",
       "      <td>142199.0</td>\n",
       "      <td>2.360918</td>\n",
       "      <td>8.478060</td>\n",
       "      <td>0.0</td>\n",
       "      <td>0.0</td>\n",
       "      <td>0.0</td>\n",
       "      <td>0.8</td>\n",
       "      <td>371.0</td>\n",
       "    </tr>\n",
       "    <tr>\n",
       "      <th>Evaporation</th>\n",
       "      <td>82670.0</td>\n",
       "      <td>5.468232</td>\n",
       "      <td>4.193704</td>\n",
       "      <td>0.0</td>\n",
       "      <td>2.6</td>\n",
       "      <td>4.8</td>\n",
       "      <td>7.4</td>\n",
       "      <td>145.0</td>\n",
       "    </tr>\n",
       "    <tr>\n",
       "      <th>Sunshine</th>\n",
       "      <td>75625.0</td>\n",
       "      <td>7.611178</td>\n",
       "      <td>3.785483</td>\n",
       "      <td>0.0</td>\n",
       "      <td>4.8</td>\n",
       "      <td>8.4</td>\n",
       "      <td>10.6</td>\n",
       "      <td>14.5</td>\n",
       "    </tr>\n",
       "    <tr>\n",
       "      <th>WindGustSpeed</th>\n",
       "      <td>135197.0</td>\n",
       "      <td>40.035230</td>\n",
       "      <td>13.607062</td>\n",
       "      <td>6.0</td>\n",
       "      <td>31.0</td>\n",
       "      <td>39.0</td>\n",
       "      <td>48.0</td>\n",
       "      <td>135.0</td>\n",
       "    </tr>\n",
       "    <tr>\n",
       "      <th>WindSpeed9am</th>\n",
       "      <td>143693.0</td>\n",
       "      <td>14.043426</td>\n",
       "      <td>8.915375</td>\n",
       "      <td>0.0</td>\n",
       "      <td>7.0</td>\n",
       "      <td>13.0</td>\n",
       "      <td>19.0</td>\n",
       "      <td>130.0</td>\n",
       "    </tr>\n",
       "    <tr>\n",
       "      <th>WindSpeed3pm</th>\n",
       "      <td>142398.0</td>\n",
       "      <td>18.662657</td>\n",
       "      <td>8.809800</td>\n",
       "      <td>0.0</td>\n",
       "      <td>13.0</td>\n",
       "      <td>19.0</td>\n",
       "      <td>24.0</td>\n",
       "      <td>87.0</td>\n",
       "    </tr>\n",
       "    <tr>\n",
       "      <th>Humidity9am</th>\n",
       "      <td>142806.0</td>\n",
       "      <td>68.880831</td>\n",
       "      <td>19.029164</td>\n",
       "      <td>0.0</td>\n",
       "      <td>57.0</td>\n",
       "      <td>70.0</td>\n",
       "      <td>83.0</td>\n",
       "      <td>100.0</td>\n",
       "    </tr>\n",
       "    <tr>\n",
       "      <th>Humidity3pm</th>\n",
       "      <td>140953.0</td>\n",
       "      <td>51.539116</td>\n",
       "      <td>20.795902</td>\n",
       "      <td>0.0</td>\n",
       "      <td>37.0</td>\n",
       "      <td>52.0</td>\n",
       "      <td>66.0</td>\n",
       "      <td>100.0</td>\n",
       "    </tr>\n",
       "    <tr>\n",
       "      <th>Pressure9am</th>\n",
       "      <td>130395.0</td>\n",
       "      <td>1017.649940</td>\n",
       "      <td>7.106530</td>\n",
       "      <td>980.5</td>\n",
       "      <td>1012.9</td>\n",
       "      <td>1017.6</td>\n",
       "      <td>1022.4</td>\n",
       "      <td>1041.0</td>\n",
       "    </tr>\n",
       "    <tr>\n",
       "      <th>Pressure3pm</th>\n",
       "      <td>130432.0</td>\n",
       "      <td>1015.255889</td>\n",
       "      <td>7.037414</td>\n",
       "      <td>977.1</td>\n",
       "      <td>1010.4</td>\n",
       "      <td>1015.2</td>\n",
       "      <td>1020.0</td>\n",
       "      <td>1039.6</td>\n",
       "    </tr>\n",
       "    <tr>\n",
       "      <th>Cloud9am</th>\n",
       "      <td>89572.0</td>\n",
       "      <td>4.447461</td>\n",
       "      <td>2.887159</td>\n",
       "      <td>0.0</td>\n",
       "      <td>1.0</td>\n",
       "      <td>5.0</td>\n",
       "      <td>7.0</td>\n",
       "      <td>9.0</td>\n",
       "    </tr>\n",
       "    <tr>\n",
       "      <th>Cloud3pm</th>\n",
       "      <td>86102.0</td>\n",
       "      <td>4.509930</td>\n",
       "      <td>2.720357</td>\n",
       "      <td>0.0</td>\n",
       "      <td>2.0</td>\n",
       "      <td>5.0</td>\n",
       "      <td>7.0</td>\n",
       "      <td>9.0</td>\n",
       "    </tr>\n",
       "    <tr>\n",
       "      <th>Temp9am</th>\n",
       "      <td>143693.0</td>\n",
       "      <td>16.990631</td>\n",
       "      <td>6.488753</td>\n",
       "      <td>-7.2</td>\n",
       "      <td>12.3</td>\n",
       "      <td>16.7</td>\n",
       "      <td>21.6</td>\n",
       "      <td>40.2</td>\n",
       "    </tr>\n",
       "    <tr>\n",
       "      <th>Temp3pm</th>\n",
       "      <td>141851.0</td>\n",
       "      <td>21.683390</td>\n",
       "      <td>6.936650</td>\n",
       "      <td>-5.4</td>\n",
       "      <td>16.6</td>\n",
       "      <td>21.1</td>\n",
       "      <td>26.4</td>\n",
       "      <td>46.7</td>\n",
       "    </tr>\n",
       "  </tbody>\n",
       "</table>\n",
       "</div>"
      ],
      "text/plain": [
       "                  count         mean        std    min     25%     50%  \\\n",
       "MinTemp        143975.0    12.194034   6.398495   -8.5     7.6    12.0   \n",
       "MaxTemp        144199.0    23.221348   7.119049   -4.8    17.9    22.6   \n",
       "Rainfall       142199.0     2.360918   8.478060    0.0     0.0     0.0   \n",
       "Evaporation     82670.0     5.468232   4.193704    0.0     2.6     4.8   \n",
       "Sunshine        75625.0     7.611178   3.785483    0.0     4.8     8.4   \n",
       "WindGustSpeed  135197.0    40.035230  13.607062    6.0    31.0    39.0   \n",
       "WindSpeed9am   143693.0    14.043426   8.915375    0.0     7.0    13.0   \n",
       "WindSpeed3pm   142398.0    18.662657   8.809800    0.0    13.0    19.0   \n",
       "Humidity9am    142806.0    68.880831  19.029164    0.0    57.0    70.0   \n",
       "Humidity3pm    140953.0    51.539116  20.795902    0.0    37.0    52.0   \n",
       "Pressure9am    130395.0  1017.649940   7.106530  980.5  1012.9  1017.6   \n",
       "Pressure3pm    130432.0  1015.255889   7.037414  977.1  1010.4  1015.2   \n",
       "Cloud9am        89572.0     4.447461   2.887159    0.0     1.0     5.0   \n",
       "Cloud3pm        86102.0     4.509930   2.720357    0.0     2.0     5.0   \n",
       "Temp9am        143693.0    16.990631   6.488753   -7.2    12.3    16.7   \n",
       "Temp3pm        141851.0    21.683390   6.936650   -5.4    16.6    21.1   \n",
       "\n",
       "                  75%     max  \n",
       "MinTemp          16.9    33.9  \n",
       "MaxTemp          28.2    48.1  \n",
       "Rainfall          0.8   371.0  \n",
       "Evaporation       7.4   145.0  \n",
       "Sunshine         10.6    14.5  \n",
       "WindGustSpeed    48.0   135.0  \n",
       "WindSpeed9am     19.0   130.0  \n",
       "WindSpeed3pm     24.0    87.0  \n",
       "Humidity9am      83.0   100.0  \n",
       "Humidity3pm      66.0   100.0  \n",
       "Pressure9am    1022.4  1041.0  \n",
       "Pressure3pm    1020.0  1039.6  \n",
       "Cloud9am          7.0     9.0  \n",
       "Cloud3pm          7.0     9.0  \n",
       "Temp9am          21.6    40.2  \n",
       "Temp3pm          26.4    46.7  "
      ]
     },
     "execution_count": 4,
     "metadata": {},
     "output_type": "execute_result"
    }
   ],
   "source": [
    "df.describe().T"
   ]
  },
  {
   "cell_type": "code",
   "execution_count": 5,
   "metadata": {},
   "outputs": [
    {
     "data": {
      "image/png": "[encoded data removed]",
      "text/plain": [
       "<Figure size 1080x1080 with 16 Axes>"
      ]
     },
     "metadata": {
      "needs_background": "light"
     },
     "output_type": "display_data"
    }
   ],
   "source": [
    "# Histogram plot\n",
    "\n",
    "df.hist()\n",
    "plt.gcf().set_size_inches(15, 15)\n",
    "plt.show()"
   ]
  },
  {
   "cell_type": "code",
   "execution_count": 6,
   "metadata": {},
   "outputs": [
    {
     "data": {
      "text/plain": [
       "(145460, 23)"
      ]
     },
     "execution_count": 6,
     "metadata": {},
     "output_type": "execute_result"
    }
   ],
   "source": [
    "df.shape"
   ]
  },
  {
   "cell_type": "code",
   "execution_count": 7,
   "metadata": {},
   "outputs": [
    {
     "data": {
      "text/html": [
       "<div>\n",
       "<style scoped>\n",
       "    .dataframe tbody tr th:only-of-type {\n",
       "        vertical-align: middle;\n",
       "    }\n",
       "\n",
       "    .dataframe tbody tr th {\n",
       "        vertical-align: top;\n",
       "    }\n",
       "\n",
       "    .dataframe thead th {\n",
       "        text-align: right;\n",
       "    }\n",
       "</style>\n",
       "<table border=\"1\" class=\"dataframe\">\n",
       "  <thead>\n",
       "    <tr style=\"text-align: right;\">\n",
       "      <th></th>\n",
       "      <th>Date</th>\n",
       "      <th>Location</th>\n",
       "      <th>MinTemp</th>\n",
       "      <th>MaxTemp</th>\n",
       "      <th>Rainfall</th>\n",
       "      <th>Evaporation</th>\n",
       "      <th>Sunshine</th>\n",
       "      <th>WindGustDir</th>\n",
       "      <th>WindGustSpeed</th>\n",
       "      <th>WindDir9am</th>\n",
       "      <th>...</th>\n",
       "      <th>Humidity9am</th>\n",
       "      <th>Humidity3pm</th>\n",
       "      <th>Pressure9am</th>\n",
       "      <th>Pressure3pm</th>\n",
       "      <th>Cloud9am</th>\n",
       "      <th>Cloud3pm</th>\n",
       "      <th>Temp9am</th>\n",
       "      <th>Temp3pm</th>\n",
       "      <th>RainToday</th>\n",
       "      <th>RainTomorrow</th>\n",
       "    </tr>\n",
       "  </thead>\n",
       "  <tbody>\n",
       "    <tr>\n",
       "      <th>0</th>\n",
       "      <td>2008-12-01</td>\n",
       "      <td>Albury</td>\n",
       "      <td>13.4</td>\n",
       "      <td>22.9</td>\n",
       "      <td>0.6</td>\n",
       "      <td>NaN</td>\n",
       "      <td>NaN</td>\n",
       "      <td>W</td>\n",
       "      <td>44.0</td>\n",
       "      <td>W</td>\n",
       "      <td>...</td>\n",
       "      <td>71.0</td>\n",
       "      <td>22.0</td>\n",
       "      <td>1007.7</td>\n",
       "      <td>1007.1</td>\n",
       "      <td>8.0</td>\n",
       "      <td>NaN</td>\n",
       "      <td>16.9</td>\n",
       "      <td>21.8</td>\n",
       "      <td>No</td>\n",
       "      <td>No</td>\n",
       "    </tr>\n",
       "    <tr>\n",
       "      <th>1</th>\n",
       "      <td>2008-12-02</td>\n",
       "      <td>Albury</td>\n",
       "      <td>7.4</td>\n",
       "      <td>25.1</td>\n",
       "      <td>0.0</td>\n",
       "      <td>NaN</td>\n",
       "      <td>NaN</td>\n",
       "      <td>WNW</td>\n",
       "      <td>44.0</td>\n",
       "      <td>NNW</td>\n",
       "      <td>...</td>\n",
       "      <td>44.0</td>\n",
       "      <td>25.0</td>\n",
       "      <td>1010.6</td>\n",
       "      <td>1007.8</td>\n",
       "      <td>NaN</td>\n",
       "      <td>NaN</td>\n",
       "      <td>17.2</td>\n",
       "      <td>24.3</td>\n",
       "      <td>No</td>\n",
       "      <td>No</td>\n",
       "    </tr>\n",
       "    <tr>\n",
       "      <th>2</th>\n",
       "      <td>2008-12-03</td>\n",
       "      <td>Albury</td>\n",
       "      <td>12.9</td>\n",
       "      <td>25.7</td>\n",
       "      <td>0.0</td>\n",
       "      <td>NaN</td>\n",
       "      <td>NaN</td>\n",
       "      <td>WSW</td>\n",
       "      <td>46.0</td>\n",
       "      <td>W</td>\n",
       "      <td>...</td>\n",
       "      <td>38.0</td>\n",
       "      <td>30.0</td>\n",
       "      <td>1007.6</td>\n",
       "      <td>1008.7</td>\n",
       "      <td>NaN</td>\n",
       "      <td>2.0</td>\n",
       "      <td>21.0</td>\n",
       "      <td>23.2</td>\n",
       "      <td>No</td>\n",
       "      <td>No</td>\n",
       "    </tr>\n",
       "    <tr>\n",
       "      <th>3</th>\n",
       "      <td>2008-12-04</td>\n",
       "      <td>Albury</td>\n",
       "      <td>9.2</td>\n",
       "      <td>28.0</td>\n",
       "      <td>0.0</td>\n",
       "      <td>NaN</td>\n",
       "      <td>NaN</td>\n",
       "      <td>NE</td>\n",
       "      <td>24.0</td>\n",
       "      <td>SE</td>\n",
       "      <td>...</td>\n",
       "      <td>45.0</td>\n",
       "      <td>16.0</td>\n",
       "      <td>1017.6</td>\n",
       "      <td>1012.8</td>\n",
       "      <td>NaN</td>\n",
       "      <td>NaN</td>\n",
       "      <td>18.1</td>\n",
       "      <td>26.5</td>\n",
       "      <td>No</td>\n",
       "      <td>No</td>\n",
       "    </tr>\n",
       "    <tr>\n",
       "      <th>4</th>\n",
       "      <td>2008-12-05</td>\n",
       "      <td>Albury</td>\n",
       "      <td>17.5</td>\n",
       "      <td>32.3</td>\n",
       "      <td>1.0</td>\n",
       "      <td>NaN</td>\n",
       "      <td>NaN</td>\n",
       "      <td>W</td>\n",
       "      <td>41.0</td>\n",
       "      <td>ENE</td>\n",
       "      <td>...</td>\n",
       "      <td>82.0</td>\n",
       "      <td>33.0</td>\n",
       "      <td>1010.8</td>\n",
       "      <td>1006.0</td>\n",
       "      <td>7.0</td>\n",
       "      <td>8.0</td>\n",
       "      <td>17.8</td>\n",
       "      <td>29.7</td>\n",
       "      <td>No</td>\n",
       "      <td>No</td>\n",
       "    </tr>\n",
       "  </tbody>\n",
       "</table>\n",
       "<p>5 rows × 23 columns</p>\n",
       "</div>"
      ],
      "text/plain": [
       "         Date Location  MinTemp  MaxTemp  Rainfall  Evaporation  Sunshine  \\\n",
       "0  2008-12-01   Albury     13.4     22.9       0.6          NaN       NaN   \n",
       "1  2008-12-02   Albury      7.4     25.1       0.0          NaN       NaN   \n",
       "2  2008-12-03   Albury     12.9     25.7       0.0          NaN       NaN   \n",
       "3  2008-12-04   Albury      9.2     28.0       0.0          NaN       NaN   \n",
       "4  2008-12-05   Albury     17.5     32.3       1.0          NaN       NaN   \n",
       "\n",
       "  WindGustDir  WindGustSpeed WindDir9am  ... Humidity9am  Humidity3pm  \\\n",
       "0           W           44.0          W  ...        71.0         22.0   \n",
       "1         WNW           44.0        NNW  ...        44.0         25.0   \n",
       "2         WSW           46.0          W  ...        38.0         30.0   \n",
       "3          NE           24.0         SE  ...        45.0         16.0   \n",
       "4           W           41.0        ENE  ...        82.0         33.0   \n",
       "\n",
       "   Pressure9am  Pressure3pm  Cloud9am  Cloud3pm  Temp9am  Temp3pm  RainToday  \\\n",
       "0       1007.7       1007.1       8.0       NaN     16.9     21.8         No   \n",
       "1       1010.6       1007.8       NaN       NaN     17.2     24.3         No   \n",
       "2       1007.6       1008.7       NaN       2.0     21.0     23.2         No   \n",
       "3       1017.6       1012.8       NaN       NaN     18.1     26.5         No   \n",
       "4       1010.8       1006.0       7.0       8.0     17.8     29.7         No   \n",
       "\n",
       "   RainTomorrow  \n",
       "0            No  \n",
       "1            No  \n",
       "2            No  \n",
       "3            No  \n",
       "4            No  \n",
       "\n",
       "[5 rows x 23 columns]"
      ]
     },
     "execution_count": 7,
     "metadata": {},
     "output_type": "execute_result"
    }
   ],
   "source": [
    "df.head(5)"
   ]
  },
  {
   "cell_type": "code",
   "execution_count": 8,
   "metadata": {},
   "outputs": [
    {
     "name": "stdout",
     "output_type": "stream",
     "text": [
      "<class 'pandas.core.frame.DataFrame'>\n",
      "RangeIndex: 145460 entries, 0 to 145459\n",
      "Data columns (total 23 columns):\n",
      " #   Column         Non-Null Count   Dtype  \n",
      "---  ------         --------------   -----  \n",
      " 0   Date           145460 non-null  object \n",
      " 1   Location       145460 non-null  object \n",
      " 2   MinTemp        143975 non-null  float64\n",
      " 3   MaxTemp        144199 non-null  float64\n",
      " 4   Rainfall       142199 non-null  float64\n",
      " 5   Evaporation    82670 non-null   float64\n",
      " 6   Sunshine       75625 non-null   float64\n",
      " 7   WindGustDir    135134 non-null  object \n",
      " 8   WindGustSpeed  135197 non-null  float64\n",
      " 9   WindDir9am     134894 non-null  object \n",
      " 10  WindDir3pm     141232 non-null  object \n",
      " 11  WindSpeed9am   143693 non-null  float64\n",
      " 12  WindSpeed3pm   142398 non-null  float64\n",
      " 13  Humidity9am    142806 non-null  float64\n",
      " 14  Humidity3pm    140953 non-null  float64\n",
      " 15  Pressure9am    130395 non-null  float64\n",
      " 16  Pressure3pm    130432 non-null  float64\n",
      " 17  Cloud9am       89572 non-null   float64\n",
      " 18  Cloud3pm       86102 non-null   float64\n",
      " 19  Temp9am        143693 non-null  float64\n",
      " 20  Temp3pm        141851 non-null  float64\n",
      " 21  RainToday      142199 non-null  object \n",
      " 22  RainTomorrow   142193 non-null  object \n",
      "dtypes: float64(16), object(7)\n",
      "memory usage: 25.5+ MB\n"
     ]
    }
   ],
   "source": [
    "df.info()"
   ]
  },
  {
   "cell_type": "code",
   "execution_count": 9,
   "metadata": {},
   "outputs": [
    {
     "data": {
      "text/html": [
       "<div>\n",
       "<style scoped>\n",
       "    .dataframe tbody tr th:only-of-type {\n",
       "        vertical-align: middle;\n",
       "    }\n",
       "\n",
       "    .dataframe tbody tr th {\n",
       "        vertical-align: top;\n",
       "    }\n",
       "\n",
       "    .dataframe thead th {\n",
       "        text-align: right;\n",
       "    }\n",
       "</style>\n",
       "<table border=\"1\" class=\"dataframe\">\n",
       "  <thead>\n",
       "    <tr style=\"text-align: right;\">\n",
       "      <th></th>\n",
       "      <th>Date</th>\n",
       "      <th>Location</th>\n",
       "      <th>MinTemp</th>\n",
       "      <th>MaxTemp</th>\n",
       "      <th>Rainfall</th>\n",
       "      <th>Evaporation</th>\n",
       "      <th>Sunshine</th>\n",
       "      <th>WindGustDir</th>\n",
       "      <th>WindGustSpeed</th>\n",
       "      <th>WindDir9am</th>\n",
       "      <th>...</th>\n",
       "      <th>Humidity9am</th>\n",
       "      <th>Humidity3pm</th>\n",
       "      <th>Pressure9am</th>\n",
       "      <th>Pressure3pm</th>\n",
       "      <th>Cloud9am</th>\n",
       "      <th>Cloud3pm</th>\n",
       "      <th>Temp9am</th>\n",
       "      <th>Temp3pm</th>\n",
       "      <th>RainToday</th>\n",
       "      <th>RainTomorrow</th>\n",
       "    </tr>\n",
       "  </thead>\n",
       "  <tbody>\n",
       "    <tr>\n",
       "      <th>0</th>\n",
       "      <td>2008-12-01</td>\n",
       "      <td>Albury</td>\n",
       "      <td>13.4</td>\n",
       "      <td>22.9</td>\n",
       "      <td>0.6</td>\n",
       "      <td>NaN</td>\n",
       "      <td>NaN</td>\n",
       "      <td>W</td>\n",
       "      <td>44.0</td>\n",
       "      <td>W</td>\n",
       "      <td>...</td>\n",
       "      <td>71.0</td>\n",
       "      <td>22.0</td>\n",
       "      <td>1007.7</td>\n",
       "      <td>1007.1</td>\n",
       "      <td>8.0</td>\n",
       "      <td>NaN</td>\n",
       "      <td>16.9</td>\n",
       "      <td>21.8</td>\n",
       "      <td>No</td>\n",
       "      <td>No</td>\n",
       "    </tr>\n",
       "    <tr>\n",
       "      <th>1</th>\n",
       "      <td>2008-12-02</td>\n",
       "      <td>Albury</td>\n",
       "      <td>7.4</td>\n",
       "      <td>25.1</td>\n",
       "      <td>0.0</td>\n",
       "      <td>NaN</td>\n",
       "      <td>NaN</td>\n",
       "      <td>WNW</td>\n",
       "      <td>44.0</td>\n",
       "      <td>NNW</td>\n",
       "      <td>...</td>\n",
       "      <td>44.0</td>\n",
       "      <td>25.0</td>\n",
       "      <td>1010.6</td>\n",
       "      <td>1007.8</td>\n",
       "      <td>NaN</td>\n",
       "      <td>NaN</td>\n",
       "      <td>17.2</td>\n",
       "      <td>24.3</td>\n",
       "      <td>No</td>\n",
       "      <td>No</td>\n",
       "    </tr>\n",
       "    <tr>\n",
       "      <th>2</th>\n",
       "      <td>2008-12-03</td>\n",
       "      <td>Albury</td>\n",
       "      <td>12.9</td>\n",
       "      <td>25.7</td>\n",
       "      <td>0.0</td>\n",
       "      <td>NaN</td>\n",
       "      <td>NaN</td>\n",
       "      <td>WSW</td>\n",
       "      <td>46.0</td>\n",
       "      <td>W</td>\n",
       "      <td>...</td>\n",
       "      <td>38.0</td>\n",
       "      <td>30.0</td>\n",
       "      <td>1007.6</td>\n",
       "      <td>1008.7</td>\n",
       "      <td>NaN</td>\n",
       "      <td>2.0</td>\n",
       "      <td>21.0</td>\n",
       "      <td>23.2</td>\n",
       "      <td>No</td>\n",
       "      <td>No</td>\n",
       "    </tr>\n",
       "    <tr>\n",
       "      <th>3</th>\n",
       "      <td>2008-12-04</td>\n",
       "      <td>Albury</td>\n",
       "      <td>9.2</td>\n",
       "      <td>28.0</td>\n",
       "      <td>0.0</td>\n",
       "      <td>NaN</td>\n",
       "      <td>NaN</td>\n",
       "      <td>NE</td>\n",
       "      <td>24.0</td>\n",
       "      <td>SE</td>\n",
       "      <td>...</td>\n",
       "      <td>45.0</td>\n",
       "      <td>16.0</td>\n",
       "      <td>1017.6</td>\n",
       "      <td>1012.8</td>\n",
       "      <td>NaN</td>\n",
       "      <td>NaN</td>\n",
       "      <td>18.1</td>\n",
       "      <td>26.5</td>\n",
       "      <td>No</td>\n",
       "      <td>No</td>\n",
       "    </tr>\n",
       "    <tr>\n",
       "      <th>4</th>\n",
       "      <td>2008-12-05</td>\n",
       "      <td>Albury</td>\n",
       "      <td>17.5</td>\n",
       "      <td>32.3</td>\n",
       "      <td>1.0</td>\n",
       "      <td>NaN</td>\n",
       "      <td>NaN</td>\n",
       "      <td>W</td>\n",
       "      <td>41.0</td>\n",
       "      <td>ENE</td>\n",
       "      <td>...</td>\n",
       "      <td>82.0</td>\n",
       "      <td>33.0</td>\n",
       "      <td>1010.8</td>\n",
       "      <td>1006.0</td>\n",
       "      <td>7.0</td>\n",
       "      <td>8.0</td>\n",
       "      <td>17.8</td>\n",
       "      <td>29.7</td>\n",
       "      <td>No</td>\n",
       "      <td>No</td>\n",
       "    </tr>\n",
       "    <tr>\n",
       "      <th>...</th>\n",
       "      <td>...</td>\n",
       "      <td>...</td>\n",
       "      <td>...</td>\n",
       "      <td>...</td>\n",
       "      <td>...</td>\n",
       "      <td>...</td>\n",
       "      <td>...</td>\n",
       "      <td>...</td>\n",
       "      <td>...</td>\n",
       "      <td>...</td>\n",
       "      <td>...</td>\n",
       "      <td>...</td>\n",
       "      <td>...</td>\n",
       "      <td>...</td>\n",
       "      <td>...</td>\n",
       "      <td>...</td>\n",
       "      <td>...</td>\n",
       "      <td>...</td>\n",
       "      <td>...</td>\n",
       "      <td>...</td>\n",
       "      <td>...</td>\n",
       "    </tr>\n",
       "    <tr>\n",
       "      <th>145455</th>\n",
       "      <td>2017-06-21</td>\n",
       "      <td>Uluru</td>\n",
       "      <td>2.8</td>\n",
       "      <td>23.4</td>\n",
       "      <td>0.0</td>\n",
       "      <td>NaN</td>\n",
       "      <td>NaN</td>\n",
       "      <td>E</td>\n",
       "      <td>31.0</td>\n",
       "      <td>SE</td>\n",
       "      <td>...</td>\n",
       "      <td>51.0</td>\n",
       "      <td>24.0</td>\n",
       "      <td>1024.6</td>\n",
       "      <td>1020.3</td>\n",
       "      <td>NaN</td>\n",
       "      <td>NaN</td>\n",
       "      <td>10.1</td>\n",
       "      <td>22.4</td>\n",
       "      <td>No</td>\n",
       "      <td>No</td>\n",
       "    </tr>\n",
       "    <tr>\n",
       "      <th>145456</th>\n",
       "      <td>2017-06-22</td>\n",
       "      <td>Uluru</td>\n",
       "      <td>3.6</td>\n",
       "      <td>25.3</td>\n",
       "      <td>0.0</td>\n",
       "      <td>NaN</td>\n",
       "      <td>NaN</td>\n",
       "      <td>NNW</td>\n",
       "      <td>22.0</td>\n",
       "      <td>SE</td>\n",
       "      <td>...</td>\n",
       "      <td>56.0</td>\n",
       "      <td>21.0</td>\n",
       "      <td>1023.5</td>\n",
       "      <td>1019.1</td>\n",
       "      <td>NaN</td>\n",
       "      <td>NaN</td>\n",
       "      <td>10.9</td>\n",
       "      <td>24.5</td>\n",
       "      <td>No</td>\n",
       "      <td>No</td>\n",
       "    </tr>\n",
       "    <tr>\n",
       "      <th>145457</th>\n",
       "      <td>2017-06-23</td>\n",
       "      <td>Uluru</td>\n",
       "      <td>5.4</td>\n",
       "      <td>26.9</td>\n",
       "      <td>0.0</td>\n",
       "      <td>NaN</td>\n",
       "      <td>NaN</td>\n",
       "      <td>N</td>\n",
       "      <td>37.0</td>\n",
       "      <td>SE</td>\n",
       "      <td>...</td>\n",
       "      <td>53.0</td>\n",
       "      <td>24.0</td>\n",
       "      <td>1021.0</td>\n",
       "      <td>1016.8</td>\n",
       "      <td>NaN</td>\n",
       "      <td>NaN</td>\n",
       "      <td>12.5</td>\n",
       "      <td>26.1</td>\n",
       "      <td>No</td>\n",
       "      <td>No</td>\n",
       "    </tr>\n",
       "    <tr>\n",
       "      <th>145458</th>\n",
       "      <td>2017-06-24</td>\n",
       "      <td>Uluru</td>\n",
       "      <td>7.8</td>\n",
       "      <td>27.0</td>\n",
       "      <td>0.0</td>\n",
       "      <td>NaN</td>\n",
       "      <td>NaN</td>\n",
       "      <td>SE</td>\n",
       "      <td>28.0</td>\n",
       "      <td>SSE</td>\n",
       "      <td>...</td>\n",
       "      <td>51.0</td>\n",
       "      <td>24.0</td>\n",
       "      <td>1019.4</td>\n",
       "      <td>1016.5</td>\n",
       "      <td>3.0</td>\n",
       "      <td>2.0</td>\n",
       "      <td>15.1</td>\n",
       "      <td>26.0</td>\n",
       "      <td>No</td>\n",
       "      <td>No</td>\n",
       "    </tr>\n",
       "    <tr>\n",
       "      <th>145459</th>\n",
       "      <td>2017-06-25</td>\n",
       "      <td>Uluru</td>\n",
       "      <td>14.9</td>\n",
       "      <td>NaN</td>\n",
       "      <td>0.0</td>\n",
       "      <td>NaN</td>\n",
       "      <td>NaN</td>\n",
       "      <td>NaN</td>\n",
       "      <td>NaN</td>\n",
       "      <td>ESE</td>\n",
       "      <td>...</td>\n",
       "      <td>62.0</td>\n",
       "      <td>36.0</td>\n",
       "      <td>1020.2</td>\n",
       "      <td>1017.9</td>\n",
       "      <td>8.0</td>\n",
       "      <td>8.0</td>\n",
       "      <td>15.0</td>\n",
       "      <td>20.9</td>\n",
       "      <td>No</td>\n",
       "      <td>NaN</td>\n",
       "    </tr>\n",
       "  </tbody>\n",
       "</table>\n",
       "<p>145460 rows × 23 columns</p>\n",
       "</div>"
      ],
      "text/plain": [
       "              Date Location  MinTemp  MaxTemp  Rainfall  Evaporation  \\\n",
       "0       2008-12-01   Albury     13.4     22.9       0.6          NaN   \n",
       "1       2008-12-02   Albury      7.4     25.1       0.0          NaN   \n",
       "2       2008-12-03   Albury     12.9     25.7       0.0          NaN   \n",
       "3       2008-12-04   Albury      9.2     28.0       0.0          NaN   \n",
       "4       2008-12-05   Albury     17.5     32.3       1.0          NaN   \n",
       "...            ...      ...      ...      ...       ...          ...   \n",
       "145455  2017-06-21    Uluru      2.8     23.4       0.0          NaN   \n",
       "145456  2017-06-22    Uluru      3.6     25.3       0.0          NaN   \n",
       "145457  2017-06-23    Uluru      5.4     26.9       0.0          NaN   \n",
       "145458  2017-06-24    Uluru      7.8     27.0       0.0          NaN   \n",
       "145459  2017-06-25    Uluru     14.9      NaN       0.0          NaN   \n",
       "\n",
       "        Sunshine WindGustDir  WindGustSpeed WindDir9am  ... Humidity9am  \\\n",
       "0            NaN           W           44.0          W  ...        71.0   \n",
       "1            NaN         WNW           44.0        NNW  ...        44.0   \n",
       "2            NaN         WSW           46.0          W  ...        38.0   \n",
       "3            NaN          NE           24.0         SE  ...        45.0   \n",
       "4            NaN           W           41.0        ENE  ...        82.0   \n",
       "...          ...         ...            ...        ...  ...         ...   \n",
       "145455       NaN           E           31.0         SE  ...        51.0   \n",
       "145456       NaN         NNW           22.0         SE  ...        56.0   \n",
       "145457       NaN           N           37.0         SE  ...        53.0   \n",
       "145458       NaN          SE           28.0        SSE  ...        51.0   \n",
       "145459       NaN         NaN            NaN        ESE  ...        62.0   \n",
       "\n",
       "        Humidity3pm  Pressure9am  Pressure3pm  Cloud9am  Cloud3pm  Temp9am  \\\n",
       "0              22.0       1007.7       1007.1       8.0       NaN     16.9   \n",
       "1              25.0       1010.6       1007.8       NaN       NaN     17.2   \n",
       "2              30.0       1007.6       1008.7       NaN       2.0     21.0   \n",
       "3              16.0       1017.6       1012.8       NaN       NaN     18.1   \n",
       "4              33.0       1010.8       1006.0       7.0       8.0     17.8   \n",
       "...             ...          ...          ...       ...       ...      ...   \n",
       "145455         24.0       1024.6       1020.3       NaN       NaN     10.1   \n",
       "145456         21.0       1023.5       1019.1       NaN       NaN     10.9   \n",
       "145457         24.0       1021.0       1016.8       NaN       NaN     12.5   \n",
       "145458         24.0       1019.4       1016.5       3.0       2.0     15.1   \n",
       "145459         36.0       1020.2       1017.9       8.0       8.0     15.0   \n",
       "\n",
       "        Temp3pm  RainToday  RainTomorrow  \n",
       "0          21.8         No            No  \n",
       "1          24.3         No            No  \n",
       "2          23.2         No            No  \n",
       "3          26.5         No            No  \n",
       "4          29.7         No            No  \n",
       "...         ...        ...           ...  \n",
       "145455     22.4         No            No  \n",
       "145456     24.5         No            No  \n",
       "145457     26.1         No            No  \n",
       "145458     26.0         No            No  \n",
       "145459     20.9         No           NaN  \n",
       "\n",
       "[145460 rows x 23 columns]"
      ]
     },
     "execution_count": 9,
     "metadata": {},
     "output_type": "execute_result"
    }
   ],
   "source": [
    "#memperbaiki value jika ada nan yg berbeda\n",
    "df.replace('?', np.NaN)"
   ]
  },
  {
   "cell_type": "code",
   "execution_count": 10,
   "metadata": {},
   "outputs": [
    {
     "data": {
      "text/html": [
       "<div>\n",
       "<style scoped>\n",
       "    .dataframe tbody tr th:only-of-type {\n",
       "        vertical-align: middle;\n",
       "    }\n",
       "\n",
       "    .dataframe tbody tr th {\n",
       "        vertical-align: top;\n",
       "    }\n",
       "\n",
       "    .dataframe thead th {\n",
       "        text-align: right;\n",
       "    }\n",
       "</style>\n",
       "<table border=\"1\" class=\"dataframe\">\n",
       "  <thead>\n",
       "    <tr style=\"text-align: right;\">\n",
       "      <th></th>\n",
       "      <th>count</th>\n",
       "      <th>mean</th>\n",
       "      <th>std</th>\n",
       "      <th>min</th>\n",
       "      <th>25%</th>\n",
       "      <th>50%</th>\n",
       "      <th>75%</th>\n",
       "      <th>max</th>\n",
       "    </tr>\n",
       "  </thead>\n",
       "  <tbody>\n",
       "    <tr>\n",
       "      <th>MinTemp</th>\n",
       "      <td>143975.0</td>\n",
       "      <td>12.194034</td>\n",
       "      <td>6.398495</td>\n",
       "      <td>-8.5</td>\n",
       "      <td>7.6</td>\n",
       "      <td>12.0</td>\n",
       "      <td>16.9</td>\n",
       "      <td>33.9</td>\n",
       "    </tr>\n",
       "    <tr>\n",
       "      <th>MaxTemp</th>\n",
       "      <td>144199.0</td>\n",
       "      <td>23.221348</td>\n",
       "      <td>7.119049</td>\n",
       "      <td>-4.8</td>\n",
       "      <td>17.9</td>\n",
       "      <td>22.6</td>\n",
       "      <td>28.2</td>\n",
       "      <td>48.1</td>\n",
       "    </tr>\n",
       "    <tr>\n",
       "      <th>Rainfall</th>\n",
       "      <td>142199.0</td>\n",
       "      <td>2.360918</td>\n",
       "      <td>8.478060</td>\n",
       "      <td>0.0</td>\n",
       "      <td>0.0</td>\n",
       "      <td>0.0</td>\n",
       "      <td>0.8</td>\n",
       "      <td>371.0</td>\n",
       "    </tr>\n",
       "    <tr>\n",
       "      <th>Evaporation</th>\n",
       "      <td>82670.0</td>\n",
       "      <td>5.468232</td>\n",
       "      <td>4.193704</td>\n",
       "      <td>0.0</td>\n",
       "      <td>2.6</td>\n",
       "      <td>4.8</td>\n",
       "      <td>7.4</td>\n",
       "      <td>145.0</td>\n",
       "    </tr>\n",
       "    <tr>\n",
       "      <th>Sunshine</th>\n",
       "      <td>75625.0</td>\n",
       "      <td>7.611178</td>\n",
       "      <td>3.785483</td>\n",
       "      <td>0.0</td>\n",
       "      <td>4.8</td>\n",
       "      <td>8.4</td>\n",
       "      <td>10.6</td>\n",
       "      <td>14.5</td>\n",
       "    </tr>\n",
       "    <tr>\n",
       "      <th>WindGustSpeed</th>\n",
       "      <td>135197.0</td>\n",
       "      <td>40.035230</td>\n",
       "      <td>13.607062</td>\n",
       "      <td>6.0</td>\n",
       "      <td>31.0</td>\n",
       "      <td>39.0</td>\n",
       "      <td>48.0</td>\n",
       "      <td>135.0</td>\n",
       "    </tr>\n",
       "    <tr>\n",
       "      <th>WindSpeed9am</th>\n",
       "      <td>143693.0</td>\n",
       "      <td>14.043426</td>\n",
       "      <td>8.915375</td>\n",
       "      <td>0.0</td>\n",
       "      <td>7.0</td>\n",
       "      <td>13.0</td>\n",
       "      <td>19.0</td>\n",
       "      <td>130.0</td>\n",
       "    </tr>\n",
       "    <tr>\n",
       "      <th>WindSpeed3pm</th>\n",
       "      <td>142398.0</td>\n",
       "      <td>18.662657</td>\n",
       "      <td>8.809800</td>\n",
       "      <td>0.0</td>\n",
       "      <td>13.0</td>\n",
       "      <td>19.0</td>\n",
       "      <td>24.0</td>\n",
       "      <td>87.0</td>\n",
       "    </tr>\n",
       "    <tr>\n",
       "      <th>Humidity9am</th>\n",
       "      <td>142806.0</td>\n",
       "      <td>68.880831</td>\n",
       "      <td>19.029164</td>\n",
       "      <td>0.0</td>\n",
       "      <td>57.0</td>\n",
       "      <td>70.0</td>\n",
       "      <td>83.0</td>\n",
       "      <td>100.0</td>\n",
       "    </tr>\n",
       "    <tr>\n",
       "      <th>Humidity3pm</th>\n",
       "      <td>140953.0</td>\n",
       "      <td>51.539116</td>\n",
       "      <td>20.795902</td>\n",
       "      <td>0.0</td>\n",
       "      <td>37.0</td>\n",
       "      <td>52.0</td>\n",
       "      <td>66.0</td>\n",
       "      <td>100.0</td>\n",
       "    </tr>\n",
       "    <tr>\n",
       "      <th>Pressure9am</th>\n",
       "      <td>130395.0</td>\n",
       "      <td>1017.649940</td>\n",
       "      <td>7.106530</td>\n",
       "      <td>980.5</td>\n",
       "      <td>1012.9</td>\n",
       "      <td>1017.6</td>\n",
       "      <td>1022.4</td>\n",
       "      <td>1041.0</td>\n",
       "    </tr>\n",
       "    <tr>\n",
       "      <th>Pressure3pm</th>\n",
       "      <td>130432.0</td>\n",
       "      <td>1015.255889</td>\n",
       "      <td>7.037414</td>\n",
       "      <td>977.1</td>\n",
       "      <td>1010.4</td>\n",
       "      <td>1015.2</td>\n",
       "      <td>1020.0</td>\n",
       "      <td>1039.6</td>\n",
       "    </tr>\n",
       "    <tr>\n",
       "      <th>Cloud9am</th>\n",
       "      <td>89572.0</td>\n",
       "      <td>4.447461</td>\n",
       "      <td>2.887159</td>\n",
       "      <td>0.0</td>\n",
       "      <td>1.0</td>\n",
       "      <td>5.0</td>\n",
       "      <td>7.0</td>\n",
       "      <td>9.0</td>\n",
       "    </tr>\n",
       "    <tr>\n",
       "      <th>Cloud3pm</th>\n",
       "      <td>86102.0</td>\n",
       "      <td>4.509930</td>\n",
       "      <td>2.720357</td>\n",
       "      <td>0.0</td>\n",
       "      <td>2.0</td>\n",
       "      <td>5.0</td>\n",
       "      <td>7.0</td>\n",
       "      <td>9.0</td>\n",
       "    </tr>\n",
       "    <tr>\n",
       "      <th>Temp9am</th>\n",
       "      <td>143693.0</td>\n",
       "      <td>16.990631</td>\n",
       "      <td>6.488753</td>\n",
       "      <td>-7.2</td>\n",
       "      <td>12.3</td>\n",
       "      <td>16.7</td>\n",
       "      <td>21.6</td>\n",
       "      <td>40.2</td>\n",
       "    </tr>\n",
       "    <tr>\n",
       "      <th>Temp3pm</th>\n",
       "      <td>141851.0</td>\n",
       "      <td>21.683390</td>\n",
       "      <td>6.936650</td>\n",
       "      <td>-5.4</td>\n",
       "      <td>16.6</td>\n",
       "      <td>21.1</td>\n",
       "      <td>26.4</td>\n",
       "      <td>46.7</td>\n",
       "    </tr>\n",
       "  </tbody>\n",
       "</table>\n",
       "</div>"
      ],
      "text/plain": [
       "                  count         mean        std    min     25%     50%  \\\n",
       "MinTemp        143975.0    12.194034   6.398495   -8.5     7.6    12.0   \n",
       "MaxTemp        144199.0    23.221348   7.119049   -4.8    17.9    22.6   \n",
       "Rainfall       142199.0     2.360918   8.478060    0.0     0.0     0.0   \n",
       "Evaporation     82670.0     5.468232   4.193704    0.0     2.6     4.8   \n",
       "Sunshine        75625.0     7.611178   3.785483    0.0     4.8     8.4   \n",
       "WindGustSpeed  135197.0    40.035230  13.607062    6.0    31.0    39.0   \n",
       "WindSpeed9am   143693.0    14.043426   8.915375    0.0     7.0    13.0   \n",
       "WindSpeed3pm   142398.0    18.662657   8.809800    0.0    13.0    19.0   \n",
       "Humidity9am    142806.0    68.880831  19.029164    0.0    57.0    70.0   \n",
       "Humidity3pm    140953.0    51.539116  20.795902    0.0    37.0    52.0   \n",
       "Pressure9am    130395.0  1017.649940   7.106530  980.5  1012.9  1017.6   \n",
       "Pressure3pm    130432.0  1015.255889   7.037414  977.1  1010.4  1015.2   \n",
       "Cloud9am        89572.0     4.447461   2.887159    0.0     1.0     5.0   \n",
       "Cloud3pm        86102.0     4.509930   2.720357    0.0     2.0     5.0   \n",
       "Temp9am        143693.0    16.990631   6.488753   -7.2    12.3    16.7   \n",
       "Temp3pm        141851.0    21.683390   6.936650   -5.4    16.6    21.1   \n",
       "\n",
       "                  75%     max  \n",
       "MinTemp          16.9    33.9  \n",
       "MaxTemp          28.2    48.1  \n",
       "Rainfall          0.8   371.0  \n",
       "Evaporation       7.4   145.0  \n",
       "Sunshine         10.6    14.5  \n",
       "WindGustSpeed    48.0   135.0  \n",
       "WindSpeed9am     19.0   130.0  \n",
       "WindSpeed3pm     24.0    87.0  \n",
       "Humidity9am      83.0   100.0  \n",
       "Humidity3pm      66.0   100.0  \n",
       "Pressure9am    1022.4  1041.0  \n",
       "Pressure3pm    1020.0  1039.6  \n",
       "Cloud9am          7.0     9.0  \n",
       "Cloud3pm          7.0     9.0  \n",
       "Temp9am          21.6    40.2  \n",
       "Temp3pm          26.4    46.7  "
      ]
     },
     "execution_count": 10,
     "metadata": {},
     "output_type": "execute_result"
    }
   ],
   "source": [
    "df.describe().T"
   ]
  },
  {
   "cell_type": "markdown",
   "metadata": {},
   "source": [
    "- Date, Location ,RainToday dan RainTomorow tidak muncul karena beratribut 'object'"
   ]
  },
  {
   "cell_type": "code",
   "execution_count": 11,
   "metadata": {},
   "outputs": [
    {
     "data": {
      "text/html": [
       "<div>\n",
       "<style scoped>\n",
       "    .dataframe tbody tr th:only-of-type {\n",
       "        vertical-align: middle;\n",
       "    }\n",
       "\n",
       "    .dataframe tbody tr th {\n",
       "        vertical-align: top;\n",
       "    }\n",
       "\n",
       "    .dataframe thead th {\n",
       "        text-align: right;\n",
       "    }\n",
       "</style>\n",
       "<table border=\"1\" class=\"dataframe\">\n",
       "  <thead>\n",
       "    <tr style=\"text-align: right;\">\n",
       "      <th></th>\n",
       "      <th>count</th>\n",
       "      <th>unique</th>\n",
       "      <th>top</th>\n",
       "      <th>freq</th>\n",
       "      <th>mean</th>\n",
       "      <th>std</th>\n",
       "      <th>min</th>\n",
       "      <th>25%</th>\n",
       "      <th>50%</th>\n",
       "      <th>75%</th>\n",
       "      <th>max</th>\n",
       "    </tr>\n",
       "  </thead>\n",
       "  <tbody>\n",
       "    <tr>\n",
       "      <th>Date</th>\n",
       "      <td>145460</td>\n",
       "      <td>3436</td>\n",
       "      <td>2013-11-12</td>\n",
       "      <td>49</td>\n",
       "      <td>NaN</td>\n",
       "      <td>NaN</td>\n",
       "      <td>NaN</td>\n",
       "      <td>NaN</td>\n",
       "      <td>NaN</td>\n",
       "      <td>NaN</td>\n",
       "      <td>NaN</td>\n",
       "    </tr>\n",
       "    <tr>\n",
       "      <th>Location</th>\n",
       "      <td>145460</td>\n",
       "      <td>49</td>\n",
       "      <td>Canberra</td>\n",
       "      <td>3436</td>\n",
       "      <td>NaN</td>\n",
       "      <td>NaN</td>\n",
       "      <td>NaN</td>\n",
       "      <td>NaN</td>\n",
       "      <td>NaN</td>\n",
       "      <td>NaN</td>\n",
       "      <td>NaN</td>\n",
       "    </tr>\n",
       "    <tr>\n",
       "      <th>MinTemp</th>\n",
       "      <td>143975.0</td>\n",
       "      <td>NaN</td>\n",
       "      <td>NaN</td>\n",
       "      <td>NaN</td>\n",
       "      <td>12.194034</td>\n",
       "      <td>6.398495</td>\n",
       "      <td>-8.5</td>\n",
       "      <td>7.6</td>\n",
       "      <td>12.0</td>\n",
       "      <td>16.9</td>\n",
       "      <td>33.9</td>\n",
       "    </tr>\n",
       "    <tr>\n",
       "      <th>MaxTemp</th>\n",
       "      <td>144199.0</td>\n",
       "      <td>NaN</td>\n",
       "      <td>NaN</td>\n",
       "      <td>NaN</td>\n",
       "      <td>23.221348</td>\n",
       "      <td>7.119049</td>\n",
       "      <td>-4.8</td>\n",
       "      <td>17.9</td>\n",
       "      <td>22.6</td>\n",
       "      <td>28.2</td>\n",
       "      <td>48.1</td>\n",
       "    </tr>\n",
       "    <tr>\n",
       "      <th>Rainfall</th>\n",
       "      <td>142199.0</td>\n",
       "      <td>NaN</td>\n",
       "      <td>NaN</td>\n",
       "      <td>NaN</td>\n",
       "      <td>2.360918</td>\n",
       "      <td>8.47806</td>\n",
       "      <td>0.0</td>\n",
       "      <td>0.0</td>\n",
       "      <td>0.0</td>\n",
       "      <td>0.8</td>\n",
       "      <td>371.0</td>\n",
       "    </tr>\n",
       "    <tr>\n",
       "      <th>Evaporation</th>\n",
       "      <td>82670.0</td>\n",
       "      <td>NaN</td>\n",
       "      <td>NaN</td>\n",
       "      <td>NaN</td>\n",
       "      <td>5.468232</td>\n",
       "      <td>4.193704</td>\n",
       "      <td>0.0</td>\n",
       "      <td>2.6</td>\n",
       "      <td>4.8</td>\n",
       "      <td>7.4</td>\n",
       "      <td>145.0</td>\n",
       "    </tr>\n",
       "    <tr>\n",
       "      <th>Sunshine</th>\n",
       "      <td>75625.0</td>\n",
       "      <td>NaN</td>\n",
       "      <td>NaN</td>\n",
       "      <td>NaN</td>\n",
       "      <td>7.611178</td>\n",
       "      <td>3.785483</td>\n",
       "      <td>0.0</td>\n",
       "      <td>4.8</td>\n",
       "      <td>8.4</td>\n",
       "      <td>10.6</td>\n",
       "      <td>14.5</td>\n",
       "    </tr>\n",
       "    <tr>\n",
       "      <th>WindGustDir</th>\n",
       "      <td>135134</td>\n",
       "      <td>16</td>\n",
       "      <td>W</td>\n",
       "      <td>9915</td>\n",
       "      <td>NaN</td>\n",
       "      <td>NaN</td>\n",
       "      <td>NaN</td>\n",
       "      <td>NaN</td>\n",
       "      <td>NaN</td>\n",
       "      <td>NaN</td>\n",
       "      <td>NaN</td>\n",
       "    </tr>\n",
       "    <tr>\n",
       "      <th>WindGustSpeed</th>\n",
       "      <td>135197.0</td>\n",
       "      <td>NaN</td>\n",
       "      <td>NaN</td>\n",
       "      <td>NaN</td>\n",
       "      <td>40.03523</td>\n",
       "      <td>13.607062</td>\n",
       "      <td>6.0</td>\n",
       "      <td>31.0</td>\n",
       "      <td>39.0</td>\n",
       "      <td>48.0</td>\n",
       "      <td>135.0</td>\n",
       "    </tr>\n",
       "    <tr>\n",
       "      <th>WindDir9am</th>\n",
       "      <td>134894</td>\n",
       "      <td>16</td>\n",
       "      <td>N</td>\n",
       "      <td>11758</td>\n",
       "      <td>NaN</td>\n",
       "      <td>NaN</td>\n",
       "      <td>NaN</td>\n",
       "      <td>NaN</td>\n",
       "      <td>NaN</td>\n",
       "      <td>NaN</td>\n",
       "      <td>NaN</td>\n",
       "    </tr>\n",
       "    <tr>\n",
       "      <th>WindDir3pm</th>\n",
       "      <td>141232</td>\n",
       "      <td>16</td>\n",
       "      <td>SE</td>\n",
       "      <td>10838</td>\n",
       "      <td>NaN</td>\n",
       "      <td>NaN</td>\n",
       "      <td>NaN</td>\n",
       "      <td>NaN</td>\n",
       "      <td>NaN</td>\n",
       "      <td>NaN</td>\n",
       "      <td>NaN</td>\n",
       "    </tr>\n",
       "    <tr>\n",
       "      <th>WindSpeed9am</th>\n",
       "      <td>143693.0</td>\n",
       "      <td>NaN</td>\n",
       "      <td>NaN</td>\n",
       "      <td>NaN</td>\n",
       "      <td>14.043426</td>\n",
       "      <td>8.915375</td>\n",
       "      <td>0.0</td>\n",
       "      <td>7.0</td>\n",
       "      <td>13.0</td>\n",
       "      <td>19.0</td>\n",
       "      <td>130.0</td>\n",
       "    </tr>\n",
       "    <tr>\n",
       "      <th>WindSpeed3pm</th>\n",
       "      <td>142398.0</td>\n",
       "      <td>NaN</td>\n",
       "      <td>NaN</td>\n",
       "      <td>NaN</td>\n",
       "      <td>18.662657</td>\n",
       "      <td>8.8098</td>\n",
       "      <td>0.0</td>\n",
       "      <td>13.0</td>\n",
       "      <td>19.0</td>\n",
       "      <td>24.0</td>\n",
       "      <td>87.0</td>\n",
       "    </tr>\n",
       "    <tr>\n",
       "      <th>Humidity9am</th>\n",
       "      <td>142806.0</td>\n",
       "      <td>NaN</td>\n",
       "      <td>NaN</td>\n",
       "      <td>NaN</td>\n",
       "      <td>68.880831</td>\n",
       "      <td>19.029164</td>\n",
       "      <td>0.0</td>\n",
       "      <td>57.0</td>\n",
       "      <td>70.0</td>\n",
       "      <td>83.0</td>\n",
       "      <td>100.0</td>\n",
       "    </tr>\n",
       "    <tr>\n",
       "      <th>Humidity3pm</th>\n",
       "      <td>140953.0</td>\n",
       "      <td>NaN</td>\n",
       "      <td>NaN</td>\n",
       "      <td>NaN</td>\n",
       "      <td>51.539116</td>\n",
       "      <td>20.795902</td>\n",
       "      <td>0.0</td>\n",
       "      <td>37.0</td>\n",
       "      <td>52.0</td>\n",
       "      <td>66.0</td>\n",
       "      <td>100.0</td>\n",
       "    </tr>\n",
       "    <tr>\n",
       "      <th>Pressure9am</th>\n",
       "      <td>130395.0</td>\n",
       "      <td>NaN</td>\n",
       "      <td>NaN</td>\n",
       "      <td>NaN</td>\n",
       "      <td>1017.64994</td>\n",
       "      <td>7.10653</td>\n",
       "      <td>980.5</td>\n",
       "      <td>1012.9</td>\n",
       "      <td>1017.6</td>\n",
       "      <td>1022.4</td>\n",
       "      <td>1041.0</td>\n",
       "    </tr>\n",
       "    <tr>\n",
       "      <th>Pressure3pm</th>\n",
       "      <td>130432.0</td>\n",
       "      <td>NaN</td>\n",
       "      <td>NaN</td>\n",
       "      <td>NaN</td>\n",
       "      <td>1015.255889</td>\n",
       "      <td>7.037414</td>\n",
       "      <td>977.1</td>\n",
       "      <td>1010.4</td>\n",
       "      <td>1015.2</td>\n",
       "      <td>1020.0</td>\n",
       "      <td>1039.6</td>\n",
       "    </tr>\n",
       "    <tr>\n",
       "      <th>Cloud9am</th>\n",
       "      <td>89572.0</td>\n",
       "      <td>NaN</td>\n",
       "      <td>NaN</td>\n",
       "      <td>NaN</td>\n",
       "      <td>4.447461</td>\n",
       "      <td>2.887159</td>\n",
       "      <td>0.0</td>\n",
       "      <td>1.0</td>\n",
       "      <td>5.0</td>\n",
       "      <td>7.0</td>\n",
       "      <td>9.0</td>\n",
       "    </tr>\n",
       "    <tr>\n",
       "      <th>Cloud3pm</th>\n",
       "      <td>86102.0</td>\n",
       "      <td>NaN</td>\n",
       "      <td>NaN</td>\n",
       "      <td>NaN</td>\n",
       "      <td>4.50993</td>\n",
       "      <td>2.720357</td>\n",
       "      <td>0.0</td>\n",
       "      <td>2.0</td>\n",
       "      <td>5.0</td>\n",
       "      <td>7.0</td>\n",
       "      <td>9.0</td>\n",
       "    </tr>\n",
       "    <tr>\n",
       "      <th>Temp9am</th>\n",
       "      <td>143693.0</td>\n",
       "      <td>NaN</td>\n",
       "      <td>NaN</td>\n",
       "      <td>NaN</td>\n",
       "      <td>16.990631</td>\n",
       "      <td>6.488753</td>\n",
       "      <td>-7.2</td>\n",
       "      <td>12.3</td>\n",
       "      <td>16.7</td>\n",
       "      <td>21.6</td>\n",
       "      <td>40.2</td>\n",
       "    </tr>\n",
       "    <tr>\n",
       "      <th>Temp3pm</th>\n",
       "      <td>141851.0</td>\n",
       "      <td>NaN</td>\n",
       "      <td>NaN</td>\n",
       "      <td>NaN</td>\n",
       "      <td>21.68339</td>\n",
       "      <td>6.93665</td>\n",
       "      <td>-5.4</td>\n",
       "      <td>16.6</td>\n",
       "      <td>21.1</td>\n",
       "      <td>26.4</td>\n",
       "      <td>46.7</td>\n",
       "    </tr>\n",
       "    <tr>\n",
       "      <th>RainToday</th>\n",
       "      <td>142199</td>\n",
       "      <td>2</td>\n",
       "      <td>No</td>\n",
       "      <td>110319</td>\n",
       "      <td>NaN</td>\n",
       "      <td>NaN</td>\n",
       "      <td>NaN</td>\n",
       "      <td>NaN</td>\n",
       "      <td>NaN</td>\n",
       "      <td>NaN</td>\n",
       "      <td>NaN</td>\n",
       "    </tr>\n",
       "    <tr>\n",
       "      <th>RainTomorrow</th>\n",
       "      <td>142193</td>\n",
       "      <td>2</td>\n",
       "      <td>No</td>\n",
       "      <td>110316</td>\n",
       "      <td>NaN</td>\n",
       "      <td>NaN</td>\n",
       "      <td>NaN</td>\n",
       "      <td>NaN</td>\n",
       "      <td>NaN</td>\n",
       "      <td>NaN</td>\n",
       "      <td>NaN</td>\n",
       "    </tr>\n",
       "  </tbody>\n",
       "</table>\n",
       "</div>"
      ],
      "text/plain": [
       "                  count unique         top    freq         mean        std  \\\n",
       "Date             145460   3436  2013-11-12      49          NaN        NaN   \n",
       "Location         145460     49    Canberra    3436          NaN        NaN   \n",
       "MinTemp        143975.0    NaN         NaN     NaN    12.194034   6.398495   \n",
       "MaxTemp        144199.0    NaN         NaN     NaN    23.221348   7.119049   \n",
       "Rainfall       142199.0    NaN         NaN     NaN     2.360918    8.47806   \n",
       "Evaporation     82670.0    NaN         NaN     NaN     5.468232   4.193704   \n",
       "Sunshine        75625.0    NaN         NaN     NaN     7.611178   3.785483   \n",
       "WindGustDir      135134     16           W    9915          NaN        NaN   \n",
       "WindGustSpeed  135197.0    NaN         NaN     NaN     40.03523  13.607062   \n",
       "WindDir9am       134894     16           N   11758          NaN        NaN   \n",
       "WindDir3pm       141232     16          SE   10838          NaN        NaN   \n",
       "WindSpeed9am   143693.0    NaN         NaN     NaN    14.043426   8.915375   \n",
       "WindSpeed3pm   142398.0    NaN         NaN     NaN    18.662657     8.8098   \n",
       "Humidity9am    142806.0    NaN         NaN     NaN    68.880831  19.029164   \n",
       "Humidity3pm    140953.0    NaN         NaN     NaN    51.539116  20.795902   \n",
       "Pressure9am    130395.0    NaN         NaN     NaN   1017.64994    7.10653   \n",
       "Pressure3pm    130432.0    NaN         NaN     NaN  1015.255889   7.037414   \n",
       "Cloud9am        89572.0    NaN         NaN     NaN     4.447461   2.887159   \n",
       "Cloud3pm        86102.0    NaN         NaN     NaN      4.50993   2.720357   \n",
       "Temp9am        143693.0    NaN         NaN     NaN    16.990631   6.488753   \n",
       "Temp3pm        141851.0    NaN         NaN     NaN     21.68339    6.93665   \n",
       "RainToday        142199      2          No  110319          NaN        NaN   \n",
       "RainTomorrow     142193      2          No  110316          NaN        NaN   \n",
       "\n",
       "                 min     25%     50%     75%     max  \n",
       "Date             NaN     NaN     NaN     NaN     NaN  \n",
       "Location         NaN     NaN     NaN     NaN     NaN  \n",
       "MinTemp         -8.5     7.6    12.0    16.9    33.9  \n",
       "MaxTemp         -4.8    17.9    22.6    28.2    48.1  \n",
       "Rainfall         0.0     0.0     0.0     0.8   371.0  \n",
       "Evaporation      0.0     2.6     4.8     7.4   145.0  \n",
       "Sunshine         0.0     4.8     8.4    10.6    14.5  \n",
       "WindGustDir      NaN     NaN     NaN     NaN     NaN  \n",
       "WindGustSpeed    6.0    31.0    39.0    48.0   135.0  \n",
       "WindDir9am       NaN     NaN     NaN     NaN     NaN  \n",
       "WindDir3pm       NaN     NaN     NaN     NaN     NaN  \n",
       "WindSpeed9am     0.0     7.0    13.0    19.0   130.0  \n",
       "WindSpeed3pm     0.0    13.0    19.0    24.0    87.0  \n",
       "Humidity9am      0.0    57.0    70.0    83.0   100.0  \n",
       "Humidity3pm      0.0    37.0    52.0    66.0   100.0  \n",
       "Pressure9am    980.5  1012.9  1017.6  1022.4  1041.0  \n",
       "Pressure3pm    977.1  1010.4  1015.2  1020.0  1039.6  \n",
       "Cloud9am         0.0     1.0     5.0     7.0     9.0  \n",
       "Cloud3pm         0.0     2.0     5.0     7.0     9.0  \n",
       "Temp9am         -7.2    12.3    16.7    21.6    40.2  \n",
       "Temp3pm         -5.4    16.6    21.1    26.4    46.7  \n",
       "RainToday        NaN     NaN     NaN     NaN     NaN  \n",
       "RainTomorrow     NaN     NaN     NaN     NaN     NaN  "
      ]
     },
     "execution_count": 11,
     "metadata": {},
     "output_type": "execute_result"
    }
   ],
   "source": [
    "df.describe(include='all').T"
   ]
  },
  {
   "cell_type": "code",
   "execution_count": 12,
   "metadata": {},
   "outputs": [
    {
     "data": {
      "text/plain": [
       "Date             3436\n",
       "Location           49\n",
       "MinTemp           389\n",
       "MaxTemp           505\n",
       "Rainfall          681\n",
       "Evaporation       358\n",
       "Sunshine          145\n",
       "WindGustDir        16\n",
       "WindGustSpeed      67\n",
       "WindDir9am         16\n",
       "WindDir3pm         16\n",
       "WindSpeed9am       43\n",
       "WindSpeed3pm       44\n",
       "Humidity9am       101\n",
       "Humidity3pm       101\n",
       "Pressure9am       546\n",
       "Pressure3pm       549\n",
       "Cloud9am           10\n",
       "Cloud3pm           10\n",
       "Temp9am           441\n",
       "Temp3pm           502\n",
       "RainToday           2\n",
       "RainTomorrow        2\n",
       "dtype: int64"
      ]
     },
     "execution_count": 12,
     "metadata": {},
     "output_type": "execute_result"
    }
   ],
   "source": [
    "# melihat unique value\n",
    "df.nunique()"
   ]
  },
  {
   "cell_type": "code",
   "execution_count": 13,
   "metadata": {},
   "outputs": [
    {
     "data": {
      "text/plain": [
       "Date                 0\n",
       "Location             0\n",
       "MinTemp           1485\n",
       "MaxTemp           1261\n",
       "Rainfall          3261\n",
       "Evaporation      62790\n",
       "Sunshine         69835\n",
       "WindGustDir      10326\n",
       "WindGustSpeed    10263\n",
       "WindDir9am       10566\n",
       "WindDir3pm        4228\n",
       "WindSpeed9am      1767\n",
       "WindSpeed3pm      3062\n",
       "Humidity9am       2654\n",
       "Humidity3pm       4507\n",
       "Pressure9am      15065\n",
       "Pressure3pm      15028\n",
       "Cloud9am         55888\n",
       "Cloud3pm         59358\n",
       "Temp9am           1767\n",
       "Temp3pm           3609\n",
       "RainToday         3261\n",
       "RainTomorrow      3267\n",
       "dtype: int64"
      ]
     },
     "execution_count": 13,
     "metadata": {},
     "output_type": "execute_result"
    }
   ],
   "source": [
    "# mengecek missing value\n",
    "df.isnull().sum()"
   ]
  },
  {
   "cell_type": "code",
   "execution_count": 14,
   "metadata": {},
   "outputs": [
    {
     "name": "stdout",
     "output_type": "stream",
     "text": [
      "<class 'pandas.core.frame.DataFrame'>\n",
      "RangeIndex: 145460 entries, 0 to 145459\n",
      "Data columns (total 23 columns):\n",
      " #   Column         Non-Null Count   Dtype  \n",
      "---  ------         --------------   -----  \n",
      " 0   Date           145460 non-null  object \n",
      " 1   Location       145460 non-null  object \n",
      " 2   MinTemp        143975 non-null  float64\n",
      " 3   MaxTemp        144199 non-null  float64\n",
      " 4   Rainfall       142199 non-null  float64\n",
      " 5   Evaporation    82670 non-null   float64\n",
      " 6   Sunshine       75625 non-null   float64\n",
      " 7   WindGustDir    135134 non-null  object \n",
      " 8   WindGustSpeed  135197 non-null  float64\n",
      " 9   WindDir9am     134894 non-null  object \n",
      " 10  WindDir3pm     141232 non-null  object \n",
      " 11  WindSpeed9am   143693 non-null  float64\n",
      " 12  WindSpeed3pm   142398 non-null  float64\n",
      " 13  Humidity9am    142806 non-null  float64\n",
      " 14  Humidity3pm    140953 non-null  float64\n",
      " 15  Pressure9am    130395 non-null  float64\n",
      " 16  Pressure3pm    130432 non-null  float64\n",
      " 17  Cloud9am       89572 non-null   float64\n",
      " 18  Cloud3pm       86102 non-null   float64\n",
      " 19  Temp9am        143693 non-null  float64\n",
      " 20  Temp3pm        141851 non-null  float64\n",
      " 21  RainToday      142199 non-null  object \n",
      " 22  RainTomorrow   142193 non-null  object \n",
      "dtypes: float64(16), object(7)\n",
      "memory usage: 25.5+ MB\n"
     ]
    }
   ],
   "source": [
    "df.info()"
   ]
  },
  {
   "cell_type": "code",
   "execution_count": 15,
   "metadata": {},
   "outputs": [
    {
     "data": {
      "text/plain": [
       "<AxesSubplot:>"
      ]
     },
     "execution_count": 15,
     "metadata": {},
     "output_type": "execute_result"
    },
    {
     "data": {
      "image/png": "[encoded data removed]",
      "text/plain": [
       "<Figure size 1800x720 with 2 Axes>"
      ]
     },
     "metadata": {
      "needs_background": "light"
     },
     "output_type": "display_data"
    }
   ],
   "source": [
    "#Visualisasikan Missing value\n",
    "msno.matrix(df)"
   ]
  },
  {
   "cell_type": "markdown",
   "metadata": {},
   "source": [
    "> Terdapat banyak sekali missing value di dataset yang kita gunakan."
   ]
  },
  {
   "cell_type": "code",
   "execution_count": 16,
   "metadata": {},
   "outputs": [
    {
     "data": {
      "text/plain": [
       "<AxesSubplot:>"
      ]
     },
     "execution_count": 16,
     "metadata": {},
     "output_type": "execute_result"
    },
    {
     "data": {
      "image/png": "[encoded data removed]",
      "text/plain": [
       "<Figure size 1800x720 with 3 Axes>"
      ]
     },
     "metadata": {
      "needs_background": "light"
     },
     "output_type": "display_data"
    }
   ],
   "source": [
    "msno.bar(df, sort='ascending')"
   ]
  },
  {
   "cell_type": "code",
   "execution_count": 17,
   "metadata": {},
   "outputs": [
    {
     "data": {
      "text/plain": [
       "Date              0.000000\n",
       "Location          0.000000\n",
       "MinTemp           1.020899\n",
       "MaxTemp           0.866905\n",
       "Rainfall          2.241853\n",
       "Evaporation      43.166506\n",
       "Sunshine         48.009762\n",
       "WindGustDir       7.098859\n",
       "WindGustSpeed     7.055548\n",
       "WindDir9am        7.263853\n",
       "WindDir3pm        2.906641\n",
       "WindSpeed9am      1.214767\n",
       "WindSpeed3pm      2.105046\n",
       "Humidity9am       1.824557\n",
       "Humidity3pm       3.098446\n",
       "Pressure9am      10.356799\n",
       "Pressure3pm      10.331363\n",
       "Cloud9am         38.421559\n",
       "Cloud3pm         40.807095\n",
       "Temp9am           1.214767\n",
       "Temp3pm           2.481094\n",
       "RainToday         2.241853\n",
       "RainTomorrow      2.245978\n",
       "dtype: float64"
      ]
     },
     "execution_count": 17,
     "metadata": {},
     "output_type": "execute_result"
    }
   ],
   "source": [
    "#Checking percentage of missing data in every column\n",
    "\n",
    "(df.isnull().sum()/len(df))*100"
   ]
  },
  {
   "cell_type": "code",
   "execution_count": 18,
   "metadata": {},
   "outputs": [
    {
     "data": {
      "text/plain": [
       "<AxesSubplot:>"
      ]
     },
     "execution_count": 18,
     "metadata": {},
     "output_type": "execute_result"
    },
    {
     "data": {
      "image/png": "[encoded data removed]",
      "text/plain": [
       "<Figure size 1440x864 with 2 Axes>"
      ]
     },
     "metadata": {
      "needs_background": "light"
     },
     "output_type": "display_data"
    }
   ],
   "source": [
    "msno.heatmap(df)"
   ]
  },
  {
   "cell_type": "markdown",
   "metadata": {},
   "source": [
    "# 5. Data Preprocessing\n",
    "> Bagian ini berisi proses penyiapan data untuk proses pelatihan model, seperti pembagian data menjadi train-dev-test, transformasi data (normalisasi, encoding, dll.), dan proses-proses lain yang dibutuhkan."
   ]
  },
  {
   "cell_type": "markdown",
   "metadata": {},
   "source": [
    "## Feature Engineering"
   ]
  },
  {
   "cell_type": "code",
   "execution_count": 19,
   "metadata": {},
   "outputs": [
    {
     "name": "stdout",
     "output_type": "stream",
     "text": [
      "Numerical Columns: ['MinTemp', 'MaxTemp', 'Rainfall', 'Evaporation', 'Sunshine', 'WindGustSpeed', 'WindSpeed9am', 'WindSpeed3pm', 'Humidity9am', 'Humidity3pm', 'Pressure9am', 'Pressure3pm', 'Cloud9am', 'Cloud3pm', 'Temp9am', 'Temp3pm']\n",
      "Categorical Columns: ['Date', 'Location', 'WindGustDir', 'WindDir9am', 'WindDir3pm', 'RainToday', 'RainTomorrow']\n"
     ]
    }
   ],
   "source": [
    "# find categorical variables\n",
    "\n",
    "num_cols = [col for col in df.columns if df[col].dtypes != 'O']\n",
    "cat_cols = [col for col in df.columns if df[col].dtypes == 'O']\n",
    "\n",
    "print('Numerical Columns:', num_cols)\n",
    "print('Categorical Columns:', cat_cols)\n"
   ]
  },
  {
   "cell_type": "code",
   "execution_count": 20,
   "metadata": {},
   "outputs": [
    {
     "name": "stdout",
     "output_type": "stream",
     "text": [
      "Date  contains  3436  labels\n",
      "Location  contains  49  labels\n",
      "WindGustDir  contains  17  labels\n",
      "WindDir9am  contains  17  labels\n",
      "WindDir3pm  contains  17  labels\n",
      "RainToday  contains  3  labels\n",
      "RainTomorrow  contains  3  labels\n"
     ]
    }
   ],
   "source": [
    "# melihat cardinality dari feature, semakin tinggi cardinality menjadikan model kita semakin tidak baik\n",
    "\n",
    "for var in cat_cols:\n",
    "    \n",
    "    print(var, ' contains ', len(df[var].unique()), ' labels')"
   ]
  },
  {
   "cell_type": "code",
   "execution_count": 21,
   "metadata": {},
   "outputs": [
    {
     "data": {
      "text/plain": [
       "dtype('O')"
      ]
     },
     "execution_count": 21,
     "metadata": {},
     "output_type": "execute_result"
    }
   ],
   "source": [
    "df['Date'].dtypes"
   ]
  },
  {
   "cell_type": "markdown",
   "metadata": {},
   "source": [
    "---\n",
    "## Feature Creation"
   ]
  },
  {
   "cell_type": "code",
   "execution_count": 22,
   "metadata": {},
   "outputs": [],
   "source": [
    "# parse the dates, currently coded as strings, into datetime format\n",
    "\n",
    "df['Date'] = pd.to_datetime(df['Date'])\n",
    "\n",
    "# extract year from date\n",
    "df['Year'] = df['Date'].dt.year\n",
    "\n",
    "# extract month from date\n",
    "df['Month'] = df['Date'].dt.month\n",
    "\n",
    "# extract day from date\n",
    "df['Day'] = df['Date'].dt.day\n",
    "\n",
    "# drop the original Date variable\n",
    "df.drop('Date', axis=1, inplace = True)"
   ]
  },
  {
   "cell_type": "code",
   "execution_count": 23,
   "metadata": {},
   "outputs": [
    {
     "data": {
      "text/plain": [
       "WindGustDir  WindDir9am  WindDir3pm\n",
       "N            N           N             1424\n",
       "W            W           W              774\n",
       "S            S           S              769\n",
       "SE           SE          SE             765\n",
       "             SSE         SE             746\n",
       "                                       ... \n",
       "ESE          SSW         NW               1\n",
       "SSW          SE          NNW              1\n",
       "NNE          SW          WNW              1\n",
       "WNW          SSE         SSE              1\n",
       "S            W           NNE              1\n",
       "Length: 4019, dtype: int64"
      ]
     },
     "execution_count": 23,
     "metadata": {},
     "output_type": "execute_result"
    }
   ],
   "source": [
    "df[['WindGustDir','WindDir9am','WindDir3pm']].value_counts()\n"
   ]
  },
  {
   "cell_type": "code",
   "execution_count": 24,
   "metadata": {},
   "outputs": [],
   "source": [
    "df[['WindGustDir','WindDir9am','WindDir3pm']].replace({'NNE':  'NE', 'ENE': 'NE',\n",
    "                                                        'SSE': 'SE', 'ESE': 'SE',\n",
    "                                                        'SSW': 'SW', 'WSW': 'SW',\n",
    "                                                        'WNW': 'NW', 'NNW': 'NW'\n",
    "                                                        }, inplace=True)\n",
    "#mengurangi kardinalitas"
   ]
  },
  {
   "cell_type": "code",
   "execution_count": 25,
   "metadata": {},
   "outputs": [
    {
     "data": {
      "text/html": [
       "<div>\n",
       "<style scoped>\n",
       "    .dataframe tbody tr th:only-of-type {\n",
       "        vertical-align: middle;\n",
       "    }\n",
       "\n",
       "    .dataframe tbody tr th {\n",
       "        vertical-align: top;\n",
       "    }\n",
       "\n",
       "    .dataframe thead th {\n",
       "        text-align: right;\n",
       "    }\n",
       "</style>\n",
       "<table border=\"1\" class=\"dataframe\">\n",
       "  <thead>\n",
       "    <tr style=\"text-align: right;\">\n",
       "      <th></th>\n",
       "      <th>WindGustDir</th>\n",
       "      <th>WindDir9am</th>\n",
       "      <th>WindDir3pm</th>\n",
       "    </tr>\n",
       "  </thead>\n",
       "  <tbody>\n",
       "    <tr>\n",
       "      <th>0</th>\n",
       "      <td>W</td>\n",
       "      <td>W</td>\n",
       "      <td>WNW</td>\n",
       "    </tr>\n",
       "    <tr>\n",
       "      <th>1</th>\n",
       "      <td>WNW</td>\n",
       "      <td>NNW</td>\n",
       "      <td>WSW</td>\n",
       "    </tr>\n",
       "    <tr>\n",
       "      <th>2</th>\n",
       "      <td>WSW</td>\n",
       "      <td>W</td>\n",
       "      <td>WSW</td>\n",
       "    </tr>\n",
       "    <tr>\n",
       "      <th>3</th>\n",
       "      <td>NE</td>\n",
       "      <td>SE</td>\n",
       "      <td>E</td>\n",
       "    </tr>\n",
       "    <tr>\n",
       "      <th>4</th>\n",
       "      <td>W</td>\n",
       "      <td>ENE</td>\n",
       "      <td>NW</td>\n",
       "    </tr>\n",
       "    <tr>\n",
       "      <th>...</th>\n",
       "      <td>...</td>\n",
       "      <td>...</td>\n",
       "      <td>...</td>\n",
       "    </tr>\n",
       "    <tr>\n",
       "      <th>145455</th>\n",
       "      <td>E</td>\n",
       "      <td>SE</td>\n",
       "      <td>ENE</td>\n",
       "    </tr>\n",
       "    <tr>\n",
       "      <th>145456</th>\n",
       "      <td>NNW</td>\n",
       "      <td>SE</td>\n",
       "      <td>N</td>\n",
       "    </tr>\n",
       "    <tr>\n",
       "      <th>145457</th>\n",
       "      <td>N</td>\n",
       "      <td>SE</td>\n",
       "      <td>WNW</td>\n",
       "    </tr>\n",
       "    <tr>\n",
       "      <th>145458</th>\n",
       "      <td>SE</td>\n",
       "      <td>SSE</td>\n",
       "      <td>N</td>\n",
       "    </tr>\n",
       "    <tr>\n",
       "      <th>145459</th>\n",
       "      <td>NaN</td>\n",
       "      <td>ESE</td>\n",
       "      <td>ESE</td>\n",
       "    </tr>\n",
       "  </tbody>\n",
       "</table>\n",
       "<p>145460 rows × 3 columns</p>\n",
       "</div>"
      ],
      "text/plain": [
       "       WindGustDir WindDir9am WindDir3pm\n",
       "0                W          W        WNW\n",
       "1              WNW        NNW        WSW\n",
       "2              WSW          W        WSW\n",
       "3               NE         SE          E\n",
       "4                W        ENE         NW\n",
       "...            ...        ...        ...\n",
       "145455           E         SE        ENE\n",
       "145456         NNW         SE          N\n",
       "145457           N         SE        WNW\n",
       "145458          SE        SSE          N\n",
       "145459         NaN        ESE        ESE\n",
       "\n",
       "[145460 rows x 3 columns]"
      ]
     },
     "execution_count": 25,
     "metadata": {},
     "output_type": "execute_result"
    }
   ],
   "source": [
    "df[['WindGustDir','WindDir9am','WindDir3pm']]"
   ]
  },
  {
   "cell_type": "markdown",
   "metadata": {},
   "source": [
    "> melakukan simpfilikasi arah mata angin"
   ]
  },
  {
   "cell_type": "code",
   "execution_count": 26,
   "metadata": {},
   "outputs": [
    {
     "name": "stdout",
     "output_type": "stream",
     "text": [
      "0         0.0\n",
      "1         0.0\n",
      "2         0.0\n",
      "3         0.0\n",
      "4         0.0\n",
      "         ... \n",
      "145455    0.0\n",
      "145456    0.0\n",
      "145457    0.0\n",
      "145458    0.0\n",
      "145459    0.0\n",
      "Name: RainToday, Length: 145460, dtype: float64\n",
      "0         0.0\n",
      "1         0.0\n",
      "2         0.0\n",
      "3         0.0\n",
      "4         0.0\n",
      "         ... \n",
      "145455    0.0\n",
      "145456    0.0\n",
      "145457    0.0\n",
      "145458    0.0\n",
      "145459    NaN\n",
      "Name: RainTomorrow, Length: 145460, dtype: float64\n"
     ]
    }
   ],
   "source": [
    "# Merubah value dari columns dfToday dan dfTomorrow ke 0,1 agar bisa di baca komputer\n",
    "df['RainTomorrow'] =df['RainTomorrow'].map({'Yes': 1, 'No': 0})\n",
    "df['RainToday'] =df['RainToday'].map({'Yes': 1, 'No': 0})\n",
    "\n",
    "print(df.RainToday)\n",
    "print(df.RainTomorrow)"
   ]
  },
  {
   "cell_type": "markdown",
   "metadata": {},
   "source": [
    "> merubah data di RainToday dan RainTomorrow menjadi binary\n",
    "- 1 = Hujan\n",
    "- 0 = Tidak Hujan"
   ]
  },
  {
   "cell_type": "markdown",
   "metadata": {},
   "source": [
    "---\n",
    "### Handling Missing Values"
   ]
  },
  {
   "cell_type": "code",
   "execution_count": 27,
   "metadata": {},
   "outputs": [
    {
     "data": {
      "text/plain": [
       "Location          0.000000\n",
       "MinTemp           1.020899\n",
       "MaxTemp           0.866905\n",
       "Rainfall          2.241853\n",
       "Evaporation      43.166506\n",
       "Sunshine         48.009762\n",
       "WindGustDir       7.098859\n",
       "WindGustSpeed     7.055548\n",
       "WindDir9am        7.263853\n",
       "WindDir3pm        2.906641\n",
       "WindSpeed9am      1.214767\n",
       "WindSpeed3pm      2.105046\n",
       "Humidity9am       1.824557\n",
       "Humidity3pm       3.098446\n",
       "Pressure9am      10.356799\n",
       "Pressure3pm      10.331363\n",
       "Cloud9am         38.421559\n",
       "Cloud3pm         40.807095\n",
       "Temp9am           1.214767\n",
       "Temp3pm           2.481094\n",
       "RainToday         2.241853\n",
       "RainTomorrow      2.245978\n",
       "Year              0.000000\n",
       "Month             0.000000\n",
       "Day               0.000000\n",
       "dtype: float64"
      ]
     },
     "execution_count": 27,
     "metadata": {},
     "output_type": "execute_result"
    }
   ],
   "source": [
    "#Checking percentage of missing data in every column\n",
    "\n",
    "(df.isnull().sum()/len(df))*100"
   ]
  },
  {
   "cell_type": "code",
   "execution_count": 28,
   "metadata": {},
   "outputs": [],
   "source": [
    "# saving missing values in a variable\n",
    "a = df.isnull().sum()/len(df)*100\n",
    "\n",
    "# saving column names in a variable\n",
    "variables = df.columns"
   ]
  },
  {
   "cell_type": "code",
   "execution_count": 29,
   "metadata": {},
   "outputs": [],
   "source": [
    "# new variable to store variables having missing values less than a threshold\n",
    "\n",
    "variable = [ ]\n",
    "\n",
    "for i in range(df.columns.shape[0]):\n",
    "    if a[i]<=40: #setting the threshold as 40%\n",
    "        variable.append(variables[i])"
   ]
  },
  {
   "cell_type": "code",
   "execution_count": 30,
   "metadata": {},
   "outputs": [
    {
     "data": {
      "text/plain": [
       "['Location',\n",
       " 'MinTemp',\n",
       " 'MaxTemp',\n",
       " 'Rainfall',\n",
       " 'WindGustDir',\n",
       " 'WindGustSpeed',\n",
       " 'WindDir9am',\n",
       " 'WindDir3pm',\n",
       " 'WindSpeed9am',\n",
       " 'WindSpeed3pm',\n",
       " 'Humidity9am',\n",
       " 'Humidity3pm',\n",
       " 'Pressure9am',\n",
       " 'Pressure3pm',\n",
       " 'Cloud9am',\n",
       " 'Temp9am',\n",
       " 'Temp3pm',\n",
       " 'RainToday',\n",
       " 'RainTomorrow',\n",
       " 'Year',\n",
       " 'Month',\n",
       " 'Day']"
      ]
     },
     "execution_count": 30,
     "metadata": {},
     "output_type": "execute_result"
    }
   ],
   "source": [
    "variable"
   ]
  },
  {
   "cell_type": "code",
   "execution_count": 31,
   "metadata": {},
   "outputs": [
    {
     "data": {
      "text/html": [
       "<div>\n",
       "<style scoped>\n",
       "    .dataframe tbody tr th:only-of-type {\n",
       "        vertical-align: middle;\n",
       "    }\n",
       "\n",
       "    .dataframe tbody tr th {\n",
       "        vertical-align: top;\n",
       "    }\n",
       "\n",
       "    .dataframe thead th {\n",
       "        text-align: right;\n",
       "    }\n",
       "</style>\n",
       "<table border=\"1\" class=\"dataframe\">\n",
       "  <thead>\n",
       "    <tr style=\"text-align: right;\">\n",
       "      <th></th>\n",
       "      <th>Location</th>\n",
       "      <th>MinTemp</th>\n",
       "      <th>MaxTemp</th>\n",
       "      <th>Rainfall</th>\n",
       "      <th>WindGustDir</th>\n",
       "      <th>WindGustSpeed</th>\n",
       "      <th>WindDir9am</th>\n",
       "      <th>WindDir3pm</th>\n",
       "      <th>WindSpeed9am</th>\n",
       "      <th>WindSpeed3pm</th>\n",
       "      <th>...</th>\n",
       "      <th>Pressure9am</th>\n",
       "      <th>Pressure3pm</th>\n",
       "      <th>Cloud9am</th>\n",
       "      <th>Temp9am</th>\n",
       "      <th>Temp3pm</th>\n",
       "      <th>RainToday</th>\n",
       "      <th>RainTomorrow</th>\n",
       "      <th>Year</th>\n",
       "      <th>Month</th>\n",
       "      <th>Day</th>\n",
       "    </tr>\n",
       "  </thead>\n",
       "  <tbody>\n",
       "    <tr>\n",
       "      <th>0</th>\n",
       "      <td>Albury</td>\n",
       "      <td>13.4</td>\n",
       "      <td>22.9</td>\n",
       "      <td>0.6</td>\n",
       "      <td>W</td>\n",
       "      <td>44.0</td>\n",
       "      <td>W</td>\n",
       "      <td>WNW</td>\n",
       "      <td>20.0</td>\n",
       "      <td>24.0</td>\n",
       "      <td>...</td>\n",
       "      <td>1007.7</td>\n",
       "      <td>1007.1</td>\n",
       "      <td>8.0</td>\n",
       "      <td>16.9</td>\n",
       "      <td>21.8</td>\n",
       "      <td>0.0</td>\n",
       "      <td>0.0</td>\n",
       "      <td>2008</td>\n",
       "      <td>12</td>\n",
       "      <td>1</td>\n",
       "    </tr>\n",
       "    <tr>\n",
       "      <th>1</th>\n",
       "      <td>Albury</td>\n",
       "      <td>7.4</td>\n",
       "      <td>25.1</td>\n",
       "      <td>0.0</td>\n",
       "      <td>WNW</td>\n",
       "      <td>44.0</td>\n",
       "      <td>NNW</td>\n",
       "      <td>WSW</td>\n",
       "      <td>4.0</td>\n",
       "      <td>22.0</td>\n",
       "      <td>...</td>\n",
       "      <td>1010.6</td>\n",
       "      <td>1007.8</td>\n",
       "      <td>NaN</td>\n",
       "      <td>17.2</td>\n",
       "      <td>24.3</td>\n",
       "      <td>0.0</td>\n",
       "      <td>0.0</td>\n",
       "      <td>2008</td>\n",
       "      <td>12</td>\n",
       "      <td>2</td>\n",
       "    </tr>\n",
       "    <tr>\n",
       "      <th>2</th>\n",
       "      <td>Albury</td>\n",
       "      <td>12.9</td>\n",
       "      <td>25.7</td>\n",
       "      <td>0.0</td>\n",
       "      <td>WSW</td>\n",
       "      <td>46.0</td>\n",
       "      <td>W</td>\n",
       "      <td>WSW</td>\n",
       "      <td>19.0</td>\n",
       "      <td>26.0</td>\n",
       "      <td>...</td>\n",
       "      <td>1007.6</td>\n",
       "      <td>1008.7</td>\n",
       "      <td>NaN</td>\n",
       "      <td>21.0</td>\n",
       "      <td>23.2</td>\n",
       "      <td>0.0</td>\n",
       "      <td>0.0</td>\n",
       "      <td>2008</td>\n",
       "      <td>12</td>\n",
       "      <td>3</td>\n",
       "    </tr>\n",
       "    <tr>\n",
       "      <th>3</th>\n",
       "      <td>Albury</td>\n",
       "      <td>9.2</td>\n",
       "      <td>28.0</td>\n",
       "      <td>0.0</td>\n",
       "      <td>NE</td>\n",
       "      <td>24.0</td>\n",
       "      <td>SE</td>\n",
       "      <td>E</td>\n",
       "      <td>11.0</td>\n",
       "      <td>9.0</td>\n",
       "      <td>...</td>\n",
       "      <td>1017.6</td>\n",
       "      <td>1012.8</td>\n",
       "      <td>NaN</td>\n",
       "      <td>18.1</td>\n",
       "      <td>26.5</td>\n",
       "      <td>0.0</td>\n",
       "      <td>0.0</td>\n",
       "      <td>2008</td>\n",
       "      <td>12</td>\n",
       "      <td>4</td>\n",
       "    </tr>\n",
       "    <tr>\n",
       "      <th>4</th>\n",
       "      <td>Albury</td>\n",
       "      <td>17.5</td>\n",
       "      <td>32.3</td>\n",
       "      <td>1.0</td>\n",
       "      <td>W</td>\n",
       "      <td>41.0</td>\n",
       "      <td>ENE</td>\n",
       "      <td>NW</td>\n",
       "      <td>7.0</td>\n",
       "      <td>20.0</td>\n",
       "      <td>...</td>\n",
       "      <td>1010.8</td>\n",
       "      <td>1006.0</td>\n",
       "      <td>7.0</td>\n",
       "      <td>17.8</td>\n",
       "      <td>29.7</td>\n",
       "      <td>0.0</td>\n",
       "      <td>0.0</td>\n",
       "      <td>2008</td>\n",
       "      <td>12</td>\n",
       "      <td>5</td>\n",
       "    </tr>\n",
       "  </tbody>\n",
       "</table>\n",
       "<p>5 rows × 22 columns</p>\n",
       "</div>"
      ],
      "text/plain": [
       "  Location  MinTemp  MaxTemp  Rainfall WindGustDir  WindGustSpeed WindDir9am  \\\n",
       "0   Albury     13.4     22.9       0.6           W           44.0          W   \n",
       "1   Albury      7.4     25.1       0.0         WNW           44.0        NNW   \n",
       "2   Albury     12.9     25.7       0.0         WSW           46.0          W   \n",
       "3   Albury      9.2     28.0       0.0          NE           24.0         SE   \n",
       "4   Albury     17.5     32.3       1.0           W           41.0        ENE   \n",
       "\n",
       "  WindDir3pm  WindSpeed9am  WindSpeed3pm  ...  Pressure9am  Pressure3pm  \\\n",
       "0        WNW          20.0          24.0  ...       1007.7       1007.1   \n",
       "1        WSW           4.0          22.0  ...       1010.6       1007.8   \n",
       "2        WSW          19.0          26.0  ...       1007.6       1008.7   \n",
       "3          E          11.0           9.0  ...       1017.6       1012.8   \n",
       "4         NW           7.0          20.0  ...       1010.8       1006.0   \n",
       "\n",
       "   Cloud9am  Temp9am  Temp3pm  RainToday  RainTomorrow  Year  Month  Day  \n",
       "0       8.0     16.9     21.8        0.0           0.0  2008     12    1  \n",
       "1       NaN     17.2     24.3        0.0           0.0  2008     12    2  \n",
       "2       NaN     21.0     23.2        0.0           0.0  2008     12    3  \n",
       "3       NaN     18.1     26.5        0.0           0.0  2008     12    4  \n",
       "4       7.0     17.8     29.7        0.0           0.0  2008     12    5  \n",
       "\n",
       "[5 rows x 22 columns]"
      ]
     },
     "execution_count": 31,
     "metadata": {},
     "output_type": "execute_result"
    }
   ],
   "source": [
    "# membuat dataframe baru yang hanya mengandung variable yang memiliki missing value kurang dari 40%\n",
    "df_new = df[variable]\n",
    "df_new.head(5)"
   ]
  },
  {
   "cell_type": "markdown",
   "metadata": {},
   "source": [
    "---\n",
    "## Split dataset menjadi train, inf, dan test"
   ]
  },
  {
   "cell_type": "code",
   "execution_count": 32,
   "metadata": {},
   "outputs": [
    {
     "data": {
      "text/html": [
       "<div>\n",
       "<style scoped>\n",
       "    .dataframe tbody tr th:only-of-type {\n",
       "        vertical-align: middle;\n",
       "    }\n",
       "\n",
       "    .dataframe tbody tr th {\n",
       "        vertical-align: top;\n",
       "    }\n",
       "\n",
       "    .dataframe thead th {\n",
       "        text-align: right;\n",
       "    }\n",
       "</style>\n",
       "<table border=\"1\" class=\"dataframe\">\n",
       "  <thead>\n",
       "    <tr style=\"text-align: right;\">\n",
       "      <th></th>\n",
       "      <th>Location</th>\n",
       "      <th>MinTemp</th>\n",
       "      <th>MaxTemp</th>\n",
       "      <th>Rainfall</th>\n",
       "      <th>WindGustDir</th>\n",
       "      <th>WindGustSpeed</th>\n",
       "      <th>WindDir9am</th>\n",
       "      <th>WindDir3pm</th>\n",
       "      <th>WindSpeed9am</th>\n",
       "      <th>WindSpeed3pm</th>\n",
       "      <th>...</th>\n",
       "      <th>Pressure9am</th>\n",
       "      <th>Pressure3pm</th>\n",
       "      <th>Cloud9am</th>\n",
       "      <th>Temp9am</th>\n",
       "      <th>Temp3pm</th>\n",
       "      <th>RainToday</th>\n",
       "      <th>RainTomorrow</th>\n",
       "      <th>Year</th>\n",
       "      <th>Month</th>\n",
       "      <th>Day</th>\n",
       "    </tr>\n",
       "  </thead>\n",
       "  <tbody>\n",
       "    <tr>\n",
       "      <th>123551</th>\n",
       "      <td>Perth</td>\n",
       "      <td>5.9</td>\n",
       "      <td>15.8</td>\n",
       "      <td>13.8</td>\n",
       "      <td>SSW</td>\n",
       "      <td>61.0</td>\n",
       "      <td>S</td>\n",
       "      <td>SW</td>\n",
       "      <td>13.0</td>\n",
       "      <td>15.0</td>\n",
       "      <td>...</td>\n",
       "      <td>1017.3</td>\n",
       "      <td>1017.5</td>\n",
       "      <td>7.0</td>\n",
       "      <td>11.6</td>\n",
       "      <td>14.3</td>\n",
       "      <td>1.0</td>\n",
       "      <td>0.0</td>\n",
       "      <td>2016</td>\n",
       "      <td>9</td>\n",
       "      <td>19</td>\n",
       "    </tr>\n",
       "    <tr>\n",
       "      <th>90618</th>\n",
       "      <td>GoldCoast</td>\n",
       "      <td>22.1</td>\n",
       "      <td>30.3</td>\n",
       "      <td>0.0</td>\n",
       "      <td>ENE</td>\n",
       "      <td>20.0</td>\n",
       "      <td>ENE</td>\n",
       "      <td>E</td>\n",
       "      <td>11.0</td>\n",
       "      <td>15.0</td>\n",
       "      <td>...</td>\n",
       "      <td>1017.1</td>\n",
       "      <td>1015.7</td>\n",
       "      <td>NaN</td>\n",
       "      <td>26.2</td>\n",
       "      <td>27.5</td>\n",
       "      <td>0.0</td>\n",
       "      <td>0.0</td>\n",
       "      <td>2009</td>\n",
       "      <td>12</td>\n",
       "      <td>14</td>\n",
       "    </tr>\n",
       "    <tr>\n",
       "      <th>95813</th>\n",
       "      <td>Townsville</td>\n",
       "      <td>26.8</td>\n",
       "      <td>33.6</td>\n",
       "      <td>3.4</td>\n",
       "      <td>SSW</td>\n",
       "      <td>43.0</td>\n",
       "      <td>NaN</td>\n",
       "      <td>ENE</td>\n",
       "      <td>0.0</td>\n",
       "      <td>19.0</td>\n",
       "      <td>...</td>\n",
       "      <td>1004.1</td>\n",
       "      <td>1000.6</td>\n",
       "      <td>7.0</td>\n",
       "      <td>29.4</td>\n",
       "      <td>30.8</td>\n",
       "      <td>1.0</td>\n",
       "      <td>1.0</td>\n",
       "      <td>2016</td>\n",
       "      <td>2</td>\n",
       "      <td>5</td>\n",
       "    </tr>\n",
       "    <tr>\n",
       "      <th>70342</th>\n",
       "      <td>Melbourne</td>\n",
       "      <td>9.6</td>\n",
       "      <td>20.0</td>\n",
       "      <td>0.2</td>\n",
       "      <td>N</td>\n",
       "      <td>43.0</td>\n",
       "      <td>N</td>\n",
       "      <td>WNW</td>\n",
       "      <td>19.0</td>\n",
       "      <td>9.0</td>\n",
       "      <td>...</td>\n",
       "      <td>1019.6</td>\n",
       "      <td>1018.4</td>\n",
       "      <td>1.0</td>\n",
       "      <td>14.2</td>\n",
       "      <td>15.1</td>\n",
       "      <td>0.0</td>\n",
       "      <td>1.0</td>\n",
       "      <td>2017</td>\n",
       "      <td>5</td>\n",
       "      <td>6</td>\n",
       "    </tr>\n",
       "    <tr>\n",
       "      <th>133845</th>\n",
       "      <td>Launceston</td>\n",
       "      <td>8.8</td>\n",
       "      <td>24.4</td>\n",
       "      <td>0.0</td>\n",
       "      <td>NW</td>\n",
       "      <td>30.0</td>\n",
       "      <td>ENE</td>\n",
       "      <td>NW</td>\n",
       "      <td>6.0</td>\n",
       "      <td>17.0</td>\n",
       "      <td>...</td>\n",
       "      <td>1023.9</td>\n",
       "      <td>1019.4</td>\n",
       "      <td>NaN</td>\n",
       "      <td>14.0</td>\n",
       "      <td>23.9</td>\n",
       "      <td>0.0</td>\n",
       "      <td>0.0</td>\n",
       "      <td>2011</td>\n",
       "      <td>2</td>\n",
       "      <td>23</td>\n",
       "    </tr>\n",
       "    <tr>\n",
       "      <th>28445</th>\n",
       "      <td>Richmond</td>\n",
       "      <td>-0.2</td>\n",
       "      <td>16.9</td>\n",
       "      <td>0.0</td>\n",
       "      <td>SSE</td>\n",
       "      <td>31.0</td>\n",
       "      <td>NaN</td>\n",
       "      <td>SSE</td>\n",
       "      <td>0.0</td>\n",
       "      <td>24.0</td>\n",
       "      <td>...</td>\n",
       "      <td>1023.4</td>\n",
       "      <td>1019.6</td>\n",
       "      <td>NaN</td>\n",
       "      <td>7.6</td>\n",
       "      <td>15.2</td>\n",
       "      <td>0.0</td>\n",
       "      <td>0.0</td>\n",
       "      <td>2012</td>\n",
       "      <td>8</td>\n",
       "      <td>1</td>\n",
       "    </tr>\n",
       "    <tr>\n",
       "      <th>56564</th>\n",
       "      <td>Ballarat</td>\n",
       "      <td>9.9</td>\n",
       "      <td>20.6</td>\n",
       "      <td>0.0</td>\n",
       "      <td>SSE</td>\n",
       "      <td>57.0</td>\n",
       "      <td>SE</td>\n",
       "      <td>SE</td>\n",
       "      <td>30.0</td>\n",
       "      <td>39.0</td>\n",
       "      <td>...</td>\n",
       "      <td>1021.3</td>\n",
       "      <td>1020.8</td>\n",
       "      <td>3.0</td>\n",
       "      <td>14.0</td>\n",
       "      <td>19.6</td>\n",
       "      <td>0.0</td>\n",
       "      <td>0.0</td>\n",
       "      <td>2013</td>\n",
       "      <td>3</td>\n",
       "      <td>1</td>\n",
       "    </tr>\n",
       "    <tr>\n",
       "      <th>120579</th>\n",
       "      <td>PerthAirport</td>\n",
       "      <td>9.3</td>\n",
       "      <td>26.8</td>\n",
       "      <td>0.0</td>\n",
       "      <td>SE</td>\n",
       "      <td>44.0</td>\n",
       "      <td>NE</td>\n",
       "      <td>S</td>\n",
       "      <td>11.0</td>\n",
       "      <td>13.0</td>\n",
       "      <td>...</td>\n",
       "      <td>1026.3</td>\n",
       "      <td>1022.8</td>\n",
       "      <td>1.0</td>\n",
       "      <td>19.1</td>\n",
       "      <td>26.4</td>\n",
       "      <td>0.0</td>\n",
       "      <td>0.0</td>\n",
       "      <td>2017</td>\n",
       "      <td>4</td>\n",
       "      <td>28</td>\n",
       "    </tr>\n",
       "    <tr>\n",
       "      <th>9241</th>\n",
       "      <td>CoffsHarbour</td>\n",
       "      <td>6.5</td>\n",
       "      <td>19.3</td>\n",
       "      <td>0.0</td>\n",
       "      <td>SW</td>\n",
       "      <td>57.0</td>\n",
       "      <td>NW</td>\n",
       "      <td>WSW</td>\n",
       "      <td>9.0</td>\n",
       "      <td>31.0</td>\n",
       "      <td>...</td>\n",
       "      <td>1006.9</td>\n",
       "      <td>1003.2</td>\n",
       "      <td>3.0</td>\n",
       "      <td>16.5</td>\n",
       "      <td>18.1</td>\n",
       "      <td>0.0</td>\n",
       "      <td>0.0</td>\n",
       "      <td>2009</td>\n",
       "      <td>7</td>\n",
       "      <td>3</td>\n",
       "    </tr>\n",
       "    <tr>\n",
       "      <th>20816</th>\n",
       "      <td>NorahHead</td>\n",
       "      <td>8.8</td>\n",
       "      <td>18.6</td>\n",
       "      <td>15.2</td>\n",
       "      <td>SSW</td>\n",
       "      <td>41.0</td>\n",
       "      <td>WSW</td>\n",
       "      <td>ESE</td>\n",
       "      <td>11.0</td>\n",
       "      <td>7.0</td>\n",
       "      <td>...</td>\n",
       "      <td>1023.0</td>\n",
       "      <td>1020.5</td>\n",
       "      <td>NaN</td>\n",
       "      <td>11.5</td>\n",
       "      <td>16.7</td>\n",
       "      <td>1.0</td>\n",
       "      <td>0.0</td>\n",
       "      <td>2016</td>\n",
       "      <td>8</td>\n",
       "      <td>27</td>\n",
       "    </tr>\n",
       "  </tbody>\n",
       "</table>\n",
       "<p>10 rows × 22 columns</p>\n",
       "</div>"
      ],
      "text/plain": [
       "            Location  MinTemp  MaxTemp  Rainfall WindGustDir  WindGustSpeed  \\\n",
       "123551         Perth      5.9     15.8      13.8         SSW           61.0   \n",
       "90618      GoldCoast     22.1     30.3       0.0         ENE           20.0   \n",
       "95813     Townsville     26.8     33.6       3.4         SSW           43.0   \n",
       "70342      Melbourne      9.6     20.0       0.2           N           43.0   \n",
       "133845    Launceston      8.8     24.4       0.0          NW           30.0   \n",
       "28445       Richmond     -0.2     16.9       0.0         SSE           31.0   \n",
       "56564       Ballarat      9.9     20.6       0.0         SSE           57.0   \n",
       "120579  PerthAirport      9.3     26.8       0.0          SE           44.0   \n",
       "9241    CoffsHarbour      6.5     19.3       0.0          SW           57.0   \n",
       "20816      NorahHead      8.8     18.6      15.2         SSW           41.0   \n",
       "\n",
       "       WindDir9am WindDir3pm  WindSpeed9am  WindSpeed3pm  ...  Pressure9am  \\\n",
       "123551          S         SW          13.0          15.0  ...       1017.3   \n",
       "90618         ENE          E          11.0          15.0  ...       1017.1   \n",
       "95813         NaN        ENE           0.0          19.0  ...       1004.1   \n",
       "70342           N        WNW          19.0           9.0  ...       1019.6   \n",
       "133845        ENE         NW           6.0          17.0  ...       1023.9   \n",
       "28445         NaN        SSE           0.0          24.0  ...       1023.4   \n",
       "56564          SE         SE          30.0          39.0  ...       1021.3   \n",
       "120579         NE          S          11.0          13.0  ...       1026.3   \n",
       "9241           NW        WSW           9.0          31.0  ...       1006.9   \n",
       "20816         WSW        ESE          11.0           7.0  ...       1023.0   \n",
       "\n",
       "        Pressure3pm  Cloud9am  Temp9am  Temp3pm  RainToday  RainTomorrow  \\\n",
       "123551       1017.5       7.0     11.6     14.3        1.0           0.0   \n",
       "90618        1015.7       NaN     26.2     27.5        0.0           0.0   \n",
       "95813        1000.6       7.0     29.4     30.8        1.0           1.0   \n",
       "70342        1018.4       1.0     14.2     15.1        0.0           1.0   \n",
       "133845       1019.4       NaN     14.0     23.9        0.0           0.0   \n",
       "28445        1019.6       NaN      7.6     15.2        0.0           0.0   \n",
       "56564        1020.8       3.0     14.0     19.6        0.0           0.0   \n",
       "120579       1022.8       1.0     19.1     26.4        0.0           0.0   \n",
       "9241         1003.2       3.0     16.5     18.1        0.0           0.0   \n",
       "20816        1020.5       NaN     11.5     16.7        1.0           0.0   \n",
       "\n",
       "        Year  Month  Day  \n",
       "123551  2016      9   19  \n",
       "90618   2009     12   14  \n",
       "95813   2016      2    5  \n",
       "70342   2017      5    6  \n",
       "133845  2011      2   23  \n",
       "28445   2012      8    1  \n",
       "56564   2013      3    1  \n",
       "120579  2017      4   28  \n",
       "9241    2009      7    3  \n",
       "20816   2016      8   27  \n",
       "\n",
       "[10 rows x 22 columns]"
      ]
     },
     "execution_count": 32,
     "metadata": {},
     "output_type": "execute_result"
    }
   ],
   "source": [
    "#mengambil data inference sebanyak 10 data\n",
    "df_inf =  df_new.sample(10, random_state=15)\n",
    "df_inf"
   ]
  },
  {
   "cell_type": "code",
   "execution_count": 33,
   "metadata": {},
   "outputs": [],
   "source": [
    "\n",
    "#menghapus inference data dari df\n",
    "df_new = df_new.drop(df_inf.index)"
   ]
  },
  {
   "cell_type": "code",
   "execution_count": 34,
   "metadata": {},
   "outputs": [],
   "source": [
    "\n",
    "#memperbaiki index yang ada di df dan inference data\n",
    "df_new.reset_index(drop=True, inplace=True)\n",
    "df_inf.reset_index(drop=True, inplace=True)"
   ]
  },
  {
   "cell_type": "code",
   "execution_count": 35,
   "metadata": {},
   "outputs": [
    {
     "data": {
      "text/plain": [
       "<AxesSubplot:>"
      ]
     },
     "execution_count": 35,
     "metadata": {},
     "output_type": "execute_result"
    },
    {
     "data": {
      "image/png": "[encoded data removed]",
      "text/plain": [
       "<Figure size 1800x720 with 2 Axes>"
      ]
     },
     "metadata": {
      "needs_background": "light"
     },
     "output_type": "display_data"
    }
   ],
   "source": [
    "#Visualisasikan Missing value\n",
    "msno.matrix(df_new)"
   ]
  },
  {
   "cell_type": "code",
   "execution_count": 36,
   "metadata": {},
   "outputs": [
    {
     "data": {
      "text/plain": [
       "Location          0.000000\n",
       "MinTemp           1.020969\n",
       "MaxTemp           0.866965\n",
       "Rainfall          2.242008\n",
       "WindGustDir       7.099347\n",
       "WindGustSpeed     7.056033\n",
       "WindDir9am        7.262977\n",
       "WindDir3pm        2.906841\n",
       "WindSpeed9am      1.214850\n",
       "WindSpeed3pm      2.105191\n",
       "Humidity9am       1.824682\n",
       "Humidity3pm       3.098659\n",
       "Pressure9am      10.357511\n",
       "Pressure3pm      10.332073\n",
       "Cloud9am         38.421451\n",
       "Temp9am           1.214850\n",
       "Temp3pm           2.481265\n",
       "RainToday         2.242008\n",
       "RainTomorrow      2.246133\n",
       "Year              0.000000\n",
       "Month             0.000000\n",
       "Day               0.000000\n",
       "dtype: float64"
      ]
     },
     "execution_count": 36,
     "metadata": {},
     "output_type": "execute_result"
    }
   ],
   "source": [
    "# percentage of missing values in each variable of new data\n",
    "\n",
    "df_new.isnull().sum()/len(df_new)*100"
   ]
  },
  {
   "cell_type": "markdown",
   "metadata": {},
   "source": [
    "> Asumsi saya missing value yang terjadi adalah Missing Completely At Random (MCAR) dimana nilainya akan di handling dengan \n",
    "- Mean Imputation (numeric variable with Gaussian/Normal Distribution),\n",
    "- Median Imputation (numeric variable with skewed distribution)\n",
    "- Mode Imputation (categorical variable)\n"
   ]
  },
  {
   "cell_type": "code",
   "execution_count": 37,
   "metadata": {},
   "outputs": [
    {
     "data": {
      "text/plain": [
       "((145450, 22), (145460, 25))"
      ]
     },
     "execution_count": 37,
     "metadata": {},
     "output_type": "execute_result"
    }
   ],
   "source": [
    "# shape of new and original data\n",
    "\n",
    "df_new.shape, df.shape"
   ]
  },
  {
   "cell_type": "markdown",
   "metadata": {},
   "source": [
    "> setelah menghapus data yang tidak diperlukan, kita bisa lihat shapenya berubah dari 23 kolom menjadi 20 kolom.\n",
    "> agar tidak terjadi data leakage maka inputer mising value akan di lakukan setelah split dataset"
   ]
  },
  {
   "cell_type": "markdown",
   "metadata": {},
   "source": [
    "### Deklarasi X,y sebagai target prediksi kita\n"
   ]
  },
  {
   "cell_type": "code",
   "execution_count": 38,
   "metadata": {},
   "outputs": [],
   "source": [
    "X = df_new.drop(['RainTomorrow'], axis=1)\n",
    "\n",
    "y = df_new[['RainTomorrow']]"
   ]
  },
  {
   "cell_type": "code",
   "execution_count": 39,
   "metadata": {},
   "outputs": [
    {
     "data": {
      "text/plain": [
       "(145450, 21)"
      ]
     },
     "execution_count": 39,
     "metadata": {},
     "output_type": "execute_result"
    }
   ],
   "source": [
    "X.shape"
   ]
  },
  {
   "cell_type": "code",
   "execution_count": 40,
   "metadata": {},
   "outputs": [
    {
     "data": {
      "text/plain": [
       "(145450, 1)"
      ]
     },
     "execution_count": 40,
     "metadata": {},
     "output_type": "execute_result"
    }
   ],
   "source": [
    "y.shape"
   ]
  },
  {
   "cell_type": "markdown",
   "metadata": {},
   "source": [
    ">Shape yang di pecah antara X dan Y memiliki shape yang sama"
   ]
  },
  {
   "cell_type": "markdown",
   "metadata": {},
   "source": [
    "---\n",
    "### Menyiapkan data inference"
   ]
  },
  {
   "cell_type": "code",
   "execution_count": 41,
   "metadata": {},
   "outputs": [],
   "source": [
    "X_inf= df_inf.drop(['RainTomorrow'], axis=1)\n",
    "Y_inf= df_inf[['RainTomorrow']]\n"
   ]
  },
  {
   "cell_type": "markdown",
   "metadata": {},
   "source": [
    "---\n",
    "### Memecah data training dan testing"
   ]
  },
  {
   "cell_type": "code",
   "execution_count": 42,
   "metadata": {},
   "outputs": [
    {
     "data": {
      "text/plain": [
       "((116360, 21), (116360, 1), (29090, 21), (29090, 1))"
      ]
     },
     "execution_count": 42,
     "metadata": {},
     "output_type": "execute_result"
    }
   ],
   "source": [
    "# data train 80% data test 20%\n",
    "X_train, X_test, y_train, y_test = train_test_split(X, y, test_size = 0.2, random_state = 0)\n",
    "\n",
    "X_train.shape, y_train.shape, X_test.shape, y_test.shape \n"
   ]
  },
  {
   "cell_type": "markdown",
   "metadata": {},
   "source": [
    "--- \n",
    "### Melihat Distribusi data"
   ]
  },
  {
   "cell_type": "code",
   "execution_count": 43,
   "metadata": {},
   "outputs": [
    {
     "name": "stdout",
     "output_type": "stream",
     "text": [
      "MinTemp : Normally distributed\n",
      "MaxTemp : Normally distributed\n",
      "Rainfall : Positively skewed distribution\n",
      "WindGustSpeed : Positively skewed distribution\n",
      "WindSpeed9am : Positively skewed distribution\n",
      "WindSpeed3pm : Positively skewed distribution\n",
      "Humidity9am : Normally distributed\n",
      "Humidity3pm : Normally distributed\n",
      "Pressure9am : Normally distributed\n",
      "Pressure3pm : Normally distributed\n",
      "Cloud9am : Normally distributed\n",
      "Temp9am : Normally distributed\n",
      "Temp3pm : Normally distributed\n",
      "RainToday : Positively skewed distribution\n",
      "Year : Normally distributed\n",
      "Month : Normally distributed\n",
      "Day : Normally distributed\n"
     ]
    }
   ],
   "source": [
    "# Input Paramater Distribution  Check\n",
    "dist_check = X_train.skew(numeric_only=True)\n",
    "\n",
    "for i in range(len(dist_check)):\n",
    "    if dist_check.values[i] < -0.5:\n",
    "        print(dist_check.index[i], ': Negatively skewed distribution')\n",
    "    elif dist_check.values[i] > 0.5:\n",
    "        print(dist_check.index[i], ': Positively skewed distribution')\n",
    "    else:\n",
    "        print(dist_check.index[i], ': Normally distributed')\n",
    "        "
   ]
  },
  {
   "cell_type": "markdown",
   "metadata": {},
   "source": [
    ">Bisa kita simpulkan distribusi data nya \n",
    "1. Normal Distribution -> missing value di handling dengan mean imputation\n",
    "    - MinTemp : Normally distributed\n",
    "    - MaxTemp : Normally distributed\n",
    "    - Humidity9am : Normally distributed\n",
    "    - Humidity3pm : Normally distributed\n",
    "    - Pressure9am : Normally distributed\n",
    "    - Pressure3pm : Normally distributed\n",
    "    - Year : Normally distributed\n",
    "    - Month : Normally distributed\n",
    "    - Day : Normally distributed\n",
    "2. Skewed Distribution -> missing value di handling dengan median imputation\n",
    "    - Rainfall : Positively skewed distribution\n",
    "    - WindGustSpeed : Positively skewed distribution\n",
    "    - WindSpeed9am : Positively skewed distribution\n",
    "    - WindSpeed3pm : Positively skewed distribution\n",
    "    - Cloud9am : Negatively skewed distribution\n",
    "    - Temp9am : Normally distributed\n",
    "    - Temp3pm : Normally distributed\n",
    "    - RainToday : Positively skewed distribution\n",
    "3. Data object -> missing value akan di handling dengan most frequent imputation\n",
    "    - 'WindGustDir'\n",
    "    - 'WindDir9am'\n",
    "    - 'RainToday'"
   ]
  },
  {
   "cell_type": "markdown",
   "metadata": {},
   "source": [
    "### Feature Engginering\n",
    "> kita akan melakukan handling missing value dengan menggunakan metode imputing.\n",
    "> handling outlier dengan menggunakan metode outlier removal."
   ]
  },
  {
   "cell_type": "markdown",
   "metadata": {},
   "source": [
    "***Asumsi***\n",
    "> missing value yang terjadi adalah MCAR jadi ada 2 metode yang bisa digunakan untuk menghandle missing value, yaitu dengan menggunakan metode input secara random atau menggunakan Mean / median\n",
    "> imputasi yang akan di lakukan adalah median karena robust dengan outlier"
   ]
  },
  {
   "cell_type": "code",
   "execution_count": 44,
   "metadata": {},
   "outputs": [],
   "source": [
    "# Membuat variabel yang mengandung tipe distribusi\n",
    "normal_dist = ['MinTemp', 'MaxTemp',  'Humidity9am', 'Humidity3pm', 'Pressure9am', 'Pressure3pm','Year', 'Month', 'Day']\n",
    "skewed_dist = ['WindGustSpeed', 'WindSpeed9am', 'WindSpeed3pm', 'Cloud9am','Rainfall','Temp9am', 'Temp3pm']\n",
    "other_dist = ['WindGustDir','WindDir9am','WindDir3pm','RainToday']"
   ]
  },
  {
   "cell_type": "markdown",
   "metadata": {},
   "source": [
    "---\n",
    "### Inputasi Missing Value\n",
    "> acuan pengisian missing value adalah mode,mean dan median yang berasal dari train data hal ini di lakukan agar tidak terjadi *kebocoran data*"
   ]
  },
  {
   "cell_type": "code",
   "execution_count": 45,
   "metadata": {},
   "outputs": [],
   "source": [
    "\n",
    "for i in other_dist:\n",
    "    X_train[i].fillna(X_train[i].mode().item(), inplace=True)\n",
    "    X_test[i].fillna(X_train[i].mode().item(), inplace=True)\n",
    "    X_inf[i].fillna(X_train[i].mode().item(), inplace=True)\n",
    "for j in normal_dist:\n",
    "    X_train[j].fillna(X_train[j].mean(), inplace=True)\n",
    "    X_test[j].fillna(X_train[j].mean(), inplace=True)\n",
    "    X_inf[j].fillna(X_train[j].mean(), inplace=True)\n",
    "for k in skewed_dist:\n",
    "    X_train[k].fillna(X_train[k].median(), inplace=True)\n",
    "    X_test[k].fillna(X_train[k].median(), inplace=True)\n",
    "    X_inf[k].fillna(X_train[k].median(), inplace=True)"
   ]
  },
  {
   "cell_type": "code",
   "execution_count": 46,
   "metadata": {},
   "outputs": [
    {
     "data": {
      "text/plain": [
       "Location         0\n",
       "MinTemp          0\n",
       "MaxTemp          0\n",
       "Rainfall         0\n",
       "WindGustDir      0\n",
       "WindGustSpeed    0\n",
       "WindDir9am       0\n",
       "WindDir3pm       0\n",
       "WindSpeed9am     0\n",
       "WindSpeed3pm     0\n",
       "Humidity9am      0\n",
       "Humidity3pm      0\n",
       "Pressure9am      0\n",
       "Pressure3pm      0\n",
       "Cloud9am         0\n",
       "Temp9am          0\n",
       "Temp3pm          0\n",
       "RainToday        0\n",
       "Year             0\n",
       "Month            0\n",
       "Day              0\n",
       "dtype: int64"
      ]
     },
     "execution_count": 46,
     "metadata": {},
     "output_type": "execute_result"
    }
   ],
   "source": [
    "X_train.isnull().sum()"
   ]
  },
  {
   "cell_type": "code",
   "execution_count": 47,
   "metadata": {},
   "outputs": [],
   "source": [
    "# Handling Missing Value pada data target menggunakan metode most frequent\n",
    "y_train['RainTomorrow'].fillna(y_train['RainTomorrow'].mode().item(), inplace=True)\n",
    "y_test['RainTomorrow'].fillna(y_test['RainTomorrow'].mode().item(), inplace=True)"
   ]
  },
  {
   "cell_type": "code",
   "execution_count": 48,
   "metadata": {},
   "outputs": [
    {
     "data": {
      "text/plain": [
       "Location         0\n",
       "MinTemp          0\n",
       "MaxTemp          0\n",
       "Rainfall         0\n",
       "WindGustDir      0\n",
       "WindGustSpeed    0\n",
       "WindDir9am       0\n",
       "WindDir3pm       0\n",
       "WindSpeed9am     0\n",
       "WindSpeed3pm     0\n",
       "Humidity9am      0\n",
       "Humidity3pm      0\n",
       "Pressure9am      0\n",
       "Pressure3pm      0\n",
       "Cloud9am         0\n",
       "Temp9am          0\n",
       "Temp3pm          0\n",
       "RainToday        0\n",
       "Year             0\n",
       "Month            0\n",
       "Day              0\n",
       "dtype: int64"
      ]
     },
     "execution_count": 48,
     "metadata": {},
     "output_type": "execute_result"
    }
   ],
   "source": [
    "X_train.isna().sum()"
   ]
  },
  {
   "cell_type": "code",
   "execution_count": 49,
   "metadata": {},
   "outputs": [
    {
     "data": {
      "text/plain": [
       "<AxesSubplot:>"
      ]
     },
     "execution_count": 49,
     "metadata": {},
     "output_type": "execute_result"
    },
    {
     "data": {
      "image/png": "[encoded data removed]",
      "text/plain": [
       "<Figure size 1800x720 with 2 Axes>"
      ]
     },
     "metadata": {
      "needs_background": "light"
     },
     "output_type": "display_data"
    }
   ],
   "source": [
    "#Visualisasikan Missing value\n",
    "msno.matrix(X_train)"
   ]
  },
  {
   "cell_type": "code",
   "execution_count": 50,
   "metadata": {},
   "outputs": [
    {
     "data": {
      "text/plain": [
       "<AxesSubplot:>"
      ]
     },
     "execution_count": 50,
     "metadata": {},
     "output_type": "execute_result"
    },
    {
     "data": {
      "image/png": "[encoded data removed]",
      "text/plain": [
       "<Figure size 1800x720 with 2 Axes>"
      ]
     },
     "metadata": {
      "needs_background": "light"
     },
     "output_type": "display_data"
    }
   ],
   "source": [
    "msno.matrix(X_train)"
   ]
  },
  {
   "cell_type": "code",
   "execution_count": 51,
   "metadata": {},
   "outputs": [
    {
     "data": {
      "text/plain": [
       "Location         0.0\n",
       "MinTemp          0.0\n",
       "MaxTemp          0.0\n",
       "Rainfall         0.0\n",
       "WindGustDir      0.0\n",
       "WindGustSpeed    0.0\n",
       "WindDir9am       0.0\n",
       "WindDir3pm       0.0\n",
       "WindSpeed9am     0.0\n",
       "WindSpeed3pm     0.0\n",
       "Humidity9am      0.0\n",
       "Humidity3pm      0.0\n",
       "Pressure9am      0.0\n",
       "Pressure3pm      0.0\n",
       "Cloud9am         0.0\n",
       "Temp9am          0.0\n",
       "Temp3pm          0.0\n",
       "RainToday        0.0\n",
       "Year             0.0\n",
       "Month            0.0\n",
       "Day              0.0\n",
       "dtype: float64"
      ]
     },
     "execution_count": 51,
     "metadata": {},
     "output_type": "execute_result"
    }
   ],
   "source": [
    "# percentage of missing values in each variable of new data\n",
    "\n",
    "X_test.isnull().sum()/len(X_test)*100"
   ]
  },
  {
   "cell_type": "markdown",
   "metadata": {},
   "source": [
    "---\n",
    "### Handling Outliers\n",
    "- jika data berdistribusi normal maka akan di handling dengan ***z-score***\n",
    "- jika data berdistribusi skewed maka akan di handling dengan ***IQR***\n"
   ]
  },
  {
   "cell_type": "code",
   "execution_count": 52,
   "metadata": {},
   "outputs": [
    {
     "name": "stdout",
     "output_type": "stream",
     "text": [
      "MinTemp : Normally distributed\n",
      "MaxTemp : Normally distributed\n",
      "Rainfall : Positively skewed distribution\n",
      "WindGustSpeed : Positively skewed distribution\n",
      "WindSpeed9am : Positively skewed distribution\n",
      "WindSpeed3pm : Positively skewed distribution\n",
      "Humidity9am : Normally distributed\n",
      "Humidity3pm : Normally distributed\n",
      "Pressure9am : Normally distributed\n",
      "Pressure3pm : Normally distributed\n",
      "Cloud9am : Negatively skewed distribution\n",
      "Temp9am : Normally distributed\n",
      "Temp3pm : Normally distributed\n",
      "RainToday : Positively skewed distribution\n",
      "Year : Normally distributed\n",
      "Month : Normally distributed\n",
      "Day : Normally distributed\n"
     ]
    }
   ],
   "source": [
    "# Input Paramater Distribution  Check after handling missval\n",
    "dist_check = X_train.skew(numeric_only=True)\n",
    "\n",
    "for i in range(len(dist_check)):\n",
    "    if dist_check.values[i] < -0.5:\n",
    "        print(dist_check.index[i], ': Negatively skewed distribution')\n",
    "    elif dist_check.values[i] > 0.5:\n",
    "        print(dist_check.index[i], ': Positively skewed distribution')\n",
    "    else:\n",
    "        print(dist_check.index[i], ': Normally distributed')"
   ]
  },
  {
   "cell_type": "code",
   "execution_count": 53,
   "metadata": {},
   "outputs": [],
   "source": [
    "# Outliers Detection Function\n",
    "# for Normally Distributed Data\n",
    "\n",
    "def detect1(df, parameter):\n",
    "\n",
    "    threshold = 3\n",
    "    mean_ = np.mean(df[parameter])\n",
    "    std_ = np.std(df[parameter])\n",
    "\n",
    "    result = df[\n",
    "        abs((df[parameter]-mean_)/std_) > threshold\n",
    "    ]\n",
    "    return result\n",
    "# Outliers Detection Function\n",
    "# for Skew Distributed Data\n",
    "\n",
    "def detect2(df, parameter):\n",
    "\n",
    "    IQR = df[parameter].quantile(0.75) - df[parameter].quantile(0.25)\n",
    "    upper = df[parameter].quantile(0.75) + (1.5*IQR)\n",
    "    bottom = df[parameter].quantile(0.25) - (1.5*IQR)\n",
    "\n",
    "    result = df[\n",
    "        (df[parameter] > upper) |\n",
    "        (df[parameter] < bottom)\n",
    "    ]\n",
    "    return result\n",
    "    \n",
    "    "
   ]
  },
  {
   "cell_type": "code",
   "execution_count": 54,
   "metadata": {},
   "outputs": [],
   "source": [
    "# Function to create histogram and boxplot.\n",
    "# This functions takes a dataframe (df) and the variable of interest as arguments.\n",
    "\n",
    "def diagnostic_plots(X_train, variable):\n",
    "    # Define figure size\n",
    "    plt.figure(figsize=(16, 4))\n",
    "\n",
    "    # Histogram\n",
    "    print(variable)\n",
    "    fig, ax = plt.subplots(1, 2, figsize=(24, 8))\n",
    "    sns.histplot(X_train[variable], bins=30, ax=ax[0])\n",
    "    for tick in ax[0].get_xticklabels():\n",
    "        tick.set_rotation(45)\n",
    "    ax[0].set_title(f'Histogram')\n",
    "\n",
    "    # Boxplot\n",
    "    try: \n",
    "        sns.boxplot(y=X_train[variable], ax=ax[1])\n",
    "        ax[1].set_title('Boxplot')\n",
    "    except Exception as e:\n",
    "        # sns.scatterplot(X_train[variable], X_train['price'], ax=ax[1])\n",
    "        # ax[1].set_title('Boxplot')\n",
    "        print(' Variabel ini tidak bisa di berikan Boxplot')\n",
    "    plt.show();"
   ]
  },
  {
   "cell_type": "markdown",
   "metadata": {},
   "source": [
    "for col in X_train.columns:\n",
    "    if 'date' not in col.lower():\n",
    "        diagnostic_plots(X_train,col)"
   ]
  },
  {
   "cell_type": "markdown",
   "metadata": {},
   "source": [
    "> dari data yang di dapatkan bisa kita simpulkan data yang memiliki outliers adalah\n",
    "- 'MinTemp','MaxTemp','WindGustSpeed','WindSpeed9am',',WindSpeed3pm','Humidity9am','Pressure9am','Pressure3pm','Temp9am','Temp3pm'"
   ]
  },
  {
   "cell_type": "code",
   "execution_count": 56,
   "metadata": {},
   "outputs": [],
   "source": [
    "normal_dist_out = ['MinTemp', 'MaxTemp', 'Humidity9am','Pressure9am', 'Pressure3pm']\n",
    "skewed_dist_out = ['WindGustSpeed', 'WindSpeed9am', 'WindSpeed3pm','Temp9am', 'Temp3pm']\n"
   ]
  },
  {
   "cell_type": "code",
   "execution_count": 57,
   "metadata": {},
   "outputs": [
    {
     "name": "stdout",
     "output_type": "stream",
     "text": [
      "MinTemp\n",
      "Outliers count : 25\n",
      "Total entries : 116360\n",
      "Outliers percentage : 0.02148504640770024\n",
      "\n",
      "MaxTemp\n",
      "Outliers count : 274\n",
      "Total entries : 116360\n",
      "Outliers percentage : 0.23547610862839466\n",
      "\n",
      "Humidity9am\n",
      "Outliers count : 454\n",
      "Total entries : 116360\n",
      "Outliers percentage : 0.3901684427638364\n",
      "\n",
      "Pressure9am\n",
      "Outliers count : 605\n",
      "Total entries : 116360\n",
      "Outliers percentage : 0.5199381230663458\n",
      "\n",
      "Pressure3pm\n",
      "Outliers count : 534\n",
      "Total entries : 116360\n",
      "Outliers percentage : 0.4589205912684771\n",
      "\n"
     ]
    }
   ],
   "source": [
    "# loop menampilkan outlier distribusi normal\n",
    "for l in normal_dist_out:\n",
    "    n = detect1(X_train, l)\n",
    "    print(l)\n",
    "    print('Outliers count :', len(n))\n",
    "    print('Total entries :', len(X_train[l]))\n",
    "    print('Outliers percentage :', len(n)/len(X_train[l])*100)\n",
    "    print()"
   ]
  },
  {
   "cell_type": "code",
   "execution_count": 58,
   "metadata": {},
   "outputs": [
    {
     "name": "stdout",
     "output_type": "stream",
     "text": [
      "WindGustSpeed\n",
      "Outliers count : 4395\n",
      "Total entries : 116360\n",
      "Outliers percentage : 3.777071158473702\n",
      "\n",
      "WindSpeed9am\n",
      "Outliers count : 1436\n",
      "Total entries : 116360\n",
      "Outliers percentage : 1.2341010656583018\n",
      "\n",
      "WindSpeed3pm\n",
      "Outliers count : 2015\n",
      "Total entries : 116360\n",
      "Outliers percentage : 1.7316947404606393\n",
      "\n",
      "Temp9am\n",
      "Outliers count : 241\n",
      "Total entries : 116360\n",
      "Outliers percentage : 0.2071158473702303\n",
      "\n",
      "Temp3pm\n",
      "Outliers count : 774\n",
      "Total entries : 116360\n",
      "Outliers percentage : 0.6651770367823995\n",
      "\n"
     ]
    }
   ],
   "source": [
    "#loop menampilkan outlier distribusi skew\n",
    "for m in skewed_dist_out:\n",
    "    o = detect2(X_train, m)\n",
    "    print(m)\n",
    "    print('Outliers count :', len(o))\n",
    "    print('Total entries :', len(X_train[m]))\n",
    "    print('Outliers percentage :', len(o)/len(X_train[m])*100)\n",
    "    print()\n"
   ]
  },
  {
   "cell_type": "markdown",
   "metadata": {},
   "source": [
    ">Asumsi saya untuk outlier\n",
    "- \"<5%: trim \\remove\"\n",
    "- \"5-15% : capping\"\n",
    "- \">15% di biarkan\"\n"
   ]
  },
  {
   "cell_type": "code",
   "execution_count": 59,
   "metadata": {},
   "outputs": [],
   "source": [
    "#handling outlier base on case\n",
    "outlier_remove= ['Temp9am','Pressure3pm','Humidity9am','MaxTemp','MinTemp']\n",
    "outlier_capping= ['Temp3pm','Pressure9am']"
   ]
  },
  {
   "cell_type": "code",
   "execution_count": 60,
   "metadata": {},
   "outputs": [
    {
     "data": {
      "text/html": [
       "<div>\n",
       "<style scoped>\n",
       "    .dataframe tbody tr th:only-of-type {\n",
       "        vertical-align: middle;\n",
       "    }\n",
       "\n",
       "    .dataframe tbody tr th {\n",
       "        vertical-align: top;\n",
       "    }\n",
       "\n",
       "    .dataframe thead th {\n",
       "        text-align: right;\n",
       "    }\n",
       "</style>\n",
       "<table border=\"1\" class=\"dataframe\">\n",
       "  <thead>\n",
       "    <tr style=\"text-align: right;\">\n",
       "      <th></th>\n",
       "      <th>Temp3pm</th>\n",
       "      <th>Pressure9am</th>\n",
       "    </tr>\n",
       "  </thead>\n",
       "  <tbody>\n",
       "    <tr>\n",
       "      <th>count</th>\n",
       "      <td>116360.000000</td>\n",
       "      <td>116360.000000</td>\n",
       "    </tr>\n",
       "    <tr>\n",
       "      <th>mean</th>\n",
       "      <td>21.666985</td>\n",
       "      <td>1017.660046</td>\n",
       "    </tr>\n",
       "    <tr>\n",
       "      <th>std</th>\n",
       "      <td>6.853712</td>\n",
       "      <td>6.728249</td>\n",
       "    </tr>\n",
       "    <tr>\n",
       "      <th>min</th>\n",
       "      <td>-5.400000</td>\n",
       "      <td>980.500000</td>\n",
       "    </tr>\n",
       "    <tr>\n",
       "      <th>25%</th>\n",
       "      <td>16.700000</td>\n",
       "      <td>1013.600000</td>\n",
       "    </tr>\n",
       "    <tr>\n",
       "      <th>50%</th>\n",
       "      <td>21.100000</td>\n",
       "      <td>1017.660046</td>\n",
       "    </tr>\n",
       "    <tr>\n",
       "      <th>75%</th>\n",
       "      <td>26.200000</td>\n",
       "      <td>1021.800000</td>\n",
       "    </tr>\n",
       "    <tr>\n",
       "      <th>max</th>\n",
       "      <td>46.700000</td>\n",
       "      <td>1041.000000</td>\n",
       "    </tr>\n",
       "  </tbody>\n",
       "</table>\n",
       "</div>"
      ],
      "text/plain": [
       "             Temp3pm    Pressure9am\n",
       "count  116360.000000  116360.000000\n",
       "mean       21.666985    1017.660046\n",
       "std         6.853712       6.728249\n",
       "min        -5.400000     980.500000\n",
       "25%        16.700000    1013.600000\n",
       "50%        21.100000    1017.660046\n",
       "75%        26.200000    1021.800000\n",
       "max        46.700000    1041.000000"
      ]
     },
     "execution_count": 60,
     "metadata": {},
     "output_type": "execute_result"
    }
   ],
   "source": [
    "X_train[outlier_capping].describe()"
   ]
  },
  {
   "cell_type": "markdown",
   "metadata": {},
   "source": [
    "---\n",
    "### Handling Outlier menggunakan Capping"
   ]
  },
  {
   "cell_type": "code",
   "execution_count": 61,
   "metadata": {},
   "outputs": [],
   "source": [
    "def max_value(df3, variable, top):\n",
    "    return np.where(df3[variable]>top, top, df3[variable])\n",
    "\n",
    "for df3 in [X_train, X_test]:\n",
    "    df3['Temp3pm'] = max_value(df3, 'Temp3pm', 46.7)\n",
    "    df3['Pressure9am'] = max_value(df3, 'Pressure9am', 1041)"
   ]
  },
  {
   "cell_type": "code",
   "execution_count": 62,
   "metadata": {},
   "outputs": [
    {
     "data": {
      "text/plain": [
       "(46.7, 46.2)"
      ]
     },
     "execution_count": 62,
     "metadata": {},
     "output_type": "execute_result"
    }
   ],
   "source": [
    "X_train.Temp3pm.max(), X_test.Temp3pm.max()"
   ]
  },
  {
   "cell_type": "code",
   "execution_count": 63,
   "metadata": {},
   "outputs": [
    {
     "data": {
      "text/plain": [
       "(1041.0, 1040.6)"
      ]
     },
     "execution_count": 63,
     "metadata": {},
     "output_type": "execute_result"
    }
   ],
   "source": [
    "X_train.Pressure9am.max(), X_test.Pressure9am.max()"
   ]
  },
  {
   "cell_type": "code",
   "execution_count": 64,
   "metadata": {},
   "outputs": [
    {
     "name": "stdout",
     "output_type": "stream",
     "text": [
      "Temp9am\n"
     ]
    },
    {
     "data": {
      "text/plain": [
       "<Figure size 1152x288 with 0 Axes>"
      ]
     },
     "metadata": {},
     "output_type": "display_data"
    },
    {
     "data": {
      "image/png": "[encoded data removed]",
      "text/plain": [
       "<Figure size 1728x576 with 2 Axes>"
      ]
     },
     "metadata": {
      "needs_background": "light"
     },
     "output_type": "display_data"
    },
    {
     "name": "stdout",
     "output_type": "stream",
     "text": [
      "Pressure3pm\n"
     ]
    },
    {
     "data": {
      "text/plain": [
       "<Figure size 1152x288 with 0 Axes>"
      ]
     },
     "metadata": {},
     "output_type": "display_data"
    },
    {
     "data": {
      "image/png": "[encoded data removed]",
      "text/plain": [
       "<Figure size 1728x576 with 2 Axes>"
      ]
     },
     "metadata": {
      "needs_background": "light"
     },
     "output_type": "display_data"
    },
    {
     "name": "stdout",
     "output_type": "stream",
     "text": [
      "Humidity9am\n"
     ]
    },
    {
     "data": {
      "text/plain": [
       "<Figure size 1152x288 with 0 Axes>"
      ]
     },
     "metadata": {},
     "output_type": "display_data"
    },
    {
     "data": {
      "image/png": "[encoded data removed]",
      "text/plain": [
       "<Figure size 1728x576 with 2 Axes>"
      ]
     },
     "metadata": {
      "needs_background": "light"
     },
     "output_type": "display_data"
    },
    {
     "name": "stdout",
     "output_type": "stream",
     "text": [
      "MaxTemp\n"
     ]
    },
    {
     "data": {
      "text/plain": [
       "<Figure size 1152x288 with 0 Axes>"
      ]
     },
     "metadata": {},
     "output_type": "display_data"
    },
    {
     "data": {
      "image/png": "[encoded data removed]",
      "text/plain": [
       "<Figure size 1728x576 with 2 Axes>"
      ]
     },
     "metadata": {
      "needs_background": "light"
     },
     "output_type": "display_data"
    },
    {
     "name": "stdout",
     "output_type": "stream",
     "text": [
      "MinTemp\n"
     ]
    },
    {
     "data": {
      "text/plain": [
       "<Figure size 1152x288 with 0 Axes>"
      ]
     },
     "metadata": {},
     "output_type": "display_data"
    },
    {
     "data": {
      "image/png": "[encoded data removed]",
      "text/plain": [
       "<Figure size 1728x576 with 2 Axes>"
      ]
     },
     "metadata": {
      "needs_background": "light"
     },
     "output_type": "display_data"
    }
   ],
   "source": [
    "for i in outlier_remove:\n",
    "    diagnostic_plots(X_train,i)"
   ]
  },
  {
   "cell_type": "markdown",
   "metadata": {},
   "source": [
    "---\n",
    "Handling outlier menggunakan Trimiing\n",
    "> yang harus di perhatikan saat melakukan triming data inference juga harus disesuaikan shapenya"
   ]
  },
  {
   "cell_type": "code",
   "execution_count": 65,
   "metadata": {},
   "outputs": [],
   "source": [
    "# Function to find upper and lower boundaries for skewed distributed variables\n",
    "# Let's calculate the boundaries outside which sit the outliers for skewed distributions\n",
    "# Distance passed as an argument, gives us the option to estimate 1.5 times or 3 times the IQR to calculate the boundaries.\n",
    "\n",
    "def find_skewed_boundaries(df, variable, distance):\n",
    "    IQR = df[variable].quantile(0.75) - df[variable].quantile(0.25)\n",
    "\n",
    "    lower_boundary = df[variable].quantile(0.25) - (IQR * distance)\n",
    "    upper_boundary = df[variable].quantile(0.75) + (IQR * distance)\n",
    "\n",
    "    return upper_boundary, lower_boundary"
   ]
  },
  {
   "cell_type": "code",
   "execution_count": 66,
   "metadata": {},
   "outputs": [],
   "source": [
    "# Limits for `Temp9am`\n",
    "Temp9am_upper_limit, Temp9am_lower_limit = find_skewed_boundaries(X_train, 'Temp9am', 1.5)\n",
    "\n",
    "# Limits for `Pressure3pm`\n",
    "Pressure3pm_upper_limit, Pressure3pm_lower_limit = find_skewed_boundaries(X_train, 'Pressure3pm', 1.5)\n",
    "\n",
    "# Limits for `Humidity9am`\n",
    "Humidity9am_upper_limit, Humidity9am_lower_limit = find_skewed_boundaries(X_train, 'Humidity9am', 1.5)\n",
    "\n",
    "# Limits for `MaxTemp`\n",
    "MaxTemp_upper_limit, MaxTemp_lower_limit = find_skewed_boundaries(X_train, 'MaxTemp', 1.5)\n",
    "\n",
    "# Limits for `MinTemp`\n",
    "MinTemp_upper_limit, MinTemp_lower_limit = find_skewed_boundaries(X_train, 'MinTemp', 1.5)\n"
   ]
  },
  {
   "cell_type": "code",
   "execution_count": 67,
   "metadata": {},
   "outputs": [
    {
     "name": "stdout",
     "output_type": "stream",
     "text": [
      "Temp9am_upper_limit: 35.3\n",
      "Temp9am_lower_limit: -1.4999999999999982 \n",
      "\n",
      "Pressure3pm_upper_limit: 1031.85\n",
      "Pressure3pm_lower_limit: 998.6500000000001 \n",
      "\n",
      "Humidity9am_upper_limit: 122.0\n",
      "Humidity9am_lower_limit: 18.0 \n",
      "\n",
      "MaxTemp_upper_limit: 43.5\n",
      "MaxTemp_lower_limit: 2.700000000000001 \n",
      "\n",
      "MinTemp_upper_limit: 30.450000000000003\n",
      "MinTemp_lower_limit: -5.950000000000002 \n",
      "\n"
     ]
    }
   ],
   "source": [
    "print('Temp9am_upper_limit:' , Temp9am_upper_limit)\n",
    "print('Temp9am_lower_limit:' , Temp9am_lower_limit, '\\n')\n",
    "\n",
    "print('Pressure3pm_upper_limit:' , Pressure3pm_upper_limit)\n",
    "print('Pressure3pm_lower_limit:' , Pressure3pm_lower_limit, '\\n')\n",
    "\n",
    "print('Humidity9am_upper_limit:' , Humidity9am_upper_limit)\n",
    "print('Humidity9am_lower_limit:' , Humidity9am_lower_limit, '\\n')\n",
    "\n",
    "print('MaxTemp_upper_limit:' , MaxTemp_upper_limit)\n",
    "print('MaxTemp_lower_limit:' , MaxTemp_lower_limit, '\\n')\n",
    "\n",
    "print('MinTemp_upper_limit:' , MinTemp_upper_limit)\n",
    "print('MinTemp_lower_limit:' , MinTemp_lower_limit, '\\n')"
   ]
  },
  {
   "cell_type": "code",
   "execution_count": 68,
   "metadata": {},
   "outputs": [
    {
     "name": "stdout",
     "output_type": "stream",
     "text": [
      "[False False False False False False False False False False]\n"
     ]
    }
   ],
   "source": [
    "# Flag the outliers in category `Temp9am`\n",
    "outliers_Temp9am = np.where(X_train['Temp9am'] > Temp9am_upper_limit, True,\n",
    "                       np.where(X_train['Temp9am'] < Temp9am_lower_limit, True, False))\n",
    "\n",
    "# Flag the outliers in category `Pressure3pm`\n",
    "outliers_Pressure3pm = np.where(X_train['Pressure3pm'] > Pressure3pm_upper_limit, True,\n",
    "                          np.where(X_train['Pressure3pm'] < Pressure3pm_lower_limit, True, False))\n",
    "\n",
    "# Flag the outliers in category `Humidity9am`\n",
    "outliers_Humidity9am = np.where(X_train['Humidity9am'] > Humidity9am_upper_limit, True,\n",
    "                            np.where(X_train['Humidity9am'] < Humidity9am_lower_limit, True, False))\n",
    "\n",
    "# Flag the outliers in category `MaxTemp`\n",
    "outliers_MaxTemp = np.where(X_train['MaxTemp'] > MaxTemp_upper_limit, True,\n",
    "                        np.where(X_train['MaxTemp'] < MaxTemp_lower_limit, True, False))\n",
    "\n",
    "# Flag the outliers in category `MinTemp`\n",
    "outliers_MinTemp = np.where(X_train['MinTemp'] > MinTemp_upper_limit, True,\n",
    "                        np.where(X_train['MinTemp'] < MinTemp_lower_limit, True, False))\n",
    "\n",
    "print(outliers_Temp9am[:10])"
   ]
  },
  {
   "cell_type": "code",
   "execution_count": 69,
   "metadata": {},
   "outputs": [
    {
     "name": "stdout",
     "output_type": "stream",
     "text": [
      "Size Dataset before trimming outliers:  (116360, 21)\n",
      "Size Dataset before trimming outliers:  (116360, 1) \n",
      "\n",
      "Size Dataset after trimming outliers:  (112749, 21)\n",
      "Size Dataset after trimming outliers:  (112749, 1)\n"
     ]
    }
   ],
   "source": [
    "# Trim dataset\n",
    "X_train_trimmed = X_train.loc[~(outliers_Temp9am + outliers_Pressure3pm + outliers_Humidity9am + outliers_MaxTemp + outliers_MinTemp)]\n",
    "y_train_trimmed = y_train.loc[~(outliers_Temp9am + outliers_Pressure3pm + outliers_Humidity9am + outliers_MaxTemp + outliers_MinTemp)]\n",
    "\n",
    "print( 'Size Dataset before trimming outliers: ', X_train.shape)\n",
    "print( 'Size Dataset before trimming outliers: ', y_train.shape,'\\n')\n",
    "\n",
    "print( 'Size Dataset after trimming outliers: ', X_train_trimmed.shape)\n",
    "print( 'Size Dataset after trimming outliers: ', y_train_trimmed.shape)"
   ]
  },
  {
   "cell_type": "code",
   "execution_count": 70,
   "metadata": {},
   "outputs": [
    {
     "name": "stdout",
     "output_type": "stream",
     "text": [
      "<class 'pandas.core.frame.DataFrame'>\n",
      "Int64Index: 112749 entries, 1646 to 43567\n",
      "Data columns (total 1 columns):\n",
      " #   Column        Non-Null Count   Dtype  \n",
      "---  ------        --------------   -----  \n",
      " 0   RainTomorrow  112749 non-null  float64\n",
      "dtypes: float64(1)\n",
      "memory usage: 1.7 MB\n"
     ]
    }
   ],
   "source": [
    "y_train = y_train_trimmed\n",
    "y_train.info()"
   ]
  },
  {
   "cell_type": "code",
   "execution_count": 71,
   "metadata": {},
   "outputs": [
    {
     "name": "stdout",
     "output_type": "stream",
     "text": [
      "<class 'pandas.core.frame.DataFrame'>\n",
      "Int64Index: 112749 entries, 1646 to 43567\n",
      "Data columns (total 21 columns):\n",
      " #   Column         Non-Null Count   Dtype  \n",
      "---  ------         --------------   -----  \n",
      " 0   Location       112749 non-null  object \n",
      " 1   MinTemp        112749 non-null  float64\n",
      " 2   MaxTemp        112749 non-null  float64\n",
      " 3   Rainfall       112749 non-null  float64\n",
      " 4   WindGustDir    112749 non-null  object \n",
      " 5   WindGustSpeed  112749 non-null  float64\n",
      " 6   WindDir9am     112749 non-null  object \n",
      " 7   WindDir3pm     112749 non-null  object \n",
      " 8   WindSpeed9am   112749 non-null  float64\n",
      " 9   WindSpeed3pm   112749 non-null  float64\n",
      " 10  Humidity9am    112749 non-null  float64\n",
      " 11  Humidity3pm    112749 non-null  float64\n",
      " 12  Pressure9am    112749 non-null  float64\n",
      " 13  Pressure3pm    112749 non-null  float64\n",
      " 14  Cloud9am       112749 non-null  float64\n",
      " 15  Temp9am        112749 non-null  float64\n",
      " 16  Temp3pm        112749 non-null  float64\n",
      " 17  RainToday      112749 non-null  float64\n",
      " 18  Year           112749 non-null  int64  \n",
      " 19  Month          112749 non-null  int64  \n",
      " 20  Day            112749 non-null  int64  \n",
      "dtypes: float64(14), int64(3), object(4)\n",
      "memory usage: 18.9+ MB\n"
     ]
    }
   ],
   "source": [
    "X_train = X_train_trimmed\n",
    "X_train.info()"
   ]
  },
  {
   "cell_type": "code",
   "execution_count": 72,
   "metadata": {},
   "outputs": [
    {
     "name": "stdout",
     "output_type": "stream",
     "text": [
      "Numerical Columns: ['MinTemp', 'MaxTemp', 'Rainfall', 'WindGustSpeed', 'WindSpeed9am', 'WindSpeed3pm', 'Humidity9am', 'Humidity3pm', 'Pressure9am', 'Pressure3pm', 'Cloud9am', 'Temp9am', 'Temp3pm', 'RainToday', 'RainTomorrow', 'Year', 'Month', 'Day']\n",
      "Categorical Columns: ['Location', 'WindGustDir', 'WindDir9am', 'WindDir3pm']\n"
     ]
    }
   ],
   "source": [
    "# find categorical variables\n",
    "\n",
    "num_cols = [col for col in df_new.columns if df_new[col].dtypes != 'O']\n",
    "cat_cols = [col for col in df_new.columns if df_new[col].dtypes == 'O']\n",
    "\n",
    "print('Numerical Columns:', num_cols)\n",
    "print('Categorical Columns:', cat_cols)\n"
   ]
  },
  {
   "cell_type": "code",
   "execution_count": 73,
   "metadata": {},
   "outputs": [],
   "source": [
    "Numerical_Columns= ['MinTemp', 'MaxTemp', 'Rainfall', 'WindGustSpeed', 'WindSpeed9am', 'WindSpeed3pm', 'Humidity9am', 'Humidity3pm', 'Pressure9am', 'Pressure3pm', 'Cloud9am', 'Temp9am', 'Temp3pm', 'RainToday',  'Year', 'Month', 'Day']\n",
    "Categorical_Columns= ['Location', 'WindGustDir', 'WindDir9am', 'WindDir3pm']"
   ]
  },
  {
   "cell_type": "code",
   "execution_count": 74,
   "metadata": {},
   "outputs": [],
   "source": [
    "# Splitting Dataset based on input type\n",
    "\n",
    "X_train_num = X_train[Numerical_Columns]\n",
    "X_train_cat = X_train[Categorical_Columns]\n",
    "X_inf_num = X_inf[Numerical_Columns]\n",
    "X_inf_cat = X_inf[Categorical_Columns]\n",
    "X_test_num = X_test[Numerical_Columns]\n",
    "X_test_cat = X_test[Categorical_Columns]"
   ]
  },
  {
   "cell_type": "markdown",
   "metadata": {},
   "source": [
    "---\n",
    "### Feature Scaling"
   ]
  },
  {
   "cell_type": "code",
   "execution_count": 75,
   "metadata": {},
   "outputs": [],
   "source": [
    "# Define the scaling method\n",
    "scaler = StandardScaler()\n",
    "\n",
    "# Train the data into scaler\n",
    "# Use only data from `Train Set` for training\n",
    "scaler.fit(X_train_num)\n",
    "\n",
    "# Transform the input value for each input parameter\n",
    "# Transform both `Train Set` and `Test Set`\n",
    "X_train_num_scaled = scaler.transform(X_train_num)\n",
    "X_test_num_scaled = scaler.transform(X_test_num)\n",
    "X_inf_num_scaled = scaler.transform(X_inf_num)\n"
   ]
  },
  {
   "cell_type": "markdown",
   "metadata": {},
   "source": [
    "---\n",
    "### Feature Encoding"
   ]
  },
  {
   "cell_type": "code",
   "execution_count": 76,
   "metadata": {},
   "outputs": [],
   "source": [
    "# Define the encoding method\n",
    "encoder = OneHotEncoder()\n",
    "\n",
    "# Train the data into scaler\n",
    "# Use only data from `Train Set` for training\n",
    "encoder.fit(X_train_cat)\n",
    "\n",
    "# Transform the input value for each input parameter\n",
    "# Transform both `Train Set` and `Test Set`\n",
    "X_train_cat_encoded = encoder.transform(X_train_cat).toarray()\n",
    "X_test_cat_encoded = encoder.transform(X_test_cat).toarray()\n",
    "X_inf_cat_encoded = encoder.transform(X_inf_cat).toarray()"
   ]
  },
  {
   "cell_type": "markdown",
   "metadata": {},
   "source": [
    "---\n",
    "### Satukan kembali Dataset"
   ]
  },
  {
   "cell_type": "code",
   "execution_count": 77,
   "metadata": {},
   "outputs": [],
   "source": [
    "# Concatenate\n",
    "\n",
    "X_train_final = np.concatenate([X_train_num_scaled, X_train_cat_encoded], axis=1)\n",
    "X_test_final = np.concatenate([X_test_num_scaled, X_test_cat_encoded], axis=1)\n",
    "X_inf_final = np.concatenate([X_inf_num_scaled, X_inf_cat_encoded], axis=1)\n"
   ]
  },
  {
   "cell_type": "code",
   "execution_count": 78,
   "metadata": {},
   "outputs": [
    {
     "data": {
      "text/plain": [
       "1916733"
      ]
     },
     "execution_count": 78,
     "metadata": {},
     "output_type": "execute_result"
    }
   ],
   "source": [
    "np.count_nonzero(~np.isnan(X_train_num_scaled))"
   ]
  },
  {
   "cell_type": "code",
   "execution_count": 79,
   "metadata": {},
   "outputs": [
    {
     "data": {
      "text/html": [
       "<div>\n",
       "<style scoped>\n",
       "    .dataframe tbody tr th:only-of-type {\n",
       "        vertical-align: middle;\n",
       "    }\n",
       "\n",
       "    .dataframe tbody tr th {\n",
       "        vertical-align: top;\n",
       "    }\n",
       "\n",
       "    .dataframe thead th {\n",
       "        text-align: right;\n",
       "    }\n",
       "</style>\n",
       "<table border=\"1\" class=\"dataframe\">\n",
       "  <thead>\n",
       "    <tr style=\"text-align: right;\">\n",
       "      <th></th>\n",
       "      <th>0</th>\n",
       "      <th>1</th>\n",
       "      <th>2</th>\n",
       "      <th>3</th>\n",
       "      <th>4</th>\n",
       "      <th>5</th>\n",
       "      <th>6</th>\n",
       "      <th>7</th>\n",
       "      <th>8</th>\n",
       "      <th>9</th>\n",
       "      <th>...</th>\n",
       "      <th>104</th>\n",
       "      <th>105</th>\n",
       "      <th>106</th>\n",
       "      <th>107</th>\n",
       "      <th>108</th>\n",
       "      <th>109</th>\n",
       "      <th>110</th>\n",
       "      <th>111</th>\n",
       "      <th>112</th>\n",
       "      <th>113</th>\n",
       "    </tr>\n",
       "  </thead>\n",
       "  <tbody>\n",
       "    <tr>\n",
       "      <th>47167</th>\n",
       "      <td>-0.307863</td>\n",
       "      <td>0.112967</td>\n",
       "      <td>-0.276160</td>\n",
       "      <td>0.100950</td>\n",
       "      <td>0.917735</td>\n",
       "      <td>0.160923</td>\n",
       "      <td>0.151272</td>\n",
       "      <td>-0.536709</td>\n",
       "      <td>-0.609420</td>\n",
       "      <td>-0.654263</td>\n",
       "      <td>...</td>\n",
       "      <td>0.0</td>\n",
       "      <td>0.0</td>\n",
       "      <td>0.0</td>\n",
       "      <td>0.0</td>\n",
       "      <td>1.0</td>\n",
       "      <td>0.0</td>\n",
       "      <td>0.0</td>\n",
       "      <td>0.0</td>\n",
       "      <td>0.0</td>\n",
       "      <td>0.0</td>\n",
       "    </tr>\n",
       "    <tr>\n",
       "      <th>24347</th>\n",
       "      <td>0.758051</td>\n",
       "      <td>0.551283</td>\n",
       "      <td>-0.276160</td>\n",
       "      <td>-0.759073</td>\n",
       "      <td>-0.106641</td>\n",
       "      <td>0.045180</td>\n",
       "      <td>-0.021882</td>\n",
       "      <td>-0.009707</td>\n",
       "      <td>-0.012625</td>\n",
       "      <td>-0.015222</td>\n",
       "      <td>...</td>\n",
       "      <td>0.0</td>\n",
       "      <td>0.0</td>\n",
       "      <td>0.0</td>\n",
       "      <td>1.0</td>\n",
       "      <td>0.0</td>\n",
       "      <td>0.0</td>\n",
       "      <td>0.0</td>\n",
       "      <td>0.0</td>\n",
       "      <td>0.0</td>\n",
       "      <td>0.0</td>\n",
       "    </tr>\n",
       "    <tr>\n",
       "      <th>52120</th>\n",
       "      <td>1.983057</td>\n",
       "      <td>1.544799</td>\n",
       "      <td>-0.276160</td>\n",
       "      <td>0.804605</td>\n",
       "      <td>0.348637</td>\n",
       "      <td>0.045180</td>\n",
       "      <td>0.373166</td>\n",
       "      <td>-0.436993</td>\n",
       "      <td>-0.958605</td>\n",
       "      <td>-1.186415</td>\n",
       "      <td>...</td>\n",
       "      <td>0.0</td>\n",
       "      <td>0.0</td>\n",
       "      <td>0.0</td>\n",
       "      <td>0.0</td>\n",
       "      <td>0.0</td>\n",
       "      <td>0.0</td>\n",
       "      <td>0.0</td>\n",
       "      <td>0.0</td>\n",
       "      <td>0.0</td>\n",
       "      <td>0.0</td>\n",
       "    </tr>\n",
       "    <tr>\n",
       "      <th>34635</th>\n",
       "      <td>0.710324</td>\n",
       "      <td>0.186019</td>\n",
       "      <td>-0.227743</td>\n",
       "      <td>-1.384544</td>\n",
       "      <td>-1.131017</td>\n",
       "      <td>-0.880763</td>\n",
       "      <td>0.650534</td>\n",
       "      <td>0.310880</td>\n",
       "      <td>-1.022093</td>\n",
       "      <td>-1.170289</td>\n",
       "      <td>...</td>\n",
       "      <td>0.0</td>\n",
       "      <td>0.0</td>\n",
       "      <td>0.0</td>\n",
       "      <td>0.0</td>\n",
       "      <td>0.0</td>\n",
       "      <td>0.0</td>\n",
       "      <td>0.0</td>\n",
       "      <td>0.0</td>\n",
       "      <td>0.0</td>\n",
       "      <td>0.0</td>\n",
       "    </tr>\n",
       "    <tr>\n",
       "      <th>5485</th>\n",
       "      <td>0.630778</td>\n",
       "      <td>0.375956</td>\n",
       "      <td>-0.276160</td>\n",
       "      <td>1.820996</td>\n",
       "      <td>1.828291</td>\n",
       "      <td>0.623894</td>\n",
       "      <td>-1.623880</td>\n",
       "      <td>-0.786000</td>\n",
       "      <td>-1.720461</td>\n",
       "      <td>-2.105586</td>\n",
       "      <td>...</td>\n",
       "      <td>0.0</td>\n",
       "      <td>0.0</td>\n",
       "      <td>0.0</td>\n",
       "      <td>0.0</td>\n",
       "      <td>0.0</td>\n",
       "      <td>0.0</td>\n",
       "      <td>0.0</td>\n",
       "      <td>0.0</td>\n",
       "      <td>0.0</td>\n",
       "      <td>1.0</td>\n",
       "    </tr>\n",
       "    <tr>\n",
       "      <th>100189</th>\n",
       "      <td>-0.801047</td>\n",
       "      <td>-0.486065</td>\n",
       "      <td>-0.276160</td>\n",
       "      <td>-1.228176</td>\n",
       "      <td>-1.131017</td>\n",
       "      <td>-1.459478</td>\n",
       "      <td>-0.070622</td>\n",
       "      <td>-0.387135</td>\n",
       "      <td>-0.006284</td>\n",
       "      <td>-0.315621</td>\n",
       "      <td>...</td>\n",
       "      <td>0.0</td>\n",
       "      <td>0.0</td>\n",
       "      <td>0.0</td>\n",
       "      <td>0.0</td>\n",
       "      <td>0.0</td>\n",
       "      <td>0.0</td>\n",
       "      <td>0.0</td>\n",
       "      <td>0.0</td>\n",
       "      <td>0.0</td>\n",
       "      <td>0.0</td>\n",
       "    </tr>\n",
       "    <tr>\n",
       "      <th>107593</th>\n",
       "      <td>0.821688</td>\n",
       "      <td>0.945767</td>\n",
       "      <td>-0.276160</td>\n",
       "      <td>-0.759073</td>\n",
       "      <td>-0.561919</td>\n",
       "      <td>-0.649278</td>\n",
       "      <td>-0.403463</td>\n",
       "      <td>-0.187702</td>\n",
       "      <td>-0.784012</td>\n",
       "      <td>-0.896150</td>\n",
       "      <td>...</td>\n",
       "      <td>0.0</td>\n",
       "      <td>0.0</td>\n",
       "      <td>0.0</td>\n",
       "      <td>0.0</td>\n",
       "      <td>0.0</td>\n",
       "      <td>0.0</td>\n",
       "      <td>0.0</td>\n",
       "      <td>0.0</td>\n",
       "      <td>0.0</td>\n",
       "      <td>0.0</td>\n",
       "    </tr>\n",
       "    <tr>\n",
       "      <th>77225</th>\n",
       "      <td>0.869415</td>\n",
       "      <td>0.215240</td>\n",
       "      <td>-0.276160</td>\n",
       "      <td>-0.055418</td>\n",
       "      <td>-1.586295</td>\n",
       "      <td>-0.417792</td>\n",
       "      <td>0.706007</td>\n",
       "      <td>0.510312</td>\n",
       "      <td>-1.355405</td>\n",
       "      <td>-1.299295</td>\n",
       "      <td>...</td>\n",
       "      <td>1.0</td>\n",
       "      <td>0.0</td>\n",
       "      <td>0.0</td>\n",
       "      <td>0.0</td>\n",
       "      <td>0.0</td>\n",
       "      <td>0.0</td>\n",
       "      <td>0.0</td>\n",
       "      <td>0.0</td>\n",
       "      <td>0.0</td>\n",
       "      <td>0.0</td>\n",
       "    </tr>\n",
       "    <tr>\n",
       "      <th>42844</th>\n",
       "      <td>0.789869</td>\n",
       "      <td>0.609725</td>\n",
       "      <td>-0.276160</td>\n",
       "      <td>-0.368153</td>\n",
       "      <td>-0.334280</td>\n",
       "      <td>0.392408</td>\n",
       "      <td>0.206745</td>\n",
       "      <td>0.061589</td>\n",
       "      <td>0.406389</td>\n",
       "      <td>0.361663</td>\n",
       "      <td>...</td>\n",
       "      <td>0.0</td>\n",
       "      <td>0.0</td>\n",
       "      <td>0.0</td>\n",
       "      <td>0.0</td>\n",
       "      <td>0.0</td>\n",
       "      <td>0.0</td>\n",
       "      <td>0.0</td>\n",
       "      <td>0.0</td>\n",
       "      <td>0.0</td>\n",
       "      <td>0.0</td>\n",
       "    </tr>\n",
       "    <tr>\n",
       "      <th>72663</th>\n",
       "      <td>-0.705592</td>\n",
       "      <td>-0.968213</td>\n",
       "      <td>-0.276160</td>\n",
       "      <td>-1.071809</td>\n",
       "      <td>-1.586295</td>\n",
       "      <td>-0.186306</td>\n",
       "      <td>-0.347990</td>\n",
       "      <td>0.011731</td>\n",
       "      <td>2.326903</td>\n",
       "      <td>2.312887</td>\n",
       "      <td>...</td>\n",
       "      <td>0.0</td>\n",
       "      <td>0.0</td>\n",
       "      <td>1.0</td>\n",
       "      <td>0.0</td>\n",
       "      <td>0.0</td>\n",
       "      <td>0.0</td>\n",
       "      <td>0.0</td>\n",
       "      <td>0.0</td>\n",
       "      <td>0.0</td>\n",
       "      <td>0.0</td>\n",
       "    </tr>\n",
       "  </tbody>\n",
       "</table>\n",
       "<p>10 rows × 114 columns</p>\n",
       "</div>"
      ],
      "text/plain": [
       "             0         1         2         3         4         5         6    \\\n",
       "47167  -0.307863  0.112967 -0.276160  0.100950  0.917735  0.160923  0.151272   \n",
       "24347   0.758051  0.551283 -0.276160 -0.759073 -0.106641  0.045180 -0.021882   \n",
       "52120   1.983057  1.544799 -0.276160  0.804605  0.348637  0.045180  0.373166   \n",
       "34635   0.710324  0.186019 -0.227743 -1.384544 -1.131017 -0.880763  0.650534   \n",
       "5485    0.630778  0.375956 -0.276160  1.820996  1.828291  0.623894 -1.623880   \n",
       "100189 -0.801047 -0.486065 -0.276160 -1.228176 -1.131017 -1.459478 -0.070622   \n",
       "107593  0.821688  0.945767 -0.276160 -0.759073 -0.561919 -0.649278 -0.403463   \n",
       "77225   0.869415  0.215240 -0.276160 -0.055418 -1.586295 -0.417792  0.706007   \n",
       "42844   0.789869  0.609725 -0.276160 -0.368153 -0.334280  0.392408  0.206745   \n",
       "72663  -0.705592 -0.968213 -0.276160 -1.071809 -1.586295 -0.186306 -0.347990   \n",
       "\n",
       "             7         8         9    ...  104  105  106  107  108  109  110  \\\n",
       "47167  -0.536709 -0.609420 -0.654263  ...  0.0  0.0  0.0  0.0  1.0  0.0  0.0   \n",
       "24347  -0.009707 -0.012625 -0.015222  ...  0.0  0.0  0.0  1.0  0.0  0.0  0.0   \n",
       "52120  -0.436993 -0.958605 -1.186415  ...  0.0  0.0  0.0  0.0  0.0  0.0  0.0   \n",
       "34635   0.310880 -1.022093 -1.170289  ...  0.0  0.0  0.0  0.0  0.0  0.0  0.0   \n",
       "5485   -0.786000 -1.720461 -2.105586  ...  0.0  0.0  0.0  0.0  0.0  0.0  0.0   \n",
       "100189 -0.387135 -0.006284 -0.315621  ...  0.0  0.0  0.0  0.0  0.0  0.0  0.0   \n",
       "107593 -0.187702 -0.784012 -0.896150  ...  0.0  0.0  0.0  0.0  0.0  0.0  0.0   \n",
       "77225   0.510312 -1.355405 -1.299295  ...  1.0  0.0  0.0  0.0  0.0  0.0  0.0   \n",
       "42844   0.061589  0.406389  0.361663  ...  0.0  0.0  0.0  0.0  0.0  0.0  0.0   \n",
       "72663   0.011731  2.326903  2.312887  ...  0.0  0.0  1.0  0.0  0.0  0.0  0.0   \n",
       "\n",
       "        111  112  113  \n",
       "47167   0.0  0.0  0.0  \n",
       "24347   0.0  0.0  0.0  \n",
       "52120   0.0  0.0  0.0  \n",
       "34635   0.0  0.0  0.0  \n",
       "5485    0.0  0.0  1.0  \n",
       "100189  0.0  0.0  0.0  \n",
       "107593  0.0  0.0  0.0  \n",
       "77225   0.0  0.0  0.0  \n",
       "42844   0.0  0.0  0.0  \n",
       "72663   0.0  0.0  0.0  \n",
       "\n",
       "[10 rows x 114 columns]"
      ]
     },
     "execution_count": 79,
     "metadata": {},
     "output_type": "execute_result"
    }
   ],
   "source": [
    "# Check\n",
    "# Turn it into dataframe first\n",
    "\n",
    "df_X_train_final = pd.DataFrame(X_train_final)\n",
    "df_X_train_final.sample(10)"
   ]
  },
  {
   "cell_type": "markdown",
   "metadata": {},
   "source": [
    "# 6. Model Definition\n",
    "\n",
    "Dataset yang diprediksi adalah klasifikasi, maka model yang digunakan adalah model Logistic Regression dan LinearSVC."
   ]
  },
  {
   "cell_type": "code",
   "execution_count": 80,
   "metadata": {},
   "outputs": [],
   "source": [
    "#Model Definition\n",
    "model1 = LogisticRegression(C=100, penalty='l2', solver='sag', max_iter=1000)\n",
    "model2 = LinearSVC(C=1.0, penalty='l1', dual=False, max_iter=1000)\n",
    "# model3 = SVC(C=1.0, kernel='rbf', gamma=0.1, probability=True, cache_size=2000)"
   ]
  },
  {
   "cell_type": "markdown",
   "metadata": {},
   "source": [
    "> Hyper parameter di definisikan\n",
    "\n",
    "\n",
    "\n",
    "- Logistic Regression\n",
    "    - C : Penalty parameter C of the error term. = 100\n",
    "    - penalty : Type of regularization to use (‘l1’ or ‘l2’). = L2\n",
    "    - solver : Algorithm to use in the optimization problem. = saga\n",
    "    - max_iter : Maximum number of iterations to perform. = 1000\n",
    "\n",
    "\n",
    "- LinearSVC\n",
    "    - C : Penalty parameter C of the error term. =1.0\n",
    "    - penalty : Type of regularization to use (‘l1’ or ‘l2’). = L1\n",
    "    - dual : Select the algorithm to either solve the dual or primal optimization problem. = False\n",
    "    - max_iter : Maximum number of iterations to perform. = 1000\n"
   ]
  },
  {
   "cell_type": "markdown",
   "metadata": {},
   "source": [
    "# 7. Model Training"
   ]
  },
  {
   "cell_type": "markdown",
   "metadata": {},
   "source": [
    "## Logistic Regression Model"
   ]
  },
  {
   "cell_type": "code",
   "execution_count": 81,
   "metadata": {},
   "outputs": [
    {
     "data": {
      "text/plain": [
       "LogisticRegression(C=100, max_iter=1000, solver='sag')"
      ]
     },
     "execution_count": 81,
     "metadata": {},
     "output_type": "execute_result"
    }
   ],
   "source": [
    "# Model Training LogReg\n",
    "model1.fit(X_train_final, y_train)"
   ]
  },
  {
   "cell_type": "code",
   "execution_count": 82,
   "metadata": {},
   "outputs": [
    {
     "data": {
      "text/plain": [
       "array([0., 1., 0., ..., 1., 0., 0.])"
      ]
     },
     "execution_count": 82,
     "metadata": {},
     "output_type": "execute_result"
    }
   ],
   "source": [
    "# Determines prediction result Logreg\n",
    "y_pred_train = model1.predict(X_train_final)\n",
    "y_pred_test = model1.predict(X_test_final)\n",
    "\n",
    "y_pred_test"
   ]
  },
  {
   "cell_type": "markdown",
   "metadata": {},
   "source": [
    "## SVM Model - LinearSVC"
   ]
  },
  {
   "cell_type": "code",
   "execution_count": 83,
   "metadata": {},
   "outputs": [
    {
     "data": {
      "text/plain": [
       "LinearSVC(dual=False, penalty='l1')"
      ]
     },
     "execution_count": 83,
     "metadata": {},
     "output_type": "execute_result"
    }
   ],
   "source": [
    "# Model Training LinearSVC\n",
    "model2.fit(X_train_final, y_train)"
   ]
  },
  {
   "cell_type": "code",
   "execution_count": 84,
   "metadata": {},
   "outputs": [
    {
     "data": {
      "text/plain": [
       "array([0., 1., 0., ..., 1., 0., 0.])"
      ]
     },
     "execution_count": 84,
     "metadata": {},
     "output_type": "execute_result"
    }
   ],
   "source": [
    "# Determines prediction result Logreg\n",
    "y_pred_train = model2.predict(X_train_final)\n",
    "y_pred_test = model2.predict(X_test_final)\n",
    "\n",
    "y_pred_test"
   ]
  },
  {
   "cell_type": "markdown",
   "metadata": {},
   "source": [
    "## SVM Model - SVC - Waktunya terlalu lama jadi saya memutuskan untuk interupt (sudah berjalan 3jam lebih)"
   ]
  },
  {
   "cell_type": "code",
   "execution_count": 85,
   "metadata": {},
   "outputs": [],
   "source": [
    "# # Model Training SVC\n",
    "# model3.fit(X_train_final, y_train)"
   ]
  },
  {
   "cell_type": "code",
   "execution_count": 86,
   "metadata": {},
   "outputs": [],
   "source": [
    "# # Determines prediction result SVC\n",
    "# y_pred_train = model3.predict(X_train_final)\n",
    "# y_pred_test = model3.predict(X_test_final)\n",
    "\n",
    "# y_pred_test"
   ]
  },
  {
   "cell_type": "markdown",
   "metadata": {},
   "source": [
    "# 8.Model Evaluation\n",
    "\n",
    "Evaluasi terbaik dari masing-masing model"
   ]
  },
  {
   "cell_type": "code",
   "execution_count": 87,
   "metadata": {},
   "outputs": [
    {
     "name": "stdout",
     "output_type": "stream",
     "text": [
      "Training set score Logistic Regression: 0.8460740228294708\n",
      "Test set score Logistic Regression: 0.8484358886215194\n",
      "\n",
      "Training set score SVC: 0.845905506922456\n",
      "Test set score SVC: 0.8484015125472671\n"
     ]
    }
   ],
   "source": [
    "print('Training set score Logistic Regression: ' + str(model1.score(X_train_final, y_train)))\n",
    "print('Test set score Logistic Regression: ' + str(model1.score(X_test_final, y_test)))\n",
    "\n",
    "print('\\nTraining set score SVC: ' + str(model2.score(X_train_final, y_train)))\n",
    "print('Test set score SVC: ' + str(model2.score(X_test_final, y_test)))"
   ]
  },
  {
   "cell_type": "code",
   "execution_count": 88,
   "metadata": {},
   "outputs": [
    {
     "name": "stdout",
     "output_type": "stream",
     "text": [
      "Logistic Regression\n",
      "               precision    recall  f1-score   support\n",
      "\n",
      "         0.0       0.87      0.95      0.91     22828\n",
      "         1.0       0.72      0.49      0.58      6262\n",
      "\n",
      "    accuracy                           0.85     29090\n",
      "   macro avg       0.79      0.72      0.74     29090\n",
      "weighted avg       0.84      0.85      0.84     29090\n",
      "\n"
     ]
    }
   ],
   "source": [
    "print('Logistic Regression\\n',classification_report(y_test, model1.predict(X_test_final)))"
   ]
  },
  {
   "cell_type": "markdown",
   "metadata": {},
   "source": [
    ">Pada Model Logistic Regresion model mempunyai F1 score dengan nilai 91% untuk memprediksi besok tidak hujan, sedangkan untuk prediksi besok hujan maka nilai F1 scorenya adalah 58%"
   ]
  },
  {
   "cell_type": "code",
   "execution_count": 89,
   "metadata": {},
   "outputs": [
    {
     "name": "stdout",
     "output_type": "stream",
     "text": [
      "\n",
      "Linear SVC\n",
      "               precision    recall  f1-score   support\n",
      "\n",
      "         0.0       0.87      0.95      0.91     22828\n",
      "         1.0       0.73      0.47      0.57      6262\n",
      "\n",
      "    accuracy                           0.85     29090\n",
      "   macro avg       0.80      0.71      0.74     29090\n",
      "weighted avg       0.84      0.85      0.84     29090\n",
      "\n"
     ]
    }
   ],
   "source": [
    "print('\\nLinear SVC\\n', classification_report(y_test, model2.predict(X_test_final)))"
   ]
  },
  {
   "cell_type": "markdown",
   "metadata": {},
   "source": [
    ">Pada Model SVC model mempunyai F1 score dengan nilai 91% untuk memprediksi besok tidak hujan, sedangkan untuk prediksi besok hujan maka nilai F1 scorenya adalah 57%"
   ]
  },
  {
   "cell_type": "markdown",
   "metadata": {},
   "source": [
    "1 = di prediksikan hujan\n",
    "0 = di prediksikan tidak hujan"
   ]
  },
  {
   "cell_type": "code",
   "execution_count": 90,
   "metadata": {},
   "outputs": [
    {
     "name": "stdout",
     "output_type": "stream",
     "text": [
      "Skor Dengan Model Logistic Regression  0.85\n",
      "Skor Dengan Model LinearSVC  0.85\n"
     ]
    }
   ],
   "source": [
    "#Komparasi Model pada TEST set\n",
    "logreg = model1.score(X_test_final, y_test)\n",
    "svc = model2.score(X_test_final, y_test)\n",
    "print('Skor Dengan Model Logistic Regression ',round(logreg,2))\n",
    "print('Skor Dengan Model LinearSVC ',round(svc,2))"
   ]
  },
  {
   "cell_type": "markdown",
   "metadata": {},
   "source": [
    "> Skor model sama untuk semua model"
   ]
  },
  {
   "cell_type": "code",
   "execution_count": 91,
   "metadata": {},
   "outputs": [
    {
     "data": {
      "text/plain": [
       "array([[21613,  1215],\n",
       "       [ 3194,  3068]], dtype=int64)"
      ]
     },
     "execution_count": 91,
     "metadata": {},
     "output_type": "execute_result"
    }
   ],
   "source": [
    "#melihat confusion matrix untuk model logistic regression\n",
    "log_confusion = confusion_matrix(y_test, model1.predict(X_test_final))\n",
    "log_confusion"
   ]
  },
  {
   "cell_type": "markdown",
   "metadata": {},
   "source": [
    "> Model Logistic Regression memprediksi 21613 + 1215 data yang benar, dan 3194 + 3068 data yang salah. "
   ]
  },
  {
   "cell_type": "code",
   "execution_count": 92,
   "metadata": {},
   "outputs": [
    {
     "data": {
      "text/plain": [
       "array([[21741,  1087],\n",
       "       [ 3323,  2939]], dtype=int64)"
      ]
     },
     "execution_count": 92,
     "metadata": {},
     "output_type": "execute_result"
    }
   ],
   "source": [
    "#melihat confusion matrix untuk model LinearSVM\n",
    "log_confusion = confusion_matrix(y_test, model2.predict(X_test_final))\n",
    "log_confusion"
   ]
  },
  {
   "cell_type": "markdown",
   "metadata": {},
   "source": [
    "> Model LinearSVC memprediksi 21740 + 1088 data yang benar, dan 3323 + 2939 data yang salah. "
   ]
  },
  {
   "cell_type": "markdown",
   "metadata": {},
   "source": [
    "---\n",
    "Nilai ROC AUC Score untuk LinearSVC Test"
   ]
  },
  {
   "cell_type": "code",
   "execution_count": 93,
   "metadata": {},
   "outputs": [
    {
     "data": {
      "text/plain": [
       "[<matplotlib.lines.Line2D at 0x13f82802100>]"
      ]
     },
     "execution_count": 93,
     "metadata": {},
     "output_type": "execute_result"
    },
    {
     "data": {
      "image/png": "[encoded data removed]",
      "text/plain": [
       "<Figure size 432x288 with 1 Axes>"
      ]
     },
     "metadata": {
      "needs_background": "light"
     },
     "output_type": "display_data"
    }
   ],
   "source": [
    "plot_roc_curve(model2, X_test_final, y_test)\n",
    "plt.plot([0,1], [0,1], c='r')"
   ]
  },
  {
   "cell_type": "markdown",
   "metadata": {},
   "source": [
    "> Score ROC AUC Score untuk LinearSVC Test adalah 86%"
   ]
  },
  {
   "cell_type": "code",
   "execution_count": 94,
   "metadata": {},
   "outputs": [
    {
     "data": {
      "text/plain": [
       "[<matplotlib.lines.Line2D at 0x13f81d4c790>]"
      ]
     },
     "execution_count": 94,
     "metadata": {},
     "output_type": "execute_result"
    },
    {
     "data": {
      "image/png": "[encoded data removed]",
      "text/plain": [
       "<Figure size 432x288 with 1 Axes>"
      ]
     },
     "metadata": {
      "needs_background": "light"
     },
     "output_type": "display_data"
    }
   ],
   "source": [
    "plot_roc_curve(model1, X_test_final, y_test)\n",
    "plt.plot([0,1], [0,1], c='r')"
   ]
  },
  {
   "cell_type": "markdown",
   "metadata": {},
   "source": [
    "> Score ROC AUC Score untuk LogisticRegression Test adalah 86%"
   ]
  },
  {
   "cell_type": "markdown",
   "metadata": {},
   "source": [
    "# 9. Model Inference\n",
    "Menguji model menggunakan data inference (df_inf)"
   ]
  },
  {
   "cell_type": "code",
   "execution_count": 95,
   "metadata": {},
   "outputs": [
    {
     "data": {
      "text/html": [
       "<div>\n",
       "<style scoped>\n",
       "    .dataframe tbody tr th:only-of-type {\n",
       "        vertical-align: middle;\n",
       "    }\n",
       "\n",
       "    .dataframe tbody tr th {\n",
       "        vertical-align: top;\n",
       "    }\n",
       "\n",
       "    .dataframe thead th {\n",
       "        text-align: right;\n",
       "    }\n",
       "</style>\n",
       "<table border=\"1\" class=\"dataframe\">\n",
       "  <thead>\n",
       "    <tr style=\"text-align: right;\">\n",
       "      <th></th>\n",
       "      <th>prediksi_hujan_besok_log</th>\n",
       "    </tr>\n",
       "  </thead>\n",
       "  <tbody>\n",
       "    <tr>\n",
       "      <th>0</th>\n",
       "      <td>1.0</td>\n",
       "    </tr>\n",
       "    <tr>\n",
       "      <th>1</th>\n",
       "      <td>0.0</td>\n",
       "    </tr>\n",
       "    <tr>\n",
       "      <th>2</th>\n",
       "      <td>1.0</td>\n",
       "    </tr>\n",
       "    <tr>\n",
       "      <th>3</th>\n",
       "      <td>0.0</td>\n",
       "    </tr>\n",
       "    <tr>\n",
       "      <th>4</th>\n",
       "      <td>0.0</td>\n",
       "    </tr>\n",
       "    <tr>\n",
       "      <th>5</th>\n",
       "      <td>0.0</td>\n",
       "    </tr>\n",
       "    <tr>\n",
       "      <th>6</th>\n",
       "      <td>0.0</td>\n",
       "    </tr>\n",
       "    <tr>\n",
       "      <th>7</th>\n",
       "      <td>0.0</td>\n",
       "    </tr>\n",
       "    <tr>\n",
       "      <th>8</th>\n",
       "      <td>0.0</td>\n",
       "    </tr>\n",
       "    <tr>\n",
       "      <th>9</th>\n",
       "      <td>0.0</td>\n",
       "    </tr>\n",
       "  </tbody>\n",
       "</table>\n",
       "</div>"
      ],
      "text/plain": [
       "   prediksi_hujan_besok_log\n",
       "0                       1.0\n",
       "1                       0.0\n",
       "2                       1.0\n",
       "3                       0.0\n",
       "4                       0.0\n",
       "5                       0.0\n",
       "6                       0.0\n",
       "7                       0.0\n",
       "8                       0.0\n",
       "9                       0.0"
      ]
     },
     "execution_count": 95,
     "metadata": {},
     "output_type": "execute_result"
    }
   ],
   "source": [
    "#prediksi data inference dengan LogisticRegression\n",
    "inf_pred_log = model1.predict(X_inf_final)\n",
    "inf_pred_df_log = pd.DataFrame(inf_pred_log, columns=['prediksi_hujan_besok_log'])\n",
    "inf_pred_df_log"
   ]
  },
  {
   "cell_type": "code",
   "execution_count": 96,
   "metadata": {},
   "outputs": [
    {
     "data": {
      "text/html": [
       "<div>\n",
       "<style scoped>\n",
       "    .dataframe tbody tr th:only-of-type {\n",
       "        vertical-align: middle;\n",
       "    }\n",
       "\n",
       "    .dataframe tbody tr th {\n",
       "        vertical-align: top;\n",
       "    }\n",
       "\n",
       "    .dataframe thead th {\n",
       "        text-align: right;\n",
       "    }\n",
       "</style>\n",
       "<table border=\"1\" class=\"dataframe\">\n",
       "  <thead>\n",
       "    <tr style=\"text-align: right;\">\n",
       "      <th></th>\n",
       "      <th>prediksi_hujan_besok_svc</th>\n",
       "    </tr>\n",
       "  </thead>\n",
       "  <tbody>\n",
       "    <tr>\n",
       "      <th>0</th>\n",
       "      <td>1.0</td>\n",
       "    </tr>\n",
       "    <tr>\n",
       "      <th>1</th>\n",
       "      <td>0.0</td>\n",
       "    </tr>\n",
       "    <tr>\n",
       "      <th>2</th>\n",
       "      <td>1.0</td>\n",
       "    </tr>\n",
       "    <tr>\n",
       "      <th>3</th>\n",
       "      <td>0.0</td>\n",
       "    </tr>\n",
       "    <tr>\n",
       "      <th>4</th>\n",
       "      <td>0.0</td>\n",
       "    </tr>\n",
       "    <tr>\n",
       "      <th>5</th>\n",
       "      <td>0.0</td>\n",
       "    </tr>\n",
       "    <tr>\n",
       "      <th>6</th>\n",
       "      <td>0.0</td>\n",
       "    </tr>\n",
       "    <tr>\n",
       "      <th>7</th>\n",
       "      <td>0.0</td>\n",
       "    </tr>\n",
       "    <tr>\n",
       "      <th>8</th>\n",
       "      <td>0.0</td>\n",
       "    </tr>\n",
       "    <tr>\n",
       "      <th>9</th>\n",
       "      <td>0.0</td>\n",
       "    </tr>\n",
       "  </tbody>\n",
       "</table>\n",
       "</div>"
      ],
      "text/plain": [
       "   prediksi_hujan_besok_svc\n",
       "0                       1.0\n",
       "1                       0.0\n",
       "2                       1.0\n",
       "3                       0.0\n",
       "4                       0.0\n",
       "5                       0.0\n",
       "6                       0.0\n",
       "7                       0.0\n",
       "8                       0.0\n",
       "9                       0.0"
      ]
     },
     "execution_count": 96,
     "metadata": {},
     "output_type": "execute_result"
    }
   ],
   "source": [
    "#prediksi data inference dengan model LinearSVC\n",
    "inf_pred_svc = model2.predict(X_inf_final)\n",
    "inf_pred_df_svc = pd.DataFrame(inf_pred_svc, columns=['prediksi_hujan_besok_svc'])\n",
    "inf_pred_df_svc"
   ]
  },
  {
   "cell_type": "code",
   "execution_count": 97,
   "metadata": {},
   "outputs": [],
   "source": [
    "df_inf_pred = pd.concat([inf_pred_df_log ,inf_pred_df_svc ], axis=1)"
   ]
  },
  {
   "cell_type": "code",
   "execution_count": 98,
   "metadata": {},
   "outputs": [
    {
     "data": {
      "text/html": [
       "<div>\n",
       "<style scoped>\n",
       "    .dataframe tbody tr th:only-of-type {\n",
       "        vertical-align: middle;\n",
       "    }\n",
       "\n",
       "    .dataframe tbody tr th {\n",
       "        vertical-align: top;\n",
       "    }\n",
       "\n",
       "    .dataframe thead th {\n",
       "        text-align: right;\n",
       "    }\n",
       "</style>\n",
       "<table border=\"1\" class=\"dataframe\">\n",
       "  <thead>\n",
       "    <tr style=\"text-align: right;\">\n",
       "      <th></th>\n",
       "      <th>Location</th>\n",
       "      <th>MinTemp</th>\n",
       "      <th>MaxTemp</th>\n",
       "      <th>Rainfall</th>\n",
       "      <th>WindGustDir</th>\n",
       "      <th>WindGustSpeed</th>\n",
       "      <th>WindDir9am</th>\n",
       "      <th>WindDir3pm</th>\n",
       "      <th>WindSpeed9am</th>\n",
       "      <th>WindSpeed3pm</th>\n",
       "      <th>...</th>\n",
       "      <th>Cloud9am</th>\n",
       "      <th>Temp9am</th>\n",
       "      <th>Temp3pm</th>\n",
       "      <th>RainToday</th>\n",
       "      <th>RainTomorrow</th>\n",
       "      <th>Year</th>\n",
       "      <th>Month</th>\n",
       "      <th>Day</th>\n",
       "      <th>prediksi_hujan_besok_log</th>\n",
       "      <th>prediksi_hujan_besok_svc</th>\n",
       "    </tr>\n",
       "  </thead>\n",
       "  <tbody>\n",
       "    <tr>\n",
       "      <th>0</th>\n",
       "      <td>Perth</td>\n",
       "      <td>5.9</td>\n",
       "      <td>15.8</td>\n",
       "      <td>13.8</td>\n",
       "      <td>SSW</td>\n",
       "      <td>61.0</td>\n",
       "      <td>S</td>\n",
       "      <td>SW</td>\n",
       "      <td>13.0</td>\n",
       "      <td>15.0</td>\n",
       "      <td>...</td>\n",
       "      <td>7.0</td>\n",
       "      <td>11.6</td>\n",
       "      <td>14.3</td>\n",
       "      <td>1.0</td>\n",
       "      <td>0.0</td>\n",
       "      <td>2016</td>\n",
       "      <td>9</td>\n",
       "      <td>19</td>\n",
       "      <td>1.0</td>\n",
       "      <td>1.0</td>\n",
       "    </tr>\n",
       "    <tr>\n",
       "      <th>1</th>\n",
       "      <td>GoldCoast</td>\n",
       "      <td>22.1</td>\n",
       "      <td>30.3</td>\n",
       "      <td>0.0</td>\n",
       "      <td>ENE</td>\n",
       "      <td>20.0</td>\n",
       "      <td>ENE</td>\n",
       "      <td>E</td>\n",
       "      <td>11.0</td>\n",
       "      <td>15.0</td>\n",
       "      <td>...</td>\n",
       "      <td>NaN</td>\n",
       "      <td>26.2</td>\n",
       "      <td>27.5</td>\n",
       "      <td>0.0</td>\n",
       "      <td>0.0</td>\n",
       "      <td>2009</td>\n",
       "      <td>12</td>\n",
       "      <td>14</td>\n",
       "      <td>0.0</td>\n",
       "      <td>0.0</td>\n",
       "    </tr>\n",
       "    <tr>\n",
       "      <th>2</th>\n",
       "      <td>Townsville</td>\n",
       "      <td>26.8</td>\n",
       "      <td>33.6</td>\n",
       "      <td>3.4</td>\n",
       "      <td>SSW</td>\n",
       "      <td>43.0</td>\n",
       "      <td>NaN</td>\n",
       "      <td>ENE</td>\n",
       "      <td>0.0</td>\n",
       "      <td>19.0</td>\n",
       "      <td>...</td>\n",
       "      <td>7.0</td>\n",
       "      <td>29.4</td>\n",
       "      <td>30.8</td>\n",
       "      <td>1.0</td>\n",
       "      <td>1.0</td>\n",
       "      <td>2016</td>\n",
       "      <td>2</td>\n",
       "      <td>5</td>\n",
       "      <td>1.0</td>\n",
       "      <td>1.0</td>\n",
       "    </tr>\n",
       "    <tr>\n",
       "      <th>3</th>\n",
       "      <td>Melbourne</td>\n",
       "      <td>9.6</td>\n",
       "      <td>20.0</td>\n",
       "      <td>0.2</td>\n",
       "      <td>N</td>\n",
       "      <td>43.0</td>\n",
       "      <td>N</td>\n",
       "      <td>WNW</td>\n",
       "      <td>19.0</td>\n",
       "      <td>9.0</td>\n",
       "      <td>...</td>\n",
       "      <td>1.0</td>\n",
       "      <td>14.2</td>\n",
       "      <td>15.1</td>\n",
       "      <td>0.0</td>\n",
       "      <td>1.0</td>\n",
       "      <td>2017</td>\n",
       "      <td>5</td>\n",
       "      <td>6</td>\n",
       "      <td>0.0</td>\n",
       "      <td>0.0</td>\n",
       "    </tr>\n",
       "    <tr>\n",
       "      <th>4</th>\n",
       "      <td>Launceston</td>\n",
       "      <td>8.8</td>\n",
       "      <td>24.4</td>\n",
       "      <td>0.0</td>\n",
       "      <td>NW</td>\n",
       "      <td>30.0</td>\n",
       "      <td>ENE</td>\n",
       "      <td>NW</td>\n",
       "      <td>6.0</td>\n",
       "      <td>17.0</td>\n",
       "      <td>...</td>\n",
       "      <td>NaN</td>\n",
       "      <td>14.0</td>\n",
       "      <td>23.9</td>\n",
       "      <td>0.0</td>\n",
       "      <td>0.0</td>\n",
       "      <td>2011</td>\n",
       "      <td>2</td>\n",
       "      <td>23</td>\n",
       "      <td>0.0</td>\n",
       "      <td>0.0</td>\n",
       "    </tr>\n",
       "    <tr>\n",
       "      <th>5</th>\n",
       "      <td>Richmond</td>\n",
       "      <td>-0.2</td>\n",
       "      <td>16.9</td>\n",
       "      <td>0.0</td>\n",
       "      <td>SSE</td>\n",
       "      <td>31.0</td>\n",
       "      <td>NaN</td>\n",
       "      <td>SSE</td>\n",
       "      <td>0.0</td>\n",
       "      <td>24.0</td>\n",
       "      <td>...</td>\n",
       "      <td>NaN</td>\n",
       "      <td>7.6</td>\n",
       "      <td>15.2</td>\n",
       "      <td>0.0</td>\n",
       "      <td>0.0</td>\n",
       "      <td>2012</td>\n",
       "      <td>8</td>\n",
       "      <td>1</td>\n",
       "      <td>0.0</td>\n",
       "      <td>0.0</td>\n",
       "    </tr>\n",
       "    <tr>\n",
       "      <th>6</th>\n",
       "      <td>Ballarat</td>\n",
       "      <td>9.9</td>\n",
       "      <td>20.6</td>\n",
       "      <td>0.0</td>\n",
       "      <td>SSE</td>\n",
       "      <td>57.0</td>\n",
       "      <td>SE</td>\n",
       "      <td>SE</td>\n",
       "      <td>30.0</td>\n",
       "      <td>39.0</td>\n",
       "      <td>...</td>\n",
       "      <td>3.0</td>\n",
       "      <td>14.0</td>\n",
       "      <td>19.6</td>\n",
       "      <td>0.0</td>\n",
       "      <td>0.0</td>\n",
       "      <td>2013</td>\n",
       "      <td>3</td>\n",
       "      <td>1</td>\n",
       "      <td>0.0</td>\n",
       "      <td>0.0</td>\n",
       "    </tr>\n",
       "    <tr>\n",
       "      <th>7</th>\n",
       "      <td>PerthAirport</td>\n",
       "      <td>9.3</td>\n",
       "      <td>26.8</td>\n",
       "      <td>0.0</td>\n",
       "      <td>SE</td>\n",
       "      <td>44.0</td>\n",
       "      <td>NE</td>\n",
       "      <td>S</td>\n",
       "      <td>11.0</td>\n",
       "      <td>13.0</td>\n",
       "      <td>...</td>\n",
       "      <td>1.0</td>\n",
       "      <td>19.1</td>\n",
       "      <td>26.4</td>\n",
       "      <td>0.0</td>\n",
       "      <td>0.0</td>\n",
       "      <td>2017</td>\n",
       "      <td>4</td>\n",
       "      <td>28</td>\n",
       "      <td>0.0</td>\n",
       "      <td>0.0</td>\n",
       "    </tr>\n",
       "    <tr>\n",
       "      <th>8</th>\n",
       "      <td>CoffsHarbour</td>\n",
       "      <td>6.5</td>\n",
       "      <td>19.3</td>\n",
       "      <td>0.0</td>\n",
       "      <td>SW</td>\n",
       "      <td>57.0</td>\n",
       "      <td>NW</td>\n",
       "      <td>WSW</td>\n",
       "      <td>9.0</td>\n",
       "      <td>31.0</td>\n",
       "      <td>...</td>\n",
       "      <td>3.0</td>\n",
       "      <td>16.5</td>\n",
       "      <td>18.1</td>\n",
       "      <td>0.0</td>\n",
       "      <td>0.0</td>\n",
       "      <td>2009</td>\n",
       "      <td>7</td>\n",
       "      <td>3</td>\n",
       "      <td>0.0</td>\n",
       "      <td>0.0</td>\n",
       "    </tr>\n",
       "    <tr>\n",
       "      <th>9</th>\n",
       "      <td>NorahHead</td>\n",
       "      <td>8.8</td>\n",
       "      <td>18.6</td>\n",
       "      <td>15.2</td>\n",
       "      <td>SSW</td>\n",
       "      <td>41.0</td>\n",
       "      <td>WSW</td>\n",
       "      <td>ESE</td>\n",
       "      <td>11.0</td>\n",
       "      <td>7.0</td>\n",
       "      <td>...</td>\n",
       "      <td>NaN</td>\n",
       "      <td>11.5</td>\n",
       "      <td>16.7</td>\n",
       "      <td>1.0</td>\n",
       "      <td>0.0</td>\n",
       "      <td>2016</td>\n",
       "      <td>8</td>\n",
       "      <td>27</td>\n",
       "      <td>0.0</td>\n",
       "      <td>0.0</td>\n",
       "    </tr>\n",
       "  </tbody>\n",
       "</table>\n",
       "<p>10 rows × 24 columns</p>\n",
       "</div>"
      ],
      "text/plain": [
       "       Location  MinTemp  MaxTemp  Rainfall WindGustDir  WindGustSpeed  \\\n",
       "0         Perth      5.9     15.8      13.8         SSW           61.0   \n",
       "1     GoldCoast     22.1     30.3       0.0         ENE           20.0   \n",
       "2    Townsville     26.8     33.6       3.4         SSW           43.0   \n",
       "3     Melbourne      9.6     20.0       0.2           N           43.0   \n",
       "4    Launceston      8.8     24.4       0.0          NW           30.0   \n",
       "5      Richmond     -0.2     16.9       0.0         SSE           31.0   \n",
       "6      Ballarat      9.9     20.6       0.0         SSE           57.0   \n",
       "7  PerthAirport      9.3     26.8       0.0          SE           44.0   \n",
       "8  CoffsHarbour      6.5     19.3       0.0          SW           57.0   \n",
       "9     NorahHead      8.8     18.6      15.2         SSW           41.0   \n",
       "\n",
       "  WindDir9am WindDir3pm  WindSpeed9am  WindSpeed3pm  ...  Cloud9am  Temp9am  \\\n",
       "0          S         SW          13.0          15.0  ...       7.0     11.6   \n",
       "1        ENE          E          11.0          15.0  ...       NaN     26.2   \n",
       "2        NaN        ENE           0.0          19.0  ...       7.0     29.4   \n",
       "3          N        WNW          19.0           9.0  ...       1.0     14.2   \n",
       "4        ENE         NW           6.0          17.0  ...       NaN     14.0   \n",
       "5        NaN        SSE           0.0          24.0  ...       NaN      7.6   \n",
       "6         SE         SE          30.0          39.0  ...       3.0     14.0   \n",
       "7         NE          S          11.0          13.0  ...       1.0     19.1   \n",
       "8         NW        WSW           9.0          31.0  ...       3.0     16.5   \n",
       "9        WSW        ESE          11.0           7.0  ...       NaN     11.5   \n",
       "\n",
       "   Temp3pm  RainToday  RainTomorrow  Year  Month  Day  \\\n",
       "0     14.3        1.0           0.0  2016      9   19   \n",
       "1     27.5        0.0           0.0  2009     12   14   \n",
       "2     30.8        1.0           1.0  2016      2    5   \n",
       "3     15.1        0.0           1.0  2017      5    6   \n",
       "4     23.9        0.0           0.0  2011      2   23   \n",
       "5     15.2        0.0           0.0  2012      8    1   \n",
       "6     19.6        0.0           0.0  2013      3    1   \n",
       "7     26.4        0.0           0.0  2017      4   28   \n",
       "8     18.1        0.0           0.0  2009      7    3   \n",
       "9     16.7        1.0           0.0  2016      8   27   \n",
       "\n",
       "   prediksi_hujan_besok_log  prediksi_hujan_besok_svc  \n",
       "0                       1.0                       1.0  \n",
       "1                       0.0                       0.0  \n",
       "2                       1.0                       1.0  \n",
       "3                       0.0                       0.0  \n",
       "4                       0.0                       0.0  \n",
       "5                       0.0                       0.0  \n",
       "6                       0.0                       0.0  \n",
       "7                       0.0                       0.0  \n",
       "8                       0.0                       0.0  \n",
       "9                       0.0                       0.0  \n",
       "\n",
       "[10 rows x 24 columns]"
      ]
     },
     "execution_count": 98,
     "metadata": {},
     "output_type": "execute_result"
    }
   ],
   "source": [
    "result= pd.concat([df_inf, df_inf_pred], axis=1)\n",
    "result"
   ]
  },
  {
   "cell_type": "code",
   "execution_count": 99,
   "metadata": {},
   "outputs": [
    {
     "data": {
      "text/html": [
       "<div>\n",
       "<style scoped>\n",
       "    .dataframe tbody tr th:only-of-type {\n",
       "        vertical-align: middle;\n",
       "    }\n",
       "\n",
       "    .dataframe tbody tr th {\n",
       "        vertical-align: top;\n",
       "    }\n",
       "\n",
       "    .dataframe thead th {\n",
       "        text-align: right;\n",
       "    }\n",
       "</style>\n",
       "<table border=\"1\" class=\"dataframe\">\n",
       "  <thead>\n",
       "    <tr style=\"text-align: right;\">\n",
       "      <th></th>\n",
       "      <th>MinTemp</th>\n",
       "      <th>MaxTemp</th>\n",
       "      <th>Rainfall</th>\n",
       "      <th>WindGustSpeed</th>\n",
       "      <th>WindSpeed9am</th>\n",
       "      <th>WindSpeed3pm</th>\n",
       "      <th>Humidity9am</th>\n",
       "      <th>Humidity3pm</th>\n",
       "      <th>Pressure9am</th>\n",
       "      <th>Pressure3pm</th>\n",
       "      <th>Cloud9am</th>\n",
       "      <th>Temp9am</th>\n",
       "      <th>Temp3pm</th>\n",
       "      <th>RainToday</th>\n",
       "      <th>RainTomorrow</th>\n",
       "      <th>Year</th>\n",
       "      <th>Month</th>\n",
       "      <th>Day</th>\n",
       "      <th>prediksi_hujan_besok_log</th>\n",
       "      <th>prediksi_hujan_besok_svc</th>\n",
       "    </tr>\n",
       "  </thead>\n",
       "  <tbody>\n",
       "    <tr>\n",
       "      <th>count</th>\n",
       "      <td>10.000000</td>\n",
       "      <td>10.000000</td>\n",
       "      <td>10.000000</td>\n",
       "      <td>10.00000</td>\n",
       "      <td>10.000000</td>\n",
       "      <td>10.000000</td>\n",
       "      <td>10.000000</td>\n",
       "      <td>10.000000</td>\n",
       "      <td>10.000</td>\n",
       "      <td>10.000000</td>\n",
       "      <td>6.000000</td>\n",
       "      <td>10.000000</td>\n",
       "      <td>10.00000</td>\n",
       "      <td>10.000000</td>\n",
       "      <td>10.000000</td>\n",
       "      <td>10.000000</td>\n",
       "      <td>10.000000</td>\n",
       "      <td>10.000000</td>\n",
       "      <td>10.000000</td>\n",
       "      <td>10.000000</td>\n",
       "    </tr>\n",
       "    <tr>\n",
       "      <th>mean</th>\n",
       "      <td>10.750000</td>\n",
       "      <td>22.630000</td>\n",
       "      <td>3.260000</td>\n",
       "      <td>42.70000</td>\n",
       "      <td>11.000000</td>\n",
       "      <td>18.900000</td>\n",
       "      <td>67.300000</td>\n",
       "      <td>51.800000</td>\n",
       "      <td>1018.290</td>\n",
       "      <td>1015.850000</td>\n",
       "      <td>3.666667</td>\n",
       "      <td>16.410000</td>\n",
       "      <td>20.76000</td>\n",
       "      <td>0.300000</td>\n",
       "      <td>0.200000</td>\n",
       "      <td>2013.600000</td>\n",
       "      <td>6.000000</td>\n",
       "      <td>12.700000</td>\n",
       "      <td>0.200000</td>\n",
       "      <td>0.200000</td>\n",
       "    </tr>\n",
       "    <tr>\n",
       "      <th>std</th>\n",
       "      <td>7.885747</td>\n",
       "      <td>5.939893</td>\n",
       "      <td>6.025907</td>\n",
       "      <td>13.17447</td>\n",
       "      <td>8.819171</td>\n",
       "      <td>9.915756</td>\n",
       "      <td>14.345344</td>\n",
       "      <td>19.943253</td>\n",
       "      <td>7.365</td>\n",
       "      <td>7.622518</td>\n",
       "      <td>2.732520</td>\n",
       "      <td>6.775684</td>\n",
       "      <td>5.93936</td>\n",
       "      <td>0.483046</td>\n",
       "      <td>0.421637</td>\n",
       "      <td>3.204164</td>\n",
       "      <td>3.333333</td>\n",
       "      <td>10.842816</td>\n",
       "      <td>0.421637</td>\n",
       "      <td>0.421637</td>\n",
       "    </tr>\n",
       "    <tr>\n",
       "      <th>min</th>\n",
       "      <td>-0.200000</td>\n",
       "      <td>15.800000</td>\n",
       "      <td>0.000000</td>\n",
       "      <td>20.00000</td>\n",
       "      <td>0.000000</td>\n",
       "      <td>7.000000</td>\n",
       "      <td>40.000000</td>\n",
       "      <td>21.000000</td>\n",
       "      <td>1004.100</td>\n",
       "      <td>1000.600000</td>\n",
       "      <td>1.000000</td>\n",
       "      <td>7.600000</td>\n",
       "      <td>14.30000</td>\n",
       "      <td>0.000000</td>\n",
       "      <td>0.000000</td>\n",
       "      <td>2009.000000</td>\n",
       "      <td>2.000000</td>\n",
       "      <td>1.000000</td>\n",
       "      <td>0.000000</td>\n",
       "      <td>0.000000</td>\n",
       "    </tr>\n",
       "    <tr>\n",
       "      <th>25%</th>\n",
       "      <td>7.075000</td>\n",
       "      <td>18.775000</td>\n",
       "      <td>0.000000</td>\n",
       "      <td>33.50000</td>\n",
       "      <td>6.750000</td>\n",
       "      <td>13.500000</td>\n",
       "      <td>64.250000</td>\n",
       "      <td>40.500000</td>\n",
       "      <td>1017.150</td>\n",
       "      <td>1016.150000</td>\n",
       "      <td>1.500000</td>\n",
       "      <td>12.200000</td>\n",
       "      <td>15.57500</td>\n",
       "      <td>0.000000</td>\n",
       "      <td>0.000000</td>\n",
       "      <td>2011.250000</td>\n",
       "      <td>3.250000</td>\n",
       "      <td>3.500000</td>\n",
       "      <td>0.000000</td>\n",
       "      <td>0.000000</td>\n",
       "    </tr>\n",
       "    <tr>\n",
       "      <th>50%</th>\n",
       "      <td>9.050000</td>\n",
       "      <td>20.300000</td>\n",
       "      <td>0.000000</td>\n",
       "      <td>43.00000</td>\n",
       "      <td>11.000000</td>\n",
       "      <td>16.000000</td>\n",
       "      <td>71.000000</td>\n",
       "      <td>53.500000</td>\n",
       "      <td>1020.450</td>\n",
       "      <td>1018.900000</td>\n",
       "      <td>3.000000</td>\n",
       "      <td>14.100000</td>\n",
       "      <td>18.85000</td>\n",
       "      <td>0.000000</td>\n",
       "      <td>0.000000</td>\n",
       "      <td>2014.500000</td>\n",
       "      <td>6.000000</td>\n",
       "      <td>10.000000</td>\n",
       "      <td>0.000000</td>\n",
       "      <td>0.000000</td>\n",
       "    </tr>\n",
       "    <tr>\n",
       "      <th>75%</th>\n",
       "      <td>9.825000</td>\n",
       "      <td>26.200000</td>\n",
       "      <td>2.600000</td>\n",
       "      <td>53.75000</td>\n",
       "      <td>12.500000</td>\n",
       "      <td>22.750000</td>\n",
       "      <td>76.000000</td>\n",
       "      <td>67.500000</td>\n",
       "      <td>1023.300</td>\n",
       "      <td>1020.275000</td>\n",
       "      <td>6.000000</td>\n",
       "      <td>18.450000</td>\n",
       "      <td>25.77500</td>\n",
       "      <td>0.750000</td>\n",
       "      <td>0.000000</td>\n",
       "      <td>2016.000000</td>\n",
       "      <td>8.000000</td>\n",
       "      <td>22.000000</td>\n",
       "      <td>0.000000</td>\n",
       "      <td>0.000000</td>\n",
       "    </tr>\n",
       "    <tr>\n",
       "      <th>max</th>\n",
       "      <td>26.800000</td>\n",
       "      <td>33.600000</td>\n",
       "      <td>15.200000</td>\n",
       "      <td>61.00000</td>\n",
       "      <td>30.000000</td>\n",
       "      <td>39.000000</td>\n",
       "      <td>84.000000</td>\n",
       "      <td>76.000000</td>\n",
       "      <td>1026.300</td>\n",
       "      <td>1022.800000</td>\n",
       "      <td>7.000000</td>\n",
       "      <td>29.400000</td>\n",
       "      <td>30.80000</td>\n",
       "      <td>1.000000</td>\n",
       "      <td>1.000000</td>\n",
       "      <td>2017.000000</td>\n",
       "      <td>12.000000</td>\n",
       "      <td>28.000000</td>\n",
       "      <td>1.000000</td>\n",
       "      <td>1.000000</td>\n",
       "    </tr>\n",
       "  </tbody>\n",
       "</table>\n",
       "</div>"
      ],
      "text/plain": [
       "         MinTemp    MaxTemp   Rainfall  WindGustSpeed  WindSpeed9am  \\\n",
       "count  10.000000  10.000000  10.000000       10.00000     10.000000   \n",
       "mean   10.750000  22.630000   3.260000       42.70000     11.000000   \n",
       "std     7.885747   5.939893   6.025907       13.17447      8.819171   \n",
       "min    -0.200000  15.800000   0.000000       20.00000      0.000000   \n",
       "25%     7.075000  18.775000   0.000000       33.50000      6.750000   \n",
       "50%     9.050000  20.300000   0.000000       43.00000     11.000000   \n",
       "75%     9.825000  26.200000   2.600000       53.75000     12.500000   \n",
       "max    26.800000  33.600000  15.200000       61.00000     30.000000   \n",
       "\n",
       "       WindSpeed3pm  Humidity9am  Humidity3pm  Pressure9am  Pressure3pm  \\\n",
       "count     10.000000    10.000000    10.000000       10.000    10.000000   \n",
       "mean      18.900000    67.300000    51.800000     1018.290  1015.850000   \n",
       "std        9.915756    14.345344    19.943253        7.365     7.622518   \n",
       "min        7.000000    40.000000    21.000000     1004.100  1000.600000   \n",
       "25%       13.500000    64.250000    40.500000     1017.150  1016.150000   \n",
       "50%       16.000000    71.000000    53.500000     1020.450  1018.900000   \n",
       "75%       22.750000    76.000000    67.500000     1023.300  1020.275000   \n",
       "max       39.000000    84.000000    76.000000     1026.300  1022.800000   \n",
       "\n",
       "       Cloud9am    Temp9am   Temp3pm  RainToday  RainTomorrow         Year  \\\n",
       "count  6.000000  10.000000  10.00000  10.000000     10.000000    10.000000   \n",
       "mean   3.666667  16.410000  20.76000   0.300000      0.200000  2013.600000   \n",
       "std    2.732520   6.775684   5.93936   0.483046      0.421637     3.204164   \n",
       "min    1.000000   7.600000  14.30000   0.000000      0.000000  2009.000000   \n",
       "25%    1.500000  12.200000  15.57500   0.000000      0.000000  2011.250000   \n",
       "50%    3.000000  14.100000  18.85000   0.000000      0.000000  2014.500000   \n",
       "75%    6.000000  18.450000  25.77500   0.750000      0.000000  2016.000000   \n",
       "max    7.000000  29.400000  30.80000   1.000000      1.000000  2017.000000   \n",
       "\n",
       "           Month        Day  prediksi_hujan_besok_log  \\\n",
       "count  10.000000  10.000000                 10.000000   \n",
       "mean    6.000000  12.700000                  0.200000   \n",
       "std     3.333333  10.842816                  0.421637   \n",
       "min     2.000000   1.000000                  0.000000   \n",
       "25%     3.250000   3.500000                  0.000000   \n",
       "50%     6.000000  10.000000                  0.000000   \n",
       "75%     8.000000  22.000000                  0.000000   \n",
       "max    12.000000  28.000000                  1.000000   \n",
       "\n",
       "       prediksi_hujan_besok_svc  \n",
       "count                 10.000000  \n",
       "mean                   0.200000  \n",
       "std                    0.421637  \n",
       "min                    0.000000  \n",
       "25%                    0.000000  \n",
       "50%                    0.000000  \n",
       "75%                    0.000000  \n",
       "max                    1.000000  "
      ]
     },
     "execution_count": 99,
     "metadata": {},
     "output_type": "execute_result"
    }
   ],
   "source": [
    "result.describe()"
   ]
  },
  {
   "cell_type": "markdown",
   "metadata": {},
   "source": [
    "# 10. Kesimpulan\n",
    "\n",
    "## Overall Data\n",
    "- data yang di miliki inbalance atau tidak sama porsinya terlalu banyak porsi data `tidak hujan`\n",
    "- data yang di miliki mempunyai banyak sekali missing value\n",
    "- handling outlier digunakan metode capping dan trimming pada dataset kita\n",
    "- feature yang di gunakan untuk memprediksi raintomorrow adalah MinTemp,\tMaxTemp,\tRainfall,\tWindGustSpeed,\tWindSpeed9am,\tWindSpeed3pm,\tHumidity9am,\tHumidity3pm,\tPressure9am,\tPressure3pm,\tCloud9am,\tTemp9am,\tTemp3pm,\tRainToday,\tRainTomorrow,\tYear,Month dan\tDay"
   ]
  },
  {
   "cell_type": "markdown",
   "metadata": {},
   "source": [
    "## Model\n",
    "\n",
    "### Logistic Regression\n",
    "> Hyper Parameter yang di gunakan adalah\n",
    ">    - C = 100\n",
    ">   - penalty = L2\n",
    ">  - solver = saga\n",
    "> - max_iter = 1000\n",
    "\n",
    "> Score\n",
    ">    - Training set score Logistic Regression: 0.8460740228294708\n",
    ">   - Test set score Logistic Regression: 0.8484358886215194\n",
    "\n",
    "### SVM\n",
    "> Hyper Parameter yang di gunakan adalah\n",
    ">    - C = 1.0\n",
    ">   - penalty = L1\n",
    ">  - dual = False\n",
    "> - max_iter = 1000\n",
    "\n",
    "> Score        \n",
    ">    - Training set score SVC: 0.845905506922456\n",
    ">   - Test set score SVC: 0.8483671364730148\n",
    "\n",
    "\n",
    "## Model terbaik\n",
    "> saya menyimpulkan *model yang terbaik adalah model Logistic Regression* "
   ]
  }
 ],
 "metadata": {
  "interpreter": {
   "hash": "8a0314e9a3496969cdc3b628708851b260263268c48c6868778a684e0fdc7ce1"
  },
  "kernelspec": {
   "display_name": "Python 3.9.7 ('base')",
   "language": "python",
   "name": "python3"
  },
  "language_info": {
   "codemirror_mode": {
    "name": "ipython",
    "version": 3
   },
   "file_extension": ".py",
   "mimetype": "text/x-python",
   "name": "python",
   "nbconvert_exporter": "python",
   "pygments_lexer": "ipython3",
   "version": "3.9.7"
  },
  "orig_nbformat": 4
 },
 "nbformat": 4,
 "nbformat_minor": 2
}
